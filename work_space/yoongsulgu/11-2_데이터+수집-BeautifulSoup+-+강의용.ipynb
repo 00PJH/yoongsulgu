{
 "cells": [
  {
   "cell_type": "markdown",
   "metadata": {},
   "source": [
    "# 1. BeautifulSoup - 기본\n",
    "## find 함수\n",
    "## find_all 함수\n",
    "## get_text 함수\n",
    "## 속성값 추출하기"
   ]
  },
  {
   "cell_type": "markdown",
   "metadata": {},
   "source": [
    "## BeautifulSoup 설치\n",
    "- 설치방법\n",
    "    - os.system('pip install beautifulsoup')\n",
    "    - !pip3 install beautifulsoup4\n",
    "    - pip3 install beautifulsoup4"
   ]
  },
  {
   "cell_type": "code",
   "execution_count": 1,
   "metadata": {},
   "outputs": [
    {
     "name": "stdout",
     "output_type": "stream",
     "text": [
      "\u001b[1;31merror\u001b[0m: \u001b[1mexternally-managed-environment\u001b[0m\r\n",
      "\r\n",
      "\u001b[31m×\u001b[0m This environment is externally managed\r\n",
      "\u001b[31m╰─>\u001b[0m To install Python packages system-wide, try apt install\r\n",
      "\u001b[31m   \u001b[0m python3-xyz, where xyz is the package you are trying to\r\n",
      "\u001b[31m   \u001b[0m install.\r\n",
      "\u001b[31m   \u001b[0m \r\n",
      "\u001b[31m   \u001b[0m If you wish to install a non-Debian-packaged Python package,\r\n",
      "\u001b[31m   \u001b[0m create a virtual environment using python3 -m venv path/to/venv.\r\n",
      "\u001b[31m   \u001b[0m Then use path/to/venv/bin/python and path/to/venv/bin/pip. Make\r\n",
      "\u001b[31m   \u001b[0m sure you have python3-full installed.\r\n",
      "\u001b[31m   \u001b[0m \r\n",
      "\u001b[31m   \u001b[0m If you wish to install a non-Debian packaged Python application,\r\n",
      "\u001b[31m   \u001b[0m it may be easiest to use pipx install xyz, which will manage a\r\n",
      "\u001b[31m   \u001b[0m virtual environment for you. Make sure you have pipx installed.\r\n",
      "\u001b[31m   \u001b[0m \r\n",
      "\u001b[31m   \u001b[0m See /usr/share/doc/python3.12/README.venv for more information.\r\n",
      "\r\n",
      "\u001b[1;35mnote\u001b[0m: If you believe this is a mistake, please contact your Python installation or OS distribution provider. You can override this, at the risk of breaking your Python installation or OS, by passing --break-system-packages.\r\n",
      "\u001b[1;36mhint\u001b[0m: See PEP 668 for the detailed specification.\r\n"
     ]
    }
   ],
   "source": [
    "!pip3 install beautifulsoup4"
   ]
  },
  {
   "cell_type": "markdown",
   "metadata": {},
   "source": [
    "### Bs4 official Doc $\\to$ [click me](https://beautiful-soup-4.readthedocs.io/en/latest/#installing-beautiful-soup)\n",
    "### Ask Ubuntu Q&A Blog $\\rightarrow$ [click me](https://askubuntu.com/questions/510214/beautiful-soup-4-not-working-with-python-3-4-0)"
   ]
  },
  {
   "cell_type": "code",
   "execution_count": 1,
   "metadata": {},
   "outputs": [
    {
     "name": "stdout",
     "output_type": "stream",
     "text": [
      "Reading package lists... Done\n",
      "Building dependency tree... Done\n",
      "Reading state information... Done\n",
      "python3-bs4 is already the newest version (4.12.3-1).\n",
      "0 upgraded, 0 newly installed, 0 to remove and 46 not upgraded.\n"
     ]
    }
   ],
   "source": [
    "!sudo apt-get install python3-bs4 -y"
   ]
  },
  {
   "cell_type": "code",
   "execution_count": 2,
   "metadata": {},
   "outputs": [],
   "source": [
    "#import os\n",
    "#os.system('pip install beautifulsoup')\n",
    "#pip install beautifulsoup\n",
    "\n",
    "# 설치 확인\n",
    "import requests\n",
    "from bs4 import BeautifulSoup as bs"
   ]
  },
  {
   "cell_type": "markdown",
   "metadata": {},
   "source": [
    "### HTML Toy Example"
   ]
  },
  {
   "cell_type": "code",
   "execution_count": 4,
   "metadata": {},
   "outputs": [
    {
     "data": {
      "text/html": [
       "<html>\n",
       "  <head>\n",
       "    <title>CJU BeautifulSoup test</title>\n",
       "  </head>\n",
       "  <body>\n",
       "    <div id='upper' class='test1' custom='good'>\n",
       "      <h3 title='CJU AI major Content Title'>Contents Title</h3>\n",
       "      <p>융합SW 설계 및 구현</p>\n",
       "    </div>\n",
       "    <div id='lower' class='test2' custom='nice'>\n",
       "      <p>인공지능소프트웨어: 넘버 1</p>\n",
       "      <p>빅데이터통계: 넘버 2</p>\n",
       "      <p>디지털보안: 넘버 3</p>\n",
       "    </div>\n",
       "  </body>\n",
       "</html>\n"
      ],
      "text/plain": [
       "<IPython.core.display.HTML object>"
      ]
     },
     "metadata": {},
     "output_type": "display_data"
    }
   ],
   "source": [
    "%%html\n",
    "<html>\n",
    "  <head>\n",
    "    <title>CJU BeautifulSoup test</title>\n",
    "  </head>\n",
    "  <body>\n",
    "    <div id='upper' class='test1' custom='good'>\n",
    "      <h3 title='CJU AI major Content Title'>Contents Title</h3>\n",
    "      <p>융합SW 설계 및 구현</p>\n",
    "    </div>\n",
    "    <div id='lower' class='test2' custom='nice'>\n",
    "      <p>인공지능소프트웨어: 넘버 1</p>\n",
    "      <p>빅데이터통계: 넘버 2</p>\n",
    "      <p>디지털보안: 넘버 3</p>\n",
    "    </div>\n",
    "  </body>\n",
    "</html>"
   ]
  },
  {
   "cell_type": "code",
   "execution_count": 3,
   "metadata": {},
   "outputs": [],
   "source": [
    "html = '''\n",
    "<html>\n",
    "  <head>\n",
    "    <title>CJU BeautifulSoup test</title>\n",
    "  </head>\n",
    "  <body>\n",
    "    <div id='upper' class='test1' custom='good'>\n",
    "      <h3 title='CJU AI major Content Title'>Contents Title</h3>\n",
    "      <p>융합SW 설계 및 구현</p>\n",
    "    </div>\n",
    "    <div id='lower' class='test2' custom='nice'>\n",
    "      <p>인공지능소프트웨어: 넘버 1</p>\n",
    "      <p>빅데이터통계: 넘버 2</p>\n",
    "      <p>디지털보안: 넘버 3</p>\n",
    "    </div>\n",
    "  </body>\n",
    "</html>'''"
   ]
  },
  {
   "cell_type": "markdown",
   "metadata": {},
   "source": [
    "## 1.1 find 함수\n",
    " - 특정 html tag를 검색\n",
    " - 검색 조건을 명시하여 찾고자하는 tag를 검색\n",
    " - 조건에 맞는 태그가 여러개라면 첫번째 요소를 Return"
   ]
  },
  {
   "cell_type": "code",
   "execution_count": 6,
   "metadata": {},
   "outputs": [
    {
     "data": {
      "text/plain": [
       "bs4.BeautifulSoup"
      ]
     },
     "execution_count": 6,
     "metadata": {},
     "output_type": "execute_result"
    }
   ],
   "source": [
    "soup = bs(html, 'html.parser')\n",
    "type(soup)"
   ]
  },
  {
   "cell_type": "code",
   "execution_count": 7,
   "metadata": {},
   "outputs": [
    {
     "data": {
      "text/plain": [
       "<h3 title=\"CJU AI major Content Title\">Contents Title</h3>"
      ]
     },
     "execution_count": 7,
     "metadata": {},
     "output_type": "execute_result"
    }
   ],
   "source": [
    "soup.find('h3')"
   ]
  },
  {
   "cell_type": "code",
   "execution_count": 8,
   "metadata": {},
   "outputs": [
    {
     "data": {
      "text/plain": [
       "<p>융합SW 설계 및 구현</p>"
      ]
     },
     "execution_count": 8,
     "metadata": {},
     "output_type": "execute_result"
    }
   ],
   "source": [
    "soup.find('p')"
   ]
  },
  {
   "cell_type": "code",
   "execution_count": 12,
   "metadata": {},
   "outputs": [],
   "source": [
    "attrs = {\n",
    "    'id': 'upper',\n",
    "    'class': 'test1',\n",
    "}\n",
    "temp = soup.find('div', attrs=attrs)"
   ]
  },
  {
   "cell_type": "code",
   "execution_count": 13,
   "metadata": {},
   "outputs": [
    {
     "data": {
      "text/plain": [
       "<div class=\"test2\" custom=\"nice\" id=\"lower\">\n",
       "<p>인공지능소프트웨어: 넘버 1</p>\n",
       "<p>빅데이터통계: 넘버 2</p>\n",
       "<p>디지털보안: 넘버 3</p>\n",
       "</div>"
      ]
     },
     "execution_count": 13,
     "metadata": {},
     "output_type": "execute_result"
    }
   ],
   "source": [
    "temp"
   ]
  },
  {
   "cell_type": "code",
   "execution_count": 10,
   "metadata": {},
   "outputs": [
    {
     "data": {
      "text/plain": [
       "bs4.element.Tag"
      ]
     },
     "execution_count": 10,
     "metadata": {},
     "output_type": "execute_result"
    }
   ],
   "source": [
    "type(temp)"
   ]
  },
  {
   "cell_type": "markdown",
   "metadata": {},
   "source": [
    "## 1.2 find_all 함수\n",
    "- find 함수가 조건에 만족하는 하나의 tag만 검색한다면, find_all은 조건에 맞는 모든 tag를 리스트로 반환"
   ]
  },
  {
   "cell_type": "code",
   "execution_count": 15,
   "metadata": {},
   "outputs": [],
   "source": [
    "div_list = soup.find_all('div')"
   ]
  },
  {
   "cell_type": "code",
   "execution_count": 16,
   "metadata": {},
   "outputs": [
    {
     "data": {
      "text/plain": [
       "[<div class=\"test1\" custom=\"good\" id=\"upper\">\n",
       " <h3 title=\"CJU AI major Content Title\">Contents Title</h3>\n",
       " <p>융합SW 설계 및 구현</p>\n",
       " </div>,\n",
       " <div class=\"test2\" custom=\"nice\" id=\"lower\">\n",
       " <p>인공지능소프트웨어: 넘버 1</p>\n",
       " <p>빅데이터통계: 넘버 2</p>\n",
       " <p>디지털보안: 넘버 3</p>\n",
       " </div>]"
      ]
     },
     "execution_count": 16,
     "metadata": {},
     "output_type": "execute_result"
    }
   ],
   "source": [
    "div_list"
   ]
  },
  {
   "cell_type": "code",
   "execution_count": 18,
   "metadata": {},
   "outputs": [
    {
     "data": {
      "text/plain": [
       "2"
      ]
     },
     "execution_count": 18,
     "metadata": {},
     "output_type": "execute_result"
    }
   ],
   "source": [
    "len(div_list)"
   ]
  },
  {
   "cell_type": "code",
   "execution_count": 19,
   "metadata": {},
   "outputs": [
    {
     "data": {
      "text/plain": [
       "<div class=\"test2\" custom=\"nice\" id=\"lower\">\n",
       "<p>인공지능소프트웨어: 넘버 1</p>\n",
       "<p>빅데이터통계: 넘버 2</p>\n",
       "<p>디지털보안: 넘버 3</p>\n",
       "</div>"
      ]
     },
     "execution_count": 19,
     "metadata": {},
     "output_type": "execute_result"
    }
   ],
   "source": [
    "div_list[1]"
   ]
  },
  {
   "cell_type": "code",
   "execution_count": 14,
   "metadata": {},
   "outputs": [
    {
     "data": {
      "text/plain": [
       "bs4.element.Tag"
      ]
     },
     "execution_count": 14,
     "metadata": {},
     "output_type": "execute_result"
    }
   ],
   "source": [
    "type(div_list[1])"
   ]
  },
  {
   "cell_type": "code",
   "execution_count": 20,
   "metadata": {},
   "outputs": [
    {
     "data": {
      "text/plain": [
       "[<div class=\"test1\" custom=\"good\" id=\"upper\">\n",
       " <h3 title=\"CJU AI major Content Title\">Contents Title</h3>\n",
       " <p>융합SW 설계 및 구현</p>\n",
       " </div>]"
      ]
     },
     "execution_count": 20,
     "metadata": {},
     "output_type": "execute_result"
    }
   ],
   "source": [
    "soup.find_all('div', class_='test1')"
   ]
  },
  {
   "cell_type": "markdown",
   "metadata": {},
   "source": [
    "## 1.3 get_text 함수\n",
    "- tag안의 value를 추출\n",
    "- 부모tag의 경우, 모든 자식 tag의 value를 추출"
   ]
  },
  {
   "cell_type": "code",
   "execution_count": 21,
   "metadata": {},
   "outputs": [],
   "source": [
    "findings = soup.find_all('div')"
   ]
  },
  {
   "cell_type": "code",
   "execution_count": 24,
   "metadata": {},
   "outputs": [
    {
     "data": {
      "text/plain": [
       "bs4.element.Tag"
      ]
     },
     "execution_count": 24,
     "metadata": {},
     "output_type": "execute_result"
    }
   ],
   "source": [
    "findings[1]\n",
    "type(findings[0])"
   ]
  },
  {
   "cell_type": "code",
   "execution_count": 26,
   "metadata": {},
   "outputs": [
    {
     "name": "stdout",
     "output_type": "stream",
     "text": [
      "\n",
      "Contents Title\n",
      "융합SW 설계 및 구현\n",
      "\n",
      "---------------------------------------------\n",
      "\n",
      "인공지능소프트웨어: 넘버 1\n",
      "빅데이터통계: 넘버 2\n",
      "디지털보안: 넘버 3\n",
      "\n",
      "---------------------------------------------\n"
     ]
    }
   ],
   "source": [
    "for tag in findings:\n",
    "    print(tag.get_text())\n",
    "    print('---------' * 5)"
   ]
  },
  {
   "cell_type": "markdown",
   "metadata": {},
   "source": [
    "## 1.4 속성값 추출하기\n",
    " - 경우에 따라 추출하고자 하는 값이 attribute에도 존재함\n",
    " - 이 경우에는 검색한 tag에 attribute 이름을 [ ]연산을 통해 추출가능\n",
    " - 예) div.find('h3')['title']"
   ]
  },
  {
   "cell_type": "code",
   "execution_count": 27,
   "metadata": {},
   "outputs": [],
   "source": [
    "tag = soup.find('h3')"
   ]
  },
  {
   "cell_type": "code",
   "execution_count": 28,
   "metadata": {},
   "outputs": [
    {
     "data": {
      "text/plain": [
       "<h3 title=\"CJU AI major Content Title\">Contents Title</h3>"
      ]
     },
     "execution_count": 28,
     "metadata": {},
     "output_type": "execute_result"
    }
   ],
   "source": [
    "tag"
   ]
  },
  {
   "cell_type": "code",
   "execution_count": 29,
   "metadata": {},
   "outputs": [
    {
     "data": {
      "text/plain": [
       "'Contents Title'"
      ]
     },
     "execution_count": 29,
     "metadata": {},
     "output_type": "execute_result"
    }
   ],
   "source": [
    "tag.get_text()"
   ]
  },
  {
   "cell_type": "code",
   "execution_count": 30,
   "metadata": {},
   "outputs": [
    {
     "data": {
      "text/plain": [
       "'CJU AI major Content Title'"
      ]
     },
     "execution_count": 30,
     "metadata": {},
     "output_type": "execute_result"
    }
   ],
   "source": [
    "tag['title']"
   ]
  },
  {
   "cell_type": "code",
   "execution_count": 31,
   "metadata": {},
   "outputs": [
    {
     "data": {
      "text/plain": [
       "'CJU AI major Content Title'"
      ]
     },
     "execution_count": 31,
     "metadata": {},
     "output_type": "execute_result"
    }
   ],
   "source": [
    "# 한번에 처리\n",
    "soup.find('h3')['title']"
   ]
  },
  {
   "cell_type": "markdown",
   "metadata": {},
   "source": [
    "#### 다음 뉴스 데이터 추출\n",
    "- 뉴스기사에서 제목, 작성자, 작성일, 댓글 개수 추출\n",
    "- [뉴스 홈](https://news.daum.net/) $\\to$ https://v.daum.net/v/20241121110121710\n",
    "- tag를 추출할때는 가장 그 tag를 쉽게 특정할 수 있는 속성을 사용\n",
    "- id의 경우 원칙적으로 한 html 문서 내에서 유일"
   ]
  },
  {
   "cell_type": "markdown",
   "metadata": {},
   "source": [
    "###  뉴스기사: 제목(타이틀) 수집하기"
   ]
  },
  {
   "cell_type": "code",
   "execution_count": 34,
   "metadata": {},
   "outputs": [
    {
     "name": "stdout",
     "output_type": "stream",
     "text": [
      "https://v.daum.net/v/20221107120515635\n"
     ]
    }
   ],
   "source": [
    "# url = 'https://news.v.daum.net/v/20201104105922811'\n",
    "url = 'https://v.daum.net/v/20221107120515635'\n",
    "print(url)"
   ]
  },
  {
   "cell_type": "code",
   "execution_count": 35,
   "metadata": {},
   "outputs": [],
   "source": [
    "resp = requests.get(url)"
   ]
  },
  {
   "cell_type": "code",
   "execution_count": 36,
   "metadata": {
    "collapsed": true
   },
   "outputs": [
    {
     "data": {
      "text/plain": [
       "'<!doctype html>\\n<html class=\"os_window\"> \\n <head data-cloud-area=\"head\"> \\n  <meta charset=\"utf-8\"> \\n  <meta http-equiv=\"X-UA-Compatible\" content=\"IE=edge\"> \\n  <meta name=\"viewport\" content=\"width=device-width,initial-scale=1,maximum-scale=1,user-scalable=no\"> \\n  <meta name=\"format-detection\" content=\"telephone=no\"> \\n  <meta name=\"referrer\" content=\"unsafe-url\"> \\n  <title>서울경찰청장 “집회 때문에 이태원 경찰력 배치 못한 것 아냐”</title> \\n  <link rel=\"shortcut icon\" href=\"//t1.daumcdn.net/top/favicon.ico\"> \\n  <meta property=\"mccp:docId\" content=\"fpdSLZZdI9\"> \\n  <meta property=\"og:site_name\" content=\"다음 - 한겨레\"> \\n  <meta property=\"og:title\" content=\"서울경찰청장 “집회 때문에 이태원 경찰력 배치 못한 것 아냐”\"> \\n  <meta property=\"og:regDate\" content=\"20221107120515\"> \\n  <meta property=\"og:type\" content=\"article\"> \\n  <meta property=\"og:article:author\" content=\"한겨레\"> \\n  <meta property=\"og:url\" content=\"https://v.daum.net/v/20221107120515635\"> \\n  <meta property=\"og:image\" content=\"https://img1.daumcdn.net/thumb/S1200x630/?fname=https://t1.daumcdn.net/news/202211/07/hani/20221107180517222wnvv.jpg\"> \\n  <meta property=\"og:image:width\" content=\"1200\"> \\n  <meta property=\"og:image:height\" content=\"630\"> \\n  <meta property=\"og:description\" content=\"김광호 서울경찰청장이 이태원 참사 당일 밤 안전 관리를 할 경찰이 부족했다는 지적에 대해 “대규모 진보·보수 집회 대비 때문에 경력을 배치하지 못한 것은 아니다”라고 7일 밝혔다. 앞서 이상민 행정안전부 장관이 “서울 시내 곳곳에서 소요와 시위가 있어 경찰 병력이 분산된 측면이 있었다”며 사고 책임을 집회로 떠넘긴 것과는 대조적이다.&nbsp; 김광호 청장은 이날\"> \\n  <meta property=\"al:android:url\" content=\"daumapps://web?url=https%3A%2F%2Fv.daum.net/v/20221107120515635\"> \\n  <meta property=\"al:android:package\" content=\"net.daum.android.daum\"> \\n  <meta property=\"al:android:app_name\" content=\"다음앱\"> \\n  <meta property=\"al:ios:url\" content=\"daumapps://web?url=https%3A%2F%2Fv.daum.net/v/20221107120515635\"> \\n  <meta property=\"al:ios:app_store_id\" content=\"365494029\"> \\n  <meta property=\"al:ios:app_name\" content=\"다음앱\"> \\n  <meta property=\"twitter:card\" content=\"summary_large_image\"> \\n  <meta property=\"twitter:app:url:googleplay\" content=\"daumapps://web?url=https%3A%2F%2Fv.daum.net/v/20221107120515635\"> \\n  <meta property=\"twitter:app:id:googleplay\" content=\"net.daum.android.daum\"> \\n  <meta property=\"twitter:app:name:googleplay\" content=\"다음앱\"> \\n  <meta property=\"twitter:app:country\" content=\"KR\"> \\n  <meta property=\"twitter:app:url:iphone\" content=\"daumapps://web?url=https%3A%2F%2Fv.daum.net/v/20221107120515635\"> \\n  <meta property=\"twitter:app:id:iphone\" content=\"365494029\"> \\n  <meta property=\"twitter:app:name:iphone\" content=\"다음앱\"> \\n  <meta property=\"twitter:app:url:ipad\" content=\"daumapps://web?url=https%3A%2F%2Fv.daum.net/v/20221107120515635\"> \\n  <meta property=\"twitter:app:id:ipad\" content=\"365494029\"> \\n  <meta property=\"twitter:app:name:ipad\" content=\"다음앱\">  \\n </head> \\n <body> \\n  <link rel=\"preload\" href=\"https://t1.daumcdn.net/harmony_static/font/SF-UI-Display-Regular.woff\" as=\"font\" type=\"font/woff\" crossorigin> \\n  <link rel=\"preload\" href=\"https://t1.daumcdn.net/harmony_static/font/SF-UI-Display-Medium.woff\" as=\"font\" type=\"font/woff\" crossorigin> \\n  <link rel=\"preload\" href=\"https://t1.daumcdn.net/harmony_static/font/SF-UI-Display-Bold.woff\" as=\"font\" type=\"font/woff\" crossorigin> \\n  <link rel=\"stylesheet\" type=\"text/css\" href=\"//t1.daumcdn.net/harmony_static/cloud/2024/07/25/common.b50fbd0462cc98d05ac7.css\">  \\n  <link rel=\"stylesheet\" type=\"text/css\" href=\"//t1.daumcdn.net/harmony_static/cloud/page/986d932844d1a5e6fbf4cd78794415dc5c1173541728536587047.css\">  \\n  <link rel=\"preconnect\" href=\"https://hades-cerberus.v.daum.net\"> \\n  <link rel=\"preconnect\" href=\"https://hades-proxy.v.daum.net\">         \\n  <div id=\"kakaoWrap\" class=\"container-doc wrap_view\" data-tiara-layer=\"pc_news\"> \\n   <header id=\"kakaoHead\" class=\"doc-header\" data-cloud-area=\"header\"> \\n    <div class=\"head_top\" data-tiara-layer=\"news_header_gnb\" data-cloud=\"newsview_pc_gnb\"> \\n     <h1 class=\"doc-title\"> <a href=\"//daum.net\" class=\"link_daum\" data-tiara=\"로고\" data-tiara-action-name=\"GNB다음로고_클릭\"> <img src=\"//t1.daumcdn.net/media/common/newsview_2021/pc/rtn/logo_daum.png\" width=\"44\" height=\"18\" class=\"logo_daum\" alt=\"Daum\"> </a> <a href=\"https://v.daum.net/channel/17/home\" id=\"kakaoServiceLogo\" data-tiara=\"언론사명\" data-tiara-action-name=\"GNB언론사명_클릭\">한겨레</a> </h1> \\n     <div class=\"alarm_util\"></div> \\n    </div>   \\n   </header> \\n   <main id=\"kakaoContent\" class=\"doc-main\"> \\n    <section class=\"inner-main\"> \\n     <h2 class=\"screen_out\">사회</h2> \\n     <div class=\"main-content\" data-cloud-area=\"addition\"> \\n      <article id=\"mArticle\" class=\"box_view\" data-cloud-area=\"article\"> \\n       <div class=\"head_view\" data-tiara-layer=\"article_head\" data-cloud=\"newsview_pc_article_head\"> \\n        <h3 class=\"tit_view\" data-translation=\"true\">서울경찰청장 “집회 때문에 이태원 경찰력 배치 못한 것 아냐”</h3> \\n        <div class=\"info_view\"> <span class=\"txt_info\">곽진산</span> <span class=\"txt_info\"><span class=\"num_date\">2022. 11. 7. 12:05</span></span> \\n        </div>  \\n        <div class=\"util_wrap\">  \\n         <div class=\"util_view\"> \\n          <div class=\"item_util\" data-tiara-action-name=\"헤드요약_클릭\"> <button type=\"button\" class=\"btn_util btn_synop\" data-tiara=\"요약보기\"> <span class=\"ico_view\">요약보기</span> </button>  \\n           <div id=\"digestViewLayer\" class=\"view_layer\"> \\n            <div class=\"inner_view_layer inner_synop_layer\"> \\n             <div class=\"layer_head\"> <strong class=\"tit_layer\" data-translation=\"true\">자동요약</strong> <span class=\"info_layer\" data-translation=\"true\">기사 제목과 주요 문장을 기반으로 자동요약한 결과입니다.<br> 전체 맥락을 이해하기 위해서는 본문 보기를 권장합니다.</span> \\n             </div> \\n             <div class=\"layer_body\" data-translation=\"true\"> \\n              <p>김광호 서울경찰청장이 이태원 참사 당일 밤 안전 관리를 할 경찰이 부족했다는 지적에 대해 \"대규모 진보·보수 집회 대비 때문에 경력을 배치하지 못한 것은 아니다\"라고 7일 밝혔다.</p>\\n              <p>앞서 이상민 행정안전부 장관이 \"서울 시내 곳곳에서 소요와 시위가 있어 경찰 병력이 분산된 측면이 있었다\"며 사고 책임을 집회로 떠넘긴 것과는 대조적이다.</p> \\n             </div> \\n             <div class=\"layer_foot\"> <a href=\"#none\" class=\"link_close\" data-tiara=\"요약닫기\"> <span class=\"ico_view\">닫기</span> </a> \\n             </div> \\n            </div> \\n           </div>  \\n          </div> \\n          <div class=\"item_util\" data-tiara-action-name=\"헤드음성_클릭\"> <button type=\"button\" class=\"btn_util btn_tts\" data-tiara=\"음성버튼\"> <span class=\"ico_view\">음성으로 듣기</span> </button>  \\n           <div id=\"ttsViewLayer\" class=\"view_layer\"> \\n            <div class=\"inner_view_layer inner_tts_layer\"> \\n             <div class=\"layer_head\"> <strong class=\"tit_layer\">음성재생 설정</strong> \\n             </div> \\n             <div class=\"layer_body\"> \\n              <ul class=\"list_tts\"> \\n               <li> <input type=\"radio\" id=\"inpMale\" name=\"inpGender\" class=\"inp_tts\" value=\"Male\"> <label class=\"lab_tts\" for=\"inpMale\"> <span class=\"ico_view\"></span>남성 </label> </li> \\n               <li> <input type=\"radio\" id=\"inpFemale\" name=\"inpGender\" class=\"inp_tts\" value=\"Female\"> <label class=\"lab_tts\" for=\"inpFemale\"> <span class=\"ico_view\"></span>여성 </label> </li> \\n              </ul> \\n              <ul class=\"list_tts\"> \\n               <li> <input type=\"radio\" id=\"inpSlow\" name=\"inpSpeed\" class=\"inp_tts\" value=\"slow\"> <label class=\"lab_tts\" for=\"inpSlow\"> <span class=\"ico_view\"></span>느림 </label> </li> \\n               <li> <input type=\"radio\" id=\"inpNormal\" name=\"inpSpeed\" class=\"inp_tts\" value=\"normal\"> <label class=\"lab_tts\" for=\"inpNormal\"> <span class=\"ico_view\"></span>보통 </label> </li> \\n               <li> <input type=\"radio\" id=\"inpFast\" name=\"inpSpeed\" class=\"inp_tts\" value=\"fast\"> <label class=\"lab_tts\" for=\"inpFast\"> <span class=\"ico_view\"></span>빠름 </label> </li> \\n              </ul> <button type=\"button\" class=\"btn_play\" data-tiara=\"음성_재생하기\">음성 재생하기</button> \\n             </div> \\n             <div class=\"layer_foot\"> <a href=\"#none\" class=\"link_close\" data-tiara=\"음성_재생중지\"> <span class=\"ico_view\">닫기</span> </a> \\n             </div> \\n            </div> \\n           </div> <button type=\"button\" class=\"btn_soundplay\" data-tiara=\"음성_재생중지\">  <span class=\"ico_sound\"></span>음성 재생 <span class=\"ico_view ico_close\">중지</span> </button> \\n           <audio style=\"display:none\" preload=\"none\" id=\"ttsPlayer\"></audio>  \\n          </div>  \\n          <div class=\"item_util\" data-tiara-action-name=\"헤드번역_클릭\"> <button id=\"btnTranslate\" type=\"button\" class=\"btn_util btn_translate\" data-tiara=\"번역설정\"> <span class=\"ico_view\">번역 설정</span> </button> \\n           <div id=\"layerTranslate\" class=\"view_layer\"> \\n            <div class=\"inner_view_layer inner_translate_layer\"> \\n             <div class=\"layer_head\"> <strong class=\"tit_layer\">번역<em class=\"ico_view\">beta</em></strong> <span class=\"info_translate ico_view\">Translated by <a href=\"https://kakao.ai/\" class=\"link_kakaoi\">kaka i</a></span> \\n             </div> \\n             <div class=\"layer_body\"> \\n              <ul class=\"list_lang\"> \\n               <li> <button type=\"button\" class=\"btn_lang btn_translate_target_lang\" name=\"kr\" data-tiara=\"한국어\"> <strong class=\"tit_lang tit_selected\">한국어</strong> <span class=\"txt_lang\">-</span> </button> </li> \\n               <li> <button type=\"button\" class=\"btn_lang btn_translate_target_lang\" name=\"en\" data-tiara=\"영어\"> <strong class=\"tit_lang\">English</strong> <span class=\"txt_lang\">영어</span> </button> </li> \\n               <li> <button type=\"button\" class=\"btn_lang btn_translate_target_lang\" name=\"jp\" data-tiara=\"일본어\"> <strong class=\"tit_lang\">日本語</strong> <span class=\"txt_lang\">일본어</span> </button> </li> \\n               <li> <button type=\"button\" class=\"btn_lang btn_translate_target_lang\" name=\"cn\" data-tiara=\"중국어\"> <strong class=\"tit_lang\">简体中文</strong> <span class=\"txt_lang\">중국어</span> </button> </li> \\n               <li> <button type=\"button\" class=\"btn_lang btn_translate_target_lang\" name=\"nl\" data-tiara=\"네덜란드어\"> <strong class=\"tit_lang\">Nederlands</strong> <span class=\"txt_lang\">네델란드어</span> </button> </li> \\n               <li> <button type=\"button\" class=\"btn_lang btn_translate_target_lang\" name=\"de\" data-tiara=\"독일어\"> <strong class=\"tit_lang\">Deutsch</strong> <span class=\"txt_lang\">독일어</span> </button> </li> \\n               <li> <button type=\"button\" class=\"btn_lang btn_translate_target_lang\" name=\"ru\" data-tiara=\"러시아어\"> <strong class=\"tit_lang\">Русский</strong> <span class=\"txt_lang\">러시아어</span> </button> </li> \\n               <li> <button type=\"button\" class=\"btn_lang btn_translate_target_lang\" name=\"ms\" data-tiara=\"말레이시아어\"> <strong class=\"tit_lang\">Malaysia</strong> <span class=\"txt_lang\">말레이시아어</span> </button> </li> \\n               <li> <button type=\"button\" class=\"btn_lang btn_translate_target_lang\" name=\"bn\" data-tiara=\"벵골어\"> <strong class=\"tit_lang\">বাঙ্গোল ভাষা</strong> <span class=\"txt_lang\">벵골어</span> </button> </li> \\n               <li> <button type=\"button\" class=\"btn_lang btn_translate_target_lang\" name=\"vi\" data-tiara=\"베트남어\"> <strong class=\"tit_lang\">tiếng Việt</strong> <span class=\"txt_lang\">베트남어</span> </button> </li> \\n               <li> <button type=\"button\" class=\"btn_lang btn_translate_target_lang\" name=\"es\" data-tiara=\"스페인어\"> <strong class=\"tit_lang\">Español</strong> <span class=\"txt_lang\">스페인어</span> </button> </li> \\n               <li> <button type=\"button\" class=\"btn_lang btn_translate_target_lang\" name=\"ar\" data-tiara=\"아랍어\"> <strong class=\"tit_lang\">اللغة العربية</strong> <span class=\"txt_lang\">아랍어</span> </button> </li> \\n               <li> <button type=\"button\" class=\"btn_lang btn_translate_target_lang\" name=\"it\" data-tiara=\"이탈리아어\"> <strong class=\"tit_lang\">Italiano</strong> <span class=\"txt_lang\">이탈리아어</span> </button> </li> \\n               <li> <button type=\"button\" class=\"btn_lang btn_translate_target_lang\" name=\"id\" data-tiara=\"인도네시아어\"> <strong class=\"tit_lang\">bahasa Indonesia</strong> <span class=\"txt_lang\">인도네시아어</span> </button> </li> \\n               <li> <button type=\"button\" class=\"btn_lang btn_translate_target_lang\" name=\"th\" data-tiara=\"태국어\"> <strong class=\"tit_lang\">ภาษาไทย</strong> <span class=\"txt_lang\">태국어</span> </button> </li> \\n               <li> <button type=\"button\" class=\"btn_lang btn_translate_target_lang\" name=\"tr\" data-tiara=\"튀르키에어\"> <strong class=\"tit_lang\">Türkçe</strong> <span class=\"txt_lang\">튀르키에어</span> </button> </li> \\n               <li> <button type=\"button\" class=\"btn_lang btn_translate_target_lang\" name=\"pt\" data-tiara=\"포르투갈어\"> <strong class=\"tit_lang\">Português</strong> <span class=\"txt_lang\">포르투갈어</span> </button> </li> \\n               <li> <button type=\"button\" class=\"btn_lang btn_translate_target_lang\" name=\"fr\" data-tiara=\"프랑스어\"> <strong class=\"tit_lang\">Français</strong> <span class=\"txt_lang\">프랑스어</span> </button> </li> \\n               <li> <button type=\"button\" class=\"btn_lang btn_translate_target_lang\" name=\"hi\" data-tiara=\"힌디어\"> <strong class=\"tit_lang\">हिन्दी</strong> <span class=\"txt_lang\">힌디어</span> </button> </li> \\n              </ul> \\n             </div> \\n             <div class=\"layer_foot\"> <a id=\"btnTranslateClose\" href=\"#none\" class=\"link_close\" data-tiara=\"번역닫기\"> <span class=\"ico_view\">닫기</span> </a> \\n             </div> \\n            </div> \\n           </div> \\n           <div id=\"layerTranslating\" class=\"loading_layer\" style=\"display:none\"> \\n            <div class=\"inner_loading_layer\"> <span class=\"ico_view ico_loading\"></span> <strong class=\"tit_translate\">번역중</strong> <span class=\"ico_view txt_translate\">Now in translation</span> \\n            </div> \\n           </div> \\n          </div>   \\n          <div class=\"item_util\" data-tiara-action-name=\"헤드글씨크기_클릭\"> <button type=\"button\" class=\"btn_util btn_font\" data-tiara=\"글씨크기_조절하기\"> <span class=\"ico_view\">글씨크기 조절하기</span> </button> \\n           <div class=\"view_layer\"> \\n            <div class=\"inner_view_layer inner_fs_layer\"> \\n             <div class=\"layer_head\"> <strong class=\"tit_layer\">글자크기 설정</strong> <span class=\"info_layer\">파란원을 좌우로 움직이시면 글자크기가 변경 됩니다.</span> \\n             </div> \\n             <div class=\"layer_body\"> \\n              <div class=\"set_fs\"> <span class=\"txt_fs txt_small\" aria-hidden=\"true\">가</span> \\n               <ul class=\"list_fs\">  \\n                <li> <input type=\"radio\" id=\"inpFont1\" name=\"inpFont\" class=\"inp_fs\" value=\"17\" checked> <label class=\"lab_fs\" for=\"inpFont1\">매우 작은 폰트</label> </li> \\n                <li> <input type=\"radio\" id=\"inpFont2\" name=\"inpFont\" class=\"inp_fs\" value=\"18\"> <label class=\"lab_fs\" for=\"inpFont2\">작은 폰트</label> </li> \\n                <li> <input type=\"radio\" id=\"inpFont3\" name=\"inpFont\" class=\"inp_fs\" value=\"19\"> <label class=\"lab_fs\" for=\"inpFont3\">보통 폰트</label> </li> \\n                <li> <input type=\"radio\" id=\"inpFont4\" name=\"inpFont\" class=\"inp_fs\" value=\"21\"> <label class=\"lab_fs\" for=\"inpFont4\">큰 폰트</label> </li> \\n                <li> <input type=\"radio\" id=\"inpFont5\" name=\"inpFont\" class=\"inp_fs\" value=\"23\"> <label class=\"lab_fs\" for=\"inpFont5\">매우 큰 폰트</label> </li> \\n               </ul> <span class=\"txt_fs txt_big\" aria-hidden=\"true\">가</span> \\n              </div> \\n              <div class=\"set_view fs_type1\"> \\n               <p>이 글자크기로 변경됩니다.</p> \\n               <p>(예시) 가장 빠른 뉴스가 있고 다양한 정보, 쌍방향 소통이 숨쉬는 다음뉴스를 만나보세요. 다음뉴스는 국내외 주요이슈와 실시간 속보, 문화생활 및 다양한 분야의 뉴스를 입체적으로 전달하고 있습니다.</p> \\n              </div> \\n             </div> \\n             <div class=\"layer_foot\"> <a href=\"#none\" class=\"link_close\" data-tiara=\"글씨크기_닫기\"> <span class=\"ico_view\">닫기</span> </a> \\n             </div> \\n            </div> \\n           </div> \\n          </div> \\n          <div class=\"item_util\"> <button type=\"button\" class=\"btn_util btn_print\" data-tiara-action-name=\"헤드인쇄_클릭\" data-tiara=\"인쇄하기\"> <span class=\"ico_view\">인쇄하기</span> </button> \\n          </div> \\n         </div>  \\n        </div>  \\n       </div>       \\n       <div class=\"news_view fs_type1\" data-cloud=\"article_body\">      \\n        <div id=\"layerTranslateNotice\" style=\"display:none;\"></div>  <strong class=\"summary_view\" data-translation=\"true\">[이태원 참사]“곳곳 시위 있어 경찰력 분산” 이상민 장관 입장과 대조</strong> \\n        <div class=\"article_view\" data-translation-body=\"true\" data-tiara-layer=\"article_body\" data-tiara-action-name=\"본문이미지확대_클릭\"> \\n         <section dmcf-sid=\"8ev9Yxxvwb\">\\n          <figure class=\"figure_frm origin_fig\" dmcf-pid=\"WknVrRRyDi\" dmcf-ptype=\"figure\">\\n           <p class=\"link_figure\"><img alt=\"김광호 서울지방경찰청장이 7일 오후 국회에서 열린 행정안전위원회에서 답변을 하고 있다.김경호 선임기자 jijae@hani.co.kr\" class=\"thumb_g_article\" data-org-src=\"https://t1.daumcdn.net/news/202211/07/hani/20221107180517222wnvv.jpg\" data-org-width=\"970\" dmcf-mid=\"yLVXMUUNsn\" dmcf-mtype=\"image\" height=\"auto\" src=\"https://img4.daumcdn.net/thumb/R658x0.q70/?fname=https://t1.daumcdn.net/news/202211/07/hani/20221107180517222wnvv.jpg\" width=\"658\"></p>\\n           <figcaption class=\"txt_caption default_figure\">\\n            김광호 서울지방경찰청장이 7일 오후 국회에서 열린 행정안전위원회에서 답변을 하고 있다.김경호 선임기자 jijae@hani.co.kr\\n           </figcaption>\\n          </figure>\\n          <p dmcf-pid=\"WmWCkUUNso\" dmcf-ptype=\"general\">김광호 서울경찰청장이 이태원 참사 당일 밤 안전 관리를 할 경찰이 부족했다는 지적에 대해 “대규모 진보·보수 집회 대비 때문에 경력을 배치하지 못한 것은 아니다”라고 7일 밝혔다. 앞서 이상민 행정안전부 장관이 “서울 시내 곳곳에서 소요와 시위가 있어 경찰 병력이 분산된 측면이 있었다”며 사고 책임을 집회로 떠넘긴 것과는 대조적이다.&nbsp;</p>\\n          <p dmcf-pid=\"YtbpHRRywL\" dmcf-ptype=\"general\">김광호 청장은 이날 오전 이태원 참사와 관련한 서면 기자간담회에서 취재진 질문에 이같이 답했다. 김 청장은 “112 신고 접수 이후 상황의 심각성을 인지하지 못해 즉각적인 조처를 못한 점에 대해 매우 안타깝게 생각한다. 서울 경찰의 대응이 미흡했던 점에 대해 책임을 통감한다”고 했다.</p>\\n          <p dmcf-pid=\"GFKUXeeWsn\" dmcf-ptype=\"general\">김 청장은 참사 발생 사실을 늦게 인지한 이유로 이임재 전 용산 경찰서장의 보고가 지연됐기 때문이라고 밝혔다. 서울경찰청은 앞서 김 청장이 29일 밤 11시36분 처음 보고를 받았다고 밝힌 바 있다. 김 청장은 “서울청 상황실은 29일 밤 22시59분 소방으로부터 전화를 받고 사고 사실을 확인한 후 용산경찰서에 현장 상황 파악 및 보고를 지시했다. 30일 자정 0시 2분 경찰청 상황실로 보고한 것으로 알고 있다”고 했다. 다만 “정확한 인지 시간이나 조처는 수사와 감찰 조사를 통해 확인 중에 있다”고 덧붙였다.</p>\\n          <p dmcf-pid=\"HHu1T66hOi\" dmcf-ptype=\"general\">소방당국이 15차례나 경찰 인력 및 교통통제를 요청했는데도 경찰이 소극적으로 대응했다는 지적에 대해 김 청장은 “현장 상황을 정확히 인식하지 못해 인력을 투입할 판단을 하지 못했다”고 책임을 인정했다. 또 사고가 발생하기 전 11건의 112 신고 중 현장 출동한 4건에 대해 경력 지원을 요청하지 않는 것에 대해 “신고 내용에 대해 조처를 했으나 근무자들은 사고가 발생하리라 예견하지 못했다”고 답변했다.</p>\\n          <p dmcf-pid=\"X78b3oo5mJ\" dmcf-ptype=\"general\">이날 경찰청 특별수사본부는 핼러윈을 앞두고 안전사고를 우려하는 내용의 정보보고서를 묵살·삭제한 의혹을 받는 용산경찰서 정보과장과 정보계장을 피의자로 입건했다. 김 청장은 용산경찰서에서 안전사고를 우려하는 보고서가 서울청에 제출됐지만, 이번 대책에 반영되지 않는 것과 관련해선 “용산서 정보과는 자체 종합 치안대책에 동일한 내용이 반영돼 있다고 생각해 별도의 조치를 하지 않은 것으로 알고 있다. 자료를 열람한 서울청 담당자도 보고서 내용이 일반적으로 예상할 수 있는 수준이라 판단해 별다른 추가조처를 하지 않았다”고 했다.</p>\\n          <p dmcf-pid=\"Z6LM2mmBOd\" dmcf-ptype=\"general\">김 청장은 “현재 진행 중인 경찰청의 감찰 조사와 수사에 적극 협조할 것”이라며 “어려운 현장 여건 속에서도 최선을 다해 준 동료 경찰관들에게 미안한 마음을 전한다”고 덧붙였다.</p>\\n          <p dmcf-pid=\"5Hu1T66hme\" dmcf-ptype=\"general\">곽진산 기자 kjs@hani.co.kr</p>\\n         </section> \\n        </div> \\n        <p class=\"\" data-translation=\"true\">Copyright © 한겨레신문사 All Rights Reserved. 무단 전재, 재배포, AI 학습 및 활용 금지</p> \\n       </div>   \\n       <div class=\"emotion_wrap\" data-cloud=\"newsview_alex_action_emotion\"> \\n        <div class=\"emotion_tit\"> <strong class=\"tit_emotion\">이 기사에 대해 어떻게 생각하시나요?</strong> \\n        </div> \\n        <div class=\"emotion_list\" data-tiara-layer=\"alex_action_emotion\"> \\n         <div id=\"alex_action_emotion\" class=\"alex-actions\" data-client-id=\"26BXAvKny5WF5Z09lr5k77Y8\" data-item-key=\"20221107120515635\" data-action-mode=\"REACTION\" data-message-channel=\"alex-action-reactions\"> \\n         </div> \\n        </div> \\n       </div>   \\n       <div class=\"viewrelate_wrap\" data-cloud=\"newsview_pc_related_news\"> \\n        <div class=\"viewrelate_tit\"> <strong class=\"tit_viewrelate\">한겨레에서 직접 확인하세요.</strong> <span class=\"txt_viewrelate\">해당 언론사로 이동합니다.</span> \\n        </div> \\n        <ul class=\"list_viewrelate\" data-tiara-ordnum-layer data-tiara-layer=\"media_related_news\" data-tiara-action-name=\"본문아웃링크_클릭\" data-tiara-action-kind=\"ClickContent\"> \\n         <li> <a href=\"https://www.hani.co.kr/arti/politics/politics_general/1066108.html\" class=\"link_txt\" target=\"_blank\" data-type=\"related\" data-tiara=\"리스트\"> [단독] 대통령실 이전 뒤 ‘초과근무 1만시간’ 폭증한 용산경찰 교통과 </a> </li> \\n         <li> <a href=\"https://www.hani.co.kr/arti/politics/politics_general/1066085.html\" class=\"link_txt\" target=\"_blank\" data-type=\"related\" data-tiara=\"리스트\"> [영상] 손놨던 용산구청장 “구조했으나 역부족”…귀를 의심 </a> </li> \\n         <li> <a href=\"https://www.hani.co.kr/arti/politics/politics_general/1066107.html\" class=\"link_txt\" target=\"_blank\" data-type=\"related\" data-tiara=\"리스트\"> 대통령실 전화 안 받은 용산경찰서장, 답신도 안 했다 </a> </li> \\n         <li> <a href=\"https://www.hani.co.kr/arti/politics/assembly/1066126.html\" class=\"link_txt\" target=\"_blank\" data-type=\"related\" data-tiara=\"리스트\"> 금태섭 “대통령실이 ‘경찰이 저랬어요’ 하면 국민은 기막혀” </a> </li> \\n         <li> <a href=\"https://www.hani.co.kr/arti/society/labor/1066086.html\" class=\"link_txt\" target=\"_blank\" data-type=\"related\" data-tiara=\"리스트\"> 서울 1~8호선 ‘심야 연장’하는데 인력 구조조정?…총파업 예고 </a> </li> \\n         <li> <a href=\"https://www.hani.co.kr/arti/society/society_general/1066047.html\" class=\"link_txt\" target=\"_blank\" data-type=\"related\" data-tiara=\"리스트\"> 경찰 ‘시민보다 대통령실’ 올인…참사는 그때부터 시작됐다 </a> </li> \\n         <li> <a href=\"https://www.hani.co.kr/arti/politics/assembly/1066079.html\" class=\"link_txt\" target=\"_blank\" data-type=\"related\" data-tiara=\"리스트\"> 사퇴 안 한다는 행안장관 “주어진 위치서 최선 다할 것” </a> </li> \\n         <li> <a href=\"https://www.hani.co.kr/arti/society/health/1066077.html\" class=\"link_txt\" target=\"_blank\" data-type=\"related\" data-tiara=\"리스트\"> “친누이가 질병청장”…기업 지원서에 ‘가족 찬스’ 쓴 백경란 동생 </a> </li> \\n         <li> <a href=\"https://www.hani.co.kr/arti/politics/politics_general/1066028.html\" class=\"link_txt\" target=\"_blank\" data-type=\"related\" data-tiara=\"리스트\"> 국힘, 이태원 참사에 촛불집회 탓…“민주당이 사과하라” 궤변 </a> </li> \\n         <li> <a href=\"https://www.hani.co.kr/arti/culture/culture_general/1066044.html\" class=\"link_txt\" target=\"_blank\" data-type=\"related\" data-tiara=\"리스트\"> ‘씨네21’ 정훈이 만화가님 고맙습니다…남기남은 영원히 우리 곁에 </a> </li> \\n        </ul> \\n       </div> \\n       <div class=\"ad_wrap\" data-cloud=\"pc_dynamic_article_bottom_ad\"> \\n        <ins class=\"kakao_ad_area recomm_ad\" style=\"display: block; text-decoration: none; height: 120px; max-height: inherit; min-height: 120px; min-width: 655px; width: 655px;\" data-ad-unit=\"DAN-28ewRUAQYNwThl1H\" data-ad-param-channel=\"harmony\" data-ad-param-cp=\"17_pc_media_news\" data-ad-width=\"655\" data-ad-height=\"120\" data-ad-onfail=\"removeParentElement\" data-ad-onload=\"sendAbBucketLog\" data-ab-bucket=\"pc_article_bottom_ad\" data-ab-bucket-type=\"adfit\"></ins> \\n       </div> \\n      </article> \\n      <div id=\"related_post_by_news\" class=\"box_cluster box_news_post fold\" style=\"display:none;\" data-cloud=\"newsview_related_post\"></div>  \\n      <div class=\"ttalk_view\" style=\"display:none;\" data-cloud=\"newsview_pc_timetalk\"> \\n       <div class=\"inner_ttalk\"> \\n        <div class=\"ttalk_tit\"> <strong class=\"tit_ttalk\">타임톡<span class=\"ico_view ico_beta\">beta</span></strong> <span class=\"txt_info\"></span> \\n        </div> \\n        <p class=\"txt_ttalk\"> 이 뉴스에 대해 의견을 나눠보세요. <br> 톡방 종료까지 <em class=\"num_ttalk\"><span class=\"txt_g\">00</span>:<span class=\"txt_g\">00</span>:<span class=\"txt_g\">00</span></em> 남았습니다. </p> <a href=\"\" class=\"link_ttalkgo\" data-tiara-layer=\"timetalk\" data-tiara-action-name=\"타임톡\" data-tiara-action-kind=\"ClickContent\"> <span class=\"ico_view ico_ttalk\">타임톡 </span>참여하기 </a> \\n       </div> \\n      </div>   \\n     </div> \\n     <aside class=\"main-etc\" data-cloud-area=\"aside\"> \\n      <div class=\"box_cluster box_ad\" data-cloud=\"pc_dynamic_aside_top_ad\"> \\n       <ins style=\"display: block; width: 300px; height: 250px; text-decoration: none; max-height: inherit; min-height: 250px; min-width: 300px;\" class=\"kakao_ad_area aside_g aside_ad\" data-ad-unit=\"05d24\" data-ad-param-channel=\"harmony\" data-ad-param-cp=\"17_pc_media_news\" data-ad-width=\"300\" data-ad-height=\"250\" data-ad-onfail=\"removeParentElement\" data-ad-onload=\"sendAbBucketLog\" data-ab-bucket=\"pc_aside_top_ad\" data-ab-bucket-type=\"adfit\"></ins> \\n      </div> \\n      <div id=\"news_related_query_comp\" class=\"box_cluster box_search_keyword\" data-tiara-action-kind=\"ClickContent\" data-tiara-action-name=\"검색어_클릭\" data-tiara-layer=\"search_keyword\" data-cloud=\"pc_news_related_query\"></div>  \\n      <div class=\"box_cluster box_news_recomm\" data-cloud=\"newsview_realtime_news\"> \\n       <div class=\"box_tit\"> \\n        <h3 class=\"tit_box\">이 시각 추천뉴스</h3> \\n       </div> \\n       <ul class=\"list_column\" data-tiara-ordnum-layer data-tiara-layer=\"toros_recommend_one_column\" data-tiara-action-name=\"하단추천리스트_클릭\" data-tiara-action-kind=\"ClickContent\"> \\n        <li class=\"item_toros\"></li> \\n        <li class=\"item_toros\"></li> \\n        <li class=\"item_ad\"></li> \\n        <li class=\"item_toros\"></li> \\n        <li class=\"item_toros\"></li> \\n        <li class=\"item_nachu\"></li> \\n        <li class=\"item_nachu\"></li> \\n        <li class=\"item_nachu\"></li> \\n        <li class=\"item_toros\"></li> \\n        <li class=\"item_nachu\"></li> \\n        <li class=\"item_ad\"></li> \\n        <li class=\"item_nachu\"></li> \\n        <li class=\"item_toros\"></li> \\n        <li class=\"item_nachu\"></li> \\n        <li class=\"item_nachu\"></li> \\n        <li class=\"item_toros\"></li> \\n        <li class=\"item_nachu\"></li> \\n        <li class=\"item_toros\"></li> \\n        <li class=\"item_toros\"></li> \\n        <li class=\"item_nachu\"></li> \\n        <li class=\"item_toros\"></li> \\n       </ul> \\n      </div> \\n      <div id=\"special_series_list\" class=\"box_cluster box_news_pick\" data-cloud=\"newsview_special_series\"> \\n      </div>  \\n      <div id=\"rankingNewsContainer\" class=\"box_cluster box_news_rank\" style=\"display: none;\" data-cloud=\"newsview_pc_ranking_news\"> \\n       <div>  \\n       </div> \\n      </div> \\n      <div id=\"keyword_news_list\" class=\"box_cluster box_news_keyword\" data-tiara-action-kind=\"ClickContent\" data-tiara-action-name=\"관련키워드_클릭\" data-tiara-layer=\"related_keyword\" data-cloud=\"newsview_pc_keyword_news\"></div>  \\n      <div class=\"box_cluster box_shortcut\" data-tiara-action-kind=\"ClickContent\" data-tiara-action-name=\"서비스바로가기_클릭\" data-tiara-layer=\"service_directlink\" data-cloud=\"service_direct_link_v2\"> \\n       <div class=\"box_tit\"> \\n        <h3 class=\"tit_box\">서비스 바로가기</h3> \\n       </div> \\n       <ul id=\"serviceDirect\" class=\"tab_shortcut\" role=\"tablist\"> \\n        <li role=\"presentation\"> <a class=\"link_tab\" role=\"tab\" data-tiara=\"뉴스\">뉴스</a></li> \\n        <li role=\"presentation\"> <a class=\"link_tab\" role=\"tab\" data-tiara=\"연예\">연예</a> </li> \\n        <li role=\"presentation\"> <a class=\"link_tab\" role=\"tab\" data-tiara=\"스포츠\">스포츠</a> </li> \\n       </ul> \\n       <div> \\n        <div class=\"tabcont_service\" style=\"display: none\"> <strong class=\"screen_out\">뉴스</strong> \\n         <ul class=\"list_linkservice\" data-tiara=\"뉴스\"> \\n          <li><a href=\"//news.daum.net/home\" class=\"link_linkservice\">뉴스 홈</a></li> \\n          <li><a href=\"//news.daum.net/climate\" class=\"link_linkservice\">기후/환경</a></li> \\n          <li><a href=\"//news.daum.net/society\" class=\"link_linkservice\">사회</a></li> \\n          <li><a href=\"//news.daum.net/economy\" class=\"link_linkservice\">경제</a></li> \\n          <li><a href=\"//news.daum.net/politics\" class=\"link_linkservice\">정치</a></li> \\n          <li><a href=\"//news.daum.net/world\" class=\"link_linkservice\">국제</a></li> \\n          <li><a href=\"//news.daum.net/culture\" class=\"link_linkservice\">문화</a></li> \\n          <li><a href=\"//news.daum.net/tech\" class=\"link_linkservice\">IT/과학</a></li> \\n          <li><a href=\"//news.daum.net/people\" class=\"link_linkservice\">인물</a></li> \\n          <li><a href=\"//news.daum.net/understanding\" class=\"link_linkservice\">지식/칼럼</a></li> \\n          <li><a href=\"//news.daum.net/series\" class=\"link_linkservice\">연재</a></li> \\n          <li><a href=\"//focus.daum.net/daum/m/algorithm\" class=\"link_linkservice\">배열설명서</a></li> \\n         </ul> \\n        </div> \\n        <div class=\"tabcont_service\" style=\"display: none\"> <strong class=\"screen_out\">연예</strong> \\n         <ul class=\"list_linkservice\" data-tiara=\"연예\"> \\n          <li><a href=\"//entertain.daum.net\" class=\"link_linkservice\">연예 홈</a></li> \\n          <li><a href=\"//entertain.daum.net/news\" class=\"link_linkservice\">최신뉴스</a></li> \\n          <li><a href=\"//entertain.daum.net/tv\" class=\"link_linkservice\">TV</a></li> \\n          <li><a href=\"//entertain.daum.net/photo\" class=\"link_linkservice\">포토</a></li> \\n          <li><a href=\"//entertain.daum.net/ranking/popular\" class=\"link_linkservice\">많이 본 뉴스</a></li> \\n          <li><a href=\"//entertain.daum.net/ranking/keyword\" class=\"link_linkservice\">TOP 키워드</a></li> \\n          <li><a href=\"//entertain.daum.net/news/series\" class=\"link_linkservice\">연재</a></li> \\n          <li><a href=\"//entertain.daum.net/poll\" class=\"link_linkservice\">투표</a></li> \\n          <li><a href=\"//entertain.daum.net/news/movie\" class=\"link_linkservice\">영화</a></li> \\n         </ul> \\n        </div> \\n        <div class=\"tabcont_service\" style=\"display: none\"> <strong class=\"screen_out\">스포츠</strong> \\n         <ul class=\"list_linkservice\" data-tiara=\"스포츠\"> \\n          <li><a href=\"//sports.daum.net/\" class=\"link_linkservice\">스포츠 홈</a></li> \\n          <li><a href=\"//sports.daum.net/soccer/\" class=\"link_linkservice\">축구</a></li> \\n          <li><a href=\"//sports.daum.net/worldsoccer/\" class=\"link_linkservice\">해외축구</a></li> \\n          <li><a href=\"//sports.daum.net/baseball/\" class=\"link_linkservice\">야구</a></li> \\n          <li><a href=\"//sports.daum.net/worldbaseball/\" class=\"link_linkservice\">해외야구</a></li> \\n          <li><a href=\"//sports.daum.net/golf/\" class=\"link_linkservice\">골프</a></li> \\n          <li><a href=\"//sports.daum.net/basketball/\" class=\"link_linkservice\">농구</a></li> \\n          <li><a href=\"//sports.daum.net/volleyball/\" class=\"link_linkservice\">배구</a></li> \\n          <li><a href=\"//sports.daum.net/general/\" class=\"link_linkservice\">일반</a></li> \\n          <li><a href=\"//sports.daum.net/esports/\" class=\"link_linkservice\">e-스포츠</a></li> \\n          <li><a href=\"//sports.daum.net/cartoon/\" class=\"link_linkservice\">카툰</a></li> \\n          <li><a href=\"//sports.daum.net/video/\" class=\"link_linkservice\">영상 홈</a></li> \\n         </ul> \\n        </div> \\n       </div> \\n      </div>   \\n      <div id=\"service_notice\" class=\"box_cluster box_notice\" data-tiara-action-name=\"공지사항_클릭\" data-tiara-layer=\"notice\" data-cloud=\"newsview_service_notice\"></div>  \\n      <div class=\"box_cluster box_ad\" data-cloud=\"pc_dynamic_aside_bottom_ad\"> \\n       <ins style=\"display: block; width: 300px; height: 250px; text-decoration: none; max-height: inherit; min-height: 250px; min-width: 300px;\" class=\"kakao_ad_area aside_g aside_ad\" data-ad-unit=\"0QH44\" data-ad-param-channel=\"harmony\" data-ad-param-cp=\"17_pc_media_news\" data-ad-width=\"300\" data-ad-height=\"250\" data-ad-onfail=\"removeParentElement\" data-ad-onload=\"sendAbBucketLog\" data-ab-bucket=\"pc_aside_bottom_ad\" data-ab-bucket-type=\"adfit\"></ins> \\n      </div> \\n     </aside> \\n    </section> \\n   </main> \\n   <footer id=\"kakaoFoot\" class=\"doc-footer\" data-cloud-area=\"footer\"> \\n    <div class=\"inner_foot\" data-tiara-layer=\"footer\" data-tiara-action-name=\"푸터_클릭\" data-cloud=\"newsview_pc_footer\"> \\n     <div class=\"direct_link\"> \\n      <h2 class=\"tit_direct\">바로가기</h2> \\n      <div class=\"item_bundle\"> <a class=\"link_txt\" href=\"https://news.daum.net/\">뉴스홈</a> <a class=\"link_txt\" href=\"https://news.daum.net/society\">사회</a> <a class=\"link_txt\" href=\"https://news.daum.net/politics\">정치</a> <a class=\"link_txt\" href=\"https://news.daum.net/economy\">경제</a> <a class=\"link_txt\" href=\"https://news.daum.net/world\">국제</a> <a class=\"link_txt\" href=\"https://news.daum.net/culture\">문화</a> <a class=\"link_txt\" href=\"https://news.daum.net/tech\">IT</a> <a class=\"link_txt\" href=\"https://news.daum.net/photo\">포토</a> \\n      </div> \\n      <div class=\"item_bundle\"> <a class=\"link_txt\" href=\"https://news.daum.net/home\">제휴 언론사</a> \\n      </div> \\n      <div class=\"item_bundle\"> <a class=\"link_txt\" href=\"https://news.daum.net/home\">배열이력</a> \\n      </div> \\n      <div class=\"item_bundle\"> <a class=\"link_txt\" href=\"https://news.daum.net/home\">전체뉴스</a> <a class=\"link_txt\" href=\"https://news.daum.net/series\">연재</a> <a class=\"link_txt\" href=\"https://news.daum.net/factcheck\">팩트체크</a> \\n      </div> <button class=\"btn_fold\" type=\"button\"> <span class=\"ico_view\">바로가기 링크 더보기/접기</span> </button> \\n     </div> \\n     <div class=\"footer_service\"> \\n      <h2 class=\"screen_out\">서비스 이용정보</h2> \\n      <div class=\"footer_link\"> <a href=\"https://news.daum.net/edit\" class=\"link_info #info_daumnews\">다음뉴스 소개</a> <span class=\"txt_dot\"> ・ </span> <a href=\"https://magazine.daum.net/daumnews_notice\" class=\"link_info #notice\">공지사항</a> <span class=\"txt_dot\"> ・ </span> <a href=\"https://news.daum.net/edit\" class=\"link_info #bbsrule\">게시물 운영원칙</a> <span class=\"txt_dot\"> ・ </span> <a href=\"//policy.daum.net/info/info\" class=\"link_info #policy\">서비스 약관/정책</a> <span class=\"txt_dot\"> ・ </span> <a href=\"//with.kakao.com/media\" class=\"link_info #harmony\">뉴스제휴</a> <span class=\"txt_dot\"> ・ </span> <a href=\"//business.kakao.com\" class=\"link_info #adinfo\">비즈니스</a> <span class=\"txt_dot\"> ・ </span> <a href=\"//cs.daum.net/redbell/top.html\" class=\"link_info #redbell\">권리침해신고</a> <span class=\"txt_dot\"> ・ </span> <a href=\"//cs.daum.net/faq/63.html\" class=\"link_info #consumer\">다음뉴스 고객센터</a> \\n      </div> \\n      <div class=\"footer_link\"> <a href=\"https://news.daum.net/newscenter24\" class=\"link_info #newscenter\">24시간 뉴스센터</a> <span class=\"txt_dot\"> ・ </span> <a href=\"https://news.daum.net/edit\" class=\"link_info #edit\">서비스원칙</a> <span class=\"txt_dot\"> ・ </span> <a href=\"https://news.daum.net/correct\" class=\"link_info #correct\">고침기사, 정정・반론・추후보도 모음</a> <span class=\"txt_dot\"> ・ </span> <span class=\"link_info\">기사배열책임자 : 임광욱</span> <span class=\"txt_dot\"> ・ </span> <span class=\"link_info\">청소년보호책임자 : 손성희</span> \\n      </div> \\n     </div> \\n     <div class=\"info_copyright\"> <em class=\"txt_warn\">위 내용에 대한 저작권 및 법적 책임은 자료제공사 또는 <br>글쓴이에 있으며, Kakao의 입장과 다를 수 있습니다.</em> <small class=\"txt_copyright\">Copyright © <a href=\"https://www.kakaocorp.com\" class=\"link_kakao\">Kakao Corp.</a> All rights reserved.</small> \\n     </div> \\n    </div>  \\n   </footer> \\n  </div> \\n  <div data-cloud-area=\"util\"> \\n   <svg class=\"svg_source\" aria-hidden=\"true\" focusable=\"false\" data-cloud=\"circle_svg_resource\"> <defs> \\n     <path id=\"squircleBorder\" d=\"M18,0 L18.7848444,0.005730084 C18.9139617,0.00764511171 19.0422365,0.0100426461 19.1696724,0.0129264371 L19.9242526,0.0360942589 C20.792923,0.0700009714 21.6208598,0.128101731 22.4093497,0.211682715 L23.0755677,0.289593612 C30.9549774,1.30012499 34.6999425,5.04523784 35.7104226,12.9245322 L35.7883295,13.5907399 C35.8719061,14.3792171 35.9300034,15.2071387 35.963908,16.0757909 L35.9870744,16.8303548 C35.989958,16.9577879 35.9923554,17.0860598 35.9942703,17.2151741 L36,18 L35.9942703,18.7848444 C35.9923554,18.9139617 35.989958,19.0422365 35.9870744,19.1696724 L35.963908,19.9242526 C35.9300034,20.792923 35.8719061,21.6208598 35.7883295,22.4093497 L35.7104226,23.0755677 C35.6542849,23.5133126 35.5897073,23.938297 35.5164499,24.3507608 L35.400024,24.960096 L35.2703983,25.5508304 C33.9983996,30.9781075 30.9781075,33.9983996 25.5508304,35.2703983 L24.960096,35.400024 L24.3507608,35.5164499 C23.938297,35.5897073 23.5133126,35.6542849 23.0755677,35.7104226 L22.4093497,35.7883295 C21.6208598,35.8719061 20.792923,35.9300034 19.9242526,35.963908 L19.1696724,35.9870744 C19.0422365,35.989958 18.9139617,35.9923554 18.7848444,35.9942703 L18,36 L17.2151741,35.9942703 C17.0860598,35.9923554 16.9577879,35.989958 16.8303548,35.9870744 L16.0757909,35.963908 C15.2071387,35.9300034 14.3792171,35.8719061 13.5907399,35.7883295 L12.9245322,35.7104226 C5.04523784,34.6999425 1.30012499,30.9549774 0.289593612,23.0755677 L0.211682715,22.4093497 C0.128101731,21.6208598 0.0700009714,20.792923 0.0360942589,19.9242526 L0.0129264371,19.1696724 C0.0100426461,19.0422365 0.00764511171,18.9139617 0.005730084,18.7848444 L0,18 L0.00584673708,17.2364307 L0.0235106145,16.491116 C0.0274496612,16.368412 0.031888818,16.2464639 0.0368319493,16.1252694 L0.0725693482,15.4071281 L0.120587636,14.7069631 C0.834491736,5.60597993 4.79017605,1.15065404 13.8930229,0.197527337 L14.5943061,0.131853333 L15.3155684,0.0795358451 C16.1687677,0.026246786 17.0631364,0 18,0 Z M18,0.75 L17.2362123,0.755914959 L16.4923098,0.773765633 L15.7681182,0.803710715 L15.0634634,0.845908898 C14.6001671,0.878160652 14.1497792,0.918686936 13.7120674,0.96769934 L13.0649777,1.04760899 C6.36975139,1.95404391 2.79018958,4.9918111 1.41886033,10.987594 L1.29490495,11.5675907 C1.27534879,11.6657562 1.25634173,11.7646736 1.23788016,11.8643462 L1.13362749,12.4714706 C1.06845086,12.882297 1.01188582,13.3053124 0.96370013,13.7407284 L0.897677059,14.4031792 C0.887710953,14.5151465 0.878261299,14.6278955 0.869324465,14.7414295 L0.821828289,15.4320791 C0.801128098,15.7821401 0.784977976,16.1393251 0.773279941,16.5037235 L0.755790953,17.2421646 L0.75,18 L0.755329047,18.7600803 L0.771444428,19.5001406 C0.778635318,19.7435121 0.787655991,19.983579 0.798538506,20.2203733 L0.836803642,20.9209708 L0.886432197,21.6021254 C1.62475734,30.5554225 5.44462413,34.3752528 14.3978898,35.1135695 L15.0790419,35.1631975 L15.7796366,35.2014621 C16.01643,35.2123445 16.2564959,35.2213651 16.4998663,35.2285559 L17.2399233,35.244671 L18,35.25 L18.7600878,35.2446712 L19.5001549,35.2285565 C19.7435286,35.2213659 19.9835976,35.2123455 20.2203939,35.2014634 L20.9209971,35.1631997 L21.6021569,35.113573 C22.7213271,35.0212856 23.7602848,34.8808505 24.723038,34.6882595 L25.2915774,34.5664141 C30.5131949,33.3701777 33.3701777,30.5131949 34.5664141,25.2915774 L34.6882595,24.723038 C34.8808505,23.7602848 35.0212856,22.7213271 35.113573,21.6021569 L35.1631997,20.9209971 L35.2014634,20.2203939 C35.2123455,19.9835976 35.2213659,19.7435286 35.2285565,19.5001549 L35.2446712,18.7600878 L35.25,18 L35.244671,17.2399233 L35.2285559,16.4998663 C35.2213651,16.2564959 35.2123445,16.01643 35.2014621,15.7796366 L35.1631975,15.0790419 L35.1135695,14.3978898 C34.3752528,5.44462413 30.5554225,1.62475734 21.6021254,0.886432197 L20.9209708,0.836803642 L20.2203733,0.798538506 C19.983579,0.787655991 19.7435121,0.778635318 19.5001406,0.771444428 L18.7600803,0.755329047 L18,0.75 Z\"></path> \\n     <path id=\"shapeSquircle\" d=\"M18,36 C4.75007143,36 0,31.25025 0,18 C0,5.24989286 4.75007143,0 18,0 C31.25025,0 36,4.75007143 36,18 C36,31.25025 31.25025,36 18,36 Z\"></path> \\n    </defs> <clippath id=\"clipThumb\"> \\n     <use xlink:href=\"#shapeSquircle\"></use> \\n    </clippath> \\n   </svg>        \\n  </div>  \\n  <script src=\"https://t1.kakaocdn.net/kakao_js_sdk/v1/kakao.min.js\"></script>\\n  <script src=\"//t1.daumcdn.net/harmony_static/cloud/2024/07/25/vendor.bfdd228a902e86c605c9.js\"></script>\\n  <script src=\"//t1.daumcdn.net/harmony_static/cloud/2024/07/25/common.b50fbd0462cc98d05ac7.js\"></script>\\n  <script src=\"//t1.daumcdn.net/kas/static/ba.min.js\"></script>\\n  <script src=\"//t1.daumcdn.net/kas/static/na.min.js\"></script>\\n  <script src=\"//m1.daumcdn.net/svc/original/U03/cssjs/userAgent/userAgent-1.0.12.min.js\"></script>\\n  <script src=\"//t1.daumcdn.net/harmony_static/cloud/page/46abfb9938c70cb29c1fe02c659fa757f28d4efb.js\"></script>\\n  <script src=\"//t1.daumcdn.net/harmony_static/cloud/page/8936ce33a7141639659e0f21d1dfb6ab51d4f52a.js\"></script>\\n  <script src=\"//t1.daumcdn.net/harmony_static/cloud/page/6552229a3db65634e4516fb4bc88bd43798d5ed51722492476909.js\"></script>\\n  <script>\"use strict\";!(function(){var e=Number(\\'17\\'),a={layer2:\\'settings_newschannel\\',layer_subscribeBtn:{layer3:\"\".concat(c=\\'pc_news\\',\" news_header_gnb 구독\"),actionName:\\'gnb구독_클릭\\'},layer_alarmFeedBtn:{layer3:\"\".concat(c,\" news_header_gnb 알림피드\"),actionName:\\'gnb알림피드_클릭\\'},layer_notiAll:{layer3:\"\".concat(c,\" settings_newschannel layer_전체알림\"),actionName:\\'언론사채널_설정팝업_전체알림_클릭\\',actionKind:\\'ClickContent\\'},layer_notiCustom:{layer3:\"\".concat(c,\" settings_newschannel layer_맞춤알림\"),actionName:\\'언론사채널_설정팝업_맞춤알림_클릭\\',actionKind:\\'ClickContent\\'},layer_notiCustom_news:{layer3:\"\".concat(c,\" settings_newschannel layer_맞춤알림뉴스\"),actionName:\\'언론사채널_설정팝업_맞춤알림_뉴스_클릭\\',actionKind:\\'ClickContent\\'},layer_notiCustom_shorts:{layer3:\"\".concat(c,\" settings_newschannel layer_맞춤알림오늘의숏\"),actionName:\\'언론사채널_설정팝업_맞춤알림_오늘의숏_클릭\\',actionKind:\\'ClickContent\\'},layer_notiCustom_post:{layer3:\"\".concat(c,\" settings_newschannel layer_맞춤알림포스트\"),actionName:\\'언론사채널_설정팝업_맞춤알림_포스트_클릭\\',actionKind:\\'ClickContent\\'},layer_notiCustom_mainnews:{layer3:\"\".concat(c,\" settings_newschannel layer_맞춤알림언론사픽\"),actionName:\\'언론사채널_설정팝업_맞춤알림_언론사픽_클릭\\',actionKind:\\'ClickContent\\'},layer_notiOff:{layer3:\"\".concat(c,\" settings_newschannel layer_알림없음\"),actionName:\\'언론사채널_설정팝업_알림없음_클릭\\',actionKind:\\'ClickContent\\'},layer_unsubscribe:{layer3:\"\".concat(c,\" settings_newschannel layer_구독취소\"),actionName:\\'언론사채널_설정팝업_구독취소_클릭\\',actionKind:\\'ClickContent\\'},layer_notiSave:{layer3:\"\".concat(c,\" settings_newschannel layer_알림설정적용\"),actionName:\\'언론사채널_설정팝업_설정적용_클릭\\',actionKind:\\'ClickContent\\'},layer_notiCancel:{layer3:\"\".concat(c,\" settings_newschannel layer_알림설정취소\"),actionName:\\'언론사채널_설정팝업_적용취소_클릭\\',actionKind:\\'ClickContent\\'}},t={doOnOpenSearchLayer:function(){document.querySelector(\\'.area_btn\\').classList.add(\\'hide\\'),document.querySelector(\\'.area_feed\\').classList.add(\\'hide\\')},doOnCloseSearchLayer:function(){document.querySelector(\\'.area_btn\\').classList.remove(\\'hide\\'),document.querySelector(\\'.area_feed\\').classList.remove(\\'hide\\')}},n=\"\".concat(\\'https://v.daum.net\\',\"/v/\").concat(\\'20221107120515635\\'),c=\"\".concat(n,\"?f=m\"),c={link:n,prefix:\\'\\\\uC11C\\\\uC6B8\\\\uACBD\\\\uCC30\\\\uCCAD\\\\uC7A5 \\\\u201C\\\\uC9D1\\\\uD68C \\\\uB54C\\\\uBB38\\\\uC5D0 \\\\uC774\\\\uD0DC\\\\uC6D0 \\\\uACBD\\\\uCC30\\\\uB825 \\\\uBC30\\\\uCE58 \\\\uBABB\\\\uD55C \\\\uAC83 \\\\uC544\\\\uB0D0\\\\u201D\\',service_name:\\'다음 - 한겨레\\',kakaoAPI:{appkey:\\'53e566aa17534bc816eb1b5d8f7415ee\\',extraAppkey:\\'53e566aa17534bc816eb1b5d8f7415ee\\',kakaoLinkData:{shareType:\\'sendCustom\\',shareData:{templateId:Number(\\'6928\\'),installTalk:!0,templateArgs:{\\'${title}\\':\\'\\\\uC11C\\\\uC6B8\\\\uACBD\\\\uCC30\\\\uCCAD\\\\uC7A5 \\\\u201C\\\\uC9D1\\\\uD68C \\\\uB54C\\\\uBB38\\\\uC5D0 \\\\uC774\\\\uD0DC\\\\uC6D0 \\\\uACBD\\\\uCC30\\\\uB825 \\\\uBC30\\\\uCE58 \\\\uBABB\\\\uD55C \\\\uAC83 \\\\uC544\\\\uB0D0\\\\u201D\\',\\'${description}\\':\\'\\\\uAE40\\\\uAD11\\\\uD638 \\\\uC11C\\\\uC6B8\\\\uACBD\\\\uCC30\\\\uCCAD\\\\uC7A5\\\\uC774 \\\\uC774\\\\uD0DC\\\\uC6D0 \\\\uCC38\\\\uC0AC \\\\uB2F9\\\\uC77C \\\\uBC24 \\\\uC548\\\\uC804 \\\\uAD00\\\\uB9AC\\\\uB97C \\\\uD560 \\\\uACBD\\\\uCC30\\\\uC774 \\\\uBD80\\\\uC871\\\\uD588\\\\uB2E4\\\\uB294 \\\\uC9C0\\\\uC801\\\\uC5D0 \\\\uB300\\\\uD574 \\\\u201C\\\\uB300\\\\uADDC\\\\uBAA8 \\\\uC9C4\\\\uBCF4\\\\u00B7\\\\uBCF4\\\\uC218 \\\\uC9D1\\\\uD68C \\\\uB300\\\\uBE44 \\\\uB54C\\\\uBB38\\\\uC5D0 \\\\uACBD\\\\uB825\\\\uC744 \\\\uBC30\\\\uCE58\\\\uD558\\\\uC9C0 \\\\uBABB\\\\uD55C \\\\uAC83\\\\uC740 \\\\uC544\\\\uB2C8\\\\uB2E4\\\\u201D\\\\uB77C\\\\uACE0 7\\\\uC77C \\\\uBC1D\\\\uD614\\\\uB2E4. \\\\uC55E\\\\uC11C \\\\uC774\\\\uC0C1\\\\uBBFC \\\\uD589\\\\uC815\\\\uC548\\\\uC804\\\\uBD80 \\\\uC7A5\\\\uAD00\\\\uC774 \\\\u201C\\\\uC11C\\\\uC6B8 \\\\uC2DC\\\\uB0B4 \\\\uACF3\\\\uACF3\\\\uC5D0\\\\uC11C \\\\uC18C\\\\uC694\\\\uC640 \\\\uC2DC\\\\uC704\\\\uAC00 \\\\uC788\\\\uC5B4 \\\\uACBD\\\\uCC30 \\\\uBCD1\\\\uB825\\\\uC774 \\\\uBD84\\\\uC0B0\\\\uB41C \\\\uCE21\\\\uBA74\\\\uC774 \\\\uC788\\\\uC5C8\\\\uB2E4\\\\u201D\\\\uBA70 \\\\uC0AC\\\\uACE0 \\\\uCC45\\\\uC784\\\\uC744 \\\\uC9D1\\\\uD68C\\\\uB85C \\\\uB5A0\\\\uB118\\\\uAE34 \\\\uAC83\\\\uACFC\\\\uB294 \\\\uB300\\\\uC870\\\\uC801\\\\uC774\\\\uB2E4.\\\\u00A0 \\\\uAE40\\\\uAD11\\\\uD638 \\\\uCCAD\\\\uC7A5\\\\uC740 \\\\uC774\\\\uB0A0\\',\\'${imageUrl}\\':\\'https://t1.daumcdn.net/news/202211/07/hani/20221107180517222wnvv.jpg\\',\\'${EncodingUrl}\\':encodeURIComponent(c),\\'${webUrl}\\':n,\\'${mobileWebUrl}\\':c}}}}};ReactDOM.render(React.createElement(React.Fragment,null,React.createElement(SubscriptionAndAlarmUtil.Component,{channelId:e,utilClassType:\"ico_view\",disableSubscription:\"true\"==\"false\",isHideAlarmButton:!0,tiaraConst:a}),React.createElement(\"div\",{className:\"area_feed\"},React.createElement(MobileSocialShareUtil.Component,{template:c,useDarkMode:!0},function(e,a){return React.createElement(\"a\",{ref:a,href:\"\",className:\"link_share\",\"data-tiara\":\"SNS공유하기\",\"data-tiara-action-name\":\"gnb공유_클릭\",\"data-tiara-action-kind\":\"Share\"},React.createElement(\"span\",{className:\"ico_view ico_share\"},\"공유하기\"))})),React.createElement(\"div\",{class:\"user_service\"},React.createElement(\"h2\",{class:\"screen_out\"},\"검색\"),React.createElement(\"a\",{href:\"#none\",class:\"link_search\",\"data-tiara\":\"검색\",\"data-tiara-action-name\":\"GNB검색_클릭\",\"data-tiara-action-kind\":\"Search\"},React.createElement(\"span\",{class:\"ico_view ico_search\"},\"검색\")),React.createElement(\"div\",{id:\"daumTotalSearchLayer\",class:\"search_wrap\"})),React.createElement(PcSuggestUtil.Component,{todayBubble:{enabled:!0,count:10,DA:\\'TRG\\'},suggestItem:{maxCount:10,params:{w:\\'tot\\',nil_profile:\\'search\\',nil_src:\\'media\\',rtmaxcoll:\\'DNS,NNS\\',DA:\\'23B\\'}},submit:{params:{w:\\'tot\\',nil_profile:\\'search\\',nil_src:\\'media\\',rtmaxcoll:\\'DNS,NNS\\',DA:\\'23A\\'}},callback:t})),document.querySelector(\\'.alarm_util\\'))})();</script>\\n  <script>\"use strict\";!(function(){var e=document.querySelector(\\'.doc-header\\'),n=document.querySelector(\\'.container-doc\\'),o=null;window.addEventListener(\\'scroll\\',function(){o&&window.cancelAnimationFrame(o),o=window.requestAnimationFrame(function(){(window.scrollY||window.pageYOffset)>e.offsetHeight?n.classList.add(\\'head_fixed\\'):n.classList.remove(\\'head_fixed\\')})})})();</script>\\n  <script>\"use strict\";!(function(){var e,n=document.getElementById(\\'digestViewLayer\\');n&&(null!==(e=document.querySelector(\\'.btn_synop\\'))&&void 0!==e&&e.addEventListener(\\'click\\',function(){n.style.display=\\'block\\'}),null!==(e=n.querySelector(\\'.link_close\\'))&&void 0!==e&&e.addEventListener(\\'click\\',function(e){e.preventDefault(),n.style.display=\\'none\\'}))})();</script>\\n  <script>\"use strict\";!(function(){var e,n,t,a,c,l,s=\"VIEW_TTS\",o={slow_Male:\"http://k-v1.kakaocdn.net/dn/soXpT/btrQBKGAWdt/RNxCcQMzalpjLFdG7SztN1/original.m4a\",normal_Male:\"http://k-v1.kakaocdn.net/dn/badBHn/btrQyVV48yb/U5zadIKhbyLyQHqEURKD7k/original.m4a\",fast_Male:\"http://k-v1.kakaocdn.net/dn/d9WTg7/btrQAxABNXq/9EGvAKMRik8njnFXeCKTWk/original.m4a\",slow_Female:\"http://k-v1.kakaocdn.net/dn/K9mTV/btrQD87nkE7/4QnP2RDVGJKvCNHWTCXvKk/original.m4a\",normal_Female:\"http://k-v1.kakaocdn.net/dn/jQ0u6/btrQxaTr3Nk/1kWc4sJvRG8D6ETRMLUPFk/original.m4a\",fast_Female:\"http://k-v1.kakaocdn.net/dn/calPvo/btrQyvDcMVq/0GX7Kh61o7TUQOZ36b35y1/original.m4a\"},d=document.querySelector(\\'.btn_tts\\'),i=document.getElementById(\\'ttsViewLayer\\');d&&i&&(c=d.parentElement,e=i.querySelector(\\'.link_close\\'),d.addEventListener(\\'click\\',function(){i.style.display=\\'block\\'}),e.addEventListener(\\'click\\',function(e){e.preventDefault(),i.style.display=\\'none\\'}),(n=c.querySelector(\\'#ttsPlayer\\'))&&(document.querySelectorAll(\\'.inp_tts\\').forEach(function(e){return e.addEventListener(\\'change\\',function(){var e=i.querySelector(\\'input[name=inpSpeed]:checked\\'),t=i.querySelector(\\'input[name=inpGender]:checked\\');e&&t&&(t=\"\".concat(e.value,\"_\").concat(t.value),n.setAttribute(\\'src\\',o[t]),_Cookies.set(s,\\'\\',{domain:\\'.v.daum.net\\',expires:-1}),_Cookies.set(s,t,{domain:\\'.v.daum.net\\',expires:365}))})}),c=i.querySelector(\\'.btn_play\\'),t=document.querySelector(\\'.btn_soundplay\\'),c&&t&&(c.addEventListener(\\'click\\',function(){i.style.display=\\'none\\',d.disabled=!0,t.className+=\\' play_on\\',n.play()}),t.addEventListener(\\'click\\',function(){n.pause(),n.currentTime=0,t.classList.remove(\\'play_on\\'),d.disabled=!1,d.classList.remove(\\'on\\')}),n.addEventListener(\\'ended\\',function(){t.classList.remove(\\'play_on\\'),d.disabled=!1}),c=(c=_Cookies.get(s))?(a=\\'undefined\\'===(l=c.split(\\'_\\'))[0]?\\'normal\\':l[0],\\'undefined\\'===l[1]?\\'Male\\':l[1]):(a=\\'normal\\',\\'Male\\'),(l=document.getElementById(\"inp\".concat(a.charAt(0).toUpperCase()).concat(a.substring(1))))&&(l.checked=\"checked\"),(l=document.getElementById(\"inp\".concat(c)))&&(l.checked=\"checked\"),n.setAttribute(\\'src\\',o[\"\".concat(a,\"_\").concat(c)]))))})();</script>\\n  <script>\"use strict\";!(function(){var e,a,s,l=document.getElementById(\\'btnTranslate\\'),t=document.getElementById(\\'btnTranslateClose\\'),n=document.querySelectorAll(\\'.btn_translate_target_lang\\'),i=document.getElementById(\\'layerTranslate\\'),r=document.getElementById(\\'layerTranslating\\'),c=document.getElementById(\\'layerTranslateNotice\\');i&&r&&(e={en:\\'<span class=\"inner_status\"><p class=\"txt_status\">The copyright belongs to the original writer of the content, and there may be errors in machine translation results.</p></span>\\',cn:\\'<span class=\"inner_status\"><p class=\"txt_status\">版权归内容原作者所有。机器翻译结果可能存在错误。</p></span>\\',jp:\\'<span class=\"inner_status\"><p class=\"txt_status\">原文の著作権は原著著作者にあり、機械翻訳の結果にエラーが含まれることがあります。</p></span>\\',id:\\'<span class=\"inner_status\"><p class=\"txt_status\">Hak cipta milik penulis asli dari konten, dan mungkin ditemukan kesalahan dalam hasil terjemahan mesin.</p></span>\\',vi:\\'<span class=\"inner_status\"><p class=\"txt_status\">Bản quyền thuộc về tác giả gốc của nội dung và có thể có lỗi trong kết quả dịch bằng máy.</p></span>\\'},a=function(n){setTimeout(function(){var t;i.style.display=\\'none\\',r.style.display=\\'none\\',c&&(n&&\\'kr\\'===n.targetLang?(c.classList.remove(\\'status_view\\'),c.style.display=\\'none\\',c.innerHTML=\\'\\',null!==(t=document.getElementById(\\'kakaoWrap\\'))&&void 0!==t&&t.classList.remove(\\'en\\')):(c.classList.add(\\'status_view\\'),c.style.display=\\'block\\',c.innerHTML=e.hasOwnProperty(n.targetLang)?e[n.targetLang]:e[\\'en\\'],[\\'cn, jp\\'].includes(n.targetLang)||null!==(t=document.getElementById(\\'kakaoWrap\\'))&&void 0!==t&&t.classList.add(\\'en\\')),l.classList.remove(\\'on\\'))},500)},s=function(){a()},null!=l&&l.addEventListener(\\'click\\',function(){i.style.display=\\'block\\'}),null!=t&&t.addEventListener(\\'click\\',function(t){t.preventDefault(),i.style.display=\\'none\\'}),null!=n&&n.forEach(function(t){t.addEventListener(\\'click\\',function(t){var n=t.currentTarget.name;i.querySelectorAll(\\'.tit_lang\\').forEach(function(t){return t.classList.remove(\\'tit_selected\\')}),null!==(t=this.querySelector(\\'.tit_lang\\'))&&void 0!==t&&t.classList.add(\\'tit_selected\\'),r.style.display=\\'block\\',HarmonyTranslator.translate(\"kr\",n,a,s)})}))})();</script>\\n  <script>\"use strict\";!(function(){var e,t,n,i=(t=!(e=[\\'inpFont1\\',\\'inpFont2\\',\\'inpFont3\\',\\'inpFont4\\',\\'inpFont5\\']),n=[],function(e){var t,n,i,o,r=c();if(r){for(o in r){if(!(r[o].x<e)){if(r[o].x>e){n=r[o];break}i=r[o];break}t=r[o]}return(i||(t&&(!n||n.x-e>e-t.x)?t:n)).element}});function c(){return t&&n[0].x==n[0].element.getBoundingClientRect().x?n:(n=(function(e){var n=[];if(!e.some(function(e){var t=document.getElementById(e).getBoundingClientRect();return!(0<t.x)||(n.push({id:e,element:document.getElementById(e),x:t.x}),!1)}))return n.sort(function(e,t){return e.x<t.x?-1:e.x>t.x?1:0})})(e))?(t=!0,n):void 0}var o=document.querySelector(\\'.btn_font\\');if(o){var r=o.parentElement.querySelector(\\'.view_layer\\');if(r){var s,a=r.querySelector(\\'.link_close\\');o.addEventListener(\\'click\\',function(){r.style.display=\\'block\\'}),null!=a&&a.addEventListener(\\'click\\',function(e){e.preventDefault(),r.style.display=\\'none\\'}),null!==(a=r.querySelector(\\'.list_fs\\'))&&void 0!==a&&a.addEventListener(\\'touchmove\\',function(e){e=e.touches[0].clientX,e=i(e);e&&s!=e&&(s=e).click()});for(var u=[\\'mobile_font_size\\',\\'GS_font_size\\'],l=\\'font_size_type\\',f=r.querySelector(\\'.set_view\\'),d=document.querySelector(\\'.news_view\\'),v=r.querySelectorAll(\\'.inp_fs\\'),m=function(){return v.forEach(function(e){return e.removeAttribute(\\'checked\\')})},p=function(e,t){_Cookies.set(e,\\'\\',{domain:\\'.v.daum.net\\',expires:-1}),_Cookies.set(e,t,{domain:\\'.v.daum.net\\',expires:365})},_=0;_<v.length;_++)!(function(e){e+1==\\'1\\'?v[e].setAttribute(\\'checked\\',\\'\\'):v[e].removeAttribute(\\'checked\\'),v[e].addEventListener(\\'change\\',function(){var t=this;m(),this.setAttribute(\\'checked\\',\\'\\'),f.className=\"set_view fs_type\".concat(e+1),d.className=\"news_view fs_type\".concat(e+1),u.forEach(function(e){return p(e,t.value)}),p(l,e+1)})})(_);window.addEventListener(\"pageshow\",function(e){var t;(e.persisted||window.performance&&2===window.performance.navigation.type)&&(t=_Cookies.get(l)||1,isNaN(Number(t))||t<1||v.length<t||(m(),v[t-1].setAttribute(\\'checked\\',\\'\\'),f.className=\"set_view fs_type\".concat(t),d.className=\"news_view fs_type\".concat(t)))})}}})();</script>\\n  <script>\"use strict\";document.body.querySelector(\".btn_print\").parentNode.addEventListener(\"click\",function(e){e.preventDefault(),window.open(\\'https://v.daum.net/v/20221107120515635?s=print_news\\',\\'newsPrint\\',\\'width=750,height=550,scrollbars=yes\\')});</script>\\n  <script>\"use strict\";document.querySelectorAll(\\'.head_view .item_util\\').forEach(function(e){var t,r=e.querySelector(\\'.btn_util\\');null!=r&&(r.addEventListener(\\'click\\',function(){r.classList.add(\\'on\\');var t=e.querySelector(\\'.view_layer\\');Array.from(document.querySelectorAll(\\'.head_view .item_util .btn_util\\')).filter(function(e){return e!=r}).forEach(function(e){return e.classList.remove(\\'on\\')}),Array.from(document.querySelectorAll(\\'.head_view .item_util .view_layer\\')).filter(function(e){return e!=t}).forEach(function(e){return e.style.display=\\'none\\'})}),null!==(t=e.querySelector(\\'.view_layer .link_close\\'))&&void 0!==t&&t.addEventListener(\\'click\\',function(){r.classList.remove(\\'on\\')}))});</script>\\n  <script>\"use strict\";!(function(){var d,o,c,i,t,e,r,l,s,u=document.querySelector(\\'section[dmcf-sid]\\');function g(t){return e=t,n=[\\'TABLE\\',\\'FIGURE\\',\\'IMG\\',\\'IFRAME\\',\\'VIDEO\\',\\'AUDIO\\'],Array.prototype.find.call(e.querySelectorAll(\\'*\\'),function(e){return n.find(function(t){return t===e.tagName})})?\\'media\\':\\'general\\'===t.getAttribute(\\'dmcf-ptype\\')?\\'text\\':\\'other\\';var e,n}function f(){var t=Array.prototype.map.call(document.querySelectorAll(\\'section[dmcf-sid] [dmcf-pid]\\'),function(t,e){return{element:t,index:e,type:g(t),height:(function(t,e){if(!e)return t.offsetHeight;var n=window.getComputedStyle(t),e=parseInt(n.marginTop),n=parseInt(n.marginBottom);return t.offsetHeight+e+n})(t,!0)}}),n=0;t.forEach(function(t,e){t.top=n,n+=t.height});var a=0;return t.slice().reverse().forEach(function(t,e){t.bottom=a,a+=t.height}),t}!u||u.offsetHeight<600||0!=(d=(function(){var n=f(),t=n.reduce(function(t,e){return\\'media\\'===e.type||(t[t.length-1].push(e),e.index<n.length-1&&\\'media\\'===n[e.index+1].type&&t.push([])),t},[[]]).filter(function(t){return 1<t.length}),a=240,d=240,i=\\'text\\',o=Math.max(.7*(document.documentElement.clientHeight||document.body.clientHeight),600),c=[];return t.forEach(function(t){var e=0,n=t[0].height+t[0].bottom-t[t.length-1].bottom;t.forEach(function(t){e+=t.height,n-=t.height,t.type===i&&a<=e&&d<=n&&(0===c.length||0<c.length&&c[c.length-1].bottom-t.bottom>=o)&&(c.push(t),e=0)})}),c})()).length&&(o=function(t,e,n){var a=\"true\"==\"true\"?\"pc_article_middle_ad_\".concat(e+1):\\'\\',e=document.createElement(\"div\");return e.classList.add(\"ad_body2\"),e.innerHTML=\"\\\\n            <ins\\\\n                class=\\\\\"kakao_ad_area\\\\\"\\\\n                data-ad-unit=\\\\\"\".concat(t,\"\\\\\"\\\\n                data-ad-param-cp=\\\\\"\").concat(\"17_pc_media_news\",\"\\\\\"\\\\n                data-ad-param-channel=\\\\\"\").concat(\"harmony\",\"\\\\\"\\\\n                data-ad-onfail=\\\\\"removeParentElement\\\\\"\\\\n                data-ad-width=\\\\\"100%\\\\\"\\\\n                data-ad-onload=\\\\\"sendAbBucketLog\\\\\"\\\\n                data-ab-bucket=\\\\\"\").concat(a,\"\\\\\"\\\\n                data-ab-bucket-type=\\\\\"\").concat(n,\"\\\\\"\\\\n            />\"),e},c=function(t){return\"bodyAd_\".concat(t)},i=function(t,e,n,a){var d=c(t),i=(function(t,e){var n=document.createElement(\"div\");n.setAttribute(\"id\",c(t)),n.classList.add(\"ad_body2\"),n.style.cssText=\"text-align:center;vertical-align:middle;line-height: 0;padding: 0 0px; border: 0px; width:100%; height: 90px;\",n.innerHTML=\"\\\\n            <ins class=\\\\\"adsbygoogle\\\\\" \\\\n                style=\\\\\"display:inline-block;width:678px;height:84px;border:1px solid #e5e5e5\\\\\" \\\\n                data-ad-client=\\\\\"\".concat(\"ca-pub-1682288257759598\",\"\\\\\" \\\\n                data-ad-slot=\\\\\"\").concat(t,\"\\\\\"\\\\n                data-adtest=\\\\\"\").concat(\"off\",\"\\\\\"\\\\n            />\");return\"true\"==\"true\"&&0<=e&&(n.setAttribute(\"data-ab-bucket\",\"pc_article_middle_ad_\".concat(e+1)),n.setAttribute(\"data-ab-bucket-type\",\"google\")),n})(t,a);u.insertBefore(i,e);e=n?function(t){var e=o(n,a,\\'replaced_by_adfit\\');removeGoogleAdElementAndReplaceWithAdfitElement(t,e)}:removeAdElement;document.addEventListener(\\'DOMContentLoaded\\',GoogleAdsUtils.addCallback(d,{doOnFilled:function(){return sendAbBucketLog(i)},doOnUnfilled:e}))},e=(t=function(t,e){return _.isEmpty(t)?e:t})(JSON.parse(\"[\\\\\"adfit\\\\\",\\\\\"adfit\\\\\"]\"),[]),r=t(JSON.parse(\"[\\\\\"DAN-LMhCax710HKR6iRC\\\\\",\\\\\"DAN-N84ROaaJI7rOx7GZ\\\\\"]\"),[]),l=t(JSON.parse(\"[\\\\\"7935113225\\\\\",\\\\\"7613652782\\\\\"]\"),[]),s=t(JSON.parse(\"[\\\\\"DAN-LMhCax710HKR6iRC\\\\\",\\\\\"DAN-N84ROaaJI7rOx7GZ\\\\\"]\"),[]),e.forEach(function(t,e){var n,a;e!=d.length&&(\"adfit\"===t&&e<r.length?(a=r[e],n=d[e].element.nextSibling,a=o(a,a=e,\\'adfit\\'),u.insertBefore(a,n),0<(a=(null==a?void 0:a.getElementsByTagName(\"ins\"))||[]).length&&adfit.render(a[0])):\"google\"===t&&e<l.length&&i(l[e],d[e].element.nextSibling,e<s.length?s[e]:void 0,e))}))})();</script>\\n  <script type=\"text/javascript\">\\n    \\n    \\n    \\n    var alex = document.getElementById(\\'alex_action_emotion\\');\\n    alex.setAttribute(\\'data-selections\\',\\'[{\"type\":\"RECOMMEND\",\"animation\":\"SLIDE\",\"image\":\"https://t1.daumcdn.net/harmony_static/alex_emotion/SLIDE_RECOMMEND_1x.png\",\"highResImage\":\"https://t1.daumcdn.net/harmony_static/alex_emotion/SLIDE_RECOMMEND_2x.png\"},{\"type\":\"LIKE\",\"animation\":\"SLIDE\",\"image\":\"https://t1.daumcdn.net/harmony_static/alex_emotion/SLIDE_LIKE_1x.png\",\"highResImage\":\"https://t1.daumcdn.net/harmony_static/alex_emotion/SLIDE_LIKE_2x.png\"},{\"type\":\"IMPRESS\",\"animation\":\"SLIDE\",\"image\":\"https://t1.daumcdn.net/harmony_static/alex_emotion/SLIDE_IMPRESS_1x.png\",\"highResImage\":\"https://t1.daumcdn.net/harmony_static/alex_emotion/SLIDE_IMPRESS_2x.png\"},{\"type\":\"ANGRY\",\"animation\":\"SLIDE\",\"image\":\"https://t1.daumcdn.net/harmony_static/alex_emotion/SLIDE_ANGRY_1x.png\",\"highResImage\":\"https://t1.daumcdn.net/harmony_static/alex_emotion/SLIDE_ANGRY_2x.png\"},{\"type\":\"SAD\",\"animation\":\"SLIDE\",\"image\":\"https://t1.daumcdn.net/harmony_static/alex_emotion/SLIDE_SAD_1x.png\",\"highResImage\":\"https://t1.daumcdn.net/harmony_static/alex_emotion/SLIDE_SAD_2x.png\"}]\\');\\n\\n    var itemKey = alex.getAttribute(\\'data-item-key\\');\\n    if (isNumber(itemKey))\\n        alex.setAttribute(\\'data-item-key\\', \\'@\\' + itemKey);\\n\\n    function isNumber(x) {\\n        return !isNaN(Number(x));\\n    }\\n</script>\\n  <script type=\"text/javascript\" src=\"//action.kakao.com/latest/alex.actions.js\"></script>\\n  <script>\"use strict\";function _slicedToArray(e,t){return _arrayWithHoles(e)||_iterableToArrayLimit(e,t)||_unsupportedIterableToArray(e,t)||_nonIterableRest()}function _nonIterableRest(){throw new TypeError(\"Invalid attempt to destructure non-iterable instance.\\\\nIn order to be iterable, non-array objects must have a [Symbol.iterator]() method.\")}function _unsupportedIterableToArray(e,t){if(e){if(\"string\"==typeof e)return _arrayLikeToArray(e,t);var a=Object.prototype.toString.call(e).slice(8,-1);return\"Object\"===a&&e.constructor&&(a=e.constructor.name),\"Map\"===a||\"Set\"===a?Array.from(e):\"Arguments\"===a||/^(?:Ui|I)nt(?:8|16|32)(?:Clamped)?Array$/.test(a)?_arrayLikeToArray(e,t):void 0}}function _arrayLikeToArray(e,t){(null==t||t>e.length)&&(t=e.length);for(var a=0,n=new Array(t);a<t;a++)n[a]=e[a];return n}function _iterableToArrayLimit(e,t){if(\"undefined\"!=typeof Symbol&&Symbol.iterator in Object(e)){var a=[],n=!0,r=!1,c=void 0;try{for(var i,l=e[Symbol.iterator]();!(n=(i=l.next()).done)&&(a.push(i.value),!t||a.length!==t);n=!0);}catch(e){r=!0,c=e}finally{try{n||null==l[\"return\"]||l[\"return\"]()}finally{if(r)throw c}}return a}}function _arrayWithHoles(e){if(Array.isArray(e))return e}!(function(){var e,t,l=document.getElementById(\\'related_post_by_news\\'),d=\\'false\\'==\\'true\\';function u(a){var n=React.useRef(null);return React.useEffect(function(){function e(e){var t;null!==(t=n.current)&&void 0!==t&&t.contains(e.target)||a(e)}return document.addEventListener(\\'mousedown\\',e),function(){document.removeEventListener(\\'mousedown\\',e)}},[a]),{ref:n}}function n(e){var t=e.postList,a=_slicedToArray(React.useState(!1),2),n=a[0],r=a[1],e=_slicedToArray(React.useState(!1),2),c=e[0],i=e[1],a=u(function(){return i(!1)}).ref,e=d?3:4;return React.createElement(React.Fragment,null,React.createElement(\"div\",{class:\"box_tit\"},React.createElement(\"h3\",{class:\"tit_box\"},React.createElement(\"span\",{class:\"ico_view ico_post\"}),\\'이 뉴스의 포스트 \\',React.createElement(\"span\",{class:\"ico_beta\"},\"beta\")),d&&React.createElement(\"div\",{class:\"wrap_help\",ref:a},React.createElement(\"button\",{type:\"button\",class:\"btn_help\",\"aria-expanded\":c,onClick:function(){return i(!c)}},React.createElement(\"span\",{class:\"ico_view ico_help\"},\"도움말\")),React.createElement(\"div\",{class:\"layer_tooltip\"},\" \",React.createElement(\"span\",{class:\"ico_view ico_tooltip\"}),React.createElement(\"p\",{class:\"txt_tooltip\"},\"기자가 직접 남긴 뉴스 리뷰를 확인해\",React.createElement(\"br\",null),\"보세요. 포스트는 beta 기간입니다.\"),React.createElement(\"button\",{type:\"button\",class:\"btn_close\",onClick:function(){return i(!1)}},React.createElement(\"span\",{class:\"ico_view ico_close\"},\"도움말 팝업 닫기\"))))),React.createElement(o,{postList:t,isMore:n,basePostLength:e}),t.length>e&&React.createElement(\"div\",{class:\"btnmore_group\"},React.createElement(\"a\",{href:\"#\",class:\"link_morewide\",onClick:function(e){e.preventDefault(),r(!n),n?(l.classList.remove(\\'unfold\\'),l.classList.add(\\'fold\\')):(l.classList.remove(\\'fold\\'),l.classList.add(\\'unfold\\'))},\"data-tiara-layer\":\"post\",\"data-tiara\":\"more\",\"data-tiara-action-name\":\"포스트펼치기_클릭\"},React.createElement(\"span\",{class:\"tit_more\"},\"포스트 \"),n?\\'접어보기\\':\\'펼쳐보기\\',React.createElement(\"span\",{class:\"ico_view ico_more2\"}))))}function o(e){var t=e.postList,a=e.isMore,n=e.basePostLength;return React.createElement(\"ul\",{class:\"list_post\",\"data-tiara-ordnum-layer\":!0},t.map(function(e,t){return React.createElement(r,{post:e,index:t,isInvisible:n<=t&&!a})}))}function r(e){var a,t=e.post,n=e.index,r=e.isInvisible,e=_slicedToArray(React.useState(!1),2),c=e[0],i=e[1],e=_slicedToArray(React.useState(null),2),l=e[0],o=e[1],e=u(function(e){return i(!1)}).ref,s=function(){var e=document.createElement(\\'div\\');e.id=\\'socialShareMoreContainer\\',document.getElementById(\\'kakaoWrap\\').appendChild(e)},m=function(e){var t=e.viewUrl,e=e.content.description.split(\\'\\\\n\\')[0];return{moreViewContainer:document.getElementById(\\'socialShareMoreContainer\\'),link:t,prefix:e,service_name:\\'포스트 뷰\\',kakaoAPI:{appkey:\\'53e566aa17534bc816eb1b5d8f7415ee\\',kakaoLinkData:{shareType:\\'sendScrap\\',shareData:{templateId:7952,installTalk:!0,requestUrl:t,templateArgs:{\\'${mobileWebUrl}\\':t+\\'?f=m\\',\\'${webUrl}\\':t,\\'${EncodingUrl}\\':t}}}}}};return React.createElement(\"li\",{key:\"related_post_by_news_\".concat(n),\"data-tiara-ordnum\":n+1,style:{display:r?\\'none\\':\\'block\\'}},React.createElement(\"div\",{class:\"item_post\"},React.createElement(\"div\",{class:\"post_desc\"},React.createElement(\"p\",{class:\"txt_post\"},t.content.description)),React.createElement(\"div\",{class:\"post_info\"},React.createElement(\"span\",{class:\"thumb_profile\"},React.createElement(\"span\",{class:\"squircle_thumb\"},React.createElement(\"svg\",{viewBox:\"0 0 36 36\",class:\"svg_squircle\",\"aria-label\":\"프로필 사진\"},React.createElement(\"g\",null,React.createElement(\"use\",{xlinkHref:\"#shapeSquircle\",class:\"thumb_bg\"}),t.cp.iconImageUrl?React.createElement(\"image\",{\"clip-path\":\"url(#clipThumb)\",height:\"100%\",width:\"100%\",xlinkHref:\"https://img1.daumcdn.net/thumb/C110x110a/?fname=\".concat(t.cp.iconImageUrl),preserveAspectRatio:\"xMidYMid slice\"}):React.createElement(React.Fragment,null,React.createElement(\"image\",{class:\"light\",\"clip-path\":\"url(#clipThumb)\",height:\"100%\",width:\"100%\",xlinkHref:\"https://t1.daumcdn.net/media/common/noimage/bg_noimage_24.png\",preserveAspectRatio:\"xMidYMid slice\"}),d&&React.createElement(\"image\",{class:\"dark\",\"clip-path\":\"url(#clipThumb)\",height:\"100%\",width:\"100%\",xlinkHref:\"https://t1.daumcdn.net/media/common/noimage/bg_noimage_24_dark.png\",preserveAspectRatio:\"xMidYMid slice\"})),React.createElement(\"use\",{xlinkHref:\"#squircleBorder\",class:\"thumb_stroke\"}))))),React.createElement(\"div\",{class:\"info_thumb\"},React.createElement(\"span\",{class:\"thumb_date\"},StringUtil.makeViewTime(t.createdDate)),React.createElement(\"span\",{class:\"thumb_name\"},t.cp.cpName))),React.createElement(\"a\",{href:\"https://channel.daum.net/post/\".concat(t.id),class:\"link_post\",\"data-tiara-layer\":\"post\",\"data-tiara\":\"리스트\",\"data-tiara-action-kind\":\"ClickContent\",\"data-tiara-action-name\":\"포스트_클릭\"}),React.createElement(\"div\",{class:\"post_menu \".concat(c&&\\'open\\'),ref:e,\"data-tiara-action-name\":\"포스트쓰리닷_클릭\",\"data-tiara-layer\":\"post_more\"},React.createElement(\"a\",{href:\"#\",class:\"btn_menu\",onClick:function(e){e.preventDefault(),i(!c)}},React.createElement(\"span\",{class:\"ico_view\"},\"메뉴보기\")),React.createElement(\"div\",{class:\"layer_menu\"},React.createElement(\"div\",{class:\"list_menu\"},React.createElement(\"a\",{href:\"#\",class:\"link_menu\",onClick:(a=t,function(e){var t;e.preventDefault(),l||(document.getElementById(\\'socialShareMoreContainer\\')||s(),t=m(a),t=new window.socialshareRenewal.Main(e.target,t),o(t),t.viewer.show())}),\"data-tiara\":\"share\"},\"공유하기\",React.createElement(\"span\",{class:\"ico_view ico_share\"})),React.createElement(\"a\",{target:\"_blank\",href:\"https://channel.daum.net/report/\".concat(t.id),class:\"link_menu\",\"data-tiara\":\"report\"},\"신고하기\",React.createElement(\"span\",{class:\"ico_view ico_report\"})))))))}e=\\'fpdSLZZdI9\\',t=d?5:6,axios.get(\"\".concat(Conf.api.hadesRest,\"/post_related_target/data\"),{params:{targetId:e,targetType:\\'NEWS\\',size:6}}).then(function(e){return(e.data||[]).splice(0,t)}).then(function(e){var t,a;0<e.length?(l.style.display=\\'block\\',t=\\'//t1.daumcdn.net/daumtop_deco/socialshare/socialshare_novender_mo-2.6.0.js\\',0===document.querySelectorAll(\"head > script[src=\\'\".concat(t,\"\\']\")).length&&((a=document.createElement(\\'script\\')).src=t,document.head.appendChild(a)),ReactDOM.render(React.createElement(n,{postList:e}),l)):l.parentElement.removeChild(l)}).catch(function(e){console.error(e),l.parentElement.removeChild(l)})})();</script>\\n  <script src=\"https://comment.kakao.com/latest/comment.sdk.loader.v1.js\"></script>\\n  <script>\"use strict\";function asyncGeneratorStep(e,t,n,a,r,o,i){try{var c=e[o](i),s=c.value}catch(e){return void n(e)}c.done?t(s):Promise.resolve(s).then(a,r)}function _asyncToGenerator(c){return function(){var e=this,i=arguments;return new Promise(function(t,n){var a=c.apply(e,i);function r(e){asyncGeneratorStep(a,t,n,r,o,\"next\",e)}function o(e){asyncGeneratorStep(a,t,n,r,o,\"throw\",e)}r(void 0)})}}!(function(){function i(){var e;null==s||null!==(e=s.querySelector(\\'a.btn_ttalk\\'))&&void 0!==e&&e.remove(),null!=l&&l.remove()}var c,n,a,e,r=Number(\\'1667790315634\\')+60*60*24*1e3,t=r<=(new Date).getTime(),s=document.querySelector(\\'div.util_wrap\\'),l=document.querySelector(\\'div.ttalk_view\\'),o=l.querySelector(\\'em.num_ttalk\\');function d(){var e=document.createElement(\\'div\\');e.setAttribute(\\'id\\',\\'timetalkDimmed\\'),e.style.cssText=\\'position:fixed;width:100%;height:100%;z-index:9000;background-color:rgba(0,0,0,0.4);\\',e.addEventListener(\\'click\\',function(){var e=document.getElementById(\\'timetalkFrame\\'),t=document.getElementById(\\'timetalkDimmed\\');null!=e&&e.classList.remove(\\'open\\'),setTimeout(function(){null!=e&&e.remove(),null!=t&&t.remove(),document.body.style.overflow=\\'visible\\'},3*100)});var t=document.createElement(\\'iframe\\');t.setAttribute(\\'id\\',\\'timetalkFrame\\'),t.setAttribute(\\'src\\',\\'/timetalk/fpdSLZZdI9\\'),t.style.cssText=\\'position:fixed;right:0;width:400px;height:100%;z-index:9001;border:none;\\',t.addEventListener(\\'load\\',function(e){e.currentTarget.classList.add(\\'open\\');e=window.parent;a(e.location)&&e.history.replaceState({},document.title,e.location.href.replace(new RegExp(\"\\\\\\\\??\".concat(n)),\\'\\'))}),document.body.style.overflow=\\'hidden\\',document.body.prepend(t),document.body.prepend(e)}t?i():(l.style.display=\\'block\\',c=setInterval(function(){var e=(new Date).getTime();if(r<=e||!o)return clearInterval(c),void i();var t=r-e,n=Math.floor(t/1e3),e=Math.floor(n/60),t=Math.floor(e/60),n=(n%60).toString().padStart(2,\\'0\\'),e=(e%60).toString().padStart(2,\\'0\\'),t=(t%24).toString().padStart(2,\\'0\\');o.innerHTML=\"<span class=\\\\\"txt_g\\\\\">\".concat(t,\"</span>:<span class=\\\\\"txt_g\\\\\">\").concat(e,\"</span>:<span class=\\\\\"txt_g\\\\\">\").concat(n,\"</span>\")},100),n=\\'isOpenTimetalk=true\\',e=function(e){e.preventDefault(),d()},(a=function(e){return e.search.includes(n)})(window.location)&&d(),(t=document.createElement(\\'a\\')).setAttribute(\\'href\\',\\'\\'),t.setAttribute(\\'target\\',\\'_blank\\'),t.setAttribute(\\'data-tiara\\',\\'타임톡버튼\\'),t.setAttribute(\\'data-tiara-action-name\\',\\'헤드타임톡_클릭\\'),t.classList.add(\\'btn_ttalk\\'),t.innerHTML=\"<span class=\\\\\"ico_view ico_ttalk\\\\\">타임톡</span>\",t.addEventListener(\\'click\\',e),s.insertBefore(t,s.querySelector(\\'div.util_view\\')),l.querySelector(\\'a.link_ttalkgo\\').addEventListener(\\'click\\',e),window.addEventListener(\\'alex-comment-sdk\\',(function(){var t=_asyncToGenerator(regeneratorRuntime.mark(function e(t){var n,a,r,o;return regeneratorRuntime.wrap(function(e){for(;1;)switch(e.prev=e.next){case 0:return e.prev=0,n=t.detail,r={phase:\"production\",clientId:\"Y6z3VwK78FOFN59061b64xYu@timetalk\",postKey:a=\"fpdSLZZdI9\"},e.next=6,n(r);case 6:return o=e.sent,e.next=9,o.getPostsCommentCount([a]);case 9:o=e.sent,o=StringUtil.numberWithCommas(o[a]||0),s.querySelector(\\'a.btn_ttalk\\').innerHTML=\"<span class=\\\\\"ico_view ico_ttalk\\\\\">타임톡</span>\".concat(o,\"<span class=\\\\\"screen_out\\\\\">개</span>\"),l.querySelector(\\'span.txt_info\\').innerHTML=\"<span class=\\\\\"screen_out\\\\\">현재 톡 갯수</span><em class=\\\\\"txt_num\\\\\">\".concat(o,\"</em>개\"),e.next=19;break;case 15:e.prev=15,e.t0=e[\"catch\"](0),i(),clearInterval(c);case 19:case\"end\":return e.stop()}},e,null,[[0,15]])}));return function(e){return t.apply(this,arguments)}})()))})();</script>\\n  <script>\"use strict\";function asyncGeneratorStep(e,n,t,r,a,c,o){try{var s=e[c](o),i=s.value}catch(e){return void t(e)}s.done?n(i):Promise.resolve(i).then(r,a)}function _asyncToGenerator(s){return function(){var e=this,o=arguments;return new Promise(function(n,t){var r=s.apply(e,o);function a(e){asyncGeneratorStep(r,n,t,a,c,\"next\",e)}function c(e){asyncGeneratorStep(r,n,t,a,c,\"throw\",e)}a(void 0)})}}_asyncToGenerator(regeneratorRuntime.mark(function e(){var n,t,r,a,c,o,s;return regeneratorRuntime.wrap(function(e){for(;1;)switch(e.prev=e.next){case 0:return n=document.getElementById(\\'news_related_query_comp\\'),e.prev=1,t=\\'20221107120515635\\',e.next=5,axios.get(\"\".concat(Conf.api.hadesRest,\"/news_related_query/data?size=6&maxTextLen=12&newsId=\")+t);case 5:if(s=e.sent,0==(r=s.data).length)return n.parentElement.removeChild(n),e.abrupt(\"return\");e.next=10;break;case 10:a=10,c=s=2,o=3,s=_.flatten(r.reduce(function(e,n){var t=e[e.length-1];return t.length<c||t.reduce(function(e,n){return e+n.length},0)+n.length<=a&&t.length<o?t.push(n):e.push([n]),e},[[]]).slice(0,s)),n.innerHTML=\"\\\\n            <div class=\\\\\"box_tit\\\\\">\\\\n                <h3 class=\\\\\"tit_box\\\\\">함께 찾은 검색어</h3>\\\\n            </div>\\\\n            <ul class=\\\\\"list_keyword\\\\\" data-tiara=\\\\\"검색어\\\\\">\\\\n                \".concat(s.map(function(e){return\"<li> <a href=\\\\\"https://search.daum.net/search?w=tot&DA=NDT&rtmaxcoll=NNS&q=\".concat(encodeURIComponent(e),\"\\\\\" class=\\\\\"link_keyword\\\\\" title=\\\\\"\").concat(_.escape(e),\"\\\\\"><span class=\\\\\"ico_view ico_keyword\\\\\"></span>\").concat(_.escape(e),\"</a> </li>\")}).join(\\'\\'),\"\\\\n            </ul>\\\\n        \"),e.next=21;break;case 18:e.prev=18,e.t0=e[\"catch\"](1),n.parentElement.removeChild(n);case 21:case\"end\":return e.stop()}},e,null,[[1,18]])}))();</script>\\n  <script>\"use strict\";function _slicedToArray(e,t){return _arrayWithHoles(e)||_iterableToArrayLimit(e,t)||_unsupportedIterableToArray(e,t)||_nonIterableRest()}function _nonIterableRest(){throw new TypeError(\"Invalid attempt to destructure non-iterable instance.\\\\nIn order to be iterable, non-array objects must have a [Symbol.iterator]() method.\")}function _unsupportedIterableToArray(e,t){if(e){if(\"string\"==typeof e)return _arrayLikeToArray(e,t);var a=Object.prototype.toString.call(e).slice(8,-1);return\"Object\"===a&&e.constructor&&(a=e.constructor.name),\"Map\"===a||\"Set\"===a?Array.from(e):\"Arguments\"===a||/^(?:Ui|I)nt(?:8|16|32)(?:Clamped)?Array$/.test(a)?_arrayLikeToArray(e,t):void 0}}function _arrayLikeToArray(e,t){(null==t||t>e.length)&&(t=e.length);for(var a=0,r=new Array(t);a<t;a++)r[a]=e[a];return r}function _iterableToArrayLimit(e,t){if(\"undefined\"!=typeof Symbol&&Symbol.iterator in Object(e)){var a=[],r=!0,n=!1,i=void 0;try{for(var c,o=e[Symbol.iterator]();!(r=(c=o.next()).done)&&(a.push(c.value),!t||a.length!==t);r=!0);}catch(e){n=!0,i=e}finally{try{r||null==o[\"return\"]||o[\"return\"]()}finally{if(n)throw i}}return a}}function _arrayWithHoles(e){if(Array.isArray(e))return e}function ownKeys(t,e){var a,r=Object.keys(t);return Object.getOwnPropertySymbols&&(a=Object.getOwnPropertySymbols(t),e&&(a=a.filter(function(e){return Object.getOwnPropertyDescriptor(t,e).enumerable})),r.push.apply(r,a)),r}function _objectSpread(t){for(var e=1;e<arguments.length;e++){var a=null!=arguments[e]?arguments[e]:{};e%2?ownKeys(Object(a),!0).forEach(function(e){_defineProperty(t,e,a[e])}):Object.getOwnPropertyDescriptors?Object.defineProperties(t,Object.getOwnPropertyDescriptors(a)):ownKeys(Object(a)).forEach(function(e){Object.defineProperty(t,e,Object.getOwnPropertyDescriptor(a,e))})}return t}function _defineProperty(e,t,a){return t in e?Object.defineProperty(e,t,{value:a,enumerable:!0,configurable:!0,writable:!0}):e[t]=a,e}!(function(){var e,t,a,r,n,c=\\'true\\'==\\'false\\',i=document.getElementById(\\'special_series_list\\'),o=\\'S200x132\\';function l(e){var t=e.seriesList,e=_slicedToArray(React.useState(t[0]),2),i=e[0],a=e[1];return React.createElement(React.Fragment,null,React.createElement(\"div\",{className:\"box_tit\"},React.createElement(\"h3\",{className:\"tit_box\"},\"한겨레\",\" PICK\")),c&&React.createElement(\"div\",{className:\"tabg_wrap\"},React.createElement(\"div\",{className:\"inner_wrap\"},React.createElement(\"ul\",{className:\"tab_g\",role:\"tablist\",\"data-tiara-layer\":\"media_pick_news\",\"data-tiara-action-name\":\"본문기획뉴스_클릭\"},t.map(function(t){return React.createElement(\"li\",{key:t.id,role:\"presentation\"},React.createElement(\"a\",{href:\"#none\",role:\"tab\",\"data-tiara\":\"탭\",\"aria-selected\":t.id==i.id?\"true\":\"false\",className:\"link_tab\",onClick:function(e){t.id!=i.id&&a(t),e.preventDefault()}},t.title))})))),!c&&React.createElement(\"ul\",{role:\"tablist\",className:\"tab_g\",\"data-tiara-layer\":\"media_pick_news\",\"data-tiara-action-name\":\"본문기획뉴스_클릭\"},t.map(function(t){return React.createElement(\"li\",{key:t.id,role:\"presentation\"},React.createElement(\"a\",{href:\"#none\",role:\"tab\",\"data-tiara\":\"탭\",\"aria-selected\":t.id==i.id?\"true\":\"false\",className:\"link_tab\",onClick:function(e){t.id!=i.id&&a(t),e.preventDefault()}},t.title))})),React.createElement(\"ul\",{className:\"list_column\",\"data-tiara-ordnum-layer\":!0,\"data-tiara-layer\":\"media_pick_news\",\"data-tiara-action-name\":\"본문기획뉴스_클릭\",\"data-tiara-action-kind\":\"ClickContent\"},i.contents.map(function(e){var t=e.contentId,a=e.title,r=e.thumbnail,n=e.createDt,e=e.mobileLink;return React.createElement(\"li\",{key:t},React.createElement(\"div\",{className:\"item_column\"},React.createElement(\"a\",{href:e,className:\"link_thumb\",\"data-tiara\":\"탭\".concat(i.index+1,\"_리스트\")},React.createElement(\"div\",{className:\"wrap_thumb\"},React.createElement(\"img\",{src:StringUtil.makeThumbnail(r,o,\\'70\\'),className:\"thumb_g\",alt:\"\"})),React.createElement(\"div\",{className:\"cont_thumb\"},React.createElement(\"div\",{className:\"inner_cont\"},React.createElement(\"div\",{className:\"thumb_wrap\"},React.createElement(\"strong\",{className:\"tit_txt\"},a),\" \",React.createElement(\"span\",{className:\"info_thumb\"},StringUtil.makeViewTime(n))))))))})),React.createElement(\"div\",{className:\"btnmore_group\",\"data-tiara-layer\":\"media_pick_news\",\"data-tiara-action-name\":\"본문기획뉴스_클릭\",\"data-tiara-action-kind\":\"ClickContent\"},React.createElement(\"a\",{href:i.link,className:\"link_morewide\",\"data-tiara\":\"더보기\"},React.createElement(\"span\",{className:\"tit_more\"},i.title,\" \"),\"더보기\",React.createElement(\"span\",{className:\"ico_view ico_more\"}))))}t=(e={cpId:\\'17\\',group:\\'special\\',size:10,sort:\\'favorite:desc,lastModifiedDate:desc\\',minContentCount:4}).cpId,a=e.group,r=e.size,n=e.sort,e=e.minContentCount,axios.get(\"\".concat(Conf.api.hadesRest,\"/series_sorted_favorite_list\"),{params:{cpId:t,group:a,sort:n,size:r,minContentCount:e}}).then(function(e){return e.data.body.data}).then(function(e){0<e.length?(e=e.map(function(e,t){return _objectSpread(_objectSpread({},e),{},{index:t})}),ReactDOM.render(React.createElement(l,{seriesList:e}),i)):i.parentNode.removeChild(i)}).catch(function(e){return i.parentNode.removeChild(i)})})();</script>\\n  <script>\"use strict\";function _slicedToArray(e,t){return _arrayWithHoles(e)||_iterableToArrayLimit(e,t)||_unsupportedIterableToArray(e,t)||_nonIterableRest()}function _nonIterableRest(){throw new TypeError(\"Invalid attempt to destructure non-iterable instance.\\\\nIn order to be iterable, non-array objects must have a [Symbol.iterator]() method.\")}function _unsupportedIterableToArray(e,t){if(e){if(\"string\"==typeof e)return _arrayLikeToArray(e,t);var a=Object.prototype.toString.call(e).slice(8,-1);return\"Object\"===a&&e.constructor&&(a=e.constructor.name),\"Map\"===a||\"Set\"===a?Array.from(e):\"Arguments\"===a||/^(?:Ui|I)nt(?:8|16|32)(?:Clamped)?Array$/.test(a)?_arrayLikeToArray(e,t):void 0}}function _arrayLikeToArray(e,t){(null==t||t>e.length)&&(t=e.length);for(var a=0,r=new Array(t);a<t;a++)r[a]=e[a];return r}function _iterableToArrayLimit(e,t){if(\"undefined\"!=typeof Symbol&&Symbol.iterator in Object(e)){var a=[],r=!0,n=!1,i=void 0;try{for(var c,o=e[Symbol.iterator]();!(r=(c=o.next()).done)&&(a.push(c.value),!t||a.length!==t);r=!0);}catch(e){n=!0,i=e}finally{try{r||null==o[\"return\"]||o[\"return\"]()}finally{if(n)throw i}}return a}}function _arrayWithHoles(e){if(Array.isArray(e))return e}function asyncGeneratorStep(e,t,a,r,n,i,c){try{var o=e[i](c),s=o.value}catch(e){return void a(e)}o.done?t(s):Promise.resolve(s).then(r,n)}function _asyncToGenerator(o){return function(){var e=this,c=arguments;return new Promise(function(t,a){var r=o.apply(e,c);function n(e){asyncGeneratorStep(r,t,a,n,i,\"next\",e)}function i(e){asyncGeneratorStep(r,t,a,n,i,\"throw\",e)}n(void 0)})}}_asyncToGenerator(regeneratorRuntime.mark(function e(){var t,a,r,n,i,c,o,s,l,u;return regeneratorRuntime.wrap(function(e){for(;1;)switch(e.prev=e.next){case 0:return u=function(e){e=e.contents;return React.createElement(React.Fragment,null,e.map(function(e){var t=e.pcLink,a=e.thumbnail,r=e.index,n=e.title,e=e.createDt;return React.createElement(\"li\",null,React.createElement(\"div\",{class:\"item_column\"},React.createElement(\"a\",{href:t,class:\"link_thumb\",\"data-tiara\":\"리스트\"},React.createElement(\"div\",{class:\"wrap_thumb\"},React.createElement(\"img\",{src:StringUtil.makeThumbnail(a,\\'S200x132\\',\\'70\\'),class:\"thumb_g\",alt:\"\"})),React.createElement(\"div\",{class:\"cont_thumb\"},React.createElement(\"div\",{class:\"inner_cont\"},React.createElement(\"div\",{class:\"thumb_wrap\"},React.createElement(\"strong\",{class:\"tit_txt\"},React.createElement(\"span\",{class:\"rank_num\"},r,React.createElement(\"span\",{class:\"screen_out\"},\"위\")),n),React.createElement(\"span\",{class:\"info_thumb\"},StringUtil.makeViewTime(e))))))))}))},l=function(e){var t=e.title,a=e.isVisible,r=e.tabIdx,n=e.activeTabIdx,i=e.setActiveTabIdx;return React.createElement(React.Fragment,null,a&&React.createElement(\"li\",{role:\"presentation\"},React.createElement(\"a\",{onClick:function(){i(r)},id:\"popularNews\",href:\"javascript:void(0)\",role:\"tab\",\"aria-selected\":n===r,class:\"link_tab\"},t)))},s=function(e){var t=e.tabInfos,a=e.popularNews,r=e.driNews,e=_slicedToArray(React.useState(5===a.length?0:1),2),n=e[0],i=e[1];return React.createElement(React.Fragment,null,React.createElement(\"div\",{class:\"box_tit\"},React.createElement(\"h3\",{class:\"tit_box\"},\"한겨레 랭킹 뉴스\"),React.createElement(\"p\",{class:\"txt_box\"},t[n].title)),React.createElement(\"ul\",{class:\"tab_g tablist2\",role:\"tablist\"},t.map(function(e,t){return React.createElement(l,{isVisible:e.isVisible,title:e.tabTitle,tabIdx:t,activeTabIdx:n,setActiveTabIdx:i})})),React.createElement(\"ol\",{class:\"list_rank_news\",\"data-tiara-action-name\":t[n].tiaraActionName,\"data-tiara-layer\":t[n].tiaraSecondLayer,\"data-tiara-action-kind\":\"ClickContent\",\"data-tiara-ordnum-layer\":!0},React.createElement(u,{contents:0===n?a:r})))},o=function(){return(o=_asyncToGenerator(regeneratorRuntime.mark(function e(t){var a,r;return regeneratorRuntime.wrap(function(e){for(;1;)switch(e.prev=e.next){case 0:return a=t.key,r=t.params,e.next=3,axios.get(\"\".concat(Conf.api.hadesRest,\"/\").concat(a),{params:r}).then(function(e){return e.data.body.data||[]});case 3:return e.abrupt(\"return\",e.sent);case 4:case\"end\":return e.stop()}},e)}))).apply(this,arguments)},c=function(){return o.apply(this,arguments)},t=document.getElementById(\\'rankingNewsContainer\\'),a=[{key:\"channel_home_ranking_latest\",params:{size:5,consumerId:\"media\",cpId:\"17\",hours:3}},{key:\"dri_ranking_news\",params:{size:5,hours:168,from:\"media\",cpId:\"17\"}}],e.next=9,c(a[0]);case 9:return r=e.sent,e.next=12,c(a[1]);case 12:n=e.sent,(i=[{isVisible:5===r.length,title:\\'최근 3시간 집계 결과입니다.\\',tabTitle:\\'많이 본 뉴스\\',tiaraActionName:\\'하단많이본랭킹_클릭\\',tiaraSecondLayer:\\'media_ranking_news_popular\\'},{isVisible:5===n.length,title:\\'이용자의 본문 주목도 높은 뉴스입니다.\\',tabTitle:\\'탐독한 뉴스\\',tiaraActionName:\\'하단열독률랭킹_클릭\\',tiaraSecondLayer:\\'media_ranking_news_duration\\'}])[0].isVisible||i[1].isVisible?(t.style.display=\\'block\\',ReactDOM.render(React.createElement(s,{tabInfos:i,popularNews:r,driNews:n}),t)):t.parentElement.removeChild(t);case 15:case\"end\":return e.stop()}},e)}))();</script>\\n  <script>\"use strict\";function _slicedToArray(e,t){return _arrayWithHoles(e)||_iterableToArrayLimit(e,t)||_unsupportedIterableToArray(e,t)||_nonIterableRest()}function _nonIterableRest(){throw new TypeError(\"Invalid attempt to destructure non-iterable instance.\\\\nIn order to be iterable, non-array objects must have a [Symbol.iterator]() method.\")}function _unsupportedIterableToArray(e,t){if(e){if(\"string\"==typeof e)return _arrayLikeToArray(e,t);var r=Object.prototype.toString.call(e).slice(8,-1);return\"Object\"===r&&e.constructor&&(r=e.constructor.name),\"Map\"===r||\"Set\"===r?Array.from(e):\"Arguments\"===r||/^(?:Ui|I)nt(?:8|16|32)(?:Clamped)?Array$/.test(r)?_arrayLikeToArray(e,t):void 0}}function _arrayLikeToArray(e,t){(null==t||t>e.length)&&(t=e.length);for(var r=0,a=new Array(t);r<t;r++)a[r]=e[r];return a}function _iterableToArrayLimit(e,t){if(\"undefined\"!=typeof Symbol&&Symbol.iterator in Object(e)){var r=[],a=!0,n=!1,c=void 0;try{for(var o,i=e[Symbol.iterator]();!(a=(o=i.next()).done)&&(r.push(o.value),!t||r.length!==t);a=!0);}catch(e){n=!0,c=e}finally{try{a||null==i[\"return\"]||i[\"return\"]()}finally{if(n)throw c}}return r}}function _arrayWithHoles(e){if(Array.isArray(e))return e}function ownKeys(t,e){var r,a=Object.keys(t);return Object.getOwnPropertySymbols&&(r=Object.getOwnPropertySymbols(t),e&&(r=r.filter(function(e){return Object.getOwnPropertyDescriptor(t,e).enumerable})),a.push.apply(a,r)),a}function _objectSpread(t){for(var e=1;e<arguments.length;e++){var r=null!=arguments[e]?arguments[e]:{};e%2?ownKeys(Object(r),!0).forEach(function(e){_defineProperty(t,e,r[e])}):Object.getOwnPropertyDescriptors?Object.defineProperties(t,Object.getOwnPropertyDescriptors(r)):ownKeys(Object(r)).forEach(function(e){Object.defineProperty(t,e,Object.getOwnPropertyDescriptor(r,e))})}return t}function _defineProperty(e,t,r){return t in e?Object.defineProperty(e,t,{value:r,enumerable:!0,configurable:!0,writable:!0}):e[t]=r,e}!(function(){var r=document.getElementById(\\'keyword_news_list\\'),o=window.matchMedia(\\'(prefers-color-scheme: dark)\\').matches;axios.get(\"\".concat(Conf.api.hadesRest,\"/newsview_keyword_news\"),{params:{contentId:\"20221107120515635\"}}).then(function(e){return e.data.body.data}).then(function(e){function t(e){return(e=new URL(e)).searchParams.set(\"t_src\",\"daum\"),e.searchParams.set(\"t_ch\",\"view\"),e.searchParams.set(\"t_obj\",\"news\"),e.toString()}var r=e.keywordHomeUrl,e=e.keywordList;return{keywordHomeUrl:t(r),keywordList:e.map(function(e){return _objectSpread(_objectSpread({},e),{},{moreLink:t(e.moreLink)})})}}).then(function(e){var t=e.keywordHomeUrl,e=e.keywordList;_.isEmpty(e)?null!=r&&r.parentNode.removeChild(r):ReactDOM.render(React.createElement(a,{keywordHomeUrl:t,keywordList:e}),r)}).catch(function(){null!=r&&r.parentNode.removeChild(r)});var a=function(e){var t=e.keywordHomeUrl,r=e.keywordList,e=_slicedToArray(React.useState(r[0]),2),a=e[0],n=e[1],c=\"clusterId=\".concat(a.clusterId,\"&clusterTitle=\").concat(a.keyword,\"&keywordType=\").concat(a.keywordType);return React.createElement(React.Fragment,null,React.createElement(\"div\",{class:\"box_tit\"},React.createElement(\"h3\",{class:\"tit_box\"},\"이 뉴스와 관련된 키워드\"),React.createElement(\"a\",{href:t,class:\"btn_viewgo\",\"data-tiara-custom\":c},\"키워드 탐색\",React.createElement(\"span\",{class:\"ico_view\"}))),React.createElement(\"ul\",{class:\"tab_g\",role:\"tablist\",\"data-tiara\":\"탭\"},r.map(function(t){var e=t.color?o?t.color.dark:t.color.light:void 0;return React.createElement(\"li\",{role:\"presentation\"},React.createElement(\"a\",{href:\"#none\",class:\"link_tab\",role:\"tab\",\"aria-selected\":t.keyword==a.keyword?\"true\":\"false\",onClick:function(e){e.preventDefault(),n(t)},style:t.keyword==a.keyword&&e?{backgroundColor:e,borderColor:e}:{},\"data-tiara-custom\":\"clusterId=\".concat(t.clusterId,\"&clusterTitle=\").concat(t.keyword,\"&keywordType=\").concat(t.keywordType)},t.thumbnail&&React.createElement(\"span\",{class:\"thumb_img\"},React.createElement(\"img\",{src:StringUtil.makeThumbnail(t.thumbnail,28==t.clusterTypeId?\\'P80x80\\':\\'S80x80\\'),class:\"thumb_g\",alt:\"\"})),t.keyword))})),React.createElement(\"ul\",{class:\"list_column\",\"data-tiara\":\"리스트\"},a.subContents.map(function(e){return React.createElement(\"li\",null,React.createElement(\"div\",{class:\"item_column\"},React.createElement(\"a\",{href:e.pcLink,class:\"link_thumb\",\"data-tiara-custom\":c},React.createElement(\"div\",{class:\"wrap_thumb\"},React.createElement(\"img\",{src:StringUtil.makeThumbnail(e.thumbnail,\\'S200x132\\',\\'70\\'),class:\"thumb_g\",alt:\"\"})),React.createElement(\"div\",{class:\"cont_thumb\"},React.createElement(\"div\",{class:\"inner_cont\"},React.createElement(\"div\",{class:\"thumb_wrap\"},React.createElement(\"strong\",{class:\"tit_txt\"},e.title),React.createElement(\"span\",{class:\"info_thumb\"},\"\".concat(e.mediaName,\" · \").concat(StringUtil.makeViewTime(e.createdAt)))))))))})),React.createElement(\"div\",{class:\"btnmore_group\"},React.createElement(\"a\",{href:a.moreLink,class:\"link_morewide\",\"data-tiara-custom\":c},React.createElement(\"span\",{class:\"tit_more\"},a.keyword,\" \"),\"더보기\",React.createElement(\"span\",{class:\"ico_view ico_more\"}))))}})();</script>\\n  <script>\"use strict\";!(function(){var e=0,t=\\'1001\\'||\\'media\\',s=document.querySelectorAll(\\'.tabcont_service\\');function a(e,t,c){t=0===t?\\'뉴스\\':1===t?\\'연예\\':\\'스포츠\\',e.innerHTML=c?\"\".concat(t,\" <span class=\\\\\"screen_out\\\\\">선택됨</span>\"):t}\\'1005\\'===t?e=1:\\'1004\\'!==t&&\\'sports\\'!==t||(e=2),(t=document.querySelectorAll(\\'#serviceDirect li a\\'))[e].classList.add(\\'on\\'),s[e].style.display=\"block\",t.forEach(function(e,r){return e.addEventListener(\\'click\\',function(){Array.from(document.getElementById(\\'serviceDirect\\').children).forEach(function(e,t){var c=e.querySelector(\\'.link_tab\\');t===r?(e.setAttribute(\\'aria-selected\\',\"true\"),c.classList.add(\\'on\\'),a(c,t,!0),s[t].style.display=\"block\"):(e.setAttribute(\\'aria-selected\\',\"false\"),c.classList.remove(\\'on\\'),a(c,t,!1),s[t].style.display=\"none\")})})})})();</script>\\n  <script>\"use strict\";!(function(){var n=document.getElementById(\\'service_notice\\');axios.get(\"\".concat(Conf.api.hadesRest,\"/service_notice_v2/data?category=\").concat(\"daumnews_notice\",\"&tag=\").concat(\"notice\")).then(function(t){t=t.data;t.noticeTitle&&t.noticeUrl?n.innerHTML=\"\\\\n                    <a href=\\\\\"\".concat(t.noticeUrl,\"\\\\\" class=\\\\\"link_cont\\\\\" data-tiara=\\\\\"공지사항\\\\\">\\\\n                        <strong class=\\\\\"tit_notice\\\\\">공지</strong>\\\\n                        <span class=\\\\\"txt_notice\\\\\">\").concat(t.noticeTitle,\"</span>\\\\n                    </a>\\\\n                \"):n.parentNode.removeChild(n)}).catch(function(t){n.parentNode.removeChild(n)})})();</script>\\n  <script>\"use strict\";!(function(){var e=document.querySelector(\\'.direct_link\\'),t=document.querySelector(\\'.btn_fold\\');null!=t&&t.addEventListener(\\'click\\',function(){e.classList.toggle(\"direct_open\")})})();</script>\\n  <script src=\"//search1.daumcdn.net/search/statics/common/js/g/search_dragselection.min.js\"></script>\\n  <script>\"use strict\";function _slicedToArray(t,n){return _arrayWithHoles(t)||_iterableToArrayLimit(t,n)||_unsupportedIterableToArray(t,n)||_nonIterableRest()}function _nonIterableRest(){throw new TypeError(\"Invalid attempt to destructure non-iterable instance.\\\\nIn order to be iterable, non-array objects must have a [Symbol.iterator]() method.\")}function _unsupportedIterableToArray(t,n){if(t){if(\"string\"==typeof t)return _arrayLikeToArray(t,n);var e=Object.prototype.toString.call(t).slice(8,-1);return\"Object\"===e&&t.constructor&&(e=t.constructor.name),\"Map\"===e||\"Set\"===e?Array.from(t):\"Arguments\"===e||/^(?:Ui|I)nt(?:8|16|32)(?:Clamped)?Array$/.test(e)?_arrayLikeToArray(t,n):void 0}}function _arrayLikeToArray(t,n){(null==n||n>t.length)&&(n=t.length);for(var e=0,a=new Array(n);e<n;e++)a[e]=t[e];return a}function _iterableToArrayLimit(t,n){if(\"undefined\"!=typeof Symbol&&Symbol.iterator in Object(t)){var e=[],a=!0,i=!1,r=void 0;try{for(var o,s=t[Symbol.iterator]();!(a=(o=s.next()).done)&&(e.push(o.value),!n||e.length!==n);a=!0);}catch(t){i=!0,r=t}finally{try{a||null==s[\"return\"]||s[\"return\"]()}finally{if(i)throw r}}return e}}function _arrayWithHoles(t){if(Array.isArray(t))return t}!(function(){function t(t){var n=t.newsid,e=t.cp_name,a=t.title,i=t.image,t=t.moddt;return{newsid:n,cp_name:e,title:(a=a,\"enter\"===s?a.replace(/\\\\[.*?]+/gi,\\'\\'):a),url:\"https://v.daum.net/v/\".concat(n),thumbnail:StringUtil.makeThumbnail(i,r,o),update_dt:StringUtil.makeViewTime((function(t){try{if(\\'string\\'!=typeof t||14!==t.length)throw new Error(\"[IllegalArgumentException] 유효하지 않은 날짜형식입니다. | \".concat(t));var n=t.slice(0,4),e=t.slice(4,6),a=t.slice(6,8),i=t.slice(8,10),r=t.slice(10,12),o=t.slice(12);return dateUtil.addMinutes(new Date(n,e-1,a,i,r,o),-540-(new Date).getTimezoneOffset())}catch(t){console.error(t)}})(t))}}var n=20,r=\"S200x132\",o=\\'70\\',e=\"20221107120515635\",s=(function(){switch(\"1001\"){case\"1004\":return\"sports\";case\"1005\":return\"enter\";default:return\"news\"}})(),a=encodeURIComponent(JSON.stringify({itemid:e,category:s})),i={source:e},c=\"\\\\n        <div class=\\\\\"item_column\\\\\">\\\\n            <a href=\\\\\"<%=obj.url%>\\\\\" class=\\\\\"link_thumb\\\\\" data-itemid=\\\\\"<%=obj.newsid%>\\\\\" data-pos=\\\\\"<%=obj.pos%>\\\\\" data-tiara=\\\\\"리스트\\\\\">\\\\n                <div class=\\\\\"wrap_thumb\\\\\">\\\\n                    <img src=\\\\\"<%=obj.thumbnail%>\\\\\" class=\\\\\"thumb_g\\\\\" alt=\\\\\"\\\\\">\\\\n                </div>\\\\n                <div class=\\\\\"cont_thumb\\\\\">\\\\n                    <div class=\\\\\"inner_cont\\\\\">\\\\n                        <div class=\\\\\"thumb_wrap\\\\\">\\\\n                            <strong class=\\\\\"tit_txt\\\\\"><%=obj.title%></strong>\\\\n                            <span class=\\\\\"info_thumb\\\\\"><%=obj.cp_name%> · <%=obj.update_dt%></span>\\\\n                        </div>\\\\n                    </div>\\\\n                </div>\\\\n            </a>\\\\n        </div>\\\\n    \",l=new Set;(e=new Toros.Connector({url:\\'mediadaum/most_similar\\',queryParams:a,slice:16,filter:function(t){t=t._id;return l.add(t),!0},map:t,targetClass:\\'item_toros\\',template:c,svc:\\'mediadaum_sim\\',impLabel:\\'toros_mediadaum_sim_imp\\',impProps:i,viewLabel:\\'toros_mediadaum_sim_vimp\\',viewProps:i,clickLabel:\\'toros_mediadaum_sim_click\\',clickProps:i})).render(),e.fetchPromise.then(function(){0<n&&new Toros.Connector({url:\\'mediadaum/soonsal_v2\\',queryParams:a,slice:n,filter:function(t){t=t._id;return!l.has(t)},map:t,targetClass:\\'item_nachu\\',template:c,svc:\\'mediadaum_personal\\',impLabel:\\'toros_mediadaum_personal_imp\\',impProps:i,viewLabel:\\'toros_mediadaum_personal_vimp\\',viewProps:i,clickLabel:\\'toros_mediadaum_personal_click\\',clickProps:i}).render()});var d,e=\"false\"==\"false\",m=\"\\\\n        <li adfit-unit-id=\\\\\"{0}\\\\\" adfit-param-cp=\\\\\"\".concat(\"17_pc_media_news\",\"\\\\\" adfit-param-channel=\\\\\"\").concat(\"harmony\",\"\\\\\" adfit-unit-idx=\\\\\"{1}\\\\\">\\\\n            <div class=\\\\\"item_column item_ad\\\\\">\\\\n                <a href=\\\\\"#none\\\\\" class=\\\\\"link_thumb\\\\\" adfit-landing-url adfit-action-url adfit-land-type=\\\\\"right\\\\\">\\\\n                    <div class=\\\\\"wrap_thumb\\\\\">\\\\n                        <img class=\\\\\"thumb_g\\\\\" adfit-main-img-url adfit-image-width=\\\\\"\").concat(e?\\'200\\':\\'224\\',\"\\\\\" adfit-image-height=\\\\\"\").concat(e?\\'132\\':\\'144\\',\"\\\\\">\\\\n                    </div>\\\\n                    <div class=\\\\\"cont_thumb\\\\\">\\\\n                        <div class=\\\\\"inner_cont\\\\\">\\\\n                            <div class=\\\\\"thumb_wrap\\\\\">\\\\n                                <strong class=\\\\\"tit_txt\\\\\" adfit-title></strong>\\\\n                                <span class=\\\\\"info_ad\\\\\">\\\\n                                    <span class=\\\\\"\").concat(e?\\'ico_view ico_ad\\':\\'ico_ad\\',\"\\\\\" adfit-ad-info>AD</span>\\\\n                                    <span class=\\\\\"txt_adname\\\\\" adfit-profile-name></span>\\\\n                                </span>\\\\n                            </div>\\\\n                        </div>\\\\n                    </div>\\\\n                </a>\\\\n            </div>\\\\n        </li>\\\\n    \"),u=document.querySelectorAll(\\'.item_ad\\');(e=\\'[\"DAN-DKlQvio8ceI9FgFm\",\"DAN-DKlQvio8ceI9FgFm\"]\\')&&(e=JSON.parse(e),d={},e.forEach(function(t,n){d[t]?d[t].push(n):d[t]=[n]}),e=d,Object.entries(e).forEach(function(t){var n=_slicedToArray(t,2),e=n[0],a=n[1].filter(function(t){return t<u.length}),t=a.length,n=new Array(t).fill(0).map(function(t,n){return StringUtil.format(m,e,n)}).join(\\'\\'),i=a.map(function(t){return u[t]});new AdfitNativeAds({unitId:e,adCount:t}).renderAs(n,function(t){t.forEach(function(t,n){n=i[n];t?n.appendChild(t):n.parentNode.removeChild(n)})}).renderFail(function(){return i.forEach(function(t){return removeAdElement(t)})}).init()}))})();</script>\\n  <script>\"use strict\";var removeParentElement=function(e){var n=null==e?void 0:e.parentElement;null==n||null!==(e=n.parentElement)&&void 0!==e&&e.removeChild(n)},removeAdElement=function(e){var n;null==e||null!==(n=e.parentElement)&&void 0!==n&&n.removeChild(e)},removeGoogleAdElementAndReplaceWithAdfitElement=function(e,n){null!=e&&e.insertAdjacentElement(\\'beforebegin\\',n),null!=e&&e.remove();n=(null==n?void 0:n.getElementsByTagName(\"ins\"))||[];window.adfit&&0<n.length&&window.adfit.render(n[0])};</script>\\n  <script type=\"text/javascript\" src=\"//t1.daumcdn.net/tiara/js/v1/tiara.min.js\"></script>\\n  <script>\"use strict\";function ownKeys(t,e){var a,o=Object.keys(t);return Object.getOwnPropertySymbols&&(a=Object.getOwnPropertySymbols(t),e&&(a=a.filter(function(e){return Object.getOwnPropertyDescriptor(t,e).enumerable})),o.push.apply(o,a)),o}function _objectSpread(t){for(var e=1;e<arguments.length;e++){var a=null!=arguments[e]?arguments[e]:{};e%2?ownKeys(Object(a),!0).forEach(function(e){_defineProperty(t,e,a[e])}):Object.getOwnPropertyDescriptors?Object.defineProperties(t,Object.getOwnPropertyDescriptors(a)):ownKeys(Object(a)).forEach(function(e){Object.defineProperty(t,e,Object.getOwnPropertyDescriptor(a,e))})}return t}function _defineProperty(e,t,a){return t in e?Object.defineProperty(e,t,{value:a,enumerable:!0,configurable:!0,writable:!0}):e[t]=a,e}!(function(){if(window.TiaraTracker){var d=!1,u=new Date,s=window.scrollY||document.documentElement.scrollTop,e=\"\",t=e&&\"false\"==\"true\",l=null;try{l=_Cookies.get(\\'DAUMTOP\\')||_Cookies.get(\\'HARMONY_TOROS_IMP\\')&&window.atob(_Cookies.get(\\'HARMONY_TOROS_IMP\\'))}catch(e){l=_Cookies.get(\\'DAUMTOP\\')}var m=TiaraTracker.getInstance().setSvcDomain(\"media.daum.net\").setPage(\"newsview\").setDeployment(\"production\").trackPage(\"newsview\").setSection(\"society\").setEnableAlwaysImage(!0),g={id:\"20221107120515635\",type:\"article\",name:\"\\\\uC11C\\\\uC6B8\\\\uACBD\\\\uCC30\\\\uCCAD\\\\uC7A5 \\\\u201C\\\\uC9D1\\\\uD68C \\\\uB54C\\\\uBB38\\\\uC5D0 \\\\uC774\\\\uD0DC\\\\uC6D0 \\\\uACBD\\\\uCC30\\\\uB825 \\\\uBC30\\\\uCE58 \\\\uBABB\\\\uD55C \\\\uAC83 \\\\uC544\\\\uB0D0\\\\u201D\",category_id:\"1067\",category:\"society\",author:\"\\\\uACFD\\\\uC9C4\\\\uC0B0\",author_id:\"kjs@hani.co.kr\",provider:\"\\\\uD55C\\\\uACA8\\\\uB808\",provider_id:\"17\",regdate:\"2022-11-07 12:05:15\",plink:\"https://v.daum.net/v/20221107120515635\",image:\"https://t1.daumcdn.net/news/202211/07/hani/20221107180517222wnvv.jpg\",harmony_consumer_id:\"media\",media:\"pcweb\"};t&&(g[\"series\"]=\"mainnews\",g[\"series_id\"]=e);var a,p={contentUniqueKey:\"hamny-\".concat(g.id),docId:\"fpdSLZZdI9\",harmony_consumer_id:\"media\",media:\"pcweb\",reg_dt:\"2022-11-07 12:05:15\",reg_timestamp:\"1667790315634\",tromm_sub_category:\"society\"},y=(a=!1,window.addEventListener(\"pageshow\",function(e){(e.persisted||window.performance&&2===window.performance.navigation.type)&&(a=!0)}),function(){return a}),f=(function(){try{var o=\\'article_body\\',e=document.querySelector(\\'.article_view\\'),t=(d=c=0,document.querySelectorAll(\\'[dmcf-ptype=\"general\"]\\').forEach(function(e){var t=(null===(e=e.innerText)||void 0===e||null===(t=e.trim())||void 0===t?void 0:t.length)||0;0<t&&c++,d+=t}),{paragraphCount:c,textLength:d}),n={article_scroll_height_ratio:(e.getBoundingClientRect().height/1200).toFixed(2),article_text_length:t.textLength,article_paragraph_count:t.paragraphCount,\\'media_count:video\\':e.querySelectorAll(\\'[dmcf-mtype^=\"video\"]\\').length,\\'media_count:image\\':e.querySelectorAll(\\'[dmcf-mtype=\"image\"]\\').length,\\'media_count:audio\\':e.querySelectorAll(\\'[dmcf-mtype^=\"audio\"]\\').length,article_out_height_pct:0};n[\\'media_count\\']=n[\\'media_count:video\\']+n[\\'media_count:image\\']+n[\\'media_count:audio\\'];var a=function(e){var t=e.name,a=(e.element,e.elementRect),e=e.intersectionRect;t==o&&(n[\\'article_out_height_pct\\']=Math.max(n[\\'article_out_height_pct\\']||0,Math.round(e.bottom/a.bottom*100)))},r=[];document.querySelectorAll(\\'[data-cloud]\\').forEach(function(e){var t=e.querySelector(\\'[data-tiara-layer\\'),t=e.getAttribute(\\'data-tiara-layer\\')||(null==t?void 0:t.getAttribute(\\'data-tiara-layer\\'))||e.getAttribute(\\'data-cloud\\');r.push({name:t,element:e,config:{inRatio:.3,outRatio:.3,outCallback:a}})});var i=new ComponentViewDurationChecker({components:r,rootMargin:\"-\".concat(document.getElementById(\\'kakaoHead\\').getBoundingClientRect().height,\"px 0px 0px 0px\"),interval:300}).start();return function(){try{i.stop();var t=_objectSpread({},n);return Object.keys(i.duration).forEach(function(e){t[\"duration:\".concat(e)]=i.duration[e].reduce(function(e,t){return e+t[1]-t[0]},0)}),t}catch(e){return{}}}}catch(e){return function(){return{}}}var c,d})(),o=function(){d||m.trackPage(\"p_newsview_보기\").actionKind(\"ViewContent\").pageMeta(g).customProps(p).track()},n=function(){if(!d){d=!0;var e=document.body.scrollHeight,t=window.scrollY,a=e-t,o=window.innerHeight,n=Math.round(t/(e-o)*100),r={},o={duration:(new Date).getTime()-u.getTime(),scroll_percent:n,scroll_height:e,scroll_top:t,scroll_bottom:a,scroll_inner_height:o};try{var i,c;!l||(c=JSON.parse(l)).contents_unique_key===p.contentUniqueKey&&(r={toros_imp_id:c.impression_id,toros_file_hash_key:c.toros_file_hash_key,toros_user_id_type:\"uuid\",toros_page_meta_id:p.contentUniqueKey,toros_event_meta_id:p.contentUniqueKey,toros_action_type:\"dwelltime\"},i=3<location.hostname.split(\\'.\\').length?location.hostname.substring(location.hostname.indexOf(\\'.\\')):location.hostname,(c=_Cookies.remove||_Cookies.expire)(\\'HARMONY_TOROS_IMP\\',{path:\\'/\\',domain:i}),c(\\'DAUMTOP\\',{path:\\'/\\',domain:\\'.daum.net\\'}),0)}catch(e){}m.trackUsage().actionKind(\"UsagePage\").pageMeta(g).usage(o).customProps(_.assignIn(p,r)).track(),m.trackEvent(\\'UsagePageComponent\\').pageMeta(g).customProps(_objectSpread(_objectSpread({},f()),{},{start_scroll_top:s,bfcache:y(),duration:(new Date).getTime()-u.getTime()})).track()}};window.addEventListener(\"pageshow\",o,!1),window.addEventListener(\"pagehide\",n,!1),document.addEventListener(\"visibilitychange\",function(){(document[\"hidden\"]?n:o)()},!1),document.addEventListener(\"click\",function(e){var t,a,o,n,r,i,c,d=e.target,u=d.closest(\"[data-cloud]\"),s=d.closest(\"a\")||d.closest(\"button\")||d.closest(\\'input[type=\"radio\"], input[type=\"checkbox\"]\\');s&&null!=u&&u.contains(s)&&((i=TiaraTracker.getClickInfo(e))&&(t=i.action,a=i.click,o=(null==t?void 0:t.name)||\"\",n=(null==t?void 0:t.kind)||\"\",r=_.assignIn(p,i.customProps),u=d.closest(\"[data-tiara]\"),i=s.querySelector(\"img\"),d=(function(e,t,a){e=e.closest(\\'[data-tiara-ordnum-layer]\\');if(e&&!t.closest(\\'[adfit-unit-id]\\')){if(!!e.querySelector(\\'[data-tiara-ordnum]\\')&&!isNaN(Number(a)))return a;e=e.querySelectorAll(\\'a, button\\');return Array.from(e).filter(function(e){return!e.closest(\\'[adfit-unit-id]\\')}).findIndex(function(e){return e===t})+1}})(d,s,a.ordnum),e={layer1:a.layer1,layer2:a.layer2||\"\",layer3:(null==u?void 0:u.dataset.tiara)||a.layer3||\"\",click_url:s.href||\"\",ordnum:d,copy:(c=s.getAttribute(\\'data-action-type\\'),[\\'RECOMMEND\\',\\'LIKE\\',\\'IMPRESS\\',\\'ANGRY\\',\\'SAD\\'].includes(c)?null==t?void 0:t.name:s.innerText),image:(null==i?void 0:i.src)||\"\",posX:e.clientX,posY:e.clientY},m.trackEvent(o).pageMeta(g).actionKind(n).customProps(r).click(e).track()))}),document.addEventListener(\\'mainnews-viewimp\\',function(e){e=(null===(e=e.detail)||void 0===e?void 0:e.tiara).customProps;m.trackViewImp().customProps(e).track()}),window.sendAbBucketLog=function(e){try{var t=null==e?void 0:e.getAttribute(\\'data-ab-bucket\\'),a=null==e?void 0:e.getAttribute(\\'data-ab-bucket-type\\');t&&a&&m.trackEvent(\\'NewsAbBucket\\').pageMeta(g).eventMeta({id:t,name:t,type:a}).track()}catch(e){}}}})();</script>\\n  <script>\"use strict\";!(function(){var a=\\'v.daum.net\\',o=_Cookies.remove||_Cookies.expire;o(\\'_H_CT\\',{path:\\'/\\',domain:a}),o(\\'_H_MN\\',{path:\\'/\\',domain:a}),o(\\'_H_DOC_ID\\',{path:\\'/\\',domain:a}),o(\\'v_from_area\\',{path:\\'/\\',domain:a})})();</script>\\n </body>\\n</html>'"
      ]
     },
     "execution_count": 36,
     "metadata": {},
     "output_type": "execute_result"
    }
   ],
   "source": [
    "resp.text"
   ]
  },
  {
   "cell_type": "markdown",
   "metadata": {},
   "source": [
    "- BeautifulSoup 객체로 response의 텍스트 전달\n",
    "- BeautifulSoup는 파서에 맞게 파싱"
   ]
  },
  {
   "cell_type": "code",
   "execution_count": 39,
   "metadata": {},
   "outputs": [],
   "source": [
    "soup = bs(resp.text, 'html.parser')"
   ]
  },
  {
   "cell_type": "code",
   "execution_count": 40,
   "metadata": {},
   "outputs": [],
   "source": [
    "title = soup.find('h3', class_='tit_view')"
   ]
  },
  {
   "cell_type": "code",
   "execution_count": 41,
   "metadata": {},
   "outputs": [
    {
     "data": {
      "text/plain": [
       "<h3 class=\"tit_view\" data-translation=\"true\">서울경찰청장 “집회 때문에 이태원 경찰력 배치 못한 것 아냐”</h3>"
      ]
     },
     "execution_count": 41,
     "metadata": {},
     "output_type": "execute_result"
    }
   ],
   "source": [
    "title"
   ]
  },
  {
   "cell_type": "code",
   "execution_count": 42,
   "metadata": {
    "scrolled": true
   },
   "outputs": [
    {
     "data": {
      "text/plain": [
       "(<h3 class=\"tit_view\" data-translation=\"true\">서울경찰청장 “집회 때문에 이태원 경찰력 배치 못한 것 아냐”</h3>,\n",
       " bs4.element.Tag)"
      ]
     },
     "execution_count": 42,
     "metadata": {},
     "output_type": "execute_result"
    }
   ],
   "source": [
    "title, type(title)"
   ]
  },
  {
   "cell_type": "code",
   "execution_count": 43,
   "metadata": {},
   "outputs": [],
   "source": [
    "title_result = title.get_text()"
   ]
  },
  {
   "cell_type": "code",
   "execution_count": 44,
   "metadata": {},
   "outputs": [
    {
     "data": {
      "text/plain": [
       "'서울경찰청장 “집회 때문에 이태원 경찰력 배치 못한 것 아냐”'"
      ]
     },
     "execution_count": 44,
     "metadata": {},
     "output_type": "execute_result"
    }
   ],
   "source": [
    "title_result"
   ]
  },
  {
   "cell_type": "markdown",
   "metadata": {},
   "source": [
    "### 뉴스 기자, 작성시간 뽑아내기"
   ]
  },
  {
   "cell_type": "code",
   "execution_count": 45,
   "metadata": {},
   "outputs": [],
   "source": [
    "info = soup.find('div', class_='info_view')"
   ]
  },
  {
   "cell_type": "code",
   "execution_count": 46,
   "metadata": {},
   "outputs": [
    {
     "data": {
      "text/plain": [
       "<div class=\"info_view\"> <span class=\"txt_info\">곽진산</span> <span class=\"txt_info\"><span class=\"num_date\">2022. 11. 7. 12:05</span></span>\n",
       "</div>"
      ]
     },
     "execution_count": 46,
     "metadata": {},
     "output_type": "execute_result"
    }
   ],
   "source": [
    "info"
   ]
  },
  {
   "cell_type": "code",
   "execution_count": 34,
   "metadata": {},
   "outputs": [
    {
     "data": {
      "text/plain": [
       "' 곽진산 2022. 11. 7. 12:05\\n'"
      ]
     },
     "execution_count": 34,
     "metadata": {},
     "output_type": "execute_result"
    }
   ],
   "source": [
    "info.get_text()"
   ]
  },
  {
   "cell_type": "code",
   "execution_count": 35,
   "metadata": {},
   "outputs": [
    {
     "data": {
      "text/plain": [
       "<div class=\"info_view\"> <span class=\"txt_info\">곽진산</span> <span class=\"txt_info\"><span class=\"num_date\">2022. 11. 7. 12:05</span></span>\n",
       "</div>"
      ]
     },
     "execution_count": 35,
     "metadata": {},
     "output_type": "execute_result"
    }
   ],
   "source": [
    "info"
   ]
  },
  {
   "cell_type": "markdown",
   "metadata": {},
   "source": [
    "### 기자 이름 뽑아오기"
   ]
  },
  {
   "cell_type": "code",
   "execution_count": 47,
   "metadata": {},
   "outputs": [],
   "source": [
    "reporter = info.find('span', class_='txt_info')"
   ]
  },
  {
   "cell_type": "code",
   "execution_count": 48,
   "metadata": {},
   "outputs": [
    {
     "data": {
      "text/plain": [
       "<span class=\"txt_info\">곽진산</span>"
      ]
     },
     "execution_count": 48,
     "metadata": {},
     "output_type": "execute_result"
    }
   ],
   "source": [
    "reporter"
   ]
  },
  {
   "cell_type": "code",
   "execution_count": 38,
   "metadata": {},
   "outputs": [
    {
     "data": {
      "text/plain": [
       "'곽진산'"
      ]
     },
     "execution_count": 38,
     "metadata": {},
     "output_type": "execute_result"
    }
   ],
   "source": [
    "reporter.get_text()"
   ]
  },
  {
   "cell_type": "markdown",
   "metadata": {},
   "source": [
    "### 기사 시간 뽑아오기"
   ]
  },
  {
   "cell_type": "code",
   "execution_count": 49,
   "metadata": {},
   "outputs": [],
   "source": [
    "datetime = info.find('span', class_= 'num_date')"
   ]
  },
  {
   "cell_type": "code",
   "execution_count": 50,
   "metadata": {},
   "outputs": [
    {
     "data": {
      "text/plain": [
       "<span class=\"num_date\">2022. 11. 7. 12:05</span>"
      ]
     },
     "execution_count": 50,
     "metadata": {},
     "output_type": "execute_result"
    }
   ],
   "source": [
    "datetime"
   ]
  },
  {
   "cell_type": "code",
   "execution_count": 51,
   "metadata": {
    "scrolled": true
   },
   "outputs": [],
   "source": [
    "date_time_result =datetime.get_text()"
   ]
  },
  {
   "cell_type": "code",
   "execution_count": 52,
   "metadata": {},
   "outputs": [
    {
     "data": {
      "text/plain": [
       "'2022. 11. 7. 12:05'"
      ]
     },
     "execution_count": 52,
     "metadata": {},
     "output_type": "execute_result"
    }
   ],
   "source": [
    "date_time_result"
   ]
  },
  {
   "cell_type": "markdown",
   "metadata": {},
   "source": [
    "### 뉴스기사 내용 뽑아오기"
   ]
  },
  {
   "cell_type": "code",
   "execution_count": 53,
   "metadata": {},
   "outputs": [],
   "source": [
    "container = soup.find('div', class_='article_view')"
   ]
  },
  {
   "cell_type": "code",
   "execution_count": 54,
   "metadata": {},
   "outputs": [
    {
     "data": {
      "text/plain": [
       "<div class=\"article_view\" data-tiara-action-name=\"본문이미지확대_클릭\" data-tiara-layer=\"article_body\" data-translation-body=\"true\">\n",
       "<section dmcf-sid=\"8ev9Yxxvwb\">\n",
       "<figure class=\"figure_frm origin_fig\" dmcf-pid=\"WknVrRRyDi\" dmcf-ptype=\"figure\">\n",
       "<p class=\"link_figure\"><img alt=\"김광호 서울지방경찰청장이 7일 오후 국회에서 열린 행정안전위원회에서 답변을 하고 있다.김경호 선임기자 jijae@hani.co.kr\" class=\"thumb_g_article\" data-org-src=\"https://t1.daumcdn.net/news/202211/07/hani/20221107180517222wnvv.jpg\" data-org-width=\"970\" dmcf-mid=\"yLVXMUUNsn\" dmcf-mtype=\"image\" height=\"auto\" src=\"https://img4.daumcdn.net/thumb/R658x0.q70/?fname=https://t1.daumcdn.net/news/202211/07/hani/20221107180517222wnvv.jpg\" width=\"658\"/></p>\n",
       "<figcaption class=\"txt_caption default_figure\">\n",
       "            김광호 서울지방경찰청장이 7일 오후 국회에서 열린 행정안전위원회에서 답변을 하고 있다.김경호 선임기자 jijae@hani.co.kr\n",
       "           </figcaption>\n",
       "</figure>\n",
       "<p dmcf-pid=\"WmWCkUUNso\" dmcf-ptype=\"general\">김광호 서울경찰청장이 이태원 참사 당일 밤 안전 관리를 할 경찰이 부족했다는 지적에 대해 “대규모 진보·보수 집회 대비 때문에 경력을 배치하지 못한 것은 아니다”라고 7일 밝혔다. 앞서 이상민 행정안전부 장관이 “서울 시내 곳곳에서 소요와 시위가 있어 경찰 병력이 분산된 측면이 있었다”며 사고 책임을 집회로 떠넘긴 것과는 대조적이다. </p>\n",
       "<p dmcf-pid=\"YtbpHRRywL\" dmcf-ptype=\"general\">김광호 청장은 이날 오전 이태원 참사와 관련한 서면 기자간담회에서 취재진 질문에 이같이 답했다. 김 청장은 “112 신고 접수 이후 상황의 심각성을 인지하지 못해 즉각적인 조처를 못한 점에 대해 매우 안타깝게 생각한다. 서울 경찰의 대응이 미흡했던 점에 대해 책임을 통감한다”고 했다.</p>\n",
       "<p dmcf-pid=\"GFKUXeeWsn\" dmcf-ptype=\"general\">김 청장은 참사 발생 사실을 늦게 인지한 이유로 이임재 전 용산 경찰서장의 보고가 지연됐기 때문이라고 밝혔다. 서울경찰청은 앞서 김 청장이 29일 밤 11시36분 처음 보고를 받았다고 밝힌 바 있다. 김 청장은 “서울청 상황실은 29일 밤 22시59분 소방으로부터 전화를 받고 사고 사실을 확인한 후 용산경찰서에 현장 상황 파악 및 보고를 지시했다. 30일 자정 0시 2분 경찰청 상황실로 보고한 것으로 알고 있다”고 했다. 다만 “정확한 인지 시간이나 조처는 수사와 감찰 조사를 통해 확인 중에 있다”고 덧붙였다.</p>\n",
       "<p dmcf-pid=\"HHu1T66hOi\" dmcf-ptype=\"general\">소방당국이 15차례나 경찰 인력 및 교통통제를 요청했는데도 경찰이 소극적으로 대응했다는 지적에 대해 김 청장은 “현장 상황을 정확히 인식하지 못해 인력을 투입할 판단을 하지 못했다”고 책임을 인정했다. 또 사고가 발생하기 전 11건의 112 신고 중 현장 출동한 4건에 대해 경력 지원을 요청하지 않는 것에 대해 “신고 내용에 대해 조처를 했으나 근무자들은 사고가 발생하리라 예견하지 못했다”고 답변했다.</p>\n",
       "<p dmcf-pid=\"X78b3oo5mJ\" dmcf-ptype=\"general\">이날 경찰청 특별수사본부는 핼러윈을 앞두고 안전사고를 우려하는 내용의 정보보고서를 묵살·삭제한 의혹을 받는 용산경찰서 정보과장과 정보계장을 피의자로 입건했다. 김 청장은 용산경찰서에서 안전사고를 우려하는 보고서가 서울청에 제출됐지만, 이번 대책에 반영되지 않는 것과 관련해선 “용산서 정보과는 자체 종합 치안대책에 동일한 내용이 반영돼 있다고 생각해 별도의 조치를 하지 않은 것으로 알고 있다. 자료를 열람한 서울청 담당자도 보고서 내용이 일반적으로 예상할 수 있는 수준이라 판단해 별다른 추가조처를 하지 않았다”고 했다.</p>\n",
       "<p dmcf-pid=\"Z6LM2mmBOd\" dmcf-ptype=\"general\">김 청장은 “현재 진행 중인 경찰청의 감찰 조사와 수사에 적극 협조할 것”이라며 “어려운 현장 여건 속에서도 최선을 다해 준 동료 경찰관들에게 미안한 마음을 전한다”고 덧붙였다.</p>\n",
       "<p dmcf-pid=\"5Hu1T66hme\" dmcf-ptype=\"general\">곽진산 기자 kjs@hani.co.kr</p>\n",
       "</section>\n",
       "</div>"
      ]
     },
     "execution_count": 54,
     "metadata": {},
     "output_type": "execute_result"
    }
   ],
   "source": [
    "container"
   ]
  },
  {
   "cell_type": "code",
   "execution_count": 55,
   "metadata": {},
   "outputs": [],
   "source": [
    "contents = ''\n",
    "for p in container.find_all('p'):\n",
    "    temp = p.get_text() + '\\n'\n",
    "    contents += temp"
   ]
  },
  {
   "cell_type": "code",
   "execution_count": 56,
   "metadata": {
    "collapsed": true
   },
   "outputs": [
    {
     "name": "stdout",
     "output_type": "stream",
     "text": [
      "\n",
      "김광호 서울경찰청장이 이태원 참사 당일 밤 안전 관리를 할 경찰이 부족했다는 지적에 대해 “대규모 진보·보수 집회 대비 때문에 경력을 배치하지 못한 것은 아니다”라고 7일 밝혔다. 앞서 이상민 행정안전부 장관이 “서울 시내 곳곳에서 소요와 시위가 있어 경찰 병력이 분산된 측면이 있었다”며 사고 책임을 집회로 떠넘긴 것과는 대조적이다. \n",
      "김광호 청장은 이날 오전 이태원 참사와 관련한 서면 기자간담회에서 취재진 질문에 이같이 답했다. 김 청장은 “112 신고 접수 이후 상황의 심각성을 인지하지 못해 즉각적인 조처를 못한 점에 대해 매우 안타깝게 생각한다. 서울 경찰의 대응이 미흡했던 점에 대해 책임을 통감한다”고 했다.\n",
      "김 청장은 참사 발생 사실을 늦게 인지한 이유로 이임재 전 용산 경찰서장의 보고가 지연됐기 때문이라고 밝혔다. 서울경찰청은 앞서 김 청장이 29일 밤 11시36분 처음 보고를 받았다고 밝힌 바 있다. 김 청장은 “서울청 상황실은 29일 밤 22시59분 소방으로부터 전화를 받고 사고 사실을 확인한 후 용산경찰서에 현장 상황 파악 및 보고를 지시했다. 30일 자정 0시 2분 경찰청 상황실로 보고한 것으로 알고 있다”고 했다. 다만 “정확한 인지 시간이나 조처는 수사와 감찰 조사를 통해 확인 중에 있다”고 덧붙였다.\n",
      "소방당국이 15차례나 경찰 인력 및 교통통제를 요청했는데도 경찰이 소극적으로 대응했다는 지적에 대해 김 청장은 “현장 상황을 정확히 인식하지 못해 인력을 투입할 판단을 하지 못했다”고 책임을 인정했다. 또 사고가 발생하기 전 11건의 112 신고 중 현장 출동한 4건에 대해 경력 지원을 요청하지 않는 것에 대해 “신고 내용에 대해 조처를 했으나 근무자들은 사고가 발생하리라 예견하지 못했다”고 답변했다.\n",
      "이날 경찰청 특별수사본부는 핼러윈을 앞두고 안전사고를 우려하는 내용의 정보보고서를 묵살·삭제한 의혹을 받는 용산경찰서 정보과장과 정보계장을 피의자로 입건했다. 김 청장은 용산경찰서에서 안전사고를 우려하는 보고서가 서울청에 제출됐지만, 이번 대책에 반영되지 않는 것과 관련해선 “용산서 정보과는 자체 종합 치안대책에 동일한 내용이 반영돼 있다고 생각해 별도의 조치를 하지 않은 것으로 알고 있다. 자료를 열람한 서울청 담당자도 보고서 내용이 일반적으로 예상할 수 있는 수준이라 판단해 별다른 추가조처를 하지 않았다”고 했다.\n",
      "김 청장은 “현재 진행 중인 경찰청의 감찰 조사와 수사에 적극 협조할 것”이라며 “어려운 현장 여건 속에서도 최선을 다해 준 동료 경찰관들에게 미안한 마음을 전한다”고 덧붙였다.\n",
      "곽진산 기자 kjs@hani.co.kr\n",
      "\n"
     ]
    }
   ],
   "source": [
    "print(contents)"
   ]
  },
  {
   "cell_type": "code",
   "execution_count": 58,
   "metadata": {},
   "outputs": [
    {
     "name": "stdout",
     "output_type": "stream",
     "text": [
      "\n",
      "김광호 서울경찰청장이 이태원 참사 당일 밤 안전 관리를 할 경찰이 부족했다는 지적에 대해 “대규모 진보·보수 집회 대비 때문에 경력을 배치하지 못한 것은 아니다”라고 7일 밝혔다. 앞서 이상민 행정안전부 장관이 “서울 시내 곳곳에서 소요와 시위가 있어 경찰 병력이 분산된 측면이 있었다”며 사고 책임을 집회로 떠넘긴 것과는 대조적이다. \n",
      "김광호 청장은 이날 오전 이태원 참사와 관련한 서면 기자간담회에서 취재진 질문에 이같이 답했다. 김 청장은 “112 신고 접수 이후 상황의 심각성을 인지하지 못해 즉각적인 조처를 못한 점에 대해 매우 안타깝게 생각한다. 서울 경찰의 대응이 미흡했던 점에 대해 책임을 통감한다”고 했다.\n",
      "김 청장은 참사 발생 사실을 늦게 인지한 이유로 이임재 전 용산 경찰서장의 보고가 지연됐기 때문이라고 밝혔다. 서울경찰청은 앞서 김 청장이 29일 밤 11시36분 처음 보고를 받았다고 밝힌 바 있다. 김 청장은 “서울청 상황실은 29일 밤 22시59분 소방으로부터 전화를 받고 사고 사실을 확인한 후 용산경찰서에 현장 상황 파악 및 보고를 지시했다. 30일 자정 0시 2분 경찰청 상황실로 보고한 것으로 알고 있다”고 했다. 다만 “정확한 인지 시간이나 조처는 수사와 감찰 조사를 통해 확인 중에 있다”고 덧붙였다.\n",
      "소방당국이 15차례나 경찰 인력 및 교통통제를 요청했는데도 경찰이 소극적으로 대응했다는 지적에 대해 김 청장은 “현장 상황을 정확히 인식하지 못해 인력을 투입할 판단을 하지 못했다”고 책임을 인정했다. 또 사고가 발생하기 전 11건의 112 신고 중 현장 출동한 4건에 대해 경력 지원을 요청하지 않는 것에 대해 “신고 내용에 대해 조처를 했으나 근무자들은 사고가 발생하리라 예견하지 못했다”고 답변했다.\n",
      "이날 경찰청 특별수사본부는 핼러윈을 앞두고 안전사고를 우려하는 내용의 정보보고서를 묵살·삭제한 의혹을 받는 용산경찰서 정보과장과 정보계장을 피의자로 입건했다. 김 청장은 용산경찰서에서 안전사고를 우려하는 보고서가 서울청에 제출됐지만, 이번 대책에 반영되지 않는 것과 관련해선 “용산서 정보과는 자체 종합 치안대책에 동일한 내용이 반영돼 있다고 생각해 별도의 조치를 하지 않은 것으로 알고 있다. 자료를 열람한 서울청 담당자도 보고서 내용이 일반적으로 예상할 수 있는 수준이라 판단해 별다른 추가조처를 하지 않았다”고 했다.\n",
      "김 청장은 “현재 진행 중인 경찰청의 감찰 조사와 수사에 적극 협조할 것”이라며 “어려운 현장 여건 속에서도 최선을 다해 준 동료 경찰관들에게 미안한 마음을 전한다”고 덧붙였다.\n",
      "곽진산 기자 kjs@hani.co.kr\n"
     ]
    }
   ],
   "source": [
    "contents_2 = [p.get_text() for p in container.find_all('p')]\n",
    "contents_2 = '\\n'.join(contents_2)\n",
    "print(contents_2)"
   ]
  },
  {
   "cell_type": "code",
   "execution_count": 59,
   "metadata": {},
   "outputs": [
    {
     "data": {
      "text/plain": [
       "<p dmcf-pid=\"5Hu1T66hme\" dmcf-ptype=\"general\">곽진산 기자 kjs@hani.co.kr</p>"
      ]
     },
     "execution_count": 59,
     "metadata": {},
     "output_type": "execute_result"
    }
   ],
   "source": [
    "container.find_all('p')[-1]"
   ]
  },
  {
   "cell_type": "code",
   "execution_count": 60,
   "metadata": {},
   "outputs": [],
   "source": [
    "reporter = container.find_all('p')[-1].get_text()"
   ]
  },
  {
   "cell_type": "code",
   "execution_count": 65,
   "metadata": {},
   "outputs": [
    {
     "data": {
      "text/plain": [
       "'곽진산 기자 kjs@hani.co.kr'"
      ]
     },
     "execution_count": 65,
     "metadata": {},
     "output_type": "execute_result"
    }
   ],
   "source": [
    "reporter"
   ]
  },
  {
   "cell_type": "code",
   "execution_count": 66,
   "metadata": {},
   "outputs": [
    {
     "data": {
      "text/plain": [
       "['곽진산', '기자', 'kjs@hani.co.kr']"
      ]
     },
     "execution_count": 66,
     "metadata": {},
     "output_type": "execute_result"
    }
   ],
   "source": [
    " reporter.split(' ')"
   ]
  },
  {
   "cell_type": "code",
   "execution_count": 67,
   "metadata": {},
   "outputs": [],
   "source": [
    "reporter_name = reporter.split(' ')[:1]"
   ]
  },
  {
   "cell_type": "code",
   "execution_count": 68,
   "metadata": {},
   "outputs": [
    {
     "data": {
      "text/plain": [
       "['곽진산']"
      ]
     },
     "execution_count": 68,
     "metadata": {},
     "output_type": "execute_result"
    }
   ],
   "source": [
    "reporter_name"
   ]
  },
  {
   "cell_type": "code",
   "execution_count": 69,
   "metadata": {},
   "outputs": [],
   "source": [
    "reporter_email = reporter.split(' ')[-1]"
   ]
  },
  {
   "cell_type": "code",
   "execution_count": 70,
   "metadata": {},
   "outputs": [
    {
     "data": {
      "text/plain": [
       "'kjs@hani.co.kr'"
      ]
     },
     "execution_count": 70,
     "metadata": {},
     "output_type": "execute_result"
    }
   ],
   "source": [
    "reporter_email"
   ]
  },
  {
   "cell_type": "code",
   "execution_count": 71,
   "metadata": {},
   "outputs": [
    {
     "name": "stdout",
     "output_type": "stream",
     "text": [
      "----------------------------------------\n",
      "기사 제목: 서울경찰청장 “집회 때문에 이태원 경찰력 배치 못한 것 아냐”\n",
      "----------------------------------------\n",
      "기자 이름: ['곽진산']\n",
      "----------------------------------------\n",
      "기자 이메일: kjs@hani.co.kr\n",
      "----------------------------------------\n",
      "기사 내용: \n",
      "김광호 서울경찰청장이 이태원 참사 당일 밤 안전 관리를 할 경찰이 부족했다는 지적에 대해 “대규모 진보·보수 집회 대비 때문에 경력을 배치하지 못한 것은 아니다”라고 7일 밝혔다. 앞서 이상민 행정안전부 장관이 “서울 시내 곳곳에서 소요와 시위가 있어 경찰 병력이 분산된 측면이 있었다”며 사고 책임을 집회로 떠넘긴 것과는 대조적이다. \n",
      "김광호 청장은 이날 오전 이태원 참사와 관련한 서면 기자간담회에서 취재진 질문에 이같이 답했다. 김 청장은 “112 신고 접수 이후 상황의 심각성을 인지하지 못해 즉각적인 조처를 못한 점에 대해 매우 안타깝게 생각한다. 서울 경찰의 대응이 미흡했던 점에 대해 책임을 통감한다”고 했다.\n",
      "김 청장은 참사 발생 사실을 늦게 인지한 이유로 이임재 전 용산 경찰서장의 보고가 지연됐기 때문이라고 밝혔다. 서울경찰청은 앞서 김 청장이 29일 밤 11시36분 처음 보고를 받았다고 밝힌 바 있다. 김 청장은 “서울청 상황실은 29일 밤 22시59분 소방으로부터 전화를 받고 사고 사실을 확인한 후 용산경찰서에 현장 상황 파악 및 보고를 지시했다. 30일 자정 0시 2분 경찰청 상황실로 보고한 것으로 알고 있다”고 했다. 다만 “정확한 인지 시간이나 조처는 수사와 감찰 조사를 통해 확인 중에 있다”고 덧붙였다.\n",
      "소방당국이 15차례나 경찰 인력 및 교통통제를 요청했는데도 경찰이 소극적으로 대응했다는 지적에 대해 김 청장은 “현장 상황을 정확히 인식하지 못해 인력을 투입할 판단을 하지 못했다”고 책임을 인정했다. 또 사고가 발생하기 전 11건의 112 신고 중 현장 출동한 4건에 대해 경력 지원을 요청하지 않는 것에 대해 “신고 내용에 대해 조처를 했으나 근무자들은 사고가 발생하리라 예견하지 못했다”고 답변했다.\n",
      "이날 경찰청 특별수사본부는 핼러윈을 앞두고 안전사고를 우려하는 내용의 정보보고서를 묵살·삭제한 의혹을 받는 용산경찰서 정보과장과 정보계장을 피의자로 입건했다. 김 청장은 용산경찰서에서 안전사고를 우려하는 보고서가 서울청에 제출됐지만, 이번 대책에 반영되지 않는 것과 관련해선 “용산서 정보과는 자체 종합 치안대책에 동일한 내용이 반영돼 있다고 생각해 별도의 조치를 하지 않은 것으로 알고 있다. 자료를 열람한 서울청 담당자도 보고서 내용이 일반적으로 예상할 수 있는 수준이라 판단해 별다른 추가조처를 하지 않았다”고 했다.\n",
      "김 청장은 “현재 진행 중인 경찰청의 감찰 조사와 수사에 적극 협조할 것”이라며 “어려운 현장 여건 속에서도 최선을 다해 준 동료 경찰관들에게 미안한 마음을 전한다”고 덧붙였다.\n",
      "곽진산 기자 kjs@hani.co.kr\n",
      "\n"
     ]
    }
   ],
   "source": [
    "print('----' * 10)\n",
    "print(f'기사 제목: {title_result}')\n",
    "print('----' * 10)\n",
    "print(f'기자 이름: {reporter_name}')\n",
    "print('----' * 10)\n",
    "print(f'기자 이메일: {reporter_email}')\n",
    "print('----' * 10)\n",
    "print(f'기사 내용: {contents}')"
   ]
  },
  {
   "cell_type": "markdown",
   "metadata": {},
   "source": [
    "## 2.2 CSS를 이용하여 tag 찾기\n",
    " - select, select_one함수 사용 \n",
    " - css selector 사용법\n",
    "   - 태그명 찾기 tag \n",
    "   - 자손 태그 찾기 - 자손 관계 (tag tag)\n",
    "   - 자식 태그 찾기 - 다이렉트 자식 관계 (tag > tag)\n",
    "   - 아이디 찾기 #id\n",
    "   - 클래스 찾기 .class\n",
    "   - 속성값 찾기 [name='test']\n",
    "     - 속성값 prefix 찾기 [name ^='test']\n",
    "     - 속성값 suffix 찾기 [name $='test']\n",
    "     - 속성값 substring 찾기 [name *='test]\n",
    "   - n번째 자식 tag 찾기 :nth-child(n)\n",
    "   \n",
    " ### CSS 정보가 필요하다면? https://www.w3schools.com/css/"
   ]
  },
  {
   "cell_type": "markdown",
   "metadata": {},
   "source": [
    "### css 태그(`tag`)로 찾기"
   ]
  },
  {
   "cell_type": "code",
   "execution_count": 72,
   "metadata": {},
   "outputs": [],
   "source": [
    "url = 'https://v.daum.net/v/20221107120515635'"
   ]
  },
  {
   "cell_type": "code",
   "execution_count": 73,
   "metadata": {},
   "outputs": [
    {
     "name": "stdout",
     "output_type": "stream",
     "text": [
      "https://v.daum.net/v/20221107120515635\n"
     ]
    }
   ],
   "source": [
    "print(url)"
   ]
  },
  {
   "cell_type": "code",
   "execution_count": 74,
   "metadata": {},
   "outputs": [],
   "source": [
    "resp = requests.get(url)"
   ]
  },
  {
   "cell_type": "code",
   "execution_count": 75,
   "metadata": {},
   "outputs": [],
   "source": [
    "soup = bs(resp.text, 'html.parser')"
   ]
  },
  {
   "cell_type": "code",
   "execution_count": 61,
   "metadata": {},
   "outputs": [
    {
     "data": {
      "text/plain": [
       "[<h3 class=\"tit_view\" data-translation=\"true\">서울경찰청장 “집회 때문에 이태원 경찰력 배치 못한 것 아냐”</h3>,\n",
       " <h3 class=\"tit_box\">이 시각 추천뉴스</h3>,\n",
       " <h3 class=\"tit_box\">서비스 바로가기</h3>]"
      ]
     },
     "execution_count": 61,
     "metadata": {},
     "output_type": "execute_result"
    }
   ],
   "source": [
    "soup.select('h3') # bs.Tag.find_all"
   ]
  },
  {
   "cell_type": "code",
   "execution_count": 76,
   "metadata": {},
   "outputs": [
    {
     "data": {
      "text/plain": [
       "<h3 class=\"tit_view\" data-translation=\"true\">서울경찰청장 “집회 때문에 이태원 경찰력 배치 못한 것 아냐”</h3>"
      ]
     },
     "execution_count": 76,
     "metadata": {},
     "output_type": "execute_result"
    }
   ],
   "source": [
    "soup.select_one('h3') # bs.Tag.find"
   ]
  },
  {
   "cell_type": "markdown",
   "metadata": {},
   "source": [
    "### css 아이디(`id`)로 찾기"
   ]
  },
  {
   "cell_type": "markdown",
   "metadata": {},
   "source": [
    "- CSS id: #mArticle (본문 내용이 포함된 아이디)\n",
    "- div 하부 영역으로 들어가서 `section` 태그 확인\n",
    "    - `p` 태그로 본문 구성함을 확인"
   ]
  },
  {
   "cell_type": "code",
   "execution_count": 78,
   "metadata": {
    "collapsed": true
   },
   "outputs": [
    {
     "data": {
      "text/plain": [
       "[<section dmcf-sid=\"8ev9Yxxvwb\">\n",
       " <figure class=\"figure_frm origin_fig\" dmcf-pid=\"WknVrRRyDi\" dmcf-ptype=\"figure\">\n",
       " <p class=\"link_figure\"><img alt=\"김광호 서울지방경찰청장이 7일 오후 국회에서 열린 행정안전위원회에서 답변을 하고 있다.김경호 선임기자 jijae@hani.co.kr\" class=\"thumb_g_article\" data-org-src=\"https://t1.daumcdn.net/news/202211/07/hani/20221107180517222wnvv.jpg\" data-org-width=\"970\" dmcf-mid=\"yLVXMUUNsn\" dmcf-mtype=\"image\" height=\"auto\" src=\"https://img3.daumcdn.net/thumb/R658x0.q70/?fname=https://t1.daumcdn.net/news/202211/07/hani/20221107180517222wnvv.jpg\" width=\"658\"/></p>\n",
       " <figcaption class=\"txt_caption default_figure\">\n",
       "             김광호 서울지방경찰청장이 7일 오후 국회에서 열린 행정안전위원회에서 답변을 하고 있다.김경호 선임기자 jijae@hani.co.kr\n",
       "            </figcaption>\n",
       " </figure>\n",
       " <p dmcf-pid=\"WmWCkUUNso\" dmcf-ptype=\"general\">김광호 서울경찰청장이 이태원 참사 당일 밤 안전 관리를 할 경찰이 부족했다는 지적에 대해 “대규모 진보·보수 집회 대비 때문에 경력을 배치하지 못한 것은 아니다”라고 7일 밝혔다. 앞서 이상민 행정안전부 장관이 “서울 시내 곳곳에서 소요와 시위가 있어 경찰 병력이 분산된 측면이 있었다”며 사고 책임을 집회로 떠넘긴 것과는 대조적이다. </p>\n",
       " <p dmcf-pid=\"YtbpHRRywL\" dmcf-ptype=\"general\">김광호 청장은 이날 오전 이태원 참사와 관련한 서면 기자간담회에서 취재진 질문에 이같이 답했다. 김 청장은 “112 신고 접수 이후 상황의 심각성을 인지하지 못해 즉각적인 조처를 못한 점에 대해 매우 안타깝게 생각한다. 서울 경찰의 대응이 미흡했던 점에 대해 책임을 통감한다”고 했다.</p>\n",
       " <p dmcf-pid=\"GFKUXeeWsn\" dmcf-ptype=\"general\">김 청장은 참사 발생 사실을 늦게 인지한 이유로 이임재 전 용산 경찰서장의 보고가 지연됐기 때문이라고 밝혔다. 서울경찰청은 앞서 김 청장이 29일 밤 11시36분 처음 보고를 받았다고 밝힌 바 있다. 김 청장은 “서울청 상황실은 29일 밤 22시59분 소방으로부터 전화를 받고 사고 사실을 확인한 후 용산경찰서에 현장 상황 파악 및 보고를 지시했다. 30일 자정 0시 2분 경찰청 상황실로 보고한 것으로 알고 있다”고 했다. 다만 “정확한 인지 시간이나 조처는 수사와 감찰 조사를 통해 확인 중에 있다”고 덧붙였다.</p>\n",
       " <p dmcf-pid=\"HHu1T66hOi\" dmcf-ptype=\"general\">소방당국이 15차례나 경찰 인력 및 교통통제를 요청했는데도 경찰이 소극적으로 대응했다는 지적에 대해 김 청장은 “현장 상황을 정확히 인식하지 못해 인력을 투입할 판단을 하지 못했다”고 책임을 인정했다. 또 사고가 발생하기 전 11건의 112 신고 중 현장 출동한 4건에 대해 경력 지원을 요청하지 않는 것에 대해 “신고 내용에 대해 조처를 했으나 근무자들은 사고가 발생하리라 예견하지 못했다”고 답변했다.</p>\n",
       " <p dmcf-pid=\"X78b3oo5mJ\" dmcf-ptype=\"general\">이날 경찰청 특별수사본부는 핼러윈을 앞두고 안전사고를 우려하는 내용의 정보보고서를 묵살·삭제한 의혹을 받는 용산경찰서 정보과장과 정보계장을 피의자로 입건했다. 김 청장은 용산경찰서에서 안전사고를 우려하는 보고서가 서울청에 제출됐지만, 이번 대책에 반영되지 않는 것과 관련해선 “용산서 정보과는 자체 종합 치안대책에 동일한 내용이 반영돼 있다고 생각해 별도의 조치를 하지 않은 것으로 알고 있다. 자료를 열람한 서울청 담당자도 보고서 내용이 일반적으로 예상할 수 있는 수준이라 판단해 별다른 추가조처를 하지 않았다”고 했다.</p>\n",
       " <p dmcf-pid=\"Z6LM2mmBOd\" dmcf-ptype=\"general\">김 청장은 “현재 진행 중인 경찰청의 감찰 조사와 수사에 적극 협조할 것”이라며 “어려운 현장 여건 속에서도 최선을 다해 준 동료 경찰관들에게 미안한 마음을 전한다”고 덧붙였다.</p>\n",
       " <p dmcf-pid=\"5Hu1T66hme\" dmcf-ptype=\"general\">곽진산 기자 kjs@hani.co.kr</p>\n",
       " </section>]"
      ]
     },
     "execution_count": 78,
     "metadata": {},
     "output_type": "execute_result"
    }
   ],
   "source": [
    "soup.select(\"#mArticle > div.news_view.fs_type1 > div.article_view > section\")"
   ]
  },
  {
   "cell_type": "code",
   "execution_count": 64,
   "metadata": {
    "scrolled": true
   },
   "outputs": [
    {
     "data": {
      "text/plain": [
       "[<p dmcf-pid=\"WmWCkUUNso\" dmcf-ptype=\"general\">김광호 서울경찰청장이 이태원 참사 당일 밤 안전 관리를 할 경찰이 부족했다는 지적에 대해 “대규모 진보·보수 집회 대비 때문에 경력을 배치하지 못한 것은 아니다”라고 7일 밝혔다. 앞서 이상민 행정안전부 장관이 “서울 시내 곳곳에서 소요와 시위가 있어 경찰 병력이 분산된 측면이 있었다”며 사고 책임을 집회로 떠넘긴 것과는 대조적이다. </p>,\n",
       " <p dmcf-pid=\"YtbpHRRywL\" dmcf-ptype=\"general\">김광호 청장은 이날 오전 이태원 참사와 관련한 서면 기자간담회에서 취재진 질문에 이같이 답했다. 김 청장은 “112 신고 접수 이후 상황의 심각성을 인지하지 못해 즉각적인 조처를 못한 점에 대해 매우 안타깝게 생각한다. 서울 경찰의 대응이 미흡했던 점에 대해 책임을 통감한다”고 했다.</p>,\n",
       " <p dmcf-pid=\"GFKUXeeWsn\" dmcf-ptype=\"general\">김 청장은 참사 발생 사실을 늦게 인지한 이유로 이임재 전 용산 경찰서장의 보고가 지연됐기 때문이라고 밝혔다. 서울경찰청은 앞서 김 청장이 29일 밤 11시36분 처음 보고를 받았다고 밝힌 바 있다. 김 청장은 “서울청 상황실은 29일 밤 22시59분 소방으로부터 전화를 받고 사고 사실을 확인한 후 용산경찰서에 현장 상황 파악 및 보고를 지시했다. 30일 자정 0시 2분 경찰청 상황실로 보고한 것으로 알고 있다”고 했다. 다만 “정확한 인지 시간이나 조처는 수사와 감찰 조사를 통해 확인 중에 있다”고 덧붙였다.</p>,\n",
       " <p dmcf-pid=\"HHu1T66hOi\" dmcf-ptype=\"general\">소방당국이 15차례나 경찰 인력 및 교통통제를 요청했는데도 경찰이 소극적으로 대응했다는 지적에 대해 김 청장은 “현장 상황을 정확히 인식하지 못해 인력을 투입할 판단을 하지 못했다”고 책임을 인정했다. 또 사고가 발생하기 전 11건의 112 신고 중 현장 출동한 4건에 대해 경력 지원을 요청하지 않는 것에 대해 “신고 내용에 대해 조처를 했으나 근무자들은 사고가 발생하리라 예견하지 못했다”고 답변했다.</p>,\n",
       " <p dmcf-pid=\"X78b3oo5mJ\" dmcf-ptype=\"general\">이날 경찰청 특별수사본부는 핼러윈을 앞두고 안전사고를 우려하는 내용의 정보보고서를 묵살·삭제한 의혹을 받는 용산경찰서 정보과장과 정보계장을 피의자로 입건했다. 김 청장은 용산경찰서에서 안전사고를 우려하는 보고서가 서울청에 제출됐지만, 이번 대책에 반영되지 않는 것과 관련해선 “용산서 정보과는 자체 종합 치안대책에 동일한 내용이 반영돼 있다고 생각해 별도의 조치를 하지 않은 것으로 알고 있다. 자료를 열람한 서울청 담당자도 보고서 내용이 일반적으로 예상할 수 있는 수준이라 판단해 별다른 추가조처를 하지 않았다”고 했다.</p>,\n",
       " <p dmcf-pid=\"Z6LM2mmBOd\" dmcf-ptype=\"general\">김 청장은 “현재 진행 중인 경찰청의 감찰 조사와 수사에 적극 협조할 것”이라며 “어려운 현장 여건 속에서도 최선을 다해 준 동료 경찰관들에게 미안한 마음을 전한다”고 덧붙였다.</p>,\n",
       " <p dmcf-pid=\"5Hu1T66hme\" dmcf-ptype=\"general\">곽진산 기자 kjs@hani.co.kr</p>]"
      ]
     },
     "execution_count": 64,
     "metadata": {},
     "output_type": "execute_result"
    }
   ],
   "source": [
    "soup.select('#mArticle > div.news_view.fs_type1 > div.article_view > section > p')"
   ]
  },
  {
   "cell_type": "code",
   "execution_count": 79,
   "metadata": {},
   "outputs": [
    {
     "data": {
      "text/plain": [
       "'김광호 서울경찰청장이 이태원 참사 당일 밤 안전 관리를 할 경찰이 부족했다는 지적에 대해 “대규모 진보·보수 집회 대비 때문에 경력을 배치하지 못한 것은 아니다”라고 7일 밝혔다. 앞서 이상민 행정안전부 장관이 “서울 시내 곳곳에서 소요와 시위가 있어 경찰 병력이 분산된 측면이 있었다”며 사고 책임을 집회로 떠넘긴 것과는 대조적이다.\\xa0'"
      ]
     },
     "execution_count": 79,
     "metadata": {},
     "output_type": "execute_result"
    }
   ],
   "source": [
    "soup.select('#mArticle > div.news_view.fs_type1 > div.article_view > section p')[1].get_text()"
   ]
  },
  {
   "cell_type": "markdown",
   "metadata": {},
   "source": [
    "### css 클래스(`class`)로 찾기"
   ]
  },
  {
   "cell_type": "code",
   "execution_count": 80,
   "metadata": {},
   "outputs": [
    {
     "data": {
      "text/plain": [
       "'서울경찰청장 “집회 때문에 이태원 경찰력 배치 못한 것 아냐”'"
      ]
     },
     "execution_count": 80,
     "metadata": {},
     "output_type": "execute_result"
    }
   ],
   "source": [
    "# css 셀렉터로 본문 제목 추출\n",
    "# soup.select_one('h3.tit_view').text\n",
    "soup.select_one('h3.tit_view').get_text()\n"
   ]
  },
  {
   "cell_type": "markdown",
   "metadata": {},
   "source": [
    "- 기사에 포함된 이미지 추출"
   ]
  },
  {
   "cell_type": "code",
   "execution_count": 81,
   "metadata": {},
   "outputs": [],
   "source": [
    "\"#mArticle > div.news_view.fs_type1 > div.article_view > section > figure > p > img\"\n",
    "img = soup.select_one('#mArticle > div.news_view.fs_type1 > div.article_view > section > figure > p > img')"
   ]
  },
  {
   "cell_type": "code",
   "execution_count": 82,
   "metadata": {},
   "outputs": [
    {
     "data": {
      "text/plain": [
       "<img alt=\"김광호 서울지방경찰청장이 7일 오후 국회에서 열린 행정안전위원회에서 답변을 하고 있다.김경호 선임기자 jijae@hani.co.kr\" class=\"thumb_g_article\" data-org-src=\"https://t1.daumcdn.net/news/202211/07/hani/20221107180517222wnvv.jpg\" data-org-width=\"970\" dmcf-mid=\"yLVXMUUNsn\" dmcf-mtype=\"image\" height=\"auto\" src=\"https://img3.daumcdn.net/thumb/R658x0.q70/?fname=https://t1.daumcdn.net/news/202211/07/hani/20221107180517222wnvv.jpg\" width=\"658\"/>"
      ]
     },
     "execution_count": 82,
     "metadata": {},
     "output_type": "execute_result"
    }
   ],
   "source": [
    "img"
   ]
  },
  {
   "cell_type": "markdown",
   "metadata": {},
   "source": [
    "- 이미지 경로 뽑아오기"
   ]
  },
  {
   "cell_type": "code",
   "execution_count": 83,
   "metadata": {},
   "outputs": [],
   "source": [
    "img_path = img['src']"
   ]
  },
  {
   "cell_type": "code",
   "execution_count": 84,
   "metadata": {},
   "outputs": [
    {
     "name": "stdout",
     "output_type": "stream",
     "text": [
      "https://img3.daumcdn.net/thumb/R658x0.q70/?fname=https://t1.daumcdn.net/news/202211/07/hani/20221107180517222wnvv.jpg\n"
     ]
    }
   ],
   "source": [
    "print(img_path)"
   ]
  },
  {
   "cell_type": "markdown",
   "metadata": {},
   "source": [
    "- 이미지 저장하기"
   ]
  },
  {
   "cell_type": "code",
   "execution_count": 85,
   "metadata": {},
   "outputs": [],
   "source": [
    "from urllib.request import urlopen"
   ]
  },
  {
   "cell_type": "code",
   "execution_count": 86,
   "metadata": {},
   "outputs": [
    {
     "data": {
      "text/plain": [
       "'서울경찰청장 집회 때문에 이태원 경찰력 배치 못한 것 아냐'"
      ]
     },
     "execution_count": 86,
     "metadata": {},
     "output_type": "execute_result"
    }
   ],
   "source": [
    "title_text = title.get_text().replace('“', '').replace('”', '')\n",
    "title_text"
   ]
  },
  {
   "cell_type": "code",
   "execution_count": 87,
   "metadata": {},
   "outputs": [
    {
     "ename": "NameError",
     "evalue": "name 'save_dir' is not defined",
     "output_type": "error",
     "traceback": [
      "\u001b[0;31m---------------------------------------------------------------------------\u001b[0m",
      "\u001b[0;31mNameError\u001b[0m                                 Traceback (most recent call last)",
      "Cell \u001b[0;32mIn[87], line 2\u001b[0m\n\u001b[1;32m      1\u001b[0m \u001b[38;5;28;01mwith\u001b[39;00m urlopen(img_path) \u001b[38;5;28;01mas\u001b[39;00m f:\n\u001b[0;32m----> 2\u001b[0m     img_path \u001b[38;5;241m=\u001b[39m \u001b[38;5;124mf\u001b[39m\u001b[38;5;124m'\u001b[39m\u001b[38;5;132;01m{\u001b[39;00m\u001b[43msave_dir\u001b[49m\u001b[38;5;132;01m}\u001b[39;00m\u001b[38;5;132;01m{\u001b[39;00mtitle\u001b[38;5;132;01m}\u001b[39;00m\u001b[38;5;124m'\u001b[39m\n\u001b[1;32m      3\u001b[0m     \u001b[38;5;28;01mwith\u001b[39;00m \u001b[38;5;28mopen\u001b[39m(\u001b[38;5;124mf\u001b[39m\u001b[38;5;124m'\u001b[39m\u001b[38;5;124m./\u001b[39m\u001b[38;5;132;01m{\u001b[39;00mtitle_text\u001b[38;5;132;01m}\u001b[39;00m\u001b[38;5;124m.png\u001b[39m\u001b[38;5;124m'\u001b[39m, \u001b[38;5;124m'\u001b[39m\u001b[38;5;124mwb\u001b[39m\u001b[38;5;124m'\u001b[39m) \u001b[38;5;28;01mas\u001b[39;00m img_file:\n\u001b[1;32m      4\u001b[0m         news_img \u001b[38;5;241m=\u001b[39m f\u001b[38;5;241m.\u001b[39mread()\n",
      "\u001b[0;31mNameError\u001b[0m: name 'save_dir' is not defined"
     ]
    }
   ],
   "source": [
    "with urlopen(img_path) as f:\n",
    "    img_path = f'{save_dir}{title}'\n",
    "    with open(f'./{title_text}.png', 'wb') as img_file:\n",
    "        news_img = f.read()\n",
    "        img_file.write(news_img)\n",
    "        "
   ]
  },
  {
   "cell_type": "markdown",
   "metadata": {},
   "source": [
    "- 함수로 만들어 관리"
   ]
  },
  {
   "cell_type": "code",
   "execution_count": 88,
   "metadata": {},
   "outputs": [],
   "source": [
    "def save_img(img_src, save_dir='./', title= 'result', ext='png') -> None:\n",
    "    with urlopen(img_src) as f:\n",
    "        target_path = f'{save_dir}{title}.{ext}'\n",
    "        with open(target_path, 'wb') as img_file:\n",
    "            news_img = f.read()\n",
    "            img_file.write(news_img)"
   ]
  },
  {
   "cell_type": "code",
   "execution_count": 89,
   "metadata": {},
   "outputs": [],
   "source": [
    "save_img(img_path)"
   ]
  },
  {
   "cell_type": "markdown",
   "metadata": {},
   "source": [
    "### 보너스 - 동영상 수집"
   ]
  },
  {
   "cell_type": "markdown",
   "metadata": {},
   "source": [
    "## 경고!!! \n",
    "## AWS EC2 서버는 디스크 용량이 작아서 100% 사용하게 되면 먹통이 될 수 있습니다.\n",
    "## 동영상 수집은 로컬에서 수행할 것을 추천합니다."
   ]
  },
  {
   "cell_type": "code",
   "execution_count": 90,
   "metadata": {},
   "outputs": [],
   "source": [
    "url_video = \"https://www.cju.ac.kr/www/contents.do?key=7214&\""
   ]
  },
  {
   "cell_type": "code",
   "execution_count": 91,
   "metadata": {},
   "outputs": [
    {
     "name": "stdout",
     "output_type": "stream",
     "text": [
      "https://www.cju.ac.kr/www/contents.do?key=7214&\n"
     ]
    }
   ],
   "source": [
    "print(url_video)"
   ]
  },
  {
   "cell_type": "code",
   "execution_count": 92,
   "metadata": {},
   "outputs": [],
   "source": [
    "resp_video = requests.get(url_video)"
   ]
  },
  {
   "cell_type": "code",
   "execution_count": 93,
   "metadata": {},
   "outputs": [
    {
     "data": {
      "text/plain": [
       "'\\r\\n\\r\\n\\r\\n\\r\\n\\r\\n\\r\\n\\r\\n\\r\\n\\r\\n\\r\\n\\r\\n\\r\\n\\r\\n\\r\\n\\r\\n\\r\\n\\r\\n\\r\\n\\r\\n\\r\\n\\r\\n\\r\\n\\r\\n\\r\\n<!DOCTYPE html>\\r\\n<html class=\"www\" lang=\"ko\">\\r\\n<head>\\r\\n\\t<meta charset=\"utf-8\" />\\r\\n\\t<meta http-equiv=\"X-UA-Compatible\" content=\"IE=Edge\" />\\r\\n\\t<meta name=\"viewport\" content=\"width=device-width, initial-scale=1.0, minimum-scale=1.0, maximum-scale=2.0, user-scalable=yes\" />\\r\\n\\t<meta name=\"author\" content=\"청주대학교\" />\\r\\n\\t<meta name=\"keywords\" content=\"청주대학교\" />\\r\\n\\t<meta name=\"description\" content=\"청주대학교\" />\\r\\n\\t<link rel=\"stylesheet\" type=\"text/css\" href=\"/common/css/font.css\" />\\r\\n\\t<link rel=\"stylesheet\" type=\"text/css\" href=\"/site/www/css/sub.css\" />\\r\\n\\t<link rel=\"shortcut icon\" type=\"image/x-icon\" href=\"/favicon.ico\" />\\r\\n\\t<!--[if lt IE 10]><script type=\"text/javascript\" src=\"/common/js/consolefix.js\"></script><![endif]-->\\r\\n\\t<!--[if lt IE 9]><script type=\"text/javascript\" src=\"/common/js/html5.js\"></script><![endif]-->\\r\\n\\t<!--[if lt IE 7]><script type=\"text/javascript\" src=\"/common/js/unitpngfix.js\"></script><![endif]-->\\r\\n\\t<script type=\"text/javascript\" src=\"/common/js/jquery-1.12.4.min.js\"></script>\\r\\n\\t<script type=\"text/javascript\" src=\"/common/js/jquery.easing.1.3.js\"></script>\\r\\n\\t<script type=\"text/javascript\" src=\"/common/js/kit.js\"></script>\\r\\n\\t<script type=\"text/javascript\" src=\"/common/js/layout.js\"></script>\\r\\n\\t<script type=\"text/javascript\" src=\"/common/js/sub.js\"></script>\\r\\n\\t<script type=\"text/javascript\" src=\"/site/www/js/common.js\"></script>\\r\\n\\t<script type=\"text/javascript\" src=\"/site/www/js/sub.js\"></script>\\r\\n\\t<title>CJU 캠퍼스 둘러보기-청주대학교</title>\\r\\n</head>\\r\\n\\r\\n<body id=\"sub06\">\\r\\n\\t<div id=\"wrapper\">\\r\\n\\t\\t<header id=\"header\">\\r\\n\\t\\t\\t<div class=\"accessibility\">\\r\\n\\t\\t\\t\\t<a href=\"#contents\">본문 바로가기</a>\\r\\n\\t\\t\\t</div>\\r\\n\\t\\t\\t<div class=\"logo\">\\r\\n\\t\\t\\t\\t<h1 class=\"wrap\"><a href=\"/www/index.do\"><img src=\"/common/images/layout/logo.png\" alt=\"청주대학교 CHEONGJU UNIVERSITY\" /></a></h1>\\r\\n\\t\\t\\t</div>\\r\\n\\t\\t\\t<div class=\"gnb\">\\r\\n\\t\\t\\t\\t<div class=\"wrap clearfix\">\\r\\n\\t\\t\\t\\t\\t<div class=\"gnb_left clearfix\">\\r\\n\\t\\t\\t\\t\\t\\t<ul class=\"clearfix\">\\r\\n\\t\\t\\t\\t\\t\\t\\t\\r\\n\\t\\t\\t\\t\\t\\t\\t\\r\\n\\t\\t\\t\\t\\t\\t\\t\\t\\r\\n\\t\\t\\t\\t\\t\\t\\t\\t\\r\\n\\t\\t\\t\\t\\t\\t\\t\\t\\t<li class=\"login\"><a href=\"/www/loginForm.do?key=7214&amp;url=%2Fwww%2Fsub.do%3Fkey%3D7214\">로그인</a></li>\\r\\n\\t\\t\\t\\t\\t\\t\\t\\t\\r\\n\\t\\t\\t\\t\\t\\t\\t\\r\\n\\t\\t\\t\\t\\t\\t\\t<li><a href=\"/www/sitemap.do?key=4841&\">사이트맵</a></li>\\r\\n\\t\\t\\t\\t\\t\\t\\t<li class=\"language\" data-style=\"list\">\\r\\n\\t\\t\\t\\t\\t\\t\\t\\t<button type=\"button\" title=\"하위메뉴 열기\" class=\"open\">LANGUAGE</button>\\r\\n\\t\\t\\t\\t\\t\\t\\t\\t<div class=\"target\">\\r\\n\\t\\t\\t\\t\\t\\t\\t\\t\\t<ul>\\r\\n\\t\\t\\t\\t\\t\\t\\t\\t\\t\\t<li><a href=\"/eng/index.do\" title=\"새창\" target=\"_blank\">ENGLISH</a></li>\\r\\n\\t\\t\\t\\t\\t\\t\\t\\t\\t\\t<li><a href=\"/chi/index.do\" title=\"새창\" target=\"_blank\">CHINESE</a></li>\\r\\n\\t\\t\\t\\t\\t\\t\\t\\t\\t</ul>\\r\\n\\t\\t\\t\\t\\t\\t\\t\\t</div>\\r\\n\\t\\t\\t\\t\\t\\t\\t</li>\\r\\n\\t\\t\\t\\t\\t\\t</ul>\\r\\n\\t\\t\\t\\t\\t</div>\\r\\n\\t\\t\\t\\t\\t<div class=\"gnb_right\">\\r\\n\\t\\t\\t\\t\\t\\t<ul class=\"clearfix\">\\r\\n\\t\\t\\t\\t\\t\\t\\t<li class=\"cjunews\"><a href=\"/www/selectBbsNttList.do?bbsNo=870&key=4423&\" title=\"바로가기\" target=\"_self\">청대뉴스</a></li>\\r\\n\\t\\t\\t\\t\\t\\t\\t<li class=\"employment\"><a href=\"/www/contents.do?key=4545&\" title=\"새창\" target=\"_blank\">취업지원</a></li>\\r\\n\\t\\t\\t\\t\\t\\t\\t<li class=\"international\"><a href=\"/intl/index.do\" title=\"새창\" target=\"_blank\">국제교류</a></li>\\r\\n\\t\\t\\t\\t\\t\\t\\t<li class=\"entrance\"><a href=\"/ipsi/index.do\">입학안내</a></li>\\r\\n\\t\\t\\t\\t\\t\\t</ul>\\r\\n\\t\\t\\t\\t\\t</div>\\r\\n\\t\\t\\t\\t</div>\\r\\n\\t\\t\\t</div>\\r\\n\\t\\t\\t<div class=\"lnb_m_open\">\\r\\n\\t\\t\\t\\t<div class=\"inner_wrap\">\\r\\n\\t\\t\\t\\t\\t<button type=\"button\">주메뉴 열기</button>\\r\\n\\t\\t\\t\\t</div>\\r\\n\\t\\t\\t</div>\\r\\n\\t\\t\\t<nav class=\"lnb\">\\r\\n\\t\\t\\t\\t<h2 class=\"skip\">주메뉴</h2>\\r\\n\\t\\t\\t\\t<div class=\"lnb_wrap\">\\r\\n\\t\\t\\t\\t\\t<div class=\"wrap\">\\r\\n\\t\\t\\t\\t\\t\\t\\r\\n\\r\\n\\r\\n\\r\\n\\t<ul class=\"depth1_menu clearfix\">\\r\\n\\t\\t\\t\\t<li class=\"depth1_list\">\\r\\n\\t\\t\\t<a class=\"depth1_anchor\"  href=\"/www/contents.do?key=4407&\" target=\"_self\">청주대소개</a>\\r\\n\\r\\n\\t\\t\\t<div class=\"depth2_title\">\\r\\n\\t\\t\\t\\t<span>청주대소개</span>\\r\\n\\t\\t\\t\\t<p>실학성세 4.0!</p>\\r\\n\\t\\t\\t</div>\\r\\n\\r\\n\\r\\n\\t\\t\\t<ul class=\"depth2_menu\">\\r\\n\\t\\t\\t\\t\\t\\t\\t<li class=\"depth2_list\"><a class=\"depth2_anchor\" href=\"/www/contents.do?key=4407&\" target=\"_self\">학교소개</a>\\r\\n\\r\\n\\t\\t\\t\\t\\t<ul class=\"depth3_menu\">\\r\\n\\t\\t\\t\\t\\t\\t\\t\\t\\t\\t\\t<li class=\"depth3_list\"><a class=\"depth3_anchor\" href=\"/www/contents.do?key=4407&\" target=\"_self\">학교 이념</a>\\r\\n\\t\\t\\t\\t\\t\\t\\t<ul class=\"depth4_menu\">\\r\\n\\t\\t\\t\\t\\t\\t\\t\\t\\t\\t\\t\\t\\t\\t\\t<li class=\"depth4_list\"><a class=\"depth4_anchor\" href=\"/www/contents.do?key=4407&\" target=\"_self\">건학정신</a></li>\\r\\n\\t\\t\\t\\t\\t\\t\\t\\t<li class=\"depth4_list\"><a class=\"depth4_anchor\" href=\"/www/contents.do?key=4408&\" target=\"_self\">교육이념</a></li>\\r\\n\\r\\n\\t\\t\\t                </ul>\\r\\n\\t\\t\\t\\t\\t\\t</li>\\r\\n\\t\\t\\t\\t\\t\\t<li class=\"depth3_list\"><a class=\"depth3_anchor\" href=\"/www/contents.do?key=4411&\" target=\"_self\">연혁</a>\\r\\n\\t\\t\\t\\t\\t\\t\\t<ul class=\"depth4_menu\">\\r\\n\\t\\t\\t\\t\\t\\t\\t\\t\\t\\t\\t\\t\\t\\t\\t<li class=\"depth4_list\"><a class=\"depth4_anchor\" href=\"/www/contents.do?key=4411&\" target=\"_self\">2012~현재</a></li>\\r\\n\\t\\t\\t\\t\\t\\t\\t\\t<li class=\"depth4_list\"><a class=\"depth4_anchor\" href=\"/www/contents.do?key=4412&\" target=\"_self\">1991~2011</a></li>\\r\\n\\t\\t\\t\\t\\t\\t\\t\\t<li class=\"depth4_list\"><a class=\"depth4_anchor\" href=\"/www/contents.do?key=4413&\" target=\"_self\">1970~1990</a></li>\\r\\n\\t\\t\\t\\t\\t\\t\\t\\t<li class=\"depth4_list\"><a class=\"depth4_anchor\" href=\"/www/contents.do?key=4414&\" target=\"_self\">1947~1969</a></li>\\r\\n\\r\\n\\t\\t\\t                </ul>\\r\\n\\t\\t\\t\\t\\t\\t</li>\\r\\n\\t\\t\\t\\t\\t\\t<li class=\"depth3_list\"><a class=\"depth3_anchor\" href=\"/www/contents.do?key=4417&\" target=\"_self\">학교상징</a>\\r\\n\\t\\t\\t\\t\\t\\t\\t<ul class=\"depth4_menu\">\\r\\n\\t\\t\\t\\t\\t\\t\\t\\t\\t\\t\\t\\t\\t\\t\\t<li class=\"depth4_list\"><a class=\"depth4_anchor\" href=\"/www/contents.do?key=4417&\" target=\"_self\">심볼</a></li>\\r\\n\\t\\t\\t\\t\\t\\t\\t\\t<li class=\"depth4_list\"><a class=\"depth4_anchor\" href=\"/www/contents.do?key=4418&\" target=\"_self\">상징물</a></li>\\r\\n\\t\\t\\t\\t\\t\\t\\t\\t<li class=\"depth4_list\"><a class=\"depth4_anchor\" href=\"/www/contents.do?key=4419&\" target=\"_self\">교가</a></li>\\r\\n\\t\\t\\t\\t\\t\\t\\t\\t<li class=\"depth4_list\"><a class=\"depth4_anchor\" href=\"/www/contents.do?key=4420&\" target=\"_self\">UI매뉴얼</a></li>\\r\\n\\t\\t\\t\\t\\t\\t\\t\\t<li class=\"depth4_list\"><a class=\"depth4_anchor\" href=\"/www/contents.do?key=8508&\" target=\"_self\">학원 100주년/대학 77주년 엠블럼</a></li>\\r\\n\\t\\t\\t\\t\\t\\t\\t\\t<li class=\"depth4_list\"><a class=\"depth4_anchor\" href=\"/www/contents.do?key=7434&\" target=\"_self\">전용서체</a></li>\\r\\n\\r\\n\\t\\t\\t                </ul>\\r\\n\\t\\t\\t\\t\\t\\t</li>\\r\\n\\t\\t\\t\\t\\t\\t<li class=\"depth3_list\"><a class=\"depth3_anchor\" href=\"/www/selectBbsNttList.do?bbsNo=870&key=4423&\" target=\"_self\">CJU 홍보관</a>\\r\\n\\t\\t\\t\\t\\t\\t\\t<ul class=\"depth4_menu\">\\r\\n\\t\\t\\t\\t\\t\\t\\t\\t\\t\\t\\t\\t\\t\\t\\t<li class=\"depth4_list\"><a class=\"depth4_anchor\" href=\"/www/selectBbsNttList.do?bbsNo=870&key=4423&\" target=\"_self\">청주대뉴스</a></li>\\r\\n\\t\\t\\t\\t\\t\\t\\t\\t<li class=\"depth4_list\"><a class=\"depth4_anchor\" href=\"/www/selectBbsNttList.do?bbsNo=871&key=4424&\" target=\"_self\">홍보동영상</a></li>\\r\\n\\t\\t\\t\\t\\t\\t\\t\\t<li class=\"depth4_list\"><a class=\"depth4_anchor\" href=\"/www/contents.do?key=4425&\" target=\"_self\">홍보대사</a></li>\\r\\n\\t\\t\\t\\t\\t\\t\\t\\t<li class=\"depth4_list\"><a class=\"depth4_anchor\" href=\"/www/selectBbsNttList.do?bbsNo=872&key=4426&\" target=\"_self\">웹진</a></li>\\r\\n\\t\\t\\t\\t\\t\\t\\t\\t<li class=\"depth4_list\"><a class=\"depth4_anchor\" href=\"/www/selectBbsNttList.do?bbsNo=873&key=4427&\" target=\"_self\">캠퍼스갤러리</a></li>\\r\\n\\t\\t\\t\\t\\t\\t\\t\\t<li class=\"depth4_list\"><a class=\"depth4_anchor\" href=\"/www/selectBbsNttList.do?bbsNo=1048&key=5143&\" target=\"_self\">CJU 브로슈어</a></li>\\r\\n\\r\\n\\t\\t\\t                </ul>\\r\\n\\t\\t\\t\\t\\t\\t</li>\\r\\n\\t\\t\\t\\t\\t\\t<li class=\"depth3_list\"><a class=\"depth3_anchor\" href=\"https://www.cju.ac.kr/history/index.do\" target=\"_blank\" title=\"새창\">역사관</a>\\r\\n\\t\\t\\t\\t\\t\\t</li>\\r\\n\\r\\n\\t                </ul>\\r\\n\\r\\n\\t\\t\\t\\t</li>\\r\\n\\t\\t\\t\\t<li class=\"depth2_list\"><a class=\"depth2_anchor\" href=\"/www/contents.do?key=4431&\" target=\"_self\">CJU2030</a>\\r\\n\\r\\n\\t\\t\\t\\t\\t<ul class=\"depth3_menu\">\\r\\n\\t\\t\\t\\t\\t\\t\\t\\t\\t\\t\\t<li class=\"depth3_list\"><a class=\"depth3_anchor\" href=\"/www/contents.do?key=4431&\" target=\"_self\">중장기발전계획</a>\\r\\n\\t\\t\\t\\t\\t\\t\\t<ul class=\"depth4_menu\">\\r\\n\\t\\t\\t\\t\\t\\t\\t\\t\\t\\t\\t\\t\\t\\t\\t<li class=\"depth4_list\"><a class=\"depth4_anchor\" href=\"/www/contents.do?key=4431&\" target=\"_self\">미션 및 비전</a></li>\\r\\n\\t\\t\\t\\t\\t\\t\\t\\t<li class=\"depth4_list\"><a class=\"depth4_anchor\" href=\"/www/contents.do?key=4432&\" target=\"_self\">전략방향</a></li>\\r\\n\\t\\t\\t\\t\\t\\t\\t\\t<li class=\"depth4_list\"><a class=\"depth4_anchor\" href=\"/www/contents.do?key=4433&\" target=\"_self\">전략과제</a></li>\\r\\n\\r\\n\\t\\t\\t                </ul>\\r\\n\\t\\t\\t\\t\\t\\t</li>\\r\\n\\t\\t\\t\\t\\t\\t<li class=\"depth3_list\"><a class=\"depth3_anchor\" href=\"/www/contents.do?key=4435&\" target=\"_self\">특성화추진계획</a>\\r\\n\\t\\t\\t\\t\\t\\t\\t<ul class=\"depth4_menu\">\\r\\n\\t\\t\\t\\t\\t\\t\\t\\t\\t\\t\\t\\t\\t\\t\\t<li class=\"depth4_list\"><a class=\"depth4_anchor\" href=\"/www/contents.do?key=4435&\" target=\"_self\">특성화 목표</a></li>\\r\\n\\t\\t\\t\\t\\t\\t\\t\\t<li class=\"depth4_list\"><a class=\"depth4_anchor\" href=\"/www/contents.do?key=4436&\" target=\"_self\">특성화 전략</a></li>\\r\\n\\t\\t\\t\\t\\t\\t\\t\\t<li class=\"depth4_list\"><a class=\"depth4_anchor\" href=\"https://www.cju.ac.kr/cjuspe/index.do\" target=\"_blank\" title=\"새창\">특성화 사업</a></li>\\r\\n\\r\\n\\t\\t\\t                </ul>\\r\\n\\t\\t\\t\\t\\t\\t</li>\\r\\n\\t\\t\\t\\t\\t\\t<li class=\"depth3_list\"><a class=\"depth3_anchor\" href=\"/www/contents.do?key=5527&\" target=\"_self\">CJU2030 요약본</a>\\r\\n\\t\\t\\t\\t\\t\\t</li>\\r\\n\\t\\t\\t\\t\\t\\t<li class=\"depth3_list\"><a class=\"depth3_anchor\" href=\"/www/contents.do?key=8545&\" target=\"_self\">학사구조개편결과</a>\\r\\n\\t\\t\\t\\t\\t\\t\\t<ul class=\"depth4_menu\">\\r\\n\\t\\t\\t\\t\\t\\t\\t\\t\\t\\t\\t\\t\\t\\t\\t<li class=\"depth4_list\"><a class=\"depth4_anchor\" href=\"/www/contents.do?key=8545&\" target=\"_self\">2025학년도</a></li>\\r\\n\\t\\t\\t\\t\\t\\t\\t\\t<li class=\"depth4_list\"><a class=\"depth4_anchor\" href=\"/www/contents.do?key=7759&\" target=\"_self\">2023~2024학년도</a></li>\\r\\n\\t\\t\\t\\t\\t\\t\\t\\t<li class=\"depth4_list\"><a class=\"depth4_anchor\" href=\"/www/contents.do?key=7479&\" target=\"_self\">2022학년도</a></li>\\r\\n\\t\\t\\t\\t\\t\\t\\t\\t<li class=\"depth4_list\"><a class=\"depth4_anchor\" href=\"/www/contents.do?key=7386&\" target=\"_self\">2021학년도</a></li>\\r\\n\\t\\t\\t\\t\\t\\t\\t\\t<li class=\"depth4_list\"><a class=\"depth4_anchor\" href=\"/www/contents.do?key=7108&\" target=\"_self\">2020학년도</a></li>\\r\\n\\t\\t\\t\\t\\t\\t\\t\\t<li class=\"depth4_list\"><a class=\"depth4_anchor\" href=\"/www/contents.do?key=7109&\" target=\"_self\">2019학년도</a></li>\\r\\n\\t\\t\\t\\t\\t\\t\\t\\t<li class=\"depth4_list\"><a class=\"depth4_anchor\" href=\"/www/contents.do?key=7110&\" target=\"_self\">2018학년도</a></li>\\r\\n\\r\\n\\t\\t\\t                </ul>\\r\\n\\t\\t\\t\\t\\t\\t</li>\\r\\n\\r\\n\\t                </ul>\\r\\n\\r\\n\\t\\t\\t\\t</li>\\r\\n\\t\\t\\t\\t<li class=\"depth2_list\"><a class=\"depth2_anchor\" href=\"/www/contents.do?key=4443&\" target=\"_self\">열린총장실</a>\\r\\n\\r\\n\\t\\t\\t\\t\\t<ul class=\"depth3_menu\">\\r\\n\\t\\t\\t\\t\\t\\t\\t\\t\\t\\t\\t<li class=\"depth3_list\"><a class=\"depth3_anchor\" href=\"/www/contents.do?key=4443&\" target=\"_self\">총장인사말</a>\\r\\n\\t\\t\\t\\t\\t\\t</li>\\r\\n\\t\\t\\t\\t\\t\\t<li class=\"depth3_list\"><a class=\"depth3_anchor\" href=\"/www/contents.do?key=4444&\" target=\"_self\">총장프로필</a>\\r\\n\\t\\t\\t\\t\\t\\t</li>\\r\\n\\t\\t\\t\\t\\t\\t<li class=\"depth3_list\"><a class=\"depth3_anchor\" href=\"/www/selectBbsNttList.do?bbsNo=875&key=4445&\" target=\"_self\">총장님께 바랍니다</a>\\r\\n\\t\\t\\t\\t\\t\\t</li>\\r\\n\\t\\t\\t\\t\\t\\t<li class=\"depth3_list\"><a class=\"depth3_anchor\" href=\"/www/contents.do?key=4446&\" target=\"_self\">역대총장</a>\\r\\n\\t\\t\\t\\t\\t\\t</li>\\r\\n\\r\\n\\t                </ul>\\r\\n\\r\\n\\t\\t\\t\\t</li>\\r\\n\\t\\t\\t\\t<li class=\"depth2_list\"><a class=\"depth2_anchor\" href=\"/www/contents.do?key=4448&\" target=\"_self\">학교법인</a>\\r\\n\\r\\n\\t\\t\\t\\t\\t<ul class=\"depth3_menu\">\\r\\n\\t\\t\\t\\t\\t\\t\\t\\t\\t\\t\\t<li class=\"depth3_list\"><a class=\"depth3_anchor\" href=\"/www/contents.do?key=4448&\" target=\"_self\">이사장인사말</a>\\r\\n\\t\\t\\t\\t\\t\\t</li>\\r\\n\\t\\t\\t\\t\\t\\t<li class=\"depth3_list\"><a class=\"depth3_anchor\" href=\"/www/contents.do?key=4450&\" target=\"_self\">연혁/현황</a>\\r\\n\\t\\t\\t\\t\\t\\t\\t<ul class=\"depth4_menu\">\\r\\n\\t\\t\\t\\t\\t\\t\\t\\t\\t\\t\\t\\t\\t\\t\\t<li class=\"depth4_list\"><a class=\"depth4_anchor\" href=\"/www/contents.do?key=4450&\" target=\"_self\">연혁</a></li>\\r\\n\\t\\t\\t\\t\\t\\t\\t\\t<li class=\"depth4_list\"><a class=\"depth4_anchor\" href=\"/www/contents.do?key=4451&\" target=\"_self\">현황</a></li>\\r\\n\\r\\n\\t\\t\\t                </ul>\\r\\n\\t\\t\\t\\t\\t\\t</li>\\r\\n\\t\\t\\t\\t\\t\\t<li class=\"depth3_list\"><a class=\"depth3_anchor\" href=\"/www/contents.do?key=4452&\" target=\"_self\">임원소개</a>\\r\\n\\t\\t\\t\\t\\t\\t</li>\\r\\n\\t\\t\\t\\t\\t\\t<li class=\"depth3_list\"><a class=\"depth3_anchor\" href=\"/www/selectBbsNttList.do?bbsNo=877&key=4453&\" target=\"_self\">이사회 회의록</a>\\r\\n\\t\\t\\t\\t\\t\\t</li>\\r\\n\\t\\t\\t\\t\\t\\t<li class=\"depth3_list\"><a class=\"depth3_anchor\" href=\"/www/contents.do?key=7588&\" target=\"_self\">발전기금 현황</a>\\r\\n\\t\\t\\t\\t\\t\\t</li>\\r\\n\\r\\n\\t                </ul>\\r\\n\\r\\n\\t\\t\\t\\t</li>\\r\\n\\t\\t\\t\\t<li class=\"depth2_list\"><a class=\"depth2_anchor\" href=\"/www/contents.do?key=4455&\" target=\"_self\">대학정보</a>\\r\\n\\r\\n\\t\\t\\t\\t\\t<ul class=\"depth3_menu\">\\r\\n\\t\\t\\t\\t\\t\\t\\t\\t\\t\\t\\t<li class=\"depth3_list\"><a class=\"depth3_anchor\" href=\"/www/contents.do?key=4455&\" target=\"_self\">대학현황</a>\\r\\n\\t\\t\\t\\t\\t\\t</li>\\r\\n\\t\\t\\t\\t\\t\\t<li class=\"depth3_list\"><a class=\"depth3_anchor\" href=\"/www/contents.do?key=5531&\" target=\"_self\">대학평의원회</a>\\r\\n\\t\\t\\t\\t\\t\\t\\t<ul class=\"depth4_menu\">\\r\\n\\t\\t\\t\\t\\t\\t\\t\\t\\t\\t\\t\\t\\t\\t\\t<li class=\"depth4_list\"><a class=\"depth4_anchor\" href=\"/www/contents.do?key=5531&\" target=\"_self\">대학평의원회 구성</a></li>\\r\\n\\t\\t\\t\\t\\t\\t\\t\\t<li class=\"depth4_list\"><a class=\"depth4_anchor\" href=\"/www/contents.do?key=6793&\" target=\"_self\">대학평의원회 관련규정</a></li>\\r\\n\\t\\t\\t\\t\\t\\t\\t\\t<li class=\"depth4_list\"><a class=\"depth4_anchor\" href=\"/www/selectBbsNttList.do?bbsNo=1389&key=7375&\" target=\"_self\">대학평의원회 개최</a></li>\\r\\n\\t\\t\\t\\t\\t\\t\\t\\t<li class=\"depth4_list\"><a class=\"depth4_anchor\" href=\"/www/selectBbsNttList.do?bbsNo=1077&key=5533&\" target=\"_self\">대학평의원회 회의록</a></li>\\r\\n\\r\\n\\t\\t\\t                </ul>\\r\\n\\t\\t\\t\\t\\t\\t</li>\\r\\n\\t\\t\\t\\t\\t\\t<li class=\"depth3_list\"><a class=\"depth3_anchor\" href=\"/www/contents.do?key=4456&\" target=\"_self\">대학자체평가</a>\\r\\n\\t\\t\\t\\t\\t\\t</li>\\r\\n\\t\\t\\t\\t\\t\\t<li class=\"depth3_list\"><a class=\"depth3_anchor\" href=\"/www/contents.do?key=4458&\" target=\"_self\">정보공개</a>\\r\\n\\t\\t\\t\\t\\t\\t\\t<ul class=\"depth4_menu\">\\r\\n\\t\\t\\t\\t\\t\\t\\t\\t\\t\\t\\t\\t\\t\\t\\t<li class=\"depth4_list\"><a class=\"depth4_anchor\" href=\"/www/contents.do?key=4458&\" target=\"_self\">정보공개 제도안내</a></li>\\r\\n\\t\\t\\t\\t\\t\\t\\t\\t<li class=\"depth4_list\"><a class=\"depth4_anchor\" href=\"/www/contents.do?key=4459&\" target=\"_self\">정보공개 청구</a></li>\\r\\n\\t\\t\\t\\t\\t\\t\\t\\t<li class=\"depth4_list\"><a class=\"depth4_anchor\" href=\"/www/contents.do?key=4460&\" target=\"_self\">사전정보공개</a></li>\\r\\n\\t\\t\\t\\t\\t\\t\\t\\t<li class=\"depth4_list\"><a class=\"depth4_anchor\" href=\"/www/selectBbsNttList.do?bbsNo=1346&key=7070&\" target=\"_self\">업무추진비 공개</a></li>\\r\\n\\r\\n\\t\\t\\t                </ul>\\r\\n\\t\\t\\t\\t\\t\\t</li>\\r\\n\\t\\t\\t\\t\\t\\t<li class=\"depth3_list\"><a class=\"depth3_anchor\" href=\"/www/contents.do?key=8345&\" target=\"_self\">교육수요자만족도</a>\\r\\n\\t\\t\\t\\t\\t\\t\\t<ul class=\"depth4_menu\">\\r\\n\\t\\t\\t\\t\\t\\t\\t\\t\\t\\t\\t\\t\\t\\t\\t<li class=\"depth4_list\"><a class=\"depth4_anchor\" href=\"/www/contents.do?key=8345&\" target=\"_self\">2022학년도</a></li>\\r\\n\\t\\t\\t\\t\\t\\t\\t\\t<li class=\"depth4_list\"><a class=\"depth4_anchor\" href=\"/www/contents.do?key=7774&\" target=\"_self\">2021학년도</a></li>\\r\\n\\t\\t\\t\\t\\t\\t\\t\\t<li class=\"depth4_list\"><a class=\"depth4_anchor\" href=\"/www/contents.do?key=7433&\" target=\"_self\">2020학년도</a></li>\\r\\n\\t\\t\\t\\t\\t\\t\\t\\t<li class=\"depth4_list\"><a class=\"depth4_anchor\" href=\"/www/contents.do?key=7432&\" target=\"_self\">2019학년도</a></li>\\r\\n\\t\\t\\t\\t\\t\\t\\t\\t<li class=\"depth4_list\"><a class=\"depth4_anchor\" href=\"/www/contents.do?key=6917&\" target=\"_self\">2018학년도</a></li>\\r\\n\\r\\n\\t\\t\\t                </ul>\\r\\n\\t\\t\\t\\t\\t\\t</li>\\r\\n\\t\\t\\t\\t\\t\\t<li class=\"depth3_list\"><a class=\"depth3_anchor\" href=\"/www/selectBbsNttList.do?bbsNo=878&key=4461&\" target=\"_self\">예결산 공고</a>\\r\\n\\t\\t\\t\\t\\t\\t</li>\\r\\n\\t\\t\\t\\t\\t\\t<li class=\"depth3_list\"><a class=\"depth3_anchor\" href=\"/www/selectBbsNttList.do?bbsNo=1382&key=7370&\" target=\"_self\">등록금심의위원회</a>\\r\\n\\t\\t\\t\\t\\t\\t</li>\\r\\n\\t\\t\\t\\t\\t\\t<li class=\"depth3_list\"><a class=\"depth3_anchor\" href=\"http://rule.cju.ac.kr/lmxsrv/main/main.srv\" target=\"_blank\" title=\"새창\">규정집</a>\\r\\n\\t\\t\\t\\t\\t\\t</li>\\r\\n\\t\\t\\t\\t\\t\\t<li class=\"depth3_list\"><a class=\"depth3_anchor\" href=\"/www/selectBbsNttList.do?bbsNo=879&key=4464&\" target=\"_self\">청렴행정 실천 안내</a>\\r\\n\\t\\t\\t\\t\\t\\t\\t<ul class=\"depth4_menu\">\\r\\n\\t\\t\\t\\t\\t\\t\\t\\t\\t\\t\\t\\t\\t\\t\\t<li class=\"depth4_list\"><a class=\"depth4_anchor\" href=\"/www/selectBbsNttList.do?bbsNo=879&key=4464&\" target=\"_self\">정책 및 규정안내</a></li>\\r\\n\\t\\t\\t\\t\\t\\t\\t\\t<li class=\"depth4_list\"><a class=\"depth4_anchor\" href=\"/www/selectBbsNttList.do?bbsNo=880&key=4465&\" target=\"_self\">교육자료 및 사례</a></li>\\r\\n\\t\\t\\t\\t\\t\\t\\t\\t<li class=\"depth4_list\"><a class=\"depth4_anchor\" href=\"/www/contents.do?key=8538&\" target=\"_self\">공익신고 처리 및 신고자 보호</a></li>\\r\\n\\r\\n\\t\\t\\t                </ul>\\r\\n\\t\\t\\t\\t\\t\\t</li>\\r\\n\\t\\t\\t\\t\\t\\t<li class=\"depth3_list\"><a class=\"depth3_anchor\" href=\"http://safety.cju.ac.kr/\" target=\"_blank\" title=\"새창\">연구실 안전관리</a>\\r\\n\\t\\t\\t\\t\\t\\t</li>\\r\\n\\r\\n\\t                </ul>\\r\\n\\r\\n\\t\\t\\t\\t</li>\\r\\n\\t\\t\\t\\t<li class=\"depth2_list\"><a class=\"depth2_anchor\" href=\"/www/contents.do?key=4468&\" target=\"_self\">대학기관</a>\\r\\n\\r\\n\\t\\t\\t\\t\\t<ul class=\"depth3_menu\">\\r\\n\\t\\t\\t\\t\\t\\t\\t\\t\\t\\t\\t<li class=\"depth3_list\"><a class=\"depth3_anchor\" href=\"/www/contents.do?key=4468&\" target=\"_self\">조직구성</a>\\r\\n\\t\\t\\t\\t\\t\\t</li>\\r\\n\\t\\t\\t\\t\\t\\t<li class=\"depth3_list\"><a class=\"depth3_anchor\" href=\"/www/selectEmpList.do?key=4469&\" target=\"_self\">전화번호안내</a>\\r\\n\\t\\t\\t\\t\\t\\t</li>\\r\\n\\r\\n\\t                </ul>\\r\\n\\r\\n\\t\\t\\t\\t</li>\\r\\n\\t\\t\\t\\t<li class=\"depth2_list\"><a class=\"depth2_anchor\" href=\"/site/campusmap/sub.html\" target=\"_self\">캠퍼스안내</a>\\r\\n\\r\\n\\t\\t\\t\\t\\t<ul class=\"depth3_menu\">\\r\\n\\t\\t\\t\\t\\t\\t\\t\\t\\t\\t\\t<li class=\"depth3_list\"><a class=\"depth3_anchor campusmap\" href=\"/site/campusmap/sub.html\" target=\"_blank\" title=\"새창\">캠퍼스 맵</a>\\r\\n\\t\\t\\t\\t\\t\\t</li>\\r\\n\\t\\t\\t\\t\\t\\t<li class=\"depth3_list\"><a class=\"depth3_anchor\" href=\"/www/contents.do?key=4473&\" target=\"_self\">셔틀(통학)버스</a>\\r\\n\\t\\t\\t\\t\\t\\t\\t<ul class=\"depth4_menu\">\\r\\n\\t\\t\\t\\t\\t\\t\\t\\t\\t\\t\\t\\t\\t\\t\\t<li class=\"depth4_list\"><a class=\"depth4_anchor\" href=\"/www/contents.do?key=4473&\" target=\"_self\">학생통학버스</a></li>\\r\\n\\t\\t\\t\\t\\t\\t\\t\\t<li class=\"depth4_list\"><a class=\"depth4_anchor\" href=\"/www/contents.do?key=4474&\" target=\"_self\">교내셔틀버스</a></li>\\r\\n\\t\\t\\t\\t\\t\\t\\t\\t<li class=\"depth4_list\"><a class=\"depth4_anchor\" href=\"/www/contents.do?key=8194&\" target=\"_self\">음성캠퍼스(셔틀)</a></li>\\r\\n\\r\\n\\t\\t\\t                </ul>\\r\\n\\t\\t\\t\\t\\t\\t</li>\\r\\n\\t\\t\\t\\t\\t\\t<li class=\"depth3_list\"><a class=\"depth3_anchor\" href=\"/www/contents.do?key=4476&\" target=\"_self\">주차시설 안내</a>\\r\\n\\t\\t\\t\\t\\t\\t</li>\\r\\n\\t\\t\\t\\t\\t\\t<li class=\"depth3_list\"><a class=\"depth3_anchor\" href=\"/www/contents.do?key=5498&\" target=\"_self\">CCTV 설치현황</a>\\r\\n\\t\\t\\t\\t\\t\\t</li>\\r\\n\\t\\t\\t\\t\\t\\t<li class=\"depth3_list\"><a class=\"depth3_anchor\" href=\"/www/contents.do?key=8303&\" target=\"_self\">찾아오시는 길</a>\\r\\n\\t\\t\\t\\t\\t\\t\\t<ul class=\"depth4_menu\">\\r\\n\\t\\t\\t\\t\\t\\t\\t\\t\\t\\t\\t\\t\\t\\t\\t<li class=\"depth4_list\"><a class=\"depth4_anchor\" href=\"/www/contents.do?key=8303&\" target=\"_self\">청주 캠퍼스</a></li>\\r\\n\\t\\t\\t\\t\\t\\t\\t\\t<li class=\"depth4_list\"><a class=\"depth4_anchor\" href=\"/www/contents.do?key=8304&\" target=\"_self\">오송 캠퍼스</a></li>\\r\\n\\t\\t\\t\\t\\t\\t\\t\\t<li class=\"depth4_list\"><a class=\"depth4_anchor\" href=\"/www/contents.do?key=8305&\" target=\"_self\">음성 캠퍼스</a></li>\\r\\n\\r\\n\\t\\t\\t                </ul>\\r\\n\\t\\t\\t\\t\\t\\t</li>\\r\\n\\r\\n\\t                </ul>\\r\\n\\r\\n\\t\\t\\t\\t</li>\\r\\n\\r\\n\\t\\t\\t</ul>\\r\\n\\r\\n\\t\\t</li>\\r\\n\\t\\t<li class=\"depth1_list\">\\r\\n\\t\\t\\t<a class=\"depth1_anchor\"  href=\"https://www.cju.ac.kr/ipsi/index.do\" target=\"_self\">입학안내</a>\\r\\n\\r\\n\\t\\t\\t<div class=\"depth2_title\">\\r\\n\\t\\t\\t\\t<span>입학안내</span>\\r\\n\\t\\t\\t\\t<p>실학성세 4.0!</p>\\r\\n\\t\\t\\t</div>\\r\\n\\r\\n\\r\\n\\t\\t\\t<ul class=\"depth2_menu\">\\r\\n\\t\\t\\t\\t\\t\\t\\t<li class=\"depth2_list\"><a class=\"depth2_anchor\" href=\"https://www.cju.ac.kr/ipsi/index.do\" target=\"_blank\" title=\"새창\">대학입학</a>\\r\\n\\t\\t\\t\\t</li>\\r\\n\\t\\t\\t\\t<li class=\"depth2_list\"><a class=\"depth2_anchor\" href=\"/www/contents.do?key=4480&\" target=\"_self\">대학원입학</a>\\r\\n\\t\\t\\t\\t</li>\\r\\n\\t\\t\\t\\t<li class=\"depth2_list\"><a class=\"depth2_anchor\" href=\"/edulife/index.do\" target=\"_blank\" title=\"새창\">평생교육원</a>\\r\\n\\t\\t\\t\\t</li>\\r\\n\\t\\t\\t\\t<li class=\"depth2_list\"><a class=\"depth2_anchor\" href=\"/fled/index.do\" target=\"_blank\" title=\"새창\">의사소통교육부</a>\\r\\n\\t\\t\\t\\t</li>\\r\\n\\r\\n\\t\\t\\t</ul>\\r\\n\\r\\n\\t\\t</li>\\r\\n\\t\\t<li class=\"depth1_list\">\\r\\n\\t\\t\\t<a class=\"depth1_anchor\"  href=\"/www/contents.do?key=8176&\" target=\"_self\">대학ㆍ대학원</a>\\r\\n\\r\\n\\t\\t\\t<div class=\"depth2_title\">\\r\\n\\t\\t\\t\\t<span>대학ㆍ대학원</span>\\r\\n\\t\\t\\t\\t<p>실학성세 4.0!</p>\\r\\n\\t\\t\\t</div>\\r\\n\\r\\n\\r\\n\\t\\t\\t<ul class=\"depth2_menu\">\\r\\n\\t\\t\\t\\t\\t\\t\\t<li class=\"depth2_list\"><a class=\"depth2_anchor\" href=\"/www/contents.do?key=8176&\" target=\"_self\">대학(2023학년도~)</a>\\r\\n\\r\\n\\t\\t\\t\\t\\t<ul class=\"depth3_menu\">\\r\\n\\t\\t\\t\\t\\t\\t\\t\\t\\t\\t\\t<li class=\"depth3_list\"><a class=\"depth3_anchor\" href=\"/www/contents.do?key=8176&\" target=\"_self\">비즈니스대학</a>\\r\\n\\t\\t\\t\\t\\t\\t\\t<ul class=\"depth4_menu\">\\r\\n\\t\\t\\t\\t\\t\\t\\t\\t\\t\\t\\t\\t\\t\\t\\t<li class=\"depth4_list\"><a class=\"depth4_anchor\" href=\"/www/contents.do?key=8176&\" target=\"_self\">대학소개</a></li>\\r\\n\\t\\t\\t\\t\\t\\t\\t\\t<li class=\"depth4_list\"><a class=\"depth4_anchor\" href=\"/www/contents.do?key=6452&\" target=\"_self\">학장인사말</a></li>\\r\\n\\t\\t\\t\\t\\t\\t\\t\\t<li class=\"depth4_list\"><a class=\"depth4_anchor\" href=\"/www/contents.do?key=6453&\" target=\"_self\">교육목표</a></li>\\r\\n\\r\\n\\t\\t\\t                </ul>\\r\\n\\t\\t\\t\\t\\t\\t</li>\\r\\n\\t\\t\\t\\t\\t\\t<li class=\"depth3_list\"><a class=\"depth3_anchor\" href=\"/www/contents.do?key=8177&\" target=\"_self\">인문사회대학</a>\\r\\n\\t\\t\\t\\t\\t\\t\\t<ul class=\"depth4_menu\">\\r\\n\\t\\t\\t\\t\\t\\t\\t\\t\\t\\t\\t\\t\\t\\t\\t<li class=\"depth4_list\"><a class=\"depth4_anchor\" href=\"/www/contents.do?key=8177&\" target=\"_self\">대학소개</a></li>\\r\\n\\t\\t\\t\\t\\t\\t\\t\\t<li class=\"depth4_list\"><a class=\"depth4_anchor\" href=\"/www/contents.do?key=6454&\" target=\"_self\">학장인사말</a></li>\\r\\n\\t\\t\\t\\t\\t\\t\\t\\t<li class=\"depth4_list\"><a class=\"depth4_anchor\" href=\"/www/contents.do?key=6455&\" target=\"_self\">교육목표</a></li>\\r\\n\\t\\t\\t\\t\\t\\t\\t\\t<li class=\"depth4_list\"><a class=\"depth4_anchor\" href=\"/www/selectBbsNttList.do?bbsNo=1609&key=8473&\" target=\"_self\">사회과학연구소(한국사회과학연구)</a></li>\\r\\n\\t\\t\\t\\t\\t\\t\\t\\t<li class=\"depth4_list\"><a class=\"depth4_anchor\" href=\"/www/selectBbsNttList.do?bbsNo=1610&key=8476&\" target=\"_self\">한국문화연구소(인문과학논집)</a></li>\\r\\n\\r\\n\\t\\t\\t                </ul>\\r\\n\\t\\t\\t\\t\\t\\t</li>\\r\\n\\t\\t\\t\\t\\t\\t<li class=\"depth3_list\"><a class=\"depth3_anchor\" href=\"/www/contents.do?key=8178&\" target=\"_self\">공과대학</a>\\r\\n\\t\\t\\t\\t\\t\\t\\t<ul class=\"depth4_menu\">\\r\\n\\t\\t\\t\\t\\t\\t\\t\\t\\t\\t\\t\\t\\t\\t\\t<li class=\"depth4_list\"><a class=\"depth4_anchor\" href=\"/www/contents.do?key=8178&\" target=\"_self\">대학소개</a></li>\\r\\n\\t\\t\\t\\t\\t\\t\\t\\t<li class=\"depth4_list\"><a class=\"depth4_anchor\" href=\"/www/contents.do?key=6913&\" target=\"_self\">학장 인사말</a></li>\\r\\n\\t\\t\\t\\t\\t\\t\\t\\t<li class=\"depth4_list\"><a class=\"depth4_anchor\" href=\"/www/contents.do?key=6914&consite=www&conkey=4614&\" target=\"_self\">교육목표</a></li>\\r\\n\\r\\n\\t\\t\\t                </ul>\\r\\n\\t\\t\\t\\t\\t\\t</li>\\r\\n\\t\\t\\t\\t\\t\\t<li class=\"depth3_list\"><a class=\"depth3_anchor\" href=\"/www/contents.do?key=8179&\" target=\"_self\">사범대학</a>\\r\\n\\t\\t\\t\\t\\t\\t\\t<ul class=\"depth4_menu\">\\r\\n\\t\\t\\t\\t\\t\\t\\t\\t\\t\\t\\t\\t\\t\\t\\t<li class=\"depth4_list\"><a class=\"depth4_anchor\" href=\"/www/contents.do?key=8179&\" target=\"_self\">대학소개</a></li>\\r\\n\\t\\t\\t\\t\\t\\t\\t\\t<li class=\"depth4_list\"><a class=\"depth4_anchor\" href=\"/www/contents.do?key=7194&\" target=\"_self\">학장 인사말</a></li>\\r\\n\\t\\t\\t\\t\\t\\t\\t\\t<li class=\"depth4_list\"><a class=\"depth4_anchor\" href=\"/www/contents.do?key=7195&\" target=\"_self\">교육목표</a></li>\\r\\n\\r\\n\\t\\t\\t                </ul>\\r\\n\\t\\t\\t\\t\\t\\t</li>\\r\\n\\t\\t\\t\\t\\t\\t<li class=\"depth3_list\"><a class=\"depth3_anchor\" href=\"/www/contents.do?key=8180&\" target=\"_self\">예술대학</a>\\r\\n\\t\\t\\t\\t\\t\\t\\t<ul class=\"depth4_menu\">\\r\\n\\t\\t\\t\\t\\t\\t\\t\\t\\t\\t\\t\\t\\t\\t\\t<li class=\"depth4_list\"><a class=\"depth4_anchor\" href=\"/www/contents.do?key=8180&\" target=\"_self\">대학소개</a></li>\\r\\n\\t\\t\\t\\t\\t\\t\\t\\t<li class=\"depth4_list\"><a class=\"depth4_anchor\" href=\"/www/contents.do?key=6456&\" target=\"_self\">학장인사말</a></li>\\r\\n\\t\\t\\t\\t\\t\\t\\t\\t<li class=\"depth4_list\"><a class=\"depth4_anchor\" href=\"/www/contents.do?key=6457&\" target=\"_self\">교육목표</a></li>\\r\\n\\r\\n\\t\\t\\t                </ul>\\r\\n\\t\\t\\t\\t\\t\\t</li>\\r\\n\\t\\t\\t\\t\\t\\t<li class=\"depth3_list\"><a class=\"depth3_anchor\" href=\"/www/contents.do?key=8181&\" target=\"_self\">보건의료과학대학</a>\\r\\n\\t\\t\\t\\t\\t\\t\\t<ul class=\"depth4_menu\">\\r\\n\\t\\t\\t\\t\\t\\t\\t\\t\\t\\t\\t\\t\\t\\t\\t<li class=\"depth4_list\"><a class=\"depth4_anchor\" href=\"/www/contents.do?key=8181&\" target=\"_self\">대학소개</a></li>\\r\\n\\t\\t\\t\\t\\t\\t\\t\\t<li class=\"depth4_list\"><a class=\"depth4_anchor\" href=\"/www/contents.do?key=6510&\" target=\"_self\">학장인사말</a></li>\\r\\n\\t\\t\\t\\t\\t\\t\\t\\t<li class=\"depth4_list\"><a class=\"depth4_anchor\" href=\"/www/contents.do?key=6511&\" target=\"_self\">교육목표</a></li>\\r\\n\\r\\n\\t\\t\\t                </ul>\\r\\n\\t\\t\\t\\t\\t\\t</li>\\r\\n\\t\\t\\t\\t\\t\\t<li class=\"depth3_list\"><a class=\"depth3_anchor\" href=\"/www/contents.do?key=8135&\" target=\"_self\">교양대학</a>\\r\\n\\t\\t\\t\\t\\t\\t\\t<ul class=\"depth4_menu\">\\r\\n\\t\\t\\t\\t\\t\\t\\t\\t\\t\\t\\t\\t\\t\\t\\t<li class=\"depth4_list\"><a class=\"depth4_anchor\" href=\"/www/contents.do?key=8135&\" target=\"_self\">대학소개</a></li>\\r\\n\\t\\t\\t\\t\\t\\t\\t\\t<li class=\"depth4_list\"><a class=\"depth4_anchor\" href=\"/www/contents.do?key=8136&\" target=\"_self\">학장인사말</a></li>\\r\\n\\t\\t\\t\\t\\t\\t\\t\\t<li class=\"depth4_list\"><a class=\"depth4_anchor\" href=\"/www/contents.do?key=8137&\" target=\"_self\">교육목표</a></li>\\r\\n\\r\\n\\t\\t\\t                </ul>\\r\\n\\t\\t\\t\\t\\t\\t</li>\\r\\n\\t\\t\\t\\t\\t\\t<li class=\"depth3_list\"><a class=\"depth3_anchor\" href=\"/www/contents.do?key=7803&\" target=\"_self\">직할학부</a>\\r\\n\\t\\t\\t\\t\\t\\t</li>\\r\\n\\r\\n\\t                </ul>\\r\\n\\r\\n\\t\\t\\t\\t</li>\\r\\n\\t\\t\\t\\t<li class=\"depth2_list\"><a class=\"depth2_anchor\" href=\"/www/contents.do?key=6429&\" target=\"_self\">대학(2018학년도~)</a>\\r\\n\\r\\n\\t\\t\\t\\t\\t<ul class=\"depth3_menu\">\\r\\n\\t\\t\\t\\t\\t\\t\\t\\t\\t\\t\\t<li class=\"depth3_list\"><a class=\"depth3_anchor\" href=\"/www/contents.do?key=6429&\" target=\"_self\">비즈니스대학</a>\\r\\n\\t\\t\\t\\t\\t\\t\\t<ul class=\"depth4_menu\">\\r\\n\\t\\t\\t\\t\\t\\t\\t\\t\\t\\t\\t\\t\\t\\t\\t<li class=\"depth4_list\"><a class=\"depth4_anchor\" href=\"/www/contents.do?key=6429&\" target=\"_self\">대학소개</a></li>\\r\\n\\r\\n\\t\\t\\t                </ul>\\r\\n\\t\\t\\t\\t\\t\\t</li>\\r\\n\\t\\t\\t\\t\\t\\t<li class=\"depth3_list\"><a class=\"depth3_anchor\" href=\"/www/contents.do?key=6437&\" target=\"_self\">인문사회대학</a>\\r\\n\\t\\t\\t\\t\\t\\t\\t<ul class=\"depth4_menu\">\\r\\n\\t\\t\\t\\t\\t\\t\\t\\t\\t\\t\\t\\t\\t\\t\\t<li class=\"depth4_list\"><a class=\"depth4_anchor\" href=\"/www/contents.do?key=6437&\" target=\"_self\">대학소개</a></li>\\r\\n\\r\\n\\t\\t\\t                </ul>\\r\\n\\t\\t\\t\\t\\t\\t</li>\\r\\n\\t\\t\\t\\t\\t\\t<li class=\"depth3_list\"><a class=\"depth3_anchor\" href=\"/www/contents.do?key=6438&\" target=\"_self\">공과대학</a>\\r\\n\\t\\t\\t\\t\\t\\t\\t<ul class=\"depth4_menu\">\\r\\n\\t\\t\\t\\t\\t\\t\\t\\t\\t\\t\\t\\t\\t\\t\\t<li class=\"depth4_list\"><a class=\"depth4_anchor\" href=\"/www/contents.do?key=6438&\" target=\"_self\">대학소개</a></li>\\r\\n\\r\\n\\t\\t\\t                </ul>\\r\\n\\t\\t\\t\\t\\t\\t</li>\\r\\n\\t\\t\\t\\t\\t\\t<li class=\"depth3_list\"><a class=\"depth3_anchor\" href=\"/www/contents.do?key=6447&\" target=\"_self\">사범대학</a>\\r\\n\\t\\t\\t\\t\\t\\t\\t<ul class=\"depth4_menu\">\\r\\n\\t\\t\\t\\t\\t\\t\\t\\t\\t\\t\\t\\t\\t\\t\\t<li class=\"depth4_list\"><a class=\"depth4_anchor\" href=\"/www/contents.do?key=6447&\" target=\"_self\">대학소개</a></li>\\r\\n\\r\\n\\t\\t\\t                </ul>\\r\\n\\t\\t\\t\\t\\t\\t</li>\\r\\n\\t\\t\\t\\t\\t\\t<li class=\"depth3_list\"><a class=\"depth3_anchor\" href=\"/www/contents.do?key=6441&\" target=\"_self\">예술대학</a>\\r\\n\\t\\t\\t\\t\\t\\t\\t<ul class=\"depth4_menu\">\\r\\n\\t\\t\\t\\t\\t\\t\\t\\t\\t\\t\\t\\t\\t\\t\\t<li class=\"depth4_list\"><a class=\"depth4_anchor\" href=\"/www/contents.do?key=6441&\" target=\"_self\">대학소개</a></li>\\r\\n\\r\\n\\t\\t\\t                </ul>\\r\\n\\t\\t\\t\\t\\t\\t</li>\\r\\n\\t\\t\\t\\t\\t\\t<li class=\"depth3_list\"><a class=\"depth3_anchor\" href=\"/www/contents.do?key=6442&\" target=\"_self\">보건의료과학대학</a>\\r\\n\\t\\t\\t\\t\\t\\t\\t<ul class=\"depth4_menu\">\\r\\n\\t\\t\\t\\t\\t\\t\\t\\t\\t\\t\\t\\t\\t\\t\\t<li class=\"depth4_list\"><a class=\"depth4_anchor\" href=\"/www/contents.do?key=6442&\" target=\"_self\">대학소개</a></li>\\r\\n\\r\\n\\t\\t\\t                </ul>\\r\\n\\t\\t\\t\\t\\t\\t</li>\\r\\n\\t\\t\\t\\t\\t\\t<li class=\"depth3_list\"><a class=\"depth3_anchor\" href=\"/www/contents.do?key=6459&\" target=\"_self\">교양대학</a>\\r\\n\\t\\t\\t\\t\\t\\t\\t<ul class=\"depth4_menu\">\\r\\n\\t\\t\\t\\t\\t\\t\\t\\t\\t\\t\\t\\t\\t\\t\\t<li class=\"depth4_list\"><a class=\"depth4_anchor\" href=\"/www/contents.do?key=6459&\" target=\"_self\">대학소개</a></li>\\r\\n\\r\\n\\t\\t\\t                </ul>\\r\\n\\t\\t\\t\\t\\t\\t</li>\\r\\n\\t\\t\\t\\t\\t\\t<li class=\"depth3_list\"><a class=\"depth3_anchor\" href=\"/www/contents.do?key=6451&\" target=\"_self\">항공학부</a>\\r\\n\\t\\t\\t\\t\\t\\t\\t<ul class=\"depth4_menu\">\\r\\n\\t\\t\\t\\t\\t\\t\\t\\t\\t\\t\\t\\t\\t\\t\\t<li class=\"depth4_list\"><a class=\"depth4_anchor\" href=\"/www/contents.do?key=6451&\" target=\"_self\">학부소개</a></li>\\r\\n\\r\\n\\t\\t\\t                </ul>\\r\\n\\t\\t\\t\\t\\t\\t</li>\\r\\n\\t\\t\\t\\t\\t\\t<li class=\"depth3_list\"><a class=\"depth3_anchor\" href=\"/www/contents.do?key=6450&\" target=\"_self\">군사학과</a>\\r\\n\\t\\t\\t\\t\\t\\t\\t<ul class=\"depth4_menu\">\\r\\n\\t\\t\\t\\t\\t\\t\\t\\t\\t\\t\\t\\t\\t\\t\\t<li class=\"depth4_list\"><a class=\"depth4_anchor\" href=\"/www/contents.do?key=6450&\" target=\"_self\">학과소개</a></li>\\r\\n\\r\\n\\t\\t\\t                </ul>\\r\\n\\t\\t\\t\\t\\t\\t</li>\\r\\n\\r\\n\\t                </ul>\\r\\n\\r\\n\\t\\t\\t\\t</li>\\r\\n\\t\\t\\t\\t<li class=\"depth2_list\"><a class=\"depth2_anchor\" href=\"/ggrad/index.do\" target=\"_blank\" title=\"새창\">일반대학원</a>\\r\\n\\t\\t\\t\\t</li>\\r\\n\\t\\t\\t\\t<li class=\"depth2_list\"><a class=\"depth2_anchor\" href=\"/soci/index.do\" target=\"_self\">특수대학원</a>\\r\\n\\r\\n\\t\\t\\t\\t\\t<ul class=\"depth3_menu\">\\r\\n\\t\\t\\t\\t\\t\\t\\t\\t\\t\\t\\t<li class=\"depth3_list\"><a class=\"depth3_anchor\" href=\"/soci/index.do\" target=\"_blank\" title=\"새창\">사회복지ㆍ공공정책대학원</a>\\r\\n\\t\\t\\t\\t\\t\\t</li>\\r\\n\\t\\t\\t\\t\\t\\t<li class=\"depth3_list\"><a class=\"depth3_anchor\" href=\"/health/index.do\" target=\"_blank\" title=\"새창\">보건의료대학원</a>\\r\\n\\t\\t\\t\\t\\t\\t</li>\\r\\n\\t\\t\\t\\t\\t\\t<li class=\"depth3_list\"><a class=\"depth3_anchor\" href=\"/indu/index.do\" target=\"_blank\" title=\"새창\">융합신기술대학원</a>\\r\\n\\t\\t\\t\\t\\t\\t</li>\\r\\n\\t\\t\\t\\t\\t\\t<li class=\"depth3_list\"><a class=\"depth3_anchor\" href=\"/gart/index.do\" target=\"_blank\" title=\"새창\">예술대학원</a>\\r\\n\\t\\t\\t\\t\\t\\t</li>\\r\\n\\r\\n\\t                </ul>\\r\\n\\r\\n\\t\\t\\t\\t</li>\\r\\n\\r\\n\\t\\t\\t</ul>\\r\\n\\r\\n\\t\\t</li>\\r\\n\\t\\t<li class=\"depth1_list\">\\r\\n\\t\\t\\t<a class=\"depth1_anchor\"  href=\"/www/selectTnSchafsSchdulListUS.do?key=4498&\" target=\"_self\">학사안내</a>\\r\\n\\r\\n\\t\\t\\t<div class=\"depth2_title\">\\r\\n\\t\\t\\t\\t<span>학사안내</span>\\r\\n\\t\\t\\t\\t<p>실학성세 4.0!</p>\\r\\n\\t\\t\\t</div>\\r\\n\\r\\n\\r\\n\\t\\t\\t<ul class=\"depth2_menu\">\\r\\n\\t\\t\\t\\t\\t\\t\\t<li class=\"depth2_list\"><a class=\"depth2_anchor\" href=\"/www/selectTnSchafsSchdulListUS.do?key=4498&\" target=\"_self\">학사일정</a>\\r\\n\\t\\t\\t\\t</li>\\r\\n\\t\\t\\t\\t<li class=\"depth2_list\"><a class=\"depth2_anchor\" href=\"/www/contents.do?key=7473&\" target=\"_self\">교과과정</a>\\r\\n\\r\\n\\t\\t\\t\\t\\t<ul class=\"depth3_menu\">\\r\\n\\t\\t\\t\\t\\t\\t\\t\\t\\t\\t\\t<li class=\"depth3_list\"><a class=\"depth3_anchor\" href=\"/www/contents.do?key=7473&\" target=\"_self\">역량기반교육과정체계</a>\\r\\n\\t\\t\\t\\t\\t\\t</li>\\r\\n\\t\\t\\t\\t\\t\\t<li class=\"depth3_list\"><a class=\"depth3_anchor\" href=\"/www/contents.do?key=6898&\" target=\"_self\">교육과정개편로드맵</a>\\r\\n\\t\\t\\t\\t\\t\\t</li>\\r\\n\\t\\t\\t\\t\\t\\t<li class=\"depth3_list\"><a class=\"depth3_anchor\" href=\"/www/contents.do?key=8539&\" target=\"_self\">교육과정편람</a>\\r\\n\\t\\t\\t\\t\\t\\t\\t<ul class=\"depth4_menu\">\\r\\n\\t\\t\\t\\t\\t\\t\\t\\t\\t\\t\\t\\t\\t\\t\\t<li class=\"depth4_list\"><a class=\"depth4_anchor\" href=\"/www/contents.do?key=8539&\" target=\"_self\">2024학년도</a></li>\\r\\n\\t\\t\\t\\t\\t\\t\\t\\t<li class=\"depth4_list\"><a class=\"depth4_anchor\" href=\"/www/contents.do?key=8344&\" target=\"_self\">2023학년도</a></li>\\r\\n\\t\\t\\t\\t\\t\\t\\t\\t<li class=\"depth4_list\"><a class=\"depth4_anchor\" href=\"/www/contents.do?key=7758&\" target=\"_self\">2022학년도</a></li>\\r\\n\\t\\t\\t\\t\\t\\t\\t\\t<li class=\"depth4_list\"><a class=\"depth4_anchor\" href=\"/www/contents.do?key=7576&\" target=\"_self\">2021학년도</a></li>\\r\\n\\t\\t\\t\\t\\t\\t\\t\\t<li class=\"depth4_list\"><a class=\"depth4_anchor\" href=\"/www/contents.do?key=7401&\" target=\"_self\">2020학년도</a></li>\\r\\n\\t\\t\\t\\t\\t\\t\\t\\t<li class=\"depth4_list\"><a class=\"depth4_anchor\" href=\"/www/contents.do?key=7122&\" target=\"_self\">2019학년도</a></li>\\r\\n\\t\\t\\t\\t\\t\\t\\t\\t<li class=\"depth4_list\"><a class=\"depth4_anchor\" href=\"/www/contents.do?key=7121&\" target=\"_self\">2018학년도</a></li>\\r\\n\\r\\n\\t\\t\\t                </ul>\\r\\n\\t\\t\\t\\t\\t\\t</li>\\r\\n\\t\\t\\t\\t\\t\\t<li class=\"depth3_list\"><a class=\"depth3_anchor\" href=\"/www/contents.do?key=4501&\" target=\"_self\">복수전공/부전공</a>\\r\\n\\t\\t\\t\\t\\t\\t</li>\\r\\n\\t\\t\\t\\t\\t\\t<li class=\"depth3_list\"><a class=\"depth3_anchor\" href=\"/www/contents.do?key=7474&\" target=\"_self\">자기설계전공</a>\\r\\n\\t\\t\\t\\t\\t\\t</li>\\r\\n\\t\\t\\t\\t\\t\\t<li class=\"depth3_list\"><a class=\"depth3_anchor\" href=\"/www/contents.do?key=7475&\" target=\"_self\">융복합 교육과정</a>\\r\\n\\t\\t\\t\\t\\t\\t</li>\\r\\n\\t\\t\\t\\t\\t\\t<li class=\"depth3_list\"><a class=\"depth3_anchor\" href=\"/www/contents.do?key=7476&\" target=\"_self\">일반전공트랙</a>\\r\\n\\t\\t\\t\\t\\t\\t</li>\\r\\n\\t\\t\\t\\t\\t\\t<li class=\"depth3_list\"><a class=\"depth3_anchor\" href=\"/www/contents.do?key=4502&\" target=\"_self\">교원양성과정</a>\\r\\n\\t\\t\\t\\t\\t\\t</li>\\r\\n\\r\\n\\t                </ul>\\r\\n\\r\\n\\t\\t\\t\\t</li>\\r\\n\\t\\t\\t\\t<li class=\"depth2_list\"><a class=\"depth2_anchor\" href=\"/www/contents.do?key=4505&\" target=\"_self\">수업</a>\\r\\n\\r\\n\\t\\t\\t\\t\\t<ul class=\"depth3_menu\">\\r\\n\\t\\t\\t\\t\\t\\t\\t\\t\\t\\t\\t<li class=\"depth3_list\"><a class=\"depth3_anchor\" href=\"/www/contents.do?key=4505&\" target=\"_self\">수강신청 안내</a>\\r\\n\\t\\t\\t\\t\\t\\t</li>\\r\\n\\t\\t\\t\\t\\t\\t<li class=\"depth3_list\"><a class=\"depth3_anchor\" href=\"/www/contents.do?key=7777&\" target=\"_self\">강의시간 및 강의실</a>\\r\\n\\t\\t\\t\\t\\t\\t</li>\\r\\n\\t\\t\\t\\t\\t\\t<li class=\"depth3_list\"><a class=\"depth3_anchor\" href=\"/www/contents.do?key=4506&\" target=\"_self\">성적예고제</a>\\r\\n\\t\\t\\t\\t\\t\\t</li>\\r\\n\\t\\t\\t\\t\\t\\t<li class=\"depth3_list\"><a class=\"depth3_anchor\" href=\"/www/contents.do?key=4507&\" target=\"_self\">시험 및 성적</a>\\r\\n\\t\\t\\t\\t\\t\\t</li>\\r\\n\\t\\t\\t\\t\\t\\t<li class=\"depth3_list\"><a class=\"depth3_anchor\" href=\"/www/contents.do?key=7477&\" target=\"_self\">집중학기제</a>\\r\\n\\t\\t\\t\\t\\t\\t</li>\\r\\n\\t\\t\\t\\t\\t\\t<li class=\"depth3_list\"><a class=\"depth3_anchor\" href=\"/www/contents.do?key=7478&\" target=\"_self\">유연학기제</a>\\r\\n\\t\\t\\t\\t\\t\\t</li>\\r\\n\\t\\t\\t\\t\\t\\t<li class=\"depth3_list\"><a class=\"depth3_anchor\" href=\"/www/contents.do?key=4508&\" target=\"_self\">계절학기</a>\\r\\n\\t\\t\\t\\t\\t\\t</li>\\r\\n\\t\\t\\t\\t\\t\\t<li class=\"depth3_list\"><a class=\"depth3_anchor\" href=\"/www/contents.do?key=4509&\" target=\"_self\">사회봉사과목 이수</a>\\r\\n\\t\\t\\t\\t\\t\\t</li>\\r\\n\\t\\t\\t\\t\\t\\t<li class=\"depth3_list\"><a class=\"depth3_anchor\" href=\"/www/contents.do?key=4510&\" target=\"_self\">취업관련 교과목 이수</a>\\r\\n\\t\\t\\t\\t\\t\\t</li>\\r\\n\\t\\t\\t\\t\\t\\t<li class=\"depth3_list\"><a class=\"depth3_anchor\" href=\"/www/contents.do?key=4511&\" target=\"_self\">강의평가</a>\\r\\n\\t\\t\\t\\t\\t\\t</li>\\r\\n\\t\\t\\t\\t\\t\\t<li class=\"depth3_list\"><a class=\"depth3_anchor\" href=\"/www/contents.do?key=6728&\" target=\"_self\">전자출결</a>\\r\\n\\t\\t\\t\\t\\t\\t</li>\\r\\n\\t\\t\\t\\t\\t\\t<li class=\"depth3_list\"><a class=\"depth3_anchor\" href=\"/www/contents.do?key=6918&\" target=\"_self\">공결허가</a>\\r\\n\\t\\t\\t\\t\\t\\t</li>\\r\\n\\t\\t\\t\\t\\t\\t<li class=\"depth3_list\"><a class=\"depth3_anchor\" href=\"/www/contents.do?key=6729&\" target=\"_self\">휴강/보강</a>\\r\\n\\t\\t\\t\\t\\t\\t</li>\\r\\n\\t\\t\\t\\t\\t\\t<li class=\"depth3_list\"><a class=\"depth3_anchor\" href=\"/www/contents.do?key=5497&\" target=\"_self\">2주연속결석자</a>\\r\\n\\t\\t\\t\\t\\t\\t</li>\\r\\n\\r\\n\\t                </ul>\\r\\n\\r\\n\\t\\t\\t\\t</li>\\r\\n\\t\\t\\t\\t<li class=\"depth2_list\"><a class=\"depth2_anchor\" href=\"/www/contents.do?key=4513&\" target=\"_self\">학적</a>\\r\\n\\r\\n\\t\\t\\t\\t\\t<ul class=\"depth3_menu\">\\r\\n\\t\\t\\t\\t\\t\\t\\t\\t\\t\\t\\t<li class=\"depth3_list\"><a class=\"depth3_anchor\" href=\"/www/contents.do?key=4513&\" target=\"_self\">재입학</a>\\r\\n\\t\\t\\t\\t\\t\\t</li>\\r\\n\\t\\t\\t\\t\\t\\t<li class=\"depth3_list\"><a class=\"depth3_anchor\" href=\"/www/contents.do?key=4514&\" target=\"_self\">휴ㆍ복학</a>\\r\\n\\t\\t\\t\\t\\t\\t</li>\\r\\n\\t\\t\\t\\t\\t\\t<li class=\"depth3_list\"><a class=\"depth3_anchor\" href=\"/www/contents.do?key=7205&\" target=\"_self\">전공배정</a>\\r\\n\\t\\t\\t\\t\\t\\t</li>\\r\\n\\t\\t\\t\\t\\t\\t<li class=\"depth3_list\"><a class=\"depth3_anchor\" href=\"/www/contents.do?key=4515&\" target=\"_self\">전과</a>\\r\\n\\t\\t\\t\\t\\t\\t</li>\\r\\n\\t\\t\\t\\t\\t\\t<li class=\"depth3_list\"><a class=\"depth3_anchor\" href=\"/www/contents.do?key=4516&\" target=\"_self\">유급ㆍ제적</a>\\r\\n\\t\\t\\t\\t\\t\\t</li>\\r\\n\\t\\t\\t\\t\\t\\t<li class=\"depth3_list\"><a class=\"depth3_anchor\" href=\"/www/contents.do?key=4517&\" target=\"_self\">수료자 졸업안내</a>\\r\\n\\t\\t\\t\\t\\t\\t</li>\\r\\n\\r\\n\\t                </ul>\\r\\n\\r\\n\\t\\t\\t\\t</li>\\r\\n\\t\\t\\t\\t<li class=\"depth2_list\"><a class=\"depth2_anchor\" href=\"/www/contents.do?key=4519&\" target=\"_self\">등록</a>\\r\\n\\r\\n\\t\\t\\t\\t\\t<ul class=\"depth3_menu\">\\r\\n\\t\\t\\t\\t\\t\\t\\t\\t\\t\\t\\t<li class=\"depth3_list\"><a class=\"depth3_anchor\" href=\"/www/contents.do?key=4519&\" target=\"_self\">등록금 납부안내</a>\\r\\n\\t\\t\\t\\t\\t\\t</li>\\r\\n\\t\\t\\t\\t\\t\\t<li class=\"depth3_list\"><a class=\"depth3_anchor\" href=\"http://www.kosaf.go.kr/ko/tuition.do?pg=tuition_main&\" target=\"_blank\" title=\"새창\">학자금 대출안내</a>\\r\\n\\t\\t\\t\\t\\t\\t</li>\\r\\n\\r\\n\\t                </ul>\\r\\n\\r\\n\\t\\t\\t\\t</li>\\r\\n\\t\\t\\t\\t<li class=\"depth2_list\"><a class=\"depth2_anchor\" href=\"/www/contents.do?key=4521&\" target=\"_self\">졸업</a>\\r\\n\\r\\n\\r\\n\\t\\t\\t\\t</li>\\r\\n\\t\\t\\t\\t<li class=\"depth2_list\"><a class=\"depth2_anchor\" href=\"/www/contents.do?key=4522&\" target=\"_self\">대학 ROAD-MAP</a>\\r\\n\\t\\t\\t\\t</li>\\r\\n\\t\\t\\t\\t<li class=\"depth2_list\"><a class=\"depth2_anchor\" href=\"/www/contents.do?key=4524&\" target=\"_self\">증명서발급</a>\\r\\n\\r\\n\\t\\t\\t\\t\\t<ul class=\"depth3_menu\">\\r\\n\\t\\t\\t\\t\\t\\t\\t\\t\\t\\t\\t<li class=\"depth3_list\"><a class=\"depth3_anchor\" href=\"/www/contents.do?key=4524&\" target=\"_self\">학적증명서발급</a>\\r\\n\\t\\t\\t\\t\\t\\t</li>\\r\\n\\t\\t\\t\\t\\t\\t<li class=\"depth3_list\"><a class=\"depth3_anchor\" href=\"/www/contents.do?key=4525&\" target=\"_self\">학생증발급</a>\\r\\n\\t\\t\\t\\t\\t\\t</li>\\r\\n\\r\\n\\t                </ul>\\r\\n\\r\\n\\t\\t\\t\\t</li>\\r\\n\\t\\t\\t\\t<li class=\"depth2_list\"><a class=\"depth2_anchor\" href=\"/www/selectTnSchafsSchdulListUS.do?key=4528&\" target=\"_self\">유학생 학사안내</a>\\r\\n\\r\\n\\t\\t\\t\\t\\t<ul class=\"depth3_menu\">\\r\\n\\t\\t\\t\\t\\t\\t\\t\\t\\t\\t\\t<li class=\"depth3_list\"><a class=\"depth3_anchor\" href=\"/www/selectTnSchafsSchdulListUS.do?key=4528&\" target=\"_self\">학사안내</a>\\r\\n\\t\\t\\t\\t\\t\\t\\t<ul class=\"depth4_menu\">\\r\\n\\t\\t\\t\\t\\t\\t\\t\\t\\t\\t\\t\\t\\t\\t\\t<li class=\"depth4_list\"><a class=\"depth4_anchor\" href=\"/www/selectTnSchafsSchdulListUS.do?key=4528&\" target=\"_self\">주요일정</a></li>\\r\\n\\t\\t\\t\\t\\t\\t\\t\\t<li class=\"depth4_list\"><a class=\"depth4_anchor\" href=\"/www/contents.do?key=4532&\" target=\"_self\">외국인 유학생들을 위한 과목</a></li>\\r\\n\\r\\n\\t\\t\\t                </ul>\\r\\n\\t\\t\\t\\t\\t\\t</li>\\r\\n\\t\\t\\t\\t\\t\\t<li class=\"depth3_list\"><a class=\"depth3_anchor\" href=\"/www/contents.do?key=4533&\" target=\"_self\">유학생체류</a>\\r\\n\\t\\t\\t\\t\\t\\t</li>\\r\\n\\t\\t\\t\\t\\t\\t<li class=\"depth3_list\"><a class=\"depth3_anchor\" href=\"/www/contents.do?key=4534&\" target=\"_self\">학생증발급</a>\\r\\n\\t\\t\\t\\t\\t\\t</li>\\r\\n\\t\\t\\t\\t\\t\\t<li class=\"depth3_list\"><a class=\"depth3_anchor\" href=\"/www/contents.do?key=4535&\" target=\"_self\">아르바이트</a>\\r\\n\\t\\t\\t\\t\\t\\t</li>\\r\\n\\t\\t\\t\\t\\t\\t<li class=\"depth3_list\"><a class=\"depth3_anchor\" href=\"/www/contents.do?key=4536&\" target=\"_self\">유학생 생활</a>\\r\\n\\t\\t\\t\\t\\t\\t</li>\\r\\n\\r\\n\\t                </ul>\\r\\n\\r\\n\\t\\t\\t\\t</li>\\r\\n\\r\\n\\t\\t\\t</ul>\\r\\n\\r\\n\\t\\t</li>\\r\\n\\t\\t<li class=\"depth1_list\">\\r\\n\\t\\t\\t<a class=\"depth1_anchor\"  href=\"/www/contents.do?key=6979&\" target=\"_self\">캠퍼스생활</a>\\r\\n\\r\\n\\t\\t\\t<div class=\"depth2_title\">\\r\\n\\t\\t\\t\\t<span>캠퍼스생활</span>\\r\\n\\t\\t\\t\\t<p>실학성세 4.0!</p>\\r\\n\\t\\t\\t</div>\\r\\n\\r\\n\\r\\n\\t\\t\\t<ul class=\"depth2_menu\">\\r\\n\\t\\t\\t\\t\\t\\t\\t<li class=\"depth2_list\"><a class=\"depth2_anchor\" href=\"/www/contents.do?key=6979&\" target=\"_self\">장학</a>\\r\\n\\r\\n\\t\\t\\t\\t\\t<ul class=\"depth3_menu\">\\r\\n\\t\\t\\t\\t\\t\\t\\t\\t\\t\\t\\t<li class=\"depth3_list\"><a class=\"depth3_anchor\" href=\"/www/contents.do?key=6979&\" target=\"_self\">교내장학</a>\\r\\n\\t\\t\\t\\t\\t\\t</li>\\r\\n\\t\\t\\t\\t\\t\\t<li class=\"depth3_list\"><a class=\"depth3_anchor\" href=\"/www/contents.do?key=6981&\" target=\"_self\">해외연수장학</a>\\r\\n\\t\\t\\t\\t\\t\\t</li>\\r\\n\\t\\t\\t\\t\\t\\t<li class=\"depth3_list\"><a class=\"depth3_anchor\" href=\"/www/contents.do?key=6982&\" target=\"_self\">역량마일리지장학</a>\\r\\n\\t\\t\\t\\t\\t\\t</li>\\r\\n\\t\\t\\t\\t\\t\\t<li class=\"depth3_list\"><a class=\"depth3_anchor\" href=\"/www/contents.do?key=6980&\" target=\"_self\">교외장학</a>\\r\\n\\t\\t\\t\\t\\t\\t</li>\\r\\n\\t\\t\\t\\t\\t\\t<li class=\"depth3_list\"><a class=\"depth3_anchor\" href=\"/www/contents.do?key=6983&\" target=\"_self\">학자금융자제도</a>\\r\\n\\t\\t\\t\\t\\t\\t</li>\\r\\n\\r\\n\\t                </ul>\\r\\n\\r\\n\\t\\t\\t\\t</li>\\r\\n\\t\\t\\t\\t<li class=\"depth2_list\"><a class=\"depth2_anchor\" href=\"/www/contents.do?key=4540&\" target=\"_self\">병무</a>\\r\\n\\r\\n\\t\\t\\t\\t\\t<ul class=\"depth3_menu\">\\r\\n\\t\\t\\t\\t\\t\\t\\t\\t\\t\\t\\t<li class=\"depth3_list\"><a class=\"depth3_anchor\" href=\"/www/contents.do?key=4540&\" target=\"_self\">병무안내</a>\\r\\n\\t\\t\\t\\t\\t\\t</li>\\r\\n\\t\\t\\t\\t\\t\\t<li class=\"depth3_list\"><a class=\"depth3_anchor\" href=\"/www/contents.do?key=4541&\" target=\"_self\">예비군</a>\\r\\n\\t\\t\\t\\t\\t\\t</li>\\r\\n\\t\\t\\t\\t\\t\\t<li class=\"depth3_list\"><a class=\"depth3_anchor\" href=\"/rotc/index.do\" target=\"_blank\" title=\"새창\">학군단</a>\\r\\n\\t\\t\\t\\t\\t\\t</li>\\r\\n\\r\\n\\t                </ul>\\r\\n\\r\\n\\t\\t\\t\\t</li>\\r\\n\\t\\t\\t\\t<li class=\"depth2_list\"><a class=\"depth2_anchor\" href=\"/www/contents.do?key=4545&\" target=\"_self\">학생지원</a>\\r\\n\\r\\n\\t\\t\\t\\t\\t<ul class=\"depth3_menu\">\\r\\n\\t\\t\\t\\t\\t\\t\\t\\t\\t\\t\\t<li class=\"depth3_list\"><a class=\"depth3_anchor\" href=\"/www/contents.do?key=4545&\" target=\"_self\">진로취업지원포털</a>\\r\\n\\t\\t\\t\\t\\t\\t\\t<ul class=\"depth4_menu\">\\r\\n\\t\\t\\t\\t\\t\\t\\t\\t\\t\\t\\t\\t\\t\\t\\t<li class=\"depth4_list\"><a class=\"depth4_anchor\" href=\"/www/contents.do?key=4545&\" target=\"_self\">취창업지원단 이용안내</a></li>\\r\\n\\r\\n\\t\\t\\t                </ul>\\r\\n\\t\\t\\t\\t\\t\\t</li>\\r\\n\\t\\t\\t\\t\\t\\t<li class=\"depth3_list\"><a class=\"depth3_anchor\" href=\"/www/contents.do?key=4548&\" target=\"_self\">봉사활동지원</a>\\r\\n\\t\\t\\t\\t\\t\\t\\t<ul class=\"depth4_menu\">\\r\\n\\t\\t\\t\\t\\t\\t\\t\\t\\t\\t\\t\\t\\t\\t\\t<li class=\"depth4_list\"><a class=\"depth4_anchor\" href=\"/www/contents.do?key=4548&\" target=\"_self\">사회봉사</a></li>\\r\\n\\t\\t\\t\\t\\t\\t\\t\\t<li class=\"depth4_list\"><a class=\"depth4_anchor\" href=\"/www/contents.do?key=4549&\" target=\"_self\">국내봉사</a></li>\\r\\n\\r\\n\\t\\t\\t                </ul>\\r\\n\\t\\t\\t\\t\\t\\t</li>\\r\\n\\t\\t\\t\\t\\t\\t<li class=\"depth3_list\"><a class=\"depth3_anchor\" href=\"/www/contents.do?key=4550&\" target=\"_self\">학생상담지원</a>\\r\\n\\t\\t\\t\\t\\t\\t</li>\\r\\n\\t\\t\\t\\t\\t\\t<li class=\"depth3_list\"><a class=\"depth3_anchor\" href=\"/www/contents.do?key=4551&\" target=\"_self\">국제교류</a>\\r\\n\\t\\t\\t\\t\\t\\t</li>\\r\\n\\t\\t\\t\\t\\t\\t<li class=\"depth3_list\"><a class=\"depth3_anchor\" href=\"/www/contents.do?key=4553&\" target=\"_self\">인증제 안내</a>\\r\\n\\t\\t\\t\\t\\t\\t\\t<ul class=\"depth4_menu\">\\r\\n\\t\\t\\t\\t\\t\\t\\t\\t\\t\\t\\t\\t\\t\\t\\t<li class=\"depth4_list\"><a class=\"depth4_anchor\" href=\"/www/contents.do?key=4553&\" target=\"_self\">한국건축학교육인증</a></li>\\r\\n\\t\\t\\t\\t\\t\\t\\t\\t<li class=\"depth4_list\"><a class=\"depth4_anchor\" href=\"/www/contents.do?key=4554&\" target=\"_self\">간호교육인증</a></li>\\r\\n\\r\\n\\t\\t\\t                </ul>\\r\\n\\t\\t\\t\\t\\t\\t</li>\\r\\n\\r\\n\\t                </ul>\\r\\n\\r\\n\\t\\t\\t\\t</li>\\r\\n\\t\\t\\t\\t<li class=\"depth2_list\"><a class=\"depth2_anchor\" href=\"/www/contents.do?key=4556&\" target=\"_self\">학생활동</a>\\r\\n\\r\\n\\t\\t\\t\\t\\t<ul class=\"depth3_menu\">\\r\\n\\t\\t\\t\\t\\t\\t\\t\\t\\t\\t\\t<li class=\"depth3_list\"><a class=\"depth3_anchor\" href=\"/www/contents.do?key=4556&\" target=\"_self\">학생회</a>\\r\\n\\t\\t\\t\\t\\t\\t</li>\\r\\n\\t\\t\\t\\t\\t\\t<li class=\"depth3_list\"><a class=\"depth3_anchor\" href=\"/www/contents.do?key=4557&\" target=\"_self\">동아리</a>\\r\\n\\t\\t\\t\\t\\t\\t</li>\\r\\n\\t\\t\\t\\t\\t\\t<li class=\"depth3_list\"><a class=\"depth3_anchor\" href=\"/www/contents.do?key=4558&\" target=\"_self\">포상/징계</a>\\r\\n\\t\\t\\t\\t\\t\\t</li>\\r\\n\\t\\t\\t\\t\\t\\t<li class=\"depth3_list\"><a class=\"depth3_anchor\" href=\"/www/contents.do?key=4559&\" target=\"_self\">학생단체여행 및 연수</a>\\r\\n\\t\\t\\t\\t\\t\\t</li>\\r\\n\\t\\t\\t\\t\\t\\t<li class=\"depth3_list\"><a class=\"depth3_anchor\" href=\"/www/contents.do?key=4560&\" target=\"_self\">학생행사 및 집회</a>\\r\\n\\t\\t\\t\\t\\t\\t</li>\\r\\n\\r\\n\\t                </ul>\\r\\n\\r\\n\\t\\t\\t\\t</li>\\r\\n\\t\\t\\t\\t<li class=\"depth2_list\"><a class=\"depth2_anchor\" href=\"/www/contents.do?key=4562&\" target=\"_self\">편의시설 안내</a>\\r\\n\\r\\n\\t\\t\\t\\t\\t<ul class=\"depth3_menu\">\\r\\n\\t\\t\\t\\t\\t\\t\\t\\t\\t\\t\\t<li class=\"depth3_list\"><a class=\"depth3_anchor\" href=\"/www/contents.do?key=4562&\" target=\"_self\">생활관</a>\\r\\n\\t\\t\\t\\t\\t\\t</li>\\r\\n\\t\\t\\t\\t\\t\\t<li class=\"depth3_list\"><a class=\"depth3_anchor\" href=\"/www/contents.do?key=4563&\" target=\"_self\">대학문화관</a>\\r\\n\\t\\t\\t\\t\\t\\t</li>\\r\\n\\t\\t\\t\\t\\t\\t<li class=\"depth3_list\"><a class=\"depth3_anchor\" href=\"/www/contents.do?key=4564&\" target=\"_self\">학생보건실</a>\\r\\n\\t\\t\\t\\t\\t\\t</li>\\r\\n\\t\\t\\t\\t\\t\\t<li class=\"depth3_list\"><a class=\"depth3_anchor\" href=\"/www/contents.do?key=4565&\" target=\"_self\">대천수련원</a>\\r\\n\\t\\t\\t\\t\\t\\t</li>\\r\\n\\t\\t\\t\\t\\t\\t<li class=\"depth3_list\"><a class=\"depth3_anchor\" href=\"/culturegym/index.do\" target=\"_blank\" title=\"새창\">석우문화체육관</a>\\r\\n\\t\\t\\t\\t\\t\\t</li>\\r\\n\\t\\t\\t\\t\\t\\t<li class=\"depth3_list\"><a class=\"depth3_anchor\" href=\"/www/contents.do?key=4568&\" target=\"_self\">재학생편의시설</a>\\r\\n\\t\\t\\t\\t\\t\\t</li>\\r\\n\\t\\t\\t\\t\\t\\t<li class=\"depth3_list\"><a class=\"depth3_anchor\" href=\"/www/contents.do?key=4473&\" target=\"_blank\" title=\"새창\">셔틀(통학)버스</a>\\r\\n\\t\\t\\t\\t\\t\\t</li>\\r\\n\\t\\t\\t\\t\\t\\t<li class=\"depth3_list\"><a class=\"depth3_anchor\" href=\"/www/contents.do?key=4476&\" target=\"_blank\" title=\"새창\">주차시설 안내</a>\\r\\n\\t\\t\\t\\t\\t\\t</li>\\r\\n\\r\\n\\t                </ul>\\r\\n\\r\\n\\t\\t\\t\\t</li>\\r\\n\\t\\t\\t\\t<li class=\"depth2_list\"><a class=\"depth2_anchor\" href=\"/www/contents.do?key=6839&\" target=\"_self\">교내시설이용신청</a>\\r\\n\\r\\n\\t\\t\\t\\t\\t<ul class=\"depth3_menu\">\\r\\n\\t\\t\\t\\t\\t\\t\\t\\t\\t\\t\\t<li class=\"depth3_list\"><a class=\"depth3_anchor\" href=\"/www/contents.do?key=6839&\" target=\"_self\">이용신청 안내</a>\\r\\n\\t\\t\\t\\t\\t\\t</li>\\r\\n\\t\\t\\t\\t\\t\\t<li class=\"depth3_list\"><a class=\"depth3_anchor\" href=\"/www/contents.do?key=6844&\" target=\"_self\">공연 및 행사시설</a>\\r\\n\\t\\t\\t\\t\\t\\t\\t<ul class=\"depth4_menu\">\\r\\n\\t\\t\\t\\t\\t\\t\\t\\t\\t\\t\\t\\t\\t\\t\\t<li class=\"depth4_list\"><a class=\"depth4_anchor\" href=\"/www/contents.do?key=6844&\" target=\"_self\">석우문화체육관</a></li>\\r\\n\\t\\t\\t\\t\\t\\t\\t\\t<li class=\"depth4_list\"><a class=\"depth4_anchor\" href=\"/www/contents.do?key=6845&\" target=\"_self\">음악관 콘서트홀</a></li>\\r\\n\\t\\t\\t\\t\\t\\t\\t\\t<li class=\"depth4_list\"><a class=\"depth4_anchor\" href=\"/www/contents.do?key=6846&\" target=\"_self\">학생회관 문화극장</a></li>\\r\\n\\r\\n\\t\\t\\t                </ul>\\r\\n\\t\\t\\t\\t\\t\\t</li>\\r\\n\\t\\t\\t\\t\\t\\t<li class=\"depth3_list\"><a class=\"depth3_anchor\" href=\"/www/contents.do?key=6847&\" target=\"_self\">세미나실</a>\\r\\n\\t\\t\\t\\t\\t\\t\\t<ul class=\"depth4_menu\">\\r\\n\\t\\t\\t\\t\\t\\t\\t\\t\\t\\t\\t\\t\\t\\t\\t<li class=\"depth4_list\"><a class=\"depth4_anchor\" href=\"/www/contents.do?key=6847&\" target=\"_self\">융합관</a></li>\\r\\n\\t\\t\\t\\t\\t\\t\\t\\t<li class=\"depth4_list\"><a class=\"depth4_anchor\" href=\"/www/contents.do?key=8351&\" target=\"_self\">대학원</a></li>\\r\\n\\t\\t\\t\\t\\t\\t\\t\\t<li class=\"depth4_list\"><a class=\"depth4_anchor\" href=\"/www/contents.do?key=6849&\" target=\"_self\">보건의료과학대학(청암홀)</a></li>\\r\\n\\t\\t\\t\\t\\t\\t\\t\\t<li class=\"depth4_list\"><a class=\"depth4_anchor\" href=\"/www/contents.do?key=6848&\" target=\"_self\">보건의료과학대학(08-111)</a></li>\\r\\n\\t\\t\\t\\t\\t\\t\\t\\t<li class=\"depth4_list\"><a class=\"depth4_anchor\" href=\"/www/contents.do?key=6851&\" target=\"_self\">비즈니스대학</a></li>\\r\\n\\t\\t\\t\\t\\t\\t\\t\\t<li class=\"depth4_list\"><a class=\"depth4_anchor\" href=\"/www/contents.do?key=6852&\" target=\"_self\">종합강의동 중강당(13-502호)</a></li>\\r\\n\\t\\t\\t\\t\\t\\t\\t\\t<li class=\"depth4_list\"><a class=\"depth4_anchor\" href=\"/www/contents.do?key=6854&\" target=\"_self\">인문사회ㆍ사범대학</a></li>\\r\\n\\r\\n\\t\\t\\t                </ul>\\r\\n\\t\\t\\t\\t\\t\\t</li>\\r\\n\\t\\t\\t\\t\\t\\t<li class=\"depth3_list\"><a class=\"depth3_anchor\" href=\"/www/contents.do?key=6856&\" target=\"_self\">강의실</a>\\r\\n\\t\\t\\t\\t\\t\\t\\t<ul class=\"depth4_menu\">\\r\\n\\t\\t\\t\\t\\t\\t\\t\\t\\t\\t\\t\\t\\t\\t\\t<li class=\"depth4_list\"><a class=\"depth4_anchor\" href=\"/www/contents.do?key=6856&\" target=\"_self\">일반강의실</a></li>\\r\\n\\t\\t\\t\\t\\t\\t\\t\\t<li class=\"depth4_list\"><a class=\"depth4_anchor\" href=\"/www/contents.do?key=6857&\" target=\"_self\">첨단강의실(빔 프로젝트 및 전자교탁설치 강의실)</a></li>\\r\\n\\r\\n\\t\\t\\t                </ul>\\r\\n\\t\\t\\t\\t\\t\\t</li>\\r\\n\\t\\t\\t\\t\\t\\t<li class=\"depth3_list\"><a class=\"depth3_anchor\" href=\"/www/contents.do?key=6858&\" target=\"_self\">체육시설</a>\\r\\n\\t\\t\\t\\t\\t\\t\\t<ul class=\"depth4_menu\">\\r\\n\\t\\t\\t\\t\\t\\t\\t\\t\\t\\t\\t\\t\\t\\t\\t<li class=\"depth4_list\"><a class=\"depth4_anchor\" href=\"/www/contents.do?key=6858&\" target=\"_self\">종합운동장</a></li>\\r\\n\\r\\n\\t\\t\\t                </ul>\\r\\n\\t\\t\\t\\t\\t\\t</li>\\r\\n\\r\\n\\t                </ul>\\r\\n\\r\\n\\t\\t\\t\\t</li>\\r\\n\\t\\t\\t\\t<li class=\"depth2_list\"><a class=\"depth2_anchor\" href=\"/www/contents.do?key=7335&\" target=\"_self\">온라인 서비스</a>\\r\\n\\r\\n\\t\\t\\t\\t\\t<ul class=\"depth3_menu\">\\r\\n\\t\\t\\t\\t\\t\\t\\t\\t\\t\\t\\t<li class=\"depth3_list\"><a class=\"depth3_anchor\" href=\"/www/contents.do?key=7335&\" target=\"_self\">원스톱 서비스</a>\\r\\n\\t\\t\\t\\t\\t\\t</li>\\r\\n\\t\\t\\t\\t\\t\\t<li class=\"depth3_list\"><a class=\"depth3_anchor\" href=\"/www/contents.do?key=7334&\" target=\"_self\">폰트저작권 안내</a>\\r\\n\\t\\t\\t\\t\\t\\t</li>\\r\\n\\r\\n\\t                </ul>\\r\\n\\r\\n\\t\\t\\t\\t</li>\\r\\n\\t\\t\\t\\t<li class=\"depth2_list\"><a class=\"depth2_anchor\" href=\"/www/contents.do?key=4571&\" target=\"_self\">인터넷 서비스</a>\\r\\n\\r\\n\\t\\t\\t\\t\\t<ul class=\"depth3_menu\">\\r\\n\\t\\t\\t\\t\\t\\t\\t\\t\\t\\t\\t<li class=\"depth3_list\"><a class=\"depth3_anchor\" href=\"/www/contents.do?key=4571&\" target=\"_self\">네트워크 서비스</a>\\r\\n\\t\\t\\t\\t\\t\\t</li>\\r\\n\\t\\t\\t\\t\\t\\t<li class=\"depth3_list\"><a class=\"depth3_anchor\" href=\"/www/contents.do?key=4572&\" target=\"_self\">무선인터넷</a>\\r\\n\\t\\t\\t\\t\\t\\t</li>\\r\\n\\t\\t\\t\\t\\t\\t<li class=\"depth3_list\"><a class=\"depth3_anchor\" href=\"/www/contents.do?key=4573&\" target=\"_self\">인터넷 메일 서비스</a>\\r\\n\\t\\t\\t\\t\\t\\t</li>\\r\\n\\r\\n\\t                </ul>\\r\\n\\r\\n\\t\\t\\t\\t</li>\\r\\n\\t\\t\\t\\t<li class=\"depth2_list\"><a class=\"depth2_anchor\" href=\"/www/selectBbsNttList.do?bbsNo=1348&key=6870&\" target=\"_self\">복지혜택 안내</a>\\r\\n\\r\\n\\t\\t\\t\\t\\t<ul class=\"depth3_menu\">\\r\\n\\t\\t\\t\\t\\t\\t\\t\\t\\t\\t\\t<li class=\"depth3_list\"><a class=\"depth3_anchor\" href=\"/www/selectBbsNttList.do?bbsNo=1348&key=6870&\" target=\"_self\">협약체결기관</a>\\r\\n\\t\\t\\t\\t\\t\\t</li>\\r\\n\\t\\t\\t\\t\\t\\t<li class=\"depth3_list\"><a class=\"depth3_anchor\" href=\"/www/selectBbsNttList.do?bbsNo=961&key=8392&\" target=\"_self\">후원의 집</a>\\r\\n\\t\\t\\t\\t\\t\\t\\t<ul class=\"depth4_menu\">\\r\\n\\t\\t\\t\\t\\t\\t\\t\\t\\t\\t\\t\\t\\t\\t\\t<li class=\"depth4_list\"><a class=\"depth4_anchor\" href=\"/www/selectBbsNttList.do?bbsNo=961&key=8392&\" target=\"_self\">음식점</a></li>\\r\\n\\t\\t\\t\\t\\t\\t\\t\\t<li class=\"depth4_list\"><a class=\"depth4_anchor\" href=\"/www/selectBbsNttList.do?bbsNo=1586&key=8393&\" target=\"_self\">기타</a></li>\\r\\n\\r\\n\\t\\t\\t                </ul>\\r\\n\\t\\t\\t\\t\\t\\t</li>\\r\\n\\t\\t\\t\\t\\t\\t<li class=\"depth3_list\"><a class=\"depth3_anchor\" href=\"/www/contents.do?key=4689&\" target=\"_self\">복지할인몰</a>\\r\\n\\t\\t\\t\\t\\t\\t</li>\\r\\n\\r\\n\\t                </ul>\\r\\n\\r\\n\\t\\t\\t\\t</li>\\r\\n\\t\\t\\t\\t<li class=\"depth2_list\"><a class=\"depth2_anchor\" href=\"https://meta.cju.ac.kr/meta/greeting.do\" target=\"_self\">Meta-Life CJU</a>\\r\\n\\r\\n\\t\\t\\t\\t\\t<ul class=\"depth3_menu\">\\r\\n\\t\\t\\t\\t\\t\\t\\t\\t\\t\\t\\t<li class=\"depth3_list\"><a class=\"depth3_anchor\" href=\"https://meta.cju.ac.kr/meta/greeting.do\" target=\"_blank\" title=\"새창\">메타버스 캠퍼스</a>\\r\\n\\t\\t\\t\\t\\t\\t</li>\\r\\n\\r\\n\\t                </ul>\\r\\n\\r\\n\\t\\t\\t\\t</li>\\r\\n\\r\\n\\t\\t\\t</ul>\\r\\n\\r\\n\\t\\t</li>\\r\\n\\t\\t<li class=\"depth1_list\">\\r\\n\\t\\t\\t<a class=\"depth1_anchor\"  href=\"/www/selectBbsNttList.do?bbsNo=881&key=4577&\" target=\"_self\">소통공간</a>\\r\\n\\r\\n\\t\\t\\t<div class=\"depth2_title\">\\r\\n\\t\\t\\t\\t<span>소통공간</span>\\r\\n\\t\\t\\t\\t<p>실학성세 4.0!</p>\\r\\n\\t\\t\\t</div>\\r\\n\\r\\n\\r\\n\\t\\t\\t<ul class=\"depth2_menu\">\\r\\n\\t\\t\\t\\t\\t\\t\\t<li class=\"depth2_list\"><a class=\"depth2_anchor\" href=\"/www/selectBbsNttList.do?bbsNo=881&key=4577&\" target=\"_self\">공지사항</a>\\r\\n\\r\\n\\t\\t\\t\\t\\t<ul class=\"depth3_menu\">\\r\\n\\t\\t\\t\\t\\t\\t\\t\\t\\t\\t\\t<li class=\"depth3_list\"><a class=\"depth3_anchor\" href=\"/www/selectBbsNttList.do?bbsNo=881&key=4577&\" target=\"_self\">공지사항</a>\\r\\n\\t\\t\\t\\t\\t\\t</li>\\r\\n\\t\\t\\t\\t\\t\\t<li class=\"depth3_list\"><a class=\"depth3_anchor\" href=\"/www/selectBbsNttList.do?bbsNo=882&key=4579&\" target=\"_self\">채용공고</a>\\r\\n\\t\\t\\t\\t\\t\\t\\t<ul class=\"depth4_menu\">\\r\\n\\t\\t\\t\\t\\t\\t\\t\\t\\t\\t\\t\\t\\t\\t\\t<li class=\"depth4_list\"><a class=\"depth4_anchor\" href=\"/www/selectBbsNttList.do?bbsNo=882&key=4579&\" target=\"_self\">교수채용 공고</a></li>\\r\\n\\t\\t\\t\\t\\t\\t\\t\\t<li class=\"depth4_list\"><a class=\"depth4_anchor\" href=\"/www/selectBbsNttList.do?bbsNo=883&key=4580&\" target=\"_self\">직원채용 공고</a></li>\\r\\n\\t\\t\\t\\t\\t\\t\\t\\t<li class=\"depth4_list\"><a class=\"depth4_anchor\" href=\"/www/selectBbsNttList.do?bbsNo=1624&key=8573&\" target=\"_self\">조교채용 공고</a></li>\\r\\n\\r\\n\\t\\t\\t                </ul>\\r\\n\\t\\t\\t\\t\\t\\t</li>\\r\\n\\r\\n\\t                </ul>\\r\\n\\r\\n\\t\\t\\t\\t</li>\\r\\n\\t\\t\\t\\t<li class=\"depth2_list\"><a class=\"depth2_anchor\" href=\"/www/selectBbsNttList.do?bbsNo=884&key=4583&\" target=\"_self\">참여게시판</a>\\r\\n\\r\\n\\t\\t\\t\\t\\t<ul class=\"depth3_menu\">\\r\\n\\t\\t\\t\\t\\t\\t\\t\\t\\t\\t\\t<li class=\"depth3_list\"><a class=\"depth3_anchor\" href=\"/www/selectBbsNttList.do?bbsNo=884&key=4583&\" target=\"_self\">청대인 게시판</a>\\r\\n\\t\\t\\t\\t\\t\\t</li>\\r\\n\\t\\t\\t\\t\\t\\t<li class=\"depth3_list\"><a class=\"depth3_anchor\" href=\"/www/selectBbsNttList.do?bbsNo=885&key=4584&\" target=\"_self\">자주하는 질문</a>\\r\\n\\t\\t\\t\\t\\t\\t</li>\\r\\n\\t\\t\\t\\t\\t\\t<li class=\"depth3_list\"><a class=\"depth3_anchor\" href=\"/www/selectBbsNttList.do?bbsNo=1050&key=4585&\" target=\"_self\">온라인 민원</a>\\r\\n\\t\\t\\t\\t\\t\\t</li>\\r\\n\\t\\t\\t\\t\\t\\t<li class=\"depth3_list\"><a class=\"depth3_anchor\" href=\"/www/selectQestnarList.do?key=4586&\" target=\"_self\">온라인 설문조사</a>\\r\\n\\t\\t\\t\\t\\t\\t</li>\\r\\n\\t\\t\\t\\t\\t\\t<li class=\"depth3_list\"><a class=\"depth3_anchor\" href=\"/www/selectBbsNttList.do?bbsNo=887&key=4588&\" target=\"_self\">홈페이지 개선사항</a>\\r\\n\\t\\t\\t\\t\\t\\t</li>\\r\\n\\t\\t\\t\\t\\t\\t<li class=\"depth3_list\"><a class=\"depth3_anchor\" href=\"/www/selectBbsNttList.do?bbsNo=1318&key=6887&\" target=\"_self\">칭찬합시다</a>\\r\\n\\t\\t\\t\\t\\t\\t</li>\\r\\n\\r\\n\\t                </ul>\\r\\n\\r\\n\\t\\t\\t\\t</li>\\r\\n\\t\\t\\t\\t<li class=\"depth2_list\"><a class=\"depth2_anchor\" href=\"/www/selectBbsNttList.do?bbsNo=888&key=4590&\" target=\"_self\">생활게시판</a>\\r\\n\\r\\n\\t\\t\\t\\t\\t<ul class=\"depth3_menu\">\\r\\n\\t\\t\\t\\t\\t\\t\\t\\t\\t\\t\\t<li class=\"depth3_list\"><a class=\"depth3_anchor\" href=\"/www/selectBbsNttList.do?bbsNo=888&key=4590&\" target=\"_self\">벼룩 시장</a>\\r\\n\\t\\t\\t\\t\\t\\t</li>\\r\\n\\t\\t\\t\\t\\t\\t<li class=\"depth3_list\"><a class=\"depth3_anchor\" href=\"/www/selectBbsNttList.do?bbsNo=889&key=4591&\" target=\"_self\">취업ㆍ아르바이트</a>\\r\\n\\t\\t\\t\\t\\t\\t</li>\\r\\n\\t\\t\\t\\t\\t\\t<li class=\"depth3_list\"><a class=\"depth3_anchor\" href=\"/www/selectBbsNttList.do?bbsNo=890&key=4592&\" target=\"_self\">유실물 센터</a>\\r\\n\\t\\t\\t\\t\\t\\t</li>\\r\\n\\t\\t\\t\\t\\t\\t<li class=\"depth3_list\"><a class=\"depth3_anchor\" href=\"/www/selectTnRstrntMenuListU.do?sc1=student&key=5120&\" target=\"_self\">식단표</a>\\r\\n\\t\\t\\t\\t\\t\\t\\t<ul class=\"depth4_menu\">\\r\\n\\t\\t\\t\\t\\t\\t\\t\\t\\t\\t\\t\\t\\t\\t\\t<li class=\"depth4_list\"><a class=\"depth4_anchor\" href=\"/www/selectTnRstrntMenuListU.do?sc1=student&key=5120&\" target=\"_self\">학생식당</a></li>\\r\\n\\t\\t\\t\\t\\t\\t\\t\\t<li class=\"depth4_list\"><a class=\"depth4_anchor\" href=\"/www/selectTnRstrntMenuListU.do?sc1=mcollege&key=5117&\" target=\"_self\">비즈니스대학 식당</a></li>\\r\\n\\t\\t\\t\\t\\t\\t\\t\\t<li class=\"depth4_list\"><a class=\"depth4_anchor\" href=\"/www/selectTnRstrntMenuListU.do?sc1=employee&key=5119&\" target=\"_self\">본관 교직원식당</a></li>\\r\\n\\t\\t\\t\\t\\t\\t\\t\\t<li class=\"depth4_list\"><a class=\"depth4_anchor\" href=\"/www/selectTnRstrntMenuListU.do?sc1=domitory&key=5118&\" target=\"_self\">기숙사 식당</a></li>\\r\\n\\r\\n\\t\\t\\t                </ul>\\r\\n\\t\\t\\t\\t\\t\\t</li>\\r\\n\\r\\n\\t                </ul>\\r\\n\\r\\n\\t\\t\\t\\t</li>\\r\\n\\t\\t\\t\\t<li class=\"depth2_list\"><a class=\"depth2_anchor\" href=\"/www/selectBbsNttList.do?bbsNo=891&key=4595&\" target=\"_self\">자료실</a>\\r\\n\\r\\n\\t\\t\\t\\t\\t<ul class=\"depth3_menu\">\\r\\n\\t\\t\\t\\t\\t\\t\\t\\t\\t\\t\\t<li class=\"depth3_list\"><a class=\"depth3_anchor\" href=\"/www/selectBbsNttList.do?bbsNo=891&key=4595&\" target=\"_self\">서식자료실</a>\\r\\n\\t\\t\\t\\t\\t\\t</li>\\r\\n\\t\\t\\t\\t\\t\\t<li class=\"depth3_list\"><a class=\"depth3_anchor\" href=\"/www/selectBbsNttList.do?bbsNo=892&key=4596&\" target=\"_self\">일반자료실</a>\\r\\n\\t\\t\\t\\t\\t\\t</li>\\r\\n\\r\\n\\t                </ul>\\r\\n\\r\\n\\t\\t\\t\\t</li>\\r\\n\\r\\n\\t\\t\\t</ul>\\r\\n\\r\\n\\t\\t</li>\\r\\n    </ul>\\r\\n\\t\\t\\t\\t\\t</div>\\r\\n\\t\\t\\t\\t</div>\\r\\n\\t\\t\\t\\t<div class=\"lnb_m_close\">\\r\\n\\t\\t\\t\\t\\t<div class=\"inner_wrap\">\\r\\n\\t\\t\\t\\t\\t\\t<button type=\"button\">주메뉴 닫기</button>\\r\\n\\t\\t\\t\\t\\t</div>\\r\\n\\t\\t\\t\\t</div>\\r\\n\\t\\t\\t</nav>\\r\\n\\t\\t\\t<div class=\"search_open\">\\r\\n\\t\\t\\t\\t<div class=\"wrap\">\\r\\n\\t\\t\\t\\t\\t<button type=\"button\">검색 열기</button>\\r\\n\\t\\t\\t\\t</div>\\r\\n\\t\\t\\t</div>\\r\\n\\t\\t\\t<div class=\"search\">\\r\\n\\t\\t\\t\\t<div class=\"wrap\">\\r\\n\\t\\t\\t\\t\\t<form method=\"get\" action=\"/site/search/search.jsp\">\\r\\n\\t\\t\\t\\t\\t\\t<fieldset>\\r\\n\\t\\t\\t\\t\\t\\t\\t<legend>검색 폼</legend>\\r\\n\\t\\t\\t\\t\\t\\t\\t<input type=\"search\" title=\"검색어\" placeholder=\"검색어를 입력해주세요.\" name=\"query\" class=\"keyword\" />\\r\\n\\t\\t\\t\\t\\t\\t\\t<span class=\"submit\"><input type=\"image\" src=\"/site/www/images/common/search_submit_icon.png\" alt=\"검색\" /></span>\\r\\n\\t\\t\\t\\t\\t\\t</fieldset>\\r\\n\\t\\t\\t\\t\\t</form>\\r\\n\\t\\t\\t\\t\\t<div class=\"search_close\">\\r\\n\\t\\t\\t\\t\\t\\t<button type=\"button\">검색 닫기</button>\\r\\n\\t\\t\\t\\t\\t</div>\\r\\n\\t\\t\\t\\t</div>\\r\\n\\t\\t\\t</div>\\r\\n\\t\\t</header>\\r\\n\\t\\t<!-- //header -->\\r\\n\\t\\t<hr />\\r\\n\\t\\t<div id=\"container\" class=\"loaded\">\\r\\n\\t\\t\\t<div class=\"sub_visual\">\\r\\n\\t\\t\\t\\t<div class=\"wrap\">\\r\\n\\t\\t\\t\\t\\t<p class=\"big_text\">실학성세 <strong>4.0!</strong></p>\\r\\n\\t\\t\\t\\t\\t<p class=\"small_text\">지역가치창출, 학생중심 특성화ㆍ교육 혁신대학</p>\\r\\n\\t\\t\\t\\t</div>\\r\\n\\t\\t\\t</div>\\r\\n\\t\\t\\t<div class=\"wrap clearfix\">\\r\\n\\t\\t\\t\\t<div class=\"side\">\\r\\n\\t\\t\\t\\t\\t<div class=\"side_title\">\\r\\n\\t\\t\\t\\t\\t\\t<div class=\"inner_wrap\">\\r\\n\\t\\t\\t\\t\\t\\t\\t<strong>소통공간</strong>\\r\\n\\t\\t\\t\\t\\t\\t</div>\\r\\n\\t\\t\\t\\t\\t</div>\\r\\n\\t\\t\\t\\t\\t<nav class=\"side_menu\">\\r\\n\\t\\t\\t\\t\\t\\t<h2 class=\"skip\">좌측메뉴</h2>\\r\\n\\t\\t\\t\\t\\t\\t\\r\\n\\r\\n<ul class=\"depth2_menu\">\\r\\n\\t\\t\\t<li class=\"depth2_list\"><a  class=\"depth2_anchor\" href=\"/www/selectBbsNttList.do?bbsNo=881&key=4577&\" target=\"_self\">공지사항</a>\\r\\n\\r\\n\\t\\t\\t<ul class=\"depth3_menu\">\\r\\n\\t\\t\\t\\t\\t\\t\\t<li class=\"depth3_list\"><a class=\"depth3_anchor\" href=\"/www/selectBbsNttList.do?bbsNo=881&amp;key=4577&amp;\" target=\"_self\"  >공지사항</a>\\r\\n\\t\\t\\t\\t</li>\\r\\n\\t\\t\\t\\t<li class=\"depth3_list\"><a class=\"depth3_anchor\" href=\"/www/selectBbsNttList.do?bbsNo=882&amp;key=4579&amp;\" target=\"_self\"  >채용공고</a>\\r\\n\\r\\n\\t\\t\\t\\t\\t\\t<ul class=\"depth4_menu\">\\r\\n\\t\\t\\t\\t\\t\\t\\t\\t\\t\\t\\t\\t<li class=\"depth4_list\"><a class=\"depth4_anchor\" href=\"/www/selectBbsNttList.do?bbsNo=882&amp;key=4579&amp;\" target=\"_self\"  >교수채용 공고</a></li>\\r\\n\\t\\t\\t\\t\\t\\t<li class=\"depth4_list\"><a class=\"depth4_anchor\" href=\"/www/selectBbsNttList.do?bbsNo=883&amp;key=4580&amp;\" target=\"_self\"  >직원채용 공고</a></li>\\r\\n\\t\\t\\t\\t\\t\\t<li class=\"depth4_list\"><a class=\"depth4_anchor\" href=\"/www/selectBbsNttList.do?bbsNo=1624&amp;key=8573&amp;\" target=\"_self\"  >조교채용 공고</a></li>\\r\\n\\r\\n\\t\\t                </ul>\\r\\n\\t\\t\\t\\t</li>\\r\\n\\r\\n\\t\\t\\t</ul>\\r\\n\\t\\t</li>\\r\\n\\t\\t<li class=\"depth2_list\"><a  class=\"depth2_anchor\" href=\"/www/selectBbsNttList.do?bbsNo=884&key=4583&\" target=\"_self\">참여게시판</a>\\r\\n\\r\\n\\t\\t\\t<ul class=\"depth3_menu\">\\r\\n\\t\\t\\t\\t\\t\\t\\t<li class=\"depth3_list\"><a class=\"depth3_anchor\" href=\"/www/selectBbsNttList.do?bbsNo=884&amp;key=4583&amp;\" target=\"_self\"  >청대인 게시판</a>\\r\\n\\t\\t\\t\\t</li>\\r\\n\\t\\t\\t\\t<li class=\"depth3_list\"><a class=\"depth3_anchor\" href=\"/www/selectBbsNttList.do?bbsNo=885&amp;key=4584&amp;\" target=\"_self\"  >자주하는 질문</a>\\r\\n\\t\\t\\t\\t</li>\\r\\n\\t\\t\\t\\t<li class=\"depth3_list\"><a class=\"depth3_anchor\" href=\"/www/selectBbsNttList.do?bbsNo=1050&amp;key=4585&amp;\" target=\"_self\"  >온라인 민원</a>\\r\\n\\t\\t\\t\\t</li>\\r\\n\\t\\t\\t\\t<li class=\"depth3_list\"><a class=\"depth3_anchor\" href=\"/www/selectQestnarList.do?key=4586&amp;\" target=\"_self\"  >온라인 설문조사</a>\\r\\n\\t\\t\\t\\t</li>\\r\\n\\t\\t\\t\\t<li class=\"depth3_list\"><a class=\"depth3_anchor\" href=\"/www/selectBbsNttList.do?bbsNo=887&amp;key=4588&amp;\" target=\"_self\"  >홈페이지 개선사항</a>\\r\\n\\t\\t\\t\\t</li>\\r\\n\\t\\t\\t\\t<li class=\"depth3_list\"><a class=\"depth3_anchor\" href=\"/www/selectBbsNttList.do?bbsNo=1318&amp;key=6887&amp;\" target=\"_self\"  >칭찬합시다</a>\\r\\n\\t\\t\\t\\t</li>\\r\\n\\r\\n\\t\\t\\t</ul>\\r\\n\\t\\t</li>\\r\\n\\t\\t<li class=\"depth2_list\"><a  class=\"depth2_anchor\" href=\"/www/selectBbsNttList.do?bbsNo=888&key=4590&\" target=\"_self\">생활게시판</a>\\r\\n\\r\\n\\t\\t\\t<ul class=\"depth3_menu\">\\r\\n\\t\\t\\t\\t\\t\\t\\t<li class=\"depth3_list\"><a class=\"depth3_anchor\" href=\"/www/selectBbsNttList.do?bbsNo=888&amp;key=4590&amp;\" target=\"_self\"  >벼룩 시장</a>\\r\\n\\t\\t\\t\\t</li>\\r\\n\\t\\t\\t\\t<li class=\"depth3_list\"><a class=\"depth3_anchor\" href=\"/www/selectBbsNttList.do?bbsNo=889&amp;key=4591&amp;\" target=\"_self\"  >취업ㆍ아르바이트</a>\\r\\n\\t\\t\\t\\t</li>\\r\\n\\t\\t\\t\\t<li class=\"depth3_list\"><a class=\"depth3_anchor\" href=\"/www/selectBbsNttList.do?bbsNo=890&amp;key=4592&amp;\" target=\"_self\"  >유실물 센터</a>\\r\\n\\t\\t\\t\\t</li>\\r\\n\\t\\t\\t\\t<li class=\"depth3_list\"><a class=\"depth3_anchor\" href=\"/www/selectTnRstrntMenuListU.do?sc1=student&amp;key=5120&amp;\" target=\"_self\"  >식단표</a>\\r\\n\\r\\n\\t\\t\\t\\t\\t\\t<ul class=\"depth4_menu\">\\r\\n\\t\\t\\t\\t\\t\\t\\t\\t\\t\\t\\t\\t<li class=\"depth4_list\"><a class=\"depth4_anchor\" href=\"/www/selectTnRstrntMenuListU.do?sc1=student&amp;key=5120&amp;\" target=\"_self\"  >학생식당</a></li>\\r\\n\\t\\t\\t\\t\\t\\t<li class=\"depth4_list\"><a class=\"depth4_anchor\" href=\"/www/selectTnRstrntMenuListU.do?sc1=mcollege&amp;key=5117&amp;\" target=\"_self\"  >비즈니스대학 식당</a></li>\\r\\n\\t\\t\\t\\t\\t\\t<li class=\"depth4_list\"><a class=\"depth4_anchor\" href=\"/www/selectTnRstrntMenuListU.do?sc1=employee&amp;key=5119&amp;\" target=\"_self\"  >본관 교직원식당</a></li>\\r\\n\\t\\t\\t\\t\\t\\t<li class=\"depth4_list\"><a class=\"depth4_anchor\" href=\"/www/selectTnRstrntMenuListU.do?sc1=domitory&amp;key=5118&amp;\" target=\"_self\"  >기숙사 식당</a></li>\\r\\n\\r\\n\\t\\t                </ul>\\r\\n\\t\\t\\t\\t</li>\\r\\n\\r\\n\\t\\t\\t</ul>\\r\\n\\t\\t</li>\\r\\n\\t\\t<li class=\"depth2_list\"><a  class=\"depth2_anchor\" href=\"/www/selectBbsNttList.do?bbsNo=891&key=4595&\" target=\"_self\">자료실</a>\\r\\n\\r\\n\\t\\t\\t<ul class=\"depth3_menu\">\\r\\n\\t\\t\\t\\t\\t\\t\\t<li class=\"depth3_list\"><a class=\"depth3_anchor\" href=\"/www/selectBbsNttList.do?bbsNo=891&amp;key=4595&amp;\" target=\"_self\"  >서식자료실</a>\\r\\n\\t\\t\\t\\t</li>\\r\\n\\t\\t\\t\\t<li class=\"depth3_list\"><a class=\"depth3_anchor\" href=\"/www/selectBbsNttList.do?bbsNo=892&amp;key=4596&amp;\" target=\"_self\"  >일반자료실</a>\\r\\n\\t\\t\\t\\t</li>\\r\\n\\r\\n\\t\\t\\t</ul>\\r\\n\\t\\t</li>\\r\\n\\r\\n</ul>\\r\\n\\r\\n\\t\\t\\t\\t\\t</nav>\\r\\n\\t\\t\\t\\t</div>\\r\\n\\t\\t\\t\\t<!-- //side -->\\r\\n\\t\\t\\t\\t<main class=\"colgroup\">\\r\\n\\t\\t\\t\\t\\t<article>\\r\\n\\t\\t\\t\\t\\t\\t<header class=\"sub_head\">\\r\\n\\t\\t\\t\\t\\t\\t\\t<div class=\"rowgroup clearfix\">\\r\\n\\t\\t\\t\\t\\t\\t\\t\\t<div class=\"path\">\\r\\n\\t\\t\\t\\t\\t\\t\\t\\t\\t<ul class=\"clearfix\">\\r\\n\\t\\t\\t\\t\\t\\t\\t\\t\\t\\t<li>홈</li>\\r\\n\\t\\t\\t\\t\\t\\t\\t\\t\\t\\t\\r\\n\\t\\t\\t\\t\\t\\t\\t\\t\\t\\t<li>소통공간</li>\\r\\n\\t\\t\\t\\t\\t\\t\\t\\t\\t\\t\\r\\n\\t\\t\\t\\t\\t\\t\\t\\t\\t\\t<li>2020학년도 신입생 온라인 OT</li>\\r\\n\\t\\t\\t\\t\\t\\t\\t\\t\\t\\t\\r\\n\\t\\t\\t\\t\\t\\t\\t\\t\\t\\t<li class=\"actived\">CJU 캠퍼스 둘러보기</li>\\r\\n\\t\\t\\t\\t\\t\\t\\t\\t\\t\\t\\r\\n\\t\\t\\t\\t\\t\\t\\t\\t\\t</ul>\\r\\n\\t\\t\\t\\t\\t\\t\\t\\t</div>\\r\\n\\t\\t\\t\\t\\t\\t\\t\\t<div class=\"addons\">\\r\\n\\t\\t\\t\\t\\t\\t\\t\\t\\t<button type=\"button\" class=\"print\" title=\"새창\"><span>프린트</span></button>\\r\\n\\t\\t\\t\\t\\t\\t\\t\\t</div>\\r\\n\\t\\t\\t\\t\\t\\t\\t</div>\\r\\n\\t\\t\\t\\t\\t\\t\\t<div class=\"sub_title\">\\r\\n\\t\\t\\t\\t\\t\\t\\t\\t<h2>CJU 캠퍼스 둘러보기</h2>\\r\\n\\t\\t\\t\\t\\t\\t\\t</div>\\r\\n\\t\\t\\t\\t\\t\\t\\t\\r\\n\\t\\t\\t\\t\\t\\t</header>\\r\\n\\t\\t\\t\\t\\t\\t<div id=\"contents\" class=\"cts7214\">\\r\\n\\t\\t\\t\\t\\t\\t\\t<video controls=\"\" poster=\"http://www.cju.ac.kr/DATA/download/www/cts7214_img01.jpg\" style=\"width:100%;\">\\n\\t<source src=\"http://www.cju.ac.kr/DATA/download/www/cts7214_video.mp4\" type=\"video/mp4\">\\n\\t<p>Your user agent does not support the HTML5 Video element.</p>\\n</video>\\r\\n\\t\\t\\t\\t\\t\\t</div>\\r\\n\\t\\t\\t\\t\\t\\t<footer class=\"satisfaction\">\\r\\n\\t\\t\\t\\t\\t\\t\\t\\r\\n\\r\\n\\r\\n\\t\\r\\n\\t\\r\\n\\r\\n\\r\\n<h3 class=\"skip\">콘텐츠 만족도 조사</h3>\\r\\n<div class=\"satisfaction_list clearfix\">\\r\\n\\t<p class=\"question\">이 페이지에서 제공하는 정보에 대하여 어느 정도 만족하셨습니까?</p>\\r\\n\\t<form method=\"post\" name=\"cntntsEvalHist\" id=\"cntntsEvalHist\" action=\"/sym/sit/cem/addContentsEvalHist.do\">\\r\\n\\t\\t<fieldset class=\"clearfix\">\\r\\n\\t\\t\\t<legend>만족도 조사 폼</legend>\\r\\n\\t\\t\\t<input type=\"hidden\" name=\"menuNo\" id=\"menuNo\" value=\"7214\"/>\\r\\n\\t\\t\\t<div class=\"input_radio\">\\r\\n\\t\\t\\t\\t<span class=\"input_line\">\\r\\n\\t\\t\\t\\t\\t<input name=\"cntntsEvlSe\" value=\"VERY_SATSFC\" id=\"value5\" type=\"radio\"/>\\r\\n\\t\\t\\t\\t\\t<label for=\"value5\">매우만족</label>\\r\\n\\t\\t\\t\\t</span>\\r\\n\\t\\t\\t\\t<span class=\"input_line\">\\r\\n\\t\\t\\t\\t\\t<input name=\"cntntsEvlSe\" value=\"SATSFC\" id=\"value4\" type=\"radio\" />\\r\\n\\t\\t\\t\\t\\t<label for=\"value4\">만족</label>\\r\\n\\t\\t\\t\\t</span>\\r\\n\\t\\t\\t\\t<span class=\"input_line\">\\r\\n\\t\\t\\t\\t\\t<input name=\"cntntsEvlSe\" value=\"NRMLTY\" id=\"value3\" type=\"radio\" />\\r\\n\\t\\t\\t\\t\\t<label for=\"value3\">보통</label>\\r\\n\\t\\t\\t\\t</span>\\r\\n\\t\\t\\t\\t<span class=\"input_line\">\\r\\n\\t\\t\\t\\t\\t<input name=\"cntntsEvlSe\" value=\"DSCNTT\" id=\"value2\" type=\"radio\" />\\r\\n\\t\\t\\t\\t\\t<label for=\"value2\">불만족</label>\\r\\n\\t\\t\\t\\t</span>\\r\\n\\t\\t\\t\\t<span class=\"input_line\">\\r\\n\\t\\t\\t\\t\\t<input name=\"cntntsEvlSe\" value=\"VERY_DSCNTT\" id=\"value1\" type=\"radio\" />\\r\\n\\t\\t\\t\\t\\t<label for=\"value1\">매우불만족</label>\\r\\n\\t\\t\\t\\t</span>\\r\\n\\t\\t\\t</div>\\r\\n\\t\\t\\t<div class=\"opinion\">\\r\\n\\t\\t\\t\\t<input type=\"text\" name=\"cntntsOpinionCn\" id=\"etc\" title=\"의견을 입력해주세요\" placeholder=\"의견을 입력해 주세요\" />\\r\\n\\t\\t\\t\\t<input type=\"submit\" value=\"의견등록\" />\\r\\n\\t\\t\\t</div>\\r\\n\\t\\t</fieldset>\\r\\n\\t</form>\\r\\n</div>\\r\\n\\t\\r\\n\\r\\n\\r\\n\\r\\n<h3 class=\"skip manager_info\">담당자 정보</h3>\\r\\n<div class=\"manager_info clearfix\">\\r\\n\\t<ul class=\"clearfix chrge_info\">\\r\\n\\t\\t\\r\\n\\r\\n\\t\\t\\r\\n\\r\\n\\t\\t\\r\\n\\r\\n\\t\\t\\r\\n\\t\\t<li id=\"li_cntnts_update_de\" style=\"display:none\">\\r\\n\\t\\t\\t<span class=\"title\">최종수정일</span>\\r\\n\\t\\t\\t<time datetime=\"2020-03-10\" class=\"text\">2020.03.10</time>\\r\\n\\t\\t</li>\\r\\n\\t\\t\\r\\n\\t</ul>\\r\\n</div>\\r\\n\\r\\n<script>\\r\\n$(function() {\\r\\n    if($(\\'#li_cntnts_update_de\\').length > 0) {\\r\\n        var uri = window.location.href;\\r\\n        if(uri.indexOf(\"/contents.do?\") != -1) {\\r\\n            $(\\'#li_cntnts_update_de\\').show();\\r\\n        }\\r\\n        else {\\r\\n            $(\\'#li_cntnts_update_de\\').remove();\\r\\n        }           \\r\\n\\r\\n    }\\r\\n    \\r\\n    if($(\\'ul.chrge_info\\').find(\\'li\\').length == 0) {\\r\\n        $(\\'h3.manager_info,div.manager_info\\').remove();\\r\\n    }\\r\\n});\\r\\n</script>\\r\\n\\r\\n\\t\\r\\n\\t\\t\\t\\t\\t\\t</footer>\\r\\n\\t\\t\\t\\t\\t\\t<!-- //satisfaction -->\\r\\n\\t\\t\\t\\t\\t</article>\\r\\n\\t\\t\\t\\t</main>\\r\\n\\t\\t\\t\\t<!-- //colgroup -->\\r\\n\\t\\t\\t</div>\\r\\n\\t\\t</div>\\r\\n\\t\\t<!-- //container -->\\r\\n\\t\\t<hr />\\r\\n\\t\\t<footer id=\"footer\">\\r\\n\\t\\t\\t<div class=\"footer_top\">\\r\\n\\t\\t\\t\\t<div class=\"wrap\">\\r\\n\\t\\t\\t\\t\\t<div class=\"footer_site clearfix\">\\r\\n\\t\\t\\t\\t\\t\\t<button type=\"button\" title=\"하위메뉴 열기\" class=\"all_open clearfix\">\\r\\n\\t\\t\\t\\t\\t\\t\\t<span class=\"inner_wrap\">\\r\\n\\t\\t\\t\\t\\t\\t\\t\\t<span>대학/대학원 홈페이지</span>\\r\\n\\t\\t\\t\\t\\t\\t\\t</span>\\r\\n\\t\\t\\t\\t\\t\\t\\t<span class=\"inner_wrap\">\\r\\n\\t\\t\\t\\t\\t\\t\\t\\t<span>교내 홈페이지</span>\\r\\n\\t\\t\\t\\t\\t\\t\\t</span>\\r\\n\\t\\t\\t\\t\\t\\t</button>\\r\\n\\t\\t\\t\\t\\t\\t<div class=\"university_group\" data-style=\"list\">\\r\\n\\t\\t\\t\\t\\t\\t\\t<button type=\"button\" class=\"open\">대학/대학원 홈페이지</button>\\r\\n\\t\\t\\t\\t\\t\\t\\t<div class=\"target clearfix\">\\r\\n\\t\\t\\t\\t\\t\\t\\t\\t<div class=\"university\">\\r\\n\\t\\t\\t\\t\\t\\t\\t\\t\\t<strong>대학</strong>\\r\\n\\t\\t\\t\\t\\t\\t\\t\\t\\t\\r\\n\\t\\t\\t\\t\\t\\t\\t\\t\\t\\r\\n<ul class=\"clearfix\">\\r\\n\\t\\t<li>\\r\\n\\t\\t\\t<a href=\"/www/contents.do?key=8176&amp;\" target=\"_blank\"  title=\"새창\">비즈니스대학</a>\\r\\n\\t\\t</li>\\r\\n\\t\\t<li>\\r\\n\\t\\t\\t<a href=\"/www/contents.do?key=8177&amp;\" target=\"_blank\"  title=\"새창\">인문사회대학</a>\\r\\n\\t\\t</li>\\r\\n\\t\\t<li>\\r\\n\\t\\t\\t<a href=\"/www/contents.do?key=8178&amp;\" target=\"_blank\"  title=\"새창\">공과대학</a>\\r\\n\\t\\t</li>\\r\\n\\t\\t<li>\\r\\n\\t\\t\\t<a href=\"/www/contents.do?key=8179&amp;\" target=\"_blank\"  title=\"새창\">사범대학</a>\\r\\n\\t\\t</li>\\r\\n\\t\\t<li>\\r\\n\\t\\t\\t<a href=\"/www/contents.do?key=8180&amp;\" target=\"_blank\"  title=\"새창\">예술대학</a>\\r\\n\\t\\t</li>\\r\\n\\t\\t<li>\\r\\n\\t\\t\\t<a href=\"/www/contents.do?key=8181&amp;\" target=\"_blank\"  title=\"새창\">보건의료과학대학</a>\\r\\n\\t\\t</li>\\r\\n\\t\\t<li>\\r\\n\\t\\t\\t<a href=\"/www/contents.do?key=8135&amp;\" target=\"_blank\"  title=\"새창\">교양대학</a>\\r\\n\\t\\t</li>\\r\\n\\t\\t<li>\\r\\n\\t\\t\\t<a href=\"/www/contents.do?key=7803&amp;\" target=\"_blank\"  title=\"새창\">직할학부</a>\\r\\n\\t\\t</li>\\r\\n</ul>\\r\\n\\r\\n\\t\\t\\t\\t\\t\\t\\t\\t</div>\\r\\n\\t\\t\\t\\t\\t\\t\\t\\t<div class=\"graduate_school\">\\r\\n\\t\\t\\t\\t\\t\\t\\t\\t\\t<strong>대학원</strong>\\r\\n\\t\\t\\t\\t\\t\\t\\t\\t\\t\\r\\n\\t\\t\\t\\t\\t\\t\\t\\t\\t\\r\\n<ul class=\"clearfix\">\\r\\n\\t\\t<li>\\r\\n\\t\\t\\t<a href=\"/ggrad/index.do\" target=\"_blank\"  title=\"새창\">일반대학원</a>\\r\\n\\t\\t</li>\\r\\n</ul>\\r\\n\\r\\n\\t\\t\\t\\t\\t\\t\\t\\t</div>\\r\\n\\t\\t\\t\\t\\t\\t\\t\\t<div class=\"special_graduate_school\">\\r\\n\\t\\t\\t\\t\\t\\t\\t\\t\\t<strong>특수대학원</strong>\\r\\n\\t\\t\\t\\t\\t\\t\\t\\t\\t\\r\\n\\t\\t\\t\\t\\t\\t\\t\\t\\t\\r\\n<ul class=\"clearfix\">\\r\\n\\t\\t<li>\\r\\n\\t\\t\\t<a href=\"/soci/index.do?\" target=\"_blank\"  title=\"새창\">사회복지ㆍ공공정책대학원</a>\\r\\n\\t\\t</li>\\r\\n\\t\\t<li>\\r\\n\\t\\t\\t<a href=\"/health/index.do\" target=\"_blank\"  title=\"새창\">보건의료대학원</a>\\r\\n\\t\\t</li>\\r\\n\\t\\t<li>\\r\\n\\t\\t\\t<a href=\"/indu/index.do\" target=\"_blank\"  title=\"새창\">융합신기술대학원</a>\\r\\n\\t\\t</li>\\r\\n\\t\\t<li>\\r\\n\\t\\t\\t<a href=\"/gart/index.do\" target=\"_blank\"  title=\"새창\">예술대학원</a>\\r\\n\\t\\t</li>\\r\\n</ul>\\r\\n\\r\\n\\t\\t\\t\\t\\t\\t\\t\\t</div>\\r\\n\\t\\t\\t\\t\\t\\t\\t</div>\\r\\n\\t\\t\\t\\t\\t\\t</div>\\r\\n\\t\\t\\t\\t\\t\\t<div class=\"public_group\" data-style=\"list\">\\r\\n\\t\\t\\t\\t\\t\\t\\t<button type=\"button\" class=\"open\">교내 홈페이지</button>\\r\\n\\t\\t\\t\\t\\t\\t\\t<div class=\"target\">\\r\\n\\t\\t\\t\\t\\t\\t\\t\\t\\r\\n\\t\\t\\t\\t\\t\\t\\t\\t\\r\\n<ul class=\"clearfix\">\\r\\n\\t\\t<li>\\r\\n\\t\\t\\t<a href=\"https://www.cju.ac.kr/ribe/index.do\" target=\"_blank\"  title=\"새창\">경영경제연구소</a>\\r\\n\\t\\t</li>\\r\\n\\t\\t<li>\\r\\n\\t\\t\\t<a href=\"http://cju-koreanlab.kr/\" target=\"_blank\"  title=\"새창\">국어문화원</a>\\r\\n\\t\\t</li>\\r\\n\\t\\t<li>\\r\\n\\t\\t\\t<a href=\"/intl/index.do\" target=\"_blank\"  title=\"새창\">국제교류처</a>\\r\\n\\t\\t</li>\\r\\n\\t\\t<li>\\r\\n\\t\\t\\t<a href=\"http://daecheon.cju.ac.kr\" target=\"_blank\"  title=\"새창\">대천수련원</a>\\r\\n\\t\\t</li>\\r\\n\\t\\t<li>\\r\\n\\t\\t\\t<a href=\"https://job.cju.ac.kr/\" target=\"_blank\"  title=\"새창\">대학일자리플러스센터</a>\\r\\n\\t\\t</li>\\r\\n\\t\\t<li>\\r\\n\\t\\t\\t<a href=\"http://cju.ac.kr/inncju/index.do\" target=\"_blank\"  title=\"새창\">대학혁신사업단</a>\\r\\n\\t\\t</li>\\r\\n\\t\\t<li>\\r\\n\\t\\t\\t<a href=\"http://fvehicles.cju.ac.kr/\" target=\"_blank\"  title=\"새창\">미래형자동차 인력양성사업단</a>\\r\\n\\t\\t</li>\\r\\n\\t\\t<li>\\r\\n\\t\\t\\t<a href=\"/muse/index.do\" target=\"_blank\"  title=\"새창\">박물관</a>\\r\\n\\t\\t</li>\\r\\n\\t\\t<li>\\r\\n\\t\\t\\t<a href=\"/give/index.do\" target=\"_blank\"  title=\"새창\">발전기금</a>\\r\\n\\t\\t</li>\\r\\n\\t\\t<li>\\r\\n\\t\\t\\t<a href=\"/043dic/index.do\" target=\"_blank\"  title=\"새창\">비행교육원</a>\\r\\n\\t\\t</li>\\r\\n\\t\\t<li>\\r\\n\\t\\t\\t<a href=\"/iacf/index.do\" target=\"_blank\"  title=\"새창\">산학협력단</a>\\r\\n\\t\\t</li>\\r\\n\\t\\t<li>\\r\\n\\t\\t\\t<a href=\"/domi/index.do\" target=\"_blank\"  title=\"새창\">생활관</a>\\r\\n\\t\\t</li>\\r\\n\\t\\t<li>\\r\\n\\t\\t\\t<a href=\"/culturegym/index.do\" target=\"_blank\"  title=\"새창\">석우문화체육관</a>\\r\\n\\t\\t</li>\\r\\n\\t\\t<li>\\r\\n\\t\\t\\t<a href=\"http://xn--9w3b15cca0kx8es1koyb659aluk.com/\" target=\"_blank\"  title=\"새창\">석우재활서비스센터</a>\\r\\n\\t\\t</li>\\r\\n\\t\\t<li>\\r\\n\\t\\t\\t<a href=\"http://hive.cju.ac.kr/common/greeting.do\" target=\"_blank\"  title=\"새창\">에델바이스</a>\\r\\n\\t\\t</li>\\r\\n\\t\\t<li>\\r\\n\\t\\t\\t<a href=\"http://safety.cju.ac.kr/\" target=\"_blank\"  title=\"새창\">연구실안전관리시스템</a>\\r\\n\\t\\t</li>\\r\\n\\t\\t<li>\\r\\n\\t\\t\\t<a href=\"http://cju.ac.kr/ceccju/index.do\" target=\"_blank\"  title=\"새창\">융복합교육센터</a>\\r\\n\\t\\t</li>\\r\\n\\t\\t<li>\\r\\n\\t\\t\\t<a href=\"/fled/index.do\" target=\"_blank\"  title=\"새창\">의사소통교육부</a>\\r\\n\\t\\t</li>\\r\\n\\t\\t<li>\\r\\n\\t\\t\\t<a href=\"https://www.cju.ac.kr/HumanRightsCenter/index.do\" target=\"_blank\"  title=\"새창\">인권센터</a>\\r\\n\\t\\t</li>\\r\\n\\t\\t<li>\\r\\n\\t\\t\\t<a href=\"/support/index.do\" target=\"_blank\"  title=\"새창\">장애학생지원실</a>\\r\\n\\t\\t</li>\\r\\n\\t\\t<li>\\r\\n\\t\\t\\t<a href=\"/info/index.do\" target=\"_blank\"  title=\"새창\">전산정보원</a>\\r\\n\\t\\t</li>\\r\\n\\t\\t<li>\\r\\n\\t\\t\\t<a href=\"http://attend.cju.ac.kr/atdc/\" target=\"_blank\"  title=\"새창\">전자출결</a>\\r\\n\\t\\t</li>\\r\\n\\t\\t<li>\\r\\n\\t\\t\\t<a href=\"/rotc/index.do\" target=\"_blank\"  title=\"새창\">제137 학생군사교육단</a>\\r\\n\\t\\t</li>\\r\\n\\t\\t<li>\\r\\n\\t\\t\\t<a href=\"http://library.cju.ac.kr/\" target=\"_blank\"  title=\"새창\">중앙도서관</a>\\r\\n\\t\\t</li>\\r\\n\\t\\t<li>\\r\\n\\t\\t\\t<a href=\"https://www.cju.ac.kr/inno3cju/index.do\" target=\"_blank\"  title=\"새창\">지방대학활성화사업단</a>\\r\\n\\t\\t</li>\\r\\n\\t\\t<li>\\r\\n\\t\\t\\t<a href=\"/startup/index.do\" target=\"_blank\"  title=\"새창\">창업교육센터</a>\\r\\n\\t\\t</li>\\r\\n\\t\\t<li>\\r\\n\\t\\t\\t<a href=\"/cjunews/index.do\" target=\"_blank\"  title=\"새창\">청대언론사</a>\\r\\n\\t\\t</li>\\r\\n\\t\\t<li>\\r\\n\\t\\t\\t<a href=\"/cjua/index.do\" target=\"_blank\"  title=\"새창\">총동문회</a>\\r\\n\\t\\t</li>\\r\\n\\t\\t<li>\\r\\n\\t\\t\\t<a href=\"http://unikoredu.org/chungbuk-conference/\" target=\"_blank\"  title=\"새창\">충북통일교육센터</a>\\r\\n\\t\\t</li>\\r\\n\\t\\t<li>\\r\\n\\t\\t\\t<a href=\"http://www.cju.ac.kr/cjuspe/index.do\" target=\"_blank\"  title=\"새창\">특성화혁신지원센터</a>\\r\\n\\t\\t</li>\\r\\n\\t\\t<li>\\r\\n\\t\\t\\t<a href=\"/edulife/index.do\" target=\"_blank\"  title=\"새창\">평생교육원</a>\\r\\n\\t\\t</li>\\r\\n\\t\\t<li>\\r\\n\\t\\t\\t<a href=\"/wellcju/index.do\" target=\"_blank\"  title=\"새창\">학생종합상담센터</a>\\r\\n\\t\\t</li>\\r\\n\\t\\t<li>\\r\\n\\t\\t\\t<a href=\"https://internship.cju.ac.kr/\" target=\"_blank\"  title=\"새창\">현장실습지원센터</a>\\r\\n\\t\\t</li>\\r\\n\\t\\t<li>\\r\\n\\t\\t\\t<a href=\"http://ato16.cju.ac.kr/\" target=\"_blank\"  title=\"새창\">항공기술교육원</a>\\r\\n\\t\\t</li>\\r\\n</ul>\\r\\n\\r\\n\\t\\t\\t\\t\\t\\t\\t</div>\\r\\n\\t\\t\\t\\t\\t\\t</div>\\r\\n\\t\\t\\t\\t\\t</div>\\r\\n\\t\\t\\t\\t\\t<div class=\"top\">\\r\\n\\t\\t\\t\\t\\t\\t<a href=\"#wrapper\">상단 바로가기</a>\\r\\n\\t\\t\\t\\t\\t</div>\\r\\n\\t\\t\\t\\t</div>\\r\\n\\t\\t\\t</div>\\r\\n\\t\\t\\t<div class=\"footer_bottom\">\\r\\n\\t\\t\\t\\t<div class=\"wrap\">\\r\\n\\t\\t\\t\\t\\t<div class=\"footer_logo\">\\r\\n\\t\\t\\t\\t\\t\\t<img src=\"/site/www/images/common/footer_logo.png\" alt=\"청주대학교 CHEONGJU UNIVERSITY\" />\\r\\n\\t\\t\\t\\t\\t</div>\\r\\n\\t\\t\\t\\t\\t<div class=\"footer_nav\">\\r\\n\\t\\t\\t\\t\\t\\t\\r\\n\\t\\t\\t\\t\\t\\t\\r\\n<ul class=\"clearfix\">\\r\\n\\t\\t<li class=\"email\">\\r\\n\\t\\t\\t<a href=\"/www/contents.do?key=4662\" target=\"_self\" >이메일주소수집거부</a>\\r\\n\\t\\t</li>\\r\\n\\t\\t<li class=\"privacy\">\\r\\n\\t\\t\\t<a href=\"/www/contents.do?key=4643\" target=\"_self\" >개인정보처리방침</a>\\r\\n\\t\\t</li>\\r\\n\\t\\t<li class=\"location\">\\r\\n\\t\\t\\t<a href=\"/www/contents.do?key=4477\" target=\"_self\" >찾아오시는 길</a>\\r\\n\\t\\t</li>\\r\\n\\t\\t<li>\\r\\n\\t\\t\\t<a href=\"http://www.academyinfo.go.kr/popup/pubinfo1690/list.do?schlId=0000179\" target=\"_blank\"  title=\"새창\">대학별정보공시</a>\\r\\n\\t\\t</li>\\r\\n\\t\\t<li>\\r\\n\\t\\t\\t<a href=\"/www/selectBbsNttList.do?bbsNo=878&amp;key=4461\" target=\"_self\" >예결산공고</a>\\r\\n\\t\\t</li>\\r\\n\\t\\t<li>\\r\\n\\t\\t\\t<a href=\"/www/contents.do?key=4458\" target=\"_self\" >정보공개</a>\\r\\n\\t\\t</li>\\r\\n\\t\\t<li>\\r\\n\\t\\t\\t<a href=\"/www/selectBbsNttList.do?bbsNo=882&amp;key=4579\" target=\"_self\" >채용공고</a>\\r\\n\\t\\t</li>\\r\\n</ul>\\r\\n\\r\\n\\t\\t\\t\\t\\t</div>\\r\\n\\t\\t\\t\\t\\t<div class=\"footer_wa\">\\r\\n\\t\\t\\t\\t\\t\\t<a href=\"http://webwatch.or.kr/certification/situation.html\" title=\"국가 공인 인증기관 : 웹와치 새창\" target=\"_blank\"><img src=\"/common/images/layout/wa.png\" alt=\"과학기술정보통신부 WEB ACCESSIBILITY 마크(웹 접근성 품질인증 마크)\"/></a>\\r\\n\\t\\t\\t\\t\\t</div>\\r\\n\\t\\t\\t\\t\\t<div class=\"footer_info\">\\r\\n\\t\\t\\t\\t\\t\\t<address>[28503] 충청북도 청주시 청원구 대성로 298<mark>TEL.043-229-8114</mark><mark>FAX.043-229-8110</mark><mark></mark></address>\\r\\n\\t\\t\\t\\t\\t\\t<p>COPYRIGHTⓒ 2017 CHEONGJU UNIVERSITY. ALL RIGHTS RESERVED.</p>\\r\\n\\t\\t\\t\\t\\t\\t<p>사업자등록번호 : 301-82-00345</p>\\r\\n\\t\\t\\t\\t\\t</div>\\r\\n\\t\\t\\t\\t</div>\\r\\n\\t\\t\\t</div>\\r\\n\\t\\t\\t\\n\\n\\n\\n\\r\\n\\t\\t</footer>\\r\\n\\t\\t<!-- //footer -->\\r\\n\\t</div>\\r\\n</body>\\r\\n</html>'"
      ]
     },
     "execution_count": 93,
     "metadata": {},
     "output_type": "execute_result"
    }
   ],
   "source": [
    "resp_video.text"
   ]
  },
  {
   "cell_type": "code",
   "execution_count": 94,
   "metadata": {},
   "outputs": [],
   "source": [
    "soup1 = bs(resp_video.text, 'html.parser')"
   ]
  },
  {
   "cell_type": "code",
   "execution_count": 95,
   "metadata": {},
   "outputs": [],
   "source": [
    "video = soup1.select_one('#contents > video > source')"
   ]
  },
  {
   "cell_type": "code",
   "execution_count": 96,
   "metadata": {},
   "outputs": [
    {
     "data": {
      "text/plain": [
       "<source src=\"http://www.cju.ac.kr/DATA/download/www/cts7214_video.mp4\" type=\"video/mp4\"/>"
      ]
     },
     "execution_count": 96,
     "metadata": {},
     "output_type": "execute_result"
    }
   ],
   "source": [
    "video"
   ]
  },
  {
   "cell_type": "code",
   "execution_count": 97,
   "metadata": {},
   "outputs": [],
   "source": [
    "video_url = video['src']"
   ]
  },
  {
   "cell_type": "code",
   "execution_count": 98,
   "metadata": {},
   "outputs": [
    {
     "data": {
      "text/plain": [
       "'http://www.cju.ac.kr/DATA/download/www/cts7214_video.mp4'"
      ]
     },
     "execution_count": 98,
     "metadata": {},
     "output_type": "execute_result"
    }
   ],
   "source": [
    "video_url"
   ]
  },
  {
   "cell_type": "code",
   "execution_count": 99,
   "metadata": {},
   "outputs": [],
   "source": [
    "# 확장자 추출\n",
    "video_type = video_url.split('.')[-1]"
   ]
  },
  {
   "cell_type": "code",
   "execution_count": 100,
   "metadata": {},
   "outputs": [
    {
     "data": {
      "text/plain": [
       "'mp4'"
      ]
     },
     "execution_count": 100,
     "metadata": {},
     "output_type": "execute_result"
    }
   ],
   "source": [
    "video_type"
   ]
  },
  {
   "cell_type": "code",
   "execution_count": 101,
   "metadata": {},
   "outputs": [],
   "source": [
    "with urlopen(video_url) as f:\n",
    "    with open(f'./video_result.{video_type}', 'wb') as video_file:\n",
    "        while True:\n",
    "            data = f.read(4096)\n",
    "            if data:\n",
    "                video_file.write(data)\n",
    "            else:\n",
    "                break"
   ]
  },
  {
   "cell_type": "markdown",
   "metadata": {},
   "source": [
    "### CSS 속성(`attribute`)으로 찾기\n",
    "- [참고] Regular Expresson (Python re 모듈) 정규표현식 구글링 통해 좀더 공부해 보면 좋습니다."
   ]
  },
  {
   "cell_type": "code",
   "execution_count": 102,
   "metadata": {},
   "outputs": [
    {
     "data": {
      "text/plain": [
       "[<h3 class=\"tit_view\" data-translation=\"true\">서울경찰청장 “집회 때문에 이태원 경찰력 배치 못한 것 아냐”</h3>,\n",
       " <h3 class=\"tit_box\">이 시각 추천뉴스</h3>,\n",
       " <h3 class=\"tit_box\">서비스 바로가기</h3>]"
      ]
     },
     "execution_count": 102,
     "metadata": {},
     "output_type": "execute_result"
    }
   ],
   "source": [
    "soup.select('h3')"
   ]
  },
  {
   "cell_type": "code",
   "execution_count": 103,
   "metadata": {},
   "outputs": [
    {
     "data": {
      "text/plain": [
       "[<h3 class=\"tit_view\" data-translation=\"true\">서울경찰청장 “집회 때문에 이태원 경찰력 배치 못한 것 아냐”</h3>]"
      ]
     },
     "execution_count": 103,
     "metadata": {},
     "output_type": "execute_result"
    }
   ],
   "source": [
    "soup.select('h3[class=tit_view]')"
   ]
  },
  {
   "cell_type": "markdown",
   "metadata": {},
   "source": [
    "- css 속성(attribute)으로 찾기 1\n",
    "    - 속성값 찾기 [name='test']\n",
    "    - 속성값 prefix 찾기 [name ^='test']"
   ]
  },
  {
   "cell_type": "code",
   "execution_count": null,
   "metadata": {},
   "outputs": [],
   "source": [
    "soup.select('h3[class^=\"tit\"]')"
   ]
  },
  {
   "cell_type": "markdown",
   "metadata": {},
   "source": [
    "- CSS 속성(attribute)으로 찾기 2\n",
    "  - 속성값 찾기 [name='test']\n",
    "     - 속성값 suffix 찾기 [name $='test']"
   ]
  },
  {
   "cell_type": "code",
   "execution_count": null,
   "metadata": {},
   "outputs": [],
   "source": [
    "soup.select('h3[class$=\"box\"]')"
   ]
  },
  {
   "cell_type": "markdown",
   "metadata": {},
   "source": [
    "# 3. 간단한 뉴스수집 로봇(crawler) 제작\n",
    "- 댓글 많은 뉴스 목록 수집\n",
    "- 뉴스 제목 수집\n",
    "- 뉴스 본문 수집"
   ]
  },
  {
   "cell_type": "code",
   "execution_count": 104,
   "metadata": {},
   "outputs": [],
   "source": [
    "import requests \n",
    "from bs4 import BeautifulSoup as bs"
   ]
  },
  {
   "cell_type": "markdown",
   "metadata": {},
   "source": [
    "## 3.1   '특정 분야에 노출된 뉴스' 목록 얻어오기\n",
    "- 뉴스 구조 $\\to$ https://news.daum.net/politics\n",
    "- 특정 언론사 선택 $\\to$ 정치 분야 예로 실습"
   ]
  },
  {
   "cell_type": "code",
   "execution_count": 105,
   "metadata": {},
   "outputs": [],
   "source": [
    "url = 'https://news.daum.net/politics'"
   ]
  },
  {
   "cell_type": "code",
   "execution_count": 106,
   "metadata": {},
   "outputs": [],
   "source": [
    "resp = requests.get(url)"
   ]
  },
  {
   "cell_type": "code",
   "execution_count": 107,
   "metadata": {},
   "outputs": [],
   "source": [
    "soup = bs(resp.text, 'html.parser')"
   ]
  },
  {
   "cell_type": "code",
   "execution_count": 108,
   "metadata": {
    "collapsed": true
   },
   "outputs": [
    {
     "data": {
      "text/plain": [
       "<!DOCTYPE html>\n",
       "\n",
       "<html class=\"pcweb\" lang=\"ko\">\n",
       "<head>\n",
       "<meta charset=\"utf-8\"/>\n",
       "<link href=\"https://t1.daumcdn.net/top/favicon.ico\" rel=\"icon\"/>\n",
       "<meta content=\"telephone=no\" name=\"format-detection\"/>\n",
       "<meta content=\"width=device-width,initial-scale=1,minimum-scale=1,maximum-scale=1,user-scalable=no\" name=\"viewport\"/>\n",
       "<script src=\"//t1.daumcdn.net/tiara/js/v1/tiara.min.js\" type=\"text/javascript\"></script>\n",
       "<script defer=\"\" src=\"//t1.daumcdn.net/daumtop_deco/scripts/lib/lottie-player-2.0.2.js\" type=\"text/javascript\"></script>\n",
       "<script>\n",
       "\t\t\tfunction setDarkTheme(isDark) {\n",
       "\t\t\t\tdocument.documentElement.setAttribute('data-darktheme', isDark ? 'true' : 'false')\n",
       "\t\t\t}\n",
       "\n",
       "\t\t\t//TODO ë¤í¬ëª¨ë\n",
       "\t\t\tif (window.matchMedia) {\n",
       "\t\t\t\tconst storedThemeMode =\n",
       "\t\t\t\t\t(window.localStorage ? window.localStorage.getItem('selectedThemeMode') : null) || 'auto'\n",
       "\n",
       "\t\t\t\tif (storedThemeMode === 'auto') {\n",
       "\t\t\t\t\tconst colorSchemeDark = window.matchMedia('(prefers-color-scheme: dark)')\n",
       "\t\t\t\t\tif (colorSchemeDark) {\n",
       "\t\t\t\t\t\tsetDarkTheme(colorSchemeDark.matches)\n",
       "\t\t\t\t\t}\n",
       "\t\t\t\t} else {\n",
       "\t\t\t\t\tsetDarkTheme(storedThemeMode === 'dark')\n",
       "\t\t\t\t}\n",
       "\t\t\t}\n",
       "\t\t</script>\n",
       "<link href=\"https://t1.daumcdn.net/top/tiller-pc/modoo-web/production/20241121092638/css/modoo.css\" rel=\"stylesheet\"/>\n",
       "<title>ë¤ìë´ì¤ | ì ì¹</title><meta content=\"ë¤ìë´ì¤ | ì ì¹\" property=\"og:title\"/> <meta content=\"ë¤ìë´ì¤\" property=\"og:description\"/> <meta content=\"https://t1.daumcdn.net/media/img-media/mobile/meta/news.png\" property=\"og:image\"/> <meta content=\"ë¤ìë´ì¤\" name=\"description\"/>\n",
       "</head>\n",
       "<body data-sveltekit-preload-data=\"off\" data-sveltekit-reload=\"\" id=\"modooRootContainer\" style=\"overflow-y: scroll\">\n",
       "<div class=\"pcweb\" style=\"display: contents\"> <style>@charset \"UTF-8\";/*** ë´ì¤ ì¹ì\n",
       " ***/\n",
       "#modoo .link_refresh{background-color:#fff;}\n",
       "/* ë ì´ìì */\n",
       "#modoo .content-article .box_comp:first-of-type{margin-top:10px;}\n",
       "#modoo .content-article .box_bnr_bizboard:first-of-type{margin-top:0;}\n",
       ".mobile #modoo .box_bnr_bizboard + .box_grid{margin-top:-10px;}\n",
       "/* footer */\n",
       "#modoo .doc-footer .inner_foot{margin:0;padding-top:32px;}\n",
       "#modoo .doc-footer .list_foot{display:flex;flex-wrap:wrap;justify-content:center;}\n",
       "#modoo .doc-footer .list_foot li{display:inline-block;position:relative;vertical-align:top;}\n",
       "#modoo .doc-footer .list_foot li + li{padding-left:2px;}\n",
       "#modoo .doc-footer small{padding-top:16px;}\n",
       "/*** PC ***/\n",
       "/* ë ì´ìì */\n",
       ".pcweb #modoo .box_grid{display:flex;}\n",
       ".pcweb #modoo .grid_half{flex:1;min-width:0;}\n",
       ".pcweb #modoo .grid_half + .grid_half{margin-left:16px;}\n",
       "/* footer */\n",
       ".pcweb #modoo .doc-footer .inner_foot{padding-top:55px;}\n",
       ".pcweb #modoo .doc-footer small{padding-top:10px;}\n",
       "/* ì°ì¬ - ì ì²´íì´ì§ */\n",
       ".pcweb #modoo .content-article .box_news_series .item_newsbasic .tit_txt{display:block;display:-webkit-box;overflow:hidden;word-break:break-all;-webkit-box-orient:vertical;-webkit-line-clamp:2;max-height:2.5em;font-weight:400;font-size:1em;line-height:1.25;white-space:normal;}\n",
       ".pcweb #modoo .content-article .box_news_series .item_newsbasic .wrap_thumb{width:108px;height:72px;margin-left:12px;background-size:26px 26px;}\n",
       ".pcweb #modoo .content-article .box_news_series .item_newsbasic .desc_txt{display:none;}\n",
       "/* ê³µíµ ì´ë¯¸ì§ */\n",
       "#modoo .ico_news{display:block;overflow:hidden;font-size:1px;line-height:0;vertical-align:top;background:url(//t1.daumcdn.net/media/news/news2024/m/ico_news.svg) 0 0 no-repeat;background-size:200px 200px;color:transparent;}\n",
       "/* ê³µíµ */\n",
       "#modoo .tit_news_etc{display:block;padding:20px 0 16px;font-weight:700;font-size:1.313em;line-height:1.19;border-bottom:solid 1px #000;}\n",
       "#modoo .tit_list_etc{display:block;padding:10px 0 0 20px;font-weight:700;font-size:1.063em;line-height:1.29;text-indent:-20px;}\n",
       "#modoo .etc_box{padding:20px 0;margin-top:20px;border-top:solid 1px rgba(0,0,0,0.04);}\n",
       "#modoo .etc_box + .group_btn{justify-content:center;}\n",
       "#modoo .news_etc .line_divider_4{margin-top:20px;padding-top:20px;border-top:solid 1px rgba(0,0,0,0.04);}\n",
       "#modoo .news_etc .subtit_list_etc{display:block;font-weight:700;line-height:1.37;}\n",
       "#modoo .news_etc .desc_box{padding-top:16px;}\n",
       "#modoo .news_etc .group_btn.type_multiple{display:flex;flex-wrap:wrap;margin:-12px 0 0 -8px;}\n",
       "#modoo .news_etc .group_btn.type_multiple .link_moreview{margin:12px 0 0 8px;}\n",
       "#modoo .news_etc .area_etc .group_btn{text-align:left;padding-top:8px;}\n",
       "#modoo .news_etc .list_box .tit_list_etc{padding-top:30px;}\n",
       "#modoo .news_etc .list_etc li{position:relative;margin:8px 0 0 22px;color:rgba(0,0,0,0.72);line-height:1.37;}\n",
       "#modoo .news_etc .list_etc li:before{display:block;position:absolute;top:8px;left:-13px;width:5px;height:5px;border-radius:50%;background-color:rgba(0,0,0,0.64);content:'';}\n",
       "#modoo .news_etc .sublist_etc li{position:relative;margin:12px 0 0 14px;line-height:1.46;color:rgba(0,0,0,0.72);font-size:0.938em;}\n",
       "#modoo .news_etc .sublist_etc li:before{display:block;position:absolute;top:8px;left:-12px;width:5px;height:5px;border-radius:50%;background-color:rgba(0,0,0,0.64);content:'';}\n",
       "#modoo .news_etc .sublist_etc li + li{margin-top:20px;}\n",
       "#modoo .news_etc .sublist_etc li .fc_emph{display:block;margin-top:8px;color:#4881F7;}\n",
       "#modoo .news_etc .sublist_etc .tit_sublist{display:block;font-weight:400;padding-bottom:4px;}\n",
       "#modoo .news_etc .etc_box .area_etc{padding-left:14px;}\n",
       "#modoo .news_etc .etc_box .area_etc .desc_box{padding-top:8px;font-size:0.938em;line-height:1.46;}\n",
       "#modoo .news_etc .bg_etc{display:block;overflow:hidden;max-width:none;font-size:0;line-height:0;text-indent:-9999px;background-repeat:no-repeat;margin:0 auto;}\n",
       "#modoo .news_etc .bg_etc.list_process1{height:590px;background-image:url(//t1.daumcdn.net/media/news/news2024/m/img_list_process1.png);background-size:320px 590px;}\n",
       "#modoo .news_etc .bg_etc.list_process2{height:734px;background-image:url(//t1.daumcdn.net/media/news/news2024/m/img_list_process2.png);background-size:320px 734px;}\n",
       "#modoo .news_etc .bg_etc.list_process3{height:553px;background-image:url(//t1.daumcdn.net/media/news/news2024/m/img_list_process3.png);background-size:320px 553px;}\n",
       "#modoo .news_etc .process_pc{display:none;}\n",
       "#modoo .news_etc .m_hide{display:none;}\n",
       "/* box_etc_edit */\n",
       "#modoo .box_etc_edit .etc_box{border-bottom:solid 1px rgba(0,0,0,0.04);}\n",
       "#modoo .box_etc_edit .etc_box .desc_box{padding-top:0;}\n",
       "/* box_etc_newscenter24 */\n",
       "#modoo .box_etc_newscenter24 .etc_box .desc_box{padding-top:12px;line-height:1.37;color:rgba(0,0,0,0.72);}\n",
       "#modoo .ico_time{width:22px;height:22px;}\n",
       "#modoo .ico_call{width:22px;height:22px;background-position:-30px 0;}\n",
       "#modoo .ico_fax{width:22px;height:22px;background-position:-60px 0;}\n",
       "#modoo .group_service{display:flex;flex-wrap:wrap;padding-top:4px;margin-left:-12px;}\n",
       "#modoo .group_service .item_service{display:inline-flex;align-items:center;justify-content:flex-start;margin:12px 0 0 12px;background-color:#F2F4F7;border-radius:8px;padding:13px 18px;font-size:0.938em;font-weight:700;line-height:1.46;}\n",
       "#modoo .group_service .item_service .ico_news{margin-right:8px;}\n",
       "#modoo .box_etc_newscenter24 .list_box .tit_list_etc:first-child{padding-top:0;}\n",
       "#modoo .box_etc_newscenter24 .etc_box{padding-bottom:0;}\n",
       "#modoo .box_etc_newscenter24 .line_divider_4 + .sublist_etc li:first-child{margin-top:0;}\n",
       "/* PC */\n",
       ".pcweb #modoo .tit_news_etc{padding:30px 0 21px;}\n",
       ".pcweb #modoo .line_divider_4{padding-top:30px;margin-top:30px;}\n",
       ".pcweb #modoo .box_etc_edit,.pcweb #modoo .box_etc_newscenter24{padding-top:0;}\n",
       ".pcweb #modoo .news_etc .m_hide{display:block;}\n",
       ".pcweb #modoo .news_etc .pc_hide{display:none;}\n",
       ".pcweb #modoo .news_etc .tit_news_etc{padding:30px 0 19px;}\n",
       ".pcweb #modoo .news_etc .desc_box{padding-top:30px;}\n",
       ".pcweb #modoo .news_etc .list_etc{margin-top:10px;}\n",
       ".pcweb #modoo .news_etc .list_etc li{margin-top:6px;}\n",
       ".pcweb #modoo .etc_box{margin-top:30px;padding:0;border-bottom:none;}\n",
       ".pcweb #modoo .news_etc .group_btn{text-align:left;padding-top:16px;}\n",
       ".pcweb #modoo .news_etc .group_btn.type_multiple{padding-top:16px;margin:0 0 0 -12px;}\n",
       ".pcweb #modoo .news_etc .group_btn.type_multiple .link_moreview{margin:0 0 0 12px;}\n",
       ".pcweb #modoo .group_service .item_service{margin:24px 0 0 12px;}\n",
       ".pcweb #modoo .box_etc_newscenter24 .list_box .tit_list_etc:first-child{padding-top:30px;}\n",
       ".pcweb #modoo .box_etc_newscenter24 .etc_box .desc_box{padding-top:16px;}\n",
       ".pcweb #modoo .box_etc_newscenter24 .list_box .tit_list_etc{padding-top:0;}\n",
       ".pcweb #modoo .news_etc .sublist_etc li{margin-top:30px;}\n",
       ".pcweb #modoo .news_etc .area_etc .group_btn{padding-top:16px;}\n",
       ".pcweb #modoo .news_etc .process_m{display:none;}\n",
       ".pcweb #modoo .news_etc .process_pc{display:block;}\n",
       ".pcweb #modoo .news_etc .bg_etc{max-width:none;margin-top:24px;}\n",
       ".pcweb #modoo .news_etc .bg_etc.list_process1{height:658px;background-image:url(//t1.daumcdn.net/media/news/news2024/pc/img_list_process1_pc.png);background-size:753px 658px;}\n",
       ".pcweb #modoo .news_etc .bg_etc.list_process3{height:320px;background-image:url(//t1.daumcdn.net/media/news/news2024/pc/img_list_process3_pc.png);background-size:735px auto;}\n",
       "/* í¬ì¸í¸ ì»¬ë¬ */\n",
       ":root[data-darktheme=true] #modoo .ico_news{background-image:url(//t1.daumcdn.net/media/news/news2024/m/ico_news_dark.svg);}\n",
       ":root[data-darktheme=true] #modoo .link_refresh{background-color:#1C1E21;}\n",
       ":root[data-darktheme=true] #modoo .doc-footer .list_foot .btn_foot,:root[data-darktheme=true] #modoo .doc-footer .list_foot #daumMinidaum a{color:rgba(255,255,255,0.72);}\n",
       ":root[data-darktheme=true] #modoo .doc-footer .info_policy .link_policy{color:rgba(255,255,255,0.48);}\n",
       ":root[data-darktheme=true] #modoo .doc-footer .info_service{color:rgba(255,255,255,0.48);}\n",
       ":root[data-darktheme=true] #modoo .tit_news_etc{border-color:#fff;}\n",
       ":root[data-darktheme=true] #modoo .etc_box,:root[data-darktheme=true] #modoo .news_etc .line_divider_4{border-color:rgba(255,255,255,0.04);}\n",
       ":root[data-darktheme=true] #modoo .group_box{border-color:rgba(255,255,255,0.08);}\n",
       ":root[data-darktheme=true] #modoo .group_etc .list_etc li{color:rgba(255,255,255,0.72);}\n",
       ":root[data-darktheme=true] #modoo .group_etc .list_etc li:before{background-color:rgba(255,255,255,0.72);}\n",
       ":root[data-darktheme=true] #modoo .group_etc .sublist_etc li{color:rgba(255,255,255,0.72);}\n",
       ":root[data-darktheme=true] #modoo .group_etc .sublist_etc li:before{background-color:rgba(255,255,255,0.72);}\n",
       ":root[data-darktheme=true] #modoo .group_service .item_service{background-color:#2C2E33;color:#FFF;}\n",
       ":root[data-darktheme=true] #modoo .news_etc .sublist_etc li{color:rgba(255,255,255,0.72);}\n",
       ":root[data-darktheme=true] #modoo .news_etc .sublist_etc li:before{background-color:rgba(255,255,255,0.64);}\n",
       ":root[data-darktheme=true] #modoo .news_etc .list_etc li{color:rgba(255,255,255,0.72);}\n",
       ":root[data-darktheme=true] #modoo .news_etc .list_etc li:before{background-color:rgba(255,255,255,0.64);}\n",
       ":root[data-darktheme=true] #modoo .box_etc_edit .etc_box{border-color:rgba(255,255,255,0.04);}\n",
       ":root[data-darktheme=true] #modoo .box_etc_newscenter24 .group_box .txt_box{color:#fff;}\n",
       ":root[data-darktheme=true] #modoo .box_etc_newscenter24 .etc_box .desc_box{color:rgba(255,255,255,0.72);}\n",
       ":root[data-darktheme=true] #modoo .group_etc .sublist_etc li .fc_emph{color:#78A5FF;}</style> <div class=\"container-doc news-doc\" id=\"modoo\"> <header class=\"doc-header section_header\"> <div class=\"head_service\" data-tiara-layer=\"header\"><div class=\"inner_service\"><h1 class=\"doc-title\"><a class=\"logo_daum\" data-tiara-layer=\"logo\" href=\"https://daum.net\"><img alt=\"Daum\" class=\"logo_m\" height=\"24\" src=\"//t1.daumcdn.net/media/common/modoo_2023/m/logo_d_color_241119.png\" width=\"23\"/> <img alt=\"Daum\" class=\"logo_pc\" height=\"21\" src=\"//t1.daumcdn.net/media/common/modoo_2023/pc/logo_daum.svg\" width=\"46\"/></a> <a class=\"logo_service\" data-tiara-layer=\"service\" href=\"https://news.daum.net\">ë´ì¤</a></h1> <div class=\"doc-relate\"><strong class=\"screen_out\" data-svelte-h=\"svelte-177cra8\">ê´ë ¨ ìë¹ì¤</strong> <ul class=\"list_relate\"> <li><a class=\"link_service\" href=\"https://entertain.daum.net\">ì°ì</a> </li> <li><a class=\"link_service\" href=\"https://sports.daum.net\">ì¤í¬ì¸ </a> </li> <li><a class=\"link_service\" href=\"https://weather.daum.net\">ë ì¨</a> </li></ul></div> <div class=\"util_header\"><div class=\"util_share\"><button class=\"link_share\" data-svelte-h=\"svelte-1g1zbsh\" data-tiara-layer=\"share\" id=\"rSocialShareButton\" type=\"button\"><span class=\"ico_modoo ico_share\">ê³µì íê¸°</span></button></div></div></div></div> <div class=\"head_section\" data-tiara-layer=\"menu-basic\" id=\"371ff85c-9d67-406b-865c-aa306d55baec\" style=\"\"><nav class=\"section-gnb\" id=\"gnbContent\"><div class=\"inner_gnb\"><h2 class=\"screen_out\" data-svelte-h=\"svelte-1d9x8yw\">ë©ì¸ë©ë´</h2> <div class=\"wrap_gnb\"><div class=\"list_gnb\"> <div class=\"flicking-viewport\"><div class=\"flicking-camera\"><div class=\"flicking-panel\" data-key=\"7770ad92-9a36-4d8f-a7d2-7d8e16c42eb7\" style=\"order: 9007199254740991\"><a class=\"link_gnb\" href=\"/news/home\" role=\"menuitem\"><span class=\"txt_gnb\">í</span></a> </div><div class=\"flicking-panel\" data-key=\"66ade2e5-b06c-43ad-a075-aa6898c4a0ad\" style=\"order: 9007199254740991\"><a class=\"link_gnb\" href=\"/news/climate\" role=\"menuitem\"><span class=\"txt_gnb\">ê¸°í/íê²½</span><span class=\"ir_pm ico_new\" data-svelte-h=\"svelte-bn1hi7\">ìë¡ì´ìì</span></a> </div><div class=\"flicking-panel\" data-key=\"68645dd4-c825-4c94-a1f6-1a944e22559c\" style=\"order: 9007199254740991\"><a class=\"link_gnb\" href=\"/news/society\" role=\"menuitem\"><span class=\"txt_gnb\">ì¬í</span></a> </div><div class=\"flicking-panel\" data-key=\"4c3f0d97-994b-4170-a03c-aa5f9b5eff1a\" style=\"order: 9007199254740991\"><a class=\"link_gnb\" href=\"/news/economy\" role=\"menuitem\"><span class=\"txt_gnb\">ê²½ì </span></a> </div><div class=\"flicking-panel\" data-key=\"ca89b6ac-eeeb-4bc2-bc1d-88b972499971\" style=\"order: 9007199254740991\"><a aria-current=\"page\" class=\"link_gnb\" href=\"/news/politics\" role=\"menuitem\"><span class=\"txt_gnb\">ì ì¹</span></a> </div><div class=\"flicking-panel\" data-key=\"07c9237b-a6d0-422f-a2ce-a048da61d2ea\" style=\"order: 9007199254740991\"><a class=\"link_gnb\" href=\"/news/world\" role=\"menuitem\"><span class=\"txt_gnb\">êµ­ì </span></a> </div><div class=\"flicking-panel\" data-key=\"b19eaa60-3d99-466a-96b8-ecb1baedb30d\" style=\"order: 9007199254740991\"><a class=\"link_gnb\" href=\"/news/culture\" role=\"menuitem\"><span class=\"txt_gnb\">ë¬¸í</span></a> </div><div class=\"flicking-panel\" data-key=\"0700dc61-d284-4cc8-9fb0-05e7f400febd\" style=\"order: 9007199254740991\"><a class=\"link_gnb\" href=\"/news/life\" role=\"menuitem\"><span class=\"txt_gnb\">ìí</span></a> </div><div class=\"flicking-panel\" data-key=\"68f40b7d-9f0d-45dc-b142-10473e49b782\" style=\"order: 9007199254740991\"><a class=\"link_gnb\" href=\"/news/tech\" role=\"menuitem\"><span class=\"txt_gnb\">IT/ê³¼í</span></a> </div><div class=\"flicking-panel\" data-key=\"1394d6f8-2c82-4e10-99a5-bc560bbba113\" style=\"order: 9007199254740991\"><a class=\"link_gnb\" href=\"/news/people\" role=\"menuitem\"><span class=\"txt_gnb\">ì¸ë¬¼</span></a> </div><div class=\"flicking-panel\" data-key=\"599ff548-4748-4b2d-b2da-87f0c2f432ed\" style=\"order: 9007199254740991\"><a class=\"link_gnb\" href=\"/news/understanding\" role=\"menuitem\"><span class=\"txt_gnb\">ì§ì/ì¹¼ë¼</span></a> </div><div class=\"flicking-panel\" data-key=\"09697740-e215-41eb-bc23-813b6a68db87\" style=\"order: 9007199254740991\"><a class=\"link_gnb\" href=\"/news/series\" role=\"menuitem\"><span class=\"txt_gnb\">ì°ì¬</span></a> </div><div class=\"flicking-panel\" data-key=\"ead4d0ef-c20d-4a09-9e0e-59b6a72bed67\" style=\"order: 9007199254740991\"><a class=\"link_gnb\" href=\"https://focus.daum.net/daum/m/algorithm\" role=\"menuitem\"><span class=\"txt_gnb\">ë°°ì´ì¤ëª\n",
       "ì</span><span class=\"ir_pm ico_new\" data-svelte-h=\"svelte-bn1hi7\">ìë¡ì´ìì</span></a> </div></div> </div> </div></div></div></nav> <div class=\"section-lnb\"><div class=\"inner_lnb\"><strong class=\"screen_out\">ì ì¹ íìë©ë´</strong> <div class=\"list_lnb\"> <div class=\"flicking-viewport\"><div class=\"flicking-camera\"><div class=\"flicking-panel\" data-key=\"0dcb4672-ea01-4fc1-8ec2-a15fa76acea0\" style=\"order: 9007199254740991\"><a aria-current=\"page\" class=\"link_lnb\" href=\"#none\" role=\"menuitem\"><span class=\"txt_lnb\">ì ì¹í</span></a> </div><div class=\"flicking-panel\" data-key=\"3ba17948-d200-4412-a9ea-0b1847d9a241\" style=\"order: 9007199254740991\"><a class=\"link_lnb\" href=\"#none\" role=\"menuitem\"><span class=\"txt_lnb\">ëíµë ¹ì¤</span></a> </div><div class=\"flicking-panel\" data-key=\"57b75a60-3fbc-44fa-8384-7c72db763372\" style=\"order: 9007199254740991\"><a class=\"link_lnb\" href=\"#none\" role=\"menuitem\"><span class=\"txt_lnb\">ì¸êµ/êµ­ë°©</span></a> </div><div class=\"flicking-panel\" data-key=\"680455a6-34ee-4d4e-8f48-a94d2f56e575\" style=\"order: 9007199254740991\"><a class=\"link_lnb\" href=\"#none\" role=\"menuitem\"><span class=\"txt_lnb\">êµ­í/ì ë¹</span></a> </div><div class=\"flicking-panel\" data-key=\"240171ef-5bbb-40dc-86c2-4edb43b61b52\" style=\"order: 9007199254740991\"><a class=\"link_lnb\" href=\"#none\" role=\"menuitem\"><span class=\"txt_lnb\">íì /ì§ìì²´</span></a> </div><div class=\"flicking-panel\" data-key=\"905e5087-99e0-415f-b956-2894865f605d\" style=\"order: 9007199254740991\"><a class=\"link_lnb\" href=\"#none\" role=\"menuitem\"><span class=\"txt_lnb\">ë¶í</span></a> </div></div> </div> </div></div></div></div> </header> <hr class=\"hide\"/> <div class=\"main-content\" id=\"mainContent\"><article class=\"content-article\"><div class=\"inner_cont\"><h3 class=\"screen_out\" data-svelte-h=\"svelte-pbbyjq\">í</h3> <div class=\"box_comp box_news_headline2\" data-tiara-custom=\"componentId=47e65ffa-d9bb-4fa3-8010-4b292dfaca54&amp;componentTitle=ì ì¹ ì£¼ìë´ì¤&amp;componentClusterTitles=[ì¹ì\n",
       "2024] ì ì¹&gt;ì£¼ìë´ì¤\" data-tiara-layer=\"news-basic_B\" id=\"47e65ffa-d9bb-4fa3-8010-4b292dfaca54\"><div class=\"box_tit\"><strong class=\"tit_box\"><span class=\"txt_box\"> ì ì¹ ì£¼ìë´ì¤</span></strong> </div> <ul class=\"list_newsheadline2\"> <li><a class=\"item_newsheadline2\" data-tiara-layer=\"news\" data-tiara-ordnum=\"1\" href=\"https://v.daum.net/v/20241122141711090\" rel=\"\" target=\"_self\"><div class=\"wrap_thumb\"> <img alt=\"\" class=\"img_g\" src=\"//t1.daumcdn.net/thumb/S686x440a.q80/?fname=https%3A%2F%2Ft1.daumcdn.net%2Fnews%2F202411%2F22%2FNEWS1%2F20241122141712020gevw.jpg&amp;scode=media\"/></div> <div class=\"cont_thumb\"><strong class=\"tit_txt\">677ì¡° ë´ë\n",
       " ìì°ì, ì¼ë¹ ë¬´ì°¨ë³ ì¹¼ì§â¦ë²ì ìí ì²ë¦¬ ëí­</strong> <p class=\"desc_txt\">(ìì¸=ë´ì¤1) íë³ì°¬ ê¸°ì = ì¬ì¼ê° 677ì¡° ì ê·ëª¨ì ë´ë\n",
       "ë ì ë¶ ìì°ìì ëê³  ííì ì ì´ì´ê°ë©° ë²ì  ì²ë¦¬ ìíì ì¬í´ë ëê¸°ë ê² ìëëë ì°ë ¤ê° ëì¨ë¤. ì ë¶ ìì°ìì ëí­ 'ì¹¼ì§'íë ¤ë ì¼ë¹ê³¼ 'ê±´ì ì¬ì ' ê¸°ì¡°ë¥¼ ì§í¤ê² ë¤ë ì¬ë¹ì´ ê³³ê³³ìì ê²©ëíê³  ìë¤. 22ì¼ ì ì¹ê¶ì ë°ë¥´ë©´ êµ­í ê¸°íì¬ì ììíë ë´ë\n",
       "ë ì ë¶ ìë¹ë¹ í¸ì±ì ëê³  ì ìë¦¬ê±¸ì</p> <span class=\"info_txt\"><span class=\"con_txt\"><span class=\"txt_info\">ë´ì¤1</span> <span class=\"txt_info\">17ë¶ ì </span></span> </span></div> </a> </li> <li><a class=\"item_newsheadline2\" data-tiara-layer=\"news\" data-tiara-ordnum=\"2\" href=\"https://v.daum.net/v/20241122141003866\" rel=\"\" target=\"_self\"><div class=\"wrap_thumb\"> <img alt=\"\" class=\"img_g\" src=\"//t1.daumcdn.net/thumb/S686x440a.q80/?fname=https%3A%2F%2Ft1.daumcdn.net%2Fnews%2F202411%2F22%2Fetimesi%2F20241122141005255zfvj.jpg&amp;scode=media\"/></div> <div class=\"cont_thumb\"><strong class=\"tit_txt\">ì´ì¬ëª\n",
       " âìë² í ë¡ í íìââ¦ ê°ììì° í¬ììëì¸ ê³µì ë 5000ë§ìì¼ë¡ ìí¥ ì¶ì§</strong> <span class=\"info_txt\"><span class=\"con_txt\"><span class=\"txt_info\">ì ìì ë¬¸</span> <span class=\"txt_info\">24ë¶ ì </span></span> </span></div> </a> </li> <li><a class=\"item_newsheadline2\" data-tiara-layer=\"news\" data-tiara-ordnum=\"3\" href=\"https://v.daum.net/v/20241122140251613\" rel=\"\" target=\"_self\"><div class=\"wrap_thumb\"> <img alt=\"\" class=\"img_g\" src=\"//t1.daumcdn.net/thumb/S686x440a.q80/?fname=https%3A%2F%2Ft1.daumcdn.net%2Fnews%2F202411%2F22%2Fsegye%2F20241122140251766idxq.jpg&amp;scode=media\"/></div> <div class=\"cont_thumb\"><strong class=\"tit_txt\">ì ìì ë\n",
       "¸ì¶ë ì ë¶ìì°â¦ë°©íµì ìì°ì­ê° ì´ë»ê² ìê°íìëì?</strong> <span class=\"info_txt\"><span class=\"con_txt\"><span class=\"txt_info\">ì¸ê³ì¼ë³´</span> <span class=\"txt_info\">32ë¶ ì </span></span> </span></div> </a> </li> <li><a class=\"item_newsheadline2\" data-tiara-layer=\"news\" data-tiara-ordnum=\"4\" href=\"https://v.daum.net/v/20241122140003511\" rel=\"\" target=\"_self\"><div class=\"wrap_thumb\"> <img alt=\"\" class=\"img_g\" src=\"//t1.daumcdn.net/thumb/S686x440a.q80/?fname=https%3A%2F%2Ft1.daumcdn.net%2Fnews%2F202411%2F22%2Fsisapress%2F20241122140004976ypyt.jpg&amp;scode=media\"/></div> <div class=\"cont_thumb\"><strong class=\"tit_txt\">ì¬ë²ë¶ë¥¼ ì ì¹ì ê³µê²©ìì ì§ì¼ì¼ íë ì´ì  [ì´ìë¦¬ ê³§ì ìë¦¬]</strong> <span class=\"info_txt\"><span class=\"con_txt\"><span class=\"txt_info\">ìì¬ì ë</span> <span class=\"txt_info\">34ë¶ ì </span></span> </span></div> </a> </li> <li><a class=\"item_newsheadline2\" data-tiara-layer=\"news\" data-tiara-ordnum=\"5\" href=\"https://v.daum.net/v/20241122134910200\" rel=\"\" target=\"_self\"><div class=\"wrap_thumb\"> <img alt=\"\" class=\"img_g\" src=\"//t1.daumcdn.net/thumb/S686x440a.q80/?fname=https%3A%2F%2Ft1.daumcdn.net%2Fnews%2F202411%2F22%2Fkyeonggi%2F20241122134911712sxvj.jpg&amp;scode=media\"/></div> <div class=\"cont_thumb\"><strong class=\"tit_txt\">âì¬ë² ì¬íëâì ì  ì´ì¬ëª\n",
       "Â·ì¡°êµ­â¦ë¯¼ì£¼Â·íì  ìë¹ ìµë ìê¸°</strong> <span class=\"info_txt\"><span class=\"con_txt\"><span class=\"txt_info\">ê²½ê¸°ì¼ë³´</span> <span class=\"txt_info\">45ë¶ ì </span></span> </span></div> </a> </li> <li><a class=\"item_newsheadline2\" data-tiara-layer=\"news\" data-tiara-ordnum=\"6\" href=\"https://v.daum.net/v/20241122121421400\" rel=\"\" target=\"_self\"><div class=\"wrap_thumb\"> <img alt=\"\" class=\"img_g\" src=\"//t1.daumcdn.net/thumb/S686x440a.q80/?fname=https%3A%2F%2Ft1.daumcdn.net%2Fnews%2F202411%2F22%2Fsegye%2F20241122142141489gnqq.jpg&amp;scode=media\"/></div> <div class=\"cont_thumb\"><strong class=\"tit_txt\">è ëí´ìì ììë¤, é ìê³¡ë² ë± ê°í ì²ë¦¬ì âì\n",
       "ë² í­ì£¼ ê°ë ¥ ê·íâ</strong> <span class=\"info_txt\"><span class=\"con_txt\"><span class=\"txt_info\">ì¸ê³ì¼ë³´</span> <span class=\"txt_info\">2ìê° ì </span></span> </span></div> </a> </li> <li><a class=\"item_newsheadline2\" data-tiara-layer=\"news\" data-tiara-ordnum=\"7\" href=\"https://v.daum.net/v/20241122120856317\" rel=\"\" target=\"_self\"><div class=\"wrap_thumb\"> <img alt=\"\" class=\"img_g\" src=\"//t1.daumcdn.net/thumb/S686x440a.q80/?fname=https%3A%2F%2Ft1.daumcdn.net%2Fnews%2F202411%2F22%2Fyonhap%2F20241122120856323qhhd.jpg&amp;scode=media\"/></div> <div class=\"cont_thumb\"><strong class=\"tit_txt\">ê¸í¬ì¸ ì§ëë 'ìë²Â·ì½ì¸ê³¼ì¸' ë¶ëªí ë¯¼ì£¼â¦ëí ì ëµ ê³ ì¬</strong> <span class=\"info_txt\"><span class=\"con_txt\"><span class=\"txt_info\">ì°í©ë´ì¤</span> <span class=\"txt_info\">2ìê° ì </span></span> </span></div> </a> </li> <li><a class=\"item_newsheadline2\" data-tiara-layer=\"news\" data-tiara-ordnum=\"8\" href=\"https://v.daum.net/v/20241122120449250\" rel=\"\" target=\"_self\"><div class=\"wrap_thumb\"> <img alt=\"\" class=\"img_g\" src=\"//t1.daumcdn.net/thumb/S686x440a.q80/?fname=https%3A%2F%2Ft1.daumcdn.net%2Fnews%2F202411%2F22%2FNEWS1%2F20241122120449987gjhf.jpg&amp;scode=media\"/></div> <div class=\"cont_thumb\"><strong class=\"tit_txt\">íµë¬´ê¸° ìì í¸ë¼íìë ì ê·¸ì ê¹ì ìâ¦'ë¸ë¡ë§¨ì¤' ë¶í ìë¤</strong> <span class=\"info_txt\"><span class=\"con_txt\"><span class=\"txt_info\">ë´ì¤1</span> <span class=\"txt_info\">2ìê° ì </span></span> </span></div> </a> </li> <li><a class=\"item_newsheadline2\" data-tiara-layer=\"news\" data-tiara-ordnum=\"9\" href=\"https://v.daum.net/v/20241122120310225\" rel=\"\" target=\"_self\"><div class=\"wrap_thumb\"> <img alt=\"\" class=\"img_g\" src=\"//t1.daumcdn.net/thumb/S686x440a.q80/?fname=https%3A%2F%2Ft1.daumcdn.net%2Fnews%2F202411%2F22%2Fmunhwa%2F20241122120312027lqde.jpg&amp;scode=media\"/></div> <div class=\"cont_thumb\"><strong class=\"tit_txt\">ê³¨íì§ ë¬´ì¸ê¸°ë¶í° ICBMê¹ì§â¦âNK-ë°©ì°â ì¼ì¼ì´ì¤ì ê¹ì ì âìëª¸ ë¯¸ìâ</strong> <span class=\"info_txt\"><span class=\"con_txt\"><span class=\"txt_info\">ë¬¸íì¼ë³´</span> <span class=\"txt_info\">3ìê° ì </span></span> </span></div> </a> </li></ul> <div class=\"group_btn\"><a class=\"link_refresh\" data-tiara-layer=\"refresh\" data-tiara-ordnum=\"1\" href=\"#none\"><span class=\"ico_modoo ico_refresh\"></span>ìë¡ì´<span class=\"emph_txt\">ë´ì¤</span> </a></div></div> <div class=\"box_comp box_bnr_ad3\"><div class=\"item_ad\"><ins class=\"kakao_ad_area\" data-ad-onfail=\"onAdFailDAN-mmSWWDWHey1VmpXQ\" data-ad-unit=\"DAN-mmSWWDWHey1VmpXQ\" data-ad-width=\"100%\" style=\"vertical-align:top\"></ins></div></div> <div class=\"box_comp box_news_block\" data-tiara-custom=\"componentId=b2385c9e-5625-41c6-9f0d-cf8c80e7fd27&amp;componentTitle=ëíµë ¹ì¤&amp;componentClusterTitles=ëíµë ¹ì¤(ì£¼ìë´ì¤)\" data-tiara-layer=\"news-block\" id=\"b2385c9e-5625-41c6-9f0d-cf8c80e7fd27\"><div class=\"box_tit\"><strong class=\"tit_box\"><a class=\"link_tit\" data-tiara-layer=\"title\" href=\"https://news.daum.net/president\" rel=\"\" target=\"_self\"><span class=\"txt_box\"> ëíµë ¹ì¤</span> <span class=\"ico_modoo ico_arrow4\"></span></a></strong> </div> <ul class=\"list_newsblock\"> <li><a class=\"item_newsblock\" data-tiara-layer=\"news\" data-tiara-ordnum=\"1\" href=\"https://v.daum.net/v/20241122134254061\" rel=\"\" target=\"_self\"><div class=\"wrap_thumb\"><img alt=\"\" class=\"img_g\" src=\"//t1.daumcdn.net/thumb/S340x230a.q80/?fname=https%3A%2F%2Ft1.daumcdn.net%2Fnews%2F202411%2F22%2Ffnnewsi%2F20241122134255093dsrt.jpg&amp;scode=media\"/> </div> <div class=\"cont_thumb\"><strong class=\"tit_txt\">'ì ì¤ì°ì¸µ ìë' ìê³ í å°¹ \"ê²½ì íë ¥ ë°ëì ëì´ë¦°ë¤\"</strong> <span class=\"info_txt\"><span class=\"con_txt\"><span class=\"txt_info\">íì´ë¸ì\n",
       "ë´ì¤</span> <span class=\"txt_info\">51ë¶ ì </span></span> </span></div> </a> </li> <li><a class=\"item_newsblock\" data-tiara-layer=\"news\" data-tiara-ordnum=\"2\" href=\"https://v.daum.net/v/20241122130100171\" rel=\"\" target=\"_self\"><div class=\"wrap_thumb\"><img alt=\"\" class=\"img_g\" src=\"//t1.daumcdn.net/thumb/S340x230a.q80/?fname=https%3A%2F%2Ft1.daumcdn.net%2Fnews%2F202411%2F22%2FNEWS1%2F20241122130100491bldd.jpg&amp;scode=media\"/> </div> <div class=\"cont_thumb\"><strong class=\"tit_txt\">ëíµë ¹ì¤ \"ê±´ì  ê¸°ì¡°í ì¬ì  íë\"â¦ì¸ìì  ê²½ê¸° ë¶ìì ê±°ë¦¬</strong> <span class=\"info_txt\"><span class=\"con_txt\"><span class=\"txt_info\">ë´ì¤1</span> <span class=\"txt_info\">2ìê° ì </span></span> </span></div> </a> </li> <li><a class=\"item_newsblock\" data-tiara-layer=\"news\" data-tiara-ordnum=\"3\" href=\"https://v.daum.net/v/20241122114508702\" rel=\"\" target=\"_self\"><div class=\"wrap_thumb\"><img alt=\"\" class=\"img_g\" src=\"//t1.daumcdn.net/thumb/S340x230a.q80/?fname=https%3A%2F%2Ft1.daumcdn.net%2Fnews%2F202411%2F22%2Fhani%2F20241122120505893mebg.jpg&amp;scode=media\"/> </div> <div class=\"cont_thumb\"><strong class=\"tit_txt\">ì¤, êµ­ê°ì¡°ì°¬ê¸°ëí ëë²ì§¸ ì°¸ìâ¦âìê¸° ì ë° íë¤ìì§ë§ ë³´ëâ</strong> <span class=\"info_txt\"><span class=\"con_txt\"><span class=\"txt_info\">íê²¨ë </span> <span class=\"txt_info\">3ìê° ì </span></span> </span></div> </a> </li> <li><a class=\"item_newsblock\" data-tiara-layer=\"news\" data-tiara-ordnum=\"4\" href=\"https://v.daum.net/v/20241122113000166\" rel=\"\" target=\"_self\"><div class=\"wrap_thumb\"><img alt=\"\" class=\"img_g\" src=\"//t1.daumcdn.net/thumb/S340x230a.q80/?fname=https%3A%2F%2Ft1.daumcdn.net%2Fnews%2F202411%2F22%2Fmk%2F20241122113003574shht.png&amp;scode=media\"/> </div> <div class=\"cont_thumb\"><strong class=\"tit_txt\">ì´ì¬ëª\n",
       " íê²° ì°¬ë°ìë¡  í½í½... ì ë¹ 43%Â·ë¶ë¹ 42%</strong> <span class=\"info_txt\"><span class=\"con_txt\"><span class=\"txt_info\">ë§¤ì¼ê²½ì </span> <span class=\"txt_info\">3ìê° ì </span></span> </span></div> </a> </li></ul> <div class=\"group_btn\"><a class=\"link_refresh\" data-tiara-layer=\"refresh\" data-tiara-ordnum=\"1\" href=\"#none\"><span class=\"ico_modoo ico_refresh\"></span>ìë¡ì´<span class=\"emph_txt\">ë´ì¤</span> </a></div></div> <div class=\"box_comp box_news_block\" data-tiara-custom=\"componentId=9802f7a9-a827-4ddc-a2b9-7b03bcf6684c&amp;componentTitle=ì¸êµ/êµ­ë°©&amp;componentClusterTitles=ì¸êµ/êµ­ë°©(ì£¼ìë´ì¤)\" data-tiara-layer=\"news-block\" id=\"9802f7a9-a827-4ddc-a2b9-7b03bcf6684c\"><div class=\"box_tit\"><strong class=\"tit_box\"><a class=\"link_tit\" data-tiara-layer=\"title\" href=\"https://news.daum.net/dipdefen\" rel=\"\" target=\"_self\"><span class=\"txt_box\"> ì¸êµ/êµ­ë°©</span> <span class=\"ico_modoo ico_arrow4\"></span></a></strong> </div> <ul class=\"list_newsblock\"> <li><a class=\"item_newsblock\" data-tiara-layer=\"news\" data-tiara-ordnum=\"1\" href=\"https://v.daum.net/v/20241122140656764\" rel=\"\" target=\"_self\"><div class=\"wrap_thumb\"><img alt=\"\" class=\"img_g\" src=\"//t1.daumcdn.net/thumb/S340x230a.q80/?fname=https%3A%2F%2Ft1.daumcdn.net%2Fnews%2F202411%2F22%2Fyonhap%2F20241122140656932idhz.jpg&amp;scode=media\"/> </div> <div class=\"cont_thumb\"><strong class=\"tit_txt\">\"ê¹ì ì ë¶ì ì¼ë¡ í¸ë¼í 2ê¸° ë¶ë¯¸ëí ì½ì§ ìì\"</strong> <span class=\"info_txt\"><span class=\"con_txt\"><span class=\"txt_info\">ì°í©ë´ì¤</span> <span class=\"txt_info\">27ë¶ ì </span></span> </span></div> </a> </li> <li><a class=\"item_newsblock\" data-tiara-layer=\"news\" data-tiara-ordnum=\"2\" href=\"https://v.daum.net/v/20241122120451252\" rel=\"\" target=\"_self\"><div class=\"wrap_thumb\"><img alt=\"\" class=\"img_g\" src=\"//t1.daumcdn.net/thumb/S340x230a.q80/?fname=https%3A%2F%2Ft1.daumcdn.net%2Fnews%2F202411%2F22%2FNEWS1%2F20241122120453432amac.jpg&amp;scode=media\"/> </div> <div class=\"cont_thumb\"><strong class=\"tit_txt\">å 'ê°ì±ë¹ ëíì' ê³¨íì§ ìí­ëë¡  ê³µê°â¦ìì¸ ìì´ì©ì¼ë¡ ì°ë</strong> <span class=\"info_txt\"><span class=\"con_txt\"><span class=\"txt_info\">ë´ì¤1</span> <span class=\"txt_info\">2ìê° ì </span></span> </span></div> </a> </li> <li><a class=\"item_newsblock\" data-tiara-layer=\"news\" data-tiara-ordnum=\"3\" href=\"https://v.daum.net/v/20241122111806728\" rel=\"\" target=\"_self\"><div class=\"wrap_thumb\"><img alt=\"\" class=\"img_g\" src=\"//t1.daumcdn.net/thumb/S340x230a.q80/?fname=https%3A%2F%2Ft1.daumcdn.net%2Fnews%2F202411%2F22%2Fmk%2F20241122111811990pxuj.gif&amp;scode=media\"/> </div> <div class=\"cont_thumb\"><strong class=\"tit_txt\">âì¬ê¸°ê° K9ì ëë¼ì\n",
       "ëê¹ââ¦í´ì¸ ì¥ë³ë¤ì´ ì¡±ì§ê² ê³¼ì¸ ë°ì¼ë¬ ìë¤ëë°</strong> <span class=\"info_txt\"><span class=\"con_txt\"><span class=\"txt_info\">ë§¤ì¼ê²½ì </span> <span class=\"txt_info\">3ìê° ì </span></span> </span></div> </a> </li> <li><a class=\"item_newsblock\" data-tiara-layer=\"news\" data-tiara-ordnum=\"4\" href=\"https://v.daum.net/v/20241122111412560\" rel=\"\" target=\"_self\"><div class=\"wrap_thumb\"><img alt=\"\" class=\"img_g\" src=\"//t1.daumcdn.net/thumb/S340x230a.q80/?fname=https%3A%2F%2Ft1.daumcdn.net%2Fnews%2F202411%2F22%2FTHEFACT%2F20241122111415078mmsu.jpg&amp;scode=media\"/> </div> <div class=\"cont_thumb\"><strong class=\"tit_txt\">'å ì\n",
       "ë¹í¸ ì½ì¸ íì·¨'...ì ë¶ \"IT ì¸ì¬ ë²ì£ì ë´ëª°ë ¤, ê°í\"</strong> <span class=\"info_txt\"><span class=\"con_txt\"><span class=\"txt_info\">ëí©í¸</span> <span class=\"txt_info\">3ìê° ì </span></span> </span></div> </a> </li></ul> <div class=\"group_btn\"><a class=\"link_refresh\" data-tiara-layer=\"refresh\" data-tiara-ordnum=\"1\" href=\"#none\"><span class=\"ico_modoo ico_refresh\"></span>ìë¡ì´<span class=\"emph_txt\">ë´ì¤</span> </a></div></div> <div class=\"box_comp box_news_block\" data-tiara-custom=\"componentId=303b55da-cd91-4dee-a6bf-764a22b2dc53&amp;componentTitle=êµ­í/ì ë¹&amp;componentClusterTitles=êµ­í/ì ë¹(ì£¼ìë´ì¤)\" data-tiara-layer=\"news-block\" id=\"303b55da-cd91-4dee-a6bf-764a22b2dc53\"><div class=\"box_tit\"><strong class=\"tit_box\"><a class=\"link_tit\" data-tiara-layer=\"title\" href=\"https://news.daum.net/politics\" rel=\"\" target=\"_self\"><span class=\"txt_box\"> êµ­í/ì ë¹</span> <span class=\"ico_modoo ico_arrow4\"></span></a></strong> </div> <ul class=\"list_newsblock\"> <li><a class=\"item_newsblock\" data-tiara-layer=\"news\" data-tiara-ordnum=\"1\" href=\"https://v.daum.net/v/20241122141711090\" rel=\"\" target=\"_self\"><div class=\"wrap_thumb\"><img alt=\"\" class=\"img_g\" src=\"//t1.daumcdn.net/thumb/S340x230a.q80/?fname=https%3A%2F%2Ft1.daumcdn.net%2Fnews%2F202411%2F22%2FNEWS1%2F20241122141712020gevw.jpg&amp;scode=media\"/> </div> <div class=\"cont_thumb\"><strong class=\"tit_txt\">677ì¡° ë´ë\n",
       " ìì°ì, ì¼ë¹ ë¬´ì°¨ë³ ì¹¼ì§â¦ë²ì ìí ì²ë¦¬ ëí­</strong> <span class=\"info_txt\"><span class=\"con_txt\"><span class=\"txt_info\">ë´ì¤1</span> <span class=\"txt_info\">17ë¶ ì </span></span> </span></div> </a> </li> <li><a class=\"item_newsblock\" data-tiara-layer=\"news\" data-tiara-ordnum=\"2\" href=\"https://v.daum.net/v/20241122134910200\" rel=\"\" target=\"_self\"><div class=\"wrap_thumb\"><img alt=\"\" class=\"img_g\" src=\"//t1.daumcdn.net/thumb/S340x230a.q80/?fname=https%3A%2F%2Ft1.daumcdn.net%2Fnews%2F202411%2F22%2Fkyeonggi%2F20241122134911712sxvj.jpg&amp;scode=media\"/> </div> <div class=\"cont_thumb\"><strong class=\"tit_txt\">âì¬ë² ì¬íëâì ì  ì´ì¬ëª\n",
       "Â·ì¡°êµ­â¦ë¯¼ì£¼Â·íì  ìë¹ ìµë ìê¸°</strong> <span class=\"info_txt\"><span class=\"con_txt\"><span class=\"txt_info\">ê²½ê¸°ì¼ë³´</span> <span class=\"txt_info\">45ë¶ ì </span></span> </span></div> </a> </li> <li><a class=\"item_newsblock\" data-tiara-layer=\"news\" data-tiara-ordnum=\"3\" href=\"https://v.daum.net/v/20241122133034774\" rel=\"\" target=\"_self\"><div class=\"wrap_thumb\"><img alt=\"\" class=\"img_g\" src=\"//t1.daumcdn.net/thumb/S340x230a.q80/?fname=https%3A%2F%2Ft1.daumcdn.net%2Fnews%2F202411%2F22%2Fhankooki%2F20241122133036193elco.jpg&amp;scode=media\"/> </div> <div class=\"cont_thumb\"><strong class=\"tit_txt\">\"ìë£ëëì å°¹ ì ë¶ ì´ëí ì¸ì¬\"â¦ íìì²´ ê±°ë¶í ë¯¼ì£¼ë¹ í¹ë³ë² ì­ê³µ</strong> <span class=\"info_txt\"><span class=\"con_txt\"><span class=\"txt_info\">íêµ­ì¼ë³´</span> <span class=\"txt_info\">1ìê° ì </span></span> </span></div> </a> </li> <li><a class=\"item_newsblock\" data-tiara-layer=\"news\" data-tiara-ordnum=\"4\" href=\"https://v.daum.net/v/20241122131930559\" rel=\"\" target=\"_self\"><div class=\"wrap_thumb\"><img alt=\"\" class=\"img_g\" src=\"//t1.daumcdn.net/thumb/S340x230a.q80/?fname=https%3A%2F%2Ft1.daumcdn.net%2Fnews%2F202411%2F22%2Finews24%2F20241122131930997uccc.jpg&amp;scode=media\"/> </div> <div class=\"cont_thumb\"><strong class=\"tit_txt\">ì¡°êµ­íì ë¹ \"ëë²ì, ì¡°êµ­ 'íê¸°íì¡' ê²°ì  ë´ë¦´ ê²\"</strong> <span class=\"info_txt\"><span class=\"con_txt\"><span class=\"txt_info\">ìì´ë´ì¤24</span> <span class=\"txt_info\">1ìê° ì </span></span> </span></div> </a> </li></ul> <div class=\"group_btn\"><a class=\"link_refresh\" data-tiara-layer=\"refresh\" data-tiara-ordnum=\"1\" href=\"#none\"><span class=\"ico_modoo ico_refresh\"></span>ìë¡ì´<span class=\"emph_txt\">ë´ì¤</span> </a></div></div> <div class=\"box_comp box_news_block\" data-tiara-custom=\"componentId=c4d2d907-5076-445e-bac4-b9425d93c7d1&amp;componentTitle=íì /ì§ìì²´&amp;componentClusterTitles=íì /ì§ìì²´(ì£¼ìë´ì¤)\" data-tiara-layer=\"news-block\" id=\"c4d2d907-5076-445e-bac4-b9425d93c7d1\"><div class=\"box_tit\"><strong class=\"tit_box\"><a class=\"link_tit\" data-tiara-layer=\"title\" href=\"https://news.daum.net/administration\" rel=\"\" target=\"_self\"><span class=\"txt_box\"> íì /ì§ìì²´</span> <span class=\"ico_modoo ico_arrow4\"></span></a></strong> </div> <ul class=\"list_newsblock\"> <li><a class=\"item_newsblock\" data-tiara-layer=\"news\" data-tiara-ordnum=\"1\" href=\"https://v.daum.net/v/20241122142840522\" rel=\"\" target=\"_self\"><div class=\"wrap_thumb\"><img alt=\"\" class=\"img_g\" src=\"//t1.daumcdn.net/thumb/S340x230a.q80/?fname=https%3A%2F%2Ft1.daumcdn.net%2Fnews%2F202411%2F22%2Fyonhap%2F20241122142840305jiww.jpg&amp;scode=media\"/> </div> <div class=\"cont_thumb\"><strong class=\"tit_txt\">íì± ì¹ë§¤ ìììì¤ ë\n",
       "¼ëâ¦\"êµ°ìì ê°ì¡± í¹í\" VS \"í¹í ììë¤\"</strong> <span class=\"info_txt\"><span class=\"con_txt\"><span class=\"txt_info\">ì°í©ë´ì¤</span> <span class=\"txt_info\">6ë¶ ì </span></span> </span></div> </a> </li> <li><a class=\"item_newsblock\" data-tiara-layer=\"news\" data-tiara-ordnum=\"2\" href=\"https://v.daum.net/v/20241122100416448\" rel=\"\" target=\"_self\"><div class=\"wrap_thumb\"><img alt=\"\" class=\"img_g\" src=\"//t1.daumcdn.net/thumb/S340x230a.q80/?fname=https%3A%2F%2Ft1.daumcdn.net%2Fnews%2F202411%2F22%2Fmk%2F20241122135414169nczt.jpg&amp;scode=media\"/> </div> <div class=\"cont_thumb\"><strong class=\"tit_txt\">ê´ê´Â·ì°ì\n",
       "Â·ì ì£¼ ê°ì  ë°ì°¨â¦ê°ì ë¨ë¶ê±°ì  ë°ëì ììêµ°</strong> <span class=\"info_txt\"><span class=\"con_txt\"><span class=\"txt_info\">ë§¤ì¼ê²½ì </span> <span class=\"txt_info\">5ìê° ì </span></span> </span></div> </a> </li> <li><a class=\"item_newsblock\" data-tiara-layer=\"news\" data-tiara-ordnum=\"3\" href=\"https://v.daum.net/v/20241122100413446\" rel=\"\" target=\"_self\"><div class=\"wrap_thumb\"><img alt=\"\" class=\"img_g\" src=\"//t1.daumcdn.net/thumb/S340x230a.q80/?fname=https%3A%2F%2Ft1.daumcdn.net%2Fnews%2F202411%2F22%2Fmk%2F20241122135115070ktjc.jpg&amp;scode=media\"/> </div> <div class=\"cont_thumb\"><strong class=\"tit_txt\">ì ì§ì  êµ°ì âìì¼ë¡ 2ë\n",
       "ì íê²½ëì ìí ìí´ ì ë ¥â</strong> <span class=\"info_txt\"><span class=\"con_txt\"><span class=\"txt_info\">ë§¤ì¼ê²½ì </span> <span class=\"txt_info\">5ìê° ì </span></span> </span></div> </a> </li> <li><a class=\"item_newsblock\" data-tiara-layer=\"news\" data-tiara-ordnum=\"4\" href=\"https://v.daum.net/v/20241122100409441\" rel=\"\" target=\"_self\"><div class=\"wrap_thumb\"><img alt=\"\" class=\"img_g\" src=\"//t1.daumcdn.net/thumb/S340x230a.q80/?fname=https%3A%2F%2Ft1.daumcdn.net%2Fnews%2F202411%2F22%2Fmk%2F20241122135112237wgps.png&amp;scode=media\"/> </div> <div class=\"cont_thumb\"><strong class=\"tit_txt\">â4ì°¨ ì°ì\n",
       " í¹ë³ëìâ ì²­ì¬ì§ í¼ì¹ ì±ë¨ì</strong> <span class=\"info_txt\"><span class=\"con_txt\"><span class=\"txt_info\">ë§¤ì¼ê²½ì </span> <span class=\"txt_info\">5ìê° ì </span></span> </span></div> </a> </li></ul> <div class=\"group_btn\"><a class=\"link_refresh\" data-tiara-layer=\"refresh\" data-tiara-ordnum=\"1\" href=\"#none\"><span class=\"ico_modoo ico_refresh\"></span>ìë¡ì´<span class=\"emph_txt\">ë´ì¤</span> </a></div></div> <div class=\"box_comp box_news_block\" data-tiara-custom=\"componentId=ecd126c5-ed4a-4813-8ee1-5639380d0550&amp;componentTitle=ë¶í&amp;componentClusterTitles=ë¶í(ì£¼ìë´ì¤)\" data-tiara-layer=\"news-block\" id=\"ecd126c5-ed4a-4813-8ee1-5639380d0550\"><div class=\"box_tit\"><strong class=\"tit_box\"><a class=\"link_tit\" data-tiara-layer=\"title\" href=\"https://news.daum.net/north\" rel=\"\" target=\"_self\"><span class=\"txt_box\"> ë¶í</span> <span class=\"ico_modoo ico_arrow4\"></span></a></strong> </div> <ul class=\"list_newsblock\"> <li><a class=\"item_newsblock\" data-tiara-layer=\"news\" data-tiara-ordnum=\"1\" href=\"https://v.daum.net/v/20241122120449250\" rel=\"\" target=\"_self\"><div class=\"wrap_thumb\"><img alt=\"\" class=\"img_g\" src=\"//t1.daumcdn.net/thumb/S340x230a.q80/?fname=https%3A%2F%2Ft1.daumcdn.net%2Fnews%2F202411%2F22%2FNEWS1%2F20241122120449987gjhf.jpg&amp;scode=media\"/> </div> <div class=\"cont_thumb\"><strong class=\"tit_txt\">íµë¬´ê¸° ìì í¸ë¼íìë ì ê·¸ì ê¹ì ìâ¦'ë¸ë¡ë§¨ì¤' ë¶í ìë¤</strong> <span class=\"info_txt\"><span class=\"con_txt\"><span class=\"txt_info\">ë´ì¤1</span> <span class=\"txt_info\">2ìê° ì </span></span> </span></div> </a> </li> <li><a class=\"item_newsblock\" data-tiara-layer=\"news\" data-tiara-ordnum=\"2\" href=\"https://v.daum.net/v/20241122120310225\" rel=\"\" target=\"_self\"><div class=\"wrap_thumb\"><img alt=\"\" class=\"img_g\" src=\"//t1.daumcdn.net/thumb/S340x230a.q80/?fname=https%3A%2F%2Ft1.daumcdn.net%2Fnews%2F202411%2F22%2Fmunhwa%2F20241122120312027lqde.jpg&amp;scode=media\"/> </div> <div class=\"cont_thumb\"><strong class=\"tit_txt\">ê³¨íì§ ë¬´ì¸ê¸°ë¶í° ICBMê¹ì§â¦âNK-ë°©ì°â ì¼ì¼ì´ì¤ì ê¹ì ì âìëª¸ ë¯¸ìâ</strong> <span class=\"info_txt\"><span class=\"con_txt\"><span class=\"txt_info\">ë¬¸íì¼ë³´</span> <span class=\"txt_info\">3ìê° ì </span></span> </span></div> </a> </li> <li><a class=\"item_newsblock\" data-tiara-layer=\"news\" data-tiara-ordnum=\"3\" href=\"https://v.daum.net/v/20241122120111168\" rel=\"\" target=\"_self\"><div class=\"wrap_thumb\"><img alt=\"\" class=\"img_g\" src=\"//t1.daumcdn.net/thumb/S340x230a.q80/?fname=https%3A%2F%2Ft1.daumcdn.net%2Fnews%2F202411%2F22%2FYTN%2F20241122120112598noff.jpg&amp;scode=media\"/> <span class=\"ico_modoo ico_vod3\" data-svelte-h=\"svelte-1enfgh8\">ëìì</span></div> <div class=\"cont_thumb\"><strong class=\"tit_txt\">ê³µê°ë ì  ìë 'ë¯¸ì¤í°ë¦¬ë§¨'...ë¤ì¹ ë¶íêµ° ê³ ì ì¥ì±ì ëêµ¬? [Yë\n",
       "¹ì·¨ë¡]</strong> <span class=\"info_txt\"><span class=\"con_txt\"><span class=\"txt_info\">YTN</span> <span class=\"txt_info\">3ìê° ì </span></span> </span></div> </a> </li> <li><a class=\"item_newsblock\" data-tiara-layer=\"news\" data-tiara-ordnum=\"4\" href=\"https://v.daum.net/v/20241122115118895\" rel=\"\" target=\"_self\"><div class=\"wrap_thumb\"><img alt=\"\" class=\"img_g\" src=\"//t1.daumcdn.net/thumb/S340x230a.q80/?fname=https%3A%2F%2Ft1.daumcdn.net%2Fnews%2F202411%2F22%2Fmunhwa%2F20241122115119866rbzw.jpg&amp;scode=media\"/> </div> <div class=\"cont_thumb\"><strong class=\"tit_txt\">ë¶í, ì¬ëìÂ·ì²¨ë¨ë¬´ê¸° ì´ëì âì¼ì¼ì´ì¤â</strong> <span class=\"info_txt\"><span class=\"con_txt\"><span class=\"txt_info\">ë¬¸íì¼ë³´</span> <span class=\"txt_info\">3ìê° ì </span></span> </span></div> </a> </li></ul> <div class=\"group_btn\"><a class=\"link_refresh\" data-tiara-layer=\"refresh\" data-tiara-ordnum=\"1\" href=\"#none\"><span class=\"ico_modoo ico_refresh\"></span>ìë¡ì´<span class=\"emph_txt\">ë´ì¤</span> </a></div></div> <div class=\"box_comp box_bnr_ad3\"><div class=\"item_ad\"><ins class=\"kakao_ad_area\" data-ad-onfail=\"onAdFailDAN-mmSWWDWHey1VmpXQ\" data-ad-unit=\"DAN-mmSWWDWHey1VmpXQ\" data-ad-width=\"100%\" style=\"vertical-align:top\"></ins></div></div> </div></article> <aside class=\"content-aside\"><div class=\"inner_cont\"><h3 class=\"screen_out\" data-svelte-h=\"svelte-1pq1o83\">ê¸°í ì ë³´</h3> <div class=\"box_comp box_news_basic\" data-tiara-custom=\"componentId=8cce0b35-4aa5-4898-9b81-879c6f39ac6d&amp;componentTitle=ìµì  ë´ì¤&amp;componentClusterTitles=[ì¹ì\n",
       "2024] ì ì¹&gt;ìµì ë´ì¤\" data-tiara-layer=\"news-basic\" id=\"8cce0b35-4aa5-4898-9b81-879c6f39ac6d\"><div class=\"box_tit\"><strong class=\"tit_box\"><span class=\"txt_box\"> ìµì  ë´ì¤</span></strong> <div class=\"wrap_help type_help\" data-tiara-layer=\"tooltip\"> <button aria-expanded=\"false\" class=\"btn_help\" type=\"button\"><span class=\"ico_modoo ico_help\" data-svelte-h=\"svelte-175mque\">ëìë§</span></button> <div class=\"layer_tooltip\"><span class=\"ico_modoo ico_tooltip\"></span> <p class=\"txt_tooltip\">ì¸ë¡ ì¬ê° ë°íí ê¸°ì¬ë¥¼ ìµì ìì¼ë¡ ì ê³µí©ëë¤.</p> <button class=\"btn_close\" data-svelte-h=\"svelte-1uszoxy\" type=\"button\"><span class=\"ico_modoo ico_close\">ëìë§ íì\n",
       " ë«ê¸°</span></button></div></div> </div> <ul class=\"list_newsbasic\"> <li><a class=\"item_newsbasic\" data-tiara-layer=\"news\" data-tiara-ordnum=\"1\" href=\"https://v.daum.net/v/20241122143002561\" rel=\"\" target=\"_self\"><div class=\"wrap_thumb\"><img alt=\"\" class=\"img_g\" src=\"//t1.daumcdn.net/thumb/S324x208a.q80/?fname=https%3A%2F%2Ft1.daumcdn.net%2Fnews%2F202411%2F22%2Fohmynews%2F20241122143004079quau.jpg&amp;scode=media\"/> </div> <div class=\"cont_thumb\"><strong class=\"tit_txt\">\"í´ëí´ë ëë¬´í´\"  ê±°ì ìë ì¤ìì´í´ì§ì´ëë³¸ë¶ ê²°ì±</strong> <p class=\"desc_txt\">[ì¤ì±í¨ ê¸°ì] â² Â 22ì¼ ê±°ì ìì²­ ë¸ë¦¬íì¤ìì ì´ë¦° ì¤ìì´ì ê¶í´ì§ ê±°ì ì´ëë³¸ë¶ ë°ì¡± ì ì¸.â ì í¸ì'ì¤ìì´ í´ì§'ì ì¸ì¹ë ëª©ìë¦¬ê° ê³³ê³³ìì ëì¤ê³  ìë¤. ì¤ìì´í´ì§ ê²½ë¨ì´ëë³¸ë¶(ëí ì´ë³í)ê° ê²°ì±ëì´ ì§íÂ·ìëª\n",
       "ì´ëì´ ë²ì´ì§ê³  ìë ê°ì´ë°, ê²½ë¨ììë ì§ì£¼Â·ìì°Â·ê¹í´Â·ì¬ì²Â·ì°ì²­ì ì´ì´ ê±°ì ììë ì´ëë³¸ë¶ê° ë§ë¤ì´ì¡ë¤. ê±°ì ì§ì­ ë¯¼ì£¼ë\n",
       "¸ì´, ì¢ìë², ë¯¼ì</p> <span class=\"info_txt\"><span class=\"con_txt\"> <span class=\"txt_info\">ì¤ë§ì´ë´ì¤</span> <span class=\"txt_info\">4ë¶ ì </span></span> </span></div> </a> </li> <li><a class=\"item_newsbasic\" data-tiara-layer=\"news\" data-tiara-ordnum=\"2\" href=\"https://v.daum.net/v/20241122142858527\" rel=\"\" target=\"_self\"><div class=\"wrap_thumb\"><img alt=\"\" class=\"img_g\" src=\"//t1.daumcdn.net/thumb/S324x208a.q80/?fname=https%3A%2F%2Ft1.daumcdn.net%2Fnews%2F202411%2F22%2Fnewsis%2F20241122142858534imzb.jpg&amp;scode=media\"/> </div> <div class=\"cont_thumb\"><strong class=\"tit_txt\">ë¯¼ì£¼, ëª\n",
       "íê·  ë\n",
       "¹ì·¨ ë ê³µê°â¦\"ì°½ìì§ê²ì¥ ë§ë íë°©ì í´ê²°\"</strong> <p class=\"desc_txt\">[ìì¸=ë´ìì¤]ì¡°ì¬ì ê¹ê²½ë¡ ê¸°ì = ì¤ìì´ ëíµë ¹ ë¶ë¶ ê³µì²ê°ì\n",
       " ìí¹ íµì¬ ë¹ì¬ìì¸ ëª\n",
       "íê·  ì¨ê° ì°½ìì§ê² ë± ìì¬ê¸°ê´ì ìí¥ë ¥ì íì¬íë¤ê³  ê³¼ìíë ë\n",
       "¹ì·¨ ë´ì©ì´ 22ì¼ ê³µê°ëë¤. ëë¶ì´ë¯¼ì£¼ë¹ì ì´ë  ì´ ê°ì ë´ì©ì´ ë´ê¸´ ë\n",
       "¹ì·¨ 5ê°ë¥¼ ê³µê°íë¤. 2022ë\n",
       " 6ìë¶í° 2023ë\n",
       " 12ì ì¬ì´ ê¹ìì  êµ­ë¯¼ìí ì  ìì íê³ë´ë¹ì ì¶ì  ê°íê²½ ì¨, ì 3ì ë±</p> <span class=\"info_txt\"><span class=\"con_txt\"> <span class=\"txt_info\">ë´ìì¤</span> <span class=\"txt_info\">5ë¶ ì </span></span> </span></div> </a> </li> <li><a class=\"item_newsbasic\" data-tiara-layer=\"news\" data-tiara-ordnum=\"3\" href=\"https://v.daum.net/v/20241122142840522\" rel=\"\" target=\"_self\"><div class=\"wrap_thumb\"><img alt=\"\" class=\"img_g\" src=\"//t1.daumcdn.net/thumb/S324x208a.q80/?fname=https%3A%2F%2Ft1.daumcdn.net%2Fnews%2F202411%2F22%2Fyonhap%2F20241122142840305jiww.jpg&amp;scode=media\"/> </div> <div class=\"cont_thumb\"><strong class=\"tit_txt\">íì± ì¹ë§¤ ìììì¤ ë\n",
       "¼ëâ¦\"êµ°ìì ê°ì¡± í¹í\" VS \"í¹í ììë¤\"</strong> <p class=\"desc_txt\">(íì±=ì°í©ë´ì¤) ê¹ìì° ê¸°ì = ì¶©ë¨ íì± ê³µê³µ ì¹ë§¤ì ë´ ë\n",
       "¸ì¸ìììì¤ ê±´ë¦½ ì¬ì\n",
       " ëìì¼ë¡ êµ°ìì ì¹ì¸ì²ì´ ì´ìíë ì¬íë³µì§ë²ì¸ì´ ì ì ëë©´ì ì§ì­ ììë³´í¸ ì\n",
       "ê³ ê´ê³ì ë±ì´ ë°ë°íê³  ìë¤. íì±êµ°ì ì ì°¨ì ë°ë¼ ì¬ì\n",
       "ì´ ì¶ì§ëì¼ë©°, êµ°ìì ì­ì ì¬ì\n",
       "ê³¼ ê´ë ¨í´ ìê±°ë ê´ì¬í ë°ê° ìë¤ê³  í´ëª\n",
       "íë¤. 22ì¼ íì±êµ°ì ë°ë¥´ë©´ ë³´ê±´ë³µì§ë¶ë ì¤ì¦ ì¹ë§¤ ë\n",
       "¸ì¸ì ëí ì ë¬¸</p> <span class=\"info_txt\"><span class=\"con_txt\"> <span class=\"txt_info\">ì°í©ë´ì¤</span> <span class=\"txt_info\">6ë¶ ì </span></span> </span></div> </a> </li> <li><a class=\"item_newsbasic\" data-tiara-layer=\"news\" data-tiara-ordnum=\"4\" href=\"https://v.daum.net/v/20241122142616453\" rel=\"\" target=\"_self\"><div class=\"wrap_thumb\"><img alt=\"\" class=\"img_g\" src=\"//t1.daumcdn.net/thumb/S324x208a.q80/?fname=https%3A%2F%2Ft1.daumcdn.net%2Fnews%2F202411%2F22%2Fyonhap%2F20241122142616765qaoc.jpg&amp;scode=media\"/> </div> <div class=\"cont_thumb\"><strong class=\"tit_txt\">íëí \"ê²½ì  ìí© ë\n",
       "¹ë¡ì§ ììâ¦ë¯¼ìê²½ì  ê°ì ë°©ì ë§ë¤ ê²\"</strong> <p class=\"desc_txt\">(ìì¸=ì°í©ë´ì¤) íì§ì¸ ê¹ì ì§ ê¸°ì = êµ­ë¯¼ìí íëí ëíë 22ì¼ \"ì»¤ì§ ë¶íì¤ì±ì ë¹ë©´í´ì ë¹ì ì´ ë¯¼ìê²½ì ì ëí´ì êµ¬ì²´ì ì´ê³  ì¤í¨ì± ìë ë\n",
       "¼ìë¥¼ íµí´ì êµ­ë¯¼ì ìì¬ìì¼ ëë¦¬ê³  ìí©ì ê°ì í  ë°©ìì ë§ë¤ê² ë¤\"ê³  ë§íë¤. í ëíë ì´ë  êµ­íìì ì´ë¦° ë¯¼ìê²½ì ì ê² ë¹ì íìíìì \"êµ­ë¯¼ë¤ê»ì ìµê·¼ ëë¼ê³  ê³ìë ê²½ì  ìí©ì´ ë\n",
       "¹ë¡ì§ ìë¤\"ë©° ì´ê°ì´ ë§íë¤</p> <span class=\"info_txt\"><span class=\"con_txt\"> <span class=\"txt_info\">ì°í©ë´ì¤</span> <span class=\"txt_info\">8ë¶ ì </span></span> </span></div> </a> </li> <li><a class=\"item_newsbasic\" data-tiara-layer=\"news\" data-tiara-ordnum=\"5\" href=\"https://v.daum.net/v/20241122142545435\" rel=\"\" target=\"_self\"><div class=\"wrap_thumb\"><img alt=\"\" class=\"img_g\" src=\"//t1.daumcdn.net/thumb/S324x208a.q80/?fname=https%3A%2F%2Ft1.daumcdn.net%2Fnews%2F202411%2F22%2Fseoul%2F20241122142546506msix.jpg&amp;scode=media\"/> </div> <div class=\"cont_thumb\"><strong class=\"tit_txt\">ì±ë¶êµ¬ ë± 7ê° ìì¹êµ¬, ê²½ìì  ì§íí ì¶ì§íìí ì¶ë²</strong> <p class=\"desc_txt\">ìì¸ ì±ë¶êµ¬ë ê²½ìì (ì©ì°ì­~ëë´ì°ì­, ì§ì  í¬í¨)ì´ ì§ëë ìì¸ì 7ê° ìì¹êµ¬ê° âê²½ìì  ì§íí ì¶ì§ íìíâë¥¼ êµ¬ì±íë¤ê³  22ì¼ ë°íë¤. ì§ë 21ì¼ ëëë¬¸êµ¬ìì ì§íë ì¶ë²ììë ì±ë¶êµ¬ë¥¼ ë¹ë¡¯í´ ì©ì°, ì±ë, ëëë¬¸, ë\n",
       "¸ì, ëë´, ì¤ë 7ê° ìì¹êµ¬ ê´ê³ìê° ì°¸ìíë¤. êµ­í ë¶ ì² ë ì§íí íµí©ê°ë° ì ëì¬ì\n",
       " ì ì  ë± ì±ê³µì ì¸ ì¶ì§ì ìí íë ¥ ë°©ì ë±ì</p> <span class=\"info_txt\"><span class=\"con_txt\"> <span class=\"txt_info\">ìì¸ì ë¬¸</span> <span class=\"txt_info\">9ë¶ ì </span></span> </span></div> </a> </li> <li><a class=\"item_newsbasic\" data-tiara-layer=\"news\" data-tiara-ordnum=\"6\" href=\"https://v.daum.net/v/20241122142520415\" rel=\"\" target=\"_self\"><div class=\"wrap_thumb\"><img alt=\"\" class=\"img_g\" src=\"//t1.daumcdn.net/thumb/S324x208a.q80/?fname=https%3A%2F%2Ft1.daumcdn.net%2Fnews%2F202411%2F22%2Fyonhap%2F20241122142520624vpmc.jpg&amp;scode=media\"/> </div> <div class=\"cont_thumb\"><strong class=\"tit_txt\">íê¸°ë¬¼ì²ë¦¬ìì¤ ê²°ì ê¶ ë¶ì°ìë¡ íì ì¡°ë¡ ìíì ì ë</strong> <p class=\"desc_txt\">(ë¶ì°=ì°í©ë´ì¤) ì¤ìí¬ ê¸°ì = ë¶ì°ìê° ê¸°ì´ë¨ì²´ì¥ìê² ììíë ê¸°í¼ ìì¤ ì\n",
       "ì ê¶íì ë¶ì°ìì¥ìê² ëëë¦¬ë ¤ íì§ë§ ììíìì ì ëì´ ê±¸ë ¸ë¤. ë¶ì°ììíë 22ì¼ ì 325í ì ë¡í 2ì°¨ ë³¸íìë¥¼ ì´ì´ í´ìëììì ììíê° ìì ê°ê²°í 'ë¶ì°ì ëìê³í ì¡°ë¡ ì¼ë¶ê°ì  ì¡°ë¡ì' ëì  ë°ì¢\n",
       "ì²  ìì(ê¸°ì¥1)ì´ ì ìí ìì ìì íê²°ì ë¶ì³ ê°ê²°íë¤. íê²°ììë</p> <span class=\"info_txt\"><span class=\"con_txt\"> <span class=\"txt_info\">ì°í©ë´ì¤</span> <span class=\"txt_info\">9ë¶ ì </span></span> </span></div> </a> </li> <li><a class=\"item_newsbasic\" data-tiara-layer=\"news\" data-tiara-ordnum=\"7\" href=\"https://v.daum.net/v/20241122142503406\" rel=\"\" target=\"_self\"><div class=\"wrap_thumb\"><img alt=\"\" class=\"img_g\" src=\"//t1.daumcdn.net/thumb/S324x208a.q80/?fname=https%3A%2F%2Ft1.daumcdn.net%2Fnews%2F202411%2F22%2Fpressian%2F20241122142505015jzsk.jpg&amp;scode=media\"/> </div> <div class=\"cont_thumb\"><strong class=\"tit_txt\">ì ì£¼ëìí 'ì§ë°©ìë ìì¹ë¶ê¶ ì±ê³¼ì ê³¼ì ' ì¸ì\n",
       " ì´ì</strong> <p class=\"desc_txt\">ì ì£¼í¹ë³ìì¹ëìíë ì ë¶ì ì±\n",
       " ì§ë°©ìëì ì£¼ì ì±ê³¼ì ê³¼ì ë¥¼ ë°íì¼ë¡ ì ì£¼í¹ë³ìì¹ ë¶ê¶ ê°í ë°©ìì ê´í´ ë\n",
       "¼ìíë¤. ì ì£¼ëìíë ì§ë 21ì¼ ì ì£¼ì¬í¸í\n",
       " ëì°íì¥ìì ì ì£¼ëê° ì¶ì§íë 'ì§ë°©ìë ì ë ìì¹ë¶ê¶ í¬ë¼' ì¤ ì ì£¼í¹ë³ìì¹ëìí ì¸ì\n",
       " 'ì§ë°©ìë ìì¹ë¶ê¶ ì±ê³¼ì ê³¼ì 'ë¥¼ ê°ìµíë¤ê³  22ì¼ ë°íë¤. ë°ì¬í¬ íêµ­ì§ë°©íì ì°êµ¬ì ì§ë°©ë¶ê¶ì°êµ¬ì¼í°ì¥ì 'ì§ë°©ì</p> <span class=\"info_txt\"><span class=\"con_txt\"> <span class=\"txt_info\">íë ìì</span> <span class=\"txt_info\">9ë¶ ì </span></span> </span></div> </a> </li> <li><a class=\"item_newsbasic\" data-tiara-layer=\"news\" data-tiara-ordnum=\"8\" href=\"https://v.daum.net/v/20241122141937171\" rel=\"\" target=\"_self\"><div class=\"wrap_thumb\"><img alt=\"\" class=\"img_g\" src=\"//t1.daumcdn.net/thumb/S324x208a.q80/?fname=https%3A%2F%2Ft1.daumcdn.net%2Fnews%2F202411%2F22%2FEdaily%2F20241122141939023hrou.jpg&amp;scode=media\"/> </div> <div class=\"cont_thumb\"><strong class=\"tit_txt\">ë¼í¸ë¹ì ëíµë ¹ ë°©íâ¦28ì¼ å°¹ëíµë ¹ê³¼ ì ìíë´</strong> <p class=\"desc_txt\">[ì´ë°ì¼ë¦¬ ë°ì¢\n",
       "í ê¸°ì] ëíµë ¹ì¤ì ìëê°ë¥´ì¤ ë¦°ì¼ë¹ì¹ì¤ ë¼í¸ë¹ì ëíµë ¹ì´ ì´ë¬ 27~20ì¼ íêµ­ì ì¤ë¬´ ë°©ë¬¸íë¤ê³  22ì¼ ë°íë¤. ëíµë ¹ì¤ì ê·¸ë¬ë©´ì â(ë ëë¼ ì ìì´) ìêµ­ ê° ì¤ì§ íë ¥ê³¼ ì§ì­ ë° êµ­ì ë¬´ë íë ¥ ì¦ì§ ë°©ìì ë\n",
       "¼ìí  ìì âì´ë¼ê³  íë¤. ìëê°ì¤ ë¦°ì¼ë¹ì¹ ë¼í¸ë¹ì ëíµë ¹. (ì¬ì§=AFP) ë¦°ì¼ë¹ì¹ ëíµë ¹ì ì ë½ì°í©(EU) ìµì´ì ì±ìì</p> <span class=\"info_txt\"><span class=\"con_txt\"> <span class=\"txt_info\">ì´ë°ì¼ë¦¬</span> <span class=\"txt_info\">15ë¶ ì </span></span> </span></div> </a> </li> <li><a class=\"item_newsbasic\" data-tiara-layer=\"news\" data-tiara-ordnum=\"9\" href=\"https://v.daum.net/v/20241122141711090\" rel=\"\" target=\"_self\"><div class=\"wrap_thumb\"><img alt=\"\" class=\"img_g\" src=\"//t1.daumcdn.net/thumb/S324x208a.q80/?fname=https%3A%2F%2Ft1.daumcdn.net%2Fnews%2F202411%2F22%2FNEWS1%2F20241122141712020gevw.jpg&amp;scode=media\"/> </div> <div class=\"cont_thumb\"><strong class=\"tit_txt\">677ì¡° ë´ë\n",
       " ìì°ì, ì¼ë¹ ë¬´ì°¨ë³ ì¹¼ì§â¦ë²ì ìí ì²ë¦¬ ëí­</strong> <p class=\"desc_txt\">(ìì¸=ë´ì¤1) íë³ì°¬ ê¸°ì = ì¬ì¼ê° 677ì¡° ì ê·ëª¨ì ë´ë\n",
       "ë ì ë¶ ìì°ìì ëê³  ííì ì ì´ì´ê°ë©° ë²ì  ì²ë¦¬ ìíì ì¬í´ë ëê¸°ë ê² ìëëë ì°ë ¤ê° ëì¨ë¤. ì ë¶ ìì°ìì ëí­ 'ì¹¼ì§'íë ¤ë ì¼ë¹ê³¼ 'ê±´ì ì¬ì ' ê¸°ì¡°ë¥¼ ì§í¤ê² ë¤ë ì¬ë¹ì´ ê³³ê³³ìì ê²©ëíê³  ìë¤. 22ì¼ ì ì¹ê¶ì ë°ë¥´ë©´ êµ­í ê¸°íì¬ì ììíë ë´ë\n",
       "ë ì ë¶ ìë¹ë¹ í¸ì±ì ëê³  ì ìë¦¬ê±¸ì</p> <span class=\"info_txt\"><span class=\"con_txt\"> <span class=\"txt_info\">ë´ì¤1</span> <span class=\"txt_info\">17ë¶ ì </span></span> </span></div> </a> </li> <li><a class=\"item_newsbasic\" data-tiara-layer=\"news\" data-tiara-ordnum=\"10\" href=\"https://v.daum.net/v/20241122141614058\" rel=\"\" target=\"_self\"><div class=\"wrap_thumb\"><img alt=\"\" class=\"img_g\" src=\"//t1.daumcdn.net/thumb/S324x208a.q80/?fname=https%3A%2F%2Ft1.daumcdn.net%2Fnews%2F202411%2F22%2Fseouleconomy%2F20241122141616967acef.jpg&amp;scode=media\"/> </div> <div class=\"cont_thumb\"><strong class=\"tit_txt\">ê¸°ì´ë¨ì²´ ë°ë° âë¶ì°ì ì¡°ë¡ ê°ì ìâ ìì  ê°ê²°Â·Â·Â·âê¸°í¼ìì¤ ê²°ì ê¶ íìâ ì¡°í­ ë¹ ì ¸</strong> <p class=\"desc_txt\">[ìì¸ê²½ì ] ê¸°ì´ì§ë°©ìì¹ë¨ì²´ê° ë°ë°í ë¶ì°ìì ëìê³íì¡°ë¡ ì¼ë¶ ê°ì ìì´ ë¶ì°ììíìì ìì  ê°ê²°ëë¤. ê¸°í¼ìì¤ ì\n",
       "ì ê¶íì ê¸°ì´ë¨ì²´ì¥ìê²ì ë¶ì°ìì¥ ê¶íì¼ë¡ íìíë ë´ì©ì´ ë¹ ì¡ë¤. 22ì¼ ë¶ì°ììí ë³¸íììì ìì  ê°ê²°ë âë¶ì°ì ëìê³íì¡°ë¡ ê°ì ìâì ë¹ì´ ë¶ì°ìê° íìíë ¤ë êµ¬Â·êµ° ìì 7ê° ëìê³íìì¤ ê²°ì  ê¶íìì ê¶¤ëìì¤ê³¼ ëì¶ì¥ì ì ì¸í ë¬</p> <span class=\"info_txt\"><span class=\"con_txt\"> <span class=\"txt_info\">ìì¸ê²½ì </span> <span class=\"txt_info\">18ë¶ ì </span></span> </span></div> </a> </li></ul> <div class=\"group_btn\"><a class=\"link_refresh\" data-tiara-layer=\"refresh\" data-tiara-ordnum=\"1\" href=\"#none\"><span class=\"ico_modoo ico_refresh\"></span>ìë¡ì´<span class=\"emph_txt\">ë´ì¤</span> </a></div></div> <div class=\"box_comp box_bnr_ad2\"><div class=\"item_ad\"><ins class=\"kakao_ad_area\" data-ad-onfail=\"onAdFailDAN-zP2JKRpb99N1BvcQ\" data-ad-unit=\"DAN-zP2JKRpb99N1BvcQ\" data-ad-width=\"100%\" style=\"vertical-align:top\"></ins></div></div> <div class=\"box_comp box_news_basic\" data-tiara-custom=\"componentId=76ae60b0-fd97-48ac-af85-983fa6465da7&amp;componentTitle=ì´ ìê° ì£¼ìë´ì¤&amp;componentClusterTitles=[ì¢\n",
       "í©ì] ì¿¼í°\" data-tiara-layer=\"news-basic\" id=\"76ae60b0-fd97-48ac-af85-983fa6465da7\"><div class=\"box_tit\"><strong class=\"tit_box\"><span class=\"txt_box\"> ì´ ìê° ì£¼ìë´ì¤</span></strong> </div> <ul class=\"list_newsbasic\"> <li><a class=\"item_newsbasic\" data-tiara-layer=\"news\" data-tiara-ordnum=\"1\" href=\"https://v.daum.net/v/20241122140352660\" rel=\"\" target=\"_self\"><div class=\"wrap_thumb\"><img alt=\"\" class=\"img_g\" src=\"//t1.daumcdn.net/thumb/S324x208a.q80/?fname=https%3A%2F%2Ft1.daumcdn.net%2Fnews%2F202411%2F22%2Fnewsis%2F20241122140353069hzpx.jpg&amp;scode=media\"/> </div> <div class=\"cont_thumb\"><strong class=\"tit_txt\">ë¬ìì ë°ì¬ IRBM ì¤ë ëìí¬, ì ìíì ì¸ê°?</strong> <p class=\"desc_txt\">[ìì¸=ë´ìì¤] êµ¬ìë£¡ ê¸°ì = ë¬ììê° 21ì¼ ì°í¬ë¼ì´ëë¡ ë°ì¬í ì í ì¤ê±°ë¦¬ íëë¯¸ì¬ì¼ âì¤ë ëìí¤(ê°ì)âë âë¤íë ë\n",
       "ë¦½ íì  ì¬ì§ì\n",
       "ì²´(MIRV)âë¡ 1000ì¼ì ëê¸´ ì°í¬ë¼ì´ë ì ìì êµ­ë©´ ì íì ê¹ì§ ìí¥ì ì¤ì§ ê´ì¬ì´ë¤. ì´ ë¯¸ì¬ì¼ì ê°ê° í¹ì  ìì¹ë¥¼ íì ì¼ë¡ ì¼ì ì ìë ì¼ë ¨ì íëë¥¼ íì¬íì¬ í ë°ì ë¯¸ì¬ì¼ ë°ì¬ë¡ ì¬ë¬ ê°ì ëª©íë¥¼</p> <span class=\"info_txt\"><span class=\"con_txt\"> <span class=\"txt_info\">ë´ìì¤</span> <span class=\"txt_info\">31ë¶ ì </span></span> </span></div> </a> </li> <li><a class=\"item_newsbasic\" data-tiara-layer=\"news\" data-tiara-ordnum=\"2\" href=\"https://v.daum.net/v/20241122134254061\" rel=\"\" target=\"_self\"><div class=\"wrap_thumb\"><img alt=\"\" class=\"img_g\" src=\"//t1.daumcdn.net/thumb/S324x208a.q80/?fname=https%3A%2F%2Ft1.daumcdn.net%2Fnews%2F202411%2F22%2Ffnnewsi%2F20241122134255093dsrt.jpg&amp;scode=media\"/> </div> <div class=\"cont_thumb\"><strong class=\"tit_txt\">'ì ì¤ì°ì¸µ ìë' ìê³ í å°¹ \"ê²½ì íë ¥ ë°ëì ëì´ë¦°ë¤\"</strong> <p class=\"desc_txt\">ì¤ìì´ ëíµë ¹ì´ 22ì¼ ìì¸ ì¤êµ¬ ì ë¼í¸í\n",
       "ìì ì´ë¦° ì 56í êµ­ê°ì¡°ì°¬ê¸°ëíì ì°¸ìí´ ì¸ì¬ë§ì íê³  ìë¤./ì¬ì§=ë´ìì¤íì [íì´ë¸ì\n",
       "ë´ì¤] ì¤ìì´ ëíµë ¹ì´ 22ì¼ ìê¸° íë°ê¸° ìê·¹í íê°ë¡ ë¯¼ìì ì´ë ¤ 'ìë¡ì´ ì¤ì°ì¸µ ìë'ë¥¼ ì´ê² ë¤ë ë¹ì ì ì ìíë¤. ìê¸° ì ë°ê¸° ê±´ì ì¬ì  ê¸°ì¡°ë¡ ë¬¼ê° ìì íì ìì¶ íì±í ë± ìí¸í ê²½ì  ì¬ê±´ì êµ¬ì¶í</p> <span class=\"info_txt\"><span class=\"con_txt\"> <span class=\"txt_info\">íì´ë¸ì\n",
       "ë´ì¤</span> <span class=\"txt_info\">51ë¶ ì </span></span> </span></div> </a> </li> <li><a class=\"item_newsbasic\" data-tiara-layer=\"news\" data-tiara-ordnum=\"3\" href=\"https://v.daum.net/v/20241122132700699\" rel=\"\" target=\"_self\"><div class=\"wrap_thumb\"><img alt=\"\" class=\"img_g\" src=\"//t1.daumcdn.net/thumb/S324x208a.q80/?fname=https%3A%2F%2Ft1.daumcdn.net%2Fnews%2F202411%2F22%2Fakn%2F20241122132702468bdgz.jpg&amp;scode=media\"/> </div> <div class=\"cont_thumb\"><strong class=\"tit_txt\">ì°ë¦¬ìíì¥ êµì²´ ììâ¦ì°¨ê¸° íì¥ íë³´ ë´ì£¼ê» ì¤ê³½</strong> <p class=\"desc_txt\">ìíì¹ ì  ì°ë¦¬ê¸ìµì§ì£¼ íì¥ ì¹ì¸ì² ë¶ë¹ëì¶ ì¬ê±´ ë±ì ì¬íë¡ ì¡°ë³ê· ì°ë¦¬ìíì¥ì´ êµì²´ë  ì ë§ì´ë¤. 22ì¼ ê¸ìµê¶ì ë°ë¥´ë©´ ì°ë¦¬ê¸ìµì§ì£¼ ì´ì¬ë¤ì ì´ë  ì¤í ìì¸ ì¤êµ¬ ì°ë¦¬ê¸ìµ ë³¸ì¬ìì ì ë¡ ì´ì¬íë¥¼ ì´ê³  ì¡° íì¥ì ì°ìì´ ë¶ê°íë¤ë ë° ê³µê°ëë¥¼ íì±í ê²ì¼ë¡ ì í´ì¡ë¤. ì¡° íì¥ì ì´ìë ì  íì¥ ì¬ì ì´íì¸ ì§ëí´ 7ìë¶í° ì°ë¦¬ìíì ì´ëì´ ìì¼ë ì´ë² ë¶</p> <span class=\"info_txt\"><span class=\"con_txt\"> <span class=\"txt_info\">ìììê²½ì </span> <span class=\"txt_info\">1ìê° ì </span></span> </span></div> </a> </li> <li><a class=\"item_newsbasic\" data-tiara-layer=\"news\" data-tiara-ordnum=\"4\" href=\"https://v.daum.net/v/20241122125917124\" rel=\"\" target=\"_self\"><div class=\"wrap_thumb\"><img alt=\"\" class=\"img_g\" src=\"//t1.daumcdn.net/thumb/S324x208a.q80/?fname=https%3A%2F%2Ft1.daumcdn.net%2Fnews%2F202411%2F22%2Fpressian%2F20241122125919677rqra.jpg&amp;scode=media\"/> </div> <div class=\"cont_thumb\"><strong class=\"tit_txt\">ë¬, ë¯¸ ë¯¸ì¬ì¼ ì¬ê±°ë¦¬ ì°ì¥ì ë¯¸ì¬ì¼ë¡ ëìâ¦í¸í´ \"ëê°ì ë°©ì ëìí  ê²\"</strong> <p class=\"desc_txt\">ë¯¸êµ­ì´ ì°í¬ë¼ì´ëì ì ê³µí ìì´íí¼ì¤(ATACMS) ë¯¸ì¬ì¼ì ë¬ìì ë³¸í ì ì¬ì©í  ì ìëë¡ ì¹ì¸íë©´ì ë¬ììì ì°í¬ë¼ì´ë ê° ê¸´ì¥ì´ ê³ ì¡°ëë ê°ì´ë°, ë¸ë¼ëë¯¸ë¥´ í¸í´ ë¬ìì ëíµë ¹ì ì´ì ëí­í´ ì¤ê±°ë¦¬ íë ë¯¸ì¬ì¼(IRBM)ì ìí ë°ì¬íë¤ë©´ì ê³µê²©ì´ íëëë¤ë©´ ê·¸ì ë°ë¼ ë¨í¸íê² ëìí  ê²ì´ë¼ê³  ë°íë¤. 21ì¼(ì´í íì§ìê°) í¸í´ ëíµë ¹ì ëêµ­ë¯¼ ì±ëª\n",
       "</p> <span class=\"info_txt\"><span class=\"con_txt\"> <span class=\"txt_info\">íë ìì</span> <span class=\"txt_info\">2ìê° ì </span></span> </span></div> </a> </li> <li><a class=\"item_newsbasic\" data-tiara-layer=\"news\" data-tiara-ordnum=\"5\" href=\"https://v.daum.net/v/20241122121153358\" rel=\"\" target=\"_self\"><div class=\"wrap_thumb\"><img alt=\"\" class=\"img_g\" src=\"//t1.daumcdn.net/thumb/S324x208a.q80/?fname=https%3A%2F%2Ft1.daumcdn.net%2Fnews%2F202411%2F22%2Fkbs%2F20241122121156522pcsw.jpg&amp;scode=media\"/> <span class=\"ico_modoo ico_vod3\" data-svelte-h=\"svelte-1enfgh8\">ëìì</span> </div> <div class=\"cont_thumb\"><strong class=\"tit_txt\">ì¤ ëíµë ¹ âìê·¹í íê°ë¡ ì¤ì°ì¸µ ìë ì´ ê²ââ¦ì¬ì  ì­í  ê²í </strong> <p class=\"desc_txt\">[ìµì»¤] ì¤ìì´ ëíµë ¹ì´ ìë°© í ì²« ê³µì ì¼ì ìì íë°ê¸° íµì¬ ê³¼ì ì¸ ìê·¹í ë¬¸ì  í´ê²°ì  ë¤ì í ë² ê°ì¡°íìµëë¤. ëíµë ¹ì¤ì ì´ë¥¼ ìí´ í¥í ì¬ì ì ì­í ì  ê°íí  ì ìë¤ë ë»ë ë´ë¹ì³¤ëë° ë¤ë§ ì¶ê²½ í¸ì±ì ëí´ìë ìê¸°ê° ì í´ì§ ë° ìë¤ê³  ë°íìµëë¤. ì ìë°° ê¸°ìì ë³´ëì\n",
       "ëë¤. [ë¦¬í¬í¸] APEC, G20 ì ìíììì  ëìì¨ í ì²« ê³µì ì¼ì ì</p> <span class=\"info_txt\"><span class=\"con_txt\"> <span class=\"txt_info\">KBS</span> <span class=\"txt_info\">2ìê° ì </span></span> </span></div> </a> </li></ul> <div class=\"group_btn\"><a class=\"link_refresh\" data-tiara-layer=\"refresh\" data-tiara-ordnum=\"1\" href=\"#none\"><span class=\"ico_modoo ico_refresh\"></span>ìë¡ì´<span class=\"emph_txt\">ë´ì¤</span> </a></div></div> <div class=\"box_comp box_news_block\" data-tiara-custom=\"componentId=60a0284d-a870-43e0-85f8-3e25fb1085e6&amp;componentTitle='ë°ë¡ ë°ë¤' íì¥/ë¥´í¬&amp;componentClusterTitles=[ì¹ì\n",
       "ì©] íì¥ë¥´í¬ ê¸°ì¬\" data-tiara-layer=\"news-block\" id=\"60a0284d-a870-43e0-85f8-3e25fb1085e6\"><div class=\"box_tit\"><strong class=\"tit_box\"><span class=\"txt_box\"> 'ë°ë¡ ë°ë¤' íì¥/ë¥´í¬</span></strong> <div class=\"wrap_help type_help\" data-tiara-layer=\"tooltip\"> <button aria-expanded=\"false\" class=\"btn_help\" type=\"button\"><span class=\"ico_modoo ico_help\" data-svelte-h=\"svelte-175mque\">ëìë§</span></button> <div class=\"layer_tooltip\"><span class=\"ico_modoo ico_tooltip\"></span> <p class=\"txt_tooltip\">ê¸°ìê° íì¥ì ë°ë¡ ë°ë©° ì·¨ì¬í´ ììí íì¥ì ë¶ìê¸°ë¥¼ ì ë¬íë ê¸°ì¬ì\n",
       "ëë¤.</p> <button class=\"btn_close\" data-svelte-h=\"svelte-1uszoxy\" type=\"button\"><span class=\"ico_modoo ico_close\">ëìë§ íì\n",
       " ë«ê¸°</span></button></div></div> </div> <ul class=\"list_newsblock\"> <li><a class=\"item_newsblock\" data-tiara-layer=\"news\" data-tiara-ordnum=\"1\" href=\"https://v.daum.net/v/20241122142618454\" rel=\"\" target=\"_self\"><div class=\"wrap_thumb\"><img alt=\"\" class=\"img_g\" src=\"//t1.daumcdn.net/thumb/S340x230a.q80/?fname=https%3A%2F%2Ft1.daumcdn.net%2Fnews%2F202411%2F22%2Fchosunbiz%2F20241122142623800azke.jpg&amp;scode=media\"/> </div> <div class=\"cont_thumb\"><strong class=\"tit_txt\">[ë¥´í¬] âë í¸íë¦¬ 3ê°ììë ìí°ë¥ââ¦ ì¸ì¢\n",
       "ì ì êµ­ 1ì ìê° ê³µì¤ë¥ ì âìë¦â</strong> <span class=\"info_txt\"><span class=\"con_txt\"><span class=\"txt_info\">ì¡°ì ë¹ì¦</span> <span class=\"txt_info\">8ë¶ ì </span></span> </span></div> </a> </li> <li><a class=\"item_newsblock\" data-tiara-layer=\"news\" data-tiara-ordnum=\"2\" href=\"https://v.daum.net/v/20241122112338887\" rel=\"\" target=\"_self\"><div class=\"wrap_thumb\"><img alt=\"\" class=\"img_g\" src=\"//t1.daumcdn.net/thumb/S340x230a.q80/?fname=https%3A%2F%2Ft1.daumcdn.net%2Fnews%2F202411%2F22%2Fned%2F20241122112339816lpxy.png&amp;scode=media\"/> </div> <div class=\"cont_thumb\"><strong class=\"tit_txt\">âì¨ë¼ì¸ì íê²©, ìëë£ ì¸ë ê³µì¤ ìëë£©â</strong> <span class=\"info_txt\"><span class=\"con_txt\"><span class=\"txt_info\">í¤ë´ëê²½ì </span> <span class=\"txt_info\">3ìê° ì </span></span> </span></div> </a> </li> <li><a class=\"item_newsblock\" data-tiara-layer=\"news\" data-tiara-ordnum=\"3\" href=\"https://v.daum.net/v/20241122082904181\" rel=\"\" target=\"_self\"><div class=\"wrap_thumb\"><img alt=\"\" class=\"img_g\" src=\"//t1.daumcdn.net/thumb/S340x230a.q80/?fname=https%3A%2F%2Ft1.daumcdn.net%2Fnews%2F202411%2F22%2FJTBC%2F20241122082906689djfx.png&amp;scode=media\"/> <span class=\"ico_modoo ico_vod3\" data-svelte-h=\"svelte-1enfgh8\">ëìì</span></div> <div class=\"cont_thumb\"><strong class=\"tit_txt\">\"êµ­ë´ ê²½ì  ëª ë¹ ì ¸\" ì´ë¡ì  ì±ëª\n",
       "â¦'ë¹ìì í¸' ìë°ë¥´ëë°</strong> <span class=\"info_txt\"><span class=\"con_txt\"><span class=\"txt_info\">JTBC</span> <span class=\"txt_info\">6ìê° ì </span></span> </span></div> </a> </li> <li><a class=\"item_newsblock\" data-tiara-layer=\"news\" data-tiara-ordnum=\"4\" href=\"https://v.daum.net/v/20241122063130353\" rel=\"\" target=\"_self\"><div class=\"wrap_thumb\"><img alt=\"\" class=\"img_g\" src=\"//t1.daumcdn.net/thumb/S340x230a.q80/?fname=https%3A%2F%2Ft1.daumcdn.net%2Fnews%2F202411%2F22%2Fkyeonggi%2F20241122063132074sovx.jpg&amp;scode=media\"/> </div> <div class=\"cont_thumb\"><strong class=\"tit_txt\">ì¶ì°ë¶ë¨ê° í´ë¹ë¡ 'ì¬íì'â¦ ìê³µ ì ë ììì¶í ë°ì´ì¤ê°ì¤íìì¤ [íì¥,ê·¸ê³³&amp;]</strong> <span class=\"info_txt\"><span class=\"con_txt\"><span class=\"txt_info\">ê²½ê¸°ì¼ë³´</span> <span class=\"txt_info\">8ìê° ì </span></span> </span></div> </a> </li></ul> <div class=\"group_btn\"><a class=\"link_refresh\" data-tiara-layer=\"refresh\" data-tiara-ordnum=\"1\" href=\"#none\"><span class=\"ico_modoo ico_refresh\"></span>ìë¡ì´<span class=\"emph_txt\">ë´ì¤</span> </a></div></div> <div class=\"box_comp box_outlink\" data-tiara-custom=\"componentId=4c8815d4-358f-47ec-84a7-41e50e86bec1&amp;componentTitle=ð§­ ë¤ìë´ì¤ ìë´ì\" data-tiara-layer=\"outlink\" id=\"4c8815d4-358f-47ec-84a7-41e50e86bec1\"><div class=\"box_tit\"><strong class=\"tit_box\"><span class=\"txt_box\"> ð§­ ë¤ìë´ì¤ ìë´ì</span></strong> </div> <ul class=\"list_outlink\"><li><a class=\"item_outlink\" data-tiara-layer=\"contents\" data-tiara-ordnum=\"1\" href=\"https://news.daum.net/correct\" rel=\"\" target=\"_self\"><div class=\"wrap_thumb\"><img alt=\"\" class=\"img_g\" src=\"//t1.daumcdn.net/thumb/S224x144a.q80/?fname=https%3A%2F%2Ft1.daumcdn.net%2Fliveboard%2Fuploader%2Fapps%2Fmodoo%2F3ec03ab4a0de4122aa3172c60cf3c451.png&amp;scode=media\"/></div> <div class=\"cont_thumb\"><strong class=\"tit_txt\">ê³ ì¹¨, ì ì ã»ë°ë¡  ë³´ë ëª¨ì</strong> <span class=\"info_txt\"><span class=\"con_txt\"><span class=\"txt_info\">ë¤ìë´ì¤</span></span> </span></div> </a> </li><li><a class=\"item_outlink\" data-tiara-layer=\"contents\" data-tiara-ordnum=\"2\" href=\"https://with.kakao.com/media\" rel=\"noopener noreferrer\" target=\"_blank\"><div class=\"wrap_thumb\"><img alt=\"\" class=\"img_g\" src=\"//t1.daumcdn.net/thumb/S224x144a.q80/?fname=https%3A%2F%2Ft1.daumcdn.net%2Fliveboard%2Fuploader%2Fapps%2Fmodoo%2F9851fc3bf4cc484fb92741dc849b6c93.png&amp;scode=media\"/></div> <div class=\"cont_thumb\"><strong class=\"tit_txt\">ë¤ìì±ë ì í´ ìë´</strong> <span class=\"info_txt\"><span class=\"con_txt\"><span class=\"txt_info\">ë¤ìë´ì¤</span></span> </span></div> </a> </li><li><a class=\"item_outlink\" data-tiara-layer=\"contents\" data-tiara-ordnum=\"3\" href=\"https://cs.daum.net/faq/63.html\" rel=\"\" target=\"_self\"><div class=\"wrap_thumb\"><img alt=\"\" class=\"img_g\" src=\"//t1.daumcdn.net/thumb/S224x144a.q80/?fname=https%3A%2F%2Ft1.daumcdn.net%2Fliveboard%2Fuploader%2Fapps%2Fmodoo%2Fbc964a6150ae472b806a8eb1848018bb.png&amp;scode=media\"/></div> <div class=\"cont_thumb\"><strong class=\"tit_txt\">ë¤ìë´ì¤ ê³ ê°ì¼í°</strong> <span class=\"info_txt\"><span class=\"con_txt\"><span class=\"txt_info\">ë¤ìë´ì¤</span></span> </span></div> </a> </li></ul></div> </div></aside></div> <hr class=\"hide\"/> <footer class=\"doc-footer\"> <div><div class=\"inner_foot\">\n",
       "<ul class=\"list_foot\">\n",
       "<li><a class=\"btn_foot\" href=\"/edit\">ë¤ìë´ì¤ ìë¹ì¤ìë´</a></li>\n",
       "<li><a class=\"btn_foot\" href=\"/newscenter24\">24ìê° ë´ì¤ì¼í°</a></li>\n",
       "<li><a class=\"btn_foot\" href=\"https://magazine.daum.net/daumnews_notice\">ê³µì§ì¬í­</a></li>\n",
       "<li><a class=\"btn_foot\" href=\"https://policy.daum.net/info/info\">ìë¹ì¤ ì½ê´/ì ì±\n",
       "</a></li>\n",
       "</ul>\n",
       "<span class=\"info_service\">ê¸°ì¬ë°°ì´ì±\n",
       "ìì: ìê´ì±<span class=\"txt_dot\"></span>ì²­ìë\n",
       "ë³´í¸ì±\n",
       "ìì: ìì±í¬</span>\n",
       "<span class=\"info_service\">ë´ì¤ ê¸°ì¬ì ëí ì ìê¶ ë° ë²ì  ì±\n",
       "ìì ìë£ì ê³µì¬ ëë ê¸ì´ì´ì ìì¼ë©°, Kakaoì ì\n",
       "ì¥ê³¼ ë¤ë¥¼ ì ììµëë¤.</span>\n",
       "<small>\n",
       "<a class=\"link_kakao\" href=\"https://www.kakaocorp.com/\" target=\"_blank\">Â© Kakao Corp.</a>\n",
       "</small>\n",
       "</div></div> </footer> <div class=\"page_setting\"><button class=\"btn_pageup\" data-svelte-h=\"svelte-jfpidj\" style=\"display: none;\" type=\"button\"><span class=\"ico_modoo ico_pageup\">ë§¨ìë¡ ì´ë</span></button> <button aria-expanded=\"false\" class=\"btn_setting\" type=\"button\"><span class=\"ico_modoo ico_setting\" data-svelte-h=\"svelte-1i3jdcq\">í íë©´ ì¤ì </span></button> <div class=\"layer_viewsetting\"><strong class=\"screen_out\" data-svelte-h=\"svelte-10z212h\">í íë©´ ì¤ì  íì\n",
       "</strong> <div class=\"layer_body\"><div class=\"group_setting\"><strong class=\"tit_setting\" data-svelte-h=\"svelte-tzf2zl\">íë©´ ì¤íì¼</strong> <ul class=\"list_setting\"><li class=\"item_light\"><button aria-pressed=\"false\" class=\"btn_viewsetting\" type=\"button\"><span class=\"bg_setting\"></span><span class=\"txt_setting\" data-svelte-h=\"svelte-1t31afq\">ë¼ì´í¸ ëª¨ë</span></button></li> <li class=\"item_dark\"><button aria-pressed=\"false\" class=\"btn_viewsetting\" type=\"button\"><span class=\"bg_setting\"></span><span class=\"txt_setting\" data-svelte-h=\"svelte-10299lq\">ë¤í¬ ëª¨ë</span></button></li> <li class=\"item_system\"><button aria-pressed=\"true\" class=\"btn_viewsetting\" type=\"button\"><span class=\"bg_setting\"></span><span class=\"txt_setting\" data-svelte-h=\"svelte-19vn28r\">ê¸°ê¸° ì¤ì </span></button></li></ul></div></div></div></div> </div>\n",
       "<script>\n",
       "\t\t\t\t{\n",
       "\t\t\t\t\t__sveltekit_lc9fv8 = {\n",
       "\t\t\t\t\t\tbase: new URL(\"..\", location).pathname.slice(0, -1),\n",
       "\t\t\t\t\t\tassets: \"https://t1.daumcdn.net/top/tiller-pc/modoo-web/production/20241121092638\"\n",
       "\t\t\t\t\t};\n",
       "\n",
       "\t\t\t\t\tconst element = document.currentScript.parentElement;\n",
       "\n",
       "\t\t\t\t\tconst data = [null,{\"type\":\"data\",\"data\":{url:\"https://modoo-web-internal.devel.kakao.com/news/politics?device=PC&layout=PC\",results:{channel:{key:\"news\",name:\"ë´ì¤\",openGraph:{description:\"ë¤ìë´ì¤\",image:\"https://t1.daumcdn.net/media/img-media/mobile/meta/news.png\"},tiara:{svcId:\"111\",svcDomain:\"media.daum.net\"},description:\"ë´ì¤ ì¹ì\n",
       "\",useTemplate:false,category:null,domains:[],style:{inline:\"@charset \\\"UTF-8\\\";/*** ë´ì¤ ì¹ì\n",
       " ***/\\n#modoo .link_refresh{background-color:#fff;}\\n/* ë ì´ìì */\\n#modoo .content-article .box_comp:first-of-type{margin-top:10px;}\\n#modoo .content-article .box_bnr_bizboard:first-of-type{margin-top:0;}\\n.mobile #modoo .box_bnr_bizboard + .box_grid{margin-top:-10px;}\\n/* footer */\\n#modoo .doc-footer .inner_foot{margin:0;padding-top:32px;}\\n#modoo .doc-footer .list_foot{display:flex;flex-wrap:wrap;justify-content:center;}\\n#modoo .doc-footer .list_foot li{display:inline-block;position:relative;vertical-align:top;}\\n#modoo .doc-footer .list_foot li + li{padding-left:2px;}\\n#modoo .doc-footer small{padding-top:16px;}\\n/*** PC ***/\\n/* ë ì´ìì */\\n.pcweb #modoo .box_grid{display:flex;}\\n.pcweb #modoo .grid_half{flex:1;min-width:0;}\\n.pcweb #modoo .grid_half + .grid_half{margin-left:16px;}\\n/* footer */\\n.pcweb #modoo .doc-footer .inner_foot{padding-top:55px;}\\n.pcweb #modoo .doc-footer small{padding-top:10px;}\\n/* ì°ì¬ - ì ì²´íì´ì§ */\\n.pcweb #modoo .content-article .box_news_series .item_newsbasic .tit_txt{display:block;display:-webkit-box;overflow:hidden;word-break:break-all;-webkit-box-orient:vertical;-webkit-line-clamp:2;max-height:2.5em;font-weight:400;font-size:1em;line-height:1.25;white-space:normal;}\\n.pcweb #modoo .content-article .box_news_series .item_newsbasic .wrap_thumb{width:108px;height:72px;margin-left:12px;background-size:26px 26px;}\\n.pcweb #modoo .content-article .box_news_series .item_newsbasic .desc_txt{display:none;}\\n/* ê³µíµ ì´ë¯¸ì§ */\\n#modoo .ico_news{display:block;overflow:hidden;font-size:1px;line-height:0;vertical-align:top;background:url(//t1.daumcdn.net/media/news/news2024/m/ico_news.svg) 0 0 no-repeat;background-size:200px 200px;color:transparent;}\\n/* ê³µíµ */\\n#modoo .tit_news_etc{display:block;padding:20px 0 16px;font-weight:700;font-size:1.313em;line-height:1.19;border-bottom:solid 1px #000;}\\n#modoo .tit_list_etc{display:block;padding:10px 0 0 20px;font-weight:700;font-size:1.063em;line-height:1.29;text-indent:-20px;}\\n#modoo .etc_box{padding:20px 0;margin-top:20px;border-top:solid 1px rgba(0,0,0,0.04);}\\n#modoo .etc_box + .group_btn{justify-content:center;}\\n#modoo .news_etc .line_divider_4{margin-top:20px;padding-top:20px;border-top:solid 1px rgba(0,0,0,0.04);}\\n#modoo .news_etc .subtit_list_etc{display:block;font-weight:700;line-height:1.37;}\\n#modoo .news_etc .desc_box{padding-top:16px;}\\n#modoo .news_etc .group_btn.type_multiple{display:flex;flex-wrap:wrap;margin:-12px 0 0 -8px;}\\n#modoo .news_etc .group_btn.type_multiple .link_moreview{margin:12px 0 0 8px;}\\n#modoo .news_etc .area_etc .group_btn{text-align:left;padding-top:8px;}\\n#modoo .news_etc .list_box .tit_list_etc{padding-top:30px;}\\n#modoo .news_etc .list_etc li{position:relative;margin:8px 0 0 22px;color:rgba(0,0,0,0.72);line-height:1.37;}\\n#modoo .news_etc .list_etc li:before{display:block;position:absolute;top:8px;left:-13px;width:5px;height:5px;border-radius:50%;background-color:rgba(0,0,0,0.64);content:'';}\\n#modoo .news_etc .sublist_etc li{position:relative;margin:12px 0 0 14px;line-height:1.46;color:rgba(0,0,0,0.72);font-size:0.938em;}\\n#modoo .news_etc .sublist_etc li:before{display:block;position:absolute;top:8px;left:-12px;width:5px;height:5px;border-radius:50%;background-color:rgba(0,0,0,0.64);content:'';}\\n#modoo .news_etc .sublist_etc li + li{margin-top:20px;}\\n#modoo .news_etc .sublist_etc li .fc_emph{display:block;margin-top:8px;color:#4881F7;}\\n#modoo .news_etc .sublist_etc .tit_sublist{display:block;font-weight:400;padding-bottom:4px;}\\n#modoo .news_etc .etc_box .area_etc{padding-left:14px;}\\n#modoo .news_etc .etc_box .area_etc .desc_box{padding-top:8px;font-size:0.938em;line-height:1.46;}\\n#modoo .news_etc .bg_etc{display:block;overflow:hidden;max-width:none;font-size:0;line-height:0;text-indent:-9999px;background-repeat:no-repeat;margin:0 auto;}\\n#modoo .news_etc .bg_etc.list_process1{height:590px;background-image:url(//t1.daumcdn.net/media/news/news2024/m/img_list_process1.png);background-size:320px 590px;}\\n#modoo .news_etc .bg_etc.list_process2{height:734px;background-image:url(//t1.daumcdn.net/media/news/news2024/m/img_list_process2.png);background-size:320px 734px;}\\n#modoo .news_etc .bg_etc.list_process3{height:553px;background-image:url(//t1.daumcdn.net/media/news/news2024/m/img_list_process3.png);background-size:320px 553px;}\\n#modoo .news_etc .process_pc{display:none;}\\n#modoo .news_etc .m_hide{display:none;}\\n/* box_etc_edit */\\n#modoo .box_etc_edit .etc_box{border-bottom:solid 1px rgba(0,0,0,0.04);}\\n#modoo .box_etc_edit .etc_box .desc_box{padding-top:0;}\\n/* box_etc_newscenter24 */\\n#modoo .box_etc_newscenter24 .etc_box .desc_box{padding-top:12px;line-height:1.37;color:rgba(0,0,0,0.72);}\\n#modoo .ico_time{width:22px;height:22px;}\\n#modoo .ico_call{width:22px;height:22px;background-position:-30px 0;}\\n#modoo .ico_fax{width:22px;height:22px;background-position:-60px 0;}\\n#modoo .group_service{display:flex;flex-wrap:wrap;padding-top:4px;margin-left:-12px;}\\n#modoo .group_service .item_service{display:inline-flex;align-items:center;justify-content:flex-start;margin:12px 0 0 12px;background-color:#F2F4F7;border-radius:8px;padding:13px 18px;font-size:0.938em;font-weight:700;line-height:1.46;}\\n#modoo .group_service .item_service .ico_news{margin-right:8px;}\\n#modoo .box_etc_newscenter24 .list_box .tit_list_etc:first-child{padding-top:0;}\\n#modoo .box_etc_newscenter24 .etc_box{padding-bottom:0;}\\n#modoo .box_etc_newscenter24 .line_divider_4 + .sublist_etc li:first-child{margin-top:0;}\\n/* PC */\\n.pcweb #modoo .tit_news_etc{padding:30px 0 21px;}\\n.pcweb #modoo .line_divider_4{padding-top:30px;margin-top:30px;}\\n.pcweb #modoo .box_etc_edit,.pcweb #modoo .box_etc_newscenter24{padding-top:0;}\\n.pcweb #modoo .news_etc .m_hide{display:block;}\\n.pcweb #modoo .news_etc .pc_hide{display:none;}\\n.pcweb #modoo .news_etc .tit_news_etc{padding:30px 0 19px;}\\n.pcweb #modoo .news_etc .desc_box{padding-top:30px;}\\n.pcweb #modoo .news_etc .list_etc{margin-top:10px;}\\n.pcweb #modoo .news_etc .list_etc li{margin-top:6px;}\\n.pcweb #modoo .etc_box{margin-top:30px;padding:0;border-bottom:none;}\\n.pcweb #modoo .news_etc .group_btn{text-align:left;padding-top:16px;}\\n.pcweb #modoo .news_etc .group_btn.type_multiple{padding-top:16px;margin:0 0 0 -12px;}\\n.pcweb #modoo .news_etc .group_btn.type_multiple .link_moreview{margin:0 0 0 12px;}\\n.pcweb #modoo .group_service .item_service{margin:24px 0 0 12px;}\\n.pcweb #modoo .box_etc_newscenter24 .list_box .tit_list_etc:first-child{padding-top:30px;}\\n.pcweb #modoo .box_etc_newscenter24 .etc_box .desc_box{padding-top:16px;}\\n.pcweb #modoo .box_etc_newscenter24 .list_box .tit_list_etc{padding-top:0;}\\n.pcweb #modoo .news_etc .sublist_etc li{margin-top:30px;}\\n.pcweb #modoo .news_etc .area_etc .group_btn{padding-top:16px;}\\n.pcweb #modoo .news_etc .process_m{display:none;}\\n.pcweb #modoo .news_etc .process_pc{display:block;}\\n.pcweb #modoo .news_etc .bg_etc{max-width:none;margin-top:24px;}\\n.pcweb #modoo .news_etc .bg_etc.list_process1{height:658px;background-image:url(//t1.daumcdn.net/media/news/news2024/pc/img_list_process1_pc.png);background-size:753px 658px;}\\n.pcweb #modoo .news_etc .bg_etc.list_process3{height:320px;background-image:url(//t1.daumcdn.net/media/news/news2024/pc/img_list_process3_pc.png);background-size:735px auto;}\\n/* í¬ì¸í¸ ì»¬ë¬ */\\n:root[data-darktheme=true] #modoo .ico_news{background-image:url(//t1.daumcdn.net/media/news/news2024/m/ico_news_dark.svg);}\\n:root[data-darktheme=true] #modoo .link_refresh{background-color:#1C1E21;}\\n:root[data-darktheme=true] #modoo .doc-footer .list_foot .btn_foot,:root[data-darktheme=true] #modoo .doc-footer .list_foot #daumMinidaum a{color:rgba(255,255,255,0.72);}\\n:root[data-darktheme=true] #modoo .doc-footer .info_policy .link_policy{color:rgba(255,255,255,0.48);}\\n:root[data-darktheme=true] #modoo .doc-footer .info_service{color:rgba(255,255,255,0.48);}\\n:root[data-darktheme=true] #modoo .tit_news_etc{border-color:#fff;}\\n:root[data-darktheme=true] #modoo .etc_box,:root[data-darktheme=true] #modoo .news_etc .line_divider_4{border-color:rgba(255,255,255,0.04);}\\n:root[data-darktheme=true] #modoo .group_box{border-color:rgba(255,255,255,0.08);}\\n:root[data-darktheme=true] #modoo .group_etc .list_etc li{color:rgba(255,255,255,0.72);}\\n:root[data-darktheme=true] #modoo .group_etc .list_etc li:before{background-color:rgba(255,255,255,0.72);}\\n:root[data-darktheme=true] #modoo .group_etc .sublist_etc li{color:rgba(255,255,255,0.72);}\\n:root[data-darktheme=true] #modoo .group_etc .sublist_etc li:before{background-color:rgba(255,255,255,0.72);}\\n:root[data-darktheme=true] #modoo .group_service .item_service{background-color:#2C2E33;color:#FFF;}\\n:root[data-darktheme=true] #modoo .news_etc .sublist_etc li{color:rgba(255,255,255,0.72);}\\n:root[data-darktheme=true] #modoo .news_etc .sublist_etc li:before{background-color:rgba(255,255,255,0.64);}\\n:root[data-darktheme=true] #modoo .news_etc .list_etc li{color:rgba(255,255,255,0.72);}\\n:root[data-darktheme=true] #modoo .news_etc .list_etc li:before{background-color:rgba(255,255,255,0.64);}\\n:root[data-darktheme=true] #modoo .box_etc_edit .etc_box{border-color:rgba(255,255,255,0.04);}\\n:root[data-darktheme=true] #modoo .box_etc_newscenter24 .group_box .txt_box{color:#fff;}\\n:root[data-darktheme=true] #modoo .box_etc_newscenter24 .etc_box .desc_box{color:rgba(255,255,255,0.72);}\\n:root[data-darktheme=true] #modoo .group_etc .sublist_etc li .fc_emph{color:#78A5FF;}\",link:null}},key:\"politics\",openGraph:{description:\"ë¤ìë´ì¤\",image:\"https://t1.daumcdn.net/media/img-media/mobile/meta/news.png\",title:\"ë¤ìë´ì¤ | ì ì¹\"},name:\"ë¤ìë´ì¤ | ì ì¹\",path:\"/politics\",enabled:true,description:\"\",layoutType:\"pc\",device:\"PC\",layout:\"PC\",main:{layoutMap:[{enabled:true,layoutId:\"shared-2a36c0a0-ffd8-4822-ad6a-5c71a0b7bf01\",componentKey:\"news-gnb\",type:\"shared\",componentEnabled:true},{componentKey:\"main_content_article_aside_Container\",containers:[{layouts:[{enabled:true,componentKey:\"NewsHeadlineB\",valueId:\"47e65ffa-d9bb-4fa3-8010-4b292dfaca54\",type:\"data\"},{enabled:true,componentKey:\"PcMainBannerAd\",valueId:\"1f3c123a-dc19-489d-a18b-71d6655502e6\",type:\"data\"},{enabled:true,componentKey:\"NewsBlock\",valueId:\"b2385c9e-5625-41c6-9f0d-cf8c80e7fd27\",type:\"data\"},{enabled:true,componentKey:\"NewsBlock\",valueId:\"9802f7a9-a827-4ddc-a2b9-7b03bcf6684c\",type:\"data\"},{enabled:true,componentKey:\"NewsBlock\",valueId:\"303b55da-cd91-4dee-a6bf-764a22b2dc53\",type:\"data\"},{enabled:true,componentKey:\"NewsBlock\",valueId:\"c4d2d907-5076-445e-bac4-b9425d93c7d1\",type:\"data\"},{enabled:true,componentKey:\"NewsBlock\",valueId:\"ecd126c5-ed4a-4813-8ee1-5639380d0550\",type:\"data\"},{enabled:true,componentKey:\"PcMainBannerAd\",valueId:\"f720dcbb-19d6-4ce0-b939-423708ecc072\",type:\"data\"}]},{layouts:[{enabled:true,componentKey:\"NewsBasic\",valueId:\"8cce0b35-4aa5-4898-9b81-879c6f39ac6d\",type:\"data\"},{enabled:true,componentKey:\"PcSideBannerAd\",valueId:\"3fd2e2d7-3bda-43e2-971c-e1bc0174c8b0\",type:\"data\"},{enabled:true,layoutId:\"shared-3c1ca987-480d-4c2a-a8fc-fe2dcf97af10\",componentKey:\"news-side\",type:\"shared\",componentEnabled:true}]}],type:\"container\"},{enabled:true,layoutId:\"shared-91b2957a-fc4f-4c86-9901-9c11314a8ade\",componentKey:\"news-footer\",type:\"shared\",componentEnabled:true},{enabled:true,componentKey:\"MobileMainBannerAd\",valueId:\"cde2fece-575e-4470-9e70-5025f99e2bf4\",type:\"data\"},{enabled:true,componentKey:\"MobileMainBannerAd\",valueId:\"a251773c-2291-422a-9062-e7cebc81d02e\",type:\"data\"},{enabled:true,componentKey:\"MobileMainBannerAd\",valueId:\"6a49440b-fee2-4fa2-834d-64a06f5ea349\",type:\"data\"}],valueMap:{\"47e65ffa-d9bb-4fa3-8010-4b292dfaca54\":{pagingButton:{buttonText:\"ë´ì¤\",buttonOutlink:null,buttonType:\"refresh\"},outlink:null,tooltip:null,pageSize:9,title:\"ì ì¹ ì£¼ìë´ì¤\",newsCluster:{code:200,message:null,document:{data:{id:5972138,title:\"[ì¹ì\n",
       "2024] ì ì¹>ì£¼ìë´ì¤\",contents:[{id:\"hamny-20241122141711090\",type:\"TEXT\",title:\"677ì¡° ë´ë\n",
       " ìì°ì, ì¼ë¹ ë¬´ì°¨ë³ ì¹¼ì§â¦ë²ì ìí ì²ë¦¬ ëí­\",summary:\"(ìì¸=ë´ì¤1) íë³ì°¬ ê¸°ì = ì¬ì¼ê° 677ì¡° ì ê·ëª¨ì ë´ë\n",
       "ë ì ë¶ ìì°ìì ëê³  ííì ì ì´ì´ê°ë©° ë²ì  ì²ë¦¬ ìíì ì¬í´ë ëê¸°ë ê² ìëëë ì°ë ¤ê° ëì¨ë¤. ì ë¶ ìì°ìì ëí­ 'ì¹¼ì§'íë ¤ë ì¼ë¹ê³¼ 'ê±´ì ì¬ì ' ê¸°ì¡°ë¥¼ ì§í¤ê² ë¤ë ì¬ë¹ì´ ê³³ê³³ìì ê²©ëíê³  ìë¤. 22ì¼ ì ì¹ê¶ì ë°ë¥´ë©´ êµ­í ê¸°íì¬ì ììíë ë´ë\n",
       "ë ì ë¶ ìë¹ë¹ í¸ì±ì ëê³  ì ìë¦¬ê±¸ì\",pcUrl:\"https://v.daum.net/v/20241122141711090\",moUrl:\"https://v.daum.net/v/20241122141711090\",image:\"https://t1.daumcdn.net/news/202411/22/NEWS1/20241122141712020gevw.jpg\",cpName:\"ë´ì¤1\",cpImage:\"https://t1.daumcdn.net/media/news/news2016/cp/cp_news1.gif\",cpDarkImage:\"https://t1.daumcdn.net/media/news/2020/cp/cp_news1_dm.png\",createdAt:\"2024-11-22T14:17:11+09:00\",mediaPickDuplicateCount:0,clipLinkId:null,serviceName:\"ë´ì¤\"},{id:\"hamny-20241122141003866\",type:\"TEXT\",title:\"ì´ì¬ëª\n",
       " âìë² í ë¡ í íìââ¦ ê°ììì° í¬ììëì¸ ê³µì ë 5000ë§ìì¼ë¡ ìí¥ ì¶ì§\",summary:\"ëë¶ì´ë¯¼ì£¼ë¹ì´ ê°ììì° í¬ììëì¸ì ê³µì  íëë¥¼ ìí¥í´ ìííê² ë¤ë ìì¬ë¥¼ ë°íë¤. ì ë¶Â·ì¬ë¹ì´ ìµê·¼ ê°ììì° ê³¼ì¸ë¥¼ 2ë\n",
       " ì´ì ì ìí´ì¼íë¤ë ì\n",
       "ì¥ì ë°í ìí©ìì ë¯¼ì£¼ë¹ì´ ë¤ë¥¸ ìì ì ìíë©´ì ì¬ì¼ì ì¹ì´í ê³µë°©ì´ ììëë¤. ìì¸ë¬ ë¯¼ì£¼ë¹ì ì´ë  ìë² ê°ì ì ëë¬ì¼ ê³µê° í ë¡ íë¥¼ ì¬ê³ì í¬ìê³ ìì¸¡ì ì ìíë¤. ì§ì±ì¤ ë¯¼ì£¼ë¹ ì ì±\n",
       "ì ìì¥ì 22ì¼ êµ­í ë³¸\",pcUrl:\"https://v.daum.net/v/20241122141003866\",moUrl:\"https://v.daum.net/v/20241122141003866\",image:\"https://t1.daumcdn.net/news/202411/22/etimesi/20241122141005255zfvj.jpg\",cpName:\"ì ìì ë¬¸\",cpImage:\"https://t1.daumcdn.net/media/news/news2016/cp/cp_etimesi.gif\",cpDarkImage:\"https://t1.daumcdn.net/media/news/2020/cp/cp_etimesi_dm.png\",createdAt:\"2024-11-22T14:10:03+09:00\",mediaPickDuplicateCount:0,clipLinkId:null,serviceName:\"ë´ì¤\"},{id:\"hamny-20241122140251613\",type:\"TEXT\",title:\"ì ìì ë\n",
       "¸ì¶ë ì ë¶ìì°â¦ë°©íµì ìì°ì­ê° ì´ë»ê² ìê°íìëì?\",summary:\"ì¼ë¹ ì£¼ëì êµ­í ê³¼íê¸°ì ì ë³´ë°©ì¡íµì ììíê° ë°©ì¡íµì ììíì ì¤ì§ì  ì¸ê±´ë¹ì ì´ìì§ì ê²½ë¹, ë²ë¥ ë¹ì© ë±ì ì­ê°íìµëë¤. ê°ì¢\n",
       " ì ë¶ ìì° ì­ê°ì ë¶ì²ìì Â âì¼ì íë¼ëÂ ê±´ì§, íì§ ë§ë¼ëÂ ê±´ì§ ëª¨ë¥´ê² ë¤âë ë³¼ë©ìë¦¬ê° ë¤ë¦½ëë¤. ë°©ì¡ì¥ì\n",
       "ì© ìì°ì´ë¼ê³  ì£¼ì¥íë ì¼ë¹ê³¼ ê±°ë ì¼ë¹ì´ ì ë¶ íì ìì°ì ë°ëª©ì ì¡ê³  ìë¤ë ì¬ë¹ì´ ì\n",
       "ì¥ì´ ì²¨ìíê² ëë¦½í©ëë¤. ê²½\",pcUrl:\"https://v.daum.net/v/20241122140251613\",moUrl:\"https://v.daum.net/v/20241122140251613\",image:\"https://t1.daumcdn.net/news/202411/22/segye/20241122140251766idxq.jpg\",cpName:\"ì¸ê³ì¼ë³´\",cpImage:\"https://t1.daumcdn.net/media/news/news2016/cp/cp_segye.gif\",cpDarkImage:\"https://t1.daumcdn.net/media/news/2020/cp/cp_segye_dm.png\",createdAt:\"2024-11-22T14:02:51+09:00\",mediaPickDuplicateCount:0,clipLinkId:null,serviceName:\"ë´ì¤\"},{id:\"hamny-20241122140003511\",type:\"TEXT\",title:\"ì¬ë²ë¶ë¥¼ ì ì¹ì ê³µê²©ìì ì§ì¼ì¼ íë ì´ì  [ì´ìë¦¬ ê³§ì ìë¦¬]\",summary:\"(ìì¬ì ë=ì¥ìì ê³ ë ¤ë ë²íì ë¬¸ëíì êµì(íë²í)Â ) 11ì15ì¼ ì´ì¬ëª\n",
       " ë¯¼ì£¼ë¹ ëíì ëí ë²ìì íê²° ì´í, ê·¸ë¦¬ê³  25ì¼ì ì´ì¬ëª\n",
       " ëíì ëí ë ë¤ë¥¸ íê²°ì ìëê³ , ì ì¹ê¶ì ì¬ë²ë¶ì ëí ìë°ì´ ê±°ì¸ì§ê³  ìë¤. ë¯¼ì£¼ë¹ììë ëê·ëª¨ ì¥ì¸ì§í ë±ì¼ë¡ ì¬ë²ë¶ íê²°ì ë¹ííëê° íë©´, êµ­ë¯¼ìíììë 25ì¼ë¡ ìì ë ìì¦êµì¬ íê²°ì ëí ì ë§ì ììë´ê³ \",pcUrl:\"https://v.daum.net/v/20241122140003511\",moUrl:\"https://v.daum.net/v/20241122140003511\",image:\"https://t1.daumcdn.net/news/202411/22/sisapress/20241122140004976ypyt.jpg\",cpName:\"ìì¬ì ë\",cpImage:\"https://t1.daumcdn.net/media/news/news2016/cp/cp_sisapress.gif\",cpDarkImage:\"https://t1.daumcdn.net/media/news/2020/cp/cp_sisapress_dm.png\",createdAt:\"2024-11-22T14:00:03+09:00\",mediaPickDuplicateCount:0,clipLinkId:null,serviceName:\"ë´ì¤\"},{id:\"hamny-20241122134910200\",type:\"TEXT\",title:\"âì¬ë² ì¬íëâì ì  ì´ì¬ëª\n",
       "Â·ì¡°êµ­â¦ë¯¼ì£¼Â·íì  ìë¹ ìµë ìê¸°\",summary:\"ëë¶ì´ë¯¼ì£¼ë¹ ì´ì¬ëª\n",
       " ëíê° ì¤ë 25ì¼ ê³µì§ì ê±°ë² ìë° ê´ë ¨ 1ì¬ ì¬íì ë°ë ê°ì´ë°, ìë´ 3ë¹ì¸ ì¡°êµ­íì ë¹ ì¡°êµ­ ëíì ëí ëë²ì ìê³ ì¬ì´ ìê³ ëë©´ì ë²ì¼ê¶ ìíìì ìê¸°ë¡ ì´ íì°íê³  ìë¤. 22ì¼ ì¬ì¼ì ë°ë¥´ë©´ ìë\n",
       " ì\n",
       "ì ë¹ë¦¬ì ì²­ìë ê°ì°° ë¬´ë§ ë± íìë¡ 1Â·2ì¬ìì ì¤í ì ê³ ë¥¼ ë°ì ì¡°êµ­(58) ëíê° ë¤ì ë¬ 12ì¼ ëë²ììì íì íê²°ì\",pcUrl:\"https://v.daum.net/v/20241122134910200\",moUrl:\"https://v.daum.net/v/20241122134910200\",image:\"https://t1.daumcdn.net/news/202411/22/kyeonggi/20241122134911712sxvj.jpg\",cpName:\"ê²½ê¸°ì¼ë³´\",cpImage:\"\",cpDarkImage:null,createdAt:\"2024-11-22T13:49:10+09:00\",mediaPickDuplicateCount:0,clipLinkId:null,serviceName:\"ë´ì¤\"},{id:\"hamny-20241122121421400\",type:\"TEXT\",title:\"è ëí´ìì ììë¤, é ìê³¡ë² ë± ê°í ì²ë¦¬ì âì\n",
       "ë² í­ì£¼ ê°ë ¥ ê·íâ\",summary:\"êµ­í ëë¦¼ì¶ì°ìíí´ììì°ììí ì¬ë¹ ììë¤ì´ 22ì¼Â âìê³¡ê´ë¦¬ë² ê°ì ìâÂ ë± ìì  ë²ìì ë¨ë\n",
       " ì²ë¦¬í ì¼ë¹ì í¥í´Â âë¯¼ì£¼ë¹ì ì\n",
       "ë² í­ì£¼ë¥¼ ê°ë ¥ ê·ííë¤âê³  ë°íë¤. ëí´ìì ì¬ë¹ ê°ì¬ì¸ ì í¬ì© ììì ë¹ë¡¯íÂ êµ­ë¯¼ìí ìì ëí´ìì ììë¤ì ì´ë  ì±ëª\n",
       "ì ë´ê³ Â âë¯¼ì£¼ë¹ì ì´ì (21ì¼) ëí´ìììì ë²ììì, ìê±´ì¡°ì ììí(ìì¡°ì), ì ì²´íìÂ âë ì¹ê¸° 3ì¢\n",
       "ì¸í¸â\",pcUrl:\"https://v.daum.net/v/20241122121421400\",moUrl:\"https://v.daum.net/v/20241122121421400\",image:\"https://t1.daumcdn.net/news/202411/22/segye/20241122142141489gnqq.jpg\",cpName:\"ì¸ê³ì¼ë³´\",cpImage:\"https://t1.daumcdn.net/media/news/news2016/cp/cp_segye.gif\",cpDarkImage:\"https://t1.daumcdn.net/media/news/2020/cp/cp_segye_dm.png\",createdAt:\"2024-11-22T12:14:21+09:00\",mediaPickDuplicateCount:0,clipLinkId:null,serviceName:\"ë´ì¤\"},{id:\"hamny-20241122120856317\",type:\"TEXT\",title:\"ê¸í¬ì¸ ì§ëë 'ìë²Â·ì½ì¸ê³¼ì¸' ë¶ëªí ë¯¼ì£¼â¦ëí ì ëµ ê³ ì¬\",summary:\"(ìì¸=ì°í©ë´ì¤) ì¤ì¹ì ì¤ê·ì§ ê¸°ì = ìë² ê°ì ê³¼ ê°ììì° ê³¼ì¸ ë¬¸ì ë¥¼ ëê³  22ì¼ ëë¶ì´ë¯¼ì£¼ë¹ì ê³ ë¯¼ì´ ê¹ì´ì§ê³  ìë¤. 'ë¨¹ì¬ëì¦'ì¼ë¡ ëíëë ì¤ì© ë\n",
       "¸ì ì í´ì¨ ì´ì¬ëª\n",
       " ëíê° ì´ë¬ ì´ ì´ë ¤ì´ ì£¼ì ìì¥ ìí©ê³¼ ê°ë¯¸ í¬ìì ë°ë°ì ê³ ë ¤í´ ë¹ë¡ ì ë²ë³µíê³  ê¸ìµí¬ììëì¸ íì§ ê²°ì ì ë´ë¦¬ìë§ì ë ë¤ë¥¸ ì°ì ë§ë íêµ­ì´ë¤. ë¬¼ë¡  ì¬ì í ìë² ê°ì ìì ì°\",pcUrl:\"https://v.daum.net/v/20241122120856317\",moUrl:\"https://v.daum.net/v/20241122120856317\",image:\"https://t1.daumcdn.net/news/202411/22/yonhap/20241122120856323qhhd.jpg\",cpName:\"ì°í©ë´ì¤\",cpImage:\"https://t1.daumcdn.net/media/news/news2016/cp/cp_yonhap.gif\",cpDarkImage:\"https://t1.daumcdn.net/media/news/2020/cp/cp_yonhap_dm.png\",createdAt:\"2024-11-22T12:08:56+09:00\",mediaPickDuplicateCount:0,clipLinkId:null,serviceName:\"ë´ì¤\"},{id:\"hamny-20241122120449250\",type:\"TEXT\",title:\"íµë¬´ê¸° ìì í¸ë¼íìë ì ê·¸ì ê¹ì ìâ¦'ë¸ë¡ë§¨ì¤' ë¶í ìë¤\",summary:\"(ìì¸=ë´ì¤1) ìµìë§ ê¸°ì = ê¹ì ì ë¶í ë\n",
       "¸ëë¹ ì´ë¹ìê° 'ê°ë³í ì¹ë¶'ì´ ìë¤ë ëëë í¸ë¼í ëíµë ¹ ë¹ì ì¸ì´ ì§ê¶íëë¼ë ë¹ë¶ê° ë¯¸êµ­ê³¼ ëíì ìì¬ê° ììì ìì¬íë¤. ë¬ììì ë¬´ê¸°ë¥¼ ìì¶íê³  êµ°ëë¥¼ íë³í ë° ì´ì´ ì í¬ ì°¸ì¬ê¹ì§ ëìê³  ìë ìí©ìì ë¯¸êµ­ë³´ë¨ ë¬ìììì ê´ê³ì ë¬´ê²ë¥¼ ëë©° 'êµ­ë°©ë ¥ ê°í'ì ì ë\n",
       "íê² ë¤ë ë©ìì§ë¥¼ ë¶ëª\n",
       "í íë¤. ë\n",
       "¸\",pcUrl:\"https://v.daum.net/v/20241122120449250\",moUrl:\"https://v.daum.net/v/20241122120449250\",image:\"https://t1.daumcdn.net/news/202411/22/NEWS1/20241122120449987gjhf.jpg\",cpName:\"ë´ì¤1\",cpImage:\"https://t1.daumcdn.net/media/news/news2016/cp/cp_news1.gif\",cpDarkImage:\"https://t1.daumcdn.net/media/news/2020/cp/cp_news1_dm.png\",createdAt:\"2024-11-22T12:04:49+09:00\",mediaPickDuplicateCount:0,clipLinkId:null,serviceName:\"ë´ì¤\"},{id:\"hamny-20241122120310225\",type:\"TEXT\",title:\"ê³¨íì§ ë¬´ì¸ê¸°ë¶í° ICBMê¹ì§â¦âNK-ë°©ì°â ì¼ì¼ì´ì¤ì ê¹ì ì âìëª¸ ë¯¸ìâ\",summary:\"ë¶íì´ ì¬í´ë ë¬´ê¸° ì ìíë¥¼ ì´ì´ ê°ì¢\n",
       " ì¥ë¹ì ëë° ì­ëì ê³¼ìíë©´ì ë¬ììë¥¼ í¥í âë¬´ê¸° ì¼ì¼ì´ì¤âë¥¼ ê°ìµíë¤. ë¬´ì¥ì¥ë¹ì ìí âêµ­ë°©ë°ì -2024âê° 21ì¼ íììì ê°ë§íë¤ê³  ë¶í ì¡°ì ì¤ìíµì ì´ 22ì¼ ë³´ëíë¤. ë¶íì ì§ëí´ 7ì ë¬ìì êµ°ì¬ëíë¨ì ì´ì²­í´ âë¬´ì¥ì¥ë¹ì ìí-2023âì ì´ìëë° ê·¸ ì°¨ê¸° íì¬ë¤. ë¶íì 2021ë\n",
       "ìë\",pcUrl:\"https://v.daum.net/v/20241122120310225\",moUrl:\"https://v.daum.net/v/20241122120310225\",image:\"https://t1.daumcdn.net/news/202411/22/munhwa/20241122120312027lqde.jpg\",cpName:\"ë¬¸íì¼ë³´\",cpImage:\"https://t1.daumcdn.net/media/news/news2016/cp/cp_munhwa.gif\",cpDarkImage:\"https://t1.daumcdn.net/media/news/2020/cp/cp_munhwa_dm.png\",createdAt:\"2024-11-22T12:03:10+09:00\",mediaPickDuplicateCount:0,clipLinkId:null,serviceName:\"ë´ì¤\"},{id:\"hamny-20241122120144174\",type:\"TEXT\",title:\"å°¹ ë¶ë¶ ì´ëª\n",
       "Â ê²ì°° ì¹¼ëì ë¬ë ¸ë¤â¦ëë ìì ì ë ì»¤ì§Â âê¹ê±´í¬ ë¦¬ì¤í¬â\",summary:\"(ìì¬ì ë=ë°ëì ê¸°ì) \\\"ì¸ë¡ ì´ ê±±ì íë 'ê¼¬ë¦¬ ìë¥´ê¸°' (ê¸°ë¥)ë ì ê° ëë¼ê¸°ì ì í ììµëë¤. ìì¬ë¥¼ ì ííê², ì±ì­ ìì´ íë ¤ë ëª¨ìµì ë§ì´ ë³´ì¬ì ì ê° ëëì´ 'ê²ì°°ì ë¯¿ëë¤'ë ìê¸°ë¥¼ íê³  ììµëë¤.\\\" ì¤ìì´ ëíµë ¹ ë¶ë¶ì ê³µì² ê°ì\n",
       " ìí¹ í¤ë§¨ì´ì ì ë³´ìë¡ ê²ì°° ì¡°ì¬ë¥¼ ë°ê³  ìë ê°íê²½ì¨ê° 11ì20ì¼ JTBC ì¸í°ë·°ìì í ë§ì´ë¤. ê¹ìì  ì \",pcUrl:\"https://v.daum.net/v/20241122120144174\",moUrl:\"https://v.daum.net/v/20241122120144174\",image:\"https://t1.daumcdn.net/news/202411/22/sisapress/20241122120145587oswp.jpg\",cpName:\"ìì¬ì ë\",cpImage:\"https://t1.daumcdn.net/media/news/news2016/cp/cp_sisapress.gif\",cpDarkImage:\"https://t1.daumcdn.net/media/news/2020/cp/cp_sisapress_dm.png\",createdAt:\"2024-11-22T12:01:44+09:00\",mediaPickDuplicateCount:0,clipLinkId:null,serviceName:\"ë´ì¤\"},{id:\"hamny-20241122114134582\",type:\"TEXT\",title:\"ê¹ìì¼ ì  ëíµë ¹ ì¶ëª¨ìâ¦ì¬ì¼ ì§ëë¶ \\\"ê¹ìì¼ ì ì  ê³ì¹\\\" íëª©ìë¦¬\",summary:\"[ìì¸=ë´ìì¤] ì´ì¹ì¬ íìì§ ê¸°ì = ì¬ì¼ ì§ëë¶ë 22ì¼ ê³ (æ\n",
       ") ê¹ìì¼(YS) ì  ëíµë ¹ 9ì£¼ê¸° ì¶ëª¨ìì ì°¸ìí´ 'ê¹ìì¼ ì ì ê³¼ ìì§'ë¥¼ ìê² ë¤ë©° íëª©ìë¦¬ë¥¼ ëë¤. ì°ìì êµ­íìì¥ì ì´ë  ìì¸ ëìë êµ­ë¦½íì¶©ììì ì§íë ì¶ëª¨ììì \\\"ê¹ìì¼ ì  ëíµë ¹ì í° ì ì¹ë¥¼ ì¤ì²í ì ì¹ì¸ì´ìë¤\\\"ê³  ë°íë¤. ì° ìì¥ì \\\"ë¯¼ì£¼íë¼ë ìëì ì ì ì¤ì²íê¸° ìí´ ëª©ì¨\",pcUrl:\"https://v.daum.net/v/20241122114134582\",moUrl:\"https://v.daum.net/v/20241122114134582\",image:\"https://t1.daumcdn.net/news/202411/22/newsis/20241122114134178sddg.jpg\",cpName:\"ë´ìì¤\",cpImage:\"https://t1.daumcdn.net/media/news/news2016/cp/cp_newsis.gif\",cpDarkImage:\"https://t1.daumcdn.net/media/news/2020/cp/cp_newsis_dm.png\",createdAt:\"2024-11-22T11:41:34+09:00\",mediaPickDuplicateCount:0,clipLinkId:null,serviceName:\"ë´ì¤\"},{id:\"hamny-20241122113902501\",type:\"TEXT\",title:\"ê³ì í°ì§ë ëª\n",
       "íê·  ìí¹, ì°½ììë í´ëª\n",
       " ë í´ëª\n",
       "\",summary:\"[ì¤ì±í¨ ê¸°ì] â² Â ì¤ìì´-ê¹ê±´í¬ ëíµë ¹ ë¶ë¶ ê³µì²ê°ì\n",
       " ìí¹ì íµì¬ ì¸ë¬¼ì¸ ëª\n",
       "íê· ì¨ê° ì§ë 11ì 8ì¼ ì¤ì  ì°½ìì§ë°©ê²ì°°ì²­ì ìíì¡°ì¬ë¥¼ ë°ê¸° ìí´ ì¶ìíê³  ìë¤.â ì¤ì±í¨ëíµë ¹ ë¶ë¶ì ê³µì²ê°ì\n",
       "ê³¼ êµ­ì ëë¨ ìí¹ì íµì¬ ê´ê³ìì¸ ëª\n",
       "íê· (54)ì¨ê° ì°½ììì ì¬ë¬ ì ì±\n",
       "(ì¬ì\n",
       ")ì ê´ì¬íë¤ë ìí¹ì´ ì¼ê³  ìë ê°ì´ë°, ì°½ììë ì°ì´ì´ ëì¤ë ì¸ë¡ ë³´ë ë±ì 'í´ëª\n",
       "ìë£\",pcUrl:\"https://v.daum.net/v/20241122113902501\",moUrl:\"https://v.daum.net/v/20241122113902501\",image:\"https://t1.daumcdn.net/news/202411/22/ohmynews/20241122113903578ysfj.jpg\",cpName:\"ì¤ë§ì´ë´ì¤\",cpImage:\"https://t1.daumcdn.net/media/news/news2016/cp/cp_ohmynews.gif\",cpDarkImage:\"https://t1.daumcdn.net/media/news/2020/cp/cp_ohmynews_dm.png\",createdAt:\"2024-11-22T11:39:02+09:00\",mediaPickDuplicateCount:0,clipLinkId:null,serviceName:\"ë´ì¤\"},{id:\"hamny-20241122113743441\",type:\"TEXT\",title:\"å°¹ ëíµë ¹ ì§ì§ì¨ 20% âì ì²´â ëª, âê¹ê±´í¬ ì¬ì¬â ë¦¬ì¤í¬.. ë¯¼ì£¼ë¹ ë´í, í´ë²ì ìë?\",summary:\"ì¤ìì´ ëíµë ¹ì êµ­ì  ì§ì§ì¨ì´ 20%ì ë¨¸ë¬¼ë©´ì í ë¬ ê°ê¹ì´ í¡ë³´ ììì ì´ì´ê°ìµëë¤. íµì¬ ì§ì§ ì§ì­ì¸ ëêµ¬Â·ê²½ë¶(TK)ìì 40%ë¥¼ ëì´ìë©° ì êµ­ íê· ì ìííì§ë§, ì ì²´ì ì¸ ë¶ì  íê°ë 72%ë¡ ì´ì  ì¡°ì¬ ëë³´ë¤ ì¬ë¼ ìì¹ì¸ë¥¼ ë³´ììµëë¤. ì¬ë¡ ì¡°ì¬ê¸°ê´ íêµ­ê°¤ë½ì´ ì§ë 19ì¼ë¶í° 21ì¼ê¹ì§ ì¤ìí ì¬ë¡ ì¡°ì¬ìì ëë¬ë ë¯¼ì¬ íë¦ì´ ì¬ê¶ì´ë ì¼ê¶ ëª¨ë\",pcUrl:\"https://v.daum.net/v/20241122113743441\",moUrl:\"https://v.daum.net/v/20241122113743441\",image:\"https://t1.daumcdn.net/news/202411/22/jibs/20241122113859587bzdz.jpg\",cpName:\"JIBS\",cpImage:\"https://t1.daumcdn.net/media/news/news2016/cp/cp_jibs.gif\",cpDarkImage:\"https://t1.daumcdn.net/media/news/2020/cp/cp_jibs.png\",createdAt:\"2024-11-22T11:37:43+09:00\",mediaPickDuplicateCount:0,clipLinkId:null,serviceName:\"ë´ì¤\"},{id:\"hamny-20241122112954163\",type:\"TEXT\",title:\"ê°ììì° ê³¼ì¸ì ì¬ \\\"2ë\n",
       " ì ì\\\" ì¼ \\\"ìííë ê³µì íë ìí¥\\\"â¦ê¸í¬ì¸ ì ì²  ë°ë\",summary:\"[ìì¸=ë´ìì¤] ê¹ì§ì ê¸°ì = ì¬ì¼ê° ë´ë\n",
       " 1ì 1ì¼ ìí ìì ì¸ 'ê°ììì°(ì½ì¸) ìë ê³¼ì¸'ë¥¼ ëê³ ë ì ì ë° ìíë¥¼ ì£¼ì¥íë©´ì íì§ ììì¼ë¡ ê° ê¸ìµí¬ììëì¸(ê¸í¬ì¸)ì ì ì² ì ë°ë ê² ìëëë ê´ì¸¡ì´ ëì¤ê³  ìë¤. ì´ë¥¼ ëê³  ì§ì§ì¨ì ììí 'ê°ì¸ í¬í°ë¦¬ì¦'ì´ë¼ë ë¹íë ëì¨ë¤. 22ì¼ ì ì¹ê¶ì ë°ë¥´ë©´ êµ­íì ë´ë\n",
       "ë ì¸ë² ê°ì ì ì¬ì¬ìì 'ê°\",pcUrl:\"https://v.daum.net/v/20241122112954163\",moUrl:\"https://v.daum.net/v/20241122112954163\",image:\"https://t1.daumcdn.net/news/202411/22/newsis/20241122112954408dcwr.jpg\",cpName:\"ë´ìì¤\",cpImage:\"https://t1.daumcdn.net/media/news/news2016/cp/cp_newsis.gif\",cpDarkImage:\"https://t1.daumcdn.net/media/news/2020/cp/cp_newsis_dm.png\",createdAt:\"2024-11-22T11:29:54+09:00\",mediaPickDuplicateCount:0,clipLinkId:null,serviceName:\"ë´ì¤\"},{id:\"hamny-20241122105704809\",type:\"TEXT\",title:\"ì¡°ì°¬ê¸°ëí ê° ì¤ ëíµë ¹ \\\"ì·¨ì ë ì ë§ ì´ë ¤ì ëë°, ì´ì  ê²½ì  íë ¥\\\"\",summary:\"[ê¹ê²½ë\n",
       " ê¸°ì] â² Â ì¤ìì´ ëíµë ¹ì´ 22ì¼ ìì¸ ì¤êµ¬ ì ë¼í¸í\n",
       "ìì ì´ë¦° ì 56í êµ­ê°ì¡°ì°¬ê¸°ëíìì ê¸°ëíê³  ìë¤.â ëíµë ¹ì¤íµì ì¬ì§ê¸°ìë¨í´ì¸ìë°©ì ë§ì¹ê³  ì ë  ê·êµ­í ì¤ìì´ ëíµë ¹ì´ 22ì¼ ì¤ì  ìì¸ ì¤êµ¬ ì ë¼í¸í\n",
       "ìì ê°ìµë 'ì 56í ëíë¯¼êµ­ êµ­ê°ì¡°ì°¬ê¸°ëí'ì ì°¸ìíë¤. ì´ ìë¦¬ìì ì¤ ëíµë ¹ì ìê¸°íë°ê¸°ë¥¼ ë§ì ìë£, êµì¡, ë\n",
       "¸ë, ì°ê¸ ë± 4ëê°íì\",pcUrl:\"https://v.daum.net/v/20241122105704809\",moUrl:\"https://v.daum.net/v/20241122105704809\",image:\"https://t1.daumcdn.net/news/202411/22/ohmynews/20241122105705738wejk.jpg\",cpName:\"ì¤ë§ì´ë´ì¤\",cpImage:\"https://t1.daumcdn.net/media/news/news2016/cp/cp_ohmynews.gif\",cpDarkImage:\"https://t1.daumcdn.net/media/news/2020/cp/cp_ohmynews_dm.png\",createdAt:\"2024-11-22T10:57:04+09:00\",mediaPickDuplicateCount:0,clipLinkId:null,serviceName:\"ë´ì¤\"},{id:\"hamny-20241122104850491\",type:\"TEXT\",title:\"ëíµë ¹ì¤, ìê·¹í í´ìì ì¬ì í¬ì\n",
       " ëë¦°ë¤â¦\\\"ì¶ê²½ë ë°°ì ìí´\\\"\",summary:\"(ìì¸=ì°í©ë´ì¤) ê¹ì¹ì° ê³½ë¯¼ì ê¸°ì = ëíµë ¹ì¤ì´ ì¤ìì´ ëíµë ¹ì ìê¸° íë°ê¸°ë¥¼ ë§ì ìê·¹í í´ìë¥¼ ìí ì¬ì  í¬ì\n",
       "ì ëë¦¬ê¸°ë¡ íë¤. ì¬ì  ê±´ì ì±ì ì°ì ìí ìê¸° ì ë°ê¸° ì ì±\n",
       " ê¸°ì¡°ë¥¼ ë°íì¼ë¡ íë íë°ê¸°ìë ìê·¹í í´ì ëì±\n",
       " ë± íìí ë¶ë¶ìì  ì¬ì ì ì ê·¹ì  ì­í ì íëí´ ê°ê² ë¤ë ì·¨ì§ë¡ íì´ëë¤. ëíµë ¹ì¤ì ì´ ê³¼ì ìì ì¶ê°ê²½ì ìì° í¸ì±ì ë°°ì íì§ ìë\",pcUrl:\"https://v.daum.net/v/20241122104850491\",moUrl:\"https://v.daum.net/v/20241122104850491\",image:\"https://t1.daumcdn.net/news/202411/22/yonhap/20241122104850967dwqm.jpg\",cpName:\"ì°í©ë´ì¤\",cpImage:\"https://t1.daumcdn.net/media/news/news2016/cp/cp_yonhap.gif\",cpDarkImage:\"https://t1.daumcdn.net/media/news/2020/cp/cp_yonhap_dm.png\",createdAt:\"2024-11-22T10:48:50+09:00\",mediaPickDuplicateCount:0,clipLinkId:null,serviceName:\"ë´ì¤\"},{id:\"hamny-20241122103617925\",type:\"TEXT\",title:\"ì¥ì¸ì§í 'íëì·' ê¸ì§ë ¹â¦ë ì¨ ì¶ìì ¸ ë§ë ì· ìê³  ê²°í¼ì ëë¬¸ì?\",summary:\"ê¹ë³ì£¼ ëë¶ì´ë¯¼ì£¼ë¹ ìµê³ ììì´ ë¯¼ì£¼ë¹ì´ ì£¼ë§ ì¥ì¸ì§íë¥¼ ìëê³  ë¹ìë¤ìê² 'íëì ì· ê¸ì§ë ¹'ì ë´ë¦° ê²ê³¼ ê´ë ¨ \\\"ë ì¨ê° ì¶ìì§ê³  íëê¹ ì¬ì¤ íë ì·ì´ ë§ë ê² ë³ë¡ ìë¤\\\"ë©° ë ì¨ì í ìì¼ ê²°í¼ì ë±ì ì´ì ë¡ ë¤ìë¤. ê¹ë³ì£¼ ìµê³ ììì 22ì¼ ì¤ì  SBSë¼ëì¤ 'ì ì¹ì¼'ìì \\\"ì´ì  ë¡±í¨ë©ì ì\n",
       "ì´ì¼ ëë ìì \\\"ì´ë¼ë©° 'ì¥ì¸ì§í íë ì· ê¸ì§ë ¹'ì ì´ì ë¥¼\",pcUrl:\"https://v.daum.net/v/20241122103617925\",moUrl:\"https://v.daum.net/v/20241122103617925\",image:\"https://t1.daumcdn.net/news/202411/22/dailian/20241122103619930steu.jpg\",cpName:\"ë°ì¼ë¦¬ì\",cpImage:\"https://t1.daumcdn.net/media/news/news2016/cp/cp_dailian.gif\",cpDarkImage:\"https://t1.daumcdn.net/media/news/2020/cp/cp_dailian_dm.png\",createdAt:\"2024-11-22T10:36:17+09:00\",mediaPickDuplicateCount:0,clipLinkId:null,serviceName:\"ë´ì¤\"},{id:\"hamny-20241122103357794\",type:\"TEXT\",title:\"í¸ë¼í2.0 ìë, íêµ­ì ì´ë»ê² ëìí´ì¼ íëâ¦ì ìê¸°ë\n",
       "ì¬ì\n",
       "í ëì§í¬ë¼ ê°ìµ\",summary:\"ì ìê¸°ë\n",
       "ì¬ì\n",
       "í(íì¥ ë°±ì¹ì£¼ ì  êµ­íìì)ë 21ì¼ ì¤í ì ìê¸°ë\n",
       "ê´ìì â2ê¸° í¸ë¼í íì ë¶ ì¶ë²ê³¼ íë°ë ì ì¸âë¥¼ ì£¼ì ë¡ ì 5í KWOëì§í¬ë¼(ëë¼ë¥¼ ì§í¤ë í¬ë¼)ì ì´ìë¤. í ë¡ ìë¡ ëì  ë°ìê³¤ ì´íì¬ë ë¶ííê³¼ êµì(íµì¼íì°êµ¬ìì¥), ìµì¤í¬ ëíë¯¼êµ­ í´ìì°ë§¹ ì´ì¬(ì  í©ì°½ìì¥) ê¹ìì ì  ì ìì¬ë¬´ì°¨ì¥, ì ìí¸ ëìë·ì»´ ì ë¬´ì´ì¬(ëìì¼ë³´ íì íê³¼ì¬ë¨ ì°\",pcUrl:\"https://v.daum.net/v/20241122103357794\",moUrl:\"https://v.daum.net/v/20241122103357794\",image:\"https://t1.daumcdn.net/news/202411/22/donga/20241122103400351abhf.jpg\",cpName:\"ëìì¼ë³´\",cpImage:\"https://t1.daumcdn.net/media/news/news2016/cp/cp_donga.gif\",cpDarkImage:\"https://t1.daumcdn.net/media/news/2020/cp/cp_donga_dm.png\",createdAt:\"2024-11-22T10:33:57+09:00\",mediaPickDuplicateCount:0,clipLinkId:null,serviceName:\"ë´ì¤\"},{id:\"hamny-20241122102052201\",type:\"TEXT\",title:\"é ë¹ì ê²ìí ë\n",
       "¼ëì âì¡°ì©í ì¹ì¤â?...28ì¼ ì´í ì£¼ëª©[ì´ë°ì ì¹]\",summary:\"[í¤ë´ëê²½ì =ì íì£¼ ê¸°ì] íëí êµ­ë¯¼ìí ëíê° ë³¸ì¸ê³¼ ê°ì¡±ì ëë¬ì¼ ë¹ì ê²ìí ë\n",
       "¼ëì ëí ë¹ë¬´ê°ì¬ì ì  ê·¸ì ê°ì´ë° ì¹ì¤(ì¤ìì´)ê³ììë 11ì 28ì¼ì´ âë¶ê¸°ì âì´ ë  ê²ì´ë¼ë ê´ì¸¡ì´ ëì¨ë¤. ì¤ë 25ì¼ ì´ì¬ëª\n",
       " ëë¶ì´ë¯¼ì£¼ë¹ ëíì ìì¦êµì¬ íì 1ì¬ì´ ì´ë¤ì§ê³  28ì¼ìë ê¹ê±´í¬ ì¬ì¬ í¹ê²ë² ì¬íê²°ì´ ììëë©´ìë¤. ë\n",
       "¼ëì ëì´ë´ë ¤ë ì¹í(íëí\",pcUrl:\"https://v.daum.net/v/20241122102052201\",moUrl:\"https://v.daum.net/v/20241122102052201\",image:\"https://t1.daumcdn.net/news/202411/22/ned/20241122102052868lslu.jpg\",cpName:\"í¤ë´ëê²½ì \",cpImage:\"https://t1.daumcdn.net/media/news/news2016/cp/cp_ned.gif\",cpDarkImage:\"https://t1.daumcdn.net/media/news/2020/cp/cp_ned_dm.png\",createdAt:\"2024-11-22T10:20:52+09:00\",mediaPickDuplicateCount:0,clipLinkId:null,serviceName:\"ë´ì¤\"},{id:\"hamny-20241122102013164\",type:\"TEXT\",title:\"TVì¡°ì  ìµì»¤, 'ê¸°ì ë¬´ë¡'ì \\\"ìì¡°ìë? 'ê°í ì´ë ìì ì´ë¼ê³ 'ë¡ ë¤ë ¤\\\"\",summary:\"\\\"ê¸°ìê° ë¬´ë¡íë¤? êµ­ë¯¼ì´ ë¬´ë¡íë¤ë ë§ê³¼ ë§ì°¬ê°ì§\\\" ê¹ì§ë°© êµ­ë¯¼ì¼ë³´ ëì§í¸ë´ì¤ì¼í°ì¥ \\\"ì¬ê³¼ ê³µì§ê° ë¬´ë¡\\\" [ë¯¸ëì´ì¤ë ] ë°ìí¸ ë¶ì°ì¼ë³´ ê¸°ìê° ì¤ìì´ ëíµë ¹ì ê² ë­ ì¬ê³¼íëì§ ì´ë¦¬ë¥ì íë¤ê³  ì§ë¬¸í ê²ì´ ë¬´ë¡í ì§ë¬¸ì´ë¼ê³  í íì² í¸ ëíµë ¹ì¤ ì ë¬´ììì ëê³  TVì¡°ì  ìµì»¤ê° âìì¡°ìëì ì¬ë ëª¨ìâì´ë¼ë©° âì´ë ìì ì´ë¼ê³ ë¼ê³  ë§íë ê²ì¼ë¡ ë¤ë¦°ë¤âê³  ì§\",pcUrl:\"https://v.daum.net/v/20241122102013164\",moUrl:\"https://v.daum.net/v/20241122102013164\",image:\"https://t1.daumcdn.net/news/202411/22/mediatoday/20241122102015195vogc.jpg\",cpName:\"ë¯¸ëì´ì¤ë\",cpImage:\"https://t1.daumcdn.net/media/news/news2016/cp/cp_mediatoday.gif\",cpDarkImage:\"https://t1.daumcdn.net/media/news/2020/cp/cp_mediatoday_dm.png\",createdAt:\"2024-11-22T10:20:13+09:00\",mediaPickDuplicateCount:0,clipLinkId:null,serviceName:\"ë´ì¤\"},{id:\"hamny-20241122101225819\",type:\"TEXT\",title:\"ë¤ì ëª©ìë¦¬ë´ë ë¹ëª\n",
       "ê³ âì£½ì¸ë¤ê³  ìì£½ì´...ë¹ëíí  ì¬ë ìëë£©â\",summary:\"ë¹ì´ì¬ëª\n",
       "(ë¹ëª\n",
       ")ê³ ì¸ì¬ë¤ì´ ë¤ì ëª©ìë¦¬ë¥¼ ë´ë ëª¨ìµì´ë¤. ì´ì¬ëª\n",
       " ëë¶ì´ë¯¼ì£¼ë¹ ëíê° í¼ì ê±°ê¶ ë°í ìê¸°ì ì²íì ì¹ëª\n",
       "(ì¹ì´ì¬ëª\n",
       ")ê³ì ì´ ëí ê°ì±ì§ì§ìë¤ì ë¹ëª\n",
       "ê³ë¥¼ ê²¬ì íê³ , âìì§ì´ë©´ ì£½ëë¤âë ë± ê²½ê³ ì¥ì ë ë ¤ìë¤. 22ì¼ ì´ ëíì ë¹ê¶ì ëê³  ê²½ìíë ê¹ëê´ ì  ê²½ë¨ëì§ì¬ë KBSë¼ëì¤ âì ê²©ìì¬âìì âì£½ì¸ë¤ê³  ì£½ë ê²ë ìëê³  ì¤íë ¤ ë¯¼ì£¼ë¹ì ê°\",pcUrl:\"https://v.daum.net/v/20241122101225819\",moUrl:\"https://v.daum.net/v/20241122101225819\",image:\"https://t1.daumcdn.net/news/202411/22/mk/20241122101228362hcue.jpg\",cpName:\"ë§¤ì¼ê²½ì \",cpImage:\"https://t1.daumcdn.net/media/news/news2016/cp/cp_mk.gif\",cpDarkImage:\"https://t1.daumcdn.net/media/news/2020/cp/cp_mk_dm.png\",createdAt:\"2024-11-22T10:12:25+09:00\",mediaPickDuplicateCount:0,clipLinkId:null,serviceName:\"ë´ì¤\"},{id:\"hamny-20241122100056298\",type:\"TEXT\",title:\"ë³´ììë¡ ì´ìì° \\\"å°¹ ìê¸° 1ë\n",
       " ë¨ì¶, ê°í í 2026ë\n",
       " ëì  í´ì¼\\\"\",summary:\"ì´ëª\n",
       "ë° ì ë¶ ë ë²ì ì²ì¥ì ì§ë¸ ì´ìì° ëìë ìì¢êµìê° \\\"ì§ê¸ ëíµë ¹ì ì¶êµ¬ì ëµ ì¤ ê·¸ëë ê°ì¥ íì¤ì± ìë ê²ì ìê¸°ë¥¼ 1ë\n",
       " ë¨ì¶íë ê°íìì ëíµë ¹ ì¤ì¤ë¡ ë°ìíê³  2026ë\n",
       " ì§ë°©ì ê±°ì ê°ì´ (ëíµë ¹)ì ê±°ë¥¼ íë ê²\\\"ì´ë¼ê³  ê³µê° ì£¼ì¥íë¤. ë³´ìì§ì ìë¡ë¡ë¶í° 'ì¤ìì´ ëíµë ¹ ìê¸° ë¨ì¶' ì£¼ì¥ì´ ëì¨ ê²ì´ì´ì ëê¸¸ì ëìë¤. ì´ ì  ë²ì ì²ì¥ì 22ì¼ ê¸°\",pcUrl:\"https://v.daum.net/v/20241122100056298\",moUrl:\"https://v.daum.net/v/20241122100056298\",image:\"https://t1.daumcdn.net/news/202411/22/pressian/20241122100058193ausx.jpg\",cpName:\"íë ìì\",cpImage:\"https://t1.daumcdn.net/media/news/news2016/cp/cp_pressian.gif\",cpDarkImage:\"https://t1.daumcdn.net/media/news/2020/cp/cp_pressian_dm.png\",createdAt:\"2024-11-22T10:00:56+09:00\",mediaPickDuplicateCount:0,clipLinkId:null,serviceName:\"ë´ì¤\"},{id:\"hamny-20241122094533691\",type:\"TEXT\",title:\"ì²¨ë¨ ë¬´ì¸ì  ìëê° ì¨ë¤â¦âì ë ¹ì í¨â ë¬´ì¸ê¸° í­ëª¨ ì£¼ëª©ë°ë ì´ì ë [ë°ìì°¬ì è»]\",summary:\"ì§ë 12ì¼ í¬í­ ëìª½ í´ì. íêµ­ í´êµ°ìì ê°ì¥ í° í¨ì ì¸ ëíìì¡í¨ ë\n",
       "ëí¨ ê°íì´ ë¶ì£¼í´ì¡ë¤. ë¯¸êµ­ ì ëë´ìí ë¯¹ì¬ìì ë§ë  ëª¨íë¹ ë¬´ì¸ê¸°ë¥¼ ë¹íê°íìì ëì°ë ì¤íì ì§ííê¸° ìí´ììë¤. ìê°ì´ ëì ëª¨íë¹ ë¬´ì¸ê¸°ë 90më¥¼ ì§ì£¼í´Â ë¹íê°íìì ë ìì¬ëë¤. ê³ ì ìµ ë¬´ì¸ê¸°ê° ëíÂ ë¹íê°íì ê°ì¶ ìë¥í¨ê¸ í¨ì ìì ì´ì©ì´ ê°ë¥íë¤ë ì ì ì\n",
       "ì¦í ìê°ì´ìë¤.\",pcUrl:\"https://v.daum.net/v/20241122094533691\",moUrl:\"https://v.daum.net/v/20241122094533691\",image:\"https://t1.daumcdn.net/news/202411/22/segye/20241122094533241ppnl.jpg\",cpName:\"ì¸ê³ì¼ë³´\",cpImage:\"https://t1.daumcdn.net/media/news/news2016/cp/cp_segye.gif\",cpDarkImage:\"https://t1.daumcdn.net/media/news/2020/cp/cp_segye_dm.png\",createdAt:\"2024-11-22T09:45:33+09:00\",mediaPickDuplicateCount:0,clipLinkId:null,serviceName:\"ë´ì¤\"},{id:\"hamny-20241122094250582\",type:\"TEXT\",title:\"è âì±í´ë³ êµ­ì¡° ì°¸ì¬ ëª»í´ââ¦é ë¨ë\n",
       " ê°ë¬¸ë°ì°¨[ì´ë°ì ì¹]\",summary:\"[í¤ë´ëê²½ì  ê¹í´ìÂ·ì íì£¼ ê¸°ì] ì¬ë¹ì´ ì°ìì êµ­íìì¥ ì¸¡ì ì±í´ë³ ì¬ê±´ êµ­ì ì¡°ì¬ì ìí  ì ìë¤ë ì\n",
       "ì¥ì ì ë¬í¨ì¼ë¡ì¨ ì§ë 1999ë\n",
       " ì´í 25ë\n",
       " ë§ì ì¼ë¹ë§ ì°¸ì¬íë âë¨ë\n",
       " êµ­ì¡°â ì§í ê°ë¥ì±ì´ ëìì¡ë¤. 22ì¼ ì ì¹ê¶ì ë°ë¥´ë©´ êµ­ë¯¼ìíì ì ë (21ì¼) ì¤ì  êµ­íìì¥ì¤ì âí©ìëì§ ìì êµ­ì ì¡°ì¬ë ë°ëíë¤. ì°¸ì¬í  ì ìë¤âë ë´ì©ì ëµë³ìë¥¼ ì ë¬\",pcUrl:\"https://v.daum.net/v/20241122094250582\",moUrl:\"https://v.daum.net/v/20241122094250582\",image:\"https://t1.daumcdn.net/news/202411/22/ned/20241122094250625qflw.jpg\",cpName:\"í¤ë´ëê²½ì \",cpImage:\"https://t1.daumcdn.net/media/news/news2016/cp/cp_ned.gif\",cpDarkImage:\"https://t1.daumcdn.net/media/news/2020/cp/cp_ned_dm.png\",createdAt:\"2024-11-22T09:42:50+09:00\",mediaPickDuplicateCount:0,clipLinkId:null,serviceName:\"ë´ì¤\"},{id:\"hamny-20241122093903423\",type:\"TEXT\",title:\"'K-ëª\n",
       "íë¬´ê¸° ë°°ì°ë¬ ìì´ì'â¦7ê°êµ­ ì¥ë³ë¤ ì¡êµ° êµ­ì ê³¼ì  ì°¸ì¬\",summary:\"(ìì¸=ë´ì¤1) ë°ìì§ ê¸°ì = K9ìì£¼í¬Â·K2ì ì°¨ ë± êµ­ì° ë¬´ê¸°ì²´ê³ë¥¼ êµ¬ë§¤íê±°ë êµ¬ë§¤íê¸¸ í¬ë§íë ì£¼ì ë°©ì°íë ¥ êµ­ê°ì ì¥ë³ë¤ì´ ë°©íí´ í´ë¹ ì¥ë¹ì ì ì ì  ì´ì©ë°©ë²ì ë°°ì°ê³  ìë¤. 22ì¼ êµ° ë¹êµ­ì ë°ë¥´ë©´ ì¡êµ°ì ì´ë¬ 18ì¼ë¶í° 3ì£¼ ì¼ì ì¼ë¡ ì ë¨ ìë¬´ëì ëì  ìì´ë ë³ê³¼íêµ ë±ì§ìì '2024ë\n",
       " íë°ê¸° ì¡êµ° êµ­ì ê³¼ì  K-AIC'ì ì§ííê³  ìë¤.\",pcUrl:\"https://v.daum.net/v/20241122093903423\",moUrl:\"https://v.daum.net/v/20241122093903423\",image:\"https://t1.daumcdn.net/news/202411/22/NEWS1/20241122093906150xgoe.jpg\",cpName:\"ë´ì¤1\",cpImage:\"https://t1.daumcdn.net/media/news/news2016/cp/cp_news1.gif\",cpDarkImage:\"https://t1.daumcdn.net/media/news/2020/cp/cp_news1_dm.png\",createdAt:\"2024-11-22T09:39:03+09:00\",mediaPickDuplicateCount:0,clipLinkId:null,serviceName:\"ë´ì¤\"},{id:\"hamny-20241122093513302\",type:\"TEXT\",title:\"âì¥êµ°ë¤ì ëì´í°â ë¹íìâ¦âê³¨íì¥âì´ë¼ ë¶ë¥´ì§ ëª»íë êµ­ë°©ë¶\",summary:\"ì¤ìì´ ëíµë ¹ì´ ì§ë 8ì íë¯¸ì°í©êµ°ì¬íë ¨, ë¶ì² í¸í\n",
       " íì¬ ì°¸ì¬, ë¶í ì¤ë¬¼íì  ëí ìê¸°ì ê³¨íë¥¼ ì³ì ë\n",
       "¼ëì´ë¤. ì´ì ëí´ ëíµë ¹ì¤ì âêµ° íµìê¶ì(ëíµë ¹)ê° êµ° ìì¤ì¸ êµ° ì²´ë ¥ë¨ë ¨ì¥ìì ì´ëíë ê²ì íë±ì ë¬¸ì ê° ìë¤âê³  ë°ë°íë¤. êµ°ììë ê³¨íì¥ì ì²´ë ¥ë¨ë ¨ì¥ì´ë¼ê³  ë¶ë¥¸ë¤. (íê²¨ë  âì¤ëì ì¤íì\n",
       "â ì°ì¬ êµ¬ë\n",
       "íê¸°) êµ­ë°©ë¶ì ì¡í´ê³µêµ° í´ë³ë\",pcUrl:\"https://v.daum.net/v/20241122093513302\",moUrl:\"https://v.daum.net/v/20241122093513302\",image:\"https://t1.daumcdn.net/news/202411/22/hani/20241122093515446xluu.jpg\",cpName:\"íê²¨ë \",cpImage:\"https://t1.daumcdn.net/media/news/news2016/cp/cp_hani.gif\",cpDarkImage:\"https://t1.daumcdn.net/media/news/2020/cp/cp_hani_dm.png\",createdAt:\"2024-11-22T09:35:13+09:00\",mediaPickDuplicateCount:0,clipLinkId:null,serviceName:\"ë´ì¤\"},{id:\"hamny-20241122093237210\",type:\"TEXT\",title:\"ê²ì¬-ì¥ê´ ííµ ë ííµâ¦6ê°ìê° 12ê±´ ì¶ì§, ë²ì¨ 21ë ì¡ë°[ì´ë°ì ì¹]\",summary:\"[í¤ë´ëê²½ì =ë°ìí ê¸°ì] 22ë êµ­íê° ì¤ìì´ ì ë¶ ê³ ìê³µì§ìì ê²ì¬ë¤ì í¥í âííµ í¬íâë¡ ìê¸° ìì ë°ë\n",
       " ë§ì 21ë êµ­í ìê¸° 4ë\n",
       " ì ì²´ì ííµìì¶ì ë°ì ê±´ìë¥¼ ë°ë¼ì¡ê³  ìë¤. êµ­í ììì ë³´ìì¤í\n",
       "ì ë°ë¥´ë©´ 22ì¼ ì¤ì  ê¸°ì¤ ë¯¼ì£¼ë¹ì´ ë°ìí ííµìì¶ìì âë°©ì¡íµì ììí ììì¥(ê¹íì¼Â·ì´ì§ì) ííµìì¶ìâê³¼ ê²ì¬ âê°ë°±ì Â·ê¹ìì² Â·ë°ìì©Â·ìí¬ì¤ í\",pcUrl:\"https://v.daum.net/v/20241122093237210\",moUrl:\"https://v.daum.net/v/20241122093237210\",image:\"https://t1.daumcdn.net/news/202411/22/ned/20241122093239097zmro.jpg\",cpName:\"í¤ë´ëê²½ì \",cpImage:\"https://t1.daumcdn.net/media/news/news2016/cp/cp_ned.gif\",cpDarkImage:\"https://t1.daumcdn.net/media/news/2020/cp/cp_ned_dm.png\",createdAt:\"2024-11-22T09:32:37+09:00\",mediaPickDuplicateCount:0,clipLinkId:null,serviceName:\"ë´ì¤\"}],hasNext:true}},validCode:\"GOOD\",updatedAt:\"2024-11-22T14:21:56.706862589+09:00\",lastFetchedAt:\"2024-11-22T14:33:49.575077293+09:00\"}},\"1f3c123a-dc19-489d-a18b-71d6655502e6\":{sandboxAdId:\"DAN-lNliOdHbYg6JlPeL\",adId:\"DAN-mmSWWDWHey1VmpXQ\"},\"b2385c9e-5625-41c6-9f0d-cf8c80e7fd27\":{clusterDisplayType:\"scrollable\",pagingButton:{buttonText:\"ë´ì¤\",buttonOutlink:null,buttonType:\"refresh\"},outlink:\"https://news.daum.net/president\",tooltip:null,pageSize:4,title:\"ëíµë ¹ì¤\",newsClusters:[{isDefault:false,data:{code:200,message:null,document:{data:{id:5961281,title:\"ëíµë ¹ì¤(ì£¼ìë´ì¤)\",contents:[{id:\"hamny-20241122134254061\",type:\"TEXT\",title:\"'ì ì¤ì°ì¸µ ìë' ìê³ í å°¹ \\\"ê²½ì íë ¥ ë°ëì ëì´ë¦°ë¤\\\"\",summary:\"ì¤ìì´ ëíµë ¹ì´ 22ì¼ ìì¸ ì¤êµ¬ ì ë¼í¸í\n",
       "ìì ì´ë¦° ì 56í êµ­ê°ì¡°ì°¬ê¸°ëíì ì°¸ìí´ ì¸ì¬ë§ì íê³  ìë¤./ì¬ì§=ë´ìì¤íì [íì´ë¸ì\n",
       "ë´ì¤] ì¤ìì´ ëíµë ¹ì´ 22ì¼ ìê¸° íë°ê¸° ìê·¹í íê°ë¡ ë¯¼ìì ì´ë ¤ 'ìë¡ì´ ì¤ì°ì¸µ ìë'ë¥¼ ì´ê² ë¤ë ë¹ì ì ì ìíë¤. ìê¸° ì ë°ê¸° ê±´ì ì¬ì  ê¸°ì¡°ë¡ ë¬¼ê° ìì íì ìì¶ íì±í ë± ìí¸í ê²½ì  ì¬ê±´ì êµ¬ì¶í\",pcUrl:\"https://v.daum.net/v/20241122134254061\",moUrl:\"https://v.daum.net/v/20241122134254061\",image:\"https://t1.daumcdn.net/news/202411/22/fnnewsi/20241122134255093dsrt.jpg\",cpName:\"íì´ë¸ì\n",
       "ë´ì¤\",cpImage:\"https://t1.daumcdn.net/media/news/news2016/cp/finan.png\",cpDarkImage:\"https://t1.daumcdn.net/media/news/2020/cp/finan_dark.png\",createdAt:\"2024-11-22T13:42:54+09:00\",mediaPickDuplicateCount:0,clipLinkId:null,serviceName:\"ë´ì¤\"},{id:\"hamny-20241122130100171\",type:\"TEXT\",title:\"ëíµë ¹ì¤ \\\"ê±´ì  ê¸°ì¡°í ì¬ì  íë\\\"â¦ì¸ìì  ê²½ê¸° ë¶ìì ê±°ë¦¬\",summary:\"(ìì¸=ë´ì¤1) ì ì§í ê¸°ì = ëíµë ¹ì¤ì 22ì¼ ì¤ìì´ ì ë¶ íµì¬ ê¸°ì¡°ì¸ 'ê±´ì ì¬ì 'ì ì¼ê´ëê² ì ì§íë©´ìë ìê·¹í íê°ë¥¼ ìí´ ì´ì ë³´ë¤ ì¬ì ì ì ê·¹ì ì¼ë¡ íì©íê² ë¤ê³  ë°íë¤. ìê·¹í ë¬¸ì ì ê´í´ìë ì¶ê°ê²½ì ìì°(ì¶ê²½)ê¹ì§ë ê°ë¥ì±ì ì´ì´ë¨ì§ë§ ê²½ê¸° ë¶ìì ìí ì¸ìì ì¸ ì¬ì  í¬ì\n",
       "ìë ê±°ë¦¬ë¥¼ ëë ëª¨ìµì´ë¤. ëíµë ¹ì¤ ê³ ì ê´ê³ìë ì´ë  ì¤ì  ë´ì¤1ê³¼\",pcUrl:\"https://v.daum.net/v/20241122130100171\",moUrl:\"https://v.daum.net/v/20241122130100171\",image:\"https://t1.daumcdn.net/news/202411/22/NEWS1/20241122130100491bldd.jpg\",cpName:\"ë´ì¤1\",cpImage:\"https://t1.daumcdn.net/media/news/news2016/cp/cp_news1.gif\",cpDarkImage:\"https://t1.daumcdn.net/media/news/2020/cp/cp_news1_dm.png\",createdAt:\"2024-11-22T13:01:00+09:00\",mediaPickDuplicateCount:0,clipLinkId:null,serviceName:\"ë´ì¤\"},{id:\"hamny-20241122114508702\",type:\"TEXT\",title:\"ì¤, êµ­ê°ì¡°ì°¬ê¸°ëí ëë²ì§¸ ì°¸ìâ¦âìê¸° ì ë° íë¤ìì§ë§ ë³´ëâ\",summary:\"ì¤ìì´ ëíµë ¹ì´ 22ì¼ ì¤ì  ìì¸ ì¤êµ¬ ì ë¼í¸í\n",
       "ìì ì´ë¦° âì 56í ëíë¯¼êµ­ êµ­ê°ì¡°ì°¬ê¸°ëíâì ì°¸ìíë¤. ì§ë 2022ë\n",
       " 12ìì ì´ì´ ì·¨ì ë¤ ëë²ì§¸ ì°¸ìì´ë¤. ê¹ì¥í ëª©ì¬(ê·¹ëë°©ì¡ ì´ì¬ì¥)ì ì¤êµ ë¤ ë¨ìì ì¤ë¥¸ ì¤ ëíµë ¹ì âì¼ë§ ì  ì ë ìê¸° ë°íì ì ë§ìë¤. ë§ì´ íë¤ìì§ë§ ë³´ëì´ ììë ìê¸°ìë¤âë©´ì âì¬ê¸°ì ìì£¼í  ìë ìë¤. êµ­ë¯¼ ëª¨ëê° ë¯¸ë\",pcUrl:\"https://v.daum.net/v/20241122114508702\",moUrl:\"https://v.daum.net/v/20241122114508702\",image:\"https://t1.daumcdn.net/news/202411/22/hani/20241122120505893mebg.jpg\",cpName:\"íê²¨ë \",cpImage:\"https://t1.daumcdn.net/media/news/news2016/cp/cp_hani.gif\",cpDarkImage:\"https://t1.daumcdn.net/media/news/2020/cp/cp_hani_dm.png\",createdAt:\"2024-11-22T11:45:08+09:00\",mediaPickDuplicateCount:0,clipLinkId:null,serviceName:\"ë´ì¤\"},{id:\"hamny-20241122113000166\",type:\"TEXT\",title:\"ì´ì¬ëª\n",
       " íê²° ì°¬ë°ìë¡  í½í½... ì ë¹ 43%Â·ë¶ë¹ 42%\",summary:\"ì´ì¬ëª\n",
       " ëë¶ì´ë¯¼ì£¼ë¹ ëíì ì§ì­í íê²°ì ëí´ êµ­ë¯¼ ì¤ 43%ë âì ë¹í íê²°â, 42%ë âë¶ë¹í ì ì¹íê²°âì´ë¼ê³  ìê°íë¤ë ì¬ë¡ ì¡°ì¬ ê²°ê³¼ê° 22ì¼ ëìë¤. ì´ë  íêµ­ê°¤ë½ì 19~21ì¼ ì êµ­ ë§ 18ì¸ ì´ì ì±ì¸ 1001ëª\n",
       "ì ëìì¼ë¡ ì§ë 15ì¼ ì´ ëíì ê³µì§ì ê±°ë² ìë° íìì ëí ìì¸ì¤ìì§ë² 1ì¬ íê²°ì ëí ìê°ì ë¬¼ì ê²°ê³¼ë¥¼ ì´ì ê°ì´ ë°ííë¤.\",pcUrl:\"https://v.daum.net/v/20241122113000166\",moUrl:\"https://v.daum.net/v/20241122113000166\",image:\"https://t1.daumcdn.net/news/202411/22/mk/20241122113003574shht.png\",cpName:\"ë§¤ì¼ê²½ì \",cpImage:\"https://t1.daumcdn.net/media/news/news2016/cp/cp_mk.gif\",cpDarkImage:\"https://t1.daumcdn.net/media/news/2020/cp/cp_mk_dm.png\",createdAt:\"2024-11-22T11:30:00+09:00\",mediaPickDuplicateCount:0,clipLinkId:null,serviceName:\"ë´ì¤\"},{id:\"hamny-20241122110020971\",type:\"TEXT\",title:\"å°¹ \\\"ê±´ì  ì¬ì  ìë¦¬ ì¡ìë¤\\\"â¦ìê¸° íë° 'íì¥ ì¬ì ' ìì¬\",summary:\"[ìì´ë´ì¤24 ê¹ë³´ì  ê¸°ì] ì¤ìì´ ëíµë ¹ì´ ì ë¶ì íµì¬ ê²½ì ì ì±\n",
       " ë°©í¥ì¼ë¡ ì ìí´ ì¨ 'ê±´ì ì¬ì  ê¸°ì¡°'ì ëí´ \\\"ìë¦¬ë¥¼ ì¡ìë¤\\\"ê³  íê°íê³ , ì¶ê°ê²½ì ìì°(ì¶ê²½)ì í¬í¨í ì¬ì ì ì ê·¹ì ì¸ ì­í ì ìì¬íë¤. ì¤ ëíµë ¹ì 22ì¼ ìì¸ì ì¤êµ¬ ì ë¼í¸í\n",
       "ìì ì´ë¦° êµ­ê°ì¡°ì°¬ê¸°ëíì ì°¸ìí´ \\\"ì¼ë§ ì  ìê¸° ë°íì ì ë§ìë¤. íë£¨íë£¨ê° ë²¼ë ë ê°ì ìí©ì´ìì§ë§ ì ë¶ì êµ­\",pcUrl:\"https://v.daum.net/v/20241122110020971\",moUrl:\"https://v.daum.net/v/20241122110020971\",image:\"https://t1.daumcdn.net/news/202411/22/inews24/20241122110021533duoj.jpg\",cpName:\"ìì´ë´ì¤24\",cpImage:\"https://t1.daumcdn.net/media/news/news2016/cp/cp_inews24.gif\",cpDarkImage:\"https://t1.daumcdn.net/media/news/2020/cp/cp_inews24_dm.png\",createdAt:\"2024-11-22T11:00:20+09:00\",mediaPickDuplicateCount:0,clipLinkId:null,serviceName:\"ë´ì¤\"},{id:\"hamny-20241122104850491\",type:\"TEXT\",title:\"ëíµë ¹ì¤, ìê·¹í í´ìì ì¬ì í¬ì\n",
       " ëë¦°ë¤â¦\\\"ì¶ê²½ë ë°°ì ìí´\\\"\",summary:\"(ìì¸=ì°í©ë´ì¤) ê¹ì¹ì° ê³½ë¯¼ì ê¸°ì = ëíµë ¹ì¤ì´ ì¤ìì´ ëíµë ¹ì ìê¸° íë°ê¸°ë¥¼ ë§ì ìê·¹í í´ìë¥¼ ìí ì¬ì  í¬ì\n",
       "ì ëë¦¬ê¸°ë¡ íë¤. ì¬ì  ê±´ì ì±ì ì°ì ìí ìê¸° ì ë°ê¸° ì ì±\n",
       " ê¸°ì¡°ë¥¼ ë°íì¼ë¡ íë íë°ê¸°ìë ìê·¹í í´ì ëì±\n",
       " ë± íìí ë¶ë¶ìì  ì¬ì ì ì ê·¹ì  ì­í ì íëí´ ê°ê² ë¤ë ì·¨ì§ë¡ íì´ëë¤. ëíµë ¹ì¤ì ì´ ê³¼ì ìì ì¶ê°ê²½ì ìì° í¸ì±ì ë°°ì íì§ ìë\",pcUrl:\"https://v.daum.net/v/20241122104850491\",moUrl:\"https://v.daum.net/v/20241122104850491\",image:\"https://t1.daumcdn.net/news/202411/22/yonhap/20241122104850967dwqm.jpg\",cpName:\"ì°í©ë´ì¤\",cpImage:\"https://t1.daumcdn.net/media/news/news2016/cp/cp_yonhap.gif\",cpDarkImage:\"https://t1.daumcdn.net/media/news/2020/cp/cp_yonhap_dm.png\",createdAt:\"2024-11-22T10:48:50+09:00\",mediaPickDuplicateCount:0,clipLinkId:null,serviceName:\"ë´ì¤\"},{id:\"hamny-20241122104600361\",type:\"TEXT\",title:\"[ì©ì°íµì ]ì¶ê²½ ì¹´ë ë§ì§ì ê±°ë¦¬ë ì ë¶â¦\\\"ì°ì´ ì¶ê²½ì ë¶ê°\\\"\",summary:\"\\\"íì¥ì  ì¬ì  ì ì±\n",
       "ì ì¢ ë ì¶ì§íë ê²ì ë§ì§ë§ ë´ë\n",
       " ì´ ì¶ê°ê²½ì ìì°(ì¶ê²½) í¸ì±ì ë¶ê°ë¥í©ëë¤.\\\" ì¼ê°ìì ë´ì ë¶ì§ê³¼ ê²½ì  ì±ì¥ ëíì ëìíê¸° ìí´ ì°ì´ ì¶ê²½ í¸ì± íìì±ì´ ì ê¸°ëë©´ì ì©ì°ì ê³ ë¯¼ì´ ê¹ì´ì§ê³  ìë¤. ë´ì ë¶ì§ì ì¬ì ì ì ê·¹ì ì¸ ì­í ì ì£¼ë¬¸íë ëª©ìë¦¬ê° ì»¤ì§ë©´ì ì ë¶ê° ì¤ê³§ ê°ì¡°í´ìë 'ê±´ì ì¬ì  ê¸°ì¡°' íì ë³íê° ë¶ê°í¼íë¤ë ì¸ìì´\",pcUrl:\"https://v.daum.net/v/20241122104600361\",moUrl:\"https://v.daum.net/v/20241122104600361\",image:\"https://t1.daumcdn.net/news/202411/22/akn/20241122104600565gfoc.jpg\",cpName:\"ìììê²½ì \",cpImage:\"https://t1.daumcdn.net/media/news/news2016/cp/cp_akn.gif\",cpDarkImage:\"https://t1.daumcdn.net/media/news/2020/cp/cp_akn_dm.png\",createdAt:\"2024-11-22T10:46:00+09:00\",mediaPickDuplicateCount:0,clipLinkId:null,serviceName:\"ë´ì¤\"},{id:\"hamny-20241122103408807\",type:\"TEXT\",title:\"ê¹íê¸¸ \\\"ìê·¹í íê° ì§ë¦ê¸¸ì ì¤ìê¸°ì\n",
       " ì±ì¥â¦å°¹, íµí©ìì ì­í  ë¹ë¶\\\"\",summary:\"ëíµë ¹ ì§ì êµ­ë¯¼íµí©ììíë 22ì¼ 'ê¸°ì\n",
       " ì±ì¥ì ëë í¹ë³ììí'ë¥¼ ì¶ë²ìì¼°ë¤ê³  ë°íë¤. ì¤ìì´ ì ë¶ì ìê¸° íë°ê¸° íµì¬ ê³¼ì ì¸ ìê·¹í íê°ë¥¼ ìí´ ì¤ìê¸°ì\n",
       " ì±ì¥ ë± ì¤ì§ì ì¸ ëì±\n",
       " ë§ë ¨ì ì§ì¤íë¤ë ê³íì´ë¤. êµ­ë¯¼íµí©ìë ì´ë  ì¤ì  ì ë¶ìì¸ì²­ì¬ìì 'ê¸°ì\n",
       " ì±ì¥ì ëë í¹ì' ì¶ë²ìì ê°ê³  ì²« íìë¥¼ ê°ìµíë¤. í¹ìë ìì ëª¨ ììì¥(ëª¨ëì¤ë© ëíì´ì¬)ì í¬\",pcUrl:\"https://v.daum.net/v/20241122103408807\",moUrl:\"https://v.daum.net/v/20241122103408807\",image:\"https://t1.daumcdn.net/news/202411/22/akn/20241122103408160oorz.jpg\",cpName:\"ìììê²½ì \",cpImage:\"https://t1.daumcdn.net/media/news/news2016/cp/cp_akn.gif\",cpDarkImage:\"https://t1.daumcdn.net/media/news/2020/cp/cp_akn_dm.png\",createdAt:\"2024-11-22T10:34:07+09:00\",mediaPickDuplicateCount:0,clipLinkId:null,serviceName:\"ë´ì¤\"},{id:\"hamny-20241122102515399\",type:\"TEXT\",title:\"ì©ì°, ë§ì¶¤í ì ì±\n",
       " ìí ì¶ê²½ ê²í ..\\\"ë´ë\n",
       " ì´ë ìë\\\"\",summary:\"ì¤ìì´ ëíµë ¹ì´ 22ì¼ ìì¸ ì¤êµ¬ ì ë¼í¸í\n",
       "ìì ì´ë¦° ì 56í êµ­ê°ì¡°ì°¬ê¸°ëíì ì°¸ìí´ ì¸ì¬ë§ì íê³  ìë¤. /ì¬ì§=ë´ìì¤íì [íì´ë¸ì\n",
       "ë´ì¤] ì¤ìì´ ì ë¶ê° ìê¸° íë°ê¸° ìê·¹í í´ìì ì ê·¹ì ì¼ë¡ ëì  ê°ì´ë°, ììê³µì¸ê³¼ ì²­ë\n",
       "ì¸µì ëí ë§ì¶¤í ì ì±\n",
       " ì¶ì§ì ìí´ ë´ë\n",
       "ë ì¶ê°ê²½ì ìì°ì í¸ì±ë ë°°ì íì§ ìê¸°ë¡ íë¤. ë¤ë§ ë¹ì¥ ë´ë\n",
       " ì´ì ì¶ê²½ì\",pcUrl:\"https://v.daum.net/v/20241122102515399\",moUrl:\"https://v.daum.net/v/20241122102515399\",image:\"https://t1.daumcdn.net/news/202411/22/fnnewsi/20241122102515412sowy.jpg\",cpName:\"íì´ë¸ì\n",
       "ë´ì¤\",cpImage:\"https://t1.daumcdn.net/media/news/news2016/cp/finan.png\",cpDarkImage:\"https://t1.daumcdn.net/media/news/2020/cp/finan_dark.png\",createdAt:\"2024-11-22T10:25:15+09:00\",mediaPickDuplicateCount:0,clipLinkId:null,serviceName:\"ë´ì¤\"},{id:\"hamny-20241122090956381\",type:\"TEXT\",title:\"âìì£¼ì´ì  ë\n",
       "¼ëâ ê°ê¸°í ì ìíì ê´ ì¬ì íëª\n",
       "â¦'ì¸ì  ìì ' ì í¸?\",summary:\"[ìë£ì¬ì§] ì©ì° ëíµë ¹ì¤ ì²­ì¬ /ì¬ì§=ë´ì¤1 [íì´ë¸ì\n",
       "ë´ì¤] ìì£¼ì´ì ì¼ë¡ 2ê°ì ì ì§ ì§ê³ë¥¼ ë°ê³  ì\n",
       "ë¬´ì ë³µê·í´ ë\n",
       "¼ëì ì¼ì¼ì¼°ë ê°ê¸°í ëíµë ¹ì¤ êµ­ì ê¸°íë¹ìê´ì¤ ì ìíì ê´ì´ ì¬ìë¥¼ ë°í ê²ì¼ë¡ 21ì¼ ì í´ì¡ë¤. ì¬ê¶ ê´ê³ìì ë°ë¥´ë©´ ê° ì ìíì ê´ì ìµê·¼ ì¬íë¥¼ ì ì¶íê³  ëíµë ¹ì¤ë ì´ë¥¼ ìë¦¬í  ë°©ì¹¨ì¸ ê²ì¼ë¡ ìë ¤ì¡ë¤. ê° ì ìíì ê´ì\",pcUrl:\"https://v.daum.net/v/20241122090956381\",moUrl:\"https://v.daum.net/v/20241122090956381\",image:\"https://t1.daumcdn.net/news/202411/22/fnnewsi/20241122090956906skjp.jpg\",cpName:\"íì´ë¸ì\n",
       "ë´ì¤\",cpImage:\"https://t1.daumcdn.net/media/news/news2016/cp/finan.png\",cpDarkImage:\"https://t1.daumcdn.net/media/news/2020/cp/finan_dark.png\",createdAt:\"2024-11-22T09:09:56+09:00\",mediaPickDuplicateCount:0,clipLinkId:null,serviceName:\"ë´ì¤\"},{id:\"hamny-20241122085400865\",type:\"TEXT\",title:\"ëíµë ¹ì¤ âì°ì´ ì¶ê²½ì ë¶ê°â¦ì¬ì ì­í  íëë ê²í â\",summary:\"ëíµë ¹ì¤ì´ ì°ì´ ì¶ê°ê²½ì ìì°(ì¶ê²½) ê´ë ¨ ë³´ëê° ëì¤ì ë\n",
       "¼ë íì° ì°¨ë¨ì ëì°ë¤. 22ì¼ ëíµë ¹ì¤ ê³ ì ê´ê³ìë ë§¤ì¼ê²½ì ìì íµíìì âì­ë ì°ì´ ì¶ê²½ì ì¸íìê¸° ë¹ì ë± 1íâë¼ë©° âì°ì´ ì¶ê²½ì ë¶ê°íë¤âê³  ì ì ê·¸ìë¤. íì¬ ë´ë\n",
       "ë ìì°ìì´ êµ­íìì ì¬ì ì¤ì¸ ë§í¼ ê¼­ íìí í­ëª©ì´ ìì¼ë©´ êµ­íì íìíë í¸ì´ ë í©ë¦¬ì ì´ë¼ë ì·¨ì§ë¤. ëíµë ¹ì¤ì ë¤ë§\",pcUrl:\"https://v.daum.net/v/20241122085400865\",moUrl:\"https://v.daum.net/v/20241122085400865\",image:\"https://t1.daumcdn.net/news/202411/22/mk/20241122085403663mvny.png\",cpName:\"ë§¤ì¼ê²½ì \",cpImage:\"https://t1.daumcdn.net/media/news/news2016/cp/cp_mk.gif\",cpDarkImage:\"https://t1.daumcdn.net/media/news/2020/cp/cp_mk_dm.png\",createdAt:\"2024-11-22T08:54:00+09:00\",mediaPickDuplicateCount:0,clipLinkId:null,serviceName:\"ë´ì¤\"},{id:\"hamny-20241122082046018\",type:\"TEXT\",title:\"å°¹ âìê·¹í íê°ë¡ ë¯¼ì íë ¥... ìë¡ì´ ì¤ì°ì¸µ ìë ì´ê² ë¤â\",summary:\"ì¤ìì´ ëíµë ¹ì 22ì¼ âìê¸° íë°ê¸°ìë ìê·¹í íê°ë¡ êµ­ë¯¼ ëª¨ëê° êµ­ê° ë°ì ì ëì°¸íëë¡ í  ê²âì´ë¼ê³  ë°íë¤. ì¤ ëíµë ¹ì ì´ë  ìì¸ ì¤êµ¬ ì ë¼í¸í\n",
       "ìì ê°ìµë âì 56í ëíë¯¼êµ­ êµ­ê°ì¡°ì°¬ê¸°ëíâìì âë¯¼ìê³¼ ê²½ì ì íë ¥ì ë°ëì ëì´ë ¤ ìë¡ì´ ì¤ì°ì¸µì ìëë¥¼ ì´ê² ë¤âë©° ì´ê°ì´ ë§íë¤. êµ­ê°ì¡°ì°¬ê¸°ëíë ì´êµíì  ê¸°ë\n",
       "êµ ì±ëë¤ì´ ëª¨ì¬ íí©ê³¼ í¬ë§ì ë¤ì§íë\",pcUrl:\"https://v.daum.net/v/20241122082046018\",moUrl:\"https://v.daum.net/v/20241122082046018\",image:\"https://t1.daumcdn.net/news/202411/22/chosunbiz/20241122083522535qqqt.jpg\",cpName:\"ì¡°ì ë¹ì¦\",cpImage:\"https://t1.daumcdn.net/media/news/news2016/cp/cp_chosunbiz.gif\",cpDarkImage:\"https://t1.daumcdn.net/media/news/2020/cp/cp_chosunbiz_dm.png\",createdAt:\"2024-11-22T08:20:46+09:00\",mediaPickDuplicateCount:0,clipLinkId:null,serviceName:\"ë´ì¤\"}],hasNext:true}},validCode:\"GOOD\",updatedAt:\"2024-11-22T13:43:29.083386847+09:00\",lastFetchedAt:\"2024-11-22T14:33:49.630562137+09:00\"},title:\"ëíµë ¹ì¤(ì£¼ìë´ì¤)\"}],order:\"default\"},\"9802f7a9-a827-4ddc-a2b9-7b03bcf6684c\":{clusterDisplayType:\"scrollable\",pagingButton:{buttonText:\"ë´ì¤\",buttonOutlink:null,buttonType:\"refresh\"},outlink:\"https://news.daum.net/dipdefen\",tooltip:null,pageSize:4,title:\"ì¸êµ/êµ­ë°©\",newsClusters:[{isDefault:false,data:{code:200,message:null,document:{data:{id:5966843,title:\"ì¸êµ/êµ­ë°©(ì£¼ìë´ì¤)\",contents:[{id:\"hamny-20241122140656764\",type:\"TEXT\",title:\"\\\"ê¹ì ì ë¶ì ì¼ë¡ í¸ë¼í 2ê¸° ë¶ë¯¸ëí ì½ì§ ìì\\\"\",summary:\"(ìì¸=ì°í©ë´ì¤) ê¹ì§ì° ê¸°ì = ê¹ì ì ë¶í êµ­ë¬´ììì¥ì´ ê³¼ê±° ë¯¸êµ­ê³¼ íìì íµí´ ê²°êµ­ ì ëì  ëë¶ì ì±\n",
       "ë§ íì íê² ëë¤ë©° ë¶ë¯¸ëíì ë¶ì ì  ì\n",
       "ì¥ì ë°íì§ë§, ê°ë¥ì±ì ì¬ì í ë°°ì í  ì ìë¤ë ì ë¬¸ê° ê´ì¸¡ì´ ëìë¤. ì ì±ì¥ ì¸ì¢\n",
       "ì°êµ¬ì íë°ëì ëµì¼í°ì¥ì 22ì¼ ì¸ì¢\n",
       "ì°êµ¬ìê° ìì¸ ì¢\n",
       "ë¡êµ¬ ì°í©ë´ì¤ë¹ë©ìì ê°ìµí ì 39ì°¨ ì¸ì¢\n",
       "êµ­ê°í¬ë¼ìì ê¹ ììì¥ì ë°ì¸ì \\\"í¸ë¼\",pcUrl:\"https://v.daum.net/v/20241122140656764\",moUrl:\"https://v.daum.net/v/20241122140656764\",image:\"https://t1.daumcdn.net/news/202411/22/yonhap/20241122140656932idhz.jpg\",cpName:\"ì°í©ë´ì¤\",cpImage:\"https://t1.daumcdn.net/media/news/news2016/cp/cp_yonhap.gif\",cpDarkImage:\"https://t1.daumcdn.net/media/news/2020/cp/cp_yonhap_dm.png\",createdAt:\"2024-11-22T14:06:56+09:00\",mediaPickDuplicateCount:0,clipLinkId:null,serviceName:\"ë´ì¤\"},{id:\"hamny-20241122120451252\",type:\"TEXT\",title:\"å 'ê°ì±ë¹ ëíì' ê³¨íì§ ìí­ëë¡  ê³µê°â¦ìì¸ ìì´ì©ì¼ë¡ ì°ë\",summary:\"(ìì¸=ë´ì¤1) íê³ ì´ ê¸°ì = ë¶íì´ ì ë ´í ê°ê²©ì ë ì´ë íì§ë ì íëë 'ê³¨íì§ ìí­ëë¡ 'ì ê°ë°í ê²ì¼ë¡ ë³´ì¸ë¤. êµ°ì¬ì ë¬¸ê¸°ì ì¶ì  ì ì©ì êµ­ë¯¼ìí ììì 22ì¼ 'ë¶í êµ­ë°©ë°ì -2024 ì íë¬´ê¸° ê³µê°ìë£ ë¶ì' ë³´ê³ ìë¥¼ íµí´ ë¶íì´ ê³¨íì§ ìí­ëë¡ ì¼ë¡ ì¶ì ëë ëë¡ ì ê³µê°íë¤ê³  íê°íë¤. ì  ììì¤ì \\\"ê³¨íì§ ëë¡ ì ì¬ì©ëë ë ê°ì ëì²´ë¥¼ ê³ ì \",pcUrl:\"https://v.daum.net/v/20241122120451252\",moUrl:\"https://v.daum.net/v/20241122120451252\",image:\"https://t1.daumcdn.net/news/202411/22/NEWS1/20241122120453432amac.jpg\",cpName:\"ë´ì¤1\",cpImage:\"https://t1.daumcdn.net/media/news/news2016/cp/cp_news1.gif\",cpDarkImage:\"https://t1.daumcdn.net/media/news/2020/cp/cp_news1_dm.png\",createdAt:\"2024-11-22T12:04:51+09:00\",mediaPickDuplicateCount:0,clipLinkId:null,serviceName:\"ë´ì¤\"},{id:\"hamny-20241122111806728\",type:\"TEXT\",title:\"âì¬ê¸°ê° K9ì ëë¼ì\n",
       "ëê¹ââ¦í´ì¸ ì¥ë³ë¤ì´ ì¡±ì§ê² ê³¼ì¸ ë°ì¼ë¬ ìë¤ëë°\",summary:\"ì¡êµ°ì´ í´ëëÂ·í¸ì£¼Â·ë² í¸ë¨ ë± 7ê°êµ­ì ëìì¼ë¡ K2ì ì°¨Â·K9ìì£¼í¬ì ëí âì¡±ì§ê² ê³¼ì¸âì ëì°ë¤. íêµ­ì° ë¬´ê¸°ì²´ê³ë¥¼ ëì\n",
       "íê±°ë êµ¬ë§¤ë¥¼ í¬ë§íë êµ­ê°ë¤ì ì¥ë³ë¤ì ì´ì²­í´ í´ë¹ ì¥ë¹ì ì ì ì  ì´ì© ë°©ë²ì ê°ë¥´ì³ì£¼ë©° ì°ìí Kë°©ì°ê³¼ ì¡êµ° êµì¡íë ¨ ì²´ê³ë¥¼ ëë¦¬ ìë¦¬ë ¤ë ìëë¤. 21ì¼ ì¡êµ°ì ë°ë¥´ë©´ ì ë¨ ìë¬´ëì ëì  ìì´ë ë³ê³¼íêµ ë±ììë ì§ë 18ì¼ë¶í°\",pcUrl:\"https://v.daum.net/v/20241122111806728\",moUrl:\"https://v.daum.net/v/20241122111806728\",image:\"https://t1.daumcdn.net/news/202411/22/mk/20241122111811990pxuj.gif\",cpName:\"ë§¤ì¼ê²½ì \",cpImage:\"https://t1.daumcdn.net/media/news/news2016/cp/cp_mk.gif\",cpDarkImage:\"https://t1.daumcdn.net/media/news/2020/cp/cp_mk_dm.png\",createdAt:\"2024-11-22T11:18:06+09:00\",mediaPickDuplicateCount:0,clipLinkId:null,serviceName:\"ë´ì¤\"},{id:\"hamny-20241122111412560\",type:\"TEXT\",title:\"'å ì\n",
       "ë¹í¸ ì½ì¸ íì·¨'...ì ë¶ \\\"IT ì¸ì¬ ë²ì£ì ë´ëª°ë ¤, ê°í\\\"\",summary:\"2019ë\n",
       " ì´ëë¦¬ì 34ë§2000ê° íì·¨ ì¬ê±´ ê²½ì°°ì²­ êµ­ìë³¸, ë¶í ìíì¼ë¡ ê³µì íì¸ \\\"ì¬ì´ë² ë¶ì¼ ë\n",
       "ì ì ì¬ ëì ë°©ì ê°êµ¬\\\" [ëí©í¸ã\n",
       "£ê¹ì ì ê¸°ì] íµì¼ë¶ë 22ì¼ êµ­ë´ ê°ììì° ê±°ëì ì\n",
       "ë¹í¸ìì ë°ìí ê°ìíí ì´ëë¦¬ì íì·¨ ì¬ê±´ì´ ë¶í ìíì¼ë¡ ë°íì§ ë° ëí´ \\\"ë¶íì ì°ìí IT(ì ë³´ê¸°ì ) ë¶ì¼ ì¸ì¬ë¤ì í´í¹ê³¼ ê°ì ë²ì£íìì ë´ëª°ê³  ìë\",pcUrl:\"https://v.daum.net/v/20241122111412560\",moUrl:\"https://v.daum.net/v/20241122111412560\",image:\"https://t1.daumcdn.net/news/202411/22/THEFACT/20241122111415078mmsu.jpg\",cpName:\"ëí©í¸\",cpImage:\"https://t1.daumcdn.net/media/news/news2016/cp/cp_thefact.gif\",cpDarkImage:\"https://t1.daumcdn.net/media/news/2020/cp/cp_thefact_dm.png\",createdAt:\"2024-11-22T11:14:12+09:00\",mediaPickDuplicateCount:0,clipLinkId:null,serviceName:\"ë´ì¤\"},{id:\"hamny-20241122110024972\",type:\"TEXT\",title:\"ç¾ ì¹ì¸í ì ì  íëë¯¸ì¬ì¼ âìì´íí¼ì¤â ìë ¥ìÂ·Â·Â·í ë°ë¡ ì¶êµ¬ì¥ 4ê° ë©´ì  ì´í í[ì´íí¸ ê¸°ìì ë°ë¦¬í°ë¦¬!í¡]\",summary:\"[ìì¸ê²½ì ] ì°í¬ë¼ì´ëêµ°ì´ ìµê·¼ ë¯¸êµ­ì ì¥ê±°ë¦¬ ì ì  íëë¯¸ì¬ì¼ ìì´íí¼ì¤(Army Tactical Missile SystemÂ·ATACMS)ë¡ ë¬ìì ë³¸í ë¥¼ ì²ì ê³µê²©íë¤ë ì¸ì  ë³´ëê° ëì¤ë©´ì ì  ì¸ê³ì ì´ëª©ì ì§ì¤ìì¼°ë¤. ë¡ì´í° íµì ì ë°ë¥´ë©´ ë¬ìì êµ­ë°©ë¶ë ì§ë 19ì¼(íì§ ìê°) ì°í¬ë¼ì´ëêµ°ì´ ìì´íí¼ì¤ 6ë°ë¡ ë¬ìì ìë¶ êµ­ê²½ì§ëì¸ ë¸ë¸ì¤í¬ì êµ°ì¬\",pcUrl:\"https://v.daum.net/v/20241122110024972\",moUrl:\"https://v.daum.net/v/20241122110024972\",image:\"https://t1.daumcdn.net/news/202411/22/seouleconomy/20241122110849411mgvh.jpg\",cpName:\"ìì¸ê²½ì \",cpImage:\"https://t1.daumcdn.net/media/news/news2016/cp/cp_seouleco.gif\",cpDarkImage:\"https://t1.daumcdn.net/media/news/2020/cp/cp_seouleco_dm.png\",createdAt:\"2024-11-22T11:00:24+09:00\",mediaPickDuplicateCount:0,clipLinkId:null,serviceName:\"ë´ì¤\"},{id:\"hamny-20241122094533691\",type:\"TEXT\",title:\"ì²¨ë¨ ë¬´ì¸ì  ìëê° ì¨ë¤â¦âì ë ¹ì í¨â ë¬´ì¸ê¸° í­ëª¨ ì£¼ëª©ë°ë ì´ì ë [ë°ìì°¬ì è»]\",summary:\"ì§ë 12ì¼ í¬í­ ëìª½ í´ì. íêµ­ í´êµ°ìì ê°ì¥ í° í¨ì ì¸ ëíìì¡í¨ ë\n",
       "ëí¨ ê°íì´ ë¶ì£¼í´ì¡ë¤. ë¯¸êµ­ ì ëë´ìí ë¯¹ì¬ìì ë§ë  ëª¨íë¹ ë¬´ì¸ê¸°ë¥¼ ë¹íê°íìì ëì°ë ì¤íì ì§ííê¸° ìí´ììë¤. ìê°ì´ ëì ëª¨íë¹ ë¬´ì¸ê¸°ë 90më¥¼ ì§ì£¼í´Â ë¹íê°íìì ë ìì¬ëë¤. ê³ ì ìµ ë¬´ì¸ê¸°ê° ëíÂ ë¹íê°íì ê°ì¶ ìë¥í¨ê¸ í¨ì ìì ì´ì©ì´ ê°ë¥íë¤ë ì ì ì\n",
       "ì¦í ìê°ì´ìë¤.\",pcUrl:\"https://v.daum.net/v/20241122094533691\",moUrl:\"https://v.daum.net/v/20241122094533691\",image:\"https://t1.daumcdn.net/news/202411/22/segye/20241122094533241ppnl.jpg\",cpName:\"ì¸ê³ì¼ë³´\",cpImage:\"https://t1.daumcdn.net/media/news/news2016/cp/cp_segye.gif\",cpDarkImage:\"https://t1.daumcdn.net/media/news/2020/cp/cp_segye_dm.png\",createdAt:\"2024-11-22T09:45:33+09:00\",mediaPickDuplicateCount:0,clipLinkId:null,serviceName:\"ë´ì¤\"},{id:\"hamny-20241122093903423\",type:\"TEXT\",title:\"'K-ëª\n",
       "íë¬´ê¸° ë°°ì°ë¬ ìì´ì'â¦7ê°êµ­ ì¥ë³ë¤ ì¡êµ° êµ­ì ê³¼ì  ì°¸ì¬\",summary:\"(ìì¸=ë´ì¤1) ë°ìì§ ê¸°ì = K9ìì£¼í¬Â·K2ì ì°¨ ë± êµ­ì° ë¬´ê¸°ì²´ê³ë¥¼ êµ¬ë§¤íê±°ë êµ¬ë§¤íê¸¸ í¬ë§íë ì£¼ì ë°©ì°íë ¥ êµ­ê°ì ì¥ë³ë¤ì´ ë°©íí´ í´ë¹ ì¥ë¹ì ì ì ì  ì´ì©ë°©ë²ì ë°°ì°ê³  ìë¤. 22ì¼ êµ° ë¹êµ­ì ë°ë¥´ë©´ ì¡êµ°ì ì´ë¬ 18ì¼ë¶í° 3ì£¼ ì¼ì ì¼ë¡ ì ë¨ ìë¬´ëì ëì  ìì´ë ë³ê³¼íêµ ë±ì§ìì '2024ë\n",
       " íë°ê¸° ì¡êµ° êµ­ì ê³¼ì  K-AIC'ì ì§ííê³  ìë¤.\",pcUrl:\"https://v.daum.net/v/20241122093903423\",moUrl:\"https://v.daum.net/v/20241122093903423\",image:\"https://t1.daumcdn.net/news/202411/22/NEWS1/20241122093906150xgoe.jpg\",cpName:\"ë´ì¤1\",cpImage:\"https://t1.daumcdn.net/media/news/news2016/cp/cp_news1.gif\",cpDarkImage:\"https://t1.daumcdn.net/media/news/2020/cp/cp_news1_dm.png\",createdAt:\"2024-11-22T09:39:03+09:00\",mediaPickDuplicateCount:0,clipLinkId:null,serviceName:\"ë´ì¤\"},{id:\"hamny-20241122092448896\",type:\"TEXT\",title:\"\\\"ë¯¸êµ­ê³¼ ê° ë°ê¹ì§ ê°ë´¤ë¤\\\"â¦ê¹ì ì, í¸ë¼í ê²¨ë¥í ìë´ë?\",summary:\"ê¹ì ì ë¶í ë\n",
       "¸ëë¹ ì´ë¹ì ê²¸ êµ­ë¬´ììì¥ì´ ëëë í¸ë¼í ë¯¸êµ­ ëíµë ¹ ë¹ì ì¸ì´ ì§ê¶íë ìì  ë¯¸êµ­ê³¼ íìíë©´ì 'ì ëì  ëë¶ì ì±\n",
       "' ê¸°ì¡°ë¥¼ íì íë¤ê³  ì£¼ì¥íë¤. ê¹ ììì¥ì´ í¸ë¼í ë¹ì ì¸ì ì§ì  ì¸ê¸íì§ ììì§ë§ ê¹ì ì ì ê¶ì´ ë¯¸êµ­ê³¼ íìí ìê¸°ë í¸ë¼í 1ê¸° íì ë¶ ìì ë°ì ìë¤. ë¶íì´ í¸ë¼í ë¹ì ì¸ì ê²¨ë¥í ë°ì¸ì ì´ë²ì´ ì²ìì´ë¤. ë¶í ë\n",
       "¸ëì ë¬¸ì\",pcUrl:\"https://v.daum.net/v/20241122092448896\",moUrl:\"https://v.daum.net/v/20241122092448896\",image:\"https://t1.daumcdn.net/news/202411/22/moneytoday/20241122093852979niow.jpg\",cpName:\"ë¨¸ëí¬ë°ì´\",cpImage:\"https://t1.daumcdn.net/media/news/news2016/cp/cp_moneytoday.gif\",cpDarkImage:\"https://t1.daumcdn.net/media/news/2020/cp/cp_moneytoday_dm.png\",createdAt:\"2024-11-22T09:24:48+09:00\",mediaPickDuplicateCount:0,clipLinkId:null,serviceName:\"ë´ì¤\"},{id:\"hamny-20241122091510565\",type:\"TEXT\",title:\"å 'ë¬´ê¸° ì¼ì¼ì´ì¤'â¦ìì´ë¶í° ë¬´ì¸ê¸°Â·ICBMê¹ì§ íë° ëª¨ì ì ì\",summary:\"(ìì¸=ì°í©ë´ì¤) ê¹ì§í ê¸°ì = ë¶íì´ ì¬í´ë ë¬´ê¸° ì ìíë¥¼ ì´ì´ ê°ì¢\n",
       " ì¥ë¹ì ëë° ì­ëì ê³¼ìíë©´ì ë¬ììë¥¼ í¥í 'ë¬´ê¸° ì¼ì¼ì´ì¤'ë¥¼ ê°ìµíë¤. ë¬´ì¥ì¥ë¹ì ìí 'êµ­ë°©ë°ì -2024'ê° 21ì¼ íììì ê°ë§íë¤ê³  ë¶í ì¡°ì ì¤ìíµì ì´ 22ì¼ ë³´ëíë¤. ë¶íì ì§ëí´ 7ì ë¬ìì êµ°ì¬ëíë¨ì ì´ì²­í´ 'ë¬´ì¥ì¥ë¹ì ìí-2023'ì ì´ìëë° ê·¸ ì°¨ê¸° íì¬ë¤. ë¶íì\",pcUrl:\"https://v.daum.net/v/20241122091510565\",moUrl:\"https://v.daum.net/v/20241122091510565\",image:\"https://t1.daumcdn.net/news/202411/22/yonhap/20241122091510569ngyo.jpg\",cpName:\"ì°í©ë´ì¤\",cpImage:\"https://t1.daumcdn.net/media/news/news2016/cp/cp_yonhap.gif\",cpDarkImage:\"https://t1.daumcdn.net/media/news/2020/cp/cp_yonhap_dm.png\",createdAt:\"2024-11-22T09:15:10+09:00\",mediaPickDuplicateCount:0,clipLinkId:null,serviceName:\"ë´ì¤\"},{id:\"hamny-20241122063234367\",type:\"TEXT\",title:\"9ê¸ ê²½ìë¥  32ë\n",
       "ë§ì ìµì Â·Â·Â·ê³µë¬´ì ì¸ê¸° ë¨ì´ì§ ì´ì ë 'ì´ê²'\",summary:\"[ìì¸ê²½ì ] êµ­ê°ê³µë¬´ì 9ê¸ ê³µì± ê²½ìë¥ ì´ 1992ë\n",
       " ì´í 32ë\n",
       " ë§ì ìµì ì¹ë¥¼ ê¸°ë¡í ê°ì´ë° íì§ ê³µë¬´ì 10ëª\n",
       " ì¤ 9ëª\n",
       "ì ìµê·¼ ê³µë¬´ì ì¸ê¸°ê° ìë¤í´ì§ ì´ì ë¥¼ âë®ì ê¸ì¬â ëë¬¸ì´ë¼ê³  ìê°íë ê²ì¼ë¡ ëíë¬ë¤. ì\n",
       "ì± ë¯¼ìì ë°ë¥¸ ì¤í¸ë ì¤ì ìì§ì ì¸ ì¡°ì§ ë¬¸í ë±ì´ ë¤ë¥¼ ì´ìë¤. êµ­ë¯¼ì´ ìê°íë ì¸ì¬íì ì²ê° ì§ì¤í´ì¼ íë íµì¬ ì\n",
       "ë¬´ë âê³µë¬´ìì´ ë§ì ëê³ \",pcUrl:\"https://v.daum.net/v/20241122063234367\",moUrl:\"https://v.daum.net/v/20241122063234367\",image:\"https://t1.daumcdn.net/news/202411/22/seouleconomy/20241122090040139dytv.jpg\",cpName:\"ìì¸ê²½ì \",cpImage:\"https://t1.daumcdn.net/media/news/news2016/cp/cp_seouleco.gif\",cpDarkImage:\"https://t1.daumcdn.net/media/news/2020/cp/cp_seouleco_dm.png\",createdAt:\"2024-11-22T06:32:34+09:00\",mediaPickDuplicateCount:0,clipLinkId:null,serviceName:\"ë´ì¤\"},{id:\"hamny-20241122060037913\",type:\"TEXT\",title:\"ê¹ì ì êµ­ë°©ì°êµ¬ìì¥, ëí Â·ëì ë½ì êµ­ë°©Â·ë°©ì°íë ¥ 'êµ°ì¬ì¸êµ'\",summary:\"(ìì¸=ë´ì¤1) ë°ìì§ ê¸°ì = ê¹ì ì íêµ­êµ­ë°©ì°êµ¬ì(KIDA) ìì¥ì´ ë¶ëììì¡°ì½ê¸°êµ¬(NATOÂ·ëí ) ë° ì ë½ì°í©(EU)ì ì£¼ì ì¸êµìë³´ì ì±\n",
       "ì íì\n",
       "íê³  ëì ë½ êµ­ê°ë¤ê³¼ì êµ­ë°©Â·ë°©ì° íë ¥ ê°íë¥¼ ìí êµ°ì¬ì¸êµì ìíë¤. 22ì¼ ë´ì¤1 ì·¨ì¬ë¥¼ ì¢\n",
       "í©íë©´ ê¹ ìì¥ì ì§ë 13ì¼ë¶í° 21ì¼ê¹ì§ 7ë° 9ì¼ê° ë²¨ê¸°ì ë¸ë¤¼ì\n",
       "ì ìë ë¶ëììì¡°ì½ê¸°êµ¬(NATOÂ·ëí )\",pcUrl:\"https://v.daum.net/v/20241122060037913\",moUrl:\"https://v.daum.net/v/20241122060037913\",image:\"https://t1.daumcdn.net/news/202411/22/NEWS1/20241122060041040uhpt.jpg\",cpName:\"ë´ì¤1\",cpImage:\"https://t1.daumcdn.net/media/news/news2016/cp/cp_news1.gif\",cpDarkImage:\"https://t1.daumcdn.net/media/news/2020/cp/cp_news1_dm.png\",createdAt:\"2024-11-22T06:00:37+09:00\",mediaPickDuplicateCount:0,clipLinkId:null,serviceName:\"ë´ì¤\"},{id:\"hamny-20241122005537308\",type:\"TEXT\",title:\"ìê³ ë¹ê° ììì¬ë¦° âë¹ë§ì½ ê°ë° ì´íâ\",summary:\"ëì\n",
       "ì ì½ì ìµê·¼ ìì½ ííì âë¨¹ë ë¹ë§ì½â ì ì½ ë¬¼ì§ì ëí êµ­ë´ í¹í ì¶ìì ë§ì³¤ë¤. ì´ ì½ì íë¹ê³¼ ì²´ì¤ì ì¡°ì íë ì¤ì í¸ë¥´ëª¬ì¸ GLP(ê¸ë£¨ì¹´ê³¤ ì ì¬ í©íì´ë)-1 ìì©ì²´ì GIP(ì ìµì  í©íì´ë) ìì©ì²´ì ëìì ìì©íë âì´ì¤ ìì©ì âë¤. ìì ìµì ì ì§ë°© ì°ìë¥¼ ëìì í´ ì²´ì¤ ê°ë í¨ê³¼ë¥¼ ê·¹ëííë¤. í¹í ê¸°ì¡´ ì£¼ì¬ì  ííì ì¹ë£ì ì ë¬ë¦¬\",pcUrl:\"https://v.daum.net/v/20241122005537308\",moUrl:\"https://v.daum.net/v/20241122005537308\",image:\"https://t1.daumcdn.net/news/202411/22/chosun/20241122005538968xxbm.png\",cpName:\"ì¡°ì ì¼ë³´\",cpImage:\"https://t1.daumcdn.net/media/news/news2016/cp/cp_chosun.gif\",cpDarkImage:\"https://t1.daumcdn.net/media/news/2020/cp/cp_chosun_dm.png\",createdAt:\"2024-11-22T00:55:37+09:00\",mediaPickDuplicateCount:0,clipLinkId:null,serviceName:\"ë´ì¤\"}],hasNext:true}},validCode:\"GOOD\",updatedAt:\"2024-11-22T14:07:23.270028033+09:00\",lastFetchedAt:\"2024-11-22T14:33:49.569487685+09:00\"},title:\"ì¸êµ/êµ­ë°©(ì£¼ìë´ì¤)\"}],order:\"default\"},\"303b55da-cd91-4dee-a6bf-764a22b2dc53\":{clusterDisplayType:\"scrollable\",pagingButton:{buttonText:\"ë´ì¤\",buttonOutlink:null,buttonType:\"refresh\"},outlink:\"https://news.daum.net/politics\",tooltip:null,pageSize:4,title:\"êµ­í/ì ë¹\",newsClusters:[{isDefault:false,data:{code:200,message:null,document:{data:{id:5966846,title:\"êµ­í/ì ë¹(ì£¼ìë´ì¤)\",contents:[{id:\"hamny-20241122141711090\",type:\"TEXT\",title:\"677ì¡° ë´ë\n",
       " ìì°ì, ì¼ë¹ ë¬´ì°¨ë³ ì¹¼ì§â¦ë²ì ìí ì²ë¦¬ ëí­\",summary:\"(ìì¸=ë´ì¤1) íë³ì°¬ ê¸°ì = ì¬ì¼ê° 677ì¡° ì ê·ëª¨ì ë´ë\n",
       "ë ì ë¶ ìì°ìì ëê³  ííì ì ì´ì´ê°ë©° ë²ì  ì²ë¦¬ ìíì ì¬í´ë ëê¸°ë ê² ìëëë ì°ë ¤ê° ëì¨ë¤. ì ë¶ ìì°ìì ëí­ 'ì¹¼ì§'íë ¤ë ì¼ë¹ê³¼ 'ê±´ì ì¬ì ' ê¸°ì¡°ë¥¼ ì§í¤ê² ë¤ë ì¬ë¹ì´ ê³³ê³³ìì ê²©ëíê³  ìë¤. 22ì¼ ì ì¹ê¶ì ë°ë¥´ë©´ êµ­í ê¸°íì¬ì ììíë ë´ë\n",
       "ë ì ë¶ ìë¹ë¹ í¸ì±ì ëê³  ì ìë¦¬ê±¸ì\",pcUrl:\"https://v.daum.net/v/20241122141711090\",moUrl:\"https://v.daum.net/v/20241122141711090\",image:\"https://t1.daumcdn.net/news/202411/22/NEWS1/20241122141712020gevw.jpg\",cpName:\"ë´ì¤1\",cpImage:\"https://t1.daumcdn.net/media/news/news2016/cp/cp_news1.gif\",cpDarkImage:\"https://t1.daumcdn.net/media/news/2020/cp/cp_news1_dm.png\",createdAt:\"2024-11-22T14:17:11+09:00\",mediaPickDuplicateCount:0,clipLinkId:null,serviceName:\"ë´ì¤\"},{id:\"hamny-20241122134910200\",type:\"TEXT\",title:\"âì¬ë² ì¬íëâì ì  ì´ì¬ëª\n",
       "Â·ì¡°êµ­â¦ë¯¼ì£¼Â·íì  ìë¹ ìµë ìê¸°\",summary:\"ëë¶ì´ë¯¼ì£¼ë¹ ì´ì¬ëª\n",
       " ëíê° ì¤ë 25ì¼ ê³µì§ì ê±°ë² ìë° ê´ë ¨ 1ì¬ ì¬íì ë°ë ê°ì´ë°, ìë´ 3ë¹ì¸ ì¡°êµ­íì ë¹ ì¡°êµ­ ëíì ëí ëë²ì ìê³ ì¬ì´ ìê³ ëë©´ì ë²ì¼ê¶ ìíìì ìê¸°ë¡ ì´ íì°íê³  ìë¤. 22ì¼ ì¬ì¼ì ë°ë¥´ë©´ ìë\n",
       " ì\n",
       "ì ë¹ë¦¬ì ì²­ìë ê°ì°° ë¬´ë§ ë± íìë¡ 1Â·2ì¬ìì ì¤í ì ê³ ë¥¼ ë°ì ì¡°êµ­(58) ëíê° ë¤ì ë¬ 12ì¼ ëë²ììì íì íê²°ì\",pcUrl:\"https://v.daum.net/v/20241122134910200\",moUrl:\"https://v.daum.net/v/20241122134910200\",image:\"https://t1.daumcdn.net/news/202411/22/kyeonggi/20241122134911712sxvj.jpg\",cpName:\"ê²½ê¸°ì¼ë³´\",cpImage:\"\",cpDarkImage:null,createdAt:\"2024-11-22T13:49:10+09:00\",mediaPickDuplicateCount:0,clipLinkId:null,serviceName:\"ë´ì¤\"},{id:\"hamny-20241122133034774\",type:\"TEXT\",title:\"\\\"ìë£ëëì å°¹ ì ë¶ ì´ëí ì¸ì¬\\\"â¦ íìì²´ ê±°ë¶í ë¯¼ì£¼ë¹ í¹ë³ë² ì­ê³µ\",summary:\"ëë¶ì´ë¯¼ì£¼ë¹ì´ ìë£ëëì¼ë¡ í¼í´ë¥¼ ì\n",
       "ì êµ­ë¯¼ë¤ìê² ë³´ìê¸ì ì§ê¸íë 'ìë£ëë í¼í´ë³´ì í¹ë³ë²'ì ë°ìíë¤. ì¤ìì´ ì ë¶ì ì ì±\n",
       "ì  ì¤í¨ë¥¼ ê°ì¡°íë ëìì ì¬ì¼ìì  íìì²´ ë¶ì°¸ì ë°ë¥¸ ì±\n",
       "ìì ììíë ¤ë ì°¨ìì´ë¤. ë¯¼ì£¼ë¹ ìë£ëëëì±\n",
       "í¹ë³ììí ìì ììë¤ì 22ì¼ êµ­íìì ê¸°ìíê²¬ì ì´ê³  \\\"ì§ê¸ì ìë£ëëì ì¤ìì´ ì ë¶ì ë¬´ì±\n",
       "ìí ì ì±\n",
       " ê²°ì ì´ ì´ëí ëª\n",
       "ë°±í\",pcUrl:\"https://v.daum.net/v/20241122133034774\",moUrl:\"https://v.daum.net/v/20241122133034774\",image:\"https://t1.daumcdn.net/news/202411/22/hankooki/20241122133036193elco.jpg\",cpName:\"íêµ­ì¼ë³´\",cpImage:\"https://t1.daumcdn.net/media/news/news2016/cp/cp_hankooki.gif\",cpDarkImage:\"https://t1.daumcdn.net/media/news/2020/cp/cp_hankooki_dm.png\",createdAt:\"2024-11-22T13:30:34+09:00\",mediaPickDuplicateCount:0,clipLinkId:null,serviceName:\"ë´ì¤\"},{id:\"hamny-20241122131930559\",type:\"TEXT\",title:\"ì¡°êµ­íì ë¹ \\\"ëë²ì, ì¡°êµ­ 'íê¸°íì¡' ê²°ì  ë´ë¦´ ê²\\\"\",summary:\"[ìì´ë´ì¤24 ê¹ì£¼í ê¸°ì] ì¡°êµ­íì ë¹ì´ 22ì¼ ì¡°êµ­ ëíì ëë²ì ì ê³  ê¸°ì¼ì´ íì ë ê²ì ëí´ \\\"ëë²ìì´ ìë ê·¸ëë¡ì ì¬ì¤ì ê·¼ê±°í´ íê¸°íì¡ ê²°ì ì ë´ë¦´ ê²ì´ë¼ê³  ê¸°ëíë¤\\\"ê³  íë¤. ë¹ì ì´ë  ì¸ë¡  ê³µì§ë¥¼ íµí´ \\\"íì ë¹ì ëë²ì íê²° ê²°ê³¼ì ë¬´ê´íê² íë¤ë¦¼ ìì´ í´ì¼ í  ì¼ì í  ê²\\\"ì´ë¼ë©° ì´ê°ì´ ë°íë¤. ëë²ì 3ë¶(ì£¼ì¬ ììí ëë²ê´)ë ì¤ë 12\",pcUrl:\"https://v.daum.net/v/20241122131930559\",moUrl:\"https://v.daum.net/v/20241122131930559\",image:\"https://t1.daumcdn.net/news/202411/22/inews24/20241122131930997uccc.jpg\",cpName:\"ìì´ë´ì¤24\",cpImage:\"https://t1.daumcdn.net/media/news/news2016/cp/cp_inews24.gif\",cpDarkImage:\"https://t1.daumcdn.net/media/news/2020/cp/cp_inews24_dm.png\",createdAt:\"2024-11-22T13:19:30+09:00\",mediaPickDuplicateCount:0,clipLinkId:null,serviceName:\"ë´ì¤\"},{id:\"hamny-20241122124004785\",type:\"TEXT\",title:\"éì§ì±ì¤ \\\"ê°ììì° ê³µì íë ëì¬ì ìííê¸°ë¡â¦êµ­ë¯¼ê³¼ì ì½ì\\\"\",summary:\"[ì´ë°ì¼ë¦¬ ì´ìë¹ ê¸°ì] ëë¶ì´ë¯¼ì£¼ë¹ì´ 22ì¼ ê³µì íëë¥¼ 5000ë§ìì¼ë¡ ìí¥í ê°ììì° í¬ììë ê³¼ì¸ë¥¼ ìì ëë¡ 2025ë\n",
       "ë¶í° ìííê² ë¤ë ì\n",
       "ì¥ì ëª\n",
       "íí íë¤. ì§ì±ì¤ ë¯¼ì£¼ë¹ ì ì±\n",
       "ììì¥ì âê°ììì° ê³µì  íëë¥¼ 250ë§ììì 5000ë§ìê¹ì§ ìí¥íê² ë¤ë ê²ì´ ì§ë ì´ì  ë¹ì ë¯¼ì£¼ë¹ì ê³µì½ì´ìë¤âë©° âì´ ê³µì½ì êµ­ë¯¼ê³¼ì ì½ìì´ê¸° ëë¬¸ì í¨ë¶ë¡ ë¤ì§ì ì\",pcUrl:\"https://v.daum.net/v/20241122124004785\",moUrl:\"https://v.daum.net/v/20241122124004785\",image:\"https://t1.daumcdn.net/news/202411/22/Edaily/20241122124007367lfow.jpg\",cpName:\"ì´ë°ì¼ë¦¬\",cpImage:\"https://t1.daumcdn.net/media/news/news2016/cp/cp_Edaily.gif\",cpDarkImage:\"https://t1.daumcdn.net/media/news/2020/cp/cp_Edaily_dm.png\",createdAt:\"2024-11-22T12:40:04+09:00\",mediaPickDuplicateCount:0,clipLinkId:null,serviceName:\"ë´ì¤\"},{id:\"hamny-20241122120856317\",type:\"TEXT\",title:\"ê¸í¬ì¸ ì§ëë 'ìë²Â·ì½ì¸ê³¼ì¸' ë¶ëªí ë¯¼ì£¼â¦ëí ì ëµ ê³ ì¬\",summary:\"(ìì¸=ì°í©ë´ì¤) ì¤ì¹ì ì¤ê·ì§ ê¸°ì = ìë² ê°ì ê³¼ ê°ììì° ê³¼ì¸ ë¬¸ì ë¥¼ ëê³  22ì¼ ëë¶ì´ë¯¼ì£¼ë¹ì ê³ ë¯¼ì´ ê¹ì´ì§ê³  ìë¤. 'ë¨¹ì¬ëì¦'ì¼ë¡ ëíëë ì¤ì© ë\n",
       "¸ì ì í´ì¨ ì´ì¬ëª\n",
       " ëíê° ì´ë¬ ì´ ì´ë ¤ì´ ì£¼ì ìì¥ ìí©ê³¼ ê°ë¯¸ í¬ìì ë°ë°ì ê³ ë ¤í´ ë¹ë¡ ì ë²ë³µíê³  ê¸ìµí¬ììëì¸ íì§ ê²°ì ì ë´ë¦¬ìë§ì ë ë¤ë¥¸ ì°ì ë§ë íêµ­ì´ë¤. ë¬¼ë¡  ì¬ì í ìë² ê°ì ìì ì°\",pcUrl:\"https://v.daum.net/v/20241122120856317\",moUrl:\"https://v.daum.net/v/20241122120856317\",image:\"https://t1.daumcdn.net/news/202411/22/yonhap/20241122120856323qhhd.jpg\",cpName:\"ì°í©ë´ì¤\",cpImage:\"https://t1.daumcdn.net/media/news/news2016/cp/cp_yonhap.gif\",cpDarkImage:\"https://t1.daumcdn.net/media/news/2020/cp/cp_yonhap_dm.png\",createdAt:\"2024-11-22T12:08:56+09:00\",mediaPickDuplicateCount:0,clipLinkId:null,serviceName:\"ë´ì¤\"},{id:\"hamny-20241122120757298\",type:\"TEXT\",title:\"ì´ì¬ëª\n",
       " ì ì£ìë 20% ë¨¸ë¬¸ å°¹ì§ì§ì¨â¦1ì¬ íê²° íê°ë í½í½\",summary:\"ì´ì¬ëª\n",
       " ëë¶ì´ë¯¼ì£¼ë¹ ëíê° ê³µì§ì ê±°ë² ìë° íì 1ì¬ ì¬íìì âì§ì­ 1ë\n",
       ", ì§íì ì 2ë\n",
       "âì ì ê³ ë°ìì¼ë, ì¤ìì´ ëíµë ¹ì ì§ì§ì¨ê³¼ ì¬ì¼ ì ë¹ ì§ì§ì¨ìë ë³ë¤ë¥¸ ë³íê° ìë ê²ì¼ë¡ ëíë¬ë¤. íêµ­ê°¤ë½ì´ 19~21ì¼ ì êµ­ ë§ 18ì¸ ì´ì ì ê¶ì 1001ëª\n",
       "ìê² ì íë©´ì ë°©ìì¼ë¡ ì¡°ì¬í ê²°ê³¼ìì, ìëµìì 20%ë ì¤ìì´ ëíµë ¹ì êµ­ì  ì´ìì ëí´ âìíê³ \",pcUrl:\"https://v.daum.net/v/20241122120757298\",moUrl:\"https://v.daum.net/v/20241122120757298\",image:\"https://t1.daumcdn.net/news/202411/22/joongang/20241122120758885jgpq.jpg\",cpName:\"ì¤ìì¼ë³´\",cpImage:\"https://t1.daumcdn.net/media/news/news2016/cp/cp_JoongAng.gif\",cpDarkImage:\"https://t1.daumcdn.net/media/news/2020/cp/cp_JoongAng.png\",createdAt:\"2024-11-22T12:07:57+09:00\",mediaPickDuplicateCount:0,clipLinkId:null,serviceName:\"ë´ì¤\"},{id:\"hamny-20241122115813077\",type:\"TEXT\",title:\"é, ëí´ììì ìê³¡ë² ì¬ì¼ ë¨ë\n",
       "ìê²°â¦è \\\"ì\n",
       "ë²í­ì£¼\\\" ë°ë°\",summary:\"(ìì¸=ì°í©ë´ì¤) ìíì­ ê¸°ì = ëë¶ì´ë¯¼ì£¼ë¹ì´ ì¤ìì´ ëíµë ¹ì ì¬ììêµ¬ê¶(ê±°ë¶ê¶) íì¬ë¡ íê¸°ëë ìê³¡ê´ë¦¬ë² ê°ì ì ë±ì 21ì¼ ì¬ì¼ ììììì ë¨ë\n",
       " ì²ë¦¬íë¤. ìê²°ì ë¶ì°¸í ì¬ë¹ì 22ì¼ \\\"ë¯¼ì£¼ë¹ì´ ì\n",
       "ë² í­ì£¼ë¥¼ íê³  ìë¤\\\"ë©° ê°ë ¥í ë°ë°íë¤. ìì ëí´ììë ì ë  ìê³¡ê´ë¦¬ë², ëìì°ë¬¼ ì íµ ë° ê°ê²©ìì ì ê´í ë²ë¥ , ëì´ì\n",
       "ì¬í´ë³´íë², ëì´ì\n",
       "ì¬í´ëì±\n",
       "ë²\",pcUrl:\"https://v.daum.net/v/20241122115813077\",moUrl:\"https://v.daum.net/v/20241122115813077\",image:\"https://t1.daumcdn.net/news/202411/22/yonhap/20241122115813996ifbr.jpg\",cpName:\"ì°í©ë´ì¤\",cpImage:\"https://t1.daumcdn.net/media/news/news2016/cp/cp_yonhap.gif\",cpDarkImage:\"https://t1.daumcdn.net/media/news/2020/cp/cp_yonhap_dm.png\",createdAt:\"2024-11-22T11:58:13+09:00\",mediaPickDuplicateCount:0,clipLinkId:null,serviceName:\"ë´ì¤\"},{id:\"hamny-20241122113345315\",type:\"TEXT\",title:\"êµ­í \\\"ë¹ì , ì°ì´ ì¶ê²½ ê²í  ìí´â¦ë³¸ìì° ì¬ì¬ê° ì°ì \\\"\",summary:\"(ìì¸=ë´ì¤1) ì¡ìí ê¸°ì = êµ­ë¯¼ìíì´ 22ì¼ ì¼ê°ìì ì ê¸°ë ë´ë\n",
       " ì°ì´ ì¶ê²½ ê°ë¥ì±ì ëí´ ì ì ê·¸ìë¤. ê¹ìí ì ì±\n",
       "ììì¥ì ì´ë  'ë´ë\n",
       "(2025ë\n",
       ") ì¶ê²½ í¸ì± ê´ë ¨ ì\n",
       "ì¥ë¬¸'ì ë´ê³  \\\"ì ë¶ë¡ë¶í° ì¶ê²½ í¸ì±ì ëí íì ìì²­ì´ ììë¤\\\"ë©° \\\"ë¹ì ì ì ë¶ ì¸¡ìì ê³µì§í ëë¡ ë´ë\n",
       " ì´ ì¶ê²½ í¸ì±ì ê²í íê³  ìì§ ìë¤ë ë§ìì ëë¦°ë¤\\\"ê³  íë¤. ì´ì´ \\\"ì¶ê²½\",pcUrl:\"https://v.daum.net/v/20241122113345315\",moUrl:\"https://v.daum.net/v/20241122113345315\",image:\"https://t1.daumcdn.net/news/202411/22/NEWS1/20241122113347656puzv.jpg\",cpName:\"ë´ì¤1\",cpImage:\"https://t1.daumcdn.net/media/news/news2016/cp/cp_news1.gif\",cpDarkImage:\"https://t1.daumcdn.net/media/news/2020/cp/cp_news1_dm.png\",createdAt:\"2024-11-22T11:33:45+09:00\",mediaPickDuplicateCount:0,clipLinkId:null,serviceName:\"ë´ì¤\"},{id:\"hamny-20241122113003175\",type:\"TEXT\",title:\"ê²½ì°° í¹íë¹ë ì ì¡ ì­ê°íê³ â¦ì§ì­íí ìì° 2ì¡°ì ëë¦° é\",summary:\"ëë¶ì´ë¯¼ì£¼ë¹ì´ ë´ë\n",
       "ë ìì°ìì ì¬ì¬íë ê³¼ì ìì ëíµë ¹ì¤ê³¼ ê²½ì°°ì²­ì í¹ìíëë¹(í¹íë¹)ë¥¼ ì ì¡ ì­ê°íë ëìì ì´ì¬ëª\n",
       " ëíê° ì£¼ì¥í´ì¨ ì§ì­íí ë°íì§ììì°ì ëí­ ì¦ì¡íë¤. ì¬ê¶ììë ì ë¶ì ëí 'ë³´ë³µì± ìì°'ì´ì ì´ ëíë¥¼ ìí 'ì ì¹ ìì°'ì´ë¼ë ì§ì ì´ ëìë¤.Â  22ì¼ êµ­íì ë°ë¥´ë©´ ë¯¼ì£¼ë¹ì ì§ë 21ì¼ êµ­í ì´ìììíìì ëíµë ¹ì¤ í¹íë¹ë¥¼ 82ìµ\",pcUrl:\"https://v.daum.net/v/20241122113003175\",moUrl:\"https://v.daum.net/v/20241122113003175\",image:\"https://t1.daumcdn.net/news/202411/22/ked/20241122113408163myeh.jpg\",cpName:\"íêµ­ê²½ì \",cpImage:\"https://t1.daumcdn.net/media/news/news2016/cp/cp_ked.gif\",cpDarkImage:\"https://t1.daumcdn.net/media/news/2020/cp/cp_ked_dm.png\",createdAt:\"2024-11-22T11:30:03+09:00\",mediaPickDuplicateCount:0,clipLinkId:null,serviceName:\"ë´ì¤\"},{id:\"hamny-20241122110359111\",type:\"TEXT\",title:\"ë¯¼ì£¼ \\\"ì¤ê±´í¬ ë§í¸, êµ­í ê³µì² ë°ê²ì¸ì¼â¦ê²ì°°, ê·¸ë¬ë¤ ì¿ ëë¤\\\"\",summary:\"(ìì¸=ë´ì¤1) ê¹ê²½ë¯¼ íë³ì°¬ ìì¤ì§ ê¸°ì = ëë¶ì´ë¯¼ì£¼ë¹ì 22ì¼ ì¤ìì´ ëíµë ¹ì í¥í´ ê¹ê±´í¬ í¹ê²ë² ìì©ì ìë°íê³  ê²ì°°ì ë§¹í­ì í¼ë¶ìë¤. ë°ì°¬ë ìë´ëíë ì´ë  ì¤ì  êµ­íìì ì´ë¦° íëê°ë¶íììì \\\"íë£¨íë£¨ ë¤ë¶ì²ë¼ ë²ì§ë ìêµ­ì ì¸ì ì§ê¸ ëíë¯¼êµ­ì´ ì¼ë§ë ì¬ê°í ë¯¼ì£¼ì£¼ì ìê¸° ìí©ì ë§ì´íê³  ìëì§ë¥¼ ê·¹ëª\n",
       "íê² ë³´ì¬ì£¼ê³  ìë¤\\\"ë©° \\\"ê·¸ë ê¸°ì êµ°ì¬ë\n",
       "\",pcUrl:\"https://v.daum.net/v/20241122110359111\",moUrl:\"https://v.daum.net/v/20241122110359111\",image:\"https://t1.daumcdn.net/news/202411/22/NEWS1/20241122110359840tlpr.jpg\",cpName:\"ë´ì¤1\",cpImage:\"https://t1.daumcdn.net/media/news/news2016/cp/cp_news1.gif\",cpDarkImage:\"https://t1.daumcdn.net/media/news/2020/cp/cp_news1_dm.png\",createdAt:\"2024-11-22T11:03:59+09:00\",mediaPickDuplicateCount:0,clipLinkId:null,serviceName:\"ë´ì¤\"},{id:\"hamny-20241122105813864\",type:\"TEXT\",title:\"ì´ìì° \\\"ëíµë ¹ ë¹ì ì¸ ì ë¶, ê³µì² ê°ì\n",
       "íë¤ë©´ ííµì¬ì \\\"\",summary:\"[ìì´ë´ì¤24 ìµê¸°ì²  ê¸°ì] ì´ëª\n",
       "ë° ì ë¶ ë²ì ì²ì¥ì ì­ìí ì´ìì° ëìë ìì¢êµìê° \\\"ëíµë ¹ ë¹ì ìë¡ì ê³µì²ì ê°ì\n",
       "íë¤ë©´ ííµì¬ì \\\"ë¼ê³  ì£¼ì¥íë¤. 2022ë\n",
       " ì¬ë³´ê¶ì ê±° ë¹ì ë¹ì ì¸ ì ë¶ì¼ë¡, ê¹ìì  êµ­ë¯¼ìí ìì ê³µì²ì ê°ì\n",
       "íë¤ë ìí¹ì´ ì ê¸°ë ì¤ìì´ ëíµë ¹ì ì ì¡°ì¤ í ê²ì´ë¤. ì´ ì  ì²ì¥ì 22ì¼ CBS ë¼ëì¤ \\u003Cê¹íì ì ë´ì¤ì¼>ì ì¶ì°í´ \\\"ëíµë ¹ ë¹ì \",pcUrl:\"https://v.daum.net/v/20241122105813864\",moUrl:\"https://v.daum.net/v/20241122105813864\",image:\"https://t1.daumcdn.net/news/202411/22/inews24/20241122120348533xdcu.jpg\",cpName:\"ìì´ë´ì¤24\",cpImage:\"https://t1.daumcdn.net/media/news/news2016/cp/cp_inews24.gif\",cpDarkImage:\"https://t1.daumcdn.net/media/news/2020/cp/cp_inews24_dm.png\",createdAt:\"2024-11-22T10:58:13+09:00\",mediaPickDuplicateCount:0,clipLinkId:null,serviceName:\"ë´ì¤\"}],hasNext:true}},validCode:\"GOOD\",updatedAt:\"2024-11-22T14:17:36.992254897+09:00\",lastFetchedAt:\"2024-11-22T14:33:49.58138405+09:00\"},title:\"êµ­í/ì ë¹(ì£¼ìë´ì¤)\"}],order:\"default\"},\"c4d2d907-5076-445e-bac4-b9425d93c7d1\":{clusterDisplayType:\"scrollable\",pagingButton:{buttonText:\"ë´ì¤\",buttonOutlink:null,buttonType:\"refresh\"},outlink:\"https://news.daum.net/administration\",tooltip:null,pageSize:4,title:\"íì /ì§ìì²´\",newsClusters:[{isDefault:false,data:{code:200,message:null,document:{data:{id:5966847,title:\"íì /ì§ìì²´(ì£¼ìë´ì¤)\",contents:[{id:\"hamny-20241122142840522\",type:\"TEXT\",title:\"íì± ì¹ë§¤ ìììì¤ ë\n",
       "¼ëâ¦\\\"êµ°ìì ê°ì¡± í¹í\\\" VS \\\"í¹í ììë¤\\\"\",summary:\"(íì±=ì°í©ë´ì¤) ê¹ìì° ê¸°ì = ì¶©ë¨ íì± ê³µê³µ ì¹ë§¤ì ë´ ë\n",
       "¸ì¸ìììì¤ ê±´ë¦½ ì¬ì\n",
       " ëìì¼ë¡ êµ°ìì ì¹ì¸ì²ì´ ì´ìíë ì¬íë³µì§ë²ì¸ì´ ì ì ëë©´ì ì§ì­ ììë³´í¸ ì\n",
       "ê³ ê´ê³ì ë±ì´ ë°ë°íê³  ìë¤. íì±êµ°ì ì ì°¨ì ë°ë¼ ì¬ì\n",
       "ì´ ì¶ì§ëì¼ë©°, êµ°ìì ì­ì ì¬ì\n",
       "ê³¼ ê´ë ¨í´ ìê±°ë ê´ì¬í ë°ê° ìë¤ê³  í´ëª\n",
       "íë¤. 22ì¼ íì±êµ°ì ë°ë¥´ë©´ ë³´ê±´ë³µì§ë¶ë ì¤ì¦ ì¹ë§¤ ë\n",
       "¸ì¸ì ëí ì ë¬¸\",pcUrl:\"https://v.daum.net/v/20241122142840522\",moUrl:\"https://v.daum.net/v/20241122142840522\",image:\"https://t1.daumcdn.net/news/202411/22/yonhap/20241122142840305jiww.jpg\",cpName:\"ì°í©ë´ì¤\",cpImage:\"https://t1.daumcdn.net/media/news/news2016/cp/cp_yonhap.gif\",cpDarkImage:\"https://t1.daumcdn.net/media/news/2020/cp/cp_yonhap_dm.png\",createdAt:\"2024-11-22T14:28:40+09:00\",mediaPickDuplicateCount:0,clipLinkId:null,serviceName:\"ë´ì¤\"},{id:\"hamny-20241122100416448\",type:\"TEXT\",title:\"ê´ê´Â·ì°ì\n",
       "Â·ì ì£¼ ê°ì  ë°ì°¨â¦ê°ì ë¨ë¶ê±°ì  ë°ëì ììêµ°\",summary:\"â 2024 íêµ­ ê²½ì ë¥¼ ë¹ë¸ ì¸ë¬¼Â·ê²½ì â ììêµ°ì´ ì ë½í íê´ ëì ì´ë¯¸ì§ë¥¼ ë²ê³  ì¸êµ¬ìë©¸ ì§ì­ìì ê·ëÂ·ê·ì´ ì¼ë²ì§ë¡ íë°ê¿íê³  ìë¤. âììí ëì´ì íâì´ë¼ë ì ì¡°ì´ê° ìê¸¸ ë§í¼ íìê³¼ íë¶ëª¨, ì²­ë\n",
       "ë¤ì´ ëª¨ì¬ëë íë ¥ ëì¹ë ëìë¡ ë³íë¤. ìë ¤í ìì°íê²½ê³¼ íì±í ì­ì¬Â·ë¬¸í ììì´ ì´ì°ë¬ì ¸ ììêµ°ì ê°ì ë¨ë¶ë¥¼ ëííë ë¬¸íÂ·ê´ê´ ì°ì\n",
       " ëìë¡, ë\",pcUrl:\"https://v.daum.net/v/20241122100416448\",moUrl:\"https://v.daum.net/v/20241122100416448\",image:\"https://t1.daumcdn.net/news/202411/22/mk/20241122135414169nczt.jpg\",cpName:\"ë§¤ì¼ê²½ì \",cpImage:\"https://t1.daumcdn.net/media/news/news2016/cp/cp_mk.gif\",cpDarkImage:\"https://t1.daumcdn.net/media/news/2020/cp/cp_mk_dm.png\",createdAt:\"2024-11-22T10:04:16+09:00\",mediaPickDuplicateCount:0,clipLinkId:null,serviceName:\"ë´ì¤\"},{id:\"hamny-20241122100413446\",type:\"TEXT\",title:\"ì ì§ì  êµ°ì âìì¼ë¡ 2ë\n",
       "ì íê²½ëì ìí ìí´ ì ë ¥â\",summary:\"â 2024 íêµ­ ê²½ì ë¥¼ ë¹ë¸ ì¸ë¬¼Â·ê²½ì â ìíêµ°ì ì ì²´ ë©´ì ì´ ìì°ë³´ì ê¶ì­ì¼ë¡ ì§ì ë¼ ìë¤. ê·¸ë§í¼ ê·ì ë ë§ë¤. ìì§ë³´ì  í¹ë³ëì±\n",
       "ì§ì­, ìë³êµ¬ì­, ìììë³´í¸êµ¬ì­, ê°ë°ì íêµ¬ì­, êµ°ì¬ìì¤ë³´í¸êµ¬ì­ ë± ì¤ì²© ê·ì ë¥¼ ë°ê³  ìë ë°ë¤ê° ëí ì ì¤ì í  ì ìê³ , 6ë§ã¡ ì´ì ë©´ì ì ê³µì\n",
       "ë¨ì§ë ë¤ì´ì¤ ì ìë¤. ìíêµ°ì ì´ë¬í ì ëì êµ´íì§ ìê³  ì²­ì ì§ì­ì ì´ì \",pcUrl:\"https://v.daum.net/v/20241122100413446\",moUrl:\"https://v.daum.net/v/20241122100413446\",image:\"https://t1.daumcdn.net/news/202411/22/mk/20241122135115070ktjc.jpg\",cpName:\"ë§¤ì¼ê²½ì \",cpImage:\"https://t1.daumcdn.net/media/news/news2016/cp/cp_mk.gif\",cpDarkImage:\"https://t1.daumcdn.net/media/news/2020/cp/cp_mk_dm.png\",createdAt:\"2024-11-22T10:04:13+09:00\",mediaPickDuplicateCount:0,clipLinkId:null,serviceName:\"ë´ì¤\"},{id:\"hamny-20241122100409441\",type:\"TEXT\",title:\"â4ì°¨ ì°ì\n",
       " í¹ë³ëìâ ì²­ì¬ì§ í¼ì¹ ì±ë¨ì\",summary:\"â 2024 íêµ­ ê²½ì ë¥¼ ë¹ë¸ ì¸ë¬¼Â·ê²½ì â ì ìì§ ì±ë¨ìì¥ì ì¬í´ ì´ 2024ë\n",
       "ì ì²¨ë¨ 4ì°¨ì°ì\n",
       " í¹ë³ëì, ì±ë¨ì ë¯¸ë 50ë\n",
       "ì ì¬ë ìë\n",
       "ì¼ë¡ ì¼ê² ë¤ë í¬ë¶ë¥¼ ë°íë¤. íì¬ ì¶ì§ ì¤ì¸ íêµí\n",
       "í¬ë\n",
       "¸ë°¸ë¦¬ë¥¼ ë¹ë¡¯í´ ë¶ë¹ë²¤ì²ë°¸ë¦¬, ì¼íë°¸ë¦¬, íì´í\n",
       "í¬ë°¸ë¦¬, ìë¡ì§êµ¬ ì°ì\n",
       "ë¨ì§ ë± ì±ë¨ìë¿ë§ ìëë¼ ëíë¯¼êµ­ì ë¯¸ëë¨¹ê±°ë¦¬ë¥¼ ê³µê¸íë í°ì ì´ ë  ê²ì ì²ëª\n",
       "í ê²ì´ë¤. ìë¯¼ë¤\",pcUrl:\"https://v.daum.net/v/20241122100409441\",moUrl:\"https://v.daum.net/v/20241122100409441\",image:\"https://t1.daumcdn.net/news/202411/22/mk/20241122135112237wgps.png\",cpName:\"ë§¤ì¼ê²½ì \",cpImage:\"https://t1.daumcdn.net/media/news/news2016/cp/cp_mk.gif\",cpDarkImage:\"https://t1.daumcdn.net/media/news/2020/cp/cp_mk_dm.png\",createdAt:\"2024-11-22T10:04:09+09:00\",mediaPickDuplicateCount:0,clipLinkId:null,serviceName:\"ë´ì¤\"},{id:\"hamny-20241122100405439\",type:\"TEXT\",title:\"50ë\n",
       " ë§ì 17ë§ ì¸êµ¬ íë³µ ë¹ì§ìâ¦ë¹ë² ë³´ë\",summary:\"â 2024 íêµ­ ê²½ì ë¥¼ ë¹ë¸ ì¸ë¬¼Â·ê²½ì â ë¯¼ì  8ê¸°ì ì ì´ë  ì§ 2ë\n",
       " ëì ë¹ì§ìë ì§ì­ìê¶ì´ ì´ìëë ì ìí ê²½ì ë¡ 50ë\n",
       " ë§ì ì¸êµ¬ 17ë§ëª\n",
       "ì ë¤ìê¸ ëííë¤. ì¶©ë¨ ìµì´ ììëì ì§ì ê³¼ ì ê· ì°ì\n",
       "ë¨ì§ ì¡°ì±ì ìí ì\n",
       "ë¬´íì½ ì²´ê²°, ê¸°ì\n",
       "íì íí¬ ì ëì¬ì\n",
       " ì ì , ììì¼ê°ìê¸ì§ë£ì¼í° ê°ì ë±ì ì±ê³¼ë¥¼ ê±°ëë¤. ë¹ì§ì ì´ëìë ì² ê°ì°ì\n",
       "ì ìì£¼íì§ ìê³  ìì\",pcUrl:\"https://v.daum.net/v/20241122100405439\",moUrl:\"https://v.daum.net/v/20241122100405439\",image:\"https://t1.daumcdn.net/news/202411/22/mk/20241122135103292cizd.jpg\",cpName:\"ë§¤ì¼ê²½ì \",cpImage:\"https://t1.daumcdn.net/media/news/news2016/cp/cp_mk.gif\",cpDarkImage:\"https://t1.daumcdn.net/media/news/2020/cp/cp_mk_dm.png\",createdAt:\"2024-11-22T10:04:05+09:00\",mediaPickDuplicateCount:0,clipLinkId:null,serviceName:\"ë´ì¤\"},{id:\"hamny-20241122100401432\",type:\"TEXT\",title:\"ëì£¼ì, ìë¡ì´ ìì°ê° ë¥´ë¤ìì¤ ì´ë¤\",summary:\"â 2024 íêµ­ ê²½ì ë¥¼ ë¹ë¸ ì¸ë¬¼Â·ê²½ì â ì¤ë³í ìì¥ì´ ì´ëë ëì£¼ìê° ë¯¼ì  8ê¸° ì¶ë² 3ë\n",
       "ì°¨ì ëì\n",
       "íë¤. ëì£¼ìë ìë¯¼ì ì¶ì ì§ì´ ìµê³ ì¸ ëì£¼ë¥¼ ë§ëë ë° ëª¨ë  íì ê¸°ì¸ì´ê³  ìë¤. ëì£¼ìë ê·¸ëì ìì´ ë³ê³  í¤ì°ê¸° ì¢ì ëì£¼, ìë\n",
       " êµì¡ì ìí´ì°¾ìì¤ë ëì£¼, ìì ë ì¼ìë¦¬ì ì£¼ê±°Â·ë¬¸íìíë¡ ì²­ë\n",
       "ì´ ëìì¤ë ëì£¼, ê±´ê°í ë\n",
       "¸íë¥¼ ë³´ë¼ ì ìë ê³ ë ¹\",pcUrl:\"https://v.daum.net/v/20241122100401432\",moUrl:\"https://v.daum.net/v/20241122100401432\",image:\"https://t1.daumcdn.net/news/202411/22/mk/20241122135703865hojb.jpg\",cpName:\"ë§¤ì¼ê²½ì \",cpImage:\"https://t1.daumcdn.net/media/news/news2016/cp/cp_mk.gif\",cpDarkImage:\"https://t1.daumcdn.net/media/news/2020/cp/cp_mk_dm.png\",createdAt:\"2024-11-22T10:04:01+09:00\",mediaPickDuplicateCount:0,clipLinkId:null,serviceName:\"ë´ì¤\"},{id:\"hamny-20241122100357431\",type:\"TEXT\",title:\"ì²íì ìì°íê²½ì¼ë¡ ê²½ì  ë¶ê°ê°ì¹ ì°½ì¶, ê´´ì°êµ°\",summary:\"â 2024 íêµ­ ê²½ì ë¥¼ ë¹ë¸ ì¸ë¬¼Â·ê²½ì â ê´´ì°êµ°ì´ ìì° 1ì¡°ì ìëë¥¼ ë§ê³  ìë¤. ë¯¸ë ê¸°ë°ì ë¤ì§ë ëê·ëª¨ í¬ìì ì¹ì ì­ëê¸ ê³µëª¨ì¬ì\n",
       " ì ì ì´ ë°íì´ ëë¤. ê´´ì°êµ°ì ëì ë¸ëë âìì°í¹ë³ì ê´´ì°â ê¸°ì¹ë¡ ì²­ì íê³  ìë¦ë¤ì´ ì¶ì í°ì ì ê¸°ë°ì¼ë¡ ì§ì­ ê²½ì íì±íë¥¼ ëëª¨íê³ ìë¤. ì´ë¥¼ ìí´ ëª¨ë  êµ°ë¯¼ì´ íë³µí ì¶ì ëë¦´ ì ìë íì  ì§ì¤ì íëë¡ í´ìÂ·ê´\",pcUrl:\"https://v.daum.net/v/20241122100357431\",moUrl:\"https://v.daum.net/v/20241122100357431\",image:\"https://t1.daumcdn.net/news/202411/22/mk/20241122141305444qofv.jpg\",cpName:\"ë§¤ì¼ê²½ì \",cpImage:\"https://t1.daumcdn.net/media/news/news2016/cp/cp_mk.gif\",cpDarkImage:\"https://t1.daumcdn.net/media/news/2020/cp/cp_mk_dm.png\",createdAt:\"2024-11-22T10:03:57+09:00\",mediaPickDuplicateCount:0,clipLinkId:null,serviceName:\"ë´ì¤\"},{id:\"hamny-20241122100350426\",type:\"TEXT\",title:\"âëê´ìì°° ìì¸ë¡ íë¤ë¦¼ ìì´â ê²½ë¨ ì¤ì¬ì¼ë¡, ìë ¹êµ°\",summary:\"â 2024 íêµ­ ê²½ì ë¥¼ ë¹ë¸ ì¸ë¬¼Â·ê²½ì â íêµ­ë§¤ëíì¤í ì¤ì²ë³¸ë¶ê° ì£¼ê´í â2024ë\n",
       " ì êµ­ ê¸°ì´ë¨ì²´ì¥ ê³µì½ì´í íê°âìì 2ë\n",
       " ì°ì Aë±ê¸ì ë°ì ìë ¹êµ°ì ì¬ë ¹í ì¤íì ìë ¹êµ°ìë ë¨ì ìê¸° 2ë\n",
       "ìì âí¬ê² ë³´ë©´ì ìì ê²ë ìì¸í ì´íë¤ë âëê´ìì°°âì ìì¸ë¡ íë¤ë¦¼ ìì´ êµ°ì ì ì¶ì§íê² ë¤âê³  ë°íë¤. ìë ¹êµ°ì ë¤ìí ê³µëª¨ì¬ì\n",
       "ì ëì í´ ì­ë ìµë ì¤ì ì\",pcUrl:\"https://v.daum.net/v/20241122100350426\",moUrl:\"https://v.daum.net/v/20241122100350426\",image:\"https://t1.daumcdn.net/news/202411/22/mk/20241122140023372yyma.jpg\",cpName:\"ë§¤ì¼ê²½ì \",cpImage:\"https://t1.daumcdn.net/media/news/news2016/cp/cp_mk.gif\",cpDarkImage:\"https://t1.daumcdn.net/media/news/2020/cp/cp_mk_dm.png\",createdAt:\"2024-11-22T10:03:50+09:00\",mediaPickDuplicateCount:0,clipLinkId:null,serviceName:\"ë´ì¤\"},{id:\"hamny-20241122100346420\",type:\"TEXT\",title:\"2040ë\n",
       " ì¸êµ¬ 10ë§ âìììëì§â ì¤ì¬ ëì, ì¸ì§êµ°\",summary:\"â 2024 íêµ­ ê²½ì ë¥¼ ë¹ë¸ ì¸ë¬¼Â·ê²½ì â ì¸ì§êµ°ì ì§ë°©ì ë¶ ìëë¥¼ ì ëíë©° 2040ë\n",
       " ì¸êµ¬ 10ë§ì ëíë¯¼êµ­ ìììëì§ ì¤ì¬ëìë¡ ì±ì¥íê³ ì íë¤. ì¸ì§êµ°ì ë¯¸ëë¥¼ ìí ì¤ì©ì ì¸ ê²½ì , ì°¨ë³íë ê´ê´, ê°ë ì£¼ë ë³µì§, ì¬ê¸°ë êµ°ì ì´ë¼ë êµ°ì  ëª©í ìë ì§ì­ ê²½ì  íì±í, ì ì£¼ì¬ê±´ ê°ì , ê´ê´ ë³µì§ ê°í ë±ì ì´ì´ëê°ê³  ìë¤. ì¸ì§êµ°ì ì§ëí´ 3ì ìì\",pcUrl:\"https://v.daum.net/v/20241122100346420\",moUrl:\"https://v.daum.net/v/20241122100346420\",image:\"https://t1.daumcdn.net/news/202411/22/mk/20241122140020804epbv.jpg\",cpName:\"ë§¤ì¼ê²½ì \",cpImage:\"https://t1.daumcdn.net/media/news/news2016/cp/cp_mk.gif\",cpDarkImage:\"https://t1.daumcdn.net/media/news/2020/cp/cp_mk_dm.png\",createdAt:\"2024-11-22T10:03:46+09:00\",mediaPickDuplicateCount:0,clipLinkId:null,serviceName:\"ë´ì¤\"},{id:\"hamny-20241122100342416\",type:\"TEXT\",title:\"50ë§ ìì¡±í ì»¤ë¥í¸ìí° ì´ì ë§ë ¨, ì¤ì°ì\",summary:\"â 2024 íêµ­ ê²½ì ë¥¼ ë¹ë¸ ì¸ë¬¼Â·ê²½ì â âì¸êµ3ì§êµ¬ 430ë§ì¬ã¡ì 3ë§1000í¸ê° ë¤ì´ìê³ , ê¸°íì  ëìë¬¸ì ë¥¼ í´ê²°íê³ , ì£¼ì²´ì± ìë ì§ì­ë°ì ì ì´ë ì¤ì°ëìê³µì¬ê° ë²ì  ì¤ë¦½ ìê±´ì ëª¨ë ê°ì·ìµëë¤. ì¤ì°ì´ ëª\n",
       "ì¤ìë¶ 50ë§ ìì¡±í ì»¤ë¥í¸ìí°ë¡ í¥íë ì´ìì´ ë§ë ¨ëìµëë¤.â ì´ê¶ì¬ ì¤ì°ìì¥ì´ ë°í ë¯¼ì  8ê¸° ì¤ì°ìê° ì¶ì§íê³  ìë 50ë§ ìì¡±í ì»¤ë¥í¸\",pcUrl:\"https://v.daum.net/v/20241122100342416\",moUrl:\"https://v.daum.net/v/20241122100342416\",image:\"https://t1.daumcdn.net/news/202411/22/mk/20241122140017965frvy.jpg\",cpName:\"ë§¤ì¼ê²½ì \",cpImage:\"https://t1.daumcdn.net/media/news/news2016/cp/cp_mk.gif\",cpDarkImage:\"https://t1.daumcdn.net/media/news/2020/cp/cp_mk_dm.png\",createdAt:\"2024-11-22T10:03:42+09:00\",mediaPickDuplicateCount:0,clipLinkId:null,serviceName:\"ë´ì¤\"},{id:\"hamny-20241122100338415\",type:\"TEXT\",title:\"âëì§í¸ ê¸°ë° ì¤ë§í¸ëìâ ëì í, ì²ìì\",summary:\"â 2024 íêµ­ ê²½ì ë¥¼ ë¹ë¸ ì¸ë¬¼Â·ê²½ì â ì²ììê° ëì§í¸ ì íì¼ë¡ ë¯¸ë ì±ì¥ì ì£¼ëíê¸° ìí´ ê±°ì í ì¤ë§í¸ëìë¡ ê±°ë­ëê³  ìë¤. ì§ë 6ì êµ­í êµíµë¶ì â2024ë\n",
       " ê±°ì í ì¤ë§í¸ëì ì¡°ì±â ê³µëª¨ì¬ì\n",
       "ì ì ì ëëë°, ì¤ë§í¸ëì ì¡°ì± ê³µëª¨ì¬ì\n",
       " ì¤ âê±°ì íâì ì ì ë ì§ìì²´ë ì²ììê° ì ì¼íë¤. ì²ììê° ì¶ì§íë ì¤ë§í¸ëìë ê³µê³µì ë°ì´í°ì ë¯¼ê°ì ê¸°ì ì ì°ê²°\",pcUrl:\"https://v.daum.net/v/20241122100338415\",moUrl:\"https://v.daum.net/v/20241122100338415\",image:\"https://t1.daumcdn.net/news/202411/22/mk/20241122140015240naxz.jpg\",cpName:\"ë§¤ì¼ê²½ì \",cpImage:\"https://t1.daumcdn.net/media/news/news2016/cp/cp_mk.gif\",cpDarkImage:\"https://t1.daumcdn.net/media/news/2020/cp/cp_mk_dm.png\",createdAt:\"2024-11-22T10:03:38+09:00\",mediaPickDuplicateCount:0,clipLinkId:null,serviceName:\"ë´ì¤\"},{id:\"hamny-20241122100335414\",type:\"TEXT\",title:\"ëíë¯¼êµ­ ì°ëì¤ ì¤ì¬ëìâ ë¹ì  ì ì, ìëêµ°\",summary:\"â 2024 íêµ­ ê²½ì ë¥¼ ë¹ë¸ ì¸ë¬¼Â·ê²½ì â ìê¸° 2ì£¼ë\n",
       "ì ë§ì ê¹ê´ì´ ìëêµ°ìë âëíë¯¼êµ­ ì°ëì¤ ì¤ì¬ëìâë¼ë ë¹ì ì ì ìíë¤. ìëêµ°ì ì°ê° 1000ë§ëª\n",
       " ì´ìì ê´ê´ê°ì´ ë°©ë¬¸íë êµ­ë´ ìµê³ ì ê´ê´ ëª\n",
       "ì ì¤ íëë¤. ê´ê´ì°ì\n",
       "ì´ ì ì²´ ì°ì\n",
       "ì 64%ë¥¼ ì°¨ì§í´ ì§ì­ê²½ì ì ê¸°ë¥ ì­í ì íê³  ìì´, ê´ê´ì°ì\n",
       "ì´ íë¤ë¦¬ë©´ ì§ì­ê²½ì  ì ì²´ê° ìê¸°ì ì²í  ì ìì´ âì§ì\",pcUrl:\"https://v.daum.net/v/20241122100335414\",moUrl:\"https://v.daum.net/v/20241122100335414\",image:\"https://t1.daumcdn.net/news/202411/22/mk/20241122140320111kytq.jpg\",cpName:\"ë§¤ì¼ê²½ì \",cpImage:\"https://t1.daumcdn.net/media/news/news2016/cp/cp_mk.gif\",cpDarkImage:\"https://t1.daumcdn.net/media/news/2020/cp/cp_mk_dm.png\",createdAt:\"2024-11-22T10:03:35+09:00\",mediaPickDuplicateCount:0,clipLinkId:null,serviceName:\"ë´ì¤\"}],hasNext:true}},validCode:\"GOOD\",updatedAt:\"2024-11-22T14:28:54.868253691+09:00\",lastFetchedAt:\"2024-11-22T14:33:49.57804553+09:00\"},title:\"íì /ì§ìì²´(ì£¼ìë´ì¤)\"}],order:\"default\"},\"ecd126c5-ed4a-4813-8ee1-5639380d0550\":{clusterDisplayType:\"scrollable\",pagingButton:{buttonText:\"ë´ì¤\",buttonOutlink:null,buttonType:\"refresh\"},outlink:\"https://news.daum.net/north\",tooltip:null,pageSize:4,title:\"ë¶í\",newsClusters:[{isDefault:false,data:{code:200,message:null,document:{data:{id:5966845,title:\"ë¶í(ì£¼ìë´ì¤)\",contents:[{id:\"hamny-20241122120449250\",type:\"TEXT\",title:\"íµë¬´ê¸° ìì í¸ë¼íìë ì ê·¸ì ê¹ì ìâ¦'ë¸ë¡ë§¨ì¤' ë¶í ìë¤\",summary:\"(ìì¸=ë´ì¤1) ìµìë§ ê¸°ì = ê¹ì ì ë¶í ë\n",
       "¸ëë¹ ì´ë¹ìê° 'ê°ë³í ì¹ë¶'ì´ ìë¤ë ëëë í¸ë¼í ëíµë ¹ ë¹ì ì¸ì´ ì§ê¶íëë¼ë ë¹ë¶ê° ë¯¸êµ­ê³¼ ëíì ìì¬ê° ììì ìì¬íë¤. ë¬ììì ë¬´ê¸°ë¥¼ ìì¶íê³  êµ°ëë¥¼ íë³í ë° ì´ì´ ì í¬ ì°¸ì¬ê¹ì§ ëìê³  ìë ìí©ìì ë¯¸êµ­ë³´ë¨ ë¬ìììì ê´ê³ì ë¬´ê²ë¥¼ ëë©° 'êµ­ë°©ë ¥ ê°í'ì ì ë\n",
       "íê² ë¤ë ë©ìì§ë¥¼ ë¶ëª\n",
       "í íë¤. ë\n",
       "¸\",pcUrl:\"https://v.daum.net/v/20241122120449250\",moUrl:\"https://v.daum.net/v/20241122120449250\",image:\"https://t1.daumcdn.net/news/202411/22/NEWS1/20241122120449987gjhf.jpg\",cpName:\"ë´ì¤1\",cpImage:\"https://t1.daumcdn.net/media/news/news2016/cp/cp_news1.gif\",cpDarkImage:\"https://t1.daumcdn.net/media/news/2020/cp/cp_news1_dm.png\",createdAt:\"2024-11-22T12:04:49+09:00\",mediaPickDuplicateCount:0,clipLinkId:null,serviceName:\"ë´ì¤\"},{id:\"hamny-20241122120310225\",type:\"TEXT\",title:\"ê³¨íì§ ë¬´ì¸ê¸°ë¶í° ICBMê¹ì§â¦âNK-ë°©ì°â ì¼ì¼ì´ì¤ì ê¹ì ì âìëª¸ ë¯¸ìâ\",summary:\"ë¶íì´ ì¬í´ë ë¬´ê¸° ì ìíë¥¼ ì´ì´ ê°ì¢\n",
       " ì¥ë¹ì ëë° ì­ëì ê³¼ìíë©´ì ë¬ììë¥¼ í¥í âë¬´ê¸° ì¼ì¼ì´ì¤âë¥¼ ê°ìµíë¤. ë¬´ì¥ì¥ë¹ì ìí âêµ­ë°©ë°ì -2024âê° 21ì¼ íììì ê°ë§íë¤ê³  ë¶í ì¡°ì ì¤ìíµì ì´ 22ì¼ ë³´ëíë¤. ë¶íì ì§ëí´ 7ì ë¬ìì êµ°ì¬ëíë¨ì ì´ì²­í´ âë¬´ì¥ì¥ë¹ì ìí-2023âì ì´ìëë° ê·¸ ì°¨ê¸° íì¬ë¤. ë¶íì 2021ë\n",
       "ìë\",pcUrl:\"https://v.daum.net/v/20241122120310225\",moUrl:\"https://v.daum.net/v/20241122120310225\",image:\"https://t1.daumcdn.net/news/202411/22/munhwa/20241122120312027lqde.jpg\",cpName:\"ë¬¸íì¼ë³´\",cpImage:\"https://t1.daumcdn.net/media/news/news2016/cp/cp_munhwa.gif\",cpDarkImage:\"https://t1.daumcdn.net/media/news/2020/cp/cp_munhwa_dm.png\",createdAt:\"2024-11-22T12:03:10+09:00\",mediaPickDuplicateCount:0,clipLinkId:null,serviceName:\"ë´ì¤\"},{id:\"hamny-20241122120111168\",type:\"VIDEO\",title:\"ê³µê°ë ì  ìë 'ë¯¸ì¤í°ë¦¬ë§¨'...ë¤ì¹ ë¶íêµ° ê³ ì ì¥ì±ì ëêµ¬? [Yë\n",
       "¹ì·¨ë¡]\",summary:\"â  ì§í : ë°ìì ìµì»¤ â  ì¶ì° : ê¹ì´ì íêµ­êµ°ì¬ë¬¸ì ç¡ ìë³´ì ëµì¤ì¥ * ìë í\n",
       "ì¤í¸ë ì¤ì  ë°©ì¡ ë´ì©ê³¼ ì°¨ì´ê° ìì ì ìì¼ë ë³´ë¤ ì íí ë´ì©ì ë°©ì¡ì¼ë¡ íì¸íìê¸° ë°ëëë¤. ì¸ì© ì [YTN ë´ì¤íì´10AM] ëª\n",
       "ìí´ì£¼ìê¸° ë°ëëë¤. âìµì»¤> ì§ê¸ ìµê·¼ì ëì¤ë ììì ìíë©´ ë¶íêµ° ê³ ì ì¥ì±ì´ ë¶ìì ì\n",
       "ìë¤ë ë³´ëë ëìê±°ë ì. ë¶íêµ° ê³ ì ì¥\",pcUrl:\"https://v.daum.net/v/20241122120111168\",moUrl:\"https://v.daum.net/v/20241122120111168\",image:\"https://t1.daumcdn.net/news/202411/22/YTN/20241122120112598noff.jpg\",cpName:\"YTN\",cpImage:\"https://t1.daumcdn.net/media/news/2020/cp/cp_ytn.gif\",cpDarkImage:\"https://t1.daumcdn.net/media/news/2020/cp/cp_ytn_dm.png\",createdAt:\"2024-11-22T12:01:11+09:00\",mediaPickDuplicateCount:0,clipLinkId:\"451121858\",serviceName:\"ë´ì¤\"},{id:\"hamny-20241122115118895\",type:\"TEXT\",title:\"ë¶í, ì¬ëìÂ·ì²¨ë¨ë¬´ê¸° ì´ëì âì¼ì¼ì´ì¤â\",summary:\"ë¶íì´ 21ì¼ ëë¬ ìì¶ì ë\n",
       "¸ë¦° ë°©ì¬í¬, ìí­ê³µê²©í ë¬´ì¸ê¸°ë¶í° ëë¥ê°íëë¯¸ì¬ì¼(ICBM), ì ì°°ìì± ë°ì¬ì© ì°ì£¼ë°ì¬ì²´ ë± ì²¨ë¨ ë¬´ê¸°ê¹ì§ ëì´ëª¨ì âë¬´ê¸° ì¼ì¼ì´ì¤âë¥¼ ì´ì´ ëë´ì¸ì êµ­ë°©ë ¥ì ê³¼ìíë¤. ê¹ì ì ë¶í êµ­ë¬´ììì¥ì âë¯¸êµ­ê³¼ì íìì ê° ë°ê¹ì§ ê°ë´¤ë¤âë©´ì ëëë í¸ë¼í 2ê¸° íì ë¶ìì ë¹íµí íììë ì ì ê·¸ìë¤. í¸ë¼í ì (æ°)íì ë¶ê°\",pcUrl:\"https://v.daum.net/v/20241122115118895\",moUrl:\"https://v.daum.net/v/20241122115118895\",image:\"https://t1.daumcdn.net/news/202411/22/munhwa/20241122115119866rbzw.jpg\",cpName:\"ë¬¸íì¼ë³´\",cpImage:\"https://t1.daumcdn.net/media/news/news2016/cp/cp_munhwa.gif\",cpDarkImage:\"https://t1.daumcdn.net/media/news/2020/cp/cp_munhwa_dm.png\",createdAt:\"2024-11-22T11:51:18+09:00\",mediaPickDuplicateCount:0,clipLinkId:null,serviceName:\"ë´ì¤\"},{id:\"hamny-20241122102447380\",type:\"TEXT\",title:\"âë¶íêµ° ë³´ë´ëëââ¦ë¬ ì¿ ë¥´ì¤ì¿  ê²°êµ­ âì´ê²â ë¹íë¤\",summary:\"ë¶íêµ°ì´ ì°¸ì í ê²ì¼ë¡ ìë ¤ì§ ë¬ìì ì¿ ë¥´ì¤ì¿ ì£¼(å·)ê° ì¬íê¸ì§ êµ¬ì­ì¼ë¡ ì§ì ëë¤. ì¸êµë¶ë 22ì¼ 0ìë¥¼ ê¸°ì¤ì¼ë¡ ì°í¬ë¼ì´ëêµ°ê³¼ ë¬ììÂ·ë¶íêµ°ì ì í¬ê° ì¹ì´íê² ë²ì´ì§ê³  ìë ì¿ ë¥´ì¤í¬ì£¼ì ëí´ ì¬íê²½ë³´ 4ë¨ê³(ì¬íê¸ì§)ë¥¼ ë°ë ¹íë¤. ìì ì°í¬ë¼ì´ë ì ê²½ ë¬ìì 5ê° ì§ì­(ë¡ì¤í íÂ·ë²¨ê³ ë¡ëÂ·ë³´ë¡ë¤ìÂ·ì¿ ë¥´ì¤í¬Â·ë¸ë¸ì¤í¬)ì ì¼ë¶ êµ¬ê°(êµ­ê²½ìì 30ã)ì ëí´\",pcUrl:\"https://v.daum.net/v/20241122102447380\",moUrl:\"https://v.daum.net/v/20241122102447380\",image:\"https://t1.daumcdn.net/news/202411/22/seoul/20241122102453376wfat.jpg\",cpName:\"ìì¸ì ë¬¸\",cpImage:\"https://t1.daumcdn.net/media/news/news2016/cp/cp_seoul.gif\",cpDarkImage:\"https://t1.daumcdn.net/media/news/2020/cp/cp_seoul.png\",createdAt:\"2024-11-22T10:24:47+09:00\",mediaPickDuplicateCount:0,clipLinkId:null,serviceName:\"ë´ì¤\"},{id:\"hamny-20241122092652987\",type:\"TEXT\",title:\"ê¹ì ì âí¸ë¼í íìâ ì¼ì¶ ì´ì ë..ë¹\n",
       "ë ìë êµ°ì¶íì ì ë\",summary:\"ê¹ì ì ë¶í êµ­ë¬´ììì¥ì´ 21ì¼ íììì ì´ë¦° ë¬´ì¥ì¥ë¹ì ìí êµ­ë°©ë°ì  2024 ê°ë§ììì ì°ì¤íë ëª¨ìµì ì¡°ì ì¤ìíµì ì´ 22ì¼ ë³´ëíë¤. ì¬ì§=ì°í©ë´ì¤ [íì´ë¸ì\n",
       "ë´ì¤] ê¹ì ì ë¶í êµ­ë¬´ììì¥ì 22ì¼ ëëë í¸ë¼í ë¯¸êµ­ ëíµë ¹ ì·¨ì í ë¶ë¯¸íì ì¬ê° ê°ë¥ì±ì ì¼ì¶íë¤. í¸ë¼í 1ê¸° íì ë¶ ë ì´ë¯¸ í  ì ìë íì ìëë ë¤ íê³ , ê°í\",pcUrl:\"https://v.daum.net/v/20241122092652987\",moUrl:\"https://v.daum.net/v/20241122092652987\",image:\"https://t1.daumcdn.net/news/202411/22/fnnewsi/20241122092652709agwc.jpg\",cpName:\"íì´ë¸ì\n",
       "ë´ì¤\",cpImage:\"https://t1.daumcdn.net/media/news/news2016/cp/finan.png\",cpDarkImage:\"https://t1.daumcdn.net/media/news/2020/cp/finan_dark.png\",createdAt:\"2024-11-22T09:26:52+09:00\",mediaPickDuplicateCount:0,clipLinkId:null,serviceName:\"ë´ì¤\"},{id:\"hamny-20241122090300179\",type:\"TEXT\",title:\"'ì¸ê° ì¬ë¥' ëì  ë¶í ë³´ìë¶â¦\\\"íµì§¸ë¡ í ê°ì ì´ ì¬ë¼ì¡ë¤\\\" [ì¤í]\",summary:\"Â  ë¶íì ì´ë»ê² ì íí ë³¼ ê²ì¸ê°? 'ê¸°ë'ì 'ê´ì 'ì´ ìëë¼ ê°ê´ì  'íì¤'ì ê¸°ë°í´ ì°¨ë¶íê² ì§ì´ëë¦½ëë¤. Â  íë°¤ì¤ì ê¸°ê´ì ëª ëª\n",
       "ì´ A ì¨ ì§ì¼ë¡ ì°¾ìê°ìµëë¤. \\\"ë­ ì¢ ë¬¼ì´ë³¼ ê² ìë¤\\\"ë©° \\\"ì ê¹ ê°ì´ ê°ì\\\"ê³  íë©° A ì¨ë¥¼ ë°ë¦¬ê³  ëê°ëë°, ê·¸ê² ê·¸ ì¬ëì ë§ì§ë§ì´ììµëë¤. ì´ìëì§ ì£½ìëì§ë ì ì ìê³ , ì´ìë¤ë©´ ì´ë ìë ê²ì¸ì§\",pcUrl:\"https://v.daum.net/v/20241122090300179\",moUrl:\"https://v.daum.net/v/20241122090300179\",image:\"https://t1.daumcdn.net/news/202411/22/sbsi/20241122090302759wkee.jpg\",cpName:\"SBS\",cpImage:\"https://t1.daumcdn.net/media/news/news2016/cp/cp_sbsi.gif\",cpDarkImage:\"https://t1.daumcdn.net/media/news/2020/cp/cp_sbsi_dm.png\",createdAt:\"2024-11-22T09:03:00+09:00\",mediaPickDuplicateCount:0,clipLinkId:null,serviceName:\"ë´ì¤\"},{id:\"hamny-20241122080317733\",type:\"TEXT\",title:\"ê¹ì ì \\\"ç¾ì íì ê° ë°ê¹ì§ ê° ë´\\\"â¦í¸í´ \\\"ì í ì¤ê±°ë¦¬ ë¯¸ì¬ì¼ ìí\\\"[ë´ì¤ì:ì]\",summary:\"ì¶ê·¼ê¸¸ì íìí ë´ì¤ë§ 'ì' ë½ì 'ì'ëê° ìê² ì ë¬í´ëë¦¬ë [ë´ì¤ì:ì]ì\n",
       "ëë¤.â  ë°©ì¡ : CBS ìì¹¨ë´ì¤ â  ìê° : ì~ê¸ 07:00~07:10 â  ì±ë : íì¤ FM 98.1 MHz å ê¹ì ì \\\"ç¾ì íì, ê° ì ìë ê³³ê¹ì§ ê° ë´â¦ì¹¨ëµì Â·ì ëì  ëë¶ì ì±\n",
       " íì \\\" ë¶í ê¹ì ì êµ­ë¬´ììì¥ì ë¯¸êµ­ê³¼ íìì íµí´ ì ëì  ëë¶ì ì±\n",
       "ì íì íë¤ê³  ì¡°ì ì¤\",pcUrl:\"https://v.daum.net/v/20241122080317733\",moUrl:\"https://v.daum.net/v/20241122080317733\",image:\"https://t1.daumcdn.net/news/202411/22/nocut/20241122080319763dydc.jpg\",cpName:\"ë\n",
       "¸ì»·ë´ì¤\",cpImage:\"https://t1.daumcdn.net/media/news/news2016/cp/cp_nocut.gif\",cpDarkImage:\"https://t1.daumcdn.net/media/news/2020/cp/cp_nocut_dm.png\",createdAt:\"2024-11-22T08:03:17+09:00\",mediaPickDuplicateCount:0,clipLinkId:null,serviceName:\"ë´ì¤\"},{id:\"hamny-20241122050046069\",type:\"TEXT\",title:\"íììë ì¤ë§í¸í°Â·ë\n",
       "ì¼ë§¥ì£¼â¦å ì¬í 'íì½ì¤' ë´ê¸´ ë¸ì´ë¡ê·¸ ì¿ë³´ë\",summary:\"(ìì¸=ë´ì¤1) ìì¬ìµ ê¸°ì = ë¶íê³¼ ë¬ìì ê° êµë¥ê° ê°ìíëë ê°ì´ë° í ë¬ìì ì íë²ê° íì ìë´ë¥¼ ì´¬ìí ììì´ ê³µê°ëë¤. ì½ë¡ë19 ë´ì ì´í ë² ì¼ì ìì¸ ë¶íì ëª¨ìµì ì¿ë³¼ ì ìë ììí ììì´ë¤. ìµê·¼ í ì íë¸ ì±ëìë 'ë¸ë¼ëë³´ì¤í í¬ìì íìì¼ë¡ ê°ë ë¹í'ì´ë¼ë ì ëª©ì ììì´ ì¬ë¼ìë¤. í´ë¹ ìììë ì§ë 10ì 14ì¼ í ë¬ìì\",pcUrl:\"https://v.daum.net/v/20241122050046069\",moUrl:\"https://v.daum.net/v/20241122050046069\",image:\"https://t1.daumcdn.net/news/202411/22/NEWS1/20241122050048333rrgt.jpg\",cpName:\"ë´ì¤1\",cpImage:\"https://t1.daumcdn.net/media/news/news2016/cp/cp_news1.gif\",cpDarkImage:\"https://t1.daumcdn.net/media/news/2020/cp/cp_news1_dm.png\",createdAt:\"2024-11-22T05:00:46+09:00\",mediaPickDuplicateCount:0,clipLinkId:null,serviceName:\"ë´ì¤\"},{id:\"hamny-20241121190147206\",type:\"TEXT\",title:\"\\\"å, ë¬ìì íë³ ëê°ë¡ ëë¡  ìì  ê¸°ë² ìµëí  ë¯\\\"\",summary:\"(ìì¸=ë´ì¤1) ì ë¯¼ì£¼ ê¸°ì = ë¬ììì ì°í¬ë¼ì´ë ì£¼ì¬ íêµ­ëì¬ë¥¼ ì­ìíë ë°ë\n",
       "¸ë²½ ì  ëì¬ê° ë¶íì´ ë¬ìì íë³ì ëê°ë¡ 'ëë¡  ìì  ê¸°ë²'ì ìµëí  ê°ë¥ì±ì´ í¬ë¤ê³  21ì¼ ë°íë¤. ë° ì  ëì¬ë ì´ë  ìì¸ ì¢\n",
       "ë¡êµ¬ ê²½ë¨ëíêµ ê·¹ëë¬¸ì ì°êµ¬ììì ì´ë¦° 'ë¬-ì°í¬ë¼ì´ë ì ìê³¼ íë°ë ìë³´'ë¼ë ì£¼ì ì ê°ì°ìì íì¬ê¹ì§ ìë ¤ì§ ë¶íêµ°ì ì¿ ë¥´ì¤í¬ íëê³¼ ì´ì\",pcUrl:\"https://v.daum.net/v/20241121190147206\",moUrl:\"https://v.daum.net/v/20241121190147206\",image:\"https://t1.daumcdn.net/news/202411/21/NEWS1/20241121190151206lwtl.jpg\",cpName:\"ë´ì¤1\",cpImage:\"https://t1.daumcdn.net/media/news/news2016/cp/cp_news1.gif\",cpDarkImage:\"https://t1.daumcdn.net/media/news/2020/cp/cp_news1_dm.png\",createdAt:\"2024-11-21T19:01:47+09:00\",mediaPickDuplicateCount:0,clipLinkId:null,serviceName:\"ë´ì¤\"},{id:\"hamny-20241121183051593\",type:\"TEXT\",title:\"êµ°ê²ì°°, 'ì± ìë³ ì¬ë§' ë°ì í ëë ¹ì ì§ì­ 3ë\n",
       " êµ¬í...\\\"ë§¤ì° ì¤ëí ë²ì£, ìë² íì\\\"\",summary:\"êµ°ê²ì°°ì´ í­ëª\n",
       " ë° ìê´ëª\n",
       "ìí¼ì íìë¡ ê¸°ìë ë°ì í ì  í´ë³ë ìì¬ë¨ì¥(í´ë³ ëë ¹)ìê² ì§ì­ 3ë\n",
       "ì êµ¬ííë¤. 'ì± ìë³ ì¬ë§ì¬ê±´'ì ì´ë ì¡°ì¬ ìì¬ë¨ì¥ì¸ ë° ëë ¹ì \\\"ì¡°ì¬ ê²°ê³¼ì ë¯¼ê° ê²½ì°° ì´ì²© ë³´ë¥ ëª\n",
       "ë ¹ë¥¼ ëª\n",
       "íí ì§ìë°ì ì  ìë¤\\\"ë©° ë¬´ì£ë¥¼ ì£¼ì¥íë¤. êµ°ê²ì°°ì 21ì¼ ì¤í ìì¸ ì©ì°êµ¬ ì¤ìì§ì­êµ°ì¬ë²ììì ì§íë ê²°ì¬ê³µíìì \\\"êµ°ì ê¸°ê°ì ë´ë¹íë êµ°ì¬\",pcUrl:\"https://v.daum.net/v/20241121183051593\",moUrl:\"https://v.daum.net/v/20241121183051593\",image:\"https://t1.daumcdn.net/news/202411/21/hankooki/20241121183053930foxk.jpg\",cpName:\"íêµ­ì¼ë³´\",cpImage:\"https://t1.daumcdn.net/media/news/news2016/cp/cp_hankooki.gif\",cpDarkImage:\"https://t1.daumcdn.net/media/news/2020/cp/cp_hankooki_dm.png\",createdAt:\"2024-11-21T18:30:51+09:00\",mediaPickDuplicateCount:0,clipLinkId:null,serviceName:\"ë´ì¤\"},{id:\"hamny-20241121120600706\",type:\"TEXT\",title:\"êµ­ë´ í¼í´ ì²« íì¸ë åê°ìíí íì·¨â¦íµÂ·ë¯¸ì¬ì¼ íµì¬ ëì¤\",summary:\"(ìì¸=ì°í©ë´ì¤) íì±ë¦¼ ê¸°ì = ë¶íì´ íµÂ·ë¯¸ì¬ì¼ ê°ë°ì ìí ìê¸ ì¡°ë¬ì ìí´ ì  ì¸ê³ìì ì ì§ë¥´ê³  ìë ê°ìíí íì·¨ ë²ì£ì ëììì íêµ­ë ìì¸ê° ìëìë¤ë ì¬ì¤ì´ ìì¬ë¡ íì¸ëë¤. ê²½ì°°ì ì§ë 2019ë\n",
       " 11ì êµ­ë´ í ê°ììì° ê±°ëììì ë°ìí ì´ëë¦¬ì íì·¨ ì¬ê±´ì´ ë¶í í´í¹ì¡°ì§ ë¼ìë£¨ì¤Â·ìë¤ë¦¬ìì ìíì´ë¼ê³  22ì¼ ë°ííë©´ì, ê°ììì° íì·¨\",pcUrl:\"https://v.daum.net/v/20241121120600706\",moUrl:\"https://v.daum.net/v/20241121120600706\",image:\"https://t1.daumcdn.net/news/202411/21/yonhap/20241121120600210hric.jpg\",cpName:\"ì°í©ë´ì¤\",cpImage:\"https://t1.daumcdn.net/media/news/news2016/cp/cp_yonhap.gif\",cpDarkImage:\"https://t1.daumcdn.net/media/news/2020/cp/cp_yonhap_dm.png\",createdAt:\"2024-11-21T12:06:00+09:00\",mediaPickDuplicateCount:0,clipLinkId:null,serviceName:\"ë´ì¤\"}],hasNext:true}},validCode:\"GOOD\",updatedAt:\"2024-11-22T12:05:06.659488473+09:00\",lastFetchedAt:\"2024-11-22T14:33:49.603534072+09:00\"},title:\"ë¶í(ì£¼ìë´ì¤)\"}],order:\"default\"},\"f720dcbb-19d6-4ce0-b939-423708ecc072\":{sandboxAdId:\"DAN-lNliOdHbYg6JlPeL\",adId:\"DAN-mmSWWDWHey1VmpXQ\"},\"8cce0b35-4aa5-4898-9b81-879c6f39ac6d\":{hideImage:false,clusterDisplayType:\"scrollable\",pagingButton:{buttonText:\"ë´ì¤\",buttonOutlink:null,buttonType:\"refresh\"},outlink:null,tooltip:\"ì¸ë¡ ì¬ê° ë°íí ê¸°ì¬ë¥¼ ìµì ìì¼ë¡ ì ê³µí©ëë¤.\",pageSize:10,logoType:\"text\",title:\"ìµì  ë´ì¤\",newsClusters:[{isDefault:false,data:{code:200,message:null,document:{data:{id:5972149,title:\"[ì¹ì\n",
       "2024] ì ì¹>ìµì ë´ì¤\",contents:[{id:\"hamny-20241122143002561\",type:\"TEXT\",title:\"\\\"í´ëí´ë ëë¬´í´\\\"  ê±°ì ìë ì¤ìì´í´ì§ì´ëë³¸ë¶ ê²°ì±\",summary:\"[ì¤ì±í¨ ê¸°ì] â² Â 22ì¼ ê±°ì ìì²­ ë¸ë¦¬íì¤ìì ì´ë¦° ì¤ìì´ì ê¶í´ì§ ê±°ì ì´ëë³¸ë¶ ë°ì¡± ì ì¸.â ì í¸ì'ì¤ìì´ í´ì§'ì ì¸ì¹ë ëª©ìë¦¬ê° ê³³ê³³ìì ëì¤ê³  ìë¤. ì¤ìì´í´ì§ ê²½ë¨ì´ëë³¸ë¶(ëí ì´ë³í)ê° ê²°ì±ëì´ ì§íÂ·ìëª\n",
       "ì´ëì´ ë²ì´ì§ê³  ìë ê°ì´ë°, ê²½ë¨ììë ì§ì£¼Â·ìì°Â·ê¹í´Â·ì¬ì²Â·ì°ì²­ì ì´ì´ ê±°ì ììë ì´ëë³¸ë¶ê° ë§ë¤ì´ì¡ë¤. ê±°ì ì§ì­ ë¯¼ì£¼ë\n",
       "¸ì´, ì¢ìë², ë¯¼ì\",pcUrl:\"https://v.daum.net/v/20241122143002561\",moUrl:\"https://v.daum.net/v/20241122143002561\",image:\"https://t1.daumcdn.net/news/202411/22/ohmynews/20241122143004079quau.jpg\",cpName:\"ì¤ë§ì´ë´ì¤\",cpImage:\"https://t1.daumcdn.net/media/news/news2016/cp/cp_ohmynews.gif\",cpDarkImage:\"https://t1.daumcdn.net/media/news/2020/cp/cp_ohmynews_dm.png\",createdAt:\"2024-11-22T14:30:02+09:00\",mediaPickDuplicateCount:0,clipLinkId:null,serviceName:\"ë´ì¤\"},{id:\"hamny-20241122142858527\",type:\"TEXT\",title:\"ë¯¼ì£¼, ëª\n",
       "íê·  ë\n",
       "¹ì·¨ ë ê³µê°â¦\\\"ì°½ìì§ê²ì¥ ë§ë íë°©ì í´ê²°\\\"\",summary:\"[ìì¸=ë´ìì¤]ì¡°ì¬ì ê¹ê²½ë¡ ê¸°ì = ì¤ìì´ ëíµë ¹ ë¶ë¶ ê³µì²ê°ì\n",
       " ìí¹ íµì¬ ë¹ì¬ìì¸ ëª\n",
       "íê·  ì¨ê° ì°½ìì§ê² ë± ìì¬ê¸°ê´ì ìí¥ë ¥ì íì¬íë¤ê³  ê³¼ìíë ë\n",
       "¹ì·¨ ë´ì©ì´ 22ì¼ ê³µê°ëë¤. ëë¶ì´ë¯¼ì£¼ë¹ì ì´ë  ì´ ê°ì ë´ì©ì´ ë´ê¸´ ë\n",
       "¹ì·¨ 5ê°ë¥¼ ê³µê°íë¤. 2022ë\n",
       " 6ìë¶í° 2023ë\n",
       " 12ì ì¬ì´ ê¹ìì  êµ­ë¯¼ìí ì  ìì íê³ë´ë¹ì ì¶ì  ê°íê²½ ì¨, ì 3ì ë±\",pcUrl:\"https://v.daum.net/v/20241122142858527\",moUrl:\"https://v.daum.net/v/20241122142858527\",image:\"https://t1.daumcdn.net/news/202411/22/newsis/20241122142858534imzb.jpg\",cpName:\"ë´ìì¤\",cpImage:\"https://t1.daumcdn.net/media/news/news2016/cp/cp_newsis.gif\",cpDarkImage:\"https://t1.daumcdn.net/media/news/2020/cp/cp_newsis_dm.png\",createdAt:\"2024-11-22T14:28:58+09:00\",mediaPickDuplicateCount:0,clipLinkId:null,serviceName:\"ë´ì¤\"},{id:\"hamny-20241122142840522\",type:\"TEXT\",title:\"íì± ì¹ë§¤ ìììì¤ ë\n",
       "¼ëâ¦\\\"êµ°ìì ê°ì¡± í¹í\\\" VS \\\"í¹í ììë¤\\\"\",summary:\"(íì±=ì°í©ë´ì¤) ê¹ìì° ê¸°ì = ì¶©ë¨ íì± ê³µê³µ ì¹ë§¤ì ë´ ë\n",
       "¸ì¸ìììì¤ ê±´ë¦½ ì¬ì\n",
       " ëìì¼ë¡ êµ°ìì ì¹ì¸ì²ì´ ì´ìíë ì¬íë³µì§ë²ì¸ì´ ì ì ëë©´ì ì§ì­ ììë³´í¸ ì\n",
       "ê³ ê´ê³ì ë±ì´ ë°ë°íê³  ìë¤. íì±êµ°ì ì ì°¨ì ë°ë¼ ì¬ì\n",
       "ì´ ì¶ì§ëì¼ë©°, êµ°ìì ì­ì ì¬ì\n",
       "ê³¼ ê´ë ¨í´ ìê±°ë ê´ì¬í ë°ê° ìë¤ê³  í´ëª\n",
       "íë¤. 22ì¼ íì±êµ°ì ë°ë¥´ë©´ ë³´ê±´ë³µì§ë¶ë ì¤ì¦ ì¹ë§¤ ë\n",
       "¸ì¸ì ëí ì ë¬¸\",pcUrl:\"https://v.daum.net/v/20241122142840522\",moUrl:\"https://v.daum.net/v/20241122142840522\",image:\"https://t1.daumcdn.net/news/202411/22/yonhap/20241122142840305jiww.jpg\",cpName:\"ì°í©ë´ì¤\",cpImage:\"https://t1.daumcdn.net/media/news/news2016/cp/cp_yonhap.gif\",cpDarkImage:\"https://t1.daumcdn.net/media/news/2020/cp/cp_yonhap_dm.png\",createdAt:\"2024-11-22T14:28:40+09:00\",mediaPickDuplicateCount:0,clipLinkId:null,serviceName:\"ë´ì¤\"},{id:\"hamny-20241122142616453\",type:\"TEXT\",title:\"íëí \\\"ê²½ì  ìí© ë\n",
       "¹ë¡ì§ ììâ¦ë¯¼ìê²½ì  ê°ì ë°©ì ë§ë¤ ê²\\\"\",summary:\"(ìì¸=ì°í©ë´ì¤) íì§ì¸ ê¹ì ì§ ê¸°ì = êµ­ë¯¼ìí íëí ëíë 22ì¼ \\\"ì»¤ì§ ë¶íì¤ì±ì ë¹ë©´í´ì ë¹ì ì´ ë¯¼ìê²½ì ì ëí´ì êµ¬ì²´ì ì´ê³  ì¤í¨ì± ìë ë\n",
       "¼ìë¥¼ íµí´ì êµ­ë¯¼ì ìì¬ìì¼ ëë¦¬ê³  ìí©ì ê°ì í  ë°©ìì ë§ë¤ê² ë¤\\\"ê³  ë§íë¤. í ëíë ì´ë  êµ­íìì ì´ë¦° ë¯¼ìê²½ì ì ê² ë¹ì íìíìì \\\"êµ­ë¯¼ë¤ê»ì ìµê·¼ ëë¼ê³  ê³ìë ê²½ì  ìí©ì´ ë\n",
       "¹ë¡ì§ ìë¤\\\"ë©° ì´ê°ì´ ë§íë¤\",pcUrl:\"https://v.daum.net/v/20241122142616453\",moUrl:\"https://v.daum.net/v/20241122142616453\",image:\"https://t1.daumcdn.net/news/202411/22/yonhap/20241122142616765qaoc.jpg\",cpName:\"ì°í©ë´ì¤\",cpImage:\"https://t1.daumcdn.net/media/news/news2016/cp/cp_yonhap.gif\",cpDarkImage:\"https://t1.daumcdn.net/media/news/2020/cp/cp_yonhap_dm.png\",createdAt:\"2024-11-22T14:26:16+09:00\",mediaPickDuplicateCount:0,clipLinkId:null,serviceName:\"ë´ì¤\"},{id:\"hamny-20241122142545435\",type:\"TEXT\",title:\"ì±ë¶êµ¬ ë± 7ê° ìì¹êµ¬, ê²½ìì  ì§íí ì¶ì§íìí ì¶ë²\",summary:\"ìì¸ ì±ë¶êµ¬ë ê²½ìì (ì©ì°ì­~ëë´ì°ì­, ì§ì  í¬í¨)ì´ ì§ëë ìì¸ì 7ê° ìì¹êµ¬ê° âê²½ìì  ì§íí ì¶ì§ íìíâë¥¼ êµ¬ì±íë¤ê³  22ì¼ ë°íë¤. ì§ë 21ì¼ ëëë¬¸êµ¬ìì ì§íë ì¶ë²ììë ì±ë¶êµ¬ë¥¼ ë¹ë¡¯í´ ì©ì°, ì±ë, ëëë¬¸, ë\n",
       "¸ì, ëë´, ì¤ë 7ê° ìì¹êµ¬ ê´ê³ìê° ì°¸ìíë¤. êµ­í ë¶ ì² ë ì§íí íµí©ê°ë° ì ëì¬ì\n",
       " ì ì  ë± ì±ê³µì ì¸ ì¶ì§ì ìí íë ¥ ë°©ì ë±ì\",pcUrl:\"https://v.daum.net/v/20241122142545435\",moUrl:\"https://v.daum.net/v/20241122142545435\",image:\"https://t1.daumcdn.net/news/202411/22/seoul/20241122142546506msix.jpg\",cpName:\"ìì¸ì ë¬¸\",cpImage:\"https://t1.daumcdn.net/media/news/news2016/cp/cp_seoul.gif\",cpDarkImage:\"https://t1.daumcdn.net/media/news/2020/cp/cp_seoul.png\",createdAt:\"2024-11-22T14:25:45+09:00\",mediaPickDuplicateCount:0,clipLinkId:null,serviceName:\"ë´ì¤\"},{id:\"hamny-20241122142520415\",type:\"TEXT\",title:\"íê¸°ë¬¼ì²ë¦¬ìì¤ ê²°ì ê¶ ë¶ì°ìë¡ íì ì¡°ë¡ ìíì ì ë\",summary:\"(ë¶ì°=ì°í©ë´ì¤) ì¤ìí¬ ê¸°ì = ë¶ì°ìê° ê¸°ì´ë¨ì²´ì¥ìê² ììíë ê¸°í¼ ìì¤ ì\n",
       "ì ê¶íì ë¶ì°ìì¥ìê² ëëë¦¬ë ¤ íì§ë§ ììíìì ì ëì´ ê±¸ë ¸ë¤. ë¶ì°ììíë 22ì¼ ì 325í ì ë¡í 2ì°¨ ë³¸íìë¥¼ ì´ì´ í´ìëììì ììíê° ìì ê°ê²°í 'ë¶ì°ì ëìê³í ì¡°ë¡ ì¼ë¶ê°ì  ì¡°ë¡ì' ëì  ë°ì¢\n",
       "ì²  ìì(ê¸°ì¥1)ì´ ì ìí ìì ìì íê²°ì ë¶ì³ ê°ê²°íë¤. íê²°ììë\",pcUrl:\"https://v.daum.net/v/20241122142520415\",moUrl:\"https://v.daum.net/v/20241122142520415\",image:\"https://t1.daumcdn.net/news/202411/22/yonhap/20241122142520624vpmc.jpg\",cpName:\"ì°í©ë´ì¤\",cpImage:\"https://t1.daumcdn.net/media/news/news2016/cp/cp_yonhap.gif\",cpDarkImage:\"https://t1.daumcdn.net/media/news/2020/cp/cp_yonhap_dm.png\",createdAt:\"2024-11-22T14:25:20+09:00\",mediaPickDuplicateCount:0,clipLinkId:null,serviceName:\"ë´ì¤\"},{id:\"hamny-20241122142503406\",type:\"TEXT\",title:\"ì ì£¼ëìí 'ì§ë°©ìë ìì¹ë¶ê¶ ì±ê³¼ì ê³¼ì ' ì¸ì\n",
       " ì´ì\",summary:\"ì ì£¼í¹ë³ìì¹ëìíë ì ë¶ì ì±\n",
       " ì§ë°©ìëì ì£¼ì ì±ê³¼ì ê³¼ì ë¥¼ ë°íì¼ë¡ ì ì£¼í¹ë³ìì¹ ë¶ê¶ ê°í ë°©ìì ê´í´ ë\n",
       "¼ìíë¤. ì ì£¼ëìíë ì§ë 21ì¼ ì ì£¼ì¬í¸í\n",
       " ëì°íì¥ìì ì ì£¼ëê° ì¶ì§íë 'ì§ë°©ìë ì ë ìì¹ë¶ê¶ í¬ë¼' ì¤ ì ì£¼í¹ë³ìì¹ëìí ì¸ì\n",
       " 'ì§ë°©ìë ìì¹ë¶ê¶ ì±ê³¼ì ê³¼ì 'ë¥¼ ê°ìµíë¤ê³  22ì¼ ë°íë¤. ë°ì¬í¬ íêµ­ì§ë°©íì ì°êµ¬ì ì§ë°©ë¶ê¶ì°êµ¬ì¼í°ì¥ì 'ì§ë°©ì\",pcUrl:\"https://v.daum.net/v/20241122142503406\",moUrl:\"https://v.daum.net/v/20241122142503406\",image:\"https://t1.daumcdn.net/news/202411/22/pressian/20241122142505015jzsk.jpg\",cpName:\"íë ìì\",cpImage:\"https://t1.daumcdn.net/media/news/news2016/cp/cp_pressian.gif\",cpDarkImage:\"https://t1.daumcdn.net/media/news/2020/cp/cp_pressian_dm.png\",createdAt:\"2024-11-22T14:25:03+09:00\",mediaPickDuplicateCount:0,clipLinkId:null,serviceName:\"ë´ì¤\"},{id:\"hamny-20241122141937171\",type:\"TEXT\",title:\"ë¼í¸ë¹ì ëíµë ¹ ë°©íâ¦28ì¼ å°¹ëíµë ¹ê³¼ ì ìíë´\",summary:\"[ì´ë°ì¼ë¦¬ ë°ì¢\n",
       "í ê¸°ì] ëíµë ¹ì¤ì ìëê°ë¥´ì¤ ë¦°ì¼ë¹ì¹ì¤ ë¼í¸ë¹ì ëíµë ¹ì´ ì´ë¬ 27~20ì¼ íêµ­ì ì¤ë¬´ ë°©ë¬¸íë¤ê³  22ì¼ ë°íë¤. ëíµë ¹ì¤ì ê·¸ë¬ë©´ì â(ë ëë¼ ì ìì´) ìêµ­ ê° ì¤ì§ íë ¥ê³¼ ì§ì­ ë° êµ­ì ë¬´ë íë ¥ ì¦ì§ ë°©ìì ë\n",
       "¼ìí  ìì âì´ë¼ê³  íë¤. ìëê°ì¤ ë¦°ì¼ë¹ì¹ ë¼í¸ë¹ì ëíµë ¹. (ì¬ì§=AFP) ë¦°ì¼ë¹ì¹ ëíµë ¹ì ì ë½ì°í©(EU) ìµì´ì ì±ìì\",pcUrl:\"https://v.daum.net/v/20241122141937171\",moUrl:\"https://v.daum.net/v/20241122141937171\",image:\"https://t1.daumcdn.net/news/202411/22/Edaily/20241122141939023hrou.jpg\",cpName:\"ì´ë°ì¼ë¦¬\",cpImage:\"https://t1.daumcdn.net/media/news/news2016/cp/cp_Edaily.gif\",cpDarkImage:\"https://t1.daumcdn.net/media/news/2020/cp/cp_Edaily_dm.png\",createdAt:\"2024-11-22T14:19:37+09:00\",mediaPickDuplicateCount:0,clipLinkId:null,serviceName:\"ë´ì¤\"},{id:\"hamny-20241122141711090\",type:\"TEXT\",title:\"677ì¡° ë´ë\n",
       " ìì°ì, ì¼ë¹ ë¬´ì°¨ë³ ì¹¼ì§â¦ë²ì ìí ì²ë¦¬ ëí­\",summary:\"(ìì¸=ë´ì¤1) íë³ì°¬ ê¸°ì = ì¬ì¼ê° 677ì¡° ì ê·ëª¨ì ë´ë\n",
       "ë ì ë¶ ìì°ìì ëê³  ííì ì ì´ì´ê°ë©° ë²ì  ì²ë¦¬ ìíì ì¬í´ë ëê¸°ë ê² ìëëë ì°ë ¤ê° ëì¨ë¤. ì ë¶ ìì°ìì ëí­ 'ì¹¼ì§'íë ¤ë ì¼ë¹ê³¼ 'ê±´ì ì¬ì ' ê¸°ì¡°ë¥¼ ì§í¤ê² ë¤ë ì¬ë¹ì´ ê³³ê³³ìì ê²©ëíê³  ìë¤. 22ì¼ ì ì¹ê¶ì ë°ë¥´ë©´ êµ­í ê¸°íì¬ì ììíë ë´ë\n",
       "ë ì ë¶ ìë¹ë¹ í¸ì±ì ëê³  ì ìë¦¬ê±¸ì\",pcUrl:\"https://v.daum.net/v/20241122141711090\",moUrl:\"https://v.daum.net/v/20241122141711090\",image:\"https://t1.daumcdn.net/news/202411/22/NEWS1/20241122141712020gevw.jpg\",cpName:\"ë´ì¤1\",cpImage:\"https://t1.daumcdn.net/media/news/news2016/cp/cp_news1.gif\",cpDarkImage:\"https://t1.daumcdn.net/media/news/2020/cp/cp_news1_dm.png\",createdAt:\"2024-11-22T14:17:11+09:00\",mediaPickDuplicateCount:0,clipLinkId:null,serviceName:\"ë´ì¤\"},{id:\"hamny-20241122141614058\",type:\"TEXT\",title:\"ê¸°ì´ë¨ì²´ ë°ë° âë¶ì°ì ì¡°ë¡ ê°ì ìâ ìì  ê°ê²°Â·Â·Â·âê¸°í¼ìì¤ ê²°ì ê¶ íìâ ì¡°í­ ë¹ ì ¸\",summary:\"[ìì¸ê²½ì ] ê¸°ì´ì§ë°©ìì¹ë¨ì²´ê° ë°ë°í ë¶ì°ìì ëìê³íì¡°ë¡ ì¼ë¶ ê°ì ìì´ ë¶ì°ììíìì ìì  ê°ê²°ëë¤. ê¸°í¼ìì¤ ì\n",
       "ì ê¶íì ê¸°ì´ë¨ì²´ì¥ìê²ì ë¶ì°ìì¥ ê¶íì¼ë¡ íìíë ë´ì©ì´ ë¹ ì¡ë¤. 22ì¼ ë¶ì°ììí ë³¸íììì ìì  ê°ê²°ë âë¶ì°ì ëìê³íì¡°ë¡ ê°ì ìâì ë¹ì´ ë¶ì°ìê° íìíë ¤ë êµ¬Â·êµ° ìì 7ê° ëìê³íìì¤ ê²°ì  ê¶íìì ê¶¤ëìì¤ê³¼ ëì¶ì¥ì ì ì¸í ë¬\",pcUrl:\"https://v.daum.net/v/20241122141614058\",moUrl:\"https://v.daum.net/v/20241122141614058\",image:\"https://t1.daumcdn.net/news/202411/22/seouleconomy/20241122141616967acef.jpg\",cpName:\"ìì¸ê²½ì \",cpImage:\"https://t1.daumcdn.net/media/news/news2016/cp/cp_seouleco.gif\",cpDarkImage:\"https://t1.daumcdn.net/media/news/2020/cp/cp_seouleco_dm.png\",createdAt:\"2024-11-22T14:16:14+09:00\",mediaPickDuplicateCount:0,clipLinkId:null,serviceName:\"ë´ì¤\"},{id:\"hamny-20241122141003866\",type:\"TEXT\",title:\"ì´ì¬ëª\n",
       " âìë² í ë¡ í íìââ¦ ê°ììì° í¬ììëì¸ ê³µì ë 5000ë§ìì¼ë¡ ìí¥ ì¶ì§\",summary:\"ëë¶ì´ë¯¼ì£¼ë¹ì´ ê°ììì° í¬ììëì¸ì ê³µì  íëë¥¼ ìí¥í´ ìííê² ë¤ë ìì¬ë¥¼ ë°íë¤. ì ë¶Â·ì¬ë¹ì´ ìµê·¼ ê°ììì° ê³¼ì¸ë¥¼ 2ë\n",
       " ì´ì ì ìí´ì¼íë¤ë ì\n",
       "ì¥ì ë°í ìí©ìì ë¯¼ì£¼ë¹ì´ ë¤ë¥¸ ìì ì ìíë©´ì ì¬ì¼ì ì¹ì´í ê³µë°©ì´ ììëë¤. ìì¸ë¬ ë¯¼ì£¼ë¹ì ì´ë  ìë² ê°ì ì ëë¬ì¼ ê³µê° í ë¡ íë¥¼ ì¬ê³ì í¬ìê³ ìì¸¡ì ì ìíë¤. ì§ì±ì¤ ë¯¼ì£¼ë¹ ì ì±\n",
       "ì ìì¥ì 22ì¼ êµ­í ë³¸\",pcUrl:\"https://v.daum.net/v/20241122141003866\",moUrl:\"https://v.daum.net/v/20241122141003866\",image:\"https://t1.daumcdn.net/news/202411/22/etimesi/20241122141005255zfvj.jpg\",cpName:\"ì ìì ë¬¸\",cpImage:\"https://t1.daumcdn.net/media/news/news2016/cp/cp_etimesi.gif\",cpDarkImage:\"https://t1.daumcdn.net/media/news/2020/cp/cp_etimesi_dm.png\",createdAt:\"2024-11-22T14:10:03+09:00\",mediaPickDuplicateCount:0,clipLinkId:null,serviceName:\"ë´ì¤\"},{id:\"hamny-20241122140709770\",type:\"TEXT\",title:\"ì¡°êµ­íì ë¹ ììì§ \\\"ë°°ë¬ì± ìììì ì¡¸ì ëì±\n",
       "â¦êµ­í ì²­ë¬¸ ì¶ì§\\\"\",summary:\"[ìì¸=ë´ìì¤]ì ê¸ë¯¼ ê¸°ì = ììì§ ì¡°êµ­íì ë¹ ì ì±\n",
       "ììì¥ì 22ì¼ ë°°ë¬ íë«í¼Â·ì\n",
       "ì  ì\n",
       "ì²´ ììíìì²´ê° íê²°í ìììê³¼ ê´ë ¨í´ \\\"ìë«ëì ë¹¼ì ìëì ê´¸ ì¡¸ìëì±\n",
       "\\\"ì´ë¼ë©° \\\"ë°°ë¬ì±ì ëí êµ­í ì²­ë¬¸íë¥¼ ì¶ì§íê² ë¤\\\"ê³  íë¤. ì ìì¥ì ì´ë  ìì¸ ì¬ìë êµ­íìì ì ì±\n",
       "ì ì£¼ê´ ì 2ì°¨ ì ì±\n",
       "í í¬ ììì (ìê²ë§ ìë©´ ì ì±\n",
       " ë) ë¸ë¦¬íì ì´ê³  \\\"ìµì¢\n",
       " ê²°ì ë ììë°©ì\",pcUrl:\"https://v.daum.net/v/20241122140709770\",moUrl:\"https://v.daum.net/v/20241122140709770\",image:\"https://t1.daumcdn.net/news/202411/22/newsis/20241122140710096xbnr.jpg\",cpName:\"ë´ìì¤\",cpImage:\"https://t1.daumcdn.net/media/news/news2016/cp/cp_newsis.gif\",cpDarkImage:\"https://t1.daumcdn.net/media/news/2020/cp/cp_newsis_dm.png\",createdAt:\"2024-11-22T14:07:09+09:00\",mediaPickDuplicateCount:0,clipLinkId:null,serviceName:\"ë´ì¤\"},{id:\"hamny-20241122140656764\",type:\"TEXT\",title:\"\\\"ê¹ì ì ë¶ì ì¼ë¡ í¸ë¼í 2ê¸° ë¶ë¯¸ëí ì½ì§ ìì\\\"\",summary:\"(ìì¸=ì°í©ë´ì¤) ê¹ì§ì° ê¸°ì = ê¹ì ì ë¶í êµ­ë¬´ììì¥ì´ ê³¼ê±° ë¯¸êµ­ê³¼ íìì íµí´ ê²°êµ­ ì ëì  ëë¶ì ì±\n",
       "ë§ íì íê² ëë¤ë©° ë¶ë¯¸ëíì ë¶ì ì  ì\n",
       "ì¥ì ë°íì§ë§, ê°ë¥ì±ì ì¬ì í ë°°ì í  ì ìë¤ë ì ë¬¸ê° ê´ì¸¡ì´ ëìë¤. ì ì±ì¥ ì¸ì¢\n",
       "ì°êµ¬ì íë°ëì ëµì¼í°ì¥ì 22ì¼ ì¸ì¢\n",
       "ì°êµ¬ìê° ìì¸ ì¢\n",
       "ë¡êµ¬ ì°í©ë´ì¤ë¹ë©ìì ê°ìµí ì 39ì°¨ ì¸ì¢\n",
       "êµ­ê°í¬ë¼ìì ê¹ ììì¥ì ë°ì¸ì \\\"í¸ë¼\",pcUrl:\"https://v.daum.net/v/20241122140656764\",moUrl:\"https://v.daum.net/v/20241122140656764\",image:\"https://t1.daumcdn.net/news/202411/22/yonhap/20241122140656932idhz.jpg\",cpName:\"ì°í©ë´ì¤\",cpImage:\"https://t1.daumcdn.net/media/news/news2016/cp/cp_yonhap.gif\",cpDarkImage:\"https://t1.daumcdn.net/media/news/2020/cp/cp_yonhap_dm.png\",createdAt:\"2024-11-22T14:06:56+09:00\",mediaPickDuplicateCount:0,clipLinkId:null,serviceName:\"ë´ì¤\"},{id:\"hamny-20241122140652758\",type:\"VIDEO\",title:\"ê°ê¸°í ëíµë ¹ì¤ ì ìíì ê´ ì¬ìâ¦\\\"ì§ê¸ì´ ê·¸ë§ë¬ì¼ í  ë\\\"\",summary:\"ìì£¼ì´ì ì¼ë¡ ì§ê³ë¥¼ ë°ì í ì\n",
       "ë¬´ì ë³µê·í´ ë\n",
       "¼ëì´ ëë ê°ê¸°í ëíµë ¹ì¤ êµ­ì ê¸°íë¹ìê´ì¤ ì ìíì ê´ì´ ì¬ìë¥¼ ë°í ê²ì¼ë¡ íì¸ëìµëë¤. ëíµë ¹ì¤ì ì¡°ë§ê° ê° íì ê´ì ì¬íë¥¼ ìë¦¬í  ë°©ì¹¨ì¸ ê²ì¼ë¡ ì í´ì¡ìµëë¤. ê° íì ê´ì \\\"ì§ê¸ì´ ê·¸ë§ë¬ì¼ í  ëë¼ê³  íë¨ì´ ìì ì¬ì§íì ë¿\\\"ì´ë¼ë ì\n",
       "ì¥ì ì íìµëë¤. ì´ì´ ì¤ìì´ ëíµë ¹ì ëí´ \\\"ì ê° ì§ê¸ê¹ì§ ë³¸ ë¶ ì¤ ê°ì¥\",pcUrl:\"https://v.daum.net/v/20241122140652758\",moUrl:\"https://v.daum.net/v/20241122140652758\",image:\"https://t1.daumcdn.net/news/202411/22/newsy/20241122140652849fqnw.jpg\",cpName:\"ì°í©ë´ì¤TV\",cpImage:\"https://t1.daumcdn.net/media/news/news2016/cp/cp_yonhaptv.gif\",cpDarkImage:\"https://t1.daumcdn.net/media/news/2020/cp/cp_yonhaptv_dm.png\",createdAt:\"2024-11-22T14:06:52+09:00\",mediaPickDuplicateCount:0,clipLinkId:\"451123989\",serviceName:\"ë´ì¤\"},{id:\"hamny-20241122140646751\",type:\"VIDEO\",title:\"ëíµë ¹ì¤ \\\"ìê·¹í íê° ìí´ ì¶ê²½ ë± ì ê·¹ì¬ì  ê³ ë ¤\\\"\",summary:\"ëíµë ¹ì¤ì´ ë°íì ì ë ì¤ìì´ ì ë¶ì íë°ë¶ë¥¼ ë§ì \\\"ì¶ê²½ìì° í¸ì±ì í¬í¨í ì¬ì ì ì ê·¹ì ì¸ ì­í ì ë°°ì íì§ ìëë¤\\\"ê³  ë°íìµëë¤. ëíµë ¹ì¤ ê³ ì ê´ê³ìë ì¤ë(22ì¼) ì°í©ë´ì¤TVì íµíìì ìê·¹í íê°ë¥¼ ìí´ \\\"íìíë©´ ì¶ê²½ë ì ê·¹ ê³ ë ¤íê² ë¤ë ìë¯¸\\\"ë¼ë©° ì´ê°ì´ ë§íìµëë¤. ë¤ë§ \\\"ë´ë\n",
       " ì´ë¡ í¸ì± ìê¸°ê° ì í´ì§ ë°ë ìë¤\\\"ë©°, 'ê±´ì  ì¬ì ' ê¸°ì¡°ë¥¼ ì ì§\",pcUrl:\"https://v.daum.net/v/20241122140646751\",moUrl:\"https://v.daum.net/v/20241122140646751\",image:\"https://t1.daumcdn.net/news/202411/22/newsy/20241122140646157kiqq.jpg\",cpName:\"ì°í©ë´ì¤TV\",cpImage:\"https://t1.daumcdn.net/media/news/news2016/cp/cp_yonhaptv.gif\",cpDarkImage:\"https://t1.daumcdn.net/media/news/2020/cp/cp_yonhaptv_dm.png\",createdAt:\"2024-11-22T14:06:46+09:00\",mediaPickDuplicateCount:0,clipLinkId:\"451123985\",serviceName:\"ë´ì¤\"},{id:\"hamny-20241122140502686\",type:\"TEXT\",title:\"ê´ì£¼ì, 'ìì¥ ì§ë¬¸ ì í ì§ì¹¨ ë§ë ¨' ì ëµì¶ì§ë¨ì¥ ì§ê³ì± êµì²´\",summary:\"(ê´ì£¼=ì°í©ë´ì¤) ì¥ëì¢\n",
       " ê¸°ì = ê´ì£¼ìê° ê°ê¸°ì  ìì¥ê³¼ ê³µê³µê¸°ê´ ê° ê°ë´íìì 'ìì¥ ì§ë¬¸ ì í ì§ì¹¨'ì ë§ë¤ì´ 'ìëì°©ì¤ì 'ì´ë ë¹ëì ì° ê²ê³¼ ê´ë ¨í´ ì´ë¬¸í ê´ì£¼ì ì ëµì¶ì§ë¨ì¥ì êµì²´íë¤. ìë 22ì¼ ë³´ëìë£ë¥¼ ë´ê³  \\\"ë¬¼ìë¥¼ ë¹ì ê²ê³¼ ê´ë ¨, ì´ë¥¼(ê³µê³µê¸°ê´ ê°ë´í) ì´ê´íë ë¶ìì¸ ì ëµì¶ì§ë¨ì¥ì ì±\n",
       "ìì ë¬¼ì´ ë¬´ë³´ì§ íí¥ ì ë³´ ì¸ì¬íë¤\\\"ê³  ë°íë¤. í\",pcUrl:\"https://v.daum.net/v/20241122140502686\",moUrl:\"https://v.daum.net/v/20241122140502686\",image:\"https://t1.daumcdn.net/news/202411/22/yonhap/20241122140502504kufx.jpg\",cpName:\"ì°í©ë´ì¤\",cpImage:\"https://t1.daumcdn.net/media/news/news2016/cp/cp_yonhap.gif\",cpDarkImage:\"https://t1.daumcdn.net/media/news/2020/cp/cp_yonhap_dm.png\",createdAt:\"2024-11-22T14:05:02+09:00\",mediaPickDuplicateCount:0,clipLinkId:null,serviceName:\"ë´ì¤\"},{id:\"hamny-20241122140305633\",type:\"TEXT\",title:\"ì¡°êµ­ ë¤ì ë¬ 12ì¼ ëë²ì ì ê³ â¥\\\"ì¬ì¤ì ê·¼ê±°í íê¸°íì¡ ê¸°ë\\\"\",summary:\"ëë²ìì´ ë¤ì ë¬ 12ì¼ ì¡°êµ­íì ë¹ ì¡°êµ­ ëíì ìë\n",
       " ì\n",
       "ìë¹ë¦¬ì ì²­ìë ê°ì°° ë¬´ë§ íì ì¬í ìê³ ì¬ íê²°ì ì ê³ íê¸°ë¡ íì, íì ë¹ì´ \\\"íê¸°íì¡ì ê¸°ëíë¤\\\"ê³  ë°íìµëë¤. íì ë¹ì \\\"ì¡° ëíë ê·¸ëì ì¸ë¡  ì¸í°ë·°ë¥¼ íµí´ 'êµ­ë² ì§ìë¥¼ ì¡´ì¤íì§ ìì ëë¦¬ê° ìì¼ë©° ì¬íì ë´ë´íê² ìíê² ë¤'ê³  ì¬ë¬ ì°¨ë¡ ë°í ë° ìë¤\\\"ë©° \\\"ëë²ìì´ ìë ê·¸ëë¡ì ì¬ì¤ì ê·¼ê±°\",pcUrl:\"https://v.daum.net/v/20241122140305633\",moUrl:\"https://v.daum.net/v/20241122140305633\",image:\"https://t1.daumcdn.net/news/202411/22/imbc/20241122140305529vpri.jpg\",cpName:\"MBC\",cpImage:\"https://t1.daumcdn.net/media/news/news2016/cp/cp_imbc.gif\",cpDarkImage:\"https://t1.daumcdn.net/media/news/2020/cp/cp_imbc_dm.png\",createdAt:\"2024-11-22T14:03:05+09:00\",mediaPickDuplicateCount:0,clipLinkId:null,serviceName:\"ë´ì¤\"},{id:\"hamny-20241122140251613\",type:\"TEXT\",title:\"ì ìì ë\n",
       "¸ì¶ë ì ë¶ìì°â¦ë°©íµì ìì°ì­ê° ì´ë»ê² ìê°íìëì?\",summary:\"ì¼ë¹ ì£¼ëì êµ­í ê³¼íê¸°ì ì ë³´ë°©ì¡íµì ììíê° ë°©ì¡íµì ììíì ì¤ì§ì  ì¸ê±´ë¹ì ì´ìì§ì ê²½ë¹, ë²ë¥ ë¹ì© ë±ì ì­ê°íìµëë¤. ê°ì¢\n",
       " ì ë¶ ìì° ì­ê°ì ë¶ì²ìì Â âì¼ì íë¼ëÂ ê±´ì§, íì§ ë§ë¼ëÂ ê±´ì§ ëª¨ë¥´ê² ë¤âë ë³¼ë©ìë¦¬ê° ë¤ë¦½ëë¤. ë°©ì¡ì¥ì\n",
       "ì© ìì°ì´ë¼ê³  ì£¼ì¥íë ì¼ë¹ê³¼ ê±°ë ì¼ë¹ì´ ì ë¶ íì ìì°ì ë°ëª©ì ì¡ê³  ìë¤ë ì¬ë¹ì´ ì\n",
       "ì¥ì´ ì²¨ìíê² ëë¦½í©ëë¤. ê²½\",pcUrl:\"https://v.daum.net/v/20241122140251613\",moUrl:\"https://v.daum.net/v/20241122140251613\",image:\"https://t1.daumcdn.net/news/202411/22/segye/20241122140251766idxq.jpg\",cpName:\"ì¸ê³ì¼ë³´\",cpImage:\"https://t1.daumcdn.net/media/news/news2016/cp/cp_segye.gif\",cpDarkImage:\"https://t1.daumcdn.net/media/news/2020/cp/cp_segye_dm.png\",createdAt:\"2024-11-22T14:02:51+09:00\",mediaPickDuplicateCount:0,clipLinkId:null,serviceName:\"ë´ì¤\"},{id:\"hamny-20241122140215597\",type:\"TEXT\",title:\"âìê³¡ë²â âëìë²â ê°íìâ¦ì¬ì¼ ì¹ì´í ì¥ì¸ í¬ì\",summary:\"ëë¶ì´ë¯¼ì£¼ë¹ ì£¼ë íì 21ì¼ âìê³¡ê´ë¦¬ë² ê°ì ìâ âëìì°ë¬¼ ì íµ ë° ê°ê²©ìì ì ê´í ë²ë¥  ê°ì ìâ ë± 4ê° ëì\n",
       " ìì ë²ìì´ ìììë¥¼ íµê³¼íë©° ì¬ì¼ì ëë¦½ì´ ì¬ííê³  ìë¤. ê°ë±ì íìì¥ ë°ììë ì¹ì´íê² ì´ì´ì§ê³  ìë¤. êµ­í ëë¦¼ì¶ì°ìíí´ììì°ììí ìì êµ­ë¯¼ìíÂ·ëë¶ì´ë¯¼ì£¼ë¹ ììë¤ì 22ì¼ ê°ê° ì\n",
       "ì¥ë¬¸ì ë´ëê³ , ê¸°ìíê²¬ì í¼ì¹ë©° ì¥ì¸í¬ìì ëì°ë¤\",pcUrl:\"https://v.daum.net/v/20241122140215597\",moUrl:\"https://v.daum.net/v/20241122140215597\",image:\"https://t1.daumcdn.net/news/202411/22/nongmin/20241122140217139toup.jpg\",cpName:\"ëë¯¼ì ë¬¸\",cpImage:\"https://t1.daumcdn.net/media/news/news2016/logo/cp_nongmin.gif\",cpDarkImage:\"https://t1.daumcdn.net/media/news/2020/cp/cp_nongmin_dm.png\",createdAt:\"2024-11-22T14:02:15+09:00\",mediaPickDuplicateCount:0,clipLinkId:null,serviceName:\"ë´ì¤\"},{id:\"hamny-20241122140201593\",type:\"TEXT\",title:\"ì¤ì¸í \\\"ë¯¼ì£¼ë¹ 'ìì° ëë¨'â¦ì´ì¬ëª\n",
       " ë§ì¶¤í ì¦ì¡, ì¤ì ìì°ì ì­ê°\\\"\",summary:\"ì¤ì¸í ìì¸ìì¥ì 22ì¼ ëë¶ì´ë¯¼ì£¼ë¹ì´ ë§í¬ ìê°ì¥ ë± íìí ìì°ì ì­ê°íê³  ì´ì¬ëª\n",
       " ëíì ê´ë ¨ë ìì°ì ì¦ì¡íë¤ë©° 'êµ­ì  ëë¨'ì ë¹ëì´ ë¹ííë¤. ì¤ ìì¥ì ì´ë  íì´ì¤ë¶ì íµí´ \\\"êµ­íë¥¼ ê±°ì¼(å·¨é)ì ì\n",
       "ë² ë\n",
       "ì¬ì ì¥ì¼ë¡ ë§ë¤ì´ ì¨ ë¯¼ì£¼ë¹ì´ ì´ë²ìë ìì° ì¬ìë¥¼ 'í­ê±°ì ì¥'ì¼ë¡ ì ë½ìì¼°ë¤\\\"ë©° ì´ê°ì´ ë§íë¤. ì¤ ìì¥ì \\\"(ë¯¼ì£¼ë¹ì´) ì°¨ì¸ë ìì  ê¸°ì \",pcUrl:\"https://v.daum.net/v/20241122140201593\",moUrl:\"https://v.daum.net/v/20241122140201593\",image:\"https://t1.daumcdn.net/news/202411/22/akn/20241122140203669rynt.jpg\",cpName:\"ìììê²½ì \",cpImage:\"https://t1.daumcdn.net/media/news/news2016/cp/cp_akn.gif\",cpDarkImage:\"https://t1.daumcdn.net/media/news/2020/cp/cp_akn_dm.png\",createdAt:\"2024-11-22T14:02:01+09:00\",mediaPickDuplicateCount:0,clipLinkId:null,serviceName:\"ë´ì¤\"},{id:\"hamny-20241122140046547\",type:\"TEXT\",title:\"âì§ì­ ë¯¼ì ë°ìëë¤ââ¦ ì ì¢\n",
       "ë³µ ê¸°ì¥êµ°ì, âì ëìê³íì¡°ë¡ ê°ì ìâ ììí ìì ê°ê²°ì ìë\",summary:\"ì ì¢\n",
       "ë³µ ë¶ì° ê¸°ì¥êµ°ìë 22ì¼ ë¶ì°ììíìì âë¶ì°ì ëìê³íì¡°ë¡ ê°ì ìâì´ ìµì¢\n",
       " ìì  ê°ê²°ë ê²ì ëí´ í¬ê² ìëíë©° ì§ì­ì ë¯¼ìê° ìì©ë ê²°ì ì´ë¼ë ì\n",
       "ì¥ì ì íë¤. ì´ë  ë¶ì°ììí ë³¸íììì ìì  ê°ê²°ë âë¶ì°ì ëìê³íì¡°ë¡ ê°ì ìâì ë¹ì´ ë¶ì°ìê° íìíë ¤ë êµ¬Â·êµ° ìì 7ê° ëìê³íìì¤ ê²°ì  ê¶íìì ë¬ì§ê³µì, ì¥ì¬ìì¤, íê¸°ë¬¼ì²ë¦¬ìì¤ ë± 5ê° ìì¤\",pcUrl:\"https://v.daum.net/v/20241122140046547\",moUrl:\"https://v.daum.net/v/20241122140046547\",image:\"https://t1.daumcdn.net/news/202411/22/akn/20241122140047865kfjm.jpg\",cpName:\"ìììê²½ì \",cpImage:\"https://t1.daumcdn.net/media/news/news2016/cp/cp_akn.gif\",cpDarkImage:\"https://t1.daumcdn.net/media/news/2020/cp/cp_akn_dm.png\",createdAt:\"2024-11-22T14:00:46+09:00\",mediaPickDuplicateCount:0,clipLinkId:null,serviceName:\"ë´ì¤\"},{id:\"hamny-20241122140003513\",type:\"TEXT\",title:\"ì¬ë¹ \\\"YS ì ì ì¼ë¡ ê³¼ê° íì \\\"...ì¼ë¹ \\\"ë¶ì ê¶ë ¥ ë§ì\\\"\",summary:\"ì¬ì¼ë ê³  ê¹ìì¼ ì  ëíµë ¹ ìê±° 9ì£¼ê¸°ë¥¼ ë§ì íìë¦¬ì ëª¨ì¬ ì¶ëª¨íìµëë¤. êµ­ë¯¼ìí íëí ëíë ì¶ëìì´ ì´ë¦° êµ­ë¦½ìì¸íì¶©ì íì¶©ê´ì ì°¾ì 'ê¹ìì¼ ì ì 'ì ê³ì¹í ì ë¹ì¼ë¡ì êµ­ë¯¼ì ëëì´ì ë§ë ë³íì íì ì ê³¼ê°íê² ì¶ì§íê³  ê·¸ ê³¼ì ì ëª¨ëê° í¨ê»íê² ë¤ê³  ê°ì¡°íìµëë¤. ëë¶ì´ë¯¼ì£¼ë¹ ë°ì°¬ë ìë´ëíë ì¶ëª¨ì¬ìì ê¹ ì  ëíµë ¹ì´ ë³´ì¬ì¤ ë¶ìí ê¶ë ¥ì\",pcUrl:\"https://v.daum.net/v/20241122140003513\",moUrl:\"https://v.daum.net/v/20241122140003513\",image:null,cpName:\"YTN\",cpImage:\"https://t1.daumcdn.net/media/news/2020/cp/cp_ytn.gif\",cpDarkImage:\"https://t1.daumcdn.net/media/news/2020/cp/cp_ytn_dm.png\",createdAt:\"2024-11-22T14:00:03+09:00\",mediaPickDuplicateCount:0,clipLinkId:null,serviceName:\"ë´ì¤\"},{id:\"hamny-20241122135947501\",type:\"TEXT\",title:\"í ì´ë¦¬ \\\"2025ë\n",
       " APEC ì ìíì, ì°¨ì§ ìì´ ì¤ë¹í´ ëê° ê²\\\"\",summary:\"íëì êµ­ë¬´ì´ë¦¬ê° \\\"2025ë\n",
       " APEC ì ìíì ì¤ë¹ììì¥ì¼ë¡ì íìë¥¼ ì°¨ì§ ìì´ ì¤ë¹í´ ëê° ê²\\\"ì´ë¼ê³  ë°íë¤. íëì ì´ë¦¬ë 22ì¼ ì¤ì  ìì¸ ì¢\n",
       "ë¡êµ¬ í¬ìì¦ì¤ í¸í\n",
       "ìì ì´ë¦° 2024 ë³´ìì¤ í¬ë¼ ìì¸íì ê°íììì \\\"ê°ë°©ì ì´ê³ , ì­ëì ì´ë©°, íë³µë ¥ ìê³  ííë¡ì´ ìììííì ê³µëì²´ êµ¬ì¶ì ê¸°ì¬íê³ ì íë¤\\\"ë©° ì´ê°ì´ ë§íë¤. ì°ë¦¬ëë¼ë 2025ë\n",
       " ê²½ë¶\",pcUrl:\"https://v.daum.net/v/20241122135947501\",moUrl:\"https://v.daum.net/v/20241122135947501\",image:\"https://t1.daumcdn.net/news/202411/22/dailian/20241122135949571vhqm.jpg\",cpName:\"ë°ì¼ë¦¬ì\",cpImage:\"https://t1.daumcdn.net/media/news/news2016/cp/cp_dailian.gif\",cpDarkImage:\"https://t1.daumcdn.net/media/news/2020/cp/cp_dailian_dm.png\",createdAt:\"2024-11-22T13:59:47+09:00\",mediaPickDuplicateCount:0,clipLinkId:null,serviceName:\"ë´ì¤\"},{id:\"hamny-20241122135823463\",type:\"VIDEO\",title:\"[YTN ì¤ìê°ë´ì¤] 1ì¬ í­ìíë©´ì...\\\"ë²ê´ ì¡´ì¤Â·ì¬ë² ë\n",
       "ë¦½\\\"\",summary:\"â  ë¯¼ì£¼ë¹ ì´ì¬ëª\n",
       " ëíê° ìì¦êµì¬ íì 1ì¬ ì ê³ ë¥¼ ì¬í ìëê³  ë²ê´ë¤ì ì¡´ì¤íë¤ë©° ì¬ë²ë¶ ë\n",
       "ë¦½ì´ ì² ì í ë³´ì¥ë¼ì¼ íë¤ê³  ë§íìµëë¤. ì ê±°ë² íì 1ì¬ íê²°ì ëí´ìë ì¬íë¶ê° ë²ë¦¬ë¥¼ ì¤í´íê³  ìíì´ ë¶ë¹íë¤ë©° í­ìíìµëë¤. â  êµ­ë¯¼ìíì ë¯¼ì£¼ë¹ ì£¼ëë¡ ëíµë ¹ì¤ í¹ìíëë¹ ìì° ì ì¡ì´ ì­ê°ë ê²ê³¼ ê´ë ¨í´, ì´ì¬ëª\n",
       " ëí ìì¬ì ëí ë³´ë³µì´ë¼ê³  ì£¼ì¥íìµëë¤.\",pcUrl:\"https://v.daum.net/v/20241122135823463\",moUrl:\"https://v.daum.net/v/20241122135823463\",image:\"https://t1.daumcdn.net/news/202411/22/YTN/20241122135824401vmeq.jpg\",cpName:\"YTN\",cpImage:\"https://t1.daumcdn.net/media/news/2020/cp/cp_ytn.gif\",cpDarkImage:\"https://t1.daumcdn.net/media/news/2020/cp/cp_ytn_dm.png\",createdAt:\"2024-11-22T13:58:23+09:00\",mediaPickDuplicateCount:0,clipLinkId:\"451123866\",serviceName:\"ë´ì¤\"},{id:\"hamny-20241122135431350\",type:\"VIDEO\",title:\"ê³ ìê³µì§ì ì¬ì° ê³µê°...76ëª\n",
       " ì¤ 1ì, 1224ìµ\",summary:\"ì¸ì¬íì ì²ë ì¤ë ê³ ìê³µì§ì 76ëª\n",
       "ì´ ì ê³ í ì¬ì°ì ê³µê°íìµëë¤. ì ì²´ ê³ ìê³µì§ìê° ìë, ì¬í´ 8ì 2ì¼ë¶í° 9ì 1ì¼ê¹ì§ ì¹ì§, ì¸ì¬ì´ë ë±ì¼ë¡ ì ë¶ì´ ë°ë 76ëª\n",
       "ë§ ëìì¼ë¡ í ê²ëë¤. ê°ì¥ ë§ì ì¬ì°ì ì ê³ í ì¬ëì ì§ë 8ì ìëª\n",
       "ë ì´ì¸ì\n",
       " íì ìì ë¶ ì´ë¶5ëììí íìë¶ëì§ì¬ììµëë¤. ì´ ì§ì¬ë ë³¸ì¸ê³¼ ê°ì¡± ëª\n",
       "ìë¡ 1224ìµ 64\",pcUrl:\"https://v.daum.net/v/20241122135431350\",moUrl:\"https://v.daum.net/v/20241122135431350\",image:\"https://t1.daumcdn.net/news/202411/22/JTBC/20241122135645709znua.png\",cpName:\"JTBC\",cpImage:\"https://t1.daumcdn.net/media/news/news2016/cp/cp_JTBC.gif\",cpDarkImage:\"https://t1.daumcdn.net/media/news/2020/cp/cp_JTBC_dm.png\",createdAt:\"2024-11-22T13:54:31+09:00\",mediaPickDuplicateCount:0,clipLinkId:\"451123860\",serviceName:\"ë´ì¤\"},{id:\"hamny-20241122135130272\",type:\"TEXT\",title:\"ê¹ìì¼ ì  ëíµë ¹ 9ì£¼ê¸° ì¶ëª¨ìì ë¤ì ëª¨ì¸ ìëëê³[íì¥ íë³´]\",summary:\"ê³ (æ\n",
       ") ê¹ìì¼ ì  ëíµë ¹ 9ì£¼ê¸° ì¶ëª¨ìì´ 22ì¼ ì¤ì  ìì¸ ëìë êµ­ë¦½íì¶©ììì ì´ë ¸ë¤. ì´ë  ì¶ëª¨ììë ì°ìì êµ­íìì¥ê³¼ ì£¼í¸ì ë¶ìì¥, íëí êµ­ë¯¼ìí ëíì ë°ì°¬ë ëë¶ì´ë¯¼ì£¼ë¹ ìë´ëí ë± ì¬ì¼ ì§ëë¶ì ìì ììë¤ì´ ì°¸ìíë¤. ì´ì¬ëª\n",
       " ë¯¼ì£¼ë¹ ëíë ì°¸ìíì§ ììë¤. ì´ìì±Â·ê³ ê±´ ì  ì´ë¦¬, ê¶ë\n",
       "¸ê°Â·ê¹ëë£¡Â·ì´ì¬ì¤, ì´ì¸ì , ìíê· ì  ìì ë± ì ê³ ì\",pcUrl:\"https://v.daum.net/v/20241122135130272\",moUrl:\"https://v.daum.net/v/20241122135130272\",image:\"https://t1.daumcdn.net/news/202411/22/khan/20241122135131367uksd.jpg\",cpName:\"ê²½í¥ì ë¬¸\",cpImage:\"https://t1.daumcdn.net/media/news/news2016/cp/cp_khan.gif\",cpDarkImage:\"https://t1.daumcdn.net/media/news/2020/cp/cp_khan_dm.png\",createdAt:\"2024-11-22T13:51:30+09:00\",mediaPickDuplicateCount:0,clipLinkId:null,serviceName:\"ë´ì¤\"},{id:\"hamny-20241122134910200\",type:\"TEXT\",title:\"âì¬ë² ì¬íëâì ì  ì´ì¬ëª\n",
       "Â·ì¡°êµ­â¦ë¯¼ì£¼Â·íì  ìë¹ ìµë ìê¸°\",summary:\"ëë¶ì´ë¯¼ì£¼ë¹ ì´ì¬ëª\n",
       " ëíê° ì¤ë 25ì¼ ê³µì§ì ê±°ë² ìë° ê´ë ¨ 1ì¬ ì¬íì ë°ë ê°ì´ë°, ìë´ 3ë¹ì¸ ì¡°êµ­íì ë¹ ì¡°êµ­ ëíì ëí ëë²ì ìê³ ì¬ì´ ìê³ ëë©´ì ë²ì¼ê¶ ìíìì ìê¸°ë¡ ì´ íì°íê³  ìë¤. 22ì¼ ì¬ì¼ì ë°ë¥´ë©´ ìë\n",
       " ì\n",
       "ì ë¹ë¦¬ì ì²­ìë ê°ì°° ë¬´ë§ ë± íìë¡ 1Â·2ì¬ìì ì¤í ì ê³ ë¥¼ ë°ì ì¡°êµ­(58) ëíê° ë¤ì ë¬ 12ì¼ ëë²ììì íì íê²°ì\",pcUrl:\"https://v.daum.net/v/20241122134910200\",moUrl:\"https://v.daum.net/v/20241122134910200\",image:\"https://t1.daumcdn.net/news/202411/22/kyeonggi/20241122134911712sxvj.jpg\",cpName:\"ê²½ê¸°ì¼ë³´\",cpImage:\"\",cpDarkImage:null,createdAt:\"2024-11-22T13:49:10+09:00\",mediaPickDuplicateCount:0,clipLinkId:null,serviceName:\"ë´ì¤\"},{id:\"hamny-20241122134658149\",type:\"TEXT\",title:\"ì¤ëêµ¬ ë´ë\n",
       " ìì°ì 1ì¡°1ì²252ìµìâ¦\\\"ì£¼ë¯¼ ì²´ê°ì¬ì\n",
       " ì ê·¹ ì¶ì§\\\"\",summary:\"(ìì¸=ì°í©ë´ì¤) ì ì¤ì ê¸°ì = ìì¸ ì¤ëêµ¬(êµ¬ì²­ì¥ ë¥ê²½ê¸°)ë 2025ë\n",
       "ë ìì°ìì ì¬í´ë³´ë¤ 5.1% ëì´ë 1ì¡°1ì²252ìµì ê·ëª¨ë¡ í¸ì±í´ êµ¬ìíì ì ì¶íë¤ê³  22ì¼ ë°íë¤. ë¥ê²½ê¸° êµ¬ì²­ì¥ì \\\"ì£¼ë¯¼ì ë³µì§ì ìì  ê°í, ì§ì­ê²½ì  íì±í, êµì¡ ê¸°ë° ê°íì ì¤ì ì ëê³  í¸ì±íë¤\\\"ë©° \\\"ë´ë\n",
       "ìë êµ¬ë¯¼ì´ ì¤ìíìì ì²´ê°í  ì ìë ì¬ì\n",
       "ë¤ì ì ê·¹ì ì¼ë¡ ì¶ì§í \",pcUrl:\"https://v.daum.net/v/20241122134658149\",moUrl:\"https://v.daum.net/v/20241122134658149\",image:\"https://t1.daumcdn.net/news/202411/22/yonhap/20241122134659033nffv.jpg\",cpName:\"ì°í©ë´ì¤\",cpImage:\"https://t1.daumcdn.net/media/news/news2016/cp/cp_yonhap.gif\",cpDarkImage:\"https://t1.daumcdn.net/media/news/2020/cp/cp_yonhap_dm.png\",createdAt:\"2024-11-22T13:46:58+09:00\",mediaPickDuplicateCount:0,clipLinkId:null,serviceName:\"ë´ì¤\"},{id:\"hamny-20241122134254061\",type:\"TEXT\",title:\"'ì ì¤ì°ì¸µ ìë' ìê³ í å°¹ \\\"ê²½ì íë ¥ ë°ëì ëì´ë¦°ë¤\\\"\",summary:\"ì¤ìì´ ëíµë ¹ì´ 22ì¼ ìì¸ ì¤êµ¬ ì ë¼í¸í\n",
       "ìì ì´ë¦° ì 56í êµ­ê°ì¡°ì°¬ê¸°ëíì ì°¸ìí´ ì¸ì¬ë§ì íê³  ìë¤./ì¬ì§=ë´ìì¤íì [íì´ë¸ì\n",
       "ë´ì¤] ì¤ìì´ ëíµë ¹ì´ 22ì¼ ìê¸° íë°ê¸° ìê·¹í íê°ë¡ ë¯¼ìì ì´ë ¤ 'ìë¡ì´ ì¤ì°ì¸µ ìë'ë¥¼ ì´ê² ë¤ë ë¹ì ì ì ìíë¤. ìê¸° ì ë°ê¸° ê±´ì ì¬ì  ê¸°ì¡°ë¡ ë¬¼ê° ìì íì ìì¶ íì±í ë± ìí¸í ê²½ì  ì¬ê±´ì êµ¬ì¶í\",pcUrl:\"https://v.daum.net/v/20241122134254061\",moUrl:\"https://v.daum.net/v/20241122134254061\",image:\"https://t1.daumcdn.net/news/202411/22/fnnewsi/20241122134255093dsrt.jpg\",cpName:\"íì´ë¸ì\n",
       "ë´ì¤\",cpImage:\"https://t1.daumcdn.net/media/news/news2016/cp/finan.png\",cpDarkImage:\"https://t1.daumcdn.net/media/news/2020/cp/finan_dark.png\",createdAt:\"2024-11-22T13:42:54+09:00\",mediaPickDuplicateCount:0,clipLinkId:null,serviceName:\"ë´ì¤\"},{id:\"hamny-20241122133903973\",type:\"TEXT\",title:\"ë¯¼ì£¼ë¹ ì¶ì²ììì \\\"ì£¼ë¯¼ìì¹ì§ìì¼í° íì§ ì¡°ë¡ì ì¬ììêµ¬ ì§ì§\\\"\",summary:\"íµì¬ìì½\\\"ìë¯¼ ì¬ë¡  ë°ìí ì¬ììêµ¬\\\" ë¯¼ì£¼ë¹ ì¶ì²ìììë¤ì´ ì¡ëí ì¶ì²ìì¥ì´ ì ì¶í 'ì¶ì²ì ì£¼ë¯¼ìì¹ì§ìì¼í° íì§ ì¡°ë¡ì'ì ëí ì¬ììêµ¬ë¥¼ ì§ì§íë©° ìµê·¼ êµ­ë¯¼ìí ì¶ì²ìììë¤ê³¼ ê°ì ì¸ì ë¤. ë¯¼ì£¼ë¹ ì¶ì²ìììë¤ì ì§ë 21ì¼ ì±ëª\n",
       "ì íµí´ \\\"ì£¼ë¯¼ìì¹ì§ìì¼í° íì§ì ì¸ê³íê¶ëì°ë§¹(WT)ë³¸ë¶ ê±´ë¦½ì ì í ë³ê°ì ì¬ìììë ë¶êµ¬íê³  êµ­ë¯¼ìí ììë¤ì´ ì´ë¥¼ ì ì¹ì \",pcUrl:\"https://v.daum.net/v/20241122133903973\",moUrl:\"https://v.daum.net/v/20241122133903973\",image:\"https://t1.daumcdn.net/news/202411/22/nocut/20241122133907827gxsa.jpg\",cpName:\"ë\n",
       "¸ì»·ë´ì¤\",cpImage:\"https://t1.daumcdn.net/media/news/news2016/cp/cp_nocut.gif\",cpDarkImage:\"https://t1.daumcdn.net/media/news/2020/cp/cp_nocut_dm.png\",createdAt:\"2024-11-22T13:39:03+09:00\",mediaPickDuplicateCount:0,clipLinkId:null,serviceName:\"ë´ì¤\"}],hasNext:true}},validCode:\"GOOD\",updatedAt:\"2024-11-22T14:30:34.427281611+09:00\",lastFetchedAt:\"2024-11-22T14:33:49.602528406+09:00\"},title:\"[ì¹ì\n",
       "2024] ì ì¹>ìµì ë´ì¤\",newsbot:{buttonText:null,bubbleText:null,enabled:false}}],order:\"default\"},\"3fd2e2d7-3bda-43e2-971c-e1bc0174c8b0\":{sandboxAdId:\"DAN-h6vg4yf85hh685BH\",adId:\"DAN-zP2JKRpb99N1BvcQ\"},\"cde2fece-575e-4470-9e70-5025f99e2bf4\":{sandboxAdId:\"DAN-LVy5d29jGL8t5AjI\",adId:\"DAN-Wdgaiq3wRXEh9r5v\"},\"a251773c-2291-422a-9062-e7cebc81d02e\":{sandboxAdId:\"DAN-LVy5d29jGL8t5AjI\",adId:\"DAN-Wdgaiq3wRXEh9r5v\"},\"6a49440b-fee2-4fa2-834d-64a06f5ea349\":{sandboxAdId:\"DAN-LVy5d29jGL8t5AjI\",adId:\"DAN-Wdgaiq3wRXEh9r5v\"}}},shared:{\"news-footer\":{layoutMap:[{componentKey:\"footer_Container\",containers:[{layouts:[{enabled:true,componentKey:\"FooterHtml\",valueId:\"12275dd8-56cd-4829-a68b-0864f7003eb1\",type:\"data\"}]}],type:\"container\"}],valueMap:{\"12275dd8-56cd-4829-a68b-0864f7003eb1\":{mobileHtml:\"\\u003Cdiv class=\\\"inner_foot\\\">\\n    \\u003Cul class=\\\"list_foot\\\">\\n        \\u003Cli>\\u003Ca href=\\\"/edit\\\" class=\\\"btn_foot\\\">ë¤ìë´ì¤ ìë¹ì¤ìë´\\u003C/a>\\u003C/li>\\n        \\u003Cli>\\u003Ca href=\\\"https://magazine.daum.net/daumnews_notice\\\" class=\\\"btn_foot\\\">ê³µì§ì¬í­\\u003C/a>\\u003C/li>\\n    \\u003C/ul>\\n    \\u003Cspan class=\\\"info_policy\\\">\\u003Ca href=\\\"https://policy.daum.net/docs/policy\\\" class=\\\"link_policy\\\">ì´ì©ì½ê´\\u003C/a>\\u003Cspan class=\\\"txt_dot\\\">\\u003C/span>\\u003Ca href=\\\"/newscenter24\\\" class=\\\"link_policy\\\">24ìê° ë´ì¤ì¼í°\\u003C/a>\\u003C/span>\\n    \\u003Cspan class=\\\"info_service\\\">ê¸°ì¬ë°°ì´ì±\n",
       "ìì: ìê´ì±\\u003Cspan class=\\\"txt_dot\\\">\\u003C/span>ì²­ìë\n",
       "ë³´í¸ì±\n",
       "ìì: ìì±í¬\\u003C/span>\\n    \\u003Csmall>\\n        \\u003Ca href=\\\"https://www.kakaocorp.com\\\" class=\\\"link_kakao\\\" target=\\\"_blank\\\">Â© Kakao Corp.\\u003C/a>\\n    \\u003C/small>\\n\\u003C/div>\",html:\"\\u003Cdiv class=\\\"inner_foot\\\">\\n   \\u003Cul class=\\\"list_foot\\\">\\n     \\u003Cli>\\u003Ca href=\\\"/edit\\\" class=\\\"btn_foot\\\">ë¤ìë´ì¤ ìë¹ì¤ìë´\\u003C/a>\\u003C/li>\\n     \\u003Cli>\\u003Ca href=\\\"/newscenter24\\\" class=\\\"btn_foot\\\">24ìê° ë´ì¤ì¼í°\\u003C/a>\\u003C/li>\\n     \\u003Cli>\\u003Ca href=\\\"https://magazine.daum.net/daumnews_notice\\\" class=\\\"btn_foot\\\">ê³µì§ì¬í­\\u003C/a>\\u003C/li>\\n     \\u003Cli>\\u003Ca href=\\\"https://policy.daum.net/info/info\\\" class=\\\"btn_foot\\\">ìë¹ì¤ ì½ê´/ì ì±\n",
       "\\u003C/a>\\u003C/li>\\n   \\u003C/ul> \\n   \\u003Cspan class=\\\"info_service\\\">ê¸°ì¬ë°°ì´ì±\n",
       "ìì: ìê´ì±\\u003Cspan class=\\\"txt_dot\\\">\\u003C/span>ì²­ìë\n",
       "ë³´í¸ì±\n",
       "ìì: ìì±í¬\\u003C/span>\\n   \\u003Cspan class=\\\"info_service\\\">ë´ì¤ ê¸°ì¬ì ëí ì ìê¶ ë° ë²ì  ì±\n",
       "ìì ìë£ì ê³µì¬ ëë ê¸ì´ì´ì ìì¼ë©°, Kakaoì ì\n",
       "ì¥ê³¼ ë¤ë¥¼ ì ììµëë¤.\\u003C/span>\\n   \\u003Csmall>\\n    \\u003Ca href=\\\"https://www.kakaocorp.com/\\\" class=\\\"link_kakao\\\" target=\\\"_blank\\\">Â© Kakao Corp.\\u003C/a>\\n   \\u003C/small>\\n \\u003C/div>\"}}},\"news-gnb\":{layoutMap:[{componentKey:\"header_section_Container\",containers:[{layouts:[{enabled:true,componentKey:\"CategoryBasic\",valueId:\"69a885e7-7e66-4719-98e1-d080b85c6857\",type:\"data\"},{enabled:true,componentKey:\"MenuBasic\",valueId:\"371ff85c-9d67-406b-865c-aa306d55baec\",type:\"data\"}]}],type:\"container\"}],valueMap:{\"69a885e7-7e66-4719-98e1-d080b85c6857\":{isSectionService:true,useSocialShare:true,pcUrl:\"https://news.daum.net\",relatedServices:[{pcUrl:\"https://entertain.daum.net\",title:\"ì°ì\",moUrl:null},{pcUrl:\"https://sports.daum.net\",title:\"ì¤í¬ì¸ \",moUrl:null},{pcUrl:\"https://weather.daum.net\",title:\"ë ì¨\",moUrl:null}],useLogoColor:true,title:\"ë´ì¤\",moUrl:null},\"371ff85c-9d67-406b-865c-aa306d55baec\":{useFloating:true,color:{light:\"#000000\",dark:\"#ffffff\",enabled:false},description:\"ë´ì¤ì¹ì\n",
       " ë©ë´\",theme:{pc:null,darkMobile:null,mobile:null,darkPc:null,enabled:false},items:[{moTitle:null,useNewIcon:false,icon:null,id:\"b7ff7836-fce4-4803-81f6-179d55ff0710\",title:\"í\",items:[],url:\"/news/home\",enabled:true,moUrl:null},{moTitle:null,useNewIcon:true,icon:null,id:\"86a26e66-f54f-4a9e-a8c0-1b636eaa500f\",title:\"ê¸°í/íê²½\",items:[{moTitle:null,useNewIcon:false,icon:null,id:\"61d4ac90-6859-49b9-9e42-5cfe4728777a\",title:\"ê¸°íìê¸°\",url:\"/news/climatecrisis\",enabled:true,moUrl:null},{moTitle:null,useNewIcon:false,icon:null,id:\"4dc95a8f-b034-4fec-a45e-274a24ec434d\",title:\"íê²½\",url:\"/news/environment\",enabled:true,moUrl:null}],url:\"/news/climate\",enabled:true,moUrl:null},{moTitle:null,useNewIcon:false,icon:null,id:\"8d478d97-6e65-479d-987d-f1382ec29a73\",title:\"ì¬í\",items:[{moTitle:null,useNewIcon:false,icon:null,id:\"465d184d-c0eb-4a8a-bc5b-b8a25aa5c4db\",title:\"ì¸êµ¬\",url:\"/news/population\",enabled:true,moUrl:null},{moTitle:null,useNewIcon:false,icon:null,id:\"e236222c-4333-4faa-a7bb-14861ee2ed48\",title:\"ì¸ê¶/ë³µì§\",url:\"/news/welfare\",enabled:true,moUrl:null},{moTitle:null,useNewIcon:false,icon:null,id:\"e06d61a4-4c96-47a2-9856-34f1e5c747e4\",title:\"ë\n",
       "¸ë\",url:\"/news/labor\",enabled:true,moUrl:null},{moTitle:null,useNewIcon:false,icon:null,id:\"e268531e-b22c-4d87-b1f7-5603c4cc433f\",title:\"êµì¡\",url:\"/news/education\",enabled:true,moUrl:null},{moTitle:null,useNewIcon:false,icon:null,id:\"a36bf6ee-22cb-45b4-9e92-b46561c40ced\",title:\"ë¯¸ëì´\",url:\"/news/media\",enabled:true,moUrl:null},{moTitle:null,useNewIcon:false,icon:null,id:\"044b06d3-1a3a-4ac2-a3c8-461da883cbe0\",title:\"ì±íë±\",url:\"/news/gender\",enabled:true,moUrl:null},{moTitle:null,useNewIcon:false,icon:null,id:\"4265d808-e2d5-4c6c-9d8c-d7eea4a3d303\",title:\"ìë£/ë³´ê±´\",url:\"/news/medical\",enabled:true,moUrl:null},{moTitle:null,useNewIcon:false,icon:null,id:\"c4086dab-7980-4805-b7ed-68b09df60f1f\",title:\"ì êµ­\",url:\"/news/nation\",enabled:true,moUrl:null},{moTitle:null,useNewIcon:false,icon:null,id:\"c590b6e2-b3e4-411b-9cbf-3492bf84c2e7\",title:\"ì¬ëìì \",url:\"/news/safety\",enabled:true,moUrl:null},{moTitle:null,useNewIcon:false,icon:null,id:\"8174f46c-51b1-4499-8608-5b4bbbb5ed23\",title:\"ìì¬\",url:\"/news/issue\",enabled:true,moUrl:null},{moTitle:null,useNewIcon:false,icon:null,id:\"503f8e28-43f4-463f-b953-f9ff4a26914a\",title:\"ì¬ë²\",url:\"/news/law\",enabled:true,moUrl:null},{moTitle:null,useNewIcon:false,icon:null,id:\"0998eec8-4ed7-497e-b66c-d639097bb96f\",title:\"ì¬ê±´/ì¬ê³ \",url:\"/news/affair\",enabled:true,moUrl:null},{moTitle:null,useNewIcon:false,icon:null,id:\"c1346abd-bac4-45ee-b2e8-63cff95eb0a6\",title:\"ì¬ë¡ ì¡°ì¬\",url:\"/news/poll\",enabled:true,moUrl:null}],url:\"/news/society\",enabled:true,moUrl:null},{moTitle:null,useNewIcon:false,icon:null,id:\"a4b07293-bd3b-408d-9eeb-6ac44964d64f\",title:\"ê²½ì \",items:[{moTitle:null,useNewIcon:false,icon:null,id:\"69f84ee0-e162-4f88-a05c-6bf2e9250e0a\",title:\"ê²½ì ì ì±\n",
       "\",url:\"/news/policy\",enabled:true,moUrl:null},{moTitle:null,useNewIcon:false,icon:null,id:\"8067a333-42d3-417a-a7b1-a23ab8bc74e8\",title:\"ì°ì\n",
       "\",url:\"/news/industry\",enabled:true,moUrl:null},{moTitle:null,useNewIcon:false,icon:null,id:\"7f51342c-17d5-45bf-a1ea-52efec78f1b3\",title:\"ì£¼ì\",url:\"/news/stock\",enabled:true,moUrl:null},{moTitle:null,useNewIcon:false,icon:null,id:\"aa422844-1255-4d1e-ac25-04070a475bed\",title:\"ê¸ìµ\",url:\"/news/finance\",enabled:true,moUrl:null},{moTitle:null,useNewIcon:false,icon:null,id:\"653e60bd-2f71-49ad-ad96-c1991bcdeedc\",title:\"ë¶ëì°\",url:\"/news/estate\",enabled:false,moUrl:null},{moTitle:null,useNewIcon:false,icon:null,id:\"5b3a122e-fc9d-4837-be7d-8ccc761244a7\",title:\"ê°ììì°\",url:\"/news/coin\",enabled:true,moUrl:null},{moTitle:null,useNewIcon:false,icon:null,id:\"db51076f-f87c-4b98-9cbe-804084cdb149\",title:\"ì°ê¸/ë\n",
       "¸í\",url:\"/news/pension\",enabled:true,moUrl:null},{moTitle:null,useNewIcon:false,icon:null,id:\"be999c3c-4c38-472f-9d60-9ee55a61a663\",title:\"ì·¨ì\n",
       "/ê³ ì©\",url:\"/news/employ\",enabled:true,moUrl:null},{moTitle:null,useNewIcon:false,icon:null,id:\"150c4c28-37fe-4184-809a-f76a2822bac1\",title:\"ìë¹ì\",url:\"/news/consumer\",enabled:true,moUrl:null},{moTitle:null,useNewIcon:false,icon:null,id:\"78528b3c-6427-43ab-a8e5-f7c96a3cd08c\",title:\"ë²¤ì²/ì¤íí¸ì\n",
       "\",url:\"/news/startup\",enabled:true,moUrl:null},{moTitle:null,useNewIcon:false,icon:null,id:\"647384a5-2f45-4017-9601-c7e3eab84d58\",title:\"êµ­ì ê²½ì \",url:\"/news/worldeconomy\",enabled:true,moUrl:null},{moTitle:null,useNewIcon:false,icon:null,id:\"14021b29-5bff-4109-8a3d-a706460929cf\",title:\"ìëì°¨\",url:\"/news/autos\",enabled:true,moUrl:null}],url:\"/news/economy\",enabled:true,moUrl:null},{moTitle:null,useNewIcon:false,icon:null,id:\"bade784b-e384-4496-975f-291616fb50bf\",title:\"ì ì¹\",items:[{moTitle:null,useNewIcon:false,icon:null,id:\"5058da72-2179-4058-a826-753362afd9b3\",title:\"ëíµë ¹ì¤\",url:\"/news/president\",enabled:true,moUrl:null},{moTitle:null,useNewIcon:false,icon:null,id:\"8e391092-a7e3-4d5c-a002-52d19d9d5668\",title:\"ì¸êµ/êµ­ë°©\",url:\"/news/dipdefen\",enabled:true,moUrl:null},{moTitle:null,useNewIcon:false,icon:null,id:\"00f115e8-2dd2-45c6-a86f-721d97b6d179\",title:\"êµ­í/ì ë¹\",url:\"/news/assembly\",enabled:true,moUrl:null},{moTitle:null,useNewIcon:false,icon:null,id:\"7888aeeb-1367-408e-9b2f-521b29c3c0d9\",title:\"íì /ì§ìì²´\",url:\"/news/administration\",enabled:true,moUrl:null},{moTitle:null,useNewIcon:false,icon:null,id:\"17b0802a-c04e-4938-ab96-5092334125ee\",title:\"ë¶í\",url:\"/news/north\",enabled:true,moUrl:null}],url:\"/news/politics\",enabled:true,moUrl:null},{moTitle:null,useNewIcon:false,icon:null,id:\"73688174-9f8b-4b82-ad91-afe1e0fedd08\",title:\"êµ­ì \",items:[{moTitle:null,useNewIcon:false,icon:null,id:\"801a0ecf-2990-4487-a7f0-7ae5e7b4b23e\",title:\"êµ­ì ì ì¸\",url:\"/news/global\",enabled:true,moUrl:null},{moTitle:null,useNewIcon:false,icon:null,id:\"21621792-8c1f-4b55-b26f-5b2a08767fa4\",title:\"ë¶ë¯¸\",url:\"/news/northamerica\",enabled:true,moUrl:null},{moTitle:null,useNewIcon:false,icon:null,id:\"cc1bff2b-9390-4d44-8425-df1decd47df7\",title:\"ì¤êµ­\",url:\"/news/china\",enabled:true,moUrl:null},{moTitle:null,useNewIcon:false,icon:null,id:\"0bea0d4a-2622-4b6a-a3af-ae7c1083ac35\",title:\"ì¼ë³¸\",url:\"/news/japan\",enabled:true,moUrl:null},{moTitle:null,useNewIcon:false,icon:null,id:\"b6d8c315-78b6-4815-8014-9ab8edd90a64\",title:\"ììì/ì¤ì¸ìëì\",url:\"/news/asia\",enabled:true,moUrl:null},{moTitle:null,useNewIcon:false,icon:null,id:\"1f52c052-b8ab-4b23-bf78-9c1adf3d934b\",title:\"ì¤ë/ìë\",url:\"/news/arab\",enabled:true,moUrl:null},{moTitle:null,useNewIcon:false,icon:null,id:\"ecd12f47-5378-47f1-87f1-b98761749d36\",title:\"ì ë½\",url:\"/news/europe\",enabled:true,moUrl:null},{moTitle:null,useNewIcon:false,icon:null,id:\"80dfe584-412b-4fac-9279-28ed6636c4c5\",title:\"ì¤ë¨ë¯¸\",url:\"/news/southamerica\",enabled:true,moUrl:null},{moTitle:null,useNewIcon:false,icon:null,id:\"341a1556-bd24-4c55-b90a-28dcbf67b650\",title:\"ìíë¦¬ì¹´\",url:\"/news/africa\",enabled:true,moUrl:null},{moTitle:null,useNewIcon:false,icon:null,id:\"750d0b81-4ee7-4c38-888b-85725ae9a70f\",title:\"í´ì¸íì \",url:\"/news/topic\",enabled:true,moUrl:null}],url:\"/news/world\",enabled:true,moUrl:null},{moTitle:null,useNewIcon:false,icon:null,id:\"7776c859-ec21-445c-a438-36c28bb0728b\",title:\"ë¬¸í\",items:[{moTitle:null,useNewIcon:false,icon:null,id:\"4b5057c0-2605-4633-bdea-ec882722ba78\",title:\"ì±\n",
       "\",url:\"/news/book\",enabled:true,moUrl:null},{moTitle:null,useNewIcon:false,icon:null,id:\"19f86000-3bbc-4a64-8a93-cd5bf6a67062\",title:\"ìí\",url:\"/news/movie\",enabled:true,moUrl:null},{moTitle:null,useNewIcon:false,icon:null,id:\"4b45aa85-6683-4ec7-b067-0d18ff7d3ef5\",title:\"ì½í\n",
       "ì¸ \",url:\"/news/content\",enabled:true,moUrl:null},{moTitle:null,useNewIcon:false,icon:null,id:\"79a8ad42-ca00-4eb8-83aa-d3deb6e3d903\",title:\"ìì\n",
       "\",url:\"/news/music\",enabled:true,moUrl:null},{moTitle:null,useNewIcon:false,icon:null,id:\"69b00493-52d8-40eb-8449-f1e38461c3dc\",title:\"ê³µì°\",url:\"/news/stage\",enabled:true,moUrl:null},{moTitle:null,useNewIcon:false,icon:null,id:\"87ee93d1-dff6-45fb-a62f-2c0905e107f9\",title:\"ë¯¸ì \",url:\"/news/art\",enabled:true,moUrl:null},{moTitle:null,useNewIcon:false,icon:null,id:\"2556c236-97aa-4fca-bc7e-567fea8a368c\",title:\"ë¬¸íì¬\",url:\"/news/culturalassets\",enabled:true,moUrl:null}],url:\"/news/culture\",enabled:true,moUrl:null},{moTitle:null,useNewIcon:false,icon:null,id:\"1d195c9e-17a6-4514-8b54-e5d49cf5d58d\",title:\"ìí\",items:[{moTitle:null,useNewIcon:false,icon:null,id:\"bbfb7d22-ccde-47b4-9ab5-2ad5ace2dc99\",title:\"ëë¬¼\",url:\"/news/animal\",enabled:true,moUrl:null},{moTitle:null,useNewIcon:false,icon:null,id:\"268beb61-8edb-479a-aae2-a29b49f01233\",title:\"ìì\",url:\"/news/food\",enabled:true,moUrl:null},{moTitle:null,useNewIcon:false,icon:null,id:\"2e09edb8-863e-499c-b9f5-b14751d9b6b8\",title:\"ê±´ê°\",url:\"/news/health\",enabled:true,moUrl:null},{moTitle:null,useNewIcon:false,icon:null,id:\"dc4c282c-c924-4968-b780-38c6ce26f1f2\",title:\"ì¬í\",url:\"/news/tour\",enabled:true,moUrl:null},{moTitle:null,useNewIcon:false,icon:null,id:\"4c0c683d-a780-4c4b-8d9e-fbdff3123843\",title:\"ì¡ì\",url:\"/news/childcare\",enabled:true,moUrl:null},{moTitle:null,useNewIcon:false,icon:null,id:\"2a58b5f7-ac90-4f9b-a431-24e1ace9f855\",title:\"ì·¨ë¯¸\",url:\"/news/hobby\",enabled:true,moUrl:null},{moTitle:null,useNewIcon:false,icon:null,id:\"def84e41-7694-4d0a-9629-d71f0fa4b12d\",title:\"ì¤íì¼\",url:\"/news/style\",enabled:true,moUrl:null},{moTitle:null,useNewIcon:false,icon:null,id:\"64c742da-87ef-4218-af75-2580990cf9e8\",title:\"ì¢\n",
       "êµ/íì \",url:\"/news/religion\",enabled:true,moUrl:null},{moTitle:null,useNewIcon:false,icon:null,id:\"6618fc36-8d9c-422e-9929-c49dec0c000f\",title:\"ë ì¨\",url:\"/news/weather\",enabled:true,moUrl:null}],url:\"/news/life\",enabled:true,moUrl:null},{moTitle:null,useNewIcon:false,icon:null,id:\"b8107c35-dfd2-428b-adee-484784c0e175\",title:\"IT/ê³¼í\",items:[{moTitle:null,useNewIcon:false,icon:null,id:\"fb3e6a24-d5e1-4ee0-a974-a83179bb2a2c\",title:\"AI\",url:\"/news/ai-tech\",enabled:true,moUrl:null},{moTitle:null,useNewIcon:false,icon:null,id:\"d1c077a2-cb51-4472-814c-383c0210b015\",title:\"í\n",
       "í¬\",url:\"/news/technology\",enabled:true,moUrl:null},{moTitle:null,useNewIcon:false,icon:null,id:\"17e25498-9caa-4d23-a91a-34f19ca85a2b\",title:\"ITê¸°ì\n",
       "\",url:\"/news/it-tech\",enabled:true,moUrl:null},{moTitle:null,useNewIcon:false,icon:null,id:\"a06aa57d-678a-4802-a9da-5dc0b78fcf79\",title:\"ê²ì\",url:\"/news/games\",enabled:true,moUrl:null},{moTitle:null,useNewIcon:false,icon:null,id:\"9262a2cd-36e0-4513-b09e-4ef4bd8f697f\",title:\"ê³¼í\",url:\"/news/science\",enabled:true,moUrl:null},{moTitle:null,useNewIcon:false,icon:null,id:\"5feb0f9f-84a7-4b83-8aa1-e8c06ed9dd59\",title:\"ì°ì£¼\",url:\"/news/universe\",enabled:true,moUrl:null}],url:\"/news/tech\",enabled:true,moUrl:null},{moTitle:null,useNewIcon:false,icon:null,id:\"bfd18842-b60d-4511-b4fd-d78b5e99f27c\",title:\"ì¸ë¬¼\",items:[{moTitle:null,useNewIcon:false,icon:null,id:\"8e1d7816-3564-4a75-8f27-b2bd65bb1433\",title:\"ì¬ë\",url:\"/news/human\",enabled:true,moUrl:null},{moTitle:null,useNewIcon:false,icon:null,id:\"06270c5d-f255-488e-8277-7d86e94b2ab9\",title:\"ì¤ë¹ì¶ì´ë¦¬\",url:\"/news/obituary\",enabled:true,moUrl:null},{moTitle:null,useNewIcon:false,icon:null,id:\"fa7eead1-e632-4a1f-af0b-9197dd352ae8\",title:\"ë§ìì¸ë¦¼\",url:\"/news/movingstory\",enabled:true,moUrl:null}],url:\"/news/people\",enabled:true,moUrl:null},{moTitle:null,useNewIcon:false,icon:null,id:\"0ef667bc-e909-4e77-92d9-4d09a2738c5d\",title:\"ì§ì/ì¹¼ë¼\",items:[{moTitle:null,useNewIcon:false,icon:null,id:\"7061ec25-92d9-4f45-bb6c-466798309732\",title:\"ì§ìêµì\",url:\"/news/knowledge\",enabled:true,moUrl:null},{moTitle:null,useNewIcon:false,icon:null,id:\"71c580bc-8a88-4ff8-8f85-4142abd38a15\",title:\"ìì¸ì´\",url:\"/news/essay\",enabled:true,moUrl:null},{moTitle:null,useNewIcon:false,icon:null,id:\"6082aa43-029f-4921-bd8e-70c61180648c\",title:\"ìê²¬ì¹¼ë¼\",url:\"/news/column\",enabled:true,moUrl:null},{moTitle:null,useNewIcon:false,icon:null,id:\"05d34ac7-0af7-40c7-8a77-635c76ee8098\",title:\"ì¬ì¤\",url:\"/news/editorial\",enabled:true,moUrl:null},{moTitle:null,useNewIcon:false,icon:null,id:\"3ac65e82-6655-4803-8d90-156198a0307d\",title:\"ë§í\",url:\"/news/cartoon\",enabled:true,moUrl:null},{moTitle:null,useNewIcon:false,icon:null,id:\"9cb71e96-aa92-4a01-a6e3-31445b818dd3\",title:\"í©í¸ì²´í¬\",url:\"/news/factcheck\",enabled:true,moUrl:null},{moTitle:null,useNewIcon:false,icon:null,id:\"628cb7fd-caf7-4d02-9c4f-2004ad6ad398\",title:\"í¬í \",url:\"/news/photo\",enabled:true,moUrl:null}],url:\"/news/understanding\",enabled:true,moUrl:null},{moTitle:null,useNewIcon:false,icon:null,id:\"bd356aba-5520-45cb-ae2f-8ab442f9a725\",title:\"ì°ì¬\",items:[],url:\"/news/series\",enabled:true,moUrl:null},{moTitle:null,useNewIcon:true,icon:null,id:\"1635cf9f-cf2b-4f80-bfa4-bd066cee8d54\",title:\"ë°°ì´ì¤ëª\n",
       "ì\",items:[],url:\"https://focus.daum.net/daum/m/algorithm\",enabled:true,moUrl:null}]}}},\"news-side\":{layoutMap:[{enabled:true,componentKey:\"NewsBasic\",valueId:\"76ae60b0-fd97-48ac-af85-983fa6465da7\",type:\"data\"},{enabled:true,componentKey:\"NewsBlock\",valueId:\"60a0284d-a870-43e0-85f8-3e25fb1085e6\",type:\"data\"},{enabled:true,componentKey:\"OutlinkBasic\",valueId:\"4c8815d4-358f-47ec-84a7-41e50e86bec1\",type:\"data\"}],valueMap:{\"76ae60b0-fd97-48ac-af85-983fa6465da7\":{hideImage:false,clusterDisplayType:\"scrollable\",pagingButton:{buttonText:\"ë´ì¤\",buttonOutlink:null,buttonType:\"refresh\"},outlink:null,tooltip:null,pageSize:5,logoType:\"text\",title:\"ì´ ìê° ì£¼ìë´ì¤\",newsClusters:[{isDefault:false,data:{code:200,message:null,document:{data:{id:5908625,title:\"[ì¢\n",
       "í©ì] ì¿¼í°\",contents:[{id:\"hamny-20241122140352660\",type:\"TEXT\",title:\"ë¬ìì ë°ì¬ IRBM ì¤ë ëìí¬, ì ìíì ì¸ê°?\",summary:\"[ìì¸=ë´ìì¤] êµ¬ìë£¡ ê¸°ì = ë¬ììê° 21ì¼ ì°í¬ë¼ì´ëë¡ ë°ì¬í ì í ì¤ê±°ë¦¬ íëë¯¸ì¬ì¼ âì¤ë ëìí¤(ê°ì)âë âë¤íë ë\n",
       "ë¦½ íì  ì¬ì§ì\n",
       "ì²´(MIRV)âë¡ 1000ì¼ì ëê¸´ ì°í¬ë¼ì´ë ì ìì êµ­ë©´ ì íì ê¹ì§ ìí¥ì ì¤ì§ ê´ì¬ì´ë¤. ì´ ë¯¸ì¬ì¼ì ê°ê° í¹ì  ìì¹ë¥¼ íì ì¼ë¡ ì¼ì ì ìë ì¼ë ¨ì íëë¥¼ íì¬íì¬ í ë°ì ë¯¸ì¬ì¼ ë°ì¬ë¡ ì¬ë¬ ê°ì ëª©íë¥¼\",pcUrl:\"https://v.daum.net/v/20241122140352660\",moUrl:\"https://v.daum.net/v/20241122140352660\",image:\"https://t1.daumcdn.net/news/202411/22/newsis/20241122140353069hzpx.jpg\",cpName:\"ë´ìì¤\",cpImage:\"https://t1.daumcdn.net/media/news/news2016/cp/cp_newsis.gif\",cpDarkImage:\"https://t1.daumcdn.net/media/news/2020/cp/cp_newsis_dm.png\",createdAt:\"2024-11-22T14:03:52+09:00\",mediaPickDuplicateCount:0,clipLinkId:null,serviceName:\"ë´ì¤\"},{id:\"hamny-20241122134254061\",type:\"TEXT\",title:\"'ì ì¤ì°ì¸µ ìë' ìê³ í å°¹ \\\"ê²½ì íë ¥ ë°ëì ëì´ë¦°ë¤\\\"\",summary:\"ì¤ìì´ ëíµë ¹ì´ 22ì¼ ìì¸ ì¤êµ¬ ì ë¼í¸í\n",
       "ìì ì´ë¦° ì 56í êµ­ê°ì¡°ì°¬ê¸°ëíì ì°¸ìí´ ì¸ì¬ë§ì íê³  ìë¤./ì¬ì§=ë´ìì¤íì [íì´ë¸ì\n",
       "ë´ì¤] ì¤ìì´ ëíµë ¹ì´ 22ì¼ ìê¸° íë°ê¸° ìê·¹í íê°ë¡ ë¯¼ìì ì´ë ¤ 'ìë¡ì´ ì¤ì°ì¸µ ìë'ë¥¼ ì´ê² ë¤ë ë¹ì ì ì ìíë¤. ìê¸° ì ë°ê¸° ê±´ì ì¬ì  ê¸°ì¡°ë¡ ë¬¼ê° ìì íì ìì¶ íì±í ë± ìí¸í ê²½ì  ì¬ê±´ì êµ¬ì¶í\",pcUrl:\"https://v.daum.net/v/20241122134254061\",moUrl:\"https://v.daum.net/v/20241122134254061\",image:\"https://t1.daumcdn.net/news/202411/22/fnnewsi/20241122134255093dsrt.jpg\",cpName:\"íì´ë¸ì\n",
       "ë´ì¤\",cpImage:\"https://t1.daumcdn.net/media/news/news2016/cp/finan.png\",cpDarkImage:\"https://t1.daumcdn.net/media/news/2020/cp/finan_dark.png\",createdAt:\"2024-11-22T13:42:54+09:00\",mediaPickDuplicateCount:0,clipLinkId:null,serviceName:\"ë´ì¤\"},{id:\"hamny-20241122132700699\",type:\"TEXT\",title:\"ì°ë¦¬ìíì¥ êµì²´ ììâ¦ì°¨ê¸° íì¥ íë³´ ë´ì£¼ê» ì¤ê³½\",summary:\"ìíì¹ ì  ì°ë¦¬ê¸ìµì§ì£¼ íì¥ ì¹ì¸ì² ë¶ë¹ëì¶ ì¬ê±´ ë±ì ì¬íë¡ ì¡°ë³ê· ì°ë¦¬ìíì¥ì´ êµì²´ë  ì ë§ì´ë¤. 22ì¼ ê¸ìµê¶ì ë°ë¥´ë©´ ì°ë¦¬ê¸ìµì§ì£¼ ì´ì¬ë¤ì ì´ë  ì¤í ìì¸ ì¤êµ¬ ì°ë¦¬ê¸ìµ ë³¸ì¬ìì ì ë¡ ì´ì¬íë¥¼ ì´ê³  ì¡° íì¥ì ì°ìì´ ë¶ê°íë¤ë ë° ê³µê°ëë¥¼ íì±í ê²ì¼ë¡ ì í´ì¡ë¤. ì¡° íì¥ì ì´ìë ì  íì¥ ì¬ì ì´íì¸ ì§ëí´ 7ìë¶í° ì°ë¦¬ìíì ì´ëì´ ìì¼ë ì´ë² ë¶\",pcUrl:\"https://v.daum.net/v/20241122132700699\",moUrl:\"https://v.daum.net/v/20241122132700699\",image:\"https://t1.daumcdn.net/news/202411/22/akn/20241122132702468bdgz.jpg\",cpName:\"ìììê²½ì \",cpImage:\"https://t1.daumcdn.net/media/news/news2016/cp/cp_akn.gif\",cpDarkImage:\"https://t1.daumcdn.net/media/news/2020/cp/cp_akn_dm.png\",createdAt:\"2024-11-22T13:27:00+09:00\",mediaPickDuplicateCount:0,clipLinkId:null,serviceName:\"ë´ì¤\"},{id:\"hamny-20241122125917124\",type:\"TEXT\",title:\"ë¬, ë¯¸ ë¯¸ì¬ì¼ ì¬ê±°ë¦¬ ì°ì¥ì ë¯¸ì¬ì¼ë¡ ëìâ¦í¸í´ \\\"ëê°ì ë°©ì ëìí  ê²\\\"\",summary:\"ë¯¸êµ­ì´ ì°í¬ë¼ì´ëì ì ê³µí ìì´íí¼ì¤(ATACMS) ë¯¸ì¬ì¼ì ë¬ìì ë³¸í ì ì¬ì©í  ì ìëë¡ ì¹ì¸íë©´ì ë¬ììì ì°í¬ë¼ì´ë ê° ê¸´ì¥ì´ ê³ ì¡°ëë ê°ì´ë°, ë¸ë¼ëë¯¸ë¥´ í¸í´ ë¬ìì ëíµë ¹ì ì´ì ëí­í´ ì¤ê±°ë¦¬ íë ë¯¸ì¬ì¼(IRBM)ì ìí ë°ì¬íë¤ë©´ì ê³µê²©ì´ íëëë¤ë©´ ê·¸ì ë°ë¼ ë¨í¸íê² ëìí  ê²ì´ë¼ê³  ë°íë¤. 21ì¼(ì´í íì§ìê°) í¸í´ ëíµë ¹ì ëêµ­ë¯¼ ì±ëª\n",
       "\",pcUrl:\"https://v.daum.net/v/20241122125917124\",moUrl:\"https://v.daum.net/v/20241122125917124\",image:\"https://t1.daumcdn.net/news/202411/22/pressian/20241122125919677rqra.jpg\",cpName:\"íë ìì\",cpImage:\"https://t1.daumcdn.net/media/news/news2016/cp/cp_pressian.gif\",cpDarkImage:\"https://t1.daumcdn.net/media/news/2020/cp/cp_pressian_dm.png\",createdAt:\"2024-11-22T12:59:17+09:00\",mediaPickDuplicateCount:0,clipLinkId:null,serviceName:\"ë´ì¤\"},{id:\"hamny-20241122121153358\",type:\"VIDEO\",title:\"ì¤ ëíµë ¹ âìê·¹í íê°ë¡ ì¤ì°ì¸µ ìë ì´ ê²ââ¦ì¬ì  ì­í  ê²í \",summary:\"[ìµì»¤] ì¤ìì´ ëíµë ¹ì´ ìë°© í ì²« ê³µì ì¼ì ìì íë°ê¸° íµì¬ ê³¼ì ì¸ ìê·¹í ë¬¸ì  í´ê²°ì  ë¤ì í ë² ê°ì¡°íìµëë¤. ëíµë ¹ì¤ì ì´ë¥¼ ìí´ í¥í ì¬ì ì ì­í ì  ê°íí  ì ìë¤ë ë»ë ë´ë¹ì³¤ëë° ë¤ë§ ì¶ê²½ í¸ì±ì ëí´ìë ìê¸°ê° ì í´ì§ ë° ìë¤ê³  ë°íìµëë¤. ì ìë°° ê¸°ìì ë³´ëì\n",
       "ëë¤. [ë¦¬í¬í¸] APEC, G20 ì ìíììì  ëìì¨ í ì²« ê³µì ì¼ì ì\",pcUrl:\"https://v.daum.net/v/20241122121153358\",moUrl:\"https://v.daum.net/v/20241122121153358\",image:\"https://t1.daumcdn.net/news/202411/22/kbs/20241122121156522pcsw.jpg\",cpName:\"KBS\",cpImage:\"https://t1.daumcdn.net/media/news/news2016/cp/cp_kbs.gif\",cpDarkImage:\"https://t1.daumcdn.net/media/news/2020/cp/cp_kbs_dm.png\",createdAt:\"2024-11-22T12:11:53+09:00\",mediaPickDuplicateCount:0,clipLinkId:\"451122005\",serviceName:\"ë´ì¤\"},{id:\"hamny-20241122120743291\",type:\"TEXT\",title:\"ì¬ì¼, âê¹ìì¼ ì ì â ëê³  ë¯¸ë¬í ì ê²½ì â¦âê³ì¹ì ë¹ vs ë¯¼ì£¼ì£¼ì íë³´â\",summary:\"ì¬ì¼ê° ê¹ìì¼ ì  ëíµë ¹ì ì\n",
       "ì ì ëê³  í ì ì¹ ìí©ì ë¹ì í´ ë¯¸ë¬í ì ê²½ì ì ë²ìë¤. êµ­ë¯¼ìíì ê¹ ì  ëíµë ¹ì ê³ì¹í ì ë¹ì´ë¼ê³  ê°ì¡°íê³ , ëë¶ì´ë¯¼ì£¼ë¹ì êµ°ì¬ì ê¶ì ëí­í ê¹ ì  ëíµë ¹ì íë³´ë¥¼ ì¡°ëª\n",
       "íë¤. íëí êµ­ë¯¼ìí ëíë 22ì¼ ìì¸ êµ­ë¦½íì¶©ììì ì´ë¦° âê¹ìì¼ ì  ëíµë ¹ ìê±° 9ì£¼ê¸° ì¶ëª¨ìâìì êµ­ë¯¼ìíì´ ê¹ ì  ëíµë ¹ì ê³ì¹í ì ë¹ì´ë¼ê³ \",pcUrl:\"https://v.daum.net/v/20241122120743291\",moUrl:\"https://v.daum.net/v/20241122120743291\",image:\"https://t1.daumcdn.net/news/202411/22/kukinews/20241122120745449ozpf.jpg\",cpName:\"ì¿ í¤ë´ì¤\",cpImage:\"https://t1.daumcdn.net/media/news/news2016/cp/cp_kuki1.gif\",cpDarkImage:\"https://t1.daumcdn.net/media/news/2020/cp/cp_kuki_dm.png\",createdAt:\"2024-11-22T12:07:43+09:00\",mediaPickDuplicateCount:0,clipLinkId:null,serviceName:\"ë´ì¤\"},{id:\"hamny-20241122120344233\",type:\"TEXT\",title:\"10ì¡° ì¨ë ì§ì§ë¶ì§, ëµëµí ì¼ì  ê°ë¯¸ë¤â¦\\\"ê³¼ê±°ì ìí© ë¬ë¼\\\" ì?\",summary:\"ì¼ì±ì ì ì£¼ê°ê° ë³´í©ì¸ë¤. ê°ë°¤ ë¯¸êµ­ ì¦ììì ìë¹ëìê° ìì¹ ë§ê°íë©° SKíì´ëì¤, íë¯¸ë°ëì²´ê° ì¤ë¥´ë ê²ê³¼ë ëì¡°ì ì´ë¤. íë 4ë§ìëë¡ ë¨ì´ì¡ë ì£¼ê°ë ëê·ëª¨ ìì¬ì£¼ ë§¤ì\n",
       " ììì 5ë§ìë ì¤ë°ì¼ë¡ ëììì§ë§, ìì§ ë§¤ìì ëìê¸°ì ì´ë¥´ë¤ë íê°ê° ëì¨ë¤. 22ì¼ ì¤ì  11ì42ë¶ ê¸°ì¤ì¼ë¡ ì¼ì±ì ìë ì ì¼ ì¢\n",
       "ê°ì ê°ì 5ë§6400ìì ê±°ë ì¤ì´ë¤. ì´\",pcUrl:\"https://v.daum.net/v/20241122120344233\",moUrl:\"https://v.daum.net/v/20241122120344233\",image:\"https://t1.daumcdn.net/news/202411/22/moneytoday/20241122121800987mitn.jpg\",cpName:\"ë¨¸ëí¬ë°ì´\",cpImage:\"https://t1.daumcdn.net/media/news/news2016/cp/cp_moneytoday.gif\",cpDarkImage:\"https://t1.daumcdn.net/media/news/2020/cp/cp_moneytoday_dm.png\",createdAt:\"2024-11-22T12:03:44+09:00\",mediaPickDuplicateCount:0,clipLinkId:null,serviceName:\"ë´ì¤\"},{id:\"hamny-20241122120303217\",type:\"TEXT\",title:\"ë©ì©¡í ê±´ë¬¼ íì´ì ê³µê³µìëì£¼í ê³µê¸? ì£¼ë¯¼ë¤ \\\"í©ë¹\\\"\",summary:\"[ì¬ê·ì ëì ì¶©ì²­ ê¸°ì, ì´ì¬í ê¸°ì] â² Â ì¶©ë¨ëì ë¶ì¬êµ°ì´ ë¶ì¬êµ° ìì°ë©´ì ì¶ì§ ì¤ì¸ ëì´í ë¦¬ë¸í¬ê²ë(ê³µê³µìëì£¼í ê³µê¸ì¬ì\n",
       ") ê³µì¬íì¥. ì¬ì\n",
       "ì ì¶ì§íë ê³¼ì ìì ì°ë¦½ì£¼í(15ì¸ë ë¨ì§)ì´ ìë ë¨ë\n",
       "ì£¼í 20í¸ë¥¼ ì§ë ê²ì¼ë¡ ê³íì ë³ê²½ëë©´ì ë©ì©¡í ì¤ë´ ê²ì´í¸ë³¼ì¥ê³¼ ë\n",
       "¸ì¸íê´ì ì² ê±°í´ ë\n",
       "¼ëì´ë¤. 19ì¼ íì¬ ì² ê±°ìì\n",
       "ì´ ì§íì¤ì´ë¤.â ì´ì¬íêµ´ì­ê¸°ê° êµìì\",pcUrl:\"https://v.daum.net/v/20241122120303217\",moUrl:\"https://v.daum.net/v/20241122120303217\",image:\"https://t1.daumcdn.net/news/202411/22/ohmynews/20241122120305082nhli.jpg\",cpName:\"ì¤ë§ì´ë´ì¤\",cpImage:\"https://t1.daumcdn.net/media/news/news2016/cp/cp_ohmynews.gif\",cpDarkImage:\"https://t1.daumcdn.net/media/news/2020/cp/cp_ohmynews_dm.png\",createdAt:\"2024-11-22T12:03:03+09:00\",mediaPickDuplicateCount:0,clipLinkId:null,serviceName:\"ë´ì¤\"},{id:\"hamny-20241122115914095\",type:\"TEXT\",title:\"'ìë°©ë¬´ê¸° vs ì íë¯¸ì¬ì¼'â¦'ê°ëê°' ìì ëì´ë ì°í¬ë¼ì , ì¤ëê¸°ë¡\",summary:\"(ìì¸=ì°í©ë´ì¤) ê³ ëì± ê¸°ì = ë¬ììê° 21ì¼(íì§ìê°) ì°í¬ë¼ì´ëë¥¼ í¥í´ ê·¹ì´ìì ì¤ê±°ë¦¬ íë ë¯¸ì¬ì¼ì ì²ì ë°ì¬íë©´ì ìêµ­ ê° ì ìì´ ì¤ë ê¸°ë¡ë¥¼ ë§ìë¤. ì°í¬ë¼ì´ëê° ë¨¼ì  ìë°© ë¯¸ì¬ì¼ì ì¬ì©í ê²ì ëí ëì ì¡°ì¹ë¡, ìì¸¡ ëª¨ë 1ì²ì¼ ëì ìì í´ ìë ì¥ê±°ë¦¬ ë¯¸ì¬ì¼ ì¬ì©ì 'ê¸ê¸°'ê° í´ì ëë¤. ëêµ¬ë ë¸ë¼ëë¯¸ë¥´ í¸í´ ëíµë ¹ì ì´ì ëí´ ì°í¬ë¼ì´ë\",pcUrl:\"https://v.daum.net/v/20241122115914095\",moUrl:\"https://v.daum.net/v/20241122115914095\",image:\"https://t1.daumcdn.net/news/202411/22/yonhap/20241122115914576zmih.jpg\",cpName:\"ì°í©ë´ì¤\",cpImage:\"https://t1.daumcdn.net/media/news/news2016/cp/cp_yonhap.gif\",cpDarkImage:\"https://t1.daumcdn.net/media/news/2020/cp/cp_yonhap_dm.png\",createdAt:\"2024-11-22T11:59:14+09:00\",mediaPickDuplicateCount:0,clipLinkId:null,serviceName:\"ë´ì¤\"},{id:\"hamny-20241122114334640\",type:\"TEXT\",title:\"ì¸ë¥´ë¹ì ëíµë ¹ \\\"ë¬ìì, ì¤ëì ICBM ìì§ë§ ë´ì¼ì 'ë¤ë¥¸ ê²'\\\"\",summary:\"[ìì¸=ë´ìì¤] ì´ëª\n",
       "ë ê¸°ì = ìë ì°ë¤ë¥´ ë¶ì¹ì¹ ì¸ë¥´ë¹ì ëíµë ¹ì ë¬ììì ì°í¬ë¼ì´ëê° ë¯¸ì¬ì¼ ê³µë°©ì ì´ì´ê°ë ê°ì´ë° \\\"ì¤ëì ëë¥ê°íëë¯¸ì¬ì¼(ICBM)ì´ê³  ë´ì¼ì ë¤ë¥¸ ê²ì´ë¤\\\"ë¼ê³  íµë¬´ê¸° ì¬ì© ê°ë¥ì±ì ìì¬íë¤. ì¸ë¥´ë¹ì íì§ ë§¤ì²´ ë² ì²´ë¥´ë¤ ë\n",
       "¸ë³´ì¤í°ì ë°ë¥´ë©´ ë¶ì¹ì¹ ëíµë ¹ì 21ì¼(íì§ìê°) \\\"ìë°©ì ì¤íê³íê³¼ ë¬´ê¸°ë¡ ìë¬´ë° ëì ìì´ ë¬ìì ìí \",pcUrl:\"https://v.daum.net/v/20241122114334640\",moUrl:\"https://v.daum.net/v/20241122114334640\",image:\"https://t1.daumcdn.net/news/202411/22/newsis/20241122114334321mglt.jpg\",cpName:\"ë´ìì¤\",cpImage:\"https://t1.daumcdn.net/media/news/news2016/cp/cp_newsis.gif\",cpDarkImage:\"https://t1.daumcdn.net/media/news/2020/cp/cp_newsis_dm.png\",createdAt:\"2024-11-22T11:43:34+09:00\",mediaPickDuplicateCount:0,clipLinkId:null,serviceName:\"ë´ì¤\"},{id:\"hamny-20241122105409686\",type:\"TEXT\",title:\"[ë¨ë\n",
       "]ì´ì¬ëª\n",
       " âë²ì¸ì¹´ëâ ì¬í, ë ì´íì ì ì£ ì¬íë¶ê° ë§¡ëë¤\",summary:\"ì´ì¬ëª\n",
       " ëë¶ì´ë¯¼ì£¼ë¹ ëíì 1ìµ ìë ê²½ê¸°ë ìì° ì ì© íì ì¬ê±´ì´, ëë¶ì¡ê¸ ì¬ê±´ì¼ë¡ ì´íì ì  ê²½ê¸°ë ííë¶ì§ì¬ìê² ì¤íì ì ê³ í ì¬íë¶ìì ì¬ë¦¬íê² ëìµëë¤. ììì§ë°©ë²ìì ì\n",
       "ë¬´ì ë°°ì íìë¡ ê¸°ìë ì´ ëí ì¬ê±´ì íì¬í©ì11ë¶(ë¶ì¥ ì ì§ì°)ì ë°°ë¹íìµëë¤. ììì§ë²ì â4ê° í©ìë¶ ì¤ ìë ë°°ë¹í ê²âì´ë¼ê³  ë°íìµëë¤. ì´ ì¬íë¶ë ì´ ì  ë¶\",pcUrl:\"https://v.daum.net/v/20241122105409686\",moUrl:\"https://v.daum.net/v/20241122105409686\",image:\"https://t1.daumcdn.net/news/202411/22/Channela/20241122105411555vicy.jpg\",cpName:\"ì±ëA\",cpImage:\"https://t1.daumcdn.net/media/news/news2016/cp/cp_channela.gif\",cpDarkImage:\"https://t1.daumcdn.net/media/news/2020/cp/cp_channela_dm.png\",createdAt:\"2024-11-22T10:54:09+09:00\",mediaPickDuplicateCount:0,clipLinkId:null,serviceName:\"ë´ì¤\"},{id:\"hamny-20241122105228626\",type:\"TEXT\",title:\"âìë\n",
       " ì\n",
       "ì í¹í ìí¹â ì¡°êµ­ ëí ë¤ìë¬ 12ì¼ ëë² ì ê³ â¦2ì¬ íì ì ììì§ ìì¤\",summary:\"ìë\n",
       " ì\n",
       "ì ë¹ë¦¬ì ì²­ìë ê°ì°° ë¬´ë§ íìë¡ 2ì¬ìì ì¤íì ì ê³ ë°ì ì¡°êµ­ ì¡°êµ­íì ë¹ ëíì ëí ëë²ì íë¨ì´ ë´ë¬ 12ì¼ ëìµëë¤.  ë§ì½ 2ì¬ íê²°ì´ íì ë  ê²½ì° ì¡° ëíë ììì§ì ìì¤íê³  êµëìì ìê°ë  ì ë§ì\n",
       "ëë¤. ëë²ì 3ë¶(ì£¼ì¬ ììí ëë²ê´)ë ë¤ì ë¬ 12ì¼ ì¤ì  11ì 45ë¶ ì¡° ëíì ëí ì ê³ ë¥¼ ì§íí©ëë¤. ìì ìì¸ê³ ë² íì¬13ë¶\",pcUrl:\"https://v.daum.net/v/20241122105228626\",moUrl:\"https://v.daum.net/v/20241122105228626\",image:\"https://t1.daumcdn.net/news/202411/22/kbs/20241122105326479gukj.jpg\",cpName:\"KBS\",cpImage:\"https://t1.daumcdn.net/media/news/news2016/cp/cp_kbs.gif\",cpDarkImage:\"https://t1.daumcdn.net/media/news/2020/cp/cp_kbs_dm.png\",createdAt:\"2024-11-22T10:52:28+09:00\",mediaPickDuplicateCount:0,clipLinkId:null,serviceName:\"ë´ì¤\"},{id:\"hamny-20241122104011097\",type:\"TEXT\",title:\"ì¤ ëíµë ¹ êµ­ì  ì§ì§ì¨ 20% ê¸°ë¡â¥ì¼ì£¼ì¼ ì ê³¼ ëì¼\",summary:\"ì¤ìì´ ëíµë ¹ì êµ­ì  ì§ì§ì¨ì´ ì§ëì£¼ ì¡°ì¬ì ëì¼í 20%ë¥¼ ê¸°ë¡í ê²ì¼ë¡ ëíë¬ìµëë¤. íêµ­ê°¤ë½ì´ ì§ë 19ì¼ë¶í° ì´ì ê¹ì§ ì êµ­ ë§ 18ì¸ ì´ì ì±ì¸ ë¨ë\n",
       " 1ì²1ëª\n",
       "ì ëìì¼ë¡ ì¡°ì¬í ê²°ê³¼, ì¤ ëíµë ¹ ì§ë¬´ìíì ëí ê¸ì  íê°ë ì¼ì£¼ì¼ ì  ì§ì  ì¡°ì¬ì ê°ì 20%, ë¶ì  íê°ë ì§ì  ì¡°ì¬ë³´ë¤ 1%p ì¤ë¥¸ 72%ë¡ ì§ê³ëìµëë¤. ê¸ì  íê° ì´ì ë¡ë 'ì¸êµ\",pcUrl:\"https://v.daum.net/v/20241122104011097\",moUrl:\"https://v.daum.net/v/20241122104011097\",image:\"https://t1.daumcdn.net/news/202411/22/imbc/20241122104011246qnll.jpg\",cpName:\"MBC\",cpImage:\"https://t1.daumcdn.net/media/news/news2016/cp/cp_imbc.gif\",cpDarkImage:\"https://t1.daumcdn.net/media/news/2020/cp/cp_imbc_dm.png\",createdAt:\"2024-11-22T10:40:11+09:00\",mediaPickDuplicateCount:0,clipLinkId:null,serviceName:\"ë´ì¤\"},{id:\"hamny-20241122101958150\",type:\"TEXT\",title:\"ì£¼ë ì£¼ë  íµíë?â¦í¸í´ì´ ì ì íë¯¸ì¬ì¼ 'í¤ì´ì¦ë' ì ì²´ë\",summary:\"(ìì¸=ì°í©ë´ì¤) ê³ ì¼í ê¸°ì = ë¬ììê° ì°í¬ë¼ì´ëë¥¼ í¥í´ ë°ì¬í ì í ë¯¸ì¬ì¼ì´ 1ì² ì¼ ëê² ì§ìëê³  ìë ì ìì ê¸´ì¥ê°ì íì¸µ ë ê³ ì¡°ìí¤ê³  ìë¤. ì°í¬ë¼ì´ëê° ì ì ë°ë° í ì²ìì¼ë¡ ì¥ê±°ë¦¬ ë¯¸ì¬ì¼ì¸ ë¯¸êµ­ì° ìì´íí¼ì¤(ATACMS) ë° ìêµ­ì° ì¤í°ìëë¡ êµ­ê²½ ëë¨¸ë¥¼ ê³µê²©íì, ë¬ììë ê³§ë°ë¡ íµíë ì¥ì°©ë ê°ë¥í ì í ë¬´ê¸°ë¡ ëìì ëì°ê¸° ëë¬¸ì´ë¤.\",pcUrl:\"https://v.daum.net/v/20241122101958150\",moUrl:\"https://v.daum.net/v/20241122101958150\",image:\"https://t1.daumcdn.net/news/202411/22/yonhap/20241122101958063cnjx.jpg\",cpName:\"ì°í©ë´ì¤\",cpImage:\"https://t1.daumcdn.net/media/news/news2016/cp/cp_yonhap.gif\",cpDarkImage:\"https://t1.daumcdn.net/media/news/2020/cp/cp_yonhap_dm.png\",createdAt:\"2024-11-22T10:19:58+09:00\",mediaPickDuplicateCount:0,clipLinkId:null,serviceName:\"ë´ì¤\"},{id:\"hamny-20241122101447920\",type:\"TEXT\",title:\"'ì¤í° ìë' ë¬ìì ë³¸í  íê²© ì¬ì© ì¹ì¸?â¦ìêµ­ ì´ë¦¬ \\\"ë\n",
       "¸ì½ë©í¸\\\"\",summary:\"[ìì¸=ë´ìì¤] ì´ëª\n",
       "ë ê¸°ì = í¤ì´ ì¤íë¨¸ ìêµ­ ì´ë¦¬ë ë¬ìì ë³¸í  ê³µê²©ì ìêµ­ì´ ì§ìí ì¤í° ìë(ì¤ì¹¼í) ì¥ê±°ë¦¬ ìí­ë¯¸ì¬ì¼ ì¬ì©í  ì ìëë¡ ì°í¬ë¼ì´ëì íì©íëì§ë¥¼ ëê³  êµ¬ì²´ì ì¸ ì¸ê¸ì í¼íë¤. í´ë¦¬í°ì½ì ë°ë¥´ë©´ ì¤íë¨¸ ì´ë¦¬ë 21ì¼(íì§ìê°) ìêµ­ ìë ë°ë ìíìì ì¤í° ìë ë¯¸ì¬ì¼ ì¬ì© ì í í´ì ë¥¼ ëê³  \\\"ìì¸í ë´ì©ì ì¬ê¸°ì ì¤ëª\n",
       "íì§ ì\",pcUrl:\"https://v.daum.net/v/20241122101447920\",moUrl:\"https://v.daum.net/v/20241122101447920\",image:\"https://t1.daumcdn.net/news/202411/22/newsis/20241122101447949gznt.jpg\",cpName:\"ë´ìì¤\",cpImage:\"https://t1.daumcdn.net/media/news/news2016/cp/cp_newsis.gif\",cpDarkImage:\"https://t1.daumcdn.net/media/news/2020/cp/cp_newsis_dm.png\",createdAt:\"2024-11-22T10:14:47+09:00\",mediaPickDuplicateCount:0,clipLinkId:null,serviceName:\"ë´ì¤\"}],hasNext:true}},validCode:\"GOOD\",updatedAt:\"2024-11-22T14:12:04.476608064+09:00\",lastFetchedAt:\"2024-11-22T14:33:38.067538947+09:00\"},title:\"[ì¢\n",
       "í©ì] ì¿¼í°\",newsbot:{buttonText:null,bubbleText:null,enabled:false}}],order:\"default\"},\"60a0284d-a870-43e0-85f8-3e25fb1085e6\":{clusterDisplayType:\"scrollable\",pagingButton:{buttonText:\"ë´ì¤\",buttonOutlink:null,buttonType:\"refresh\"},outlink:null,tooltip:\"ê¸°ìê° íì¥ì ë°ë¡ ë°ë©° ì·¨ì¬í´ ììí íì¥ì ë¶ìê¸°ë¥¼ ì ë¬íë ê¸°ì¬ì\n",
       "ëë¤.\",pageSize:4,title:\"'ë°ë¡ ë°ë¤' íì¥/ë¥´í¬\",newsClusters:[{isDefault:false,data:{code:200,message:null,document:{data:{id:5932246,title:\"[ì¹ì\n",
       "ì©] íì¥ë¥´í¬ ê¸°ì¬\",contents:[{id:\"hamny-20241122142618454\",type:\"TEXT\",title:\"[ë¥´í¬] âë í¸íë¦¬ 3ê°ììë ìí°ë¥ââ¦ ì¸ì¢\n",
       "ì ì êµ­ 1ì ìê° ê³µì¤ë¥ ì âìë¦â\",summary:\"ìê° ê³µì¤ì´ ë§ìì. ì¬ì ì´ ê´ì°®ë¤ë ê³³ë ê³µì¤ë¥ ì´ 25%ì ë¬í´ì. ìë ìê°ê° ì¤ë ë¹ì´ ìë¤ ë³´ë ë í¸íë¦¬(ë¬´ììë) 3ê°ìì ë´ê±´ ê³³ë ìì´ì. ì´ê²ë ìëì¸ê³¼ íìíë©´ ë ëë¦´ ì ìì£ . ê·¸ëë ìê°ì ë¤ì´ì¤ê² ë¤ë ì¬ëì ë§ì§ ììì.â ì§ë 21ì¼ ì¸ì¢\n",
       "í¹ë³ìì¹ì ì´ì§ëì í ì¼íëª°ìë âìë ë¬¸ìâë¼ë íìë§ì ë´ê±´ ìê°ê° ê³³ê³³ì ëì ëìë¤.\",pcUrl:\"https://v.daum.net/v/20241122142618454\",moUrl:\"https://v.daum.net/v/20241122142618454\",image:\"https://t1.daumcdn.net/news/202411/22/chosunbiz/20241122142623800azke.jpg\",cpName:\"ì¡°ì ë¹ì¦\",cpImage:\"https://t1.daumcdn.net/media/news/news2016/cp/cp_chosunbiz.gif\",cpDarkImage:\"https://t1.daumcdn.net/media/news/2020/cp/cp_chosunbiz_dm.png\",createdAt:\"2024-11-22T14:26:18+09:00\",mediaPickDuplicateCount:0,clipLinkId:null,serviceName:\"ë´ì¤\"},{id:\"hamny-20241122112338887\",type:\"TEXT\",title:\"âì¨ë¼ì¸ì íê²©, ìëë£ ì¸ë ê³µì¤ ìëë£©â\",summary:\"â ë¶ëì°360 â âê³¼ê±° ì ì¸ì ììê°ë ì»´í¨í° ê´ë ¨ ì\n",
       "ì²´ë§ ì ë¬¸ì ì¼ë¡ ëª¨ì¬ììë ê³³ì´ìì. ìµê·¼ìë ì£¼ë³ ìê°ë¤ìì ê²ìê¸°Â·í´ëí°Â·USBÂ·ì»¤í¼ì ë±ì´ ë¤ì´ì¤ë¤ ë³´ë ì»´í¨í° íë§¤íë ë¶ë¤ì´ ë§ì´ ì¤ì´ë¤ìì´ì. ê²½ê¸°ê° ì´ë µë¤ ë³´ë ê³ì½ê¸°ê°ì´ ëëê³  ìë¡ì´ ìì°¨ì¸ êµ¬íë ê² ì½ì§ ìì ë¶ìê¸°ì\n",
       "ëë¤.â (ì ì¸ì ììê° ììì\n",
       "ì Aì¨) ì§ë 18ì¼ ì¤í ì°¾ì ì\",pcUrl:\"https://v.daum.net/v/20241122112338887\",moUrl:\"https://v.daum.net/v/20241122112338887\",image:\"https://t1.daumcdn.net/news/202411/22/ned/20241122112339816lpxy.png\",cpName:\"í¤ë´ëê²½ì \",cpImage:\"https://t1.daumcdn.net/media/news/news2016/cp/cp_ned.gif\",cpDarkImage:\"https://t1.daumcdn.net/media/news/2020/cp/cp_ned_dm.png\",createdAt:\"2024-11-22T11:23:38+09:00\",mediaPickDuplicateCount:0,clipLinkId:null,serviceName:\"ë´ì¤\"},{id:\"hamny-20241122082904181\",type:\"VIDEO\",title:\"\\\"êµ­ë´ ê²½ì  ëª ë¹ ì ¸\\\" ì´ë¡ì  ì±ëª\n",
       "â¦'ë¹ìì í¸' ìë°ë¥´ëë°\",summary:\"[ìµì»¤] \\\"ì°ë¦¬ ê²½ì ê° í¤ì´ ëì¤ê¸° íë  ëªì ë¹ ì¡ë¤\\\" ì¼ì±, SK ë± ì£¼ì ê¸°ì\n",
       "ë¤ì´ ì´ë° ë´ì©ì ê¸´ê¸ ì±ëª\n",
       "ì ëìµëë¤. IMFë ì°ë¦¬ ê²½ì ê° ë´ë\n",
       "ì ë ì´ë ¤ì¸ ê±°ë¼ê³  ê²½ê³ íëë°, ì ë¶ì ëì±\n",
       "ì ë­ì§ ì ì ìë¤ë ë¹íì ëª©ìë¦¬ê° í½ëë¤. ì´ë° ê°ì´ë° ëê¸°ì\n",
       "ë¤ì ê°ë ëì êµ¬ì¡°ì¡°ì ì ëìê³  ììµëë¤. ì ìë ê¸°ìê° íì¥ ì·¨ì¬íìµëë¤. [ê¸°ì] íì¼ì¸ë°ë\",pcUrl:\"https://v.daum.net/v/20241122082904181\",moUrl:\"https://v.daum.net/v/20241122082904181\",image:\"https://t1.daumcdn.net/news/202411/22/JTBC/20241122082906689djfx.png\",cpName:\"JTBC\",cpImage:\"https://t1.daumcdn.net/media/news/news2016/cp/cp_JTBC.gif\",cpDarkImage:\"https://t1.daumcdn.net/media/news/2020/cp/cp_JTBC_dm.png\",createdAt:\"2024-11-22T08:29:04+09:00\",mediaPickDuplicateCount:0,clipLinkId:\"451122229\",serviceName:\"ë´ì¤\"},{id:\"hamny-20241122063130353\",type:\"TEXT\",title:\"ì¶ì°ë¶ë¨ê° í´ë¹ë¡ 'ì¬íì'â¦ ìê³µ ì ë ììì¶í ë°ì´ì¤ê°ì¤íìì¤ [íì¥,ê·¸ê³³&]\",summary:\"âììì¶íì 25ë\n",
       " ììì¬ì\n",
       "ì´ìë ì¶ì° ë¶ë¨ ë¬¸ì ê° í´ê²°ëìµëë¤.â 21ì¼ ì¤ì  9ì30ë¶ ë¤ì ì´ë¥¸ ìê°ì´ì§ë§ ìë°± ëª\n",
       "ì ì¬ëë¤ì íì±ì ìì ë©´ ì¬ê³³ë¦¬ ì¼ìì ëª¨ì¬ë¤ìë¤. ì´ê³³ì ììíì±ì¤ì°ì¶ì°ëíìì ì¡°ì±í âë°ì´ì¤ê°ì¤íìì¤âë¡, í¥í ì´ê³³ììë ì¶ì° ë¶ë¨ì ììë¬¼ë¥ íê¸°ë¬¼ ë±ì íì©í´ í´ë¹ì ì¡ë¹ ê·¸ë¦¬ê³  ì ë ¥ì ìì°íê² ëë¤. ì´ë  ëª¨\",pcUrl:\"https://v.daum.net/v/20241122063130353\",moUrl:\"https://v.daum.net/v/20241122063130353\",image:\"https://t1.daumcdn.net/news/202411/22/kyeonggi/20241122063132074sovx.jpg\",cpName:\"ê²½ê¸°ì¼ë³´\",cpImage:\"\",cpDarkImage:null,createdAt:\"2024-11-22T06:31:30+09:00\",mediaPickDuplicateCount:0,clipLinkId:null,serviceName:\"ë´ì¤\"},{id:\"hamny-20241122060042923\",type:\"TEXT\",title:\"4ìµìì§ë¦¬ ì¡°ê²½ìÂ·ê³³ê³³ì ìê°ë¤ ìíâ¦ê²ì¤í¸ íì°ì¤ë ì ë§ ëª\n",
       "ë¹\",summary:\"(ìì¸=ì°í©ë´ì¤) ì¤ìì§ ê¸°ì = \\\"ë´ ì§ì ë§ìëë¡ ê¾¸ë¯¸ì§ë§ ê³µì© ê³µê°ì ê°ì¸ì´ ë°ê¿ ì ìë ê³³ì´ì´ì ê±´ì¤ì¬ê° ê°ì¹ ìë ìíì ë§ë¤ê³  ì¸ë¶ìë ìëì´ ë  ë§í ê³³ì´ë¼ ë§ì´ ì ê²½ ì¼ìµëë¤\\\" ì¤ë 29ì¼ ì\n",
       "ì£¼ë¥¼ ìë ìì¸ ê°ëêµ¬ ì¬ë¦¼í½íí¬í¬ë ì¨ ë¨ì§ë¥¼ ì°í©ë´ì¤ê° ì§ë 21ì¼ ë¯¸ë¦¬ ì°¾ìì ë íì¥ ìë´ë¥¼ ë§¡ì íëê±´ì¤ ê´ê³ìë 3ë¨ì§ì í¹ì§ì ì´ë ê² ì¤ëª\n",
       "í\",pcUrl:\"https://v.daum.net/v/20241122060042923\",moUrl:\"https://v.daum.net/v/20241122060042923\",image:\"https://t1.daumcdn.net/news/202411/22/yonhap/20241122060042534llcb.jpg\",cpName:\"ì°í©ë´ì¤\",cpImage:\"https://t1.daumcdn.net/media/news/news2016/cp/cp_yonhap.gif\",cpDarkImage:\"https://t1.daumcdn.net/media/news/2020/cp/cp_yonhap_dm.png\",createdAt:\"2024-11-22T06:00:42+09:00\",mediaPickDuplicateCount:0,clipLinkId:null,serviceName:\"ë´ì¤\"},{id:\"hamny-20241122050110107\",type:\"TEXT\",title:\"í´ë¨ ê¹ì¥ë°°ì¶, ë ì¨ì¢ì ìí© ê¸ì í¸ì â¦ë³´í©ì¸ ìì\",summary:\"19ì¼ ì ë¨ í´ë¨êµ° íìë©´ ê¸íë¦¬ì ìë 4ë§9587ã¡(1ë§5000í) ê·ëª¨ì í ë°°ì¶ë°­ìì  ê¹ì¥ì© ê°ìë°°ì¶ ìíìì\n",
       "ì´ íì°½ì´ìë¤. ëì¥ì£¼ ë°ì©í¬ì¨(64)ë ì¸ë¶ë¤ì´ ë°°ì¶ë¥¼ ìííë ëª¨ìµì ë°ë¼ë³´ë©° â40ë\n",
       " ê°ê¹ì´ ë°°ì¶ëì¬ë¥¼ ì§ì¼ë©´ì ì¬í´ì²ë¼ íë  í´ê° ììë¤âê³  í ë¡íë¤. ë°ì¨ë â9ì í´ë¨ ì ì­ì ë´ë¦° í­ì°ê° ë°°ì¶ë°­ì ë®ì³ ëª¨ì¢\n",
       "ì´ ì¼ë¶ ì ì¤ë¼ ê±±ì ì´\",pcUrl:\"https://v.daum.net/v/20241122050110107\",moUrl:\"https://v.daum.net/v/20241122050110107\",image:\"https://t1.daumcdn.net/news/202411/22/nongmin/20241122050111885toyy.jpg\",cpName:\"ëë¯¼ì ë¬¸\",cpImage:\"https://t1.daumcdn.net/media/news/news2016/logo/cp_nongmin.gif\",cpDarkImage:\"https://t1.daumcdn.net/media/news/2020/cp/cp_nongmin_dm.png\",createdAt:\"2024-11-22T05:01:10+09:00\",mediaPickDuplicateCount:0,clipLinkId:null,serviceName:\"ë´ì¤\"},{id:\"hamny-20241122030602783\",type:\"TEXT\",title:\"âìê°ë³´ë¤ ê´ì°®ë¤ââ¦ ê³µì¤ ìê° ë³´ë¬ì¨ ìë¹ ì°½ì\n",
       "ìë¤\",summary:\"20ì¼ ì ë¶ì¸ì¢\n",
       "ì»¨ë²¤ì\n",
       "ì¼í°ìì ì¸ì¢\n",
       "ì ìê° ê³µì¤ ë¬¸ì ë¥¼ í´ê²°íê¸° ìí ë°ëíê° ì´ë ¸ë¤. ë°ëíë¥¼ ì°¾ì ìë¯¼ë¤ì´ ìê° ê´ê³ìë¤ê³¼ ë§ë ìë´ì íê³  ìë¤. ê¹íì ê¸°ì live@donga.comâê³µì¤ë¡ ë¨ì ìê°ë§ íì\n",
       "í´ ë³´ë ¤ íëë° ìê¶ ì ë³´ë¶í° ì¸ë¬´, í¹í, ì°½ì\n",
       "ê¹ì§ ë§ì ì ë³´ë¥¼ í¨ê» ì»ì´ ê°ëë¤.â 20ì¼ ì¸ì¢\n",
       "ì ì´ì§ë ì ë¶ì¸ì¢\n",
       "ì»¨ë²¤ì\n",
       "ì¼í°ìì ë§ë ì¡°íì§\",pcUrl:\"https://v.daum.net/v/20241122030602783\",moUrl:\"https://v.daum.net/v/20241122030602783\",image:\"https://t1.daumcdn.net/news/202411/22/donga/20241122030604071znbk.jpg\",cpName:\"ëìì¼ë³´\",cpImage:\"https://t1.daumcdn.net/media/news/news2016/cp/cp_donga.gif\",cpDarkImage:\"https://t1.daumcdn.net/media/news/2020/cp/cp_donga_dm.png\",createdAt:\"2024-11-22T03:06:02+09:00\",mediaPickDuplicateCount:0,clipLinkId:null,serviceName:\"ë´ì¤\"},{id:\"hamny-20241121212302502\",type:\"TEXT\",title:\"ììêµ¬Â·ë¥ì¹ë£¡Â·ê°íâ¦'ëì¦ë ì¤íë¤' í ìë¦¬ì ëª¨ìë¤\",summary:\"ê¸ë¡ë² ì¨ë¼ì¸ëìììë¹ì¤(OTT) ìë¹ì¤ê° ë¤ìí´ì§ë©´ì íë«í¼ ë§ë¤ ì ë\n",
       " ì°°ë¡ê¶í©ì¸ ì¤íë¤ì´ ì£¼ëª©ë°ê³  ìë¤. ë¬´ë ¤ 6ê°ì ë·íë¦­ì¤ ìíì ì°¸ì¬í ë°°ì° ë°í´ì, 'ì¤ìí¸í'ì ì¡ê°, 'ëê¸ë¡ë¦¬' ì´ëí ë±ì 'ë·íë¦­ì¤ ê°í ì¤í'ë¡ ë¶ë¦°ë¤.Â  ëì¦ëíë¬ì¤ìë í¥í ì£¼ì­ ì¤íë¤ì´ ìë¤. ë°°ì°ë ìëì§ë§ 'ë¬´ë¹'ì ì´ì´ ì ì 'ì¡°ëª\n",
       " ê°ê²'ë¡ ëì¦ëì ì°ë¬ì í¸í¡\",pcUrl:\"https://v.daum.net/v/20241121212302502\",moUrl:\"https://v.daum.net/v/20241121212302502\",image:\"https://t1.daumcdn.net/news/202411/21/ked/20241121212303393voye.jpg\",cpName:\"íêµ­ê²½ì \",cpImage:\"https://t1.daumcdn.net/media/news/news2016/cp/cp_ked.gif\",cpDarkImage:\"https://t1.daumcdn.net/media/news/2020/cp/cp_ked_dm.png\",createdAt:\"2024-11-21T21:23:02+09:00\",mediaPickDuplicateCount:0,clipLinkId:null,serviceName:\"ë´ì¤\"},{id:\"hamny-20241121200431220\",type:\"VIDEO\",title:\"[ì°¾ìê°ëK] ì ëí¥ë³´ë, ì ìë¬´ ë°ë ëê¹?\",summary:\"[KBS ê´ì£¼] ì´ëìë  ì½ê² ë¹ë¦¬ê³  ë¹ ë¥´ê² ì´ëí  ì ìë êµíµìë¨. ê±·ê¸´ ë©ê³  ì°¨ë¡ë ê°ê¹ì´ ê±°ë¦¬ì ë±ì¸ ì ëí¥ë³´ëì\n",
       "ëë¤. ìëì ì¸ í¸ë¦¬í¨ ëë¶ì í´ë§ë¤ ì´ì©ìê° ëê³  ììµëë¤. [ê¹íì±/ëíì : \\\"ì¼ë¨ ë³´íµ ì´ì©ì íë ê² íêµ ë´ìì ì´ëí  ë ì´ì©ì íëê¹ ìì\n",
       " ì¬ì´ì¬ì´ì ì§§ê² ì§§ê² ì´ì©íë ê² ì¢ìì ê¸°ëì±ì´ ì¢ì¼ëê¹ ì´ì©íë ê² ê°ìµëë¤.\\\"]\",pcUrl:\"https://v.daum.net/v/20241121200431220\",moUrl:\"https://v.daum.net/v/20241121200431220\",image:\"https://t1.daumcdn.net/news/202411/21/kbs/20241121200434641syrd.jpg\",cpName:\"KBS\",cpImage:\"https://t1.daumcdn.net/media/news/news2016/cp/cp_kbs.gif\",cpDarkImage:\"https://t1.daumcdn.net/media/news/2020/cp/cp_kbs_dm.png\",createdAt:\"2024-11-21T20:04:31+09:00\",mediaPickDuplicateCount:0,clipLinkId:\"451108559\",serviceName:\"ë´ì¤\"},{id:\"hamny-20241121164307574\",type:\"TEXT\",title:\"\\\"ë§ë¬´ê°ë´ ìê³µì¬ ì ì  ìë¼\\\"â¦ì¹¼ ë½ì ìì¸ì [íì¥]\",summary:\"[ìì´ë´ì¤24 ì´ìí ê¸°ì] ìì¸ìê° ìµê·¼ ê°ìêµ¬ ë°©í6êµ¬ì­ ë± ì ë¹ì¬ì\n",
       "ì ìê³µì¬ ì ì ê³¼ ê´ë ¨í´ ê°ì ì ìì²­íë ê³µë¬¸ì êµ¬ì²­ì ë³´ë¸ ê²ì¼ë¡ ëë¬ë¬ë¤. ìê³µì¬ ì ì  ì\n",
       "ì°° ë ì¼ë¶ ë¶ê³µì  ì¡°í­ì ì ìí ì¡°í© ë±ì ííë¥¼ ë¬¸ì ì¼ì ê²ì´ë¤. ì´ì ì¼ë¶ ì ë¹ì¬ì\n",
       "ì ê²½ì° êµ¬ì²­ì íë¨ì ë°ë¼ ìê³µì¬ ì ì  ì ì°¨ê° ì¤ë¨ë  ì ìë¤ë ì§ì ì´ ëì¨ë¤. 21ì¼ ê´ë ¨ ì\n",
       "ê³ì ë°ë¥´\",pcUrl:\"https://v.daum.net/v/20241121164307574\",moUrl:\"https://v.daum.net/v/20241121164307574\",image:\"https://t1.daumcdn.net/news/202411/21/inews24/20241121164307220fhzr.jpg\",cpName:\"ìì´ë´ì¤24\",cpImage:\"https://t1.daumcdn.net/media/news/news2016/cp/cp_inews24.gif\",cpDarkImage:\"https://t1.daumcdn.net/media/news/2020/cp/cp_inews24_dm.png\",createdAt:\"2024-11-21T16:43:07+09:00\",mediaPickDuplicateCount:0,clipLinkId:null,serviceName:\"ë´ì¤\"},{id:\"hamny-20241121160323815\",type:\"TEXT\",title:\"\\\"50ë\n",
       " ì ë ¨ê¸°ì  ì´ì§ì½\\\"â¦'êµ­ê°íµì¬ê¸°ì ' ê³ ë ¤ìì° ì êµ¬ì²´ ê³µì¥ ê°ë³´ë[ë¥´í¬]\",summary:\"[ì¸ì°=ì´ë°ì¼ë¦¬ íì§ë ê¸°ì] ì¸ì°ì­ìì ì°¨ë¡ 40ì¬ë¶ì ë¬ë¦¬ì ê³ ë ¤ìì°ì ì¨ì°ì ë ¨ìê° ê´ííê² í¼ì³ì§ë¤. ê·¸ë¦¬ê³  í° ëë¡ë¥¼ ì¬ì´ì ëê³  ê·¸ ë§ìí¸ìë í©ì°ëì¼(ì¼ì½)ì ë¹ë¡¯í´ ì êµ¬ì²´( LGííÂ·ì¼ì½ í©ìë²ì¸ íêµ­ì êµ¬ì²´), ëë°(ì¼ì´ì¼) ë± 2ì°¨ ì ì§ íµì¬ìì¬ë¥¼ ìì°íë ê³ ë ¤ìì° ê³ì´ì¬ ê³µì¥ë¤ì´ ì¤ì§ì´ ì ìë¤. í¹í íêµ­ì êµ¬ì²´ì ì êµ¬ì²´ ì ì¡° ë° ê³µì ê¸°ì \",pcUrl:\"https://v.daum.net/v/20241121160323815\",moUrl:\"https://v.daum.net/v/20241121160323815\",image:\"https://t1.daumcdn.net/news/202411/21/Edaily/20241121185631857pwyb.jpg\",cpName:\"ì´ë°ì¼ë¦¬\",cpImage:\"https://t1.daumcdn.net/media/news/news2016/cp/cp_Edaily.gif\",cpDarkImage:\"https://t1.daumcdn.net/media/news/2020/cp/cp_Edaily_dm.png\",createdAt:\"2024-11-21T16:03:23+09:00\",mediaPickDuplicateCount:0,clipLinkId:null,serviceName:\"ë´ì¤\"},{id:\"hamny-20241121133012432\",type:\"TEXT\",title:\"[íì¥in] ì°íì¥ ì¤ì¹ ê¶í íìíë ¤ë ë¶ì°ìâ¦ê¸°ì´ë¨ì²´ ì¼ì  ë°ë°\",summary:\"(ë¶ì°=ì°í©ë´ì¤) ì°¨ê·¼í¸ ê¸°ì = ë¶ì°ìê° ê¸°ì´ë¨ì²´ì¥ìê² ììíë ì°ì\n",
       "íê¸°ë¬¼ ë§¤ë¦½ì¥ ë± ê°ë±ì ë° ìì¤ì ì¤ì¹ ê¶íì íìíë ¤ê³  íì ê¸°ì´ë¨ì²´ê° ì¼ì í ë°ë°íê³  ëì°ë¤. 21ì¼ ë¶ì°ìì ë°ë¥´ë©´ ìë ì¬í´ 7ì 'ë¶ì°ê´ì­ì ëìê³í ì¼ë¶ê°ì  ì¡°ë¡ì'ì ì\n",
       "ë² ìê³ íê³ , ì´ë² ë¶ì°ììí íê¸° ë ê°ì ìì íµê³¼ìí¤ë ¤ê³  ë\n",
       "¸ë ¥íê³  ìë¤. ê°ì ìì ì£¼ì ë´ì©ì ë¬ì§ê³µì,\",pcUrl:\"https://v.daum.net/v/20241121133012432\",moUrl:\"https://v.daum.net/v/20241121133012432\",image:\"https://t1.daumcdn.net/news/202411/21/yonhap/20241121133012068ygdb.jpg\",cpName:\"ì°í©ë´ì¤\",cpImage:\"https://t1.daumcdn.net/media/news/news2016/cp/cp_yonhap.gif\",cpDarkImage:\"https://t1.daumcdn.net/media/news/2020/cp/cp_yonhap_dm.png\",createdAt:\"2024-11-21T13:30:12+09:00\",mediaPickDuplicateCount:0,clipLinkId:null,serviceName:\"ë´ì¤\"}],hasNext:true}},validCode:\"GOOD\",updatedAt:\"2024-11-22T14:26:57.108657565+09:00\",lastFetchedAt:\"2024-11-22T14:33:38.077495683+09:00\"},title:\"[ì¹ì\n",
       "ì©] íì¥ë¥´í¬ ê¸°ì¬\"}],order:\"default\"},\"4c8815d4-358f-47ec-84a7-41e50e86bec1\":{outlink:null,tooltip:null,count:\"-\",title:\"ð§­ ë¤ìë´ì¤ ìë´ì\",items:[{thumbnail:\"https://t1.daumcdn.net/liveboard/uploader/apps/modoo/3ec03ab4a0de4122aa3172c60cf3c451.png\",source:\"ë¤ìë´ì¤\",title:\"ê³ ì¹¨, ì ì ã»ë°ë¡  ë³´ë ëª¨ì\",url:\"https://news.daum.net/correct\"},{thumbnail:\"https://t1.daumcdn.net/liveboard/uploader/apps/modoo/9851fc3bf4cc484fb92741dc849b6c93.png\",source:\"ë¤ìë´ì¤\",title:\"ë¤ìì±ë ì í´ ìë´\",url:\"https://with.kakao.com/media\"},{thumbnail:\"https://t1.daumcdn.net/liveboard/uploader/apps/modoo/bc964a6150ae472b806a8eb1848018bb.png\",source:\"ë¤ìë´ì¤\",title:\"ë¤ìë´ì¤ ê³ ê°ì¼í°\",url:\"https://cs.daum.net/faq/63.html\"}]}}}},template:null,createdAt:\"2024-11-15T02:07:00.956Z\",updatedAt:\"2024-11-20T02:32:42.999Z\",systemTime:1732253662188}},\"uses\":{\"search_params\":[\"device\",\"layout\"],\"params\":[\"channelKey\",\"rest\"],\"url\":1}}];\n",
       "\n",
       "\t\t\t\t\tPromise.all([\n",
       "\t\t\t\t\t\timport(\"https://t1.daumcdn.net/top/tiller-pc/modoo-web/production/20241121092638/_app/immutable/entry/start.JSh1iTTj.js\"),\n",
       "\t\t\t\t\t\timport(\"https://t1.daumcdn.net/top/tiller-pc/modoo-web/production/20241121092638/_app/immutable/entry/app.DxlqtXvo.js\")\n",
       "\t\t\t\t\t]).then(([kit, app]) => {\n",
       "\t\t\t\t\t\tkit.start(app, element, {\n",
       "\t\t\t\t\t\t\tnode_ids: [0, 3],\n",
       "\t\t\t\t\t\t\tdata,\n",
       "\t\t\t\t\t\t\tform: null,\n",
       "\t\t\t\t\t\t\terror: null\n",
       "\t\t\t\t\t\t});\n",
       "\t\t\t\t\t});\n",
       "\t\t\t\t}\n",
       "\t\t\t</script>\n",
       "</div>\n",
       "</body>\n",
       "</html>"
      ]
     },
     "execution_count": 108,
     "metadata": {},
     "output_type": "execute_result"
    }
   ],
   "source": [
    "soup"
   ]
  },
  {
   "cell_type": "markdown",
   "metadata": {},
   "source": [
    "### 다음 뉴스 $\\to$ 정치면 $\\to$ 정치 주요뉴스 수집하기"
   ]
  },
  {
   "cell_type": "code",
   "execution_count": 109,
   "metadata": {},
   "outputs": [],
   "source": [
    "headline_section = soup.find('ul', class_='list_newsheadline2')"
   ]
  },
  {
   "cell_type": "code",
   "execution_count": 110,
   "metadata": {},
   "outputs": [],
   "source": [
    "news_list = headline_section.find_all('a')"
   ]
  },
  {
   "cell_type": "code",
   "execution_count": 111,
   "metadata": {},
   "outputs": [
    {
     "name": "stdout",
     "output_type": "stream",
     "text": [
      "<a class=\"item_newsheadline2\" data-tiara-layer=\"news\" data-tiara-ordnum=\"1\" href=\"https://v.daum.net/v/20241122141711090\" rel=\"\" target=\"_self\"><div class=\"wrap_thumb\"> <img alt=\"\" class=\"img_g\" src=\"//t1.daumcdn.net/thumb/S686x440a.q80/?fname=https%3A%2F%2Ft1.daumcdn.net%2Fnews%2F202411%2F22%2FNEWS1%2F20241122141712020gevw.jpg&amp;scode=media\"/></div> <div class=\"cont_thumb\"><strong class=\"tit_txt\">677ì¡° ë´ë\n",
      " ìì°ì, ì¼ë¹ ë¬´ì°¨ë³ ì¹¼ì§â¦ë²ì ìí ì²ë¦¬ ëí­</strong> <p class=\"desc_txt\">(ìì¸=ë´ì¤1) íë³ì°¬ ê¸°ì = ì¬ì¼ê° 677ì¡° ì ê·ëª¨ì ë´ë\n",
      "ë ì ë¶ ìì°ìì ëê³  ííì ì ì´ì´ê°ë©° ë²ì  ì²ë¦¬ ìíì ì¬í´ë ëê¸°ë ê² ìëëë ì°ë ¤ê° ëì¨ë¤. ì ë¶ ìì°ìì ëí­ 'ì¹¼ì§'íë ¤ë ì¼ë¹ê³¼ 'ê±´ì ì¬ì ' ê¸°ì¡°ë¥¼ ì§í¤ê² ë¤ë ì¬ë¹ì´ ê³³ê³³ìì ê²©ëíê³  ìë¤. 22ì¼ ì ì¹ê¶ì ë°ë¥´ë©´ êµ­í ê¸°íì¬ì ììíë ë´ë\n",
      "ë ì ë¶ ìë¹ë¹ í¸ì±ì ëê³  ì ìë¦¬ê±¸ì</p> <span class=\"info_txt\"><span class=\"con_txt\"><span class=\"txt_info\">ë´ì¤1</span> <span class=\"txt_info\">17ë¶ ì </span></span> </span></div> </a>\n"
     ]
    }
   ],
   "source": [
    "print(news_list[0])"
   ]
  },
  {
   "cell_type": "code",
   "execution_count": 116,
   "metadata": {},
   "outputs": [],
   "source": [
    "news_url = news_list[2]['href']"
   ]
  },
  {
   "cell_type": "code",
   "execution_count": 117,
   "metadata": {},
   "outputs": [
    {
     "name": "stdout",
     "output_type": "stream",
     "text": [
      "https://v.daum.net/v/20241122140251613\n"
     ]
    }
   ],
   "source": [
    "print(news_url)"
   ]
  },
  {
   "cell_type": "markdown",
   "metadata": {},
   "source": [
    "### 위 과정을 함수로 만들기"
   ]
  },
  {
   "cell_type": "code",
   "execution_count": 119,
   "metadata": {},
   "outputs": [],
   "source": [
    "def get_daum_new_list(section: str ='politics') -> list:\n",
    "    url = f'https://news.daum.net/{section}'\n",
    "    resp = requests.get(url)\n",
    "    soup = bs(resp.text, 'html.parser')\n",
    "    addrs = soup.find('ul', class_='list_newsheadline2')\n",
    "    addrs = addrs.find_all('a')\n",
    "    news_id_list = [addr['href'] for addr in addrs]\n",
    "    return news_id_list"
   ]
  },
  {
   "cell_type": "code",
   "execution_count": 118,
   "metadata": {},
   "outputs": [],
   "source": [
    "section_dic = {\n",
    "    '사회': 'society',\n",
    "    '정치': 'politics',\n",
    "    '경제': 'economic',\n",
    "}"
   ]
  },
  {
   "cell_type": "code",
   "execution_count": 122,
   "metadata": {
    "scrolled": true
   },
   "outputs": [],
   "source": [
    "news_urls = get_daum_new_list(section_dic['경제'])"
   ]
  },
  {
   "cell_type": "code",
   "execution_count": 123,
   "metadata": {
    "scrolled": true
   },
   "outputs": [
    {
     "data": {
      "text/plain": [
       "['https://v.daum.net/v/20241122141343964',\n",
       " 'https://v.daum.net/v/20241122140002509',\n",
       " 'https://v.daum.net/v/20241122134207047',\n",
       " 'https://v.daum.net/v/20241122134200042',\n",
       " 'https://v.daum.net/v/20241122123301706',\n",
       " 'https://v.daum.net/v/20241122121127352',\n",
       " 'https://v.daum.net/v/20241122112839105',\n",
       " 'https://v.daum.net/v/20241122111632649',\n",
       " 'https://v.daum.net/v/20241122095847174']"
      ]
     },
     "execution_count": 123,
     "metadata": {},
     "output_type": "execute_result"
    }
   ],
   "source": [
    "news_urls"
   ]
  },
  {
   "cell_type": "markdown",
   "metadata": {},
   "source": [
    "## 3.2 뉴스 제목(Title) 크롤링"
   ]
  },
  {
   "cell_type": "code",
   "execution_count": 124,
   "metadata": {},
   "outputs": [],
   "source": [
    "def get_daum_news_title(url):\n",
    "    resp = requests.get(url)\n",
    "    soup = bs(resp.text, 'html.parser')\n",
    "    title_tag = soup.select_one('h3.tit_view')\n",
    "    title_tag = title_tag.get_text().replace('\\n', '')\n",
    "    \n",
    "    return title_tag"
   ]
  },
  {
   "cell_type": "code",
   "execution_count": 125,
   "metadata": {},
   "outputs": [
    {
     "name": "stdout",
     "output_type": "stream",
     "text": [
      "한류 협업 상품, CAST 날개 달고 아시아부터 중동까지\n",
      "제로 음료와 저당 식품의 인기 속 에브리틱의 도전\n",
      "어린이 침대 '항균'표시 믿고 샀는데, 일부 제품 '효과 없음'\n",
      "철도노조 \"파업으로 인한 열차 지연 죄송, 인력 감축으로 휴일에도 근무 중\"\n",
      "금융시장 휘청, 수출시장 먹구름…‘트럼프 스톰’에 흔들리는 한국 경제\n",
      "전기차 바퀴가 '트럼프의 늪'에 빠지는 날 [분석+]\n",
      "추경에 선긋던 尹정부…경기부진에 정책기조 전환하나\n",
      "선도지구 지정 앞두고 매물 쌓이는 1기 신도시…집값도 하락세\n",
      "[채널A 경제시그널 전문]100% 공제?…이번 주말, 연말정산 점검하라!\n"
     ]
    }
   ],
   "source": [
    "for idx, news_id in enumerate(news_urls):\n",
    "    temp = get_daum_news_title(news_id)\n",
    "    print(temp)"
   ]
  },
  {
   "cell_type": "markdown",
   "metadata": {},
   "source": [
    "### 뉴스 제목을 파일로 저장하기"
   ]
  },
  {
   "cell_type": "markdown",
   "metadata": {},
   "source": [
    "## 3.3 뉴스 본문 크롤링"
   ]
  },
  {
   "cell_type": "code",
   "execution_count": 126,
   "metadata": {},
   "outputs": [],
   "source": [
    "def get_daum_news_content(url):\n",
    "    resp = requests.get(url)\n",
    "    soup = bs(resp.text, 'html.parser')\n",
    "    container = soup.find('div', class_='article_view')\n",
    "    contents = ''\n",
    "    for p in container.find_all('p'):\n",
    "        temp = p.get_text() + '\\n'\n",
    "        contents += temp\n",
    "    #for p in container:\n",
    "    #    content += p.get_text()\n",
    "    return contents   "
   ]
  },
  {
   "cell_type": "code",
   "execution_count": 128,
   "metadata": {
    "collapsed": true
   },
   "outputs": [
    {
     "data": {
      "text/plain": [
       "'건강과 다이어트에 관심이 많은 소비자 사이에서 제로 음료와 저당 식품이 인기다. 에브리틱은 균형 잡힌 영양을 목표로, 저당 고단백 식품을 개발하는 소상공인이다. 특히 버려지는 식품 부산물의 가치를 재발견해 환경과 영양, 두 마리 토끼를 잡는 제품을 선보이고 있는 에브리틱을 만났다.\\n\\n자기소개 부탁드립니다.\\n“안녕하세요. 고단백 저당 식품 브랜드 ‘하이밸런스’를 운영하는 에브리틱 대표 양정구입니다. 소외 계층의 영양 결핍 문제를 개선하고, 탄소 배출량을 줄이는 것을 목표로 2021년 말 에브리틱을 설립했습니다. 이후에는 건강과 환경을 고려한 다양한 식품을 개발하고 있어요.”\\n건강과 환경 두 마리 토끼를 모두 잡는 제품이라니, 상상이 잘 안갑니다. 제품도 소개해주세요.\\n“2024년 상반기 현재까지 고단백, 저당을 중심으로 여러 제품을 출시했습니다. 대표 제품은 단백질을 함유한 찹살떡인 ‘생딸기 프로떡’과 ‘인절미 팥빙수 프로떡’이 있습니다. 이외에도 업사이클링 원료를 활용한 고단백 저단 스낵인 ‘든든스콘’ 8종, ‘든든쿠키’ 4종이 있습니다.”\\n고단백 저당 식품 브랜드 ‘하이밸런스’만의 특징이 있다면요.\\n“하이밸런스는 ‘건강한 식품은 맛이 없다’는 편견을 깨기 위해 건강과 맛을 동시에 잡을 수 있는 방법을 지속적으로 연구하고 있습니다. 당과 칼로리를 줄이면서도 단백질 등 필수 영양소가 풍부하게 함유된 제품을 드시며 고객들이 일상 속에서 균형 잡힌 식단을 쉽게 실천할 수 있도록 돕는 것이 목표입니다. 또한 버려지는 식품 부산물을 업사이클링해 고품질의 고단백 원료로 사용해, 건강은 물론 환경에 도움이 되는 식품을 개발하고 있습니다.”\\n\\n고객들의 반응이 궁금합니다.\\n“단백질이 들어간 제품은 대체로 텁텁하거나 비린 맛이 납니다. 하지만 우리 제품은 오랜 기간 누적된 고객 피드백을 기반으로 만들어져, 비리거나 텁텁하지 않고 부드럽게 드실 수 있도록 만들어졌습니다. 구매 후 만족도도 90%가 넘고요.”\\n‘참깨박’이라는 원료는 생소한데요. 어떻게 활용하게 됐고, 연구 개발 과정은 어땠는지요?\\n“참깨박은 참기름을 짜낸 후 남아있는 껍질 등 나머지 부분을 일컫는 말입니다. 단백질과 식이섬유, 항산화 물질이 풍부해 함염증이나 간 기능 개선, 비만 억제 등에 효과가 있다고 알려졌음에도 매년 다량 폐기되고 있는 원료기도 해요. 우리는 참깨박의 영양적 가치를 발견하고 이화여대 식품소재연구실을 기반으로 해 단백질을 추출하는 기술 특허를 개발했고, 이를 식품에 적용하는 연구 역시 진행하고 있습니다. 이를 통해 고용노동부가 주최한 2022 소셜벤처경연대회에서 최우수상인 고용노동부 장관상을 수상하고, 하나소셜벤처 유니버시티에서 서울권역 대표로 우수상을 받는 등 각계의 인정을 받고 있습니다.”\\n연구개발에 특히 신경 쓰고 있는 부분이 따로 있나요?\\n“참깨박은 참기름을 짜낸 후 일반적으로 폐기하므로 관리에 소홀하기 쉽습니다. 하지만 우리 에브리틱은 식품안전관리인증(HACCP)을 받은 공장과 협력, 별도로 관리하고 보관해 최상의 원료를 사용하는 등 식품 원료의 안전성을 최대한 확보하고자 노력하고 있습니다.”\\n\\n판매는 어느 창구를 통해 이뤄지고 있나요.\\n“우리 하이밸런스 제품은 주로 자사몰과 네이버 스마트스토어, 쿠팡 등 온라인 유통 채널을 통해 판매 중입니다. 샐러드 가게, 복지 센터 등 여러 업체에 직접 납품을 하기도 하고요. 더불어 큰 식품 박람회 등에 적극적으로 참여하며 고객들의 생생한 반응을 직접 확인하고 고객 의견을 제품 개발에 적극 반영하려고 노력하고 있습니다.”\\n다음 제품이 궁금합니다.\\n“최근 참깨박을 활용한 든든스콘 8종, 든든쿠키 4종을 출시했습니다. 이 제품은 참깨박 단백질, 유청단백질, 귀리, 아몬드, 통밀가루 등의 영양성분이 우수한 원료를 배합하여 영양 밸런스를 최적화한 제품입니다. 현재 오프라인 판매만 이뤄지고 있으나 곧 온라인으로도 출시할 예정이니 많은 기대 부탁드립니다.”\\n앞으로의 목표는 무엇인가요?\\n“에브리틱은 하이밸런스 브랜드를 전개하며 영양 균형이 잡혀있지만 일상에서 쉽게 섭취할 수 있는 제품을 지속 출시할 예정입니다. 베이커리류를 중심으로 저당, 고단백, 고식이섬유 제품을 선보이며, 맛과 기능성 모두를 충족하는 제품을 만들어내는 게 우리의 핵심 목표입니다.”\\n장은진 창업 컨설턴트 ari.maroon.co@gmail.com\\n'"
      ]
     },
     "execution_count": 128,
     "metadata": {},
     "output_type": "execute_result"
    }
   ],
   "source": [
    "get_daum_news_content(news_urls[1])"
   ]
  },
  {
   "cell_type": "code",
   "execution_count": 130,
   "metadata": {
    "scrolled": true
   },
   "outputs": [
    {
     "name": "stdout",
     "output_type": "stream",
     "text": [
      "------------------------------\n",
      "뉴스제목: 한류 협업 상품, CAST 날개 달고 아시아부터 중동까지\n",
      "------------------------------\n",
      "뉴스내용: - CAST, 두바이·대만 국제박람회서 한류 협업 상품의 글로벌 경쟁력 선보여- 배우 ‘진영’, 대만 CAST 팝업스토어에서 생생한 협업 스토리 전해\n",
      "\n",
      "문화체육관광부(이하 문체부)와 한국국제문화교류진흥원(이하 진흥원)은 ‘한류연계 협업콘텐츠 기획개발 지원 사업’(이하 CAST사업)이 11월 한 달간 K-콘텐츠 진출 전략 권역으로 주목받는 중동과 한류 열풍이 지속되고 있는 대만 시장에 K-컬처와 국내 중소기업의 매력적인 협업 상품을 선보였다고 22일 밝혔다.\n",
      "‘CAST’(Connect, Accompany to make Synergy and Transformation)는 사업을 통해 잠재력과 기술력을 갖춘 한국기업과 한류 콘텐츠가 만나 새로운 가치를 창출한다는 의미의 사업 브랜드다.\n",
      "올해 CAST 사업은 지난 12~14일(현지시각) 아랍에미리트 두바이 세계무역센터에서 열리는 ‘기프트앤라이프스타일 미들이스트’에 독립관을 운영하며 한류 협업 상품 110여 종을 선보였다. 중동은 최근 K-콘텐츠를 중심으로 다방면의 교류가 활발한 떠오르는 한류 거점 권역이다. 이 흐름을 바탕으로 현장을 찾은 중동 권역을 비롯한 글로벌 바이어들은 개발 상품에 높은 관심을 보이며 약 190건의 상담이 이루어졌다.\n",
      "▲두바이 ‘기프트앤라이프 스타일’ 박람회 CAST 독립관 전경\n",
      "현장을 찾은 두바이 무역 대행사 라바 브랜드(Lava Brands) 대표는 “한국 상품의 높은 품질은 잘 알려졌으나 중동에서 직접 상품을 확인하기 어려웠다”며 “이번에 CAST를 통해 여러 브랜드와 상품을 한자리에서 직접 만나볼 수 있어 좋았고, 한국의 높은 품질과 비즈니스 가능성을 확인할 수 있었다”며 만족감을 전했다.\n",
      "또한, 아마존 아랍에미리트와 사우디아라비아 공식 유통사 에넷스튜디오즈(Enetstudioz) 관계자는 “현재 아마존 중동 판매자들에게 한국 제품 서비스 지원이 활성화되지 않아 아쉬웠는데 CAST 참여기업의 중동 온라인 플랫폼 진출을 자사가 적극 지원할 수 있을 것으로 판단했다”라며 긍정적인 협업 가능성을 비치었다. 특히 CAST 상품이 탄생하기까지의 기획개발 과정이 담긴 영상도 호평받았다.\n",
      "이어 14일부터 17일(현지시각)까지 대만 쑹산 문화창의공원에서 열린 ‘2024 팝업아시아’박람회에 참여한 CAST 사업은 2년 연속 가장 주목받는 공간에 독립관을 운영하였다.\n",
      "한 방문객은 “한류 스타와 협업한 상품에 관심이 많았는데 직접 보고 구매할 수 있다는 소식에 꼭 오고 싶었다. 직접 와보니 한국에 온 것 같아 정말 기분이 좋다”라며 한국문화와 CAST에 대한 애정을 보였다.\n",
      "진흥원에 따르면 박람회 기간 CAST 상품에 대한 180여 건의 바이어 상담이 이루어졌고, 대만의 유명 편집숍과 백화점 등에서 입점 및 협업 문의가 이어졌다.\n",
      "CAST 사업은 대만에서의 뜨거운 반응을 이어가기 위해 아시아 유명 편집숍‘25투고(25TOGO)’타오위안 지점에서 14일부터 다음 달 12일까지 한 달간 현지 팝업스토어를 운영한다. 이를 기념하기 위해 이번 2024 CAST 사업에 함께한 배우‘진영’이 직접 현장을 방문해 대만 팬들과 함께 CAST 대만 팝업스토어를 소개했다.\n",
      "▲배우 ‘진영’ 대만 ‘25TOGO’ CAST 팝업스토어 이벤트 현장\n",
      "배우 진영은 직접 CAST 사업과 개발 상품을 소개하며 현지 팬과 현장을 찾은 소비자들의 열렬한 반응을 끌어냈다. 진영은 패션 브랜드 ‘나체’와 함께 직접 예술적 감각과 개성을 표현한 디자인에 참여하여 의류 3종의 기획에 참여했다.\n",
      "그는 “특별한 매력을 지난 패션브랜드 나체와 함께 처음으로 남성복 개발해 도전하였는데, 직접 쓴 문구와 디테일까지 신경 썼다”면서 “기회가 된다면 다시 한번 참여하고 싶다”라며 상당한 자신감과 남다른 애정을 표현했다.\n",
      "이날 대만과 일본 등 다양한 매체와 100여 명이 넘는 팬들이 현장에 직접 방문하여 CAST에 대한 높은 관심을 느낄 수 있는 자리였다.\n",
      "박창식 진흥원장은 “한류를 향한 높은 관심이 확산하는 만큼 지속적인 성장과 발전을 위한 지원이 매우 중요하다”며 “CAST 사업에서 처음으로 시도한 한류 신흥 시장 중동 진출과 2년 연속 대만에 진출하며 지속적인 성과를 끌어냈다”고 밝혔다.\n",
      "이어 “이번 박람회 참여는 CAST 사업이 다방면으로 해외 진출 교두보를 마련해 참여기업의 해외 진출 성과 확대를 이끌었다고 할 수 있다”고 평가하고 “앞으로도 K-컬처를 통한 문화와 산업 경계를 확장하는 긍정적인 사례들을 발굴해나가겠다”고 강조했다.\n",
      "온라인뉴스팀\n",
      "\n",
      "------------------------------\n",
      "뉴스제목: 제로 음료와 저당 식품의 인기 속 에브리틱의 도전\n",
      "------------------------------\n",
      "뉴스내용: 건강과 다이어트에 관심이 많은 소비자 사이에서 제로 음료와 저당 식품이 인기다. 에브리틱은 균형 잡힌 영양을 목표로, 저당 고단백 식품을 개발하는 소상공인이다. 특히 버려지는 식품 부산물의 가치를 재발견해 환경과 영양, 두 마리 토끼를 잡는 제품을 선보이고 있는 에브리틱을 만났다.\n",
      "\n",
      "자기소개 부탁드립니다.\n",
      "“안녕하세요. 고단백 저당 식품 브랜드 ‘하이밸런스’를 운영하는 에브리틱 대표 양정구입니다. 소외 계층의 영양 결핍 문제를 개선하고, 탄소 배출량을 줄이는 것을 목표로 2021년 말 에브리틱을 설립했습니다. 이후에는 건강과 환경을 고려한 다양한 식품을 개발하고 있어요.”\n",
      "건강과 환경 두 마리 토끼를 모두 잡는 제품이라니, 상상이 잘 안갑니다. 제품도 소개해주세요.\n",
      "“2024년 상반기 현재까지 고단백, 저당을 중심으로 여러 제품을 출시했습니다. 대표 제품은 단백질을 함유한 찹살떡인 ‘생딸기 프로떡’과 ‘인절미 팥빙수 프로떡’이 있습니다. 이외에도 업사이클링 원료를 활용한 고단백 저단 스낵인 ‘든든스콘’ 8종, ‘든든쿠키’ 4종이 있습니다.”\n",
      "고단백 저당 식품 브랜드 ‘하이밸런스’만의 특징이 있다면요.\n",
      "“하이밸런스는 ‘건강한 식품은 맛이 없다’는 편견을 깨기 위해 건강과 맛을 동시에 잡을 수 있는 방법을 지속적으로 연구하고 있습니다. 당과 칼로리를 줄이면서도 단백질 등 필수 영양소가 풍부하게 함유된 제품을 드시며 고객들이 일상 속에서 균형 잡힌 식단을 쉽게 실천할 수 있도록 돕는 것이 목표입니다. 또한 버려지는 식품 부산물을 업사이클링해 고품질의 고단백 원료로 사용해, 건강은 물론 환경에 도움이 되는 식품을 개발하고 있습니다.”\n",
      "\n",
      "고객들의 반응이 궁금합니다.\n",
      "“단백질이 들어간 제품은 대체로 텁텁하거나 비린 맛이 납니다. 하지만 우리 제품은 오랜 기간 누적된 고객 피드백을 기반으로 만들어져, 비리거나 텁텁하지 않고 부드럽게 드실 수 있도록 만들어졌습니다. 구매 후 만족도도 90%가 넘고요.”\n",
      "‘참깨박’이라는 원료는 생소한데요. 어떻게 활용하게 됐고, 연구 개발 과정은 어땠는지요?\n",
      "“참깨박은 참기름을 짜낸 후 남아있는 껍질 등 나머지 부분을 일컫는 말입니다. 단백질과 식이섬유, 항산화 물질이 풍부해 함염증이나 간 기능 개선, 비만 억제 등에 효과가 있다고 알려졌음에도 매년 다량 폐기되고 있는 원료기도 해요. 우리는 참깨박의 영양적 가치를 발견하고 이화여대 식품소재연구실을 기반으로 해 단백질을 추출하는 기술 특허를 개발했고, 이를 식품에 적용하는 연구 역시 진행하고 있습니다. 이를 통해 고용노동부가 주최한 2022 소셜벤처경연대회에서 최우수상인 고용노동부 장관상을 수상하고, 하나소셜벤처 유니버시티에서 서울권역 대표로 우수상을 받는 등 각계의 인정을 받고 있습니다.”\n",
      "연구개발에 특히 신경 쓰고 있는 부분이 따로 있나요?\n",
      "“참깨박은 참기름을 짜낸 후 일반적으로 폐기하므로 관리에 소홀하기 쉽습니다. 하지만 우리 에브리틱은 식품안전관리인증(HACCP)을 받은 공장과 협력, 별도로 관리하고 보관해 최상의 원료를 사용하는 등 식품 원료의 안전성을 최대한 확보하고자 노력하고 있습니다.”\n",
      "\n",
      "판매는 어느 창구를 통해 이뤄지고 있나요.\n",
      "“우리 하이밸런스 제품은 주로 자사몰과 네이버 스마트스토어, 쿠팡 등 온라인 유통 채널을 통해 판매 중입니다. 샐러드 가게, 복지 센터 등 여러 업체에 직접 납품을 하기도 하고요. 더불어 큰 식품 박람회 등에 적극적으로 참여하며 고객들의 생생한 반응을 직접 확인하고 고객 의견을 제품 개발에 적극 반영하려고 노력하고 있습니다.”\n",
      "다음 제품이 궁금합니다.\n",
      "“최근 참깨박을 활용한 든든스콘 8종, 든든쿠키 4종을 출시했습니다. 이 제품은 참깨박 단백질, 유청단백질, 귀리, 아몬드, 통밀가루 등의 영양성분이 우수한 원료를 배합하여 영양 밸런스를 최적화한 제품입니다. 현재 오프라인 판매만 이뤄지고 있으나 곧 온라인으로도 출시할 예정이니 많은 기대 부탁드립니다.”\n",
      "앞으로의 목표는 무엇인가요?\n",
      "“에브리틱은 하이밸런스 브랜드를 전개하며 영양 균형이 잡혀있지만 일상에서 쉽게 섭취할 수 있는 제품을 지속 출시할 예정입니다. 베이커리류를 중심으로 저당, 고단백, 고식이섬유 제품을 선보이며, 맛과 기능성 모두를 충족하는 제품을 만들어내는 게 우리의 핵심 목표입니다.”\n",
      "장은진 창업 컨설턴트 ari.maroon.co@gmail.com\n",
      "\n",
      "------------------------------\n",
      "뉴스제목: 어린이 침대 '항균'표시 믿고 샀는데, 일부 제품 '효과 없음'\n",
      "------------------------------\n",
      "뉴스내용: \n",
      "■ 방송 : YTN 라디오 FM 94.5 (09:00~10:00) \n",
      "■ 진행 : 조태현 기자 \n",
      "■ 방송일 : 2024년 11월 22일 (금요일) \n",
      "■ 대담 : 한국소비자원 시험검사국 기계금속팀 나은수 팀장 \n",
      "* 아래 텍스트는 실제 방송 내용과 차이가 있을 수 있으니 보다 정확한 내용은 방송으로 확인하시기를 바랍니다. \n",
      "◆ 조태현 기자 (이하 조태현) : 똑똑하고 현명한 소비자로 거듭날 수 있는 유용한 정보들 전해드리는 <똑똑한 소비생활> 시간입니다. 성장기 어린이 키우는 가정에선 어린이 침대, 관심 많으실텐데요. 제품은 많지만, 실제로 튼튼한지 안전한지 확인하긴 어려운데요. 소비자원에서 최근, 시중에 유통 중인 주요 제품들의 품질과 안전성을 시험 평가했다고 합니다. 관련 내용, 한국소비자원 시험평가국 기계금속팀 나은수 팀장과 이야기 나눠보겠습니다. 팀장님 나와 계시죠? \n",
      "◇ 한국소비자원 시험검사국 기계금속팀 나은수 팀장 (이하 나은수) : 네 안녕하세요. \n",
      "◆ 조태현 : 어린이들은 유독 땀을 많이 흘리고 자잖아요, 그래서 매트리스의 향균 기능이 구매에 있어 중요한 고려 요소 중 하나일 텐데요. 시험 평가 결과, 일부 제품은 광고 내용과 달리 향균 효과가 없었다고요. \n",
      "◇ 나은수 : 시험평가 대상 8개 제품 중 5개 제품이 항균 기능이 있다고 표시⋅광고하고 있었습니다. 한국산업표준에 따라 황색포도상구균, 폐렴간균 등 2종의 세균을 이용해 항균효과를 검증하였습니다. 국제 기준에서는 2개 균 감소율이 99.0% 이상일 경우 항균효과가 있다고 판단하고 있습니다. 항균효과를 표시⦁광고 5개 제품 중 3개 제품은 2개 균 감소율이 99.0% 이상으로 항균효과가 확인되었어나, 쁘띠라뺑의 '퍼스트슬립 미니 포켓스프링 매트리스 SS' 제품은 황색포도상구균이, 일룸의 '데일리 키즈 매트리스 SS' 제품은 2개 균의 감소율 99.0% 미만으로 항균 효과가 없었습니다. \n",
      "◆ 조태현 : 향균 기능이 미흡했던 제품들, 시정 조치 됐습니까? \n",
      "◇ 나은수 : 한국소비자원은 2개 업체에 제품 교환을 권고하였고 2개 업체 모두, 권고를 수용해 항균처리과정이 미흡했던 기간에 생산된 제품에 대해 무상 교환을 실시하고 있습니다. 해당 제품을 보유하고 계신 소비자께서는 한국소비자원의 어린이 침대 보도자료를 참고하시어 고객센터 또는 공식홈페이지에 제품 확인 및 교환을 요청하시기 바랍니다. \n",
      "◆ 조태현 : 매트리스 내구성은 어땠습니까? 조사한 제품 8개, 모두 튼튼했나요? \n",
      "◇ 나은수 : 100kg의 무게로 매트리스를 8만회 반복하여 누른 후 겉감, 스프링의 변형⋅파손 여부 등을 확인한 결과, 7개 제품의 매트리스 내구성이 우수했고 1개 제품은 무거운 무게에 스프링 복원력이 다소 미흡해 보통 수준이었습니다. \n",
      "◆ 조태현 : 매트리스와 프레임 품질도 중요하죠. 이 부분은 어땠습니까? \n",
      "◇ 나은수 : 침대 매트리스 안전기준을 준용하여 매트리스 겉감의 마찰⋅물⋅세탁⋅땀에 의한 색상 변화 정도를 확인한 결과, 모든 제품이 관련기준을 충족했습니다. 다만, 1개 제품은 매트리스 겉감을 잡아 당겼을 때 세로 길이 방향의 강도가 다소 미흡했습니다. 한국산업표준 및 어린이용 가구 안전기준을 준용하여 침대 프레임의 강도, 목재 함수율, 페인트의 밀착성 등을 확인한 결과, 모든 제품이 관련 기준을 충족했습니다. \n",
      "◆ 조태현 : 대다수 제품이 의무 표시사항을 누락했다고요? \n",
      "◇ 나은수 : 8개 제품 중 5개 제품이 매트리스 및 프레임에 KC마크, 제조년월 등 의무표시사항의 일부 또는 전체를 누락해 개선이 필요했고, 항균 기능이 있다고 표시⋅광고한 5개 제품 모두 시험균의 종류⋅시험방법⋅균 감소율 등 항균성에 대한 정확한 정보를 표시하지 않아 개선이 필요했습니다. 이에 한국소비자원은 5개 업체에 표시사항 개선을 권고하였고 5개 업체 모두 권고를 수용해 의무표시사항을 개선을 계획임을 알려왔습니다. \n",
      "◆ 조태현 : 제품마다 가격 차이가 크더라고요. 거의 5배 넘게 차이가 나던데요. \n",
      "◇ 나은수 : 제품 가격은 419,000원 ~ 2,240,000원 범위로 제품간 최대 5.3배 차이가 났고, 레이디가구의 '멜로 저상형 데이 베드 침대 일반형 프레임 SS'과 '또바기 매트리스 딴딴이 14 SS' 구성이 가장 저렴했습니다. \n",
      "◆ 조태현 : 마지막으로, 어린이 침대 구매 계획 중인 소비자분들께... 구매 전 기억해야할 부분 어떤 게 있을까요? \n",
      "◇ 나은수 : 이번에 한국소비자원이 시험평가한 슈퍼싱글 사이즈의 어린이 침대는 유소년기 및 장기간 사용 시 청소년기까지 사용이 가능한 크기의 제품이므로 구매전 꼼꼼한 확인이 필요합니다. 매트리스의 내구성⋅겉감의 품질⋅소재의 화학적 안전성과 침대 프레임의 품질⋅유해물질의 방출 수준과 같은 안전성 등 전반적인 결과를 확인할 수 있는 한국소비자원 시험평가결과를 참고하여 구매하시기 바랍니다. 또한 안전사고 예방을 위해서는 침대 가장자리가 둥글게 처리되어 있고, 낙상 방지용 울타리가 있거나 별도 설치가 가능한 제품을 구매하는 것이 좋습니다.. \n",
      "◆ 조태현 : 오늘 말씀 잘 들었습니다. 고맙습니다! 지금까지 한국소비자원 시험평가국 기계금속팀 나은수 팀장이었습니다. \n",
      "◇ 나은수 : 네 감사합니다.\n",
      "YTN 김세령 (newsfm0945@ytnradio.kr)\n",
      "[저작권자(c) YTN 무단전재, 재배포 및 AI 데이터 활용 금지]\n",
      "\n",
      "------------------------------\n",
      "뉴스제목: 철도노조 \"파업으로 인한 열차 지연 죄송, 인력 감축으로 휴일에도 근무 중\"\n",
      "------------------------------\n",
      "뉴스내용: \n",
      "■ 방송 : YTN 라디오 FM 94.5 (09:00~10:00) \n",
      "■ 진행 : 조태현 기자 \n",
      "■ 방송일 : 2024년 11월 22일 (금요일) \n",
      "■ 대담 : 이근조 전국철도노조 정책기획실장 \n",
      "- 서울교통공사도 12월 파업, 철도 대란 현실화? \"열차 지연 죄송\" \n",
      "- 파업 전까지 인력 확충·임금 인상 등 협상 마무리될 수 있길 기대 \n",
      "* 아래 텍스트는 실제 방송 내용과 차이가 있을 수 있으니 보다 정확한 내용은 방송으로 확인하시기를 바랍니다. \n",
      "◆ 조태현 기자 (이하 조태현) : 지금 준법 투쟁을 하고 있는 철도노조, 다음 달 5일부터 무기한 총파업에 들어가겠다고 선언했습니다. 서울 지하철 노조도 총파업 의사를 밝힌 상태라서 12월 연말에는 교통대란이 일어나는 것이 아니냐 이런 우려가 나오고 있는데요. 왜 파업에 나서게 된 걸까요? 이근조 전국철도노조 정책기획실장 전화로 연결해서 관련된 이야기 나눠보도록 하겠습니다. 실장님 나와 계십니까? \n",
      "◇ 이근조 전국철도노조 정책기획실장 (이하 이근조) : 네 안녕하세요. 철도노조 정책실장 이근조입니다. \n",
      "◆ 조태현 : 안녕하십니까? 실장님. 먼저 이 철도 노조에 대해서 좀 알아보고 가야 될 것 같은데요. 지금 지하철을 관할하는 노조가 여러 곳이 있잖아요. 철도 노조가 어떤 곳인 지부터 좀 설명 부탁드리겠습니다. \n",
      "◇ 이근조 : 철도 노조는 노선으로 말하면 수도권에 1,3,4호선, 경의중앙선 이런 전동차 운영을 책임지고요. 그다음에 이용하시는 KTX나 새마을, 무궁화 같은 열차 운영이나 그런 것들을 책임지는 철도공사에서 일하는 노동자들, 그다음에 철도공사 자회사에서 일하는 노동자들로 이렇게 구성된 노동조합입니다. \n",
      "◆ 조태현 : 알겠습니다. 지금 상황을 짚어보면요. 지금 태업, 내지는 준법 투쟁을 하고 계시잖아요. 그리고 12월에 총파업에 들어가겠다, 이렇게 밝힌 상태란 말이에요. 가장 중요한 게 이렇게 판단을 하게 되신, 이렇게 결정을 하게 되신 그 배경이 뭔지 이 부분부터 좀 말씀을 부탁드릴게요. \n",
      "◇ 이근조 : 네. 일단 왜 파업을 결심했는지 상황을 좀 설명 드려야 될 것 같은데요. 철도가 사실 철길 주변에서 열차가 운행하는 주변에서 일을 하다 보니까 저희가 산재 사망이 높은 회사입니다. 거의 2005년부터 연평균 2명의 노동자가 작업 중에 돌아가시고 있고요. 그리고 저희가 공기업이기는 하지만 임금도 거의 공기업 최하위 수준 이렇게 돼 있고, 저희가 4년째 회사로부터 경조사비도 제대로 못 받고 있어요. 그다음에 저희가 교대 근무를 하다 보니까 기존에 3조 2교대에서 4조 2교대로 바꾸자 이런 합의들을 했었는데, 이런 합의조차도 회사에서 잘 지켜지지 않고 있는 상황입니다. 이게 현재까지 철도가 가지고 있는 상황들이고 올해 바뀐 거는 철도공사가 1566명 정도에 달한 인력을 줄이고 그다음에 새로 올해 연말에 서해선, 동해선 이렇게 많은 노선들이 개통을 하는데 거기에 대한 업무들을 외주화하고 안전 업무를 줄이겠다, 이런 상황들이 하나 더 있고요. 그다음에 임금과 관련해서는 작년에도 저희가 임금을 7개월 늦게 지급받았어요. 올해도 철도공사에서 임금을 제때 지급하지 않겠다, 이런 입장들을 교섭 상에서 제출을 했었고. 그러다 보니까 현장에서 일하는 노동자들이 '이렇게 있다가는 안전도 위험하고, 미래를 기대할 수가 없다'는 위기감들이 강하게 들었고요. 그래서 노동조합에서 교섭 결렬을 하고 찬반 투표를 했는데 최근 한 5년 동안 가장 높은 투표율하고 찬성률이 나왔습니다. \n",
      "◆ 조태현 : 찬성률이 얼마나 나왔습니까? \n",
      "◇ 이근조 : 76.59% 나왔고요. 압도적으로 쟁의 행위 파업에 찬성을 해 주셔서 저희들이 그 일정들을 밟게 되었습니다. \n",
      "◆ 조태현 : 임금을 제때 지급하지 않는다고 말씀을 해 주셨는데 이게 무슨 말씀이신가요? 월급을 제대로 안 준다는 얘기인가요? \n",
      "◇ 이근조 : 일단 월급은 기본적으로 나오긴 하는데 임금에 속하는 저희가 받아야 되는 성과급이라든지 몇 가지 요소들이 있습니다. 보통 공공기관들 보면 7월에 성과급 나오거든요. 모든 기관들이. 그것들을 잘 제대로 지급하지 않고 작년에 받았어야 할 월급 올해도 7월 달에 지급했고, 올해도 다 지급하지 않겠다, 이렇게 하고 있습니다. \n",
      "◆ 조태현 : 알겠습니다. 또 하나 짚어볼 게 임금이 공기업 최하 수준이라고 말씀을 하셨는데 임직원들의 평균 연봉 이런 것들도 숫자 같은 게 나온 게 있습니까? \n",
      "◇ 이근조 : 이건 좀 편차들이 커서 직군에 따라서 많이 다르거든요. 그리고 가끔씩은 기관사분들이 되게 높은 연봉을 얘기하시기도 하는데 그분들은 엄청난 시간을 일하고 휴일 근무를 밀려서 운행을 하세요. 어렵게. 그런 특성들이 있고 저희들이 상대적으로 신입사원들 같은 경우에 지금 219만 7300원 정도 기본급을 받거든요. 거의 올해 최저임금 월급으로 하면 209만 원 정도인데 거의 차이가 많이 안 납니다. \n",
      "◆ 조태현 : 기본급은 연봉으로 했을 때 3천이 안 되는 그 정도 수준인 거네요. \n",
      "◇ 이근조 : 그렇죠. 3천 조금 넘습니다. \n",
      "◆ 조태현 : 아 넘는구나. 계산을 잘 못해서. 알겠습니다. 지금 노조에서 요구하고 있는 것. 회사에 요구하는 건 어떤 겁니까? \n",
      "◇ 이근조 : 노동조합에서 요구하고 있는 거는 기본적으로 외주화나 인력 감축에 따른 그런 부분들을 중단해서 부족한 인력을 충원해 달라. 그리고 기존에 합의했던 저희가 얘기한 4조 2교대라든지 타 공공기관 수준의 성과급이라든지 승진 포인트 같은 노사 합의 사항들이 있어요. 이런 것들을 이행해 달라. 그리고 임금 인상에 있어서는 정부가 임금 인상 가이드를 정하거든요. 매년 올해는 2.5%고요. 그 정도 수준의 기본급을 인상해 달라. 그리고 그 밖에 운전실에 감시 카메라를 설치하지 말자 이런 요구들이 있습니다. \n",
      "◆ 조태현 : 2.5% 인상. 이런 것들은 물가 상승률 같은 걸 고려했을 때 적정한 수준인 것으로 보이는데, 지금 회사 쪽이랑 합의가 안 된 거잖아요. 어떤 부분에서 합의가 안 됐습니까? \n",
      "◇ 이근조 : 철도공사가 이걸 안 하겠다고 하는 것은 일단 철도공사가 올해 공공기관의 총인건비 제도에 제한을 받고 있거든요. 그러다 보니까 기준을 넘친다 이렇게 하면서 그 정도의 임금 인상조차도 어렵고 그나마 올해에는 연차도 다 이월을 해라 이렇게 얘기를 하고 있고요. 실제 공사의 요구를 다 들어도 아까 얘기했던, 우리가 받아야 될 미지급된 임금 부분들을 올해 지급 못한다 이러고 있는 상황입니다. 그래서 공사의 요구를 다 수용을 해도 노동조합 조합원들이 임금에 대해선 오히려 못 받는다는 걸 합의해 달라고 하니까 임금에 대한 어려움이 있는 것 같습니다. \n",
      "◆ 조태현 : 여기에 대해서는 청취자분들도 많은 생각을 하실 것 같은데요. 의견 있으시면 #0945로 문자 보내주시면 되겠습니다. 조금 전에 노동자 외주화 그리고 인력 감축 이런 것도 문제로 지적을 하셨는데요. 이게 왜 진행이 된 겁니까? 인력 감축이. \n",
      "◇ 이근조 : 인력 감축이 시작된 거는 22년 말에 정부에서 공공기관들 혁신 계획들을 좀 확정을 했고요. 그때 기능 조정이라든지 인력 효율화 자산 정비 이런 것들을 좀 결정을 했습니다. 이 중에서 철도공사가 인력 부분에서 1566명을 줄이겠다고 발표를 했고, 그러다 보니까 사실은 인력을 감축해야 되는 요소가 있는데 저희가 그럴 수 없는 상황들이 발생하니까 신규 개통되는 노선들의 외주화들을 공사가 진행하려고 하고 있는 상황입니다. \n",
      "◆ 조태현 : 알겠습니다. 여러 가지 지금 문제가 겹쳐 있는 것으로 보이는데 결국에 노조는 지금 회사 쪽에 문제가 있다. 파업에 이르게 된 근본적인 원인은 회사 쪽에 있다, 이렇게 보시겠죠? \n",
      "◇ 이근조 : 네 그렇죠. 회사 쪽에 있다고 보고 있고 사실 공공기관, 공기업이다 보니까 좀 어려움도 있는 것 같아요. 사실은 정부 정책의 부분들이 있어서 아무래도 정책을 결정하는 국토부나 기재부들. 특히 기재부에서 관련한 내용들을 많이 결정하고 있는데 이 내용들을 좀 적극적으로 나오셔서 중간에 가능한지, 어려움은 없는지 확인하고 조정들을 해주셔야 되는데 그런 조정의 역할들이 거의 없다 보니까 노사 간의 갈등이 좀 이렇게 치닫게 되는 것 같습니다. \n",
      "◆ 조태현 : 알겠습니다. 눈치만 보고 조정 기능을 제대로 못하고 있다. 상황은 알겠고요. 지금 서울 지하철 노조 역시 다음 달에 총파업을 예고한 상태잖아요. 이렇게 철도 노조랑 양쪽이 같이 파업을 진행하는 상황 흔치 않았던 것 같은데 양쪽이 같이 파업을 한 원인은 어떻게 보고 계십니까? \n",
      "◇ 이근조 : 저희가 특별히 맞춘 건 아니고 사실 공공기관이 보통 연말에 정산들을 하잖아요. 회계가 끝나고 임금도 마찬가지로 12월쯤이 되면 임금이 마무리되고 정산이 되어야 하는 일정들이 존재를 해요. 그러다 보니까 임금 교섭들이 보통 11월이나 12월 이렇게 몰리게 되고 그러면서 일정도 좀 비슷하게 간 것 같고요. 다만 이 내용들이 좀 유사함들이 존재하는데 이거는 정부에서 가지고 있는 정책들이 있는 거죠. 저희 철도공사랑 비슷하게 서울교통공사도 인력 감축이나 외주화 이런 부분들이 많이 남아 있고 그런 부분들이 현장에서 철도를 책임지는 노동자들 입장에서는 안전상의 위험이나 공공성에 문제가 있다 이런 부분들을 같이 유사하게 얘기하는 것 같습니다. \n",
      "◆ 조태현 : 알겠습니다. 지금까지 상황을 파악해 봤고요. 이 부분에도 한번 짚어봐야 될 것 같습니다. 지금 철도노조에서 준법 투쟁을 닷새째 진행을 하고 있는데요. 이렇기 때문에 출퇴근에 지하철을 이용하는 직장인들이 피해를 보고 있다 이런 소식도 전해지고 있거든요. 열차 지연 상황은 지금 어떻습니까? \n",
      "◇ 이근조 : 일단은 그 부분 되게 죄송하게 생각을 하고 저희는 안전 규정을 지키는 안전 일터 지키기다 이렇게 하고 있는데 많은 불편이 발생한다고 저희도 알고 있습니다. 그래서 청취자분들이나 시민 분들께 많은 이해를 부탁드리고, 약간 좀 덧붙여서 얘기드릴 것은 열차가 지연되거나 그러면 역에서 지원 증명서 이런 것도 발급해 드리거든요. 그래서 회사 출근하실 때 좀 문제가 되면 그런 거 받으시면 좋겠습니다. 지금 상황은 그러니까 크게는 10~20분 지연되거나 1시간 지연되는 열차도 있는 걸로 저희도 얘기를 듣고 있고 대략 한 40% 수준에서 지연들이 발생하기도 한다 이렇게 확인은 하고 있습니다. \n",
      "◆ 조태현 : 12월에 총파업에 정말 돌입을 하게 된다고 봤을 때는 지금보다 열차 지연이 더 많아지고 피해도 더 커지지 않을까요? \n",
      "◇ 이근조 : 좀 그런 문제가 발생을 하는데요. 좀 더 얘기를 드리면, 이번 열차 지연 같은 경우도 마찬가지인데, 저희가 특별한 걸 더 하고 있는 게 아니거든요. 사규에 따라서 하고 있고, 기관사들이나 이런 분들은 쉬는 날 나와서 일을 하지 말자 이렇게 말하고 있는 건데, 사실 철도가 쉬는 날 기관사들이 나오지 않으면 열차를 정상적으로 운행할 수가 없어요. 저희가 기관사나 차장분들이 나오지 않으면 본사나 지역본부 스태프들이, 관리자들이 와서 열차를 타야만 운행되는 수준. 그리고 다른 현장에서도 마찬가지로 인력이 부족해서 되게 빡빡한 수준에서 지금 열차가 돌아가고 있거든요. 이런 상황에서 앞서 얘기했듯이 인력을 줄이고 월급도 줄이고 이런 상황이 계속 중첩되다 보니까 이런 문제를 해결하지 않으면 결국은 어느 곳에서든 큰 문제가 발생할 수 있다 이렇게 생각을 하고 있고 그 점에서 이 문제를 지금 저희가 안전 일터 지키기라든지 이런 걸 좀 알리고 있는 상황입니다. 가능한 파업 전까지는 기자회견을 하기는 했지만 이 문제들이 해결돼야 된다 이렇게 생각하고 있습니다. \n",
      "◆ 조태현 : 알겠습니다. 말씀해 주셨지만 쟁의라는 건 노동자의 권리고요. 이게 정당한 쟁의인가 이런 부분은 청취자분들께서 판단을 해보시는 게 좋을 것 같습니다. 오늘 인터뷰 관련해서 철도공사 그리고 국토부 정부의 입장도 들어보는 시간도 한번 마련해 보도록 하겠습니다. 지금까지 이근조 전국철도노조 정책기획실장과 함께 이야기 나눠봤습니다. 오늘 말씀 고맙습니다. \n",
      "◇ 이근조 : 네 감사합니다.\n",
      "YTN 김세령 (newsfm0945@ytnradio.kr)\n",
      "[저작권자(c) YTN 무단전재, 재배포 및 AI 데이터 활용 금지]\n",
      "\n",
      "------------------------------\n",
      "뉴스제목: 금융시장 휘청, 수출시장 먹구름…‘트럼프 스톰’에 흔들리는 한국 경제\n",
      "------------------------------\n",
      "뉴스내용: \n",
      "원-달러 환율 1400선 돌파. 코스피 2400선으로 하락. 비트코인 사상 최고가 기록.\n",
      "도널드 트럼프 미국 대통령 당선자가 불러온 ‘트럼프 스톰’의 영향이 거셌다. 미국 대선 이후 자산 시장에서는 승패가 뚜렷하게 갈렸다. 대표적 승자는 테슬라와 비트코인이다. 미 최대 전기차업체 테슬라의 최고경영자(CEO) 일론 머스크는 선거 내내 트럼프를 전폭 지지했고, 트럼프 당선 이후에는 새 행정부의 ‘정부효율부’ 수장으로 임명됐다. 이 영향으로 대선 이후 테슬라 주가는 40% 가까이 급등했다.\n",
      "비트코인도 연일 최고가 기록을 갈아치우고 있다. 미 가상화폐 거래소 코인베이스 시세를 보면, 2024년 11월19일(현지시각) 1비트코인은 9만4076달러를 넘어서며 사상 처음 9만4천달러 대에 진입했다.\n",
      "반면 코스피는 연일 연저점을 찍고 있다. 11월13일 코스피는 전날보다 2.64% 내린 2417.08에 장을 마쳐, 종가 기준 연저점을 찍었다. 11월15일에는 지난 8월 미국발 경기침체 우려로 주가가 폭락했던 ‘블랙먼데이’ 이후 처음으로 장중 2400선을 내주기도 했다. 트럼프 당선 이후 유럽과 아시아 증시 전반이 하락했지만, 한국 증시는 유난히 하락 폭이 컸다. 트럼프 행정부가 관세 인상 등 적극적인 자국우선주의 정책을 펼칠 것으로 예상되는 상황인 만큼, 대미 수출 비중이 높은 한국 경제 특성이 영향을 미쳤다는 분석이 나온다.\n",
      "외국인 투자자는 계속해서 한국 증시를 이탈하고 있다. 11월14일 기준 외국인이 보유한 코스피 주식 시가총액은 2024년 최저치를 찍었다. 637조7200억원으로 전체 시총(1972조6120억원) 가운데 32.33%를 차지했다. 외국인 투자자 이탈은 국내 증시 불안을 가중하고, 국내 투자자 심리를 위축시키는 요인으로 작용한다.\n",
      "‘트럼프 트레이드’(트럼프 수혜 자산 투자)가 이어지면서 달러 가치는 상승했다. 11월12일 서울 외환시장에서 오후 3시30분 기준(주간 종가) 원-달러 환율은 ‘심리적 저항선’인 1400원을 돌파했다. 1400원은 과거 외환위기와 글로벌 금융위기 등이 닥쳤을 때나, 2년 전 미국이 가파르게 금리를 인상하며 ‘킹달러’를 기록했던 시기의 원-달러 환율 수준이다.\n",
      "또 다른 악재도 더해졌다. 미 재무부는 11월14일(현지시각) 한국을 1년5개월 만에 환율관찰 대상국으로 재지정했다. 조건은 △150억달러 이상의 대미 무역 흑자 △국내총생산(GDP)의 3% 이상에 해당하는 경상수지 흑자 △12개월 중 최소 8개월간 달러를 순매수하고 해당 금액이 GDP의 2% 이상인 경우 등이다. 이 가운데 세 가지에 모두 해당하면 심층분석 대상이 되며, 두 가지에 해당하면 관찰대상국이 된다.\n",
      "미 재무부는 ‘상당한 경상수지 흑자’와 ‘대미 무역흑자’를 재지정 이유로 꼽았다. 2024년 6월 말 기준 한국의 연간 경상수지 흑자는 GDP의 3.7%를 기록했다. 1년 전의 0.2%에서 급증한 것인데 한국의 기술 관련 제품에 대한 상품 흑자가 증가했기 때문이다. 한국의 대미 무역 흑자는 2023년 380억달러에서 500억달러로 늘었다. 미국의 환율관찰국 지정 요건을 세 배 이상 웃돈 것이다. 자동차와 반도체, 배터리 수출 등이 흑자를 견인했다.\n",
      "트럼프 당선자가 대미 무역수지 불균형을 해소하겠다고 공언한 가운데, 재무부의 공식적인 감시 대상으로 지목됐다는 점에서 대미 통상 압력이 따를 수 있다. 관세청 자료를 보면, 2024년 1~10월 대미 무역수지 흑자 규모는 443억1200만달러로 역대 최대 규모에 달한다. 이를 빌미로 트럼프 당선자가 관세율 인상, 미국산 에너지 수입 확대 등 경제적 압박에 나설 토대가 마련됐다는 분석도 있다. 앞서 트럼프 당선자는 재선 도전 공약집 ‘어젠다 47’을 통해 “일본과 한국에서 들어오는 값싼 수입품으로 미국 자동차 산업이 파괴되고, 미국 심장부 마을과 도시 전체가 황폐해졌다”고 밝힌 바 있다. 그러면서 모든 수입품에 10% 관세를 도입하며, 무역 흑자가 많은 나라일수록 관세를 더 매기겠다는 공약을 내걸었다.\n",
      "트럼프 2기 행정부가 정책 우선순위에 두고 있는 보편관세(수입품에 관세 10~20% 일괄 부과)가 현실화하는 등 통상 압박이 이뤄질 경우, 강달러(원화 약세)가 장기화하고 한국의 수출과 무역흑자 규모는 감소할 수밖에 없다. 대외경제정책연구원은 보편관세가 시행될 경우 한국의 총수출액이 최대 448억달러(약 61조7천억원) 줄고 실질 GDP는 최대 0.67% 감소할 수 있다고 추정한 바 있다.\n",
      "인플레이션감축법(IRA)도 관건이다. IRA는 조 바이든 행정부 때 도입된 세액공제다. 미국에서 생산된 전기차를 구매하는 소비자에게 대당 최대 7500달러(약 1050만원)의 보조금을 지급하는 내용이 포함돼 있다. 탄소를 배출하는 내연기관차를 줄여 기후위기에 대응하고, 미국 내 전기차·배터리 업체 경쟁력을 키워 전기차 시장을 중국에 내주지 않기 위한 목적이다. 트럼프 당선자는 대선 기간 IRA를 두고 ‘녹색 사기’(New green scam)라며 부정적인 입장을 밝혀왔다. 탄소 감축을 목표로 하는 파리기후변화협약 탈퇴도 예고한 트럼프 당선자는 보조금까지 줘가며 전기차를 육성할 필요가 없다고 주장한다.\n",
      "트럼프 당선자는 외국 기업들이 미국에 공장을 짓게 하려면 보조금으로 유인하는 대신 관세 부과로 압박해야 한다는 입장이다. 이에 IRA를 폐지해 자신이 주장한 대규모 감세(법인세, 개인 소득세 인하 등)에 필요한 수조달러의 재원을 마련할 계획이다. IRA 보조금이 폐지될 경우, 전기차 수요가 감소하고 이에 따라 배터리 수요도 감소하게 된다. 국내 완성차·배터리 기업의 우려가 큰 상황이다.\n",
      "특히 업계의 관심사는 첨단제조세액공제(AMPC) 폐지 여부다. AMPC는 IRA에 포함된 내용으로, 미국에서 배터리를 생산·판매하는 기업에 ㎾h당 최대 45달러의 세액공제를 제공하는 내용이다. AMPC까지 폐지될 경우 국내 기업이 받는 파장은 더 커진다.\n",
      "이 세액공제를 위해 수십조원을 들여 미국에 공장을 세웠거나 세우고 있는 엘지(LG)에너지솔루션·삼성에스디아이(SDI)·에스케이(SK)온 등 국내 배터리 업체들은 직격탄을 맞는다. 보조금을 받기 위해 조지아주에 전기차 공장을 지어 시범 가동에 들어간 현대차그룹도 마찬가지다. 이들은 AMPC로 캐즘(일시적 수요 둔화)에 따른 실적 둔화를 만회하고 있었다. 한 예로, 엘지에너지솔루션의 지난 2분기 영업이익은 1953억원이었는데, 미국에서 받은 AMPC 4478억원을 제외하면 2525억원 적자였다.\n",
      "IRA가 폐지되거나 혜택이 축소되면, 우리 기업이 받지 못하게 되는 보조금과 미국 공장 투자 금액을 포함해 최대 수십조원이 허공에 날아갈 수 있다. 미국 내 전기차 수요 감소로 인해 캐즘이 장기화할 우려도 있다. 트럼프가 IRA 폐지를 계획하고 있다고 11월14일(현지시각) 로이터 통신이 보도한 이후 엘지에너지솔루션(-12.09), 삼성SDI(-6.81), SK이노베이션(-6.43) 등 국내 배터리 관련주는 큰 폭으로 하락했다.\n",
      "금융당국은 11월18일 2천억원 규모의 밸류업 펀드를 투입하겠다고 밝혔다. 트럼프 트레이드 영향으로 인한 한국 증시 이탈을 막겠다는 취지다. 시장에서는 금융당국이 나서는 것 자체가 위험성을 보여주는 신호라는 의견이 나온다. 단기 효과책보다 산업 편중이 크고 수출의존도가 높아 대외 충격에 취약한 체질을 개선해야 한다는 지적이 제기된다. 전문가들은 트럼프가 아직 대통령으로 취임하지 않았고 구체적인 정책이 발표되지 않았기 때문에 당분간은 현재처럼 수출 전망이 어두운 상태가 유지될 것으로 본다.\n",
      "이주빈 한겨레 기자 yes@hani.co.kr\n",
      "\n",
      "------------------------------\n",
      "뉴스제목: 전기차 바퀴가 '트럼프의 늪'에 빠지는 날 [분석+]\n",
      "------------------------------\n",
      "뉴스내용: 자국 산업 보호, 반反친환경차 정책, 중국산 수입품 제한과 관세 부과…. 재집권에 성공한 트럼프의 정책적 방향이다. 세계 각국이 트럼프의 재집권에 예민한 반응을 보이는 이유다. 우리나라 역시 마찬가지다. 트럼프 2기 정부의 정책에 따라 '수출 동력'이 약해질 가능성을 배제할 수 없다. 특히 대미對美 수출 1위 품목(2023년 기준)인 자동차 부문은 따져볼 게 많다.\n",
      "\n",
      "내년 1월 돛을 올리는 트럼프 2기 정부. 도널드 트럼프의 재집권은 많은 영역에서 기대보단 우려를 사고 있다. 자동차 부문도 그렇다. 연속 집권이 아니어서 집권 초반에 다양한 시행착오도 배제할 수 없다. 이에 따라 다양한 시나리오에 따른 대안을 마련할 필요가 있다.\n",
      "■ 이슈➊ 반反친환경차 = \"전기차와 친환경 정책은 사기다.\" 트럼프 당선인이 줄기차게 해온 주장이다. 트럼프 당선인은 취임과 동시에 전기차 의무 판매제와 전기차ㆍ배터리 보조금 지원 정책을 완전히 취소하겠다고 공언하기도 했다. 당연히 미국 내 친환경차 활성화 흐름에도 제동이 걸릴 전망이다. \n",
      "인플레이션 감축법(IRA)에도 변화가 생길 가능성이 높다. 일례로 트럼프 당선인의 정권 인수팀은 IRA에 근거한 전기차 구매 세액공제(최대 7500 달러)의 폐지를 준비하고 있는 것으로 알려졌다. IRA를 폐지하려면 의회의 동의를 구해야 한다는 점을 감안해 플랜B를 모색하고 있다는 말도 나온다. 전기차 구매 세액공제가 최소한 개정이라도 될 수 있다는 거다. \n",
      "이런 상황은 2022년 76억 달러(약 10조원)를 들여 미국 조지아주에 전기차 공장을 짓고, 올해부터 전기차 생산을 시작한 현대차그룹에 예민한 변수로 작용할 수 있다. \n",
      "트럼프 2기 정부가 반反전기차 정책을 편다면 현대차그룹은 전기차 대신 하이브리드차를 생산하는 방식으로 전환하는 걸 진지하게 고려해봐야 한다. 그러면 미국 내에서 생산한 신차는 모두가 '메이드 인 USA'인 만큼 트럼프의 미 우선주의(America first)도 피해갈 수 있다. \n",
      "■ 이슈➋ 보편적 관세 = 다만 국내에서 생산한 완성차의 대미對美 수출은 고민이 많아질 수밖에 없다. 트럼프 당선인은 대미 무역에서 흑자를 내는 국가에 10~20%의 보편적 관세를 부과하겠다는 의지를 내비쳐 왔기 때문이다. 이는 수출 완성차의 가격경쟁력이 떨어질 수 있음을 시사한다. \n",
      "이에 따라 우리 정부는 대미 흑자를 줄이기 위해 미국산 석유와 가스 등 에너지 수입을 늘려 보편적 관세 부과 대상에서 빠지는 방법을 고민하고 있는 듯하지만, 자동차 부문에선 좀 더 치밀한 대안이 필요하다. 자동차는 대미 수출 1위(2023년) 품목이어서다.\n",
      "게다가 현대차그룹의 입지가 부쩍 단단해졌다는 점도 역설적이지만 우려스러운 부분이다. 견제를 받기 십상이기 때문이다. 2023년 현대차그룹의 미국 시장 점유율은 10.7%였다. 같은 기간 판매량도 전년 대비 12.3% 증가했다. 트럼프가 '우방국이라도 예외를 두지 않겠다'고 선언한 만큼, 미국 완성차업체들의 견제가 심해질 수밖에 없다. \n",
      "\n",
      "\n",
      "■ 이슈➌ 기울어질 운동장 = 트럼프 2기 정부가 반친환경차 정책을 편다고 해서 모두가 같은 타격을 받는 건 아니다. 이번 미국 대선에서 트럼프를 적극적으로 지지했던 일론 머스크의 테슬라는 반친환경차 정책에서 제외될 가능성이 높다.\n",
      "트럼프가 은혜를 갚겠다고 마음먹는다면 테슬라가 자율주행 운행허가 등 제도적 혜택을 받을 수도 있다. 똑같은 전기차 생산업체라고 해도 각각의 기업이 느끼는 타격감은 완전히 다를 거란 얘기다. \n",
      "운동장이 기울어진다면 현대차그룹의 고민도 깊어질 게 뻔하다. 경쟁자인 테슬라가 '트럼프 날개'까지 단다면, 어떤 일이 벌어질지 몰라서다. 이 때문에 품질 좋은 저가형 전기차의 보급은 현대차그룹으로선 반드시 통과해야 하는 관문이기도 하다. '3000만원 초반의 가성비 좋은 전기차' 생산은 이제 기본이 돼야 한다는 의미다. \n",
      "■ 이슈➍ 미중 갈등 = 트럼프 2기 정부의 등장에 따른 간접적 영향도 살펴봐야 한다. 그 가운데 가장 우려스러운 건 중국과의 갈등 심화다. 미국이 중국산 제품에 60% 수준의 관세를 부과할 거라는 얘기가 심심찮게 흘러나온다.\n",
      "특히 트럼프 1기 정부에서 중남미 특사와 미주개발은행 총재를 지낸 마우리시오 클래버 커론은 최근 \"대규모 중국 자본이 들어간 페루 창카이 항을 거치는 모든 물품에 60%의 관세를 매겨야 한다\"는 주장을 펴기도 했다. 우회적으로 유입되는 중국산 제품까지 차단할 수 있다는 뜻이다. \n",
      "이처럼 중국산 전기차ㆍ배터리가 미국 시장에서 막히면 미국 외 시장에서 중국산 전기차ㆍ배터리는 더 많아진다. 그에 따라 시장 가격이 하향조정될 가능성이 높다. 미국 외 해외 시장에서의 경쟁 여건이 더 악화할 것이란 얘기다. 따라서 이를 염두에 둔 업계와 정부의 대안이 필요하다.\n",
      "[※참고: 트럼프 2기 행정부가 중국산 원료의 사용을 제한하는 조치를 취할 수도 있다. 물론 우리 배터리를 제한하는 조치를 취하면 결국 미국 전기차 제작에도 영향을 받기 때문에 가능성은 낮다. 하지만 불확실성이 있는 만큼 원료 수입처 다변화도 고려해야 한다.]\n",
      "\n",
      "\n",
      "■ 이슈➎ 내연기관차 부활 = 마지막 변수는 내연기관차 중심으로 시장이 재편될 가능성도 없지 않다는 점이다. 트럼프 당선인은 친환경차와 기후위기대응에 부정적이다. 미국에 석유자원이 많다는 점에 근거한 생각이다.\n",
      "트럼프 2기 정부에서 전기차 시장의 성장이 더딜 것이란 전망이 나오는 이유다. 전기차와 배터리 업계를 주도하고 있는 우리로선 손실이 커질 수밖에 없지만, 호재도 따져봐야 한다. 되레 내연기관차가 조명을 받으면 우리도 기회를 포착할 수 있다. \n",
      "이처럼 트럼프 2기 정부의 출범에 대비해 우리 정부와 기업은 따져봐야 할 게 많다. 철저한 분석을 통해 현명한 대안을 마련해야 한다. 언급했듯 대미 수출이 1위인 자동차 부분은 특히 그렇다. 어쩌면 지금이 골든타임일지 모른다. \n",
      "김필수 대림대 교수autoculture@hanmail.net\n",
      "김정덕 더스쿠프 기자juckys@thescoop.co.kr\n",
      "\n",
      "------------------------------\n",
      "뉴스제목: 추경에 선긋던 尹정부…경기부진에 정책기조 전환하나\n",
      "------------------------------\n",
      "뉴스내용: \n",
      "(세종=뉴스1) 전민 김정률 손승환 기자 = 추가경정예산(추경)안 편성에 줄곧 선을 긋던 윤석열 정부의 정책기조가 변화할 조짐을 보이고 있다. 경기부진과 커지는 대내외 불확실성에 대통령실이 추경 편성 가능성을 언급하면서 줄곧 추경에 부정적이었던 정부 입장도 변화할 가능성이 높아졌다.\n",
      "22일 대통령실 고위 관계자는 통화에서 \"추경을 포함한 재정의 적극적인 역할을 배제하지 않는다\"고 밝혔다.\n",
      "구체적인 시기는 \"정해진 바 없다\"고 밝혔지만 그간 줄곧 추경에 대해 보였던 부정적 입장이 선회할 가능성을 시사한 것이다.\n",
      "이 관계자는 \"양극화 타개라는 (임기)후반기 중요한 목표를 위해 필요한 부분이 있으면 재정을 쓰지만, 방만하게 써서는 절대 안 된다\"며 \"정책의 효과나 정책 비용을 검토해서 해야 하는데, 현재까지 그런 것들은 결정이 안 됐고, 여러 가지를 검토하는 단계\"라고 설명했다.\n",
      "다만 기획재정부는 \"현재 2025년 예산안은 국회 심사 중이며, 내년 추경예산 편성을 검토하고 있지 않다\"고 밝혔다.\n",
      "윤석열 정부는 출범 첫해인 2022년 5월 코로나로 피해를 본 소상공인에 대한 59조 원대의 추경이 처음이자 마지막이었다. 이후 건전재정을 강조해 온 정부는 야권의 민생지원금 지급을 위한 추경 편성 요구에 부정적인 입장을 밝혀왔다.\n",
      "지난달에도 최상목 부총리 겸 기획재정부 장관은 종합감사에서 \"국가 채무를 늘리는 것은 미래세대에 부담이 되고 대외 신인도가 악화할 수 있다\"며 \"국채를 발행하지 않고 정부 내 가용재원을 활용하는 것이 부작용을 최소화하는 방안\"이라고 강조했다.\n",
      "그러나 부진한 내수가 좀처럼 살아나지 않고 있으며, 경기회복을 이끌어 온 수출에도 먹구름이 끼고 있다.\n",
      "지난 3분기 한국의 국내총생산(GDP) 성장률은 전 분기 대비 0.1%에 그쳤다. 정부나 한국은행의 전망치를 밑돌았는데, 특히 수출이 0.4% 역성장했다.\n",
      "이에 따라 정부와 한은은 경제성장률 전망치 하향을 시사했으며, 국내외 기관들도 전망치를 하향했다. 이달 한국개발연구원(KDI)과 국제통화기금(IMF)은 올해 성장률을 2.2%로 0.3%포인트(p) 내렸고, 내년 성장률은 2.0%로 각각 0.1%p, 0.2%p 내렸다.\n",
      "최근에는 트럼프 당선에 따른 관세·무역정책 변화 전망으로 우리 경제가 타격을 입을 수 있다는 우려도 커지고 있다. 내년도 잠재성장률(2%)을 밑도는 경제 성적표를 기록할 것이라는 우려가 커진 상황이다.\n",
      "최근 글로벌 리서치 업체 TS 롬바르드는 한국이 멕시코에 이어 트럼프 2기 정책의 가장 큰 타격을 입을 것으로 전망했다.\n",
      "국제통화기금(IMF)은 최근 우리나라와 연례협의 이후 보고서에서 \"경제 전망을 둘러싼 불확실성이 높은 상황이며, 위험은 하방 리스크가 더 큰 편\"이라고 밝혔다.\n",
      "상황이 이렇자 추경은 '불가피한 선택'이라는 분석이 나온다. 정부의 내년도 예산안 상 총지출 증가율은 3.2%로 낮은 수준에 머물러 경기 회복을 위한 재정적 뒷받침이 부족하다는 지적이 제기된 바 있다.\n",
      "김정식 연세대학교 경제학부 명예교수는 \"금리인하를 하지 못하면서 고금리와 대출규제가 지속되는 상황을 그대로 두면 금융위기 등이 올 가능성이 상당히 있다\"며 \"이런 상황에 재정도 늘리지 않으면 개방경제에서 금융위기나 외환위기가 오게 돼 있다\"고 강조했다.\n",
      "김우철 서울시립대학교 세무학과 교수는 \"한은이 금리인하에 돌입한 상태지만, 내수를 중심으로 경기가 후퇴한 상황\"이라며 \"정책적 판단에 따라 추경 편성을 고려할 수 있을 것이며, 추경 편성 필요성이 인정된다\"고 했다.\n",
      "올해와 지난해 대규모 세수결손 역시 재정적 부담이 된다. 지난해 56조 4000억원에 이어 올해도 약 29조 6000억원 규모의 세수가 부족할 것으로 예상되면서 정부는 세수 재추계에 나서기도 했다.\n",
      "이같은 세수결손은 정책적 재량을 줄이는 요인이며, 추경이 필요한 이유가 되기도 한다. 하지만 정부가 대규모 세수결손에도 건전재정만을 강조하다가 재정투입을 실기했다는 비판도 제기된다.\n",
      "우석진 명지대학교 경제학과 교수는 \"올해 5월쯤 세입이 안 좋은 것은 다 알았는데도, 사실상 정부가 희망고문을 한 것\"이라며 \"추경은 5월부터 필요했으며, 늦어도 9월 세입 재추계를 할 때 해야 했다\"고 지적했다.\n",
      "min785@news1.kr \n",
      "\n",
      "------------------------------\n",
      "뉴스제목: 선도지구 지정 앞두고 매물 쌓이는 1기 신도시…집값도 하락세\n",
      "------------------------------\n",
      "뉴스내용: \n",
      " [서울=뉴시스] 고가혜 기자 = 다음주 첫 재건축 선도지구 발표를 앞두고 있는 1기 신도시(분당·일산·평촌·중동·산본) 5곳에서 아파트 매물이 쌓이고 있는 것으로 나타났다. 아파트 공급 확대를 위한 정부의 각종 규제 완화에도 불구하고 최근 급등한 공사비 및 낮은 용적률로 인해 재건축 사업성이 떨어지고, 공공기여 등으로 인한 부담도 상당하기 때문으로 풀이되고 있다. \n",
      "22일 부동산 빅데이터 업체 '아실'에 따르면 경기 성남시 분당구의 아파트 매물은 이날 기준 4620건으로 3개월 전(4303건) 대비 7.3% 증가했다.\n",
      "또 경기 고양시 일산 서구(4253건→4727건) 및 동구(4063건→4288건)의 매물 또한 각각 11.1%, 5.5%씩 증가했다. 두 자치구를 합산하면 일산신도시 매물은 8316건에서 9015건으로 8.4% 증가한 것이다.\n",
      "아울러 평촌 신도시가 위치한 안양 동안구의 경우 같은 기간 매물이 3683건에서 4165건으로 13.0% 증가했으며, 산본 신도시가 있는 경기 군포시도 2699건에서 2974건으로 10.1% 늘었다. 부천시 원미구(중동신도시) 역시 매물이 3651건에서 3795건으로 3.9% 늘었다.\n",
      "실거래가가 하락세로 전환된 지역도 나타났다. 한국부동산원의 주간 아파트 가격 동향에 따르면 11월 셋째 주 경기 성남시 분당구의 아파트값은 0.01% 하락했다. 일산동구와 일산서구의 아파트값도 각각 0.01%, 0.03%씩 떨어졌다. \n",
      "\n",
      " 앞서 정부는 이달 중 1기신도시 선도지구를 적게는 2만6000가구, 많게는 3만9000가구까지 선정해 발표하겠다고 예고한 바 있다. 각 신도시별로 ▲분당 8000가구 ▲일산 6000가구 ▲평촌 4000가구 ▲중동 4000가구 ▲산본 4000가구 등 총 2만6000가구를 기본으로 제안서를 접수했다. \n",
      "실제 지난 9월 접수 마감 결과, 1기 신도시 162개 특별정비예정구역 중 61%에 해당하는 99개 구역이 제안서를 제출하는 등 재건축 단지들의 경쟁이 과열 양상을 보이고 있다. 선도지구에 선정되면 ▲안전진단 완화·면제 ▲용도지역 변경 ▲용적률 상향 ▲인허가 통합심의 ▲리모델링 세대수 증가 ▲도정법 등 타법상 정비구역 지정과 같은 다양한 혜택을 받을 수 있기 때문이다.\n",
      "다만 경쟁이 가장 치열했던 분당에서는 오히려 선도지구 발표를 눈앞에 앞두고 집주인들의 고심이 깊어지면서 매물이 늘어나고 있다는 분석이다. 유력 단지들이 대부분 95% 동의율 항목 만점 기준을 달성한 분당은 사실상 '공공기여 비율'에 따라 지정 여부가 갈릴 것이라는 관측이 나오는데, 과도한 기부채납은 오히려 재건축 자체의 사업성을 떨어뜨릴 가능성이 있기 때문이다. \n",
      "또 일산에서는 재건축을 통해 용적률이 기존 169%에서 최대 300%까지 올라갈 것으로 예상되고 있지만, 중동(350%), 평촌·산본(330%), 분당(326%) 등 다른 신도시 대비 허용 용적률이 가장 낮다 보니 사업성 향상을 위해 이를 더 올려달라는 요구가 제기되고 있는 것으로 알려졌다. \n",
      "\n",
      " 한편 1기 신도시 정비사업 담당 부처에서도 이번 선도지구의 재건축 성공 여부는 시세·추가분담금에 따라 달라질 수 있다는 분석을 내놓고 있다. 이한준 한국토지주택공사(LH) 사장은 전날 진행된 출입기자 간담회에서 \"1기 신도시 중 지정 후 정상적으로 굴러갈 선도지구가 얼마나 될까 싶다\"며 \"(추진 가능성을) 냉정히 봐야 한다고 생각한다\"고 말했다.\n",
      "그는 \"지금은 선도지구 선정을 앞두고 여기저기에서 손을 들고 추진하고 있지만 지정 후 자기부담금 규모에 따라 (일부 지역은) 추진이 굉장히 제한적일 수 있다\"며 \"분당은 확실하게 진행될 가능성이 큰데 다른 지역은 부담금이 어떻게 나올지 몰라서 좀 더 고민이 필요할 듯 하다\"고 지적했다.\n",
      "아울러 이 사장은 \"선도지구가 진행될 가능성이 가장 높은 분당은 이주대책을 정밀하게 할 필요가 있다\"며 \"최근 성남시장과 분당 내 유휴부지를 최대한 활용해보자고 협의했다. 오리역 일대 LH 사업본부, 마트 부지, 법원부지, LH 사옥 등 상당수 주택 공급이 가능할 것 같아 그 일대를 살피고 있다\"고 덧붙였다. 일산은 고양 창릉신도시, 산본은 산단 인근 주택단지를 통해 이주 수요를 수용할 수 있다고 봤다.\n",
      "☞공감언론 뉴시스 gahye_k@newsis.com \n",
      "\n",
      "------------------------------\n",
      "뉴스제목: [채널A 경제시그널 전문]100% 공제?…이번 주말, 연말정산 점검하라!\n",
      "------------------------------\n",
      "뉴스내용: \n",
      "채널A <경제시그널> 일시 : 2024년 11월 22일 (금) \n",
      "<돈워리 돈워리> \n",
      "◇ 조현선 : 모르면 손해, 알아두면 이득! 한 주간의 경제 뉴스 중에 중요한 것만 쏙! 쏙! 뽑아드립니다. <경제시그널> 경제산업부 차장 조현선입니다. 밤사이 미국 증시 상황부터 짚어드릴게요. 간밤 뉴욕증시 상승 마감했습니다. 마감 직전에 엔비디아 상승이 반도체 섹터를 이끌었고요. \n",
      "암호화폐에 적대적이던 게리 겐슬러 미국 증권거래위원회 위원장이 사임을 발표하면서 비트코인, 한때 9만 9000달러를 돌파해서 또 최고치를 찍었습니다. 올해도 한 달 남짓 남았습니다. 이맘때면 연말정산 떠오르죠. 내년 1월까지 더 많은 환급 세액을 받기 위해서 남은 올해 무엇을 하면 될지 13월의 월급을 챙기는 꿀팁 <돈워리 돈워리>에서 알려드립니다. \n",
      "국내 1위인 철강회사 포스코가 45년 동안 가동한 포항제철소 1선재공장 문을 닫았습니다. 현대제철도 포항2공장 폐쇄 추진 중이죠. 위기에 빠진 철강업계. <E-코너>에서 진단해 보겠습니다. 돈 걱정 없는 그날까지 함께하시죠. 첫 코너 <돈워리 돈워리> 시간입니다. 연말이 다가오니까 아무래도 연말정산 관련 뉴스가 많아지고 있다는 거 알고 계실 텐데요. \n",
      "같은 연봉을 받아도 더 내는 것 같고 덜 받는 것 같고 이런 느낌이 드실 텐데. 오늘은 이장원 세무사님 모시고 연말정산, 남은 올해 어떻게 해야 하는지 알아보겠습니다. 안녕하세요? \n",
      "◆ 이장원 : 반갑습니다. \n",
      "◇ 조현선 : 가장 중요할 때일 것 같기도 하고 세무사님은 연말정산 완벽하게 하실 것 같은데 이맘때 팁 같은 거 있으세요? \n",
      "◆ 이장원 : 우선 막판에 허겁지겁하는 게 몇 가지 있습니다. 지금 상황에서도 내가 지금 공제를 추가로 받고 세금을 조금 더 줄일 수 있는 방안들이 있기 때문에 그것에 대해서 하나씩 좀 풀어서 말씀을 드리겠습니다. \n",
      "◇ 조현선 : 이게 우리가 매년 하고 있지만 저도 10년 넘게 하고 있는데 그냥 하는 거거든요, 사실. 연초에는 내년에는 꼭 잘해야지 해놓고는 또 연말되면 시간 맞추기 급급한데 우리가 일단은 정확한 정의를 알고 넘어가면 좋을 것 같거든요. 일단 연말정산이 있고 종합소득세가 있잖아요. 이 차이가 어떻게 돼요? \n",
      "◆ 이장원 : 우선 연말정산은 근로소득자분들이 하는 거예요. 그래서 근로소득자분들이 본인이 직접 다 신고를 한다는 건 사실상 너무 어렵다고 판단을 내렸고 근로소득자에게는 특별한 혜택을 주자. 말 그대로 근로를 하기 때문에 사업소득자랑 연관성이 있는 것에 대해서만 경비를 인정한다거나 그러면 사실 인정받을 게 거의 없잖아요. 그렇게 돼버리니까 연말정산이라는 근로소득자를 위한 계산법이 따로 있는 거고 그리고 직접 계산하면 말도 안 되죠. 몇천만 명이 신고를 해야 하기 때문에. \n",
      "◇ 조현선 : 그렇죠. 계산하기도 어렵잖아요. \n",
      "◆ 이장원 : 그래서 이거를 원천징수의무자. 대부분 이제 사업주죠. 사업주가 자료를 받아서 대신 신고를 해 줘요. 원천징수도 미리미리 했었으니까. 그런 면에서 연말정산은 2월 달에 하는 근로소득자의 종합소득세 신고라고 보시면 되고요. 그다음에 종합소득세 같은 경우는 개인사업자나. \n",
      "◇ 조현선 : 프리랜서? \n",
      "◆ 이장원 : 맞습니다. 프리랜서나 배달하시는 분들이 프리랜서로 사업소득자거든요. 거기다 기타소득자가 있을 수도 있고 때로는 다른 소득. 이자나 배당 소득이 많아서. 이런 분들은 종합소득세 신고를 5월에 직접 하는 거예요. 그런데 이제 근로소득 이외에 혹시나 부업을 하고 계신 분들은 다른 소득이 하나 더 있다. \n",
      "그러면 합쳐서 이분들도 5월 달에 종합소득세를 해야 하는 거죠. 어쨌든 연말정산은 근로소득자를 위한 세금 신고입니다. 그래서 본인의 근로소득자라고 하면 그 부분에 대해서 잘 챙기는 게 결국은 내가 환급을 받을 것이냐. 아니면 돈을 더 내야 하는 상황이 펼쳐지느냐. 이걸 구분해야 하는 거죠. \n",
      "◇ 조현선 : 사실 신고는 1월이거든요. 그렇죠? 연말이 지나서 1월인데 왜 지금부터 신경을 써야 하는지 모르는 분들도 있을 거예요. 이게 환급의 범위가 달라질 수 있어요? 신경 있는 거에 따라서? \n",
      "◆ 이장원 : 달라집니다. 확실히 달라지고요. 세금은 무조건 다양한 제가 강의를 갈 때마다 말하는 게 예방적 절세예요. 사건 다 펼쳐지고 나서 세금을 줄인다? 절대 못하는 거고. 그중에서 가장 중요한 건 연말정산도 결국은 1월 1일부터 12월 31일까지 내가 번 돈에 대해서 내는 세금을 계산하는 거거든요. 그런데 1월 달에 부랴부랴 작년 거 세금 내가 어떻게 줄이지? 이미 강을 건넜죠. \n",
      "◇ 조현선 : 늦었죠. \n",
      "◆ 이장원 : 늦어버렸어요. 아무리 바빠도 연말 12월 달은 사실은 너무 바빠요. 왜냐하면 송년회니 뭐니 많잖아요. \n",
      "◇ 조현선 : 맞아요. 마음도 바쁘고. \n",
      "◆ 이장원 : 그래서 저는 항상 11월에 제발 주말에 하루라도 시간을 내라. 오늘 금요일 좋잖아요. 그래서 오늘 좀 듣고 내일이나 일요일에 시간 하루 정도 내서, 연구해서 내가 세금 줄일 수 있는 것 좀 줄여보자고 접근을 하라고 꼭 권해드립니다. \n",
      "◇ 조현선 : 오늘 시청자분들 오늘 이 꿀팁을 들어서 주말 토, 일 동안 정리를 하기로 약속을 하고. 은근히 우리가 연말정산 잘 알고 있는 것 같지만 사실 용어부터 어렵거든요. 저도 사실 다시 찾아봤는데. 연말정산에서 소득공제, 세액공제, 이 공제의 종류가 나눠져 있잖아요. 이거를 쉽게 정리를 해 주세요. \n",
      "◆ 이장원 : 제가 아주 쉽게 말씀드리면, 소득공제 같은 경우는 세율을 곱하기 전에 금액이에요. 그러니까 우리나라가 세율이 6, 15, 24, 이렇게 돼 있는데 내가 소득공제를 100만 원 받았다. 특히나 많이 매몰되는 게 신용카드 소득공제세요. \n",
      "◇ 조현선 : 의외네요? \n",
      "◆ 이장원 : 신용카드 소득공제가 예를 들어서 나 이번에 200만 원 받았어. 그러면 세금이 200만 원 줄어든다고 생각을 하세요. \n",
      "◇ 조현선 : 그럴 수 있죠. \n",
      "◆ 이장원 : 정말 이 개념도 모르세요. 사회초년생인 분들은 더 모르시고. 소득공제는 200만 원인데 내가 적용되는 세율이 6%라고 그러면 12만 원이 줄어드는 거죠. \n",
      "◇ 조현선 : 12만 원. \n",
      "◆ 이장원 : 소득공제로써 6% 구간에서 12만 원이 깎이는 거예요. 정말 소액이 깎이는 건데 이게 내 세금을 다 좌지우지 한다고 생각하시는 경우가 있어요. 세액공제는 말 그대로 세액이 산정된 다음에 6, 15, 2를 곱한 다음에 금액을 바로 깎아주는 거예요. 세액공제는 즉각적 효과가 있죠. \n",
      "◇ 조현선 : 그러네요. 직접적으로 받을 수 있는 거기도 하네요. \n",
      "◆ 이장원 : 맞습니다. 그래서 월세 세액공제를 예를 들어서 50만 원을 받는다. 그러면 즉각적으로 나의 환급 금액이 50만 원 늘어난다고 보시면 되니까 오히려 더 큰 효과를 내가 받는구나라고 생각할 수 있죠. 소득공제와 세액공제의 용어만 공부를 해도 제가 봤을 때 오늘 방송 들으시는 분들은 크게 얻어가실 수도 있다. 제가 꼭 그걸 말씀드리고 싶습니다. \n",
      "◇ 조현선 : 세무사님, 보면 주말에 정리를 하라고 하셨는데 보니까 올해 연말정산 미리 보기 서비스. 15일부터 시작이 됐잖아요. 이게 조금 필요할까요? 주말 동안. \n",
      "◆ 이장원 : 아주 필요합니다. \n",
      "◇ 조현선 : 어떻게 필요해요? \n",
      "◆ 이장원 : 무조건 로그인부터 하십시오.. \n",
      "◇ 조현선 : 홈택스부터. \n",
      "◆ 이장원 : 국세청 홈택스를 한 번도 안 들어가보신 분들이 지금 제가 봤을 때는 태반이실 것 같아요. \n",
      "◇ 조현선 : 그때그때 하는 사람도 있을 거고요. \n",
      "◆ 이장원 : 맞아요. 결국은 국세청 홈택스라는 사이트에 로그인을 하면 본인이 기존에 어떤 것들을 연말정산을 했는지 과거 기록을 볼 수 있어요. 연말정산 미리 보기 서비스를 말씀 주신 게 1월부터 9월까지 내가 신용카드나 각종 금액을 얼마나 썼는지 나옵니다. 그리고 작년에 총 급여가 얼마였으니까 지금 그 기준금액으로 생각을 하면 당신이 얼마 정도를 더 써야 신용카드 소득공제 기준이 된다. 해서 신용카드 소득공제에 대해서 허와 실일 수 있는데 제가 말씀드릴 수 있는 게 총급여가 3000만 원이다. 그러면 25% 금액 이상을 써야만 그 금액에 대해서 일정 비율을 소득공제를 해줘요. 소득공제니까 아까 말씀드렸지만 내가 세율 구간이 낮으면 얼마 되지도 않아요. 제가 시뮬레이션을 돌려봤어요. 많은 곳에서 이제 물어보시는 게 신용카드가 15%고 그다음에 체크카드가 30%. \n",
      "현금영수증도 30%니까 2배나 하지 않냐. 그런데 계산을 간단하게 해보면 총급여 3000만 원, 말 그대로 세전 금액이죠. 세전 금액이 3000만 원이신 분이 올해 1500만 원을 썼다. 그런데 이거 신용카드로 썼을 때와 그다음에 현금영수증이나 체크카드로 썼을 때 실질적인 세금 차이가 7만 원이에요. ◇ 조현선 : 7만 원이요? 숫자 대비 그렇게. \n",
      "◆ 이장원 : 유의미하지 않아요. 오히려 제가 많이 말씀드리는 건 당신 급여 50%나 썼다는 걸 반성부터 하셨으면 좋겠다. \n",
      "◇ 조현선 : 그 생각을 못할 수 있을 것 같아요. 이 세금 생각에 내가 그렇게 썼구나를 생각 못하네요. \n",
      "◆ 이장원 : 그래서 연말정산 미리 보기 서비스를 보시면 내 총급여에 1월부터 9월까지 쓴 금액이 50%도 안 된다. 25%가 넘어가야 하니까 예를 들어서 20%도 안 됐다. 그러면 내가 굳이 10월부터 12월까지 속된 말로 아득바득 써도 공제 액수가 별로 안 될 수가 있겠구나. \n",
      "◇ 조현선 : 그러면 더 써야 되겠네요. \n",
      "◆ 이장원 : 좋은데요. 이런 방식 너무 좋은데요. \n",
      "◇ 조현선 : 왜냐하면 이렇게 생각할 수 있거든요. 이렇게 쇼핑을 하기 때문에 \n",
      "◆ 이장원 : 그다음에 저는 이렇게 권해드리죠. 청약 저축에 차라리 가입을 한다거나. 그러니까 소비로 공제를 받는 것보다 저축 형태의 공제를 받는 게 조금 더 유리하지 않나. 왜냐하면 원금도 보존을 하고 그다음에 거기에 대해서 소득공제나 세액공제를 받을 수 있거든요. \n",
      "◇ 조현선 : 이 말씀을 하시는 동안 시청자 질문인데 저랑 같은 맥락 같아요. “돈 많이 쓰면 환급 그만큼 많이 받나요?” \n",
      "◆ 이장원 : 아까 말씀드렸지만 내가 아무리 많이 써도 총급여 25% 이하를 썼다? 그러면 어차피 공제액수가 0원이에요. 그러니까 그걸 먼저 보시고 내가 생각보다 절약해서 썼네라고 생각하시면 굳이 소비를 늘리는 것보다는 아까 말씀드렸듯이 청약저축. 내가 무주택자면 청약저축에 가입해서 그 금액을 쓰거나 아니면 연금저축 계좌나 아니면 퇴직연금 계좌는 말 그대로 추후에 연금 형태로 받는 거잖아요. 그거는 세액공제율이 높거든요. 차라리 거기에 돈을 넣어서 세액공제를 받는 게 낫지 않을까. 이게 오히려 세테크거든요. \n",
      "◇ 조현선 : 그러면 준비를 구체적으로 해보려고 하는데 공제를 많이 받기 위해서 아까 신용카드 말씀을 주셨는데 요즘 계속 기사들이 많이 나오고 있는데 25% 말씀하셨는데 그러면 체크카드를 쓰는 게 유리하다고 하잖아요. 이거를 정리를 해 주세요. 어떻게 써야 하는지. \n",
      "◆ 이장원 : 방금 말씀드린 거랑 똑같습니다. 25% 이상을 안 쓸 거면 신용카드든 체크카드든 뭘 쓰든 공제액이 0원일 수 있어요. 그러니까 총급여 25% 이상 쓴 게 100만 원이다. 그런데 그 100만 원 금액에서 내가 신용카드로 쓴 금액이면 15%니까 15만 원이 소득공제 액수인 거죠. 거기다 내가 6% 구간이면 9000원인가요? 세금 9000원 빠지는 거예요. 그런데 100만 원 초과로 썼는데 체크카드나 현금영수증으로 썼다. 30%니까 30만 원에 대해서 6%니까 1만 8000원. 이런 차이. \n",
      "◇ 조현선 : 그러면 질문이 끊임없이 오고 있는데, 저도 이거 궁금했어요. 사실 카드를 여러 개 쓰시는 분들이 있잖아요. 카드를 하나로 몰빵하는 게 좋은 건지 아니면 혜택에 따라서 다를 수 있는 건지. \n",
      "◆ 이장원 : 사실 신용카드나 체크카드 2개 정도로만 크게 분류하는 게 맞아요. 어떤 카드든 상관은 없습니다. 그래서 내가 쭉 신용카드를 썼다. 그런데 총급여 25% 이하라고 그러면 저는 오히려 이렇게 말씀드려요. 신용카드를 써서 차라리 포인트를 챙겨라. \n",
      "◇ 조현선 : 거기서 나오는 포인트요? \n",
      "◆ 이장원 : 네. 포인트나 혜택이 있잖아요, 신용카드는. 체크카드보다 조금 더 많을 거예요. 그걸 차라리 챙기시는 게 낫다고 말씀을 드리죠, 차라리. \n",
      "◇ 조현선 : 포인트가 더 낫다, 그럴 바에는. \n",
      "◆ 이장원 : 신용카드나 체크카드 정도로만 구분하시면 좋을 것 같고. 개인사업자는... \n",
      "◇ 조현선 : 계속 해 주세요. 질문이 끊임없이 와서. 개인사업자 종합소득세만 처리하면 되는 건지, 5월에. \n",
      "◆ 이장원 : 그렇죠. 개인사업자는 종합소득세만 처리하면 되는데 또 이런 분들이 있어요. 근로소득도 하면서 본인의 개인사업자도 있을 수 있거든요. 그러면 근로소득 관련해서는 자기가 근로소득을 받고 있는 데서 연말정산을 하시고 그 데이터와 종합소득세 신고할 때 종합소득세, 사업소득 데이터를 합쳐서 5월 달에 합산 신고를 하시는 거예요. \n",
      "◇ 조현선 : 합산 신고요? 그러면 개인사업자와 연말정산 하는 거랑 안에 요소들은 다 어차피 똑같은 거죠? \n",
      "◆ 이장원 : 공제가 완전히 달라요. \n",
      "◇ 조현선 : 그렇죠. 공제는 다르죠. \n",
      "◆ 이장원 : 공제는 다른데. 사실 실질적으로 소득 금액, 산정된 금액들을 합쳐서 계산하는 것에 의무자가 자기가 되는 거예요. 조금 더 하나 말씀드리면 사실 이제 연말정산을 할 때 민감한 정보가 있어요. \n",
      "◇ 조현선 : 예를 들면요? \n",
      "◆ 이장원 : 의료비 같은 경우는 병원 어디 갔는지 나와요. \n",
      "◇ 조현선 : 상세히 나오기는 하더라고요. \n",
      "◆ 이장원 : 그러니까 예를 들어서 남자인데 비뇨기과를 갔다. 치질이 있어서 뭐 항문외과를 갔다. 되게 부끄럽잖아요. \n",
      "◇ 조현선 : 그렇죠. 비밀로 하고 싶던 게. \n",
      "◆ 이장원 : 이거 굳이 넣고 싶지 않은데. 그다음에 이제 사실 여성분들은 가임기 여성분들은 난임 시술이나 이런 거 민감하다는 말이에요. \n",
      "◇ 조현선 : 그렇죠. \n",
      "◆ 이장원 : 거기다 자취를 하고 있다면 월세 세액공제도 본인이 월세 정보를 줘야 해요. 내가 얼마짜리 사는 거 굳이 알려줄 필요가 있나. 그러시면 연말정산 때는 그런 자료를 가리고. \n",
      "◇ 조현선 : 가릴 수 있어요? \n",
      "◆ 이장원 : 연말정산 간소화 서비스는 본인이 홈택스 들어가면 클릭을 하잖아요. 거기서 몇 개를 본인이 선택할 수 있어요. 의료비 같은 경우는 내가 안 하겠다고 빼고 연말정산 자료를 주는 거예요. 2월에 연말정산을 해 주시잖아요. 그리고 5월에 나머지 자료를 본인이 직접 홈택스에서 신고하셔도 돼요. \n",
      "◇ 조현선 : 그게 가능하군요. \n",
      "◆ 이장원 : 부끄러운 정보나 알려주고 싶지 않은 정보가 있다면 그때는 물론 공부를 해야 해요. 왜냐하면 홈택스에서 본인이 직접 해야 하니까. \n",
      "◇ 조현선 : 그렇겠죠. \n",
      "◆ 이장원 : 하지만 엄청 어렵지 않아요. 월세나 이런 것들은 부끄러우니까 내가 직접 신고해야겠다고 해서 회사에 알리지 않고. \n",
      "◇ 조현선 : 그게 가능한가 보네요, 근로소득이어도. 제가 그러니까 만약에 회사를 다니고 있는데 제가 숨기고 있는 게 있어요. 월세든 병원이든. 그러면 1월에 하는 건 간소화 시스템을 쓰고 5월에는 그 숨겨놨던 거를 제가 개인으로 신고를 하면 되는 거예요? \n",
      "◆ 이장원 : 맞습니다. 개인으로 근로소득을 다시 신고하는 거예요. \n",
      "◇ 조현선 : 그러면 제가 근로자 입장이잖아요. 공제율은 5월에 신청했기 때문에 달라지는 거예요? \n",
      "◆ 이장원 : 똑같습니다. 근로소득자가 받는 연말정산의 똑같은 액수를 그때 똑같이 적용받아요. \n",
      "◇ 조현선 : 몰랐네요. \n",
      "◆ 이장원 : 이런 정보들도 알아야 부끄러운 정보를 괜히. 귀찮다고 하시면 다 주면 됩니다. \n",
      "◇ 조현선 : 이거는 좀 꿀팁인 것 같아요. 전혀 몰랐던. \n",
      "◆ 이장원 : 여기서 약간 더 파생을 하면 근로소득을 두 군데서 하는 분도 있어요. 겸업이나 겸업 금지에 걸리면 큰일 나지만. 그런데 두 곳에 대한 정보를 굳이 알려주고 싶지 않다. 그러면 각자 연말정산을 하고 5월 달에 합쳐서 신고하셔도 돼요. \n",
      "◇ 조현선 : 그래요? 이런 전략적으로 신고를 할 수 있다는 거 다시 한번 말씀드리고요. 그러면 신용카드 사용액 중에서 공제에 제외되는 경우가 있을 수 있잖아요. 열었는데 안 되는 경우가 있더라고요. 어떤 것들이 있어요? \n",
      "◆ 이장원 : 맞아요. 가장 대표적인 건 세금이나 공과금. 세금 쓴 걸 신용카드로 쓸 수 있는데 그걸 또 해 주면 안 되니까. \n",
      "◇ 조현선 : 그게 그런 경우가 있죠. 카드사에서 이걸 썼을 때 포인트가 되는 경우가 있으니까 아까 말씀하신 대로 그 포인트를 쓰면 되네요. 똑똑해진 것 같은데요. \n",
      "◆ 이장원 : 스마트하신데요. 이런 게 재테크이면서 세테크라고 봐요. 그다음에 통신비나 신차 구매, 리스 비용, 해외여행, 면세점 물품 구매. 이런 것들은 안 돼요. \n",
      "◇ 조현선 : 그런데 안 된다고 생각 못할 수도 있거든요. \n",
      "◆ 이장원 : 그걸 다 신경 쓰면서 소비하는 건 불가능에 가까우니까 쓰시면 자동으로 필터가 된다고 생각하시면 되고요. 그다음에 중복으로 되는 것도 있습니다. 의료비 같은 거. 의료비는 세액공제도 되고 신용카드 소득공제도 돼요. \n",
      "◇ 조현선 : 두 군데 다 되는 거네요. \n",
      "◆ 이장원 : 그거랑 미취학 자녀의 학원비나 교복 구입비 이런 것들도 중복해서 적용이 됩니다. \n",
      "◇ 조현선 : 교복. 교복도 있군요. 그리고 지난해 말이었죠. 세법이 개정이 되면서 소득공제 한도가 늘어난 게 있어요. 이제야 연말정산을 하기 때문에 이제 인지를 하셔야 하는 부분들이 있거든요. 어떤 항목들이 있을까요 \n",
      "◆ 이장원 : 우선 아까 말씀드렸던 청약저축이에요. 청약저축의 요건이 무주택자만 가능해요. 무주택자 세대주가 총급여 7000만 원 이하인 근로자가 본인이 납입한 금액이 예를 들어서 200만 원이라고 하면 200만 원에 40%까지 적용을 해 줘요. 그런데 이게 공제 한도가 연 240만 원이었어요. 그래서 이제 청약저축 월 25만 원 걸어놔라. 1억이 됐었던 거거든요. 그런데 이 한도를 300만 원까지 늘려줬어요. 그래서 월 25만 원 걸어놔라고 바뀌는 거죠. 이런 식으로 이제 걸어놓으면 좋은 게 말 그대로 주택청약 납입금이고요. \n",
      "두 번째로는 우리가 흔히 알고 있는 장기주택 저당 차입금, 주택을 저당 잡아서 대출받은 거. 주택담보대출이라고 보시면 돼요. 무주택자 또는 1주택자가 적용을 받을 수 있는데 한도가 기존에 300만 원에서 1800만 원 사이였는데 조금 높여줬어요. 600만 원에서 2000만 원으로. 제가 봤을 때는 이자율이 많이 올라갔잖아요. 그래서 그것에 따라서 보존을 세금으로 해주자. 그리고 이게 기준시가가 기존에 주택요건이 5억 원 이하였는데 6억 원으로 올라갔습니다. 조금 더 포괄(적으로) 있게. 자산이 다 올라갔으니까. \n",
      "◇ 조현선 : 그만큼 비싸지기도 하고 했으니까. \n",
      "◆ 이장원 : 거기에 맞춰서 해줄게라는 얘기고요. 그다음에 고액기부금 2024년도만 한정해 가지고 3000만 원 초과 기부하시는 분들에게는 공제율이 원래 30%였는데 40%로. \n",
      "◇ 조현선 : 꽤 많이 올랐네요. \n",
      "◆ 이장원 : 적용을 많이 해 주는 거로 올랐습니다. \n",
      "◇ 조현선 : 그리고 세액공제 늘어난 항목도 있는데 월세 공제 한도가 생각보다 꽤 높게 바뀌는 것 같던데. \n",
      "◆ 이장원 : 확실히 전세가 사라지니까 월세가 많이 올라가고 있어요. \n",
      "◇ 조현선 : 꽤 비싸더라고요. \n",
      "◆ 이장원 : 그런 부분에 대해서 사회초년생이 부담이 커지니까 이것 좀 지원해 주자고 해서 공제 액수가 늘어난 것 같아요. 그래서 월세 세액공제가 총급여 8000만 원으로 늘어났습니다. 기존에 7000만 원 이하였는데. 8000만 원 이하인 근로자. 무주택자셔야 해요. 이분들이 월세액 낸 것에 대해서 소득에 따라서 15%나 17%를 해줘요. 기존에 공제 한도가 750만 원이었는데 월에 6, 70만 원 살짝 넘는 것 같아요. 이걸 1000만 원까지 늘려줬어요. 그러니까 1000만 원을 내가 1년에 월세를 냈다. 그러면 거기에서 15%나 17%니까 150이나 170만 원을 세금으로 바로 깎아줘요. 사회초년생분들은 이것만 챙겨도 사실은 다 끝나요. \n",
      "◇ 조현선 : 그렇죠. 월세를 힘들게 구했거나 이런 사람들은 엄청 큰 것 같은데요. \n",
      "◆ 이장원 : 이것만 해도 거의 환급액 100% 나와요. 그래서 이걸 많이 놓치시는데. 마지막으로 이거 놓치는 것 중에 뭐냐 하면 본인의 임대차 계약서상 주소와 자기가 살고 있는데 본인의 주민등록등본 주소가 똑같아야 해요. \n",
      "◇ 조현선 : 그걸 놓칠 수 있겠네요. \n",
      "◆ 이장원 : 그렇죠. 왜냐하면 본가에다 우선 두고 집에서 거기만 살고 있는 거예요. \n",
      "◇ 조현선 : 주소가 같아야 한다는 점. \n",
      "◆ 이장원 : 주소가 같으면서 전입신고랑 확정일자 받아서 혹시나 이게 물건이 잘못되면 선순위 채권자 때도 경매 때도 물건에 대해서 자기의 대항력을 가져야 하니까 꼭 주소 이전을 하시라고 말씀을 드리고 있어요. \n",
      "◇ 조현선 : 세금이 생각보다 전략적으로 되어야 할 것 같은데 항목 중에서 보니까 자녀 또 많이 늘었어요. 5만 원 이런 식으로 늘었는데 그것 좀 설명해 주세요. \n",
      "◆ 이장원 : 자녀 세액공제가 있었습니다. 자녀를 낳으면 부담을 덜어줬는데 기본 공제 대상의 자녀만 해줬는데 손자녀도 해 주는 걸로. 그다음에 1명당 바뀐 게 15만 원. 첫 번째 자녀는 15만 원. 두 번째 자녀부터 35만 원. 세 번째 자녀부터는 35만 원 + 2명 초과분이 1명당 30만 원. 이렇게 바뀌었어요. 조금 더 가액이 올라갔습니다. 5만 원 정도 상향이 됐고요. 그다음에 저기 화면에 나오는 의료비 세액공제. 산후조리원도 이걸 급여를 따져 가지고 적용을 해줬어요. 아니, 그러면 돈 많은 사람은 산후조리원에 대한 의료비 세액공제 받지 말라는 거냐고 해서 그걸 없앴습니다. 한도가 200만 원이에요. \n",
      "◇ 조현선 : 그리고 그것도 있던데. 6세 이하 부양가족 의료비 전액 공제하는 건 어떻게 하는 거예요? \n",
      "◆ 이장원 : 결국은 6세 이하 자녀에 대해서도 전부 다 의료비를 해줄게. 세액공제 적용을 해 주겠다. 결국 결혼과 출산, 육아 관련된 공제들은 전부 다 대폭 상향되고 있어요. 이런 거라도 간접적으로 무조건 도와주겠다. \n",
      "◇ 조현선 : 그런데 법 개정이 필요한 부분도 있지 않아요? \n",
      "◆ 이장원 : 많은 부분들이 사실은 있습니다. 그래서 이번에 법 개정이 새로 나온 게 재미있는 공제가 하나 나왔어요. 결혼 세액공제라는 게 있습니다. \n",
      "◇ 조현선 : 그건 특이하더라고요. \n",
      "◆ 이장원 : 24년도부터 26년도까지 결혼하신 분에 한해서 신랑 50만 원, 신부 50만 원 공제를 해 주겠다. 그런데 내가 환급받을 금액이 50만 원이 안 되면 30만 원이라고 하면 30만 원까지 공제를 해 주는 거예요. 이 공제가 나왔을 때 저도 이제 뉴스를 보니까 많은 댓글들이 50만 원 누구 코에 붙이냐. \n",
      "◇ 조현선 : 맞아요. 저희도 기사를 쓰면서 예비부부나 젊은 층을 했는데 긍정적인 반응도 분명히 있었어요. 그런데 너무 적은 거 아니냐는 얘기를 하더라고요. \n",
      "◆ 이장원 : 그런데 제가 말씀드릴 게 이 금액을 200, 300만 원까지 올려도 돼요. 첫 번째로는 신혼부부 결혼하시는 분들이 연에 환급받을 수 있는 금액 자체가 100만 원 미만이 대부분이에요. 그러니까 본인이 1년간 냈던 게 100만 원 미만이기 때문에 그 이상으로 올려도 어차피 환급받는 금액은 생각보다 많지 않아요. 그다음에 두 번째는 이게 좀 누군가에게 불편한 말일 수 있는데 이 금액이 올라가면 이 웨딩 관련된 비용이 올라갈 거예요. 어차피 결혼하면 세액공제 50만 원씩 받네. 100만 원 받네. 100만 원 올려버리자. \n",
      "◇ 조현선 : 그 또한 풍선효과네요. \n",
      "◆ 이장원 : 100% 생겨요. 특정 지역에서 어떤 대기업이 월세를 지원해준다고 해서 그 근처에 원룸촌 가격이 다 올라갔거든요. 그래서 정부가 생각이 없는 게 아니라 다 고려를 한 겁니다. 왜냐하면 무작정 올리면 좋겠지만 생각보다 이제 웨딩 관련된 비용이 요즘 부담이 크다는 얘기가 많은데 그게 확 올라갈 수 있어요. \n",
      "◇ 조현선 : 그렇군요. 결혼 세액공제가 높다는 게 결국 좋지만은 않다는 것. 이것도 기억을 해 주시는 게 좋을 것 같고요. 앞서 말씀 주셨는데 사실 연말정산에 도움이 된다는 이유만으로 연금저축, 퇴직연금, 이런 걸 가입하는 분들이 많은데 이게 얼마까지 적용이 되어야 하고 또 어느 정도여야 되고 주의해야 할 점도 분명히 있을 것 같거든요. \n",
      "◆ 이장원 : 제가 첫 번째로 말씀드리는 게 55세 전에 뺄 거면 절대 넣지 마라. \n",
      "◇ 조현선 : 55세 전에 그러면 빼면 안 되는 거예요? \n",
      "◆ 이장원 : 그러면 받았던 세액공제액을 전부 다 토해내야 돼요. 왜냐하면 결국은 우리는 연금에 돈을 넣는 건데 필요할 때 세액공제는 받아놓고 55세까지 이걸 유지를 못하면서 다시 돈을 빼가면 그때 받았던 세액공제 토해내라는 게 돼요. \n",
      "◇ 조현선 : 일종에 저금처럼 생각하시는 분들도 있기 때문에 \n",
      "◆ 이장원 : 맞아요. 저는 이 연말정산에 대해서 이렇게 촬영을 할 때마다 오히려 그 이면을 많이 말씀드리려고 해요. 아까 신용카드 소득공제도 처음 들으시는 분이 많을 것 같고. 연금 저축계좌랑 퇴직연금 계좌도 내가 미래를 위해서 대비하는 거기 때문에 그 면에 대해서 국가에서 지원해 주는 거죠. 말 그대로 공적연금으로 한계가 있을 수 있으니 사적연금으로 본인의 노후를 마련하세요. 그러면 여기에 대해서 세액공제가 12%나 15%예요. 말 그대로 세테크를 해드리겠습니다. 그래서 저는 사실 이거를 매년 지금쯤에 넣어요. \n",
      "◇ 조현선 : 지금쯤이요? 11월에? \n",
      "◆ 이장원 : 한 번에 넣어도 돼요, 이거는. 그래서 저는 항상 까 먹고 있다가 맞아. 넣어야지 하지 하고 넣어요. \n",
      "◇ 조현선 : 그러면 그때는 이제 어느 정도? \n",
      "◆ 이장원 : 저는 맥스를 채워서 넣는 편이에요. \n",
      "◇ 조현선 : 맥스를 채워서요? \n",
      "◆ 이장원 : 네. 그래서 연금저축 계좌만 하면 한도가 600만 원이고 퇴직연금 계좌까지 하면 한도가 900만 원이에요. 예를 들어서 소득 구간에 따라 다른데 5500만 원 금액에 따라서 달라요. 12%나 15%냐. 어찌 됐든 12%만 하더라도 맥스 하면 100만 원이 넘어요. 100만 원에 대해서 내가 세액 환급을 받는 거니까 차라리 12%짜리 말 그대로 나의 재테크 수단. 그러니까 연마다 12% 수익이 나는 상품을 본인이 갖고 있는가. 안 갖고 계시다면 이걸 추천을 드리는 거죠. \n",
      "◇ 조현선 : 만약에 목돈이나 이런 게 마련이 돼 있다면 오늘 오후에라도 가서 가입을 하는 게 연말정산에 도움이 되는 거네요. \n",
      "◆ 이장원 : 하지만 무조건 55세. 중도 환급을 받으면 안 된다. \n",
      "◇ 조현선 : 오늘 넣고 55세 이상까지 갖고 있는 거로. 그러면 마지막으로 계속 우리가 몰랐던 부분들을 얘기를 하셨는데 일상에서 의외로 됐다. 아까는 안 되는 부분을 말씀을 주셨잖아요. 일상에서 의외로 이거는 챙기라는 팁을 주실 게 마지막으로 있을까요? \n",
      "◆ 이장원 : 마지막으로 제도가 나온 지 얼마 안 됐어요. 작년에 나온 거로 알고 있는데 고향사랑기부제. \n",
      "◇ 조현선 : 꼭 챙겨야 되는 거예요? 어떤 거예요? \n",
      "◆ 이장원 : 이것도 마찬가지로 기부를 하는 건데 짤막하게 말씀드리면 10만 원까지는 100% 세액공제예요. 10만 원 기부하면 10만 원 어차피 돌려받아요. 그러면 어차피 똑같은데 왜 하느냐? 그렇지 않습니다. 고향이라는 그 지역에서 30%까지 특산물을 줘요. 3만 원. \n",
      "◇ 조현선 : 그러면 덤인 거네요. \n",
      "◆ 이장원 : 그렇죠. 10만 원 기부하면 13만 원 받는 거예요. 그런데 그게 특산물이 모든 많은 지역이 있어요. 생각보다 모르시는데 거의 전국 지자체가 다 하고 있어요. 쇠고기, 참기름, 영화티켓, 템플스테이. \n",
      "◇ 조현선 : 의외로 다양하네요. \n",
      "◆ 이장원 : 저는 이걸로 그림도 받았어요. \n",
      "◇ 조현선 : 고향사랑 기부금 세액공제. \n",
      "◆ 이장원 : 그런데 하나 알아둘 게 내가 살고 있는 지역에는 기부를 못해요. 내가 송파구에 살고 있으면 관악구는 돼요. \n",
      "◇ 조현선 : 다른 지역에 해야 하는 거군요? \n",
      "◆ 이장원 : 무조건 다른 지역에 해야 돼요. 예를 들어서 제주도를 해도 되고 부산을 해도 되고 전라도를 해도 되고 다 됩니다. \n",
      "◇ 조현선 : 내가 살고 있는구만 아니면 되는 걸로. \n",
      "◆ 이장원 : 그런데 이제 특산물이 행정안전부 사이트에 여러 가지가 있기 때문에 본인이 원하는 거 선택해서 기부하시면 됩니다. \n",
      "◇ 조현선 : 고향사랑 기부 금. 이거 꼭 기억하셔야 될 것 같고요. 저희 또 연말정산 관련해서 궁금한 거 있을 때 한번 또 여쭤보겠습니다. \n",
      "◆ 이장원 : 알겠습니다. 세금 관련해서 언제든지 불러주십시오. \n",
      "◇ 조현선 : 감사합니다. 이장원 세무사였습니다. 감사합니다. \n",
      "◆ 이장원 : 고맙습니다. \n",
      "<E-코너> \n",
      "◇ 조현선 : 가장 핫한 기업과 산업 이슈 짚어봅니다. 두 번째 코너 <E-코너> 오늘의 주제부터 알아보겠습니다. 주제 알려주세요. \n",
      "◆ 박주근 : 오늘의 주제는 철강입니다. \n",
      "◇ 조현선 : 철강입니다. 리더스 인덱스 박주근 대표 모셨습니다. 안녕하세요? \n",
      "◆ 박주근 : 반갑습니다. \n",
      "◇ 조현선 : 처음 뵙는 것 같은데 아침 일찍 감사합니다. 바로 질문을 드리면 고품질의 메이드 인 코리아. 산업의 쌀. 이런 수식어가 계속 붙어왔던 한국의 철강산업인데 이게 심상치가 않아요. 철강도 겨울이다. 이런 분석까지 나오고 있는데 어떻습니까? 분위기가. \n",
      "◆ 박주근 : 철강업계가 굉장히 어렵습니다. 삼고에 시달리고 있습니다. 사실 가장 큰 원인은 중국의 공급과잉입니다. 중국의 공급과잉은 지금 경제 분야에 관심 있으신 분은 사실은 철강뿐만 아니라 모든 분야에 공급과잉입니다. 그리고 특히 철강이 문제가 되는 게 중국의 경제가 아시듯이 부동산으로 일으킨 경기지 않습니까? 그러니까 지금 팬데믹 이후부터 중국 부동산 문제가 결국 해결이 안 되면서 철강이 가장 많이 쓰이는 곳 중 한 곳이 부동산입니다. \n",
      "그러다 보니까 공급과잉과 건설업이 회복되지 않는 것. 이 두 가지가 맞물린 데다가 방금 말씀하셨듯이 철강은 산업의 쌀입니다. 투자하시는 분들이 이런 섹터를 이야기할 때 반도체나 철강은 우리가 펀드멘탈주라고 그러거든요. 그러니까 보통 이 펀드멘탈이 경기보다 굉장히 선행해서 움직입니다. 그러다 보니까 철강이 글로벌 경제하고 맞물리면서 공급과잉에다가 글로벌 경기도 좋지 않다. 그리고 또 하나 악재가 터진 거죠. \n",
      "마지막으로 우리가 알듯이 트럼프 2기 정부가 시작하는 삼고에 시달리면서. 또 철강이 산업의 유연성이 높지 않아요. 다른 제조업과 달리. 산업 유연성이 안 좋은 업종이 뭐냐 하면 철강하고 기초화학 쪽이거든요. 롯데케미칼이나 이런 쪽은 적자가 날려도 돌려야 되는 구조예요. 그런 산업 유연성이 떨어지다 보니까 철강도 계속 떨어지다가 최근에는 그것도 못 버티니까 이제 아예 폐쇄까지 온 거죠. ◇ 조현선 : 그렇죠. 진짜 우리나라 철강이 1위 기업 포스코가 문을 닫았잖아요. 두 차례 닫았는데 어디, 어디였나요? \n",
      "◆ 박주근 : 우선 지난 7월에 먼저 닫은 곳이 있거든요. 거기가 포항 제강공장이거든요. 이 제강공장은 뭐냐 하면 말 그대로 제철소의 핵심 공장 중 하나입니다. 쇳물을 부어서 불순물을 걷어내고. 그러니까 제일 원재료. 철강을 제일 먼저 만드는 게 제강공장이 문을 하나 닫았고. 이번에 뉴스에 나온 두 번째 문을 닫은 공장은 선재공장이거든요. 선재는 뭐냐 하면 제강된 철을 가장 반제품 중에 첫 번째가 선재예요. 선재를 만드는데 보통 선재공장은 제강인데 전공정이라면 선재공장은 후공정에 들어갔죠. \n",
      "◇ 조현선 : 후공정이요? \n",
      "◆ 박주근 : 그러니까 제강공장 선공정 하나 폐쇄했고 플러스 후공정까지 연달아 폐쇄한 거죠. 사실 이 2개는 철강에서 가장 기술적으로 보면 제일 하단에 있는. 중국의 공급과잉과 바로 부딪히는 쪽이죠. 폐쇄했고. 현대제철은 사실 저 공장은 헝강을 만드는 공장이거든요. 형강이 뭐냐 하면 우리가 건물 지을 때 H빔이라고 그러죠. 형강이라고 그러거든요. 저 포항 2공장은 굉장히 실적이 좋았어요, 사실은. 그런데 이번에 중국 건설 안 좋죠. 우리나라 건설업도 안 좋죠. 그러다 보니까 포항 현대제철 같은 경우도 지금 견디지 못하고 이번에 2공장을 폐쇄한 것 같습니다. \n",
      "◇ 조현선 : 말씀하신 대로 동국제강도 있는데 말씀하신 사안들 중에서 이번에 산업용 전기료만 올랐잖아요. 이것도 이들한테는 굉장한 큰 타격이 되면서 동국제강이 야간에만 작업을 한다고 하더라고요. \n",
      "◆ 박주근 : 그렇죠. 포스코는 제강을 할 때, 철을 만들 때 전기보다는 사실은 일반적으로 로를 쓰죠. 전기로가 아니라 일반 롤을 쓰는데 동국제강은 전기로 만드는, 그러니까 우리가 폐철을 사다가 전기로 만드는 용광로에다가 부어서 철을 만들어서 만드는 공장인데 전기료가 비싸다 보니까 낮에는 못하고 전기료가 싼 밤에 생산하는, 줄이고 있는 거죠. \n",
      "◇ 조현선 : 말씀하신 대로 이게 중국의 여파, 트럼프의 우려도 있지만 철강기업들이 안 나쁜 게 없더라고요. 보니까 조강 생산량이 14년 만에 최저. 공장 가동률도 3년 새 최저가 됐고 그다음에 실적도 영업이익이 모두 하락을 했던데 실적이 어떻게 나왔나요? \n",
      "◆ 박주근 : 지금 보시면 포스코가 매출은 2%밖에 안 줄었는데 영업이익을 보시면 거의 40% 줄었습니다. 39.8% 줄었고요. 그다음에 포스코는 그나마 선방을 한 겁니다. 현대제철을 보면 2284억에서 515억이니까 마이너스 17%고요. 동국제강은 더 안 좋죠. 1000억에서 215억이니까 마이너스 80%입니다. \n",
      "◇ 조현선 : 세아제강도. \n",
      "◆ 박주근 : 4분의 1 떨어진 거죠. 그나마 포스코가 그나마 선방한 것이고 제가 볼 때 중국의 많은 제철소는 적자가 많을 겁니다, 이 정도면. \n",
      "◇ 조현선 : 더 하겠죠. 사실 철강이라고 그러면 자동차, 조선의 뒤를 받쳐주던 탄탄한 산업으로 알아왔던 건데 한국이 철강 생산국으로 세계 6위나 되더라고요. 그런데 이유를 알아보자고요. 말씀을 하셨는데 중국 공급과잉을 말씀하셨는데 헝다의 여파다. 이런 파산의 여파라고도 얘기를 하는데 어느 정도예요, 중국 안에서는? \n",
      "◆ 박주근 : 우리나라 생산량이 우리나라가 7이라고 하지만 생산량으로 보면 우리나라가 1억 톤이 안 되거든요. 중국의 생산량이 10억 톤입니다. 비교가 안 되죠. \n",
      "◇ 조현선 : 거의 전 세계 절반 이상 아닌가요? \n",
      "◆ 박주근 : 절반 이상이죠. 절반 이상을 생산하고 있기 때문에 그 생산량이 그렇게 많은데 결국에는 중국 내 소비를 짐작하고 만들었는데 중국 내수 침체가 생각보다 오래갔어요. 최근에 중국의 이야기를, 중국 쪽 이야기는 내수 침체가 심각하다 보니까 오히려 주가 부양 쪽으로 돌린 상황이고 여전히 부동산 내수 침체의 원인이었던 부동산을 말끔하게 해소를 못하고 있습니다. \n",
      "◇ 조현선 : 부양책을 계속 내놨는데도 그만큼 반응이 안 오는 것 같아요. \n",
      "◆ 박주근 : 먹히지가 않아요. 중국 지방정부의 부채는 드러나지 않은 상태로 왔다 보니까 중국발 내수 침체는 제가 볼 때 상당히 오래갈 것이다. 지금 철강뿐만 아니라 기초화학. 얼마 전에 롯데그룹 부도설이 나오는 것도 사실은 우리나라 화학 업체 중에서 기초화학이 제일 많은 곳이 롯데케미칼이거든요. 기초화학 쪽의 과잉 생산도 맞물린 이야기고요. 중국에 그나마 이제 철강업계는 이러다 보니까 우리나라 철강업계는 바로 직격탄을 맞았고. 후판, 아까 말씀하신 대로 철강이 제일 많이 들어가는 데가 부동산, 자동차, 조선인데. 조선하고 자동차는 후판이라고 그래요. 후판을 생산해서 거기에 들어가는 건데. \n",
      "건설업은 스테인리스강이라든지 형강이라든지 철강에 들어가는 쪽이라면 후판 산업은 그나마 나았는데 지금은 후판 쪽까지 공급 과잉으로 밀려서. 현대제철이 아까 폐쇄된 대표적인 게 그쪽이고. 여기에다가 지금 글로벌 경기, 중국이 과잉 생산을 하다 보니까 글로벌 경기가 어느 정도 회복되더라도 이거를 커버하지 못하는 상황이고 트럼프 2기 정부가 시작되면, 트럼프 1기 정부를 생각해보면 쿼터제를 굉장히 심하게 했거든요. \n",
      "그리고 트럼프 정부는 아마 중국 때리기를 더 할 것 같은데 중국 때리기를 하면 결국에는 쿼터제로 들어간 중국 철강 생산들은 유럽이나 다른 나라로 가겠죠. 우리나라 철강 수출 주요 국가와 맞물리는 지점입니다. 그러니까 지금 말 그대로 삼고가 다 겹쳤다. \n",
      "◇ 조현선 : 대표님이 보면 세계 10대 철강기업 리스트를 보면 여섯 군데가 중국이에요. 한 군데가 한국인데. 조금 긍정적인 걸 분석을 해보면 저희가 중국이 지금 굉장히 힘들어서 한국에 여파도 있지만 이게 약간 반전의 기회가 될 수도 있는 여지가 있는 건가요? \n",
      "◆ 박주근 : 한 곳 있죠. \n",
      "◇ 조현선 : 어디요? \n",
      "◆ 박주근 : 인도. 물론 인도도 철강을 생산을 꽤 많이 하는데요. 지금 이번에 현대자동차가 인도에 IPO를 하지 않았습니까? 인도의 후판 공장은 그나마 아직 철강업계에서는 그나마 남아 있는 시장이라고 보고 있어요. 그래서 건설 경기가 이렇게 맞물리면 결국에는 인도 시장을 봐야 하고 이번에 중국의 포스코, 포스코가 해외법인이 20개가 돼요. 20개가 되는데 20곳 중에서 지금 흑자가 나는 곳은 7곳밖에 없어요. 나머지 13곳이 적자가 나는데. 이번에 중국에 있는 법인 하나도 폐쇄를 하거든요. \n",
      "◇ 조현선 : 검토하고 있다고. \n",
      "◆ 박주근 : 그 공장 법인이 주 생산이 스테인리스예요. 옛날에는 포스코가 이런 말까지 했거든요. 포스코가 스테인리스강이 전 세계에서 가장 강했어요. 고급강 쪽에서. 우리가 건축, 건설 산업에서 보면 기초로 철근이나 형강이 들어가지만 건축이 고급화가 되면 스테인리스강을 많이 씁니다. 반짝반짝하는. 한때 중국이 건설 붐이 일어날 때만 해도 포스코의 스테인리스강 판매 1년 치 팔면 3년을 먹고산다고 그랬어요. \n",
      "그래서 97년도에 중국 법인에다가 스테인리스강 공장을 만들었거든요. 지금 그것까지 매각할 정도니까. 결국에는 매출도 중요하지만 고급재를 만들어서 영업이익률을 지켜줘야 하는데 이번에 이제 우리가 포항에 1선재공장, 1제강공장을 폐쇄한 건 가장 기초적인 공장이고 그나마 아직까지는 중국과의 기술 격차로 이 고급강 쪽에는 아직 조금 여유는 있다. 이렇게 볼 수 있습니다. \n",
      "◇ 조현선 : 그렇네요. 그리고 또 하나의 불안 요소를 말씀하셨죠. 트럼프 2기 정권이 시작되면인데. 과거 1기 때를 찾아보니까 그때는 수입재 관세 25%를 부과해서 우리나라는 아예 쿼터 부과국으로 선택을 했더라고요. 이런 경험치 때문에 지금 더 우려가 있을 텐데 어떻게 전망을 하세요? 지금 그때보다 상황이 더 안 좋잖아요. \n",
      "◆ 박주근 : 1기 정부와 별다르지 않게 쿼터제로 가지 않을까. \n",
      "◇ 조현선 : 결국에는 쿼터제를 할 수밖에 없는 건가요? \n",
      "◆ 박주근 : 그렇죠. 그렇게 가야겠죠. 한 가지 변수는 일본 제철이 US스틸을 인수합병하는 게 아직 클로징이 안 됐어요. \n",
      "◇ 조현선 : 그렇죠. 남아 있죠. \n",
      "◆ 박주근 : 남아 있어요. 또 하나 변수가 뭐냐 하면 트럼프가 윤석열 대통령과 첫 통화에서 한국 괜찮던데라는 말이 하나 있는데. \n",
      "◇ 조현선 : 조선업. \n",
      "◆ 박주근 : 전 세계에 배 만드는 공정에서 미국이 만드는 시장 점유율이 1.6%밖에 안 됩니다. 놀랍죠? \n",
      "◇ 조현선 : 의외예요. \n",
      "◆ 박주근 : 중국이 4, 50%가 되고 우리나라가 26%. 일본이 16% 되거든요. 그중에서 가장 특수성 포함해서 잘 만든 나라가 우리나라죠. 미국은 무슨 문제가 있냐면 미국 군함들이나 많은 배들을 교체를 해야 하는데 자국에서 만들 수도 없고 쓰다 보면 수리를 해야 하잖아요. 공장이 없으면 수리도 못해요. 그러다 보니까 아마 트럼프 정부 쪽에서는 우리나라 몇몇 조선사가 미국에 버려진 조선소를 M&A를 해서 거기서 배를 만들기를 원하는데. 그렇게 되면 이 변수가 있으면 우리나라 기업들이 어느 철강을 쓰겠습니까? \n",
      "◇ 조현선 : 우리나라 철강을 써야겠죠. \n",
      "◆ 박주근 : 그러면 그 쿼터제를 그런 이유 때문에 조금 유예해 줄 수 있지 않을까. 1기 정부와 다른 변수는 두 가지예요. US스틸에 대한 인수 합병이 아직 클로징되지 않았고 그리고 후판 쪽에 들어가는 조선소를 만드는 게 진출을 하게 된다면 그러면 쿼터제를 허물어야 하는데 이런 변수가 남아 있죠. \n",
      "◇ 조현선 : 이게 조선업의 MRO 이상이 될 수 있다고 보시는 거네요. M&A까지 하면 우리나라 철강을 쓸 테고. 이때 하나 궁금한 게 사실 지금 중국 저가가 가장 큰 거잖아요. 그런데 이렇게 경기가 만일 안 좋으면 우리나라 입장에서도 자꾸 저가를 쓰면 안 되겠죠. 안 하게 미국이 만들겠지만 우리도 그런 전략적인 게 변동이 필요할까요? \n",
      "◆ 박주근 : 이때 정부 역할이 중요한 거죠. \n",
      "◇ 조현선 : 그런데 결국 할 수 있는 건 정부의 리드가 필요한 것 같기는 해요. \n",
      "◆ 박주근 : 산업자원부라든지 전략적으로 결국은 미국이 필요했을 때 요청했을 때 우리가 다른 카드를 내밀 수 있는 거 아닙니까? 정부가 이럴 때 지혜를 발휘해서 산업쪽으로 어떻게 시너지를 낼 수 있을까를. 이미 철강도 어려운데 정부의 지혜가 필요한 부분인 것 같습니다. \n",
      "◇ 조현선 : 그렇게 국내 기업들이 경영이 어려워지면 바로바로 기업들이 가만히 안 있는다는 말이에요. 전략을 바꾸고 있는데 보니까 더 어려운 건 지금 희망 퇴직도 받고 있고 어느 정도 힘들다라는 걸 보여주는 증거 중에 하나인 것 같은데 보니까 포스코는요. 적자 사업이나 비핵심 자산 125개를 매각 처분 중이라고 하더라고요. 이게 분위기가 생각보다 많이 안 좋아요. 총파업도 들어갈 수 있는 위기고. \n",
      "◆ 박주근 : 포스코가 기억해 보시면 지금 이전 회장인 최정우 회장님 때 포스코가 그때 모토가 뭐였냐면 탈스틸이었어요. \n",
      "◇ 조현선 : 탈스틸. \n",
      "◆ 박주근 : 그러니까 포스코 그룹의 전체 매출액에서 철강 매출액 비중을 50% 언더로 맞추자. 그러면 대신 뭐 할 거냐. 2차전지, 재료, 특수 다른 재료 철 같은 걸 해서. 어쨌든 포스코는 안 거죠. 어차피 중국발 공급과잉이 있을 것이고 그리고 포스코는 특수강 쪽으로 해서 영업이익률이 많이 나야 하는 쪽으로 가야 할 것이고 그러면서 2차전지를 해야 하는 이런 과정이 있는데 지금 그 과정 중에 이게 터진 거예요. \n",
      "무슨 말이냐 하면 포스코가 원래 하고 있는 철강에서 계속 돈을 벌어줘서 그 돈으로 다른 데서 투자를 해서 늘려가야 하는 전략을 써야 하는데 지금은 이 원료 자체가 부족한 거죠. 돈줄 자체가 막혀 있다 보니 그러다 보니까 지금은 벌려 놓은 사업들을 정리해야 하는 거죠. 정리를 하지만, 그렇지만 제가 볼 때 포스코는 2차전지라든가 기존에 하고 있던 수소라든지 이쪽 산업은 줄이지 않을 것 같고요. 그러면서 어쨌든 미래 성장 동력 산업을 최대화할 수 있는 사업을 정리하는 수준이 있는 것이 아닌가라고 보고 있는 거죠. \n",
      "◇ 조현선 : 지금 종합해보면 결국에는 중국이 자국에서 과잉 생산된 철강이 결국 소비가 안 되고 경기 침체 때문에. 그러다 보니까 저가로 국내에 들어와서 문제인 거거든요. 그러면 역으로 봤을 때 중국의 경기가 괜찮아질 때까지 기다리는 것도 방법 중에 하나가 되어야 하는 건가요? \n",
      "◆ 박주근 : 그 방법은 옳지 않다고 봅니다. 왜냐하면 첫 번째는 그 시기를 알 수가 없고요. \n",
      "◇ 조현선 : 더 위험하죠. \n",
      "◆ 박주근 : 불확실성이 더 높아지는 거죠. 그렇게 기다리는 것은 사실은 기업 스스로도 힘들 것이고 지금처럼 영업이익률 떨어지는 걸 막지 못할 겁니다. \n",
      "◇ 조현선 : 더 떨어지면 안 되잖아요. \n",
      "◆ 박주근 : 결국에는 산업이라는 건 늘 변하기 마련이에요. 늘 좋을 수만 없는 거죠. 그러니까 아까 말씀드린 대로 지금 제1선재공장, 제1제강공장을 폐쇄한 이유도 그러면 우리는 이런 뉘앙스를 시장에 던진 거죠. 우리는 중국과 맞대응하는 기초 소재, 기초 기술이 있는 것들을 우리가 포기할게. 포기하고 고부가가치가 있는 걸로 갈 거야라고 시행 메시지를 던진 거죠. \n",
      "◇ 조현선 : 그러니까 다른 전략을 쓰는 거네요. \n",
      "◆ 박주근 : 그렇죠. 실제 보면 이번 주에 철강 쪽에 주가가 올랐어요. \n",
      "◇ 조현선 : 그러니까요. 그게 의외로 많이 올랐더라고요, 포스코 같은 경우. \n",
      "◆ 박주근 : 이미 투자자들은 그런 의미를 읽어낸 거죠. 이렇게 구조조정을 하면 영업이익률이 조금 더 지켜질 수 있을 것이고 향후 미래적으로 보면 약간 더 잠재력은 더 있을 수 있다고 이미 시장에서는 읽어낸 거죠. 저는 어차피 더 아이러니한 건 지난달에 포스코에 불이 났어요. 그런데 생산 수율이 하나도 안 떨어졌어요. \n",
      "◇ 조현선 : 그렇다고 하더라고요. \n",
      "◆ 박주근 : 그 말은 무슨 말이냐면 그만큼 생산을 안 했다는 이야기죠. \n",
      "◇ 조현선 : 약간 웃프다. 이런 반응들이 많더라고요. \n",
      "◆ 박주근 : 그러니까 포스코가 지금은 어떤, 제가 볼 때는 과도기에 있다. 그러니까 아주 올드한 인더스트리 산업에서 미래 성장 산업의 재료인 2차전지나 다른 재료로 가고 있는 과도기에 있기 때문에 이런 선제적으로 폐쇄하고 하는 것들은 물론 업황이 안 좋죠. 그런데 아주 심각하게 볼 건 아니다. 저는 이렇게 봐요. \n",
      "◇ 조현선 : 그 정도로 어쨌든 선제적으로 지금 움직이고 있다는 메시지도 될 것 같은데. 말씀하신 대로 좋을 수만은 없다고 하셨잖아요. 그렇기 때문에 기업들이 가만히 있지 않아요. 보니까 아까 말씀 주신 다음 스텝. 인도를 준비하는 그런 움직임도 벌써 나오고 있는데 인도 푸네에 스틸서비스센터도 착공을 하고 인도 JWS와 제철소 추진 중이라고 하던데 인도의 시장은, 삼성 같은 경우도 인도에 굉장히 신경을 많이 쓰고 있는데 인도의 시장이 또 어마무시한가 보죠. \n",
      "◆ 박주근 : 그렇죠. 인도라는 입지가 재미있는 게 중국하고 붙어 있잖아요. 그러면 육지랑 연결시키면 중국 쓸 수 있는데 왜 우리? 이러는데 인도와 중국은 약간 경쟁 관계. 그러니까 우리에게는 기회. 중국 다음에 기회를 볼 수 있는 거죠. 자동차라든지 지금 LG전자도 아마 IPO를 곧 준비하죠. 가전이라든지 이런 식으로 우리 기업들이 중국보다는 훨씬 더 사업하기가 현재는 나은 곳이니까. 인도는 그리고 급성장하고 있는 곳 아닙니까? \n",
      "◇ 조현선 : 그렇죠. \n",
      "◆ 박주근 : 그러다 보니까 제일 필요한 철강도 인도 내 자체 생산량이 부족해요. \n",
      "◇ 조현선 : 가능한 스케치북은 큰데 아직은 자체 생산은 어려우니까. \n",
      "◆ 박주근 : 그러니까 기회라고 보는 거죠. 포스코는 이렇게 준비하겠죠. 이 철강을 버릴 수 없잖아요, 아무리 산업이 바뀌어도. 올드한 철강에서 그나마 매출이나 영업이익을 지킬 수 있는 방법은 시장이 있는 곳에 일단 짓고 국내에서는 고부가가치가 높은 2차전지라든가 다른 산업으로 포트폴리오를 재구성하는 그런 중에 있지 않나 저는 보고 있습니다. \n",
      "◇ 조현선 : 이게 삼성전자가 왜 중국 저가 청소기 공격을 하니까 보안으로 맞대응을 했잖아요. 그렇듯이 중국의 저가에 우리는 질적으로 또 기술로 대응을 한다고 볼 수 있는데 이런 메시지들 때문에 투자자들이 움직인다는 말씀을 주셨는데 이제 주가. 가장 궁금해하실 것 같은데 철강 주가를 짚어보면 의외로 많이 하락하지 않아서 오히려 시장 대비 놀라기는 했는데 사실 바닥이다. 아니면 가능성이 있다. 이러한 이야기들이 분분해요. 어떻게 보세요? \n",
      "◆ 박주근 : 저는 지금이 철강이 오히려 어차피 펀드멘탈주는 투자하시는 분이 단타 매매보다는 중장기 투자로 보통 가세요. 펀드멘탈이니까. \n",
      "◇ 조현선 : 그렇죠. 멀리 보고. \n",
      "◆ 박주근 : 지금 중국이 지난 9월 말에 부양책을 한번 발표했거든요. 그때 철강 가격이 기대감에 약간 반등을 했어요. 그러다가 다시 하락했지만. 제가 볼 때 현재 철강 수준에서 추가적인 하락 가능성은 되게 낮습니다. \n",
      "◇ 조현선 : 그래요? 추가 가능성은 낮다. \n",
      "◆ 박주근 : 저는 그렇게 봅니다. 중국이 한계에 봉착했다. \n",
      "◇ 조현선 : 오히려 중국의 영향으로 그럴 수 있는 거네요. \n",
      "◆ 박주근 : 봉착했다고 보고 있습니다. 더 내리면 스스로 이제 자폭 수준으로 가야 하는 거니까. 물론 중국은 그러기에는 중국의 정부 돈 가지고 산업을 돌리기에는 역부족인 한계까지 왔다고 전문가들은 이야기를 해요. 그래서 지금 지방 부채까지 정리를 하겠다는 거 아닙니까? 그래서 철강 가격도 거의 바닥 수준까지 왔다. 그러니까 이 수준에서 저 정도 영업이익이 난다는 것은 나쁘지 않다. 이렇게 보는 거죠. \n",
      "◇ 조현선 : 그러면 오히려 지금 해라, 마라는 아니지만 들어가도 무리는 아니다라는 정도의 분위기로 보시는 건가요? \n",
      "◆ 박주근 : 그렇죠. 그리고 철강주를 주로 보시는 분들은 글로벌 경기도 봐야 하지만 저는 인도 지표를 유심히 봐야 한다. \n",
      "◇ 조현선 : 어떤 걸 봐야 하나요? \n",
      "◆ 박주근 : 인도의 성장률이라든지 인도의 성장세하고 철강하고 맞물리게 돌아갈 겁니다. 그러니까 철강주에 관심이 있으신 분들은 인도의 성장률, GDP 성장률이라든지 이런 걸 유심히 보시면 철강주에 대한, 그러니까 저는 저가에 와 있다. 가격은 바닥에 와 있고. 가격이 그러니까요. 인도의 성장세에 따라 그리고 트럼프 2기 정부가 출범했을 때 쿼터제인데 우리가 조금 업했어. 그러면 그때는 기회가 열리는 거죠. \n",
      "◇ 조현선 : 철강주에 관심이 있으신 분들은 인도 지표를 보고 트럼프 정권의 시작을 봐라. 그리고 장기적으로 봐야 한다는 말씀을 주셨습니다. 말씀주신 대로 조선업으로 인해서 이 철강산업도 좀 부응이 되기를 기대해보면서 오늘 말씀 여기까지 듣겠습니다. 감사합니다. \n",
      "◆ 박주근 : 감사합니다. \n",
      "◇ 조현선 : 다음 주 28일이죠. 목요일입니다. 한국은행의 금통위가 예정돼 있는데요. 기준금리 동결이 유력한 상황인데 올해 마지막 금통위가 될 전망입니다. 돈이 되는 경제시그널. 준비한 이야기는 여기까지입니다. 저는 다음 주 금요일 아침 8시에 다시 올 거고요. 구독, 좋아요, 댓글, 알림 설정 환영합니다. 부자되세요, 고맙습니다. \n",
      "조현선 기자 chs0721@ichannela.com\n",
      "\n"
     ]
    }
   ],
   "source": [
    "result = []\n",
    "for x in news_urls:\n",
    "    title = get_daum_news_title(x)\n",
    "    print('---' * 10)\n",
    "    print('뉴스제목: {}'.format(title))\n",
    "    content = get_daum_news_content(x)\n",
    "    print('---' * 10)\n",
    "    print('뉴스내용: {}'.format(content))\n",
    "    result.append((x, title, content))"
   ]
  },
  {
   "cell_type": "code",
   "execution_count": 132,
   "metadata": {},
   "outputs": [
    {
     "data": {
      "text/plain": [
       "('https://v.daum.net/v/20241122141343964',\n",
       " '한류 협업 상품, CAST 날개 달고 아시아부터 중동까지',\n",
       " '- CAST, 두바이·대만 국제박람회서 한류 협업 상품의 글로벌 경쟁력 선보여- 배우 ‘진영’, 대만 CAST 팝업스토어에서 생생한 협업 스토리 전해\\n\\n문화체육관광부(이하 문체부)와 한국국제문화교류진흥원(이하 진흥원)은 ‘한류연계 협업콘텐츠 기획개발 지원 사업’(이하 CAST사업)이 11월 한 달간 K-콘텐츠 진출 전략 권역으로 주목받는 중동과 한류 열풍이 지속되고 있는 대만 시장에 K-컬처와 국내 중소기업의 매력적인 협업 상품을 선보였다고 22일 밝혔다.\\n‘CAST’(Connect, Accompany to make Synergy and Transformation)는 사업을 통해 잠재력과 기술력을 갖춘 한국기업과 한류 콘텐츠가 만나 새로운 가치를 창출한다는 의미의 사업 브랜드다.\\n올해 CAST 사업은 지난 12~14일(현지시각) 아랍에미리트 두바이 세계무역센터에서 열리는 ‘기프트앤라이프스타일 미들이스트’에 독립관을 운영하며 한류 협업 상품 110여 종을 선보였다. 중동은 최근 K-콘텐츠를 중심으로 다방면의 교류가 활발한 떠오르는 한류 거점 권역이다. 이 흐름을 바탕으로 현장을 찾은 중동 권역을 비롯한 글로벌 바이어들은 개발 상품에 높은 관심을 보이며 약 190건의 상담이 이루어졌다.\\n▲두바이 ‘기프트앤라이프 스타일’ 박람회 CAST 독립관 전경\\n현장을 찾은 두바이 무역 대행사 라바 브랜드(Lava Brands) 대표는 “한국 상품의 높은 품질은 잘 알려졌으나 중동에서 직접 상품을 확인하기 어려웠다”며 “이번에 CAST를 통해 여러 브랜드와 상품을 한자리에서 직접 만나볼 수 있어 좋았고, 한국의 높은 품질과 비즈니스 가능성을 확인할 수 있었다”며 만족감을 전했다.\\n또한, 아마존 아랍에미리트와 사우디아라비아 공식 유통사 에넷스튜디오즈(Enetstudioz) 관계자는 “현재 아마존 중동 판매자들에게 한국 제품 서비스 지원이 활성화되지 않아 아쉬웠는데 CAST 참여기업의 중동 온라인 플랫폼 진출을 자사가 적극 지원할 수 있을 것으로 판단했다”라며 긍정적인 협업 가능성을 비치었다. 특히 CAST 상품이 탄생하기까지의 기획개발 과정이 담긴 영상도 호평받았다.\\n이어 14일부터 17일(현지시각)까지 대만 쑹산 문화창의공원에서 열린 ‘2024 팝업아시아’박람회에 참여한 CAST 사업은 2년 연속 가장 주목받는 공간에 독립관을 운영하였다.\\n한 방문객은 “한류 스타와 협업한 상품에 관심이 많았는데 직접 보고 구매할 수 있다는 소식에 꼭 오고 싶었다. 직접 와보니 한국에 온 것 같아 정말 기분이 좋다”라며 한국문화와 CAST에 대한 애정을 보였다.\\n진흥원에 따르면 박람회 기간 CAST 상품에 대한 180여 건의 바이어 상담이 이루어졌고, 대만의 유명 편집숍과 백화점 등에서 입점 및 협업 문의가 이어졌다.\\nCAST 사업은 대만에서의 뜨거운 반응을 이어가기 위해 아시아 유명 편집숍‘25투고(25TOGO)’타오위안 지점에서 14일부터 다음 달 12일까지 한 달간 현지 팝업스토어를 운영한다. 이를 기념하기 위해 이번 2024 CAST 사업에 함께한 배우‘진영’이 직접 현장을 방문해 대만 팬들과 함께 CAST 대만 팝업스토어를 소개했다.\\n▲배우 ‘진영’ 대만 ‘25TOGO’ CAST 팝업스토어 이벤트 현장\\n배우 진영은 직접 CAST 사업과 개발 상품을 소개하며 현지 팬과 현장을 찾은 소비자들의 열렬한 반응을 끌어냈다. 진영은 패션 브랜드 ‘나체’와 함께 직접 예술적 감각과 개성을 표현한 디자인에 참여하여 의류 3종의 기획에 참여했다.\\n그는 “특별한 매력을 지난 패션브랜드 나체와 함께 처음으로 남성복 개발해 도전하였는데, 직접 쓴 문구와 디테일까지 신경 썼다”면서 “기회가 된다면 다시 한번 참여하고 싶다”라며 상당한 자신감과 남다른 애정을 표현했다.\\n이날 대만과 일본 등 다양한 매체와 100여 명이 넘는 팬들이 현장에 직접 방문하여 CAST에 대한 높은 관심을 느낄 수 있는 자리였다.\\n박창식 진흥원장은 “한류를 향한 높은 관심이 확산하는 만큼 지속적인 성장과 발전을 위한 지원이 매우 중요하다”며 “CAST 사업에서 처음으로 시도한 한류 신흥 시장 중동 진출과 2년 연속 대만에 진출하며 지속적인 성과를 끌어냈다”고 밝혔다.\\n이어 “이번 박람회 참여는 CAST 사업이 다방면으로 해외 진출 교두보를 마련해 참여기업의 해외 진출 성과 확대를 이끌었다고 할 수 있다”고 평가하고 “앞으로도 K-컬처를 통한 문화와 산업 경계를 확장하는 긍정적인 사례들을 발굴해나가겠다”고 강조했다.\\n온라인뉴스팀\\n')"
      ]
     },
     "execution_count": 132,
     "metadata": {},
     "output_type": "execute_result"
    }
   ],
   "source": [
    "result[0]"
   ]
  }
 ],
 "metadata": {
  "kernelspec": {
   "display_name": "yoongsulgu",
   "language": "python",
   "name": "python3"
  },
  "language_info": {
   "codemirror_mode": {
    "name": "ipython",
    "version": 3
   },
   "file_extension": ".py",
   "mimetype": "text/x-python",
   "name": "python",
   "nbconvert_exporter": "python",
   "pygments_lexer": "ipython3",
   "version": "3.10.12"
  }
 },
 "nbformat": 4,
 "nbformat_minor": 4
}
