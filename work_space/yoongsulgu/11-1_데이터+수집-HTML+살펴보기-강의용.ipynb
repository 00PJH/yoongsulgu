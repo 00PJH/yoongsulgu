{
 "cells": [
  {
   "cell_type": "markdown",
   "metadata": {},
   "source": [
    "# 인터넷 데이터를 수집하기 위해서는 \n",
    "# HTML 기본 구조와 tag 문법을 \n",
    "# 알아야 합니다."
   ]
  },
  {
   "cell_type": "markdown",
   "metadata": {},
   "source": [
    "### 1. HTML\n",
    "- Hyper Text Markup Language의 약자\n",
    "- 웹 문서를 작성하는 마크업 언어\n",
    "    - 태그 등을 이용하여 문서나 데이터의 구조를 명기하는 언어\n",
    "- 웹페이지를 구성하는 언어\n",
    "    - HTML : 화면의 레이아웃이나 텍스트\n",
    "    - CSS : 화면의 색상 크기 등의 스타일 (css-selector)\n",
    "    - Javascript : 화면의 클릭, 드래그 등등의 이벤트"
   ]
  },
  {
   "cell_type": "markdown",
   "metadata": {},
   "source": [
    "# 태그 정보를 찾는 사이트\n",
    "### 모질라 MDN Tutorial $\\to$ https://developer.mozilla.org/ko/docs/Web/HTML/Attributes\n",
    "### W3C School Tutorial  $\\to$  https://www.w3schools.com/tags/"
   ]
  },
  {
   "cell_type": "markdown",
   "metadata": {},
   "source": [
    "## 1-1 HTML의 구성요소\n",
    "- Document\n",
    "    - 페이지 전체\n",
    "    - 크게 head와 body로 구성\n",
    "- Element\n",
    "    - 계층적 구조로 이루어져 있으며 모여서 Document를 이룸\n",
    "    - 시작 태그와 끝 태그로 구성\n",
    "- Tag\n",
    "    - 여는 태그와 닫는 태그로 엘리먼트를 구성 (가끔 닫는 태그가 없는 경우도 있음)\n",
    "    - 시작 태그에는 여러가지 속성값을 설정할 수 있음\n",
    "    - 태그와 태그 사이에는 글자를 써줌\n",
    "    - 태그의 기능은 태그 이름으로 결정\n",
    "- Attribute\n",
    "    - 시작 태그 안에 포함되는 속성값\n",
    "    - id, class : 엘리먼트를 선택하기 위한 목적으로 만들어진 속성값\n",
    "    - 기타"
   ]
  },
  {
   "cell_type": "markdown",
   "metadata": {},
   "source": [
    "- Jupyter Notebook Magic Command\n",
    "- 매직커맨드 조회: %lsmagic"
   ]
  },
  {
   "cell_type": "code",
   "execution_count": 1,
   "metadata": {},
   "outputs": [
    {
     "data": {
      "application/json": {
       "cell": {
        "!": "OSMagics",
        "HTML": "Other",
        "SVG": "Other",
        "bash": "Other",
        "capture": "ExecutionMagics",
        "code_wrap": "ExecutionMagics",
        "debug": "ExecutionMagics",
        "file": "Other",
        "html": "DisplayMagics",
        "javascript": "DisplayMagics",
        "js": "DisplayMagics",
        "latex": "DisplayMagics",
        "markdown": "DisplayMagics",
        "perl": "Other",
        "prun": "ExecutionMagics",
        "pypy": "Other",
        "python": "Other",
        "python2": "Other",
        "python3": "Other",
        "ruby": "Other",
        "script": "ScriptMagics",
        "sh": "Other",
        "svg": "DisplayMagics",
        "sx": "OSMagics",
        "system": "OSMagics",
        "time": "ExecutionMagics",
        "timeit": "ExecutionMagics",
        "writefile": "OSMagics"
       },
       "line": {
        "alias": "OSMagics",
        "alias_magic": "BasicMagics",
        "autoawait": "AsyncMagics",
        "autocall": "AutoMagics",
        "automagic": "AutoMagics",
        "autosave": "KernelMagics",
        "bookmark": "OSMagics",
        "cat": "Other",
        "cd": "OSMagics",
        "clear": "KernelMagics",
        "code_wrap": "ExecutionMagics",
        "colors": "BasicMagics",
        "conda": "PackagingMagics",
        "config": "ConfigMagics",
        "connect_info": "KernelMagics",
        "cp": "Other",
        "debug": "ExecutionMagics",
        "dhist": "OSMagics",
        "dirs": "OSMagics",
        "doctest_mode": "BasicMagics",
        "ed": "Other",
        "edit": "KernelMagics",
        "env": "OSMagics",
        "gui": "BasicMagics",
        "hist": "Other",
        "history": "HistoryMagics",
        "killbgscripts": "ScriptMagics",
        "ldir": "Other",
        "less": "KernelMagics",
        "lf": "Other",
        "lk": "Other",
        "ll": "Other",
        "load": "CodeMagics",
        "load_ext": "ExtensionMagics",
        "loadpy": "CodeMagics",
        "logoff": "LoggingMagics",
        "logon": "LoggingMagics",
        "logstart": "LoggingMagics",
        "logstate": "LoggingMagics",
        "logstop": "LoggingMagics",
        "ls": "Other",
        "lsmagic": "BasicMagics",
        "lx": "Other",
        "macro": "ExecutionMagics",
        "magic": "BasicMagics",
        "mamba": "PackagingMagics",
        "man": "KernelMagics",
        "matplotlib": "PylabMagics",
        "micromamba": "PackagingMagics",
        "mkdir": "Other",
        "more": "KernelMagics",
        "mv": "Other",
        "notebook": "BasicMagics",
        "page": "BasicMagics",
        "pastebin": "CodeMagics",
        "pdb": "ExecutionMagics",
        "pdef": "NamespaceMagics",
        "pdoc": "NamespaceMagics",
        "pfile": "NamespaceMagics",
        "pinfo": "NamespaceMagics",
        "pinfo2": "NamespaceMagics",
        "pip": "PackagingMagics",
        "popd": "OSMagics",
        "pprint": "BasicMagics",
        "precision": "BasicMagics",
        "prun": "ExecutionMagics",
        "psearch": "NamespaceMagics",
        "psource": "NamespaceMagics",
        "pushd": "OSMagics",
        "pwd": "OSMagics",
        "pycat": "OSMagics",
        "pylab": "PylabMagics",
        "qtconsole": "KernelMagics",
        "quickref": "BasicMagics",
        "recall": "HistoryMagics",
        "rehashx": "OSMagics",
        "reload_ext": "ExtensionMagics",
        "rep": "Other",
        "rerun": "HistoryMagics",
        "reset": "NamespaceMagics",
        "reset_selective": "NamespaceMagics",
        "rm": "Other",
        "rmdir": "Other",
        "run": "ExecutionMagics",
        "save": "CodeMagics",
        "sc": "OSMagics",
        "set_env": "OSMagics",
        "store": "StoreMagics",
        "sx": "OSMagics",
        "system": "OSMagics",
        "tb": "ExecutionMagics",
        "time": "ExecutionMagics",
        "timeit": "ExecutionMagics",
        "unalias": "OSMagics",
        "unload_ext": "ExtensionMagics",
        "who": "NamespaceMagics",
        "who_ls": "NamespaceMagics",
        "whos": "NamespaceMagics",
        "xdel": "NamespaceMagics",
        "xmode": "BasicMagics"
       }
      },
      "text/plain": [
       "Available line magics:\n",
       "%alias  %alias_magic  %autoawait  %autocall  %automagic  %autosave  %bookmark  %cat  %cd  %clear  %code_wrap  %colors  %conda  %config  %connect_info  %cp  %debug  %dhist  %dirs  %doctest_mode  %ed  %edit  %env  %gui  %hist  %history  %killbgscripts  %ldir  %less  %lf  %lk  %ll  %load  %load_ext  %loadpy  %logoff  %logon  %logstart  %logstate  %logstop  %ls  %lsmagic  %lx  %macro  %magic  %mamba  %man  %matplotlib  %micromamba  %mkdir  %more  %mv  %notebook  %page  %pastebin  %pdb  %pdef  %pdoc  %pfile  %pinfo  %pinfo2  %pip  %popd  %pprint  %precision  %prun  %psearch  %psource  %pushd  %pwd  %pycat  %pylab  %qtconsole  %quickref  %recall  %rehashx  %reload_ext  %rep  %rerun  %reset  %reset_selective  %rm  %rmdir  %run  %save  %sc  %set_env  %store  %sx  %system  %tb  %time  %timeit  %unalias  %unload_ext  %who  %who_ls  %whos  %xdel  %xmode\n",
       "\n",
       "Available cell magics:\n",
       "%%!  %%HTML  %%SVG  %%bash  %%capture  %%code_wrap  %%debug  %%file  %%html  %%javascript  %%js  %%latex  %%markdown  %%perl  %%prun  %%pypy  %%python  %%python2  %%python3  %%ruby  %%script  %%sh  %%svg  %%sx  %%system  %%time  %%timeit  %%writefile\n",
       "\n",
       "Automagic is ON, % prefix IS NOT needed for line magics."
      ]
     },
     "execution_count": 1,
     "metadata": {},
     "output_type": "execute_result"
    }
   ],
   "source": [
    "%lsmagic"
   ]
  },
  {
   "cell_type": "markdown",
   "metadata": {},
   "source": [
    "- 궁금하면 구글링\n",
    "- jupyter notebook magic command `%%html`"
   ]
  },
  {
   "cell_type": "code",
   "execution_count": 2,
   "metadata": {},
   "outputs": [
    {
     "data": {
      "text/html": [
       "<div class=\"wrapper\">\n",
       "    <button type=\"button\">융합SW</button>\n",
       "    <button type=\"button\" style=\"color:red;\">00분반</button>\n",
       "</div>\n"
      ],
      "text/plain": [
       "<IPython.core.display.HTML object>"
      ]
     },
     "metadata": {},
     "output_type": "display_data"
    }
   ],
   "source": [
    "%%html\n",
    "<div class=\"wrapper\">\n",
    "    <button type=\"button\">융합SW</button>\n",
    "    <button type=\"button\" style=\"color:red;\">00분반</button>\n",
    "</div>"
   ]
  },
  {
   "cell_type": "markdown",
   "metadata": {},
   "source": [
    "## 1-2 속성값: 여는 태그 내부에 적어주는 값들...\n",
    "- id\n",
    "    - 웹페이지에서 유일한 값\n",
    "- class\n",
    "    - 웹 페이지 내에서 여러가지의 값 사용이 가능\n",
    "    - 하나의 엘리먼트에 여러가지 값 사용이 가능\n",
    "- 하나의 태그에 id와 class가 동시에 있을 경우 id 우선"
   ]
  },
  {
   "cell_type": "code",
   "execution_count": 3,
   "metadata": {},
   "outputs": [
    {
     "data": {
      "text/html": [
       "<div class=\"wrapper\">\n",
       "    <button type=\"button\" id='No1'>융합SW</button>\n",
       "    <button type=\"button\" class='class' style=\"color:red;\">00분반</button>\n",
       "</div>\n"
      ],
      "text/plain": [
       "<IPython.core.display.HTML object>"
      ]
     },
     "metadata": {},
     "output_type": "display_data"
    }
   ],
   "source": [
    "%%html\n",
    "<div class=\"wrapper\">\n",
    "    <button type=\"button\" id='No1'>융합SW</button>\n",
    "    <button type=\"button\" class='class' style=\"color:red;\">00분반</button>\n",
    "</div>"
   ]
  },
  {
   "cell_type": "markdown",
   "metadata": {},
   "source": [
    "## 1-3 태그의 종류"
   ]
  },
  {
   "cell_type": "markdown",
   "metadata": {},
   "source": [
    "### h (heading) 태그\n",
    "- 제목을 나타낼때 사용 h1, h2, ..., h6   \n",
    "- 헤딩에 부여된 숫자에 따라 글자 크기가 변함\n",
    "- 크기를 조절하는 용도가 아님\n",
    "- 문맥과 단락의 중요성을 제시하는 용도임"
   ]
  },
  {
   "cell_type": "code",
   "execution_count": 4,
   "metadata": {},
   "outputs": [
    {
     "data": {
      "text/html": [
       "<h1>h1 tag, Python</h1>\n",
       "<h2>h2 tag, HTML</h2>\n",
       "<h3>h3 tag, HTML</h3>\n",
       "<h6>h6 tag, HTML</h6>\n",
       "<h7>h7 tag, HTML</h7>\n",
       "<br>\n",
       "<br>\n",
       "<br>\n",
       "<div>폰트 사이즈 강제 조정</div>\n",
       "<div style=\"font-size: 50%; \">\n",
       "  <h1>This is h1.</h1>\n",
       "  <p>This is p.</p>\n",
       "</div>\n"
      ],
      "text/plain": [
       "<IPython.core.display.HTML object>"
      ]
     },
     "metadata": {},
     "output_type": "display_data"
    }
   ],
   "source": [
    "%%html\n",
    "<h1>h1 tag, Python</h1>\n",
    "<h2>h2 tag, HTML</h2>\n",
    "<h3>h3 tag, HTML</h3>\n",
    "<h6>h6 tag, HTML</h6>\n",
    "<h7>h7 tag, HTML</h7>\n",
    "<br>\n",
    "<br>\n",
    "<br>\n",
    "<div>폰트 사이즈 강제 조정</div>\n",
    "<div style=\"font-size: 50%; \">\n",
    "  <h1>This is h1.</h1>\n",
    "  <p>This is p.</p>\n",
    "</div>"
   ]
  },
  {
   "cell_type": "markdown",
   "metadata": {},
   "source": [
    "### p (paragraph) 태그\n",
    "- 한줄의 문자열을 출력하기 위한 태그 "
   ]
  },
  {
   "cell_type": "code",
   "execution_count": 7,
   "metadata": {},
   "outputs": [
    {
     "data": {
      "text/html": [
       "<p>파이썬의 재미있습니다. 파이썬의 재미있습니다. 파이썬의 재미있습니다. 파이썬의 재미있습니다. 파이썬의 재미있습니다. 파이썬의 재미있습니다. 파이썬의 재미있습니다. 파이썬의 재미있습니다. 파이썬의 재미있습니다. </p>\n",
       "<p>내일은 휴강입니다.</p>\n"
      ],
      "text/plain": [
       "<IPython.core.display.HTML object>"
      ]
     },
     "metadata": {},
     "output_type": "display_data"
    }
   ],
   "source": [
    "%%html\n",
    "<p>파이썬의 재미있습니다. 파이썬의 재미있습니다. 파이썬의 재미있습니다. 파이썬의 재미있습니다. 파이썬의 재미있습니다. 파이썬의 재미있습니다. 파이썬의 재미있습니다. 파이썬의 재미있습니다. 파이썬의 재미있습니다. </p>\n",
    "<p>내일은 휴강입니다.</p>"
   ]
  },
  {
   "cell_type": "markdown",
   "metadata": {},
   "source": [
    "### span 태그\n",
    "- 인라인 요소, 한 줄 내에서 작동하는 특성"
   ]
  },
  {
   "cell_type": "code",
   "execution_count": 13,
   "metadata": {},
   "outputs": [
    {
     "data": {
      "text/html": [
       "인공지능<p style=\"color:red;\">파이썬의 재미있습니다.</p> 청주대학교\n",
       "\n",
       "인공지능<span style=\"color:blue;\">내일은 휴강입니다.</span> 청주대\n"
      ],
      "text/plain": [
       "<IPython.core.display.HTML object>"
      ]
     },
     "metadata": {},
     "output_type": "display_data"
    }
   ],
   "source": [
    "%%html\n",
    "인공지능<p style=\"color:red;\">파이썬의 재미있습니다.</p> 청주대학교\n",
    "\n",
    "인공지능<span style=\"color:blue;\">내일은 휴강입니다.</span> 청주대"
   ]
  },
  {
   "cell_type": "markdown",
   "metadata": {},
   "source": [
    "### div 태그\n",
    "- 레이아웃을 나타내는 태그, 기능적 의미는 없음\n",
    "- 가장 많이 사용, 여기저기 마구마구 사용, 구간을 설정하는 용도로 주로 쓰임"
   ]
  },
  {
   "cell_type": "code",
   "execution_count": 9,
   "metadata": {},
   "outputs": [
    {
     "data": {
      "text/html": [
       "<div>\n",
       "    <p>html 1</p>\n",
       "    <p>html 2</p>\n",
       "</div>\n",
       "<div>\n",
       "    <p>html 3</p>\n",
       "</div>\n"
      ],
      "text/plain": [
       "<IPython.core.display.HTML object>"
      ]
     },
     "metadata": {},
     "output_type": "display_data"
    }
   ],
   "source": [
    "%%html\n",
    "<div>\n",
    "    <p>html 1</p>\n",
    "    <p>html 2</p>\n",
    "</div>\n",
    "<div>\n",
    "    <p>html 3</p>\n",
    "</div>"
   ]
  },
  {
   "cell_type": "markdown",
   "metadata": {},
   "source": [
    "### table 태그\n",
    "- 가로, 세로로 구성되는 표를 만들어주는 태그\n",
    "- Table head (`thead`)와 table body (`tbody`)로 구성\n",
    "- 각각의 레코드(행)은 table record (`tr`)를 이용하여 표현"
   ]
  },
  {
   "cell_type": "code",
   "execution_count": 10,
   "metadata": {},
   "outputs": [
    {
     "data": {
      "text/html": [
       "<table>\n",
       "    <caption>소프트웨어융합학부</caption>\n",
       "    <thead>\n",
       "        <tr>\n",
       "            <th>코드</th>\n",
       "            <th>전공</th>\n",
       "        </tr>\n",
       "    </thead>\n",
       "    <tbody>\n",
       "        <tr>\n",
       "            <td>0001</td>\n",
       "            <td>인공지능SW</td>\n",
       "        </tr>\n",
       "        <tr>\n",
       "            <td>0002</td>\n",
       "            <td>빅데이터</td>\n",
       "        </tr>\n",
       "        <tr>\n",
       "            <td>0003</td>\n",
       "            <td>디지털보안</td>\n",
       "        </tr>        \n",
       "    </tbody>\n",
       "</table>\n"
      ],
      "text/plain": [
       "<IPython.core.display.HTML object>"
      ]
     },
     "metadata": {},
     "output_type": "display_data"
    }
   ],
   "source": [
    "%%html\n",
    "<table>\n",
    "    <caption>소프트웨어융합학부</caption>\n",
    "    <thead>\n",
    "        <tr>\n",
    "            <th>코드</th>\n",
    "            <th>전공</th>\n",
    "        </tr>\n",
    "    </thead>\n",
    "    <tbody>\n",
    "        <tr>\n",
    "            <td>0001</td>\n",
    "            <td>인공지능SW</td>\n",
    "        </tr>\n",
    "        <tr>\n",
    "            <td>0002</td>\n",
    "            <td>빅데이터</td>\n",
    "        </tr>\n",
    "        <tr>\n",
    "            <td>0003</td>\n",
    "            <td>디지털보안</td>\n",
    "        </tr>        \n",
    "    </tbody>\n",
    "</table>"
   ]
  },
  {
   "cell_type": "markdown",
   "metadata": {},
   "source": [
    "### ul, ol, li 태그\n",
    "- 데이터 목록을 보기 좋게 표현해 주는 태그\n",
    "    - `ul` (unorded list): 순서가 없는 표현\n",
    "    - `ol` (ordered list): 순서가 존재\n",
    "    - `li` (list item): 리스트 아이템"
   ]
  },
  {
   "cell_type": "code",
   "execution_count": 14,
   "metadata": {},
   "outputs": [
    {
     "data": {
      "text/html": [
       "<ul>\n",
       "    <li>인공지능</li>\n",
       "    <li>빅데이터</li>\n",
       "    <li>디지털보안</li>\n",
       "</ul>\n"
      ],
      "text/plain": [
       "<IPython.core.display.HTML object>"
      ]
     },
     "metadata": {},
     "output_type": "display_data"
    }
   ],
   "source": [
    "%%html\n",
    "<ul>\n",
    "    <li>인공지능</li>\n",
    "    <li>빅데이터</li>\n",
    "    <li>디지털보안</li>\n",
    "</ul>"
   ]
  },
  {
   "cell_type": "code",
   "execution_count": 15,
   "metadata": {},
   "outputs": [
    {
     "data": {
      "text/html": [
       "<ol>\n",
       "    <li>인공지능</li>\n",
       "    <li>데이터사이언스</li>\n",
       "    <li>빅데이터</li>\n",
       "    <li>디지털보안</li>\n",
       "</ol>\n"
      ],
      "text/plain": [
       "<IPython.core.display.HTML object>"
      ]
     },
     "metadata": {},
     "output_type": "display_data"
    }
   ],
   "source": [
    "%%html\n",
    "<ol>\n",
    "    <li>인공지능</li>\n",
    "    <li>데이터사이언스</li>\n",
    "    <li>빅데이터</li>\n",
    "    <li>디지털보안</li>\n",
    "</ol>"
   ]
  },
  {
   "cell_type": "markdown",
   "metadata": {},
   "source": [
    "### a 태그\n",
    "- 링크를 출력하는 태그\n",
    "- href 속성값에 이동할 URL 정보를 심어준다"
   ]
  },
  {
   "cell_type": "code",
   "execution_count": 17,
   "metadata": {},
   "outputs": [
    {
     "data": {
      "text/html": [
       "<a href=\"https://cju.ac.kr\" target=\"_blank\">청주대학교^^</a>\n"
      ],
      "text/plain": [
       "<IPython.core.display.HTML object>"
      ]
     },
     "metadata": {},
     "output_type": "display_data"
    }
   ],
   "source": [
    "%%html\n",
    "<a href=\"https://cju.ac.kr\" target=\"_blank\">청주대학교^^</a>"
   ]
  },
  {
   "cell_type": "markdown",
   "metadata": {},
   "source": [
    "### img 태그\n",
    "- 이미지를 보여주는 태그"
   ]
  },
  {
   "cell_type": "code",
   "execution_count": 18,
   "metadata": {
    "scrolled": false
   },
   "outputs": [
    {
     "data": {
      "text/html": [
       "<img style=\"width:200px;\" src=\"https://www.cju.ac.kr/site/intro2/images/common/logo_type3.png\">\n"
      ],
      "text/plain": [
       "<IPython.core.display.HTML object>"
      ]
     },
     "metadata": {},
     "output_type": "display_data"
    }
   ],
   "source": [
    "%%html\n",
    "<img style=\"width:200px;\" src=\"https://www.cju.ac.kr/site/intro2/images/common/logo_type3.png\">"
   ]
  },
  {
   "cell_type": "markdown",
   "metadata": {},
   "source": [
    "### iframe 태그\n",
    "- 외부 URL 링크의 페이지를 보여주기 위한 태그\n",
    "- 의외로 자주 사용 (중고나라 같은 페이지 크롤링)"
   ]
  },
  {
   "cell_type": "code",
   "execution_count": 19,
   "metadata": {},
   "outputs": [
    {
     "data": {
      "text/html": [
       "<iframe src=\"https://www.daum.net\" width=\"100%\" height=\"500px;\"></iframe>\n"
      ],
      "text/plain": [
       "<IPython.core.display.HTML object>"
      ]
     },
     "metadata": {},
     "output_type": "display_data"
    }
   ],
   "source": [
    "%%html\n",
    "<iframe src=\"https://www.daum.net\" width=\"100%\" height=\"500px;\"></iframe>"
   ]
  },
  {
   "cell_type": "markdown",
   "metadata": {},
   "source": [
    "### input 태그\n",
    "- 사용자로부터 정보를 입력받기 위한 태그\n",
    "    - text\n",
    "    - password\n",
    "    - radio\n",
    "    - checkbox"
   ]
  },
  {
   "cell_type": "code",
   "execution_count": 20,
   "metadata": {},
   "outputs": [
    {
     "data": {
      "text/html": [
       "<input type=\"text\" placeholder=\"데이터를 입력하세요\"></input>\n",
       "<input type=\"password\" placeholder=\"비밀번호를 입력하세요\"></input>\n",
       "<input type=\"radio\" name=\"data\">radio 1</input>\n",
       "<input type=\"radio\" name=\"data\">radio 2</input>\n",
       "<input type=\"checkbox\">checkbox 1</input>\n"
      ],
      "text/plain": [
       "<IPython.core.display.HTML object>"
      ]
     },
     "metadata": {},
     "output_type": "display_data"
    }
   ],
   "source": [
    "%%html\n",
    "<input type=\"text\" placeholder=\"데이터를 입력하세요\"></input>\n",
    "<input type=\"password\" placeholder=\"비밀번호를 입력하세요\"></input>\n",
    "<input type=\"radio\" name=\"data\">radio 1</input>\n",
    "<input type=\"radio\" name=\"data\">radio 2</input>\n",
    "<input type=\"checkbox\">checkbox 1</input>"
   ]
  },
  {
   "cell_type": "markdown",
   "metadata": {},
   "source": [
    "### Select, option 태그\n",
    "- 사용자들이 메뉴를 선택할 수 있도록 해주는 태그\n",
    "- 주로 드롭다운(drop-down)형태"
   ]
  },
  {
   "cell_type": "code",
   "execution_count": 21,
   "metadata": {},
   "outputs": [
    {
     "data": {
      "text/html": [
       "<select>\n",
       "    <option>인공지능SW</option>\n",
       "    <option>빅데이터</option>\n",
       "    <option>디지털보안</option>\n",
       "</select>\n"
      ],
      "text/plain": [
       "<IPython.core.display.HTML object>"
      ]
     },
     "metadata": {},
     "output_type": "display_data"
    }
   ],
   "source": [
    "%%html\n",
    "<select>\n",
    "    <option>인공지능SW</option>\n",
    "    <option>빅데이터</option>\n",
    "    <option>디지털보안</option>\n",
    "</select>"
   ]
  }
 ],
 "metadata": {
  "kernelspec": {
   "display_name": "yoongsulgu",
   "language": "python",
   "name": "python3"
  },
  "language_info": {
   "codemirror_mode": {
    "name": "ipython",
    "version": 3
   },
   "file_extension": ".py",
   "mimetype": "text/x-python",
   "name": "python",
   "nbconvert_exporter": "python",
   "pygments_lexer": "ipython3",
   "version": "3.10.12"
  }
 },
 "nbformat": 4,
 "nbformat_minor": 2
}
