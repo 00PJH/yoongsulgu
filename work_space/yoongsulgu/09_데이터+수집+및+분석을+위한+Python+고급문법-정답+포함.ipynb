{
 "cells": [
  {
   "cell_type": "markdown",
   "metadata": {},
   "source": [
    "# 융설구 09주차"
   ]
  },
  {
   "cell_type": "markdown",
   "metadata": {},
   "source": [
    "## 데이터 수집 및 분석을 위한 파이썬 고급 문법"
   ]
  },
  {
   "cell_type": "markdown",
   "metadata": {},
   "source": [
    "## 1. Python Comprehension\n",
    "- 파이썬의 기본 자료구조는 알고 있다고 가정\n",
    "    ```python\n",
    "        list, dict, tuple, set\n",
    "    ```\n",
    "- 일반적인 `for`문 보다 빠릅니다.\n",
    "- 가장 빈번하게 사용하는 `list comprehension`을 학습"
   ]
  },
  {
   "cell_type": "markdown",
   "metadata": {},
   "source": [
    "### 1.1 List comprehension이 필요한 경우\n",
    "- 1부터 10까지 각 수의 제곱을 담고 있는 리스트를 생성하라"
   ]
  },
  {
   "cell_type": "code",
   "execution_count": 1,
   "metadata": {},
   "outputs": [],
   "source": [
    "a = []\n",
    "for i in range(1, 10+1):\n",
    "    a.append(i ** 2)"
   ]
  },
  {
   "cell_type": "code",
   "execution_count": 2,
   "metadata": {},
   "outputs": [
    {
     "name": "stdout",
     "output_type": "stream",
     "text": [
      "[1, 4, 9, 16, 25, 36, 49, 64, 81, 100]\n"
     ]
    }
   ],
   "source": [
    "print(a)"
   ]
  },
  {
   "cell_type": "markdown",
   "metadata": {},
   "source": [
    "### 1부터 100까지 - 3의 배수만 $\\to$ 리스트"
   ]
  },
  {
   "cell_type": "code",
   "execution_count": 3,
   "metadata": {},
   "outputs": [],
   "source": [
    "b = []\n",
    "for x in range(1, 101):\n",
    "    if x % 3 == 0:\n",
    "        b.append(x)"
   ]
  },
  {
   "cell_type": "code",
   "execution_count": 4,
   "metadata": {},
   "outputs": [
    {
     "name": "stdout",
     "output_type": "stream",
     "text": [
      "[3, 6, 9, 12, 15, 18, 21, 24, 27, 30, 33, 36, 39, 42, 45, 48, 51, 54, 57, 60, 63, 66, 69, 72, 75, 78, 81, 84, 87, 90, 93, 96, 99]\n"
     ]
    }
   ],
   "source": [
    "print(b)"
   ]
  },
  {
   "cell_type": "markdown",
   "metadata": {},
   "source": [
    "### 1.2 코드 한줄로 생성할 수 있는 방법 --> # List 내부에서 반복문을 돌리는 기능"
   ]
  },
  {
   "cell_type": "code",
   "execution_count": 5,
   "metadata": {},
   "outputs": [],
   "source": [
    "# 리스트 내부에서 반복문을 돌리는 문법\n",
    "a = [ i**2 for i in range(1, 11) ]"
   ]
  },
  {
   "cell_type": "code",
   "execution_count": 8,
   "metadata": {},
   "outputs": [
    {
     "data": {
      "text/plain": [
       "[1, 4, 9, 16, 25, 36, 49, 64, 81, 100]"
      ]
     },
     "execution_count": 8,
     "metadata": {},
     "output_type": "execute_result"
    }
   ],
   "source": [
    "a"
   ]
  },
  {
   "cell_type": "markdown",
   "metadata": {},
   "source": [
    "### 1.3 조건에 맞는 List를 생성할 수 있는 방법\n",
    "- 예) 1부터 100까지 수 중에서 3의 배수를 포함하는 list를 생성하라..."
   ]
  },
  {
   "cell_type": "code",
   "execution_count": 6,
   "metadata": {},
   "outputs": [],
   "source": [
    "# 조건을 이용해서 생성 가능\n",
    "# 1 - 100 3의 배수만 담긴 리스트를 생성\n",
    "a = [ x for x in range(1, 101) if x % 3 == 0]"
   ]
  },
  {
   "cell_type": "code",
   "execution_count": 9,
   "metadata": {},
   "outputs": [],
   "source": [
    "a = [ i for i in range(1, 101) if i % 4 == 0]"
   ]
  },
  {
   "cell_type": "code",
   "execution_count": 10,
   "metadata": {},
   "outputs": [
    {
     "name": "stdout",
     "output_type": "stream",
     "text": [
      "[4, 8, 12, 16, 20, 24, 28, 32, 36, 40, 44, 48, 52, 56, 60, 64, 68, 72, 76, 80, 84, 88, 92, 96, 100]\n"
     ]
    }
   ],
   "source": [
    "print(a)"
   ]
  },
  {
   "cell_type": "markdown",
   "metadata": {},
   "source": [
    "### 1.4 List 내부에 또 다른 Collection type을 편리하게 생성\n",
    "- 다음과 같은 형태의 list를 만들어라.\n",
    "- [ [1, 2, 3], [1, 2, 3], [1, 2, 3]]"
   ]
  },
  {
   "cell_type": "code",
   "execution_count": 11,
   "metadata": {},
   "outputs": [],
   "source": [
    "a = []\n",
    "for _ in range(3):\n",
    "    a.append([ x for x in range(1, 4) ])"
   ]
  },
  {
   "cell_type": "code",
   "execution_count": 12,
   "metadata": {},
   "outputs": [
    {
     "data": {
      "text/plain": [
       "[[1, 2, 3], [1, 2, 3], [1, 2, 3]]"
      ]
     },
     "execution_count": 12,
     "metadata": {},
     "output_type": "execute_result"
    }
   ],
   "source": [
    "a"
   ]
  },
  {
   "cell_type": "code",
   "execution_count": 13,
   "metadata": {},
   "outputs": [],
   "source": [
    "a = []\n",
    "for _ in range(1, 4):\n",
    "    elem = []\n",
    "    for x in range(1, 4):\n",
    "        elem.append(x)\n",
    "    a.append(elem)"
   ]
  },
  {
   "cell_type": "code",
   "execution_count": 14,
   "metadata": {},
   "outputs": [
    {
     "data": {
      "text/plain": [
       "[[1, 2, 3], [1, 2, 3], [1, 2, 3]]"
      ]
     },
     "execution_count": 14,
     "metadata": {},
     "output_type": "execute_result"
    }
   ],
   "source": [
    "a"
   ]
  },
  {
   "cell_type": "code",
   "execution_count": 22,
   "metadata": {},
   "outputs": [],
   "source": [
    "a = [ [ x for x in range(1, 4)] for _ in range(3)  ]"
   ]
  },
  {
   "cell_type": "code",
   "execution_count": 23,
   "metadata": {},
   "outputs": [
    {
     "data": {
      "text/plain": [
       "[[1, 2, 3], [1, 2, 3], [1, 2, 3]]"
      ]
     },
     "execution_count": 23,
     "metadata": {},
     "output_type": "execute_result"
    }
   ],
   "source": [
    "a"
   ]
  },
  {
   "cell_type": "markdown",
   "metadata": {},
   "source": [
    "### 1.5 if-else를 결합한 List Comprehension\n",
    "- 45보다 크거나 같으면 1을 더하고, 45보다 작으면 5를 더한 결과를 구하라.\n",
    "- a = [22, 13, 45, 50, 98, 69, 43, 44, 1]\n",
    "- 결과값 --> [27, 18, 46, 51, 99, 70, 48, 49, 6]"
   ]
  },
  {
   "cell_type": "code",
   "execution_count": 25,
   "metadata": {},
   "outputs": [],
   "source": [
    "a = [22, 13, 45, 50, 98, 69, 43, 44, 1]"
   ]
  },
  {
   "cell_type": "code",
   "execution_count": 26,
   "metadata": {},
   "outputs": [],
   "source": [
    "b = [ x+1 if x>=45 else x+45 for x in a]"
   ]
  },
  {
   "cell_type": "code",
   "execution_count": 27,
   "metadata": {},
   "outputs": [
    {
     "data": {
      "text/plain": [
       "[67, 58, 46, 51, 99, 70, 88, 89, 46]"
      ]
     },
     "execution_count": 27,
     "metadata": {},
     "output_type": "execute_result"
    }
   ],
   "source": [
    "b"
   ]
  },
  {
   "cell_type": "code",
   "execution_count": 10,
   "metadata": {},
   "outputs": [],
   "source": [
    "b = [ x+1 if x >= 45 else x+5  for x in a  ]"
   ]
  },
  {
   "cell_type": "markdown",
   "metadata": {},
   "source": [
    "### 1.6 성능비교"
   ]
  },
  {
   "cell_type": "code",
   "execution_count": 28,
   "metadata": {},
   "outputs": [
    {
     "name": "stdout",
     "output_type": "stream",
     "text": [
      "56.5 ms ± 1.43 ms per loop (mean ± std. dev. of 7 runs, 10 loops each)\n"
     ]
    }
   ],
   "source": [
    "%%timeit\n",
    "a = []\n",
    "for x in range(1_000_000):\n",
    "    a.append(x)\n",
    "len(a)"
   ]
  },
  {
   "cell_type": "code",
   "execution_count": 29,
   "metadata": {},
   "outputs": [
    {
     "name": "stdout",
     "output_type": "stream",
     "text": [
      "48.9 ms ± 742 µs per loop (mean ± std. dev. of 7 runs, 10 loops each)\n"
     ]
    }
   ],
   "source": [
    "%%timeit\n",
    "a = [ x for x in range(1_000_000) ]\n",
    "len(a)"
   ]
  },
  {
   "cell_type": "markdown",
   "metadata": {},
   "source": [
    "### 1.7 Dictionary Comprehension"
   ]
  },
  {
   "cell_type": "markdown",
   "metadata": {},
   "source": [
    "- 데이터를 사전 구조로 빠르게 생성하려는 경우\n",
    "- 실습 데이터: week_09_dict_comprehension.xlsx"
   ]
  },
  {
   "cell_type": "markdown",
   "metadata": {},
   "source": [
    "- shell 환경에서 pandas 설치\n",
    "    \n",
    "    ```bash\n",
    "       $ sudo apt update\n",
    "    ```\n",
    "    \n",
    "    ```bash\n",
    "       sudo apt install python3-pip\n",
    "    ```\n",
    "    \n",
    "- 주피터 노트북에서 설치\n",
    "\n",
    "    ```bash \n",
    "       !sudo apt update && sudo apt upgrade -y\n",
    "       !sudo apt install python3-pip\n",
    "    ```\n",
    "   \n",
    "    \n",
    "- 설치가 끝나면 노트북 서버를 다시 시작(현재 파일을 중지하고 커널 다시 시작)"
   ]
  },
  {
   "cell_type": "code",
   "execution_count": 30,
   "metadata": {
    "collapsed": true
   },
   "outputs": [
    {
     "name": "stdout",
     "output_type": "stream",
     "text": [
      "Hit:1 http://ap-northeast-2.ec2.archive.ubuntu.com/ubuntu noble InRelease\n",
      "Get:2 http://ap-northeast-2.ec2.archive.ubuntu.com/ubuntu noble-updates InRelease [126 kB]\n",
      "Get:3 http://ap-northeast-2.ec2.archive.ubuntu.com/ubuntu noble-backports InRelease [126 kB]\n",
      "Get:4 http://ap-northeast-2.ec2.archive.ubuntu.com/ubuntu noble-updates/main amd64 Packages [623 kB]\n",
      "Get:5 http://ap-northeast-2.ec2.archive.ubuntu.com/ubuntu noble-updates/main amd64 Components [114 kB]\n",
      "Get:6 http://ap-northeast-2.ec2.archive.ubuntu.com/ubuntu noble-updates/universe amd64 Packages [717 kB]\n",
      "Get:7 http://ap-northeast-2.ec2.archive.ubuntu.com/ubuntu noble-updates/universe Translation-en [213 kB]\n",
      "Get:8 http://security.ubuntu.com/ubuntu noble-security InRelease [126 kB]      \u001b[0m\n",
      "Get:9 http://ap-northeast-2.ec2.archive.ubuntu.com/ubuntu noble-updates/universe amd64 Components [305 kB]\n",
      "Get:10 http://ap-northeast-2.ec2.archive.ubuntu.com/ubuntu noble-updates/restricted amd64 Components [212 B]\n",
      "Get:11 http://ap-northeast-2.ec2.archive.ubuntu.com/ubuntu noble-updates/multiverse amd64 Components [940 B]\n",
      "Get:12 http://ap-northeast-2.ec2.archive.ubuntu.com/ubuntu noble-backports/main amd64 Components [208 B]\n",
      "Get:13 http://ap-northeast-2.ec2.archive.ubuntu.com/ubuntu noble-backports/universe amd64 Components [21.0 kB]\n",
      "Get:14 http://ap-northeast-2.ec2.archive.ubuntu.com/ubuntu noble-backports/restricted amd64 Components [212 B]\n",
      "Get:15 http://ap-northeast-2.ec2.archive.ubuntu.com/ubuntu noble-backports/multiverse amd64 Components [212 B]\n",
      "Get:16 http://security.ubuntu.com/ubuntu noble-security/main amd64 Packages [456 kB]\u001b[33m\u001b[33m\u001b[33m\u001b[33m\u001b[33m\u001b[33m\u001b[33m\u001b[33m\n",
      "Get:17 http://security.ubuntu.com/ubuntu noble-security/main Translation-en [97.2 kB]\n",
      "Get:18 http://security.ubuntu.com/ubuntu noble-security/main amd64 Components [7192 B]\n",
      "Get:19 http://security.ubuntu.com/ubuntu noble-security/universe amd64 Components [51.9 kB]\n",
      "Get:20 http://security.ubuntu.com/ubuntu noble-security/restricted amd64 Packages [428 kB]\n",
      "Get:21 http://security.ubuntu.com/ubuntu noble-security/restricted Translation-en [82.7 kB]3m\u001b[33m\u001b[33m\u001b[33m\u001b[33m\u001b[33m\n",
      "Get:22 http://security.ubuntu.com/ubuntu noble-security/restricted amd64 Components [212 B]3m\u001b[33m\n",
      "Get:23 http://security.ubuntu.com/ubuntu noble-security/multiverse amd64 Components [212 B]\n",
      "Fetched 3496 kB in 10s (344 kB/s)                                              \u001b[0m\u001b[33m\n",
      "Reading package lists... Done\n",
      "Building dependency tree... Done\n",
      "Reading state information... Done\n",
      "17 packages can be upgraded. Run 'apt list --upgradable' to see them.\n"
     ]
    }
   ],
   "source": [
    "!sudo apt update"
   ]
  },
  {
   "cell_type": "code",
   "execution_count": 31,
   "metadata": {},
   "outputs": [
    {
     "name": "stdout",
     "output_type": "stream",
     "text": [
      "Reading package lists... Done\n",
      "Building dependency tree... Done\n",
      "Reading state information... Done\n",
      "python3-pip is already the newest version (24.0+dfsg-1ubuntu1.1).\n",
      "0 upgraded, 0 newly installed, 0 to remove and 17 not upgraded.\n"
     ]
    }
   ],
   "source": [
    "!sudo apt install python3-pip"
   ]
  },
  {
   "cell_type": "code",
   "execution_count": 3,
   "metadata": {},
   "outputs": [
    {
     "name": "stdout",
     "output_type": "stream",
     "text": [
      "\u001b[1;31merror\u001b[0m: \u001b[1mexternally-managed-environment\u001b[0m\r\n",
      "\r\n",
      "\u001b[31m×\u001b[0m This environment is externally managed\r\n",
      "\u001b[31m╰─>\u001b[0m To install Python packages system-wide, try apt install\r\n",
      "\u001b[31m   \u001b[0m python3-xyz, where xyz is the package you are trying to\r\n",
      "\u001b[31m   \u001b[0m install.\r\n",
      "\u001b[31m   \u001b[0m \r\n",
      "\u001b[31m   \u001b[0m If you wish to install a non-Debian-packaged Python package,\r\n",
      "\u001b[31m   \u001b[0m create a virtual environment using python3 -m venv path/to/venv.\r\n",
      "\u001b[31m   \u001b[0m Then use path/to/venv/bin/python and path/to/venv/bin/pip. Make\r\n",
      "\u001b[31m   \u001b[0m sure you have python3-full installed.\r\n",
      "\u001b[31m   \u001b[0m \r\n",
      "\u001b[31m   \u001b[0m If you wish to install a non-Debian packaged Python application,\r\n",
      "\u001b[31m   \u001b[0m it may be easiest to use pipx install xyz, which will manage a\r\n",
      "\u001b[31m   \u001b[0m virtual environment for you. Make sure you have pipx installed.\r\n",
      "\u001b[31m   \u001b[0m \r\n",
      "\u001b[31m   \u001b[0m See /usr/share/doc/python3.12/README.venv for more information.\r\n",
      "\r\n",
      "\u001b[1;35mnote\u001b[0m: If you believe this is a mistake, please contact your Python installation or OS distribution provider. You can override this, at the risk of breaking your Python installation or OS, by passing --break-system-packages.\r\n",
      "\u001b[1;36mhint\u001b[0m: See PEP 668 for the detailed specification.\r\n"
     ]
    }
   ],
   "source": [
    "!pip install pandas"
   ]
  },
  {
   "cell_type": "markdown",
   "metadata": {},
   "source": [
    "```bash\n",
    "$ pip3 install pandas\n",
    "```\n",
    "\n",
    "```bash\n",
    "error: externally-managed-environment\n",
    "\n",
    "× This environment is externally managed\n",
    "╰─> To install Python packages system-wide, try apt install\n",
    "python3-xyz, where xyz is the package you are trying to\n",
    "install.\n",
    "\n",
    "If you wish to install a non-Debian-packaged Python package,\n",
    "create a virtual environment using python3 -m venv path/to/venv.\n",
    "Then use path/to/venv/bin/python and path/to/venv/bin/pip. Make\n",
    "sure you have python3-full installed.\n",
    "\n",
    "If you wish to install a non-Debian packaged Python application,\n",
    "it may be easiest to use pipx install xyz, which will manage a\n",
    "virtual environment for you. Make sure you have pipx installed.\n",
    "\n",
    "See /usr/share/doc/python3.11/README.venv for more information.\n",
    "\n",
    "note: If you believe this is a mistake, please contact your Python installation or \n",
    "OS distribution provider. You can override this, at the risk of breaking your Python installation or OS, \n",
    "by passing --break-system-packages.\n",
    "\n",
    "hint: See PEP 668 for the detailed specification.\n",
    "```\n",
    "\n",
    "\n",
    "### 위와 같은 에러가 발생하는 이유 \n",
    "- PEP [668](https://peps.python.org/pep-0668/) 참조\n",
    "- StackOverflow [post](https://stackoverflow.com/questions/75602063/pip-install-r-requirements-txt-is-failing-this-environment-is-externally-mana)\n",
    "- 해결방법\n",
    "    - 전역(global)으로 pandas 패키지 설치 $\\leftarrow$ 우리가 선택할 방법\n",
    "        \n",
    "        ```bash\n",
    "        sudo apt install python3-pandas\n",
    "        ```\n",
    "    - 가상환경을 설치 $\\to$ 가상환경에 jupyter notebook 설치 및 실행\n",
    "    \n",
    "        ```bash\n",
    "        python -m venv venv\n",
    "        . venv/bin/activate\n",
    "        (venv) pip installl jupyter notebook\n",
    "        (venv) python -m ipykernel install --user --name venv --display-name workspace-venv\n",
    "        (venv) jupyter notebook\n",
    "        ```"
   ]
  },
  {
   "cell_type": "markdown",
   "metadata": {},
   "source": [
    "- 글로벌 패키지로 pandas 설치"
   ]
  },
  {
   "cell_type": "code",
   "execution_count": 32,
   "metadata": {},
   "outputs": [
    {
     "name": "stdout",
     "output_type": "stream",
     "text": [
      "Reading package lists... Done\n",
      "Building dependency tree... Done\n",
      "Reading state information... Done\n",
      "python3-pandas is already the newest version (2.1.4+dfsg-7).\n",
      "0 upgraded, 0 newly installed, 0 to remove and 17 not upgraded.\n"
     ]
    }
   ],
   "source": [
    "!sudo apt install python3-pandas -y"
   ]
  },
  {
   "cell_type": "code",
   "execution_count": 33,
   "metadata": {},
   "outputs": [],
   "source": [
    "import pandas as pd"
   ]
  },
  {
   "cell_type": "markdown",
   "metadata": {},
   "source": [
    "### 만약 아래와 같은 메시지가 나온다면....\n",
    "\n",
    "/home/ubuntu/.local/lib/python3.8/site-packages/pandas/core/computation/expressions.py:20: UserWarning: Pandas requires version '2.7.3' or newer of 'numexpr' (version '2.7.1' currently installed).\n",
    "\n",
    "\n",
    "  from pandas.core.computation.check import NUMEXPR_INSTALLED"
   ]
  },
  {
   "cell_type": "code",
   "execution_count": 28,
   "metadata": {
    "collapsed": true
   },
   "outputs": [
    {
     "name": "stdout",
     "output_type": "stream",
     "text": [
      "Defaulting to user installation because normal site-packages is not writeable\n",
      "Requirement already satisfied: numexpr in /home/ubuntu/.local/lib/python3.8/site-packages (2.8.3)\n",
      "Collecting numexpr\n",
      "  Downloading numexpr-2.8.4-cp38-cp38-manylinux_2_17_x86_64.manylinux2014_x86_64.whl (381 kB)\n",
      "\u001b[2K     \u001b[90m━━━━━━━━━━━━━━━━━━━━━━━━━━━━━━━━━━━━━━\u001b[0m \u001b[32m381.7/381.7 kB\u001b[0m \u001b[31m17.2 MB/s\u001b[0m eta \u001b[36m0:00:00\u001b[0m\n",
      "\u001b[?25hRequirement already satisfied: numpy>=1.13.3 in /home/ubuntu/.local/lib/python3.8/site-packages (from numexpr) (1.23.4)\n",
      "Installing collected packages: numexpr\n",
      "  Attempting uninstall: numexpr\n",
      "    Found existing installation: numexpr 2.8.3\n",
      "    Uninstalling numexpr-2.8.3:\n",
      "      Successfully uninstalled numexpr-2.8.3\n",
      "Successfully installed numexpr-2.8.4\n"
     ]
    }
   ],
   "source": [
    "# !sudo apt install python3-numexpr -y"
   ]
  },
  {
   "cell_type": "code",
   "execution_count": 34,
   "metadata": {},
   "outputs": [
    {
     "data": {
      "text/plain": [
       "'2.1.4'"
      ]
     },
     "execution_count": 34,
     "metadata": {},
     "output_type": "execute_result"
    }
   ],
   "source": [
    "pd.__version__"
   ]
  },
  {
   "cell_type": "code",
   "execution_count": 38,
   "metadata": {},
   "outputs": [],
   "source": [
    "# data = pd.read_csv( 파일명, 구분자, header=None  )\n",
    "data = pd.read_csv('week_09_dict_comprehension.data', sep='\\t', header=None)"
   ]
  },
  {
   "cell_type": "code",
   "execution_count": 39,
   "metadata": {},
   "outputs": [
    {
     "name": "stdout",
     "output_type": "stream",
     "text": [
      "<class 'pandas.core.frame.DataFrame'>\n"
     ]
    }
   ],
   "source": [
    "print(type(data))"
   ]
  },
  {
   "cell_type": "code",
   "execution_count": 40,
   "metadata": {},
   "outputs": [],
   "source": [
    "df_data = pd.DataFrame(data)"
   ]
  },
  {
   "cell_type": "code",
   "execution_count": 6,
   "metadata": {},
   "outputs": [
    {
     "data": {
      "text/html": [
       "<div>\n",
       "<style scoped>\n",
       "    .dataframe tbody tr th:only-of-type {\n",
       "        vertical-align: middle;\n",
       "    }\n",
       "\n",
       "    .dataframe tbody tr th {\n",
       "        vertical-align: top;\n",
       "    }\n",
       "\n",
       "    .dataframe thead th {\n",
       "        text-align: right;\n",
       "    }\n",
       "</style>\n",
       "<table border=\"1\" class=\"dataframe\">\n",
       "  <thead>\n",
       "    <tr style=\"text-align: right;\">\n",
       "      <th></th>\n",
       "      <th>0</th>\n",
       "      <th>1</th>\n",
       "    </tr>\n",
       "  </thead>\n",
       "  <tbody>\n",
       "    <tr>\n",
       "      <th>0</th>\n",
       "      <td>권나영</td>\n",
       "      <td>83</td>\n",
       "    </tr>\n",
       "    <tr>\n",
       "      <th>1</th>\n",
       "      <td>김민주</td>\n",
       "      <td>81</td>\n",
       "    </tr>\n",
       "    <tr>\n",
       "      <th>2</th>\n",
       "      <td>박건순</td>\n",
       "      <td>97</td>\n",
       "    </tr>\n",
       "    <tr>\n",
       "      <th>3</th>\n",
       "      <td>박민기</td>\n",
       "      <td>94</td>\n",
       "    </tr>\n",
       "    <tr>\n",
       "      <th>4</th>\n",
       "      <td>박상현</td>\n",
       "      <td>88</td>\n",
       "    </tr>\n",
       "    <tr>\n",
       "      <th>5</th>\n",
       "      <td>박성재</td>\n",
       "      <td>82</td>\n",
       "    </tr>\n",
       "    <tr>\n",
       "      <th>6</th>\n",
       "      <td>박지훈</td>\n",
       "      <td>87</td>\n",
       "    </tr>\n",
       "    <tr>\n",
       "      <th>7</th>\n",
       "      <td>박환</td>\n",
       "      <td>94</td>\n",
       "    </tr>\n",
       "    <tr>\n",
       "      <th>8</th>\n",
       "      <td>배수민</td>\n",
       "      <td>83</td>\n",
       "    </tr>\n",
       "    <tr>\n",
       "      <th>9</th>\n",
       "      <td>신민정</td>\n",
       "      <td>92</td>\n",
       "    </tr>\n",
       "    <tr>\n",
       "      <th>10</th>\n",
       "      <td>신윤찬</td>\n",
       "      <td>81</td>\n",
       "    </tr>\n",
       "    <tr>\n",
       "      <th>11</th>\n",
       "      <td>신재성</td>\n",
       "      <td>95</td>\n",
       "    </tr>\n",
       "    <tr>\n",
       "      <th>12</th>\n",
       "      <td>염상훈</td>\n",
       "      <td>81</td>\n",
       "    </tr>\n",
       "    <tr>\n",
       "      <th>13</th>\n",
       "      <td>오경준</td>\n",
       "      <td>85</td>\n",
       "    </tr>\n",
       "    <tr>\n",
       "      <th>14</th>\n",
       "      <td>원지연</td>\n",
       "      <td>98</td>\n",
       "    </tr>\n",
       "    <tr>\n",
       "      <th>15</th>\n",
       "      <td>유영길</td>\n",
       "      <td>84</td>\n",
       "    </tr>\n",
       "    <tr>\n",
       "      <th>16</th>\n",
       "      <td>유종엽</td>\n",
       "      <td>83</td>\n",
       "    </tr>\n",
       "    <tr>\n",
       "      <th>17</th>\n",
       "      <td>이선준</td>\n",
       "      <td>93</td>\n",
       "    </tr>\n",
       "    <tr>\n",
       "      <th>18</th>\n",
       "      <td>이우준</td>\n",
       "      <td>81</td>\n",
       "    </tr>\n",
       "    <tr>\n",
       "      <th>19</th>\n",
       "      <td>이은솔</td>\n",
       "      <td>83</td>\n",
       "    </tr>\n",
       "    <tr>\n",
       "      <th>20</th>\n",
       "      <td>이재구</td>\n",
       "      <td>95</td>\n",
       "    </tr>\n",
       "    <tr>\n",
       "      <th>21</th>\n",
       "      <td>이주엽</td>\n",
       "      <td>90</td>\n",
       "    </tr>\n",
       "    <tr>\n",
       "      <th>22</th>\n",
       "      <td>정혜원</td>\n",
       "      <td>96</td>\n",
       "    </tr>\n",
       "    <tr>\n",
       "      <th>23</th>\n",
       "      <td>지현구</td>\n",
       "      <td>81</td>\n",
       "    </tr>\n",
       "    <tr>\n",
       "      <th>24</th>\n",
       "      <td>차현욱</td>\n",
       "      <td>97</td>\n",
       "    </tr>\n",
       "    <tr>\n",
       "      <th>25</th>\n",
       "      <td>최준영</td>\n",
       "      <td>90</td>\n",
       "    </tr>\n",
       "    <tr>\n",
       "      <th>26</th>\n",
       "      <td>한석우</td>\n",
       "      <td>86</td>\n",
       "    </tr>\n",
       "    <tr>\n",
       "      <th>27</th>\n",
       "      <td>허선웅</td>\n",
       "      <td>89</td>\n",
       "    </tr>\n",
       "  </tbody>\n",
       "</table>\n",
       "</div>"
      ],
      "text/plain": [
       "      0   1\n",
       "0   권나영  83\n",
       "1   김민주  81\n",
       "2   박건순  97\n",
       "3   박민기  94\n",
       "4   박상현  88\n",
       "5   박성재  82\n",
       "6   박지훈  87\n",
       "7    박환  94\n",
       "8   배수민  83\n",
       "9   신민정  92\n",
       "10  신윤찬  81\n",
       "11  신재성  95\n",
       "12  염상훈  81\n",
       "13  오경준  85\n",
       "14  원지연  98\n",
       "15  유영길  84\n",
       "16  유종엽  83\n",
       "17  이선준  93\n",
       "18  이우준  81\n",
       "19  이은솔  83\n",
       "20  이재구  95\n",
       "21  이주엽  90\n",
       "22  정혜원  96\n",
       "23  지현구  81\n",
       "24  차현욱  97\n",
       "25  최준영  90\n",
       "26  한석우  86\n",
       "27  허선웅  89"
      ]
     },
     "execution_count": 6,
     "metadata": {},
     "output_type": "execute_result"
    }
   ],
   "source": [
    "df_data "
   ]
  },
  {
   "cell_type": "code",
   "execution_count": 7,
   "metadata": {},
   "outputs": [
    {
     "data": {
      "text/plain": [
       "Index([0, 1], dtype='int64')"
      ]
     },
     "execution_count": 7,
     "metadata": {},
     "output_type": "execute_result"
    }
   ],
   "source": [
    "df_data.columns"
   ]
  },
  {
   "cell_type": "code",
   "execution_count": 48,
   "metadata": {},
   "outputs": [],
   "source": [
    "names = df_data[0].to_list()"
   ]
  },
  {
   "cell_type": "code",
   "execution_count": 49,
   "metadata": {},
   "outputs": [],
   "source": [
    "values = df_data[1].tolist()"
   ]
  },
  {
   "cell_type": "code",
   "execution_count": 50,
   "metadata": {},
   "outputs": [
    {
     "name": "stdout",
     "output_type": "stream",
     "text": [
      "['권나영', '김민주', '박건순', '박민기', '박상현', '박성재', '박지훈', '박환', '배수민', '신민정', '신윤찬', '신재성', '염상훈', '오경준', '원지연', '유영길', '유종엽', '이선준', '이우준', '이은솔', '이재구', '이주엽', '정혜원', '지현구', '차현욱', '최준영', '한석우', '허선웅']\n"
     ]
    }
   ],
   "source": [
    "print(names)"
   ]
  },
  {
   "cell_type": "code",
   "execution_count": 51,
   "metadata": {},
   "outputs": [
    {
     "name": "stdout",
     "output_type": "stream",
     "text": [
      "[83, 81, 97, 94, 88, 82, 87, 94, 83, 92, 81, 95, 81, 85, 98, 84, 83, 93, 81, 83, 95, 90, 96, 81, 97, 90, 86, 89]\n"
     ]
    }
   ],
   "source": [
    "print(values)"
   ]
  },
  {
   "cell_type": "markdown",
   "metadata": {},
   "source": [
    "### 1.7.1 names, values 사전으로 만들기 $\\to$ 반복문 이용"
   ]
  },
  {
   "cell_type": "code",
   "execution_count": 52,
   "metadata": {},
   "outputs": [],
   "source": [
    "dic_data = {} # 빈 사전 생성"
   ]
  },
  {
   "cell_type": "code",
   "execution_count": 53,
   "metadata": {},
   "outputs": [],
   "source": [
    "for name, value in zip(names, values):\n",
    "    dic_data[name] = value"
   ]
  },
  {
   "cell_type": "code",
   "execution_count": 54,
   "metadata": {},
   "outputs": [
    {
     "name": "stdout",
     "output_type": "stream",
     "text": [
      "{'권나영': 83, '김민주': 81, '박건순': 97, '박민기': 94, '박상현': 88, '박성재': 82, '박지훈': 87, '박환': 94, '배수민': 83, '신민정': 92, '신윤찬': 81, '신재성': 95, '염상훈': 81, '오경준': 85, '원지연': 98, '유영길': 84, '유종엽': 83, '이선준': 93, '이우준': 81, '이은솔': 83, '이재구': 95, '이주엽': 90, '정혜원': 96, '지현구': 81, '차현욱': 97, '최준영': 90, '한석우': 86, '허선웅': 89}\n"
     ]
    }
   ],
   "source": [
    "print(dic_data)"
   ]
  },
  {
   "cell_type": "markdown",
   "metadata": {},
   "source": [
    "### 1.7.2 names, values 사전으로 만들기 $\\to$ 좀 더 간편한 방법"
   ]
  },
  {
   "cell_type": "code",
   "execution_count": 55,
   "metadata": {},
   "outputs": [],
   "source": [
    "dic_data2 = dict(zip(names, values))"
   ]
  },
  {
   "cell_type": "code",
   "execution_count": 56,
   "metadata": {},
   "outputs": [
    {
     "name": "stdout",
     "output_type": "stream",
     "text": [
      "{'권나영': 83, '김민주': 81, '박건순': 97, '박민기': 94, '박상현': 88, '박성재': 82, '박지훈': 87, '박환': 94, '배수민': 83, '신민정': 92, '신윤찬': 81, '신재성': 95, '염상훈': 81, '오경준': 85, '원지연': 98, '유영길': 84, '유종엽': 83, '이선준': 93, '이우준': 81, '이은솔': 83, '이재구': 95, '이주엽': 90, '정혜원': 96, '지현구': 81, '차현욱': 97, '최준영': 90, '한석우': 86, '허선웅': 89}\n"
     ]
    }
   ],
   "source": [
    "print(dic_data2)"
   ]
  },
  {
   "cell_type": "markdown",
   "metadata": {},
   "source": [
    "### 1.7.3 names, values 사전으로 만들기 $\\to$ Comphension 이용"
   ]
  },
  {
   "cell_type": "code",
   "execution_count": 59,
   "metadata": {},
   "outputs": [],
   "source": [
    "dic_data3 = { name: value for name, value in zip(names, values)}"
   ]
  },
  {
   "cell_type": "code",
   "execution_count": 60,
   "metadata": {},
   "outputs": [],
   "source": [
    "dic_data4 = {\n",
    "    name: value   for name, value in zip(names, values)\n",
    "}"
   ]
  },
  {
   "cell_type": "code",
   "execution_count": 61,
   "metadata": {},
   "outputs": [
    {
     "name": "stdout",
     "output_type": "stream",
     "text": [
      "{'권나영': 83, '김민주': 81, '박건순': 97, '박민기': 94, '박상현': 88, '박성재': 82, '박지훈': 87, '박환': 94, '배수민': 83, '신민정': 92, '신윤찬': 81, '신재성': 95, '염상훈': 81, '오경준': 85, '원지연': 98, '유영길': 84, '유종엽': 83, '이선준': 93, '이우준': 81, '이은솔': 83, '이재구': 95, '이주엽': 90, '정혜원': 96, '지현구': 81, '차현욱': 97, '최준영': 90, '한석우': 86, '허선웅': 89}\n"
     ]
    }
   ],
   "source": [
    "print(dic_data3)"
   ]
  },
  {
   "cell_type": "markdown",
   "metadata": {},
   "source": [
    "## 퀴즈\n",
    "- 위에서 만든 사전(Dictionary)의 Key와 Value를 바꾸기"
   ]
  },
  {
   "cell_type": "code",
   "execution_count": 62,
   "metadata": {},
   "outputs": [],
   "source": [
    "dic_data_rev = { value: key for key, value in dic_data.items()  }"
   ]
  },
  {
   "cell_type": "code",
   "execution_count": 48,
   "metadata": {},
   "outputs": [],
   "source": [
    "dic_data_rev = {\n",
    "    y: x for x, y in dic_data.items()\n",
    "}"
   ]
  },
  {
   "cell_type": "code",
   "execution_count": 63,
   "metadata": {},
   "outputs": [
    {
     "name": "stdout",
     "output_type": "stream",
     "text": [
      "{83: '이은솔', 81: '지현구', 97: '차현욱', 94: '박환', 88: '박상현', 82: '박성재', 87: '박지훈', 92: '신민정', 95: '이재구', 85: '오경준', 98: '원지연', 84: '유영길', 93: '이선준', 90: '최준영', 96: '정혜원', 86: '한석우', 89: '허선웅'}\n"
     ]
    }
   ],
   "source": [
    "print(dic_data_rev )"
   ]
  },
  {
   "cell_type": "markdown",
   "metadata": {},
   "source": [
    "## 2. Callback 함수\n",
    "- 함수를 argument parameter로 사용"
   ]
  },
  {
   "cell_type": "code",
   "execution_count": 64,
   "metadata": {},
   "outputs": [],
   "source": [
    "def calculator(f, num1, num2):\n",
    "    return f(num1, num2)"
   ]
  },
  {
   "cell_type": "code",
   "execution_count": 65,
   "metadata": {},
   "outputs": [],
   "source": [
    "def plus(a, b):\n",
    "    return a + b"
   ]
  },
  {
   "cell_type": "code",
   "execution_count": 66,
   "metadata": {},
   "outputs": [],
   "source": [
    "def minus(a, b):\n",
    "    return a - b"
   ]
  },
  {
   "cell_type": "code",
   "execution_count": 67,
   "metadata": {},
   "outputs": [
    {
     "data": {
      "text/plain": [
       "7"
      ]
     },
     "execution_count": 67,
     "metadata": {},
     "output_type": "execute_result"
    }
   ],
   "source": [
    "calculator(plus, 3, 4)"
   ]
  },
  {
   "cell_type": "code",
   "execution_count": 68,
   "metadata": {},
   "outputs": [
    {
     "data": {
      "text/plain": [
       "-1"
      ]
     },
     "execution_count": 68,
     "metadata": {},
     "output_type": "execute_result"
    }
   ],
   "source": [
    "calculator(minus, 3, 4)"
   ]
  },
  {
   "cell_type": "code",
   "execution_count": 69,
   "metadata": {},
   "outputs": [],
   "source": [
    "def calculator2(indx, a, b):\n",
    "    if indx == '+':\n",
    "        return a + b\n",
    "    elif indx == '1':\n",
    "        return a - b\n",
    "    elif indx == 'sq':\n",
    "        return 'something'\n",
    "    \n",
    "    "
   ]
  },
  {
   "cell_type": "code",
   "execution_count": 70,
   "metadata": {},
   "outputs": [
    {
     "data": {
      "text/plain": [
       "5"
      ]
     },
     "execution_count": 70,
     "metadata": {},
     "output_type": "execute_result"
    }
   ],
   "source": [
    "calculator2('+',  2, 3)"
   ]
  },
  {
   "cell_type": "code",
   "execution_count": 71,
   "metadata": {},
   "outputs": [],
   "source": [
    "def square(a, b):\n",
    "    return a ** b"
   ]
  },
  {
   "cell_type": "code",
   "execution_count": 72,
   "metadata": {},
   "outputs": [
    {
     "data": {
      "text/plain": [
       "15625"
      ]
     },
     "execution_count": 72,
     "metadata": {},
     "output_type": "execute_result"
    }
   ],
   "source": [
    "calculator(square, 5, 6)"
   ]
  },
  {
   "cell_type": "markdown",
   "metadata": {},
   "source": [
    "## 퀴즈\n",
    "- 기존 함수: 구구단 출력 프로그램 작성\n",
    "    - 함수 1: gugu_asc, 파라미터: dan <- 출력을 원하는 단\n",
    "    - 함수 2: gugu_dsc, 파라미터: dan <- 출력을 원하는 단\n",
    "- 기존 함수 2개를 이용하여 구구단 출력\n",
    "    - 함수명: gugu_dir"
   ]
  },
  {
   "cell_type": "code",
   "execution_count": 73,
   "metadata": {},
   "outputs": [],
   "source": [
    "def gugu_asc(dan):\n",
    "    for x in range(1, 10):\n",
    "        print(f'{dan} x {x} = {dan * x}')"
   ]
  },
  {
   "cell_type": "code",
   "execution_count": 75,
   "metadata": {},
   "outputs": [],
   "source": [
    "def gugu_dsc(dan):\n",
    "    for x in range(1, 10):\n",
    "        print(f'{dan} x {10 - x} = {dan * (10 - x)}')"
   ]
  },
  {
   "cell_type": "code",
   "execution_count": 76,
   "metadata": {
    "collapsed": true
   },
   "outputs": [
    {
     "name": "stdout",
     "output_type": "stream",
     "text": [
      "4 x 9 = 36\n",
      "4 x 8 = 32\n",
      "4 x 7 = 28\n",
      "4 x 6 = 24\n",
      "4 x 5 = 20\n",
      "4 x 4 = 16\n",
      "4 x 3 = 12\n",
      "4 x 2 = 8\n",
      "4 x 1 = 4\n"
     ]
    }
   ],
   "source": [
    "gugu_dsc(4)"
   ]
  },
  {
   "cell_type": "code",
   "execution_count": 77,
   "metadata": {},
   "outputs": [],
   "source": [
    "def gugu_dir(f, dan):\n",
    "    return f(dan)"
   ]
  },
  {
   "cell_type": "code",
   "execution_count": 79,
   "metadata": {},
   "outputs": [
    {
     "name": "stdout",
     "output_type": "stream",
     "text": [
      "8 x 9 = 72\n",
      "8 x 8 = 64\n",
      "8 x 7 = 56\n",
      "8 x 6 = 48\n",
      "8 x 5 = 40\n",
      "8 x 4 = 32\n",
      "8 x 3 = 24\n",
      "8 x 2 = 16\n",
      "8 x 1 = 8\n"
     ]
    }
   ],
   "source": [
    "gugu_dir(gugu_dsc, 8)"
   ]
  },
  {
   "cell_type": "markdown",
   "metadata": {},
   "source": [
    "<hr>"
   ]
  },
  {
   "cell_type": "markdown",
   "metadata": {},
   "source": [
    "## 3. Packing, Unpacking\n",
    "- 파이썬 오픈 소스 등에서 매주 빈번히 보게되는 문법\n",
    "- 내가 쓰지 않더라도 남이 작성한 코드는 이해할 줄 알아야 한다.\n",
    "- 함수 파라미터 관리를 매우 유연하게 해줄 수 있는 문법\n",
    "\n",
    "- 문법:\n",
    "    - 파라미터 전달(list, tuple)\n",
    "        - Packing: *\n",
    "        - Unpacking: *\n",
    "    - 키워드 파라미터 전달(dict)\n",
    "        - Packing: **\n",
    "        - Unpacking: **"
   ]
  },
  {
   "cell_type": "markdown",
   "metadata": {},
   "source": [
    "### 3.1 Packing"
   ]
  },
  {
   "cell_type": "markdown",
   "metadata": {},
   "source": [
    "- 만약 입력 파라미터의 개수가 3개보다 많거나 적다면?"
   ]
  },
  {
   "cell_type": "code",
   "execution_count": 80,
   "metadata": {},
   "outputs": [],
   "source": [
    "# 다음 함수의 문제점?\n",
    "#    함수의 기능: 입력 파라미터의 총합\n",
    "def total_sum(a, b, c):\n",
    "    return a + b + c"
   ]
  },
  {
   "cell_type": "code",
   "execution_count": 81,
   "metadata": {},
   "outputs": [
    {
     "data": {
      "text/plain": [
       "6"
      ]
     },
     "execution_count": 81,
     "metadata": {},
     "output_type": "execute_result"
    }
   ],
   "source": [
    "total_sum(1, 2, 3)"
   ]
  },
  {
   "cell_type": "code",
   "execution_count": 82,
   "metadata": {},
   "outputs": [
    {
     "data": {
      "text/plain": [
       "6"
      ]
     },
     "execution_count": 82,
     "metadata": {},
     "output_type": "execute_result"
    }
   ],
   "source": [
    "total_sum(a=1, b=2, c=3)"
   ]
  },
  {
   "cell_type": "markdown",
   "metadata": {},
   "source": [
    "- 만약, 입력 파라미터 개수가 3개보다 많거나 적다면?"
   ]
  },
  {
   "cell_type": "code",
   "execution_count": 85,
   "metadata": {},
   "outputs": [],
   "source": [
    "a = [1, 2, 3, 10, 15, 17]"
   ]
  },
  {
   "cell_type": "code",
   "execution_count": 86,
   "metadata": {},
   "outputs": [],
   "source": [
    "def total_sum2(a):\n",
    "    temp = 0\n",
    "    for x in a:\n",
    "        temp += x\n",
    "    return temp"
   ]
  },
  {
   "cell_type": "code",
   "execution_count": 88,
   "metadata": {},
   "outputs": [
    {
     "data": {
      "text/plain": [
       "48"
      ]
     },
     "execution_count": 88,
     "metadata": {},
     "output_type": "execute_result"
    }
   ],
   "source": [
    "total_sum2(a)"
   ]
  },
  {
   "cell_type": "code",
   "execution_count": 90,
   "metadata": {
    "scrolled": true
   },
   "outputs": [
    {
     "ename": "TypeError",
     "evalue": "total_sum2() takes 1 positional argument but 6 were given",
     "output_type": "error",
     "traceback": [
      "\u001b[0;31m---------------------------------------------------------------------------\u001b[0m",
      "\u001b[0;31mTypeError\u001b[0m                                 Traceback (most recent call last)",
      "Cell \u001b[0;32mIn[90], line 1\u001b[0m\n\u001b[0;32m----> 1\u001b[0m \u001b[43mtotal_sum2\u001b[49m\u001b[43m(\u001b[49m\u001b[38;5;241;43m1\u001b[39;49m\u001b[43m,\u001b[49m\u001b[43m \u001b[49m\u001b[38;5;241;43m2\u001b[39;49m\u001b[43m,\u001b[49m\u001b[43m \u001b[49m\u001b[38;5;241;43m3\u001b[39;49m\u001b[43m,\u001b[49m\u001b[43m \u001b[49m\u001b[38;5;241;43m10\u001b[39;49m\u001b[43m,\u001b[49m\u001b[43m \u001b[49m\u001b[38;5;241;43m15\u001b[39;49m\u001b[43m,\u001b[49m\u001b[43m \u001b[49m\u001b[38;5;241;43m17\u001b[39;49m\u001b[43m)\u001b[49m\n",
      "\u001b[0;31mTypeError\u001b[0m: total_sum2() takes 1 positional argument but 6 were given"
     ]
    }
   ],
   "source": [
    "total_sum2(1, 2, 3, 10, 15, 17)"
   ]
  },
  {
   "cell_type": "code",
   "execution_count": 91,
   "metadata": {},
   "outputs": [
    {
     "ename": "TypeError",
     "evalue": "total_sum() missing 1 required positional argument: 'c'",
     "output_type": "error",
     "traceback": [
      "\u001b[0;31m---------------------------------------------------------------------------\u001b[0m",
      "\u001b[0;31mTypeError\u001b[0m                                 Traceback (most recent call last)",
      "Cell \u001b[0;32mIn[91], line 1\u001b[0m\n\u001b[0;32m----> 1\u001b[0m \u001b[43mtotal_sum\u001b[49m\u001b[43m(\u001b[49m\u001b[38;5;241;43m1\u001b[39;49m\u001b[43m,\u001b[49m\u001b[43m \u001b[49m\u001b[38;5;241;43m2\u001b[39;49m\u001b[43m)\u001b[49m\n",
      "\u001b[0;31mTypeError\u001b[0m: total_sum() missing 1 required positional argument: 'c'"
     ]
    }
   ],
   "source": [
    "total_sum(1, 2)"
   ]
  },
  {
   "cell_type": "markdown",
   "metadata": {},
   "source": [
    "- 해결책\n",
    "    - tuple packing 기능 활용\n",
    "    - 파라미터 수에 관계없이 작동하도록 변경"
   ]
  },
  {
   "cell_type": "code",
   "execution_count": 92,
   "metadata": {},
   "outputs": [],
   "source": [
    "def total_sum2(*args):\n",
    "    sum = 0\n",
    "    for x in args:\n",
    "        sum += x\n",
    "    return sum"
   ]
  },
  {
   "cell_type": "code",
   "execution_count": 93,
   "metadata": {},
   "outputs": [
    {
     "data": {
      "text/plain": [
       "1"
      ]
     },
     "execution_count": 93,
     "metadata": {},
     "output_type": "execute_result"
    }
   ],
   "source": [
    "total_sum2(1)"
   ]
  },
  {
   "cell_type": "code",
   "execution_count": 94,
   "metadata": {},
   "outputs": [],
   "source": [
    "a = 1, 2, 4, 19, 32, 23, 88"
   ]
  },
  {
   "cell_type": "code",
   "execution_count": 95,
   "metadata": {},
   "outputs": [
    {
     "data": {
      "text/plain": [
       "tuple"
      ]
     },
     "execution_count": 95,
     "metadata": {},
     "output_type": "execute_result"
    }
   ],
   "source": [
    "type(a)"
   ]
  },
  {
   "cell_type": "code",
   "execution_count": 96,
   "metadata": {},
   "outputs": [
    {
     "data": {
      "text/plain": [
       "169"
      ]
     },
     "execution_count": 96,
     "metadata": {},
     "output_type": "execute_result"
    }
   ],
   "source": [
    "total_sum2(*a)"
   ]
  },
  {
   "cell_type": "markdown",
   "metadata": {},
   "source": [
    "- 파라미터 전달 및 패킹의 실체\n",
    "    - 함수를 선언할 때는 패킹"
   ]
  },
  {
   "cell_type": "code",
   "execution_count": 99,
   "metadata": {},
   "outputs": [],
   "source": [
    "a = 1, 2"
   ]
  },
  {
   "cell_type": "code",
   "execution_count": 100,
   "metadata": {},
   "outputs": [],
   "source": [
    "x, y = a"
   ]
  },
  {
   "cell_type": "code",
   "execution_count": 101,
   "metadata": {},
   "outputs": [
    {
     "data": {
      "text/plain": [
       "1"
      ]
     },
     "execution_count": 101,
     "metadata": {},
     "output_type": "execute_result"
    }
   ],
   "source": [
    "x"
   ]
  },
  {
   "cell_type": "code",
   "execution_count": 102,
   "metadata": {},
   "outputs": [
    {
     "data": {
      "text/plain": [
       "2"
      ]
     },
     "execution_count": 102,
     "metadata": {},
     "output_type": "execute_result"
    }
   ],
   "source": [
    "y"
   ]
  },
  {
   "cell_type": "code",
   "execution_count": 104,
   "metadata": {},
   "outputs": [],
   "source": [
    "def total_sum3(*args):\n",
    "    print(type(args))\n",
    "    sum = 0\n",
    "    for x in args:\n",
    "        sum += x\n",
    "    return sum"
   ]
  },
  {
   "cell_type": "code",
   "execution_count": 105,
   "metadata": {},
   "outputs": [
    {
     "name": "stdout",
     "output_type": "stream",
     "text": [
      "<class 'tuple'>\n"
     ]
    },
    {
     "data": {
      "text/plain": [
       "169"
      ]
     },
     "execution_count": 105,
     "metadata": {},
     "output_type": "execute_result"
    }
   ],
   "source": [
    "total_sum3(1, 2, 4, 19, 32, 23, 88)"
   ]
  },
  {
   "cell_type": "markdown",
   "metadata": {},
   "source": [
    "- Dict Packing의 활용"
   ]
  },
  {
   "cell_type": "code",
   "execution_count": 106,
   "metadata": {},
   "outputs": [],
   "source": [
    "def family_name(mom, dad, sister, brother):\n",
    "    print('엄마 이름은 {}입니다.'.format(mom))\n",
    "    print('아빠 이름은 {}입니다.'.format(dad))\n",
    "    print('누나 이름은 {}입니다.'.format(sister))\n",
    "    print('형 이름은 {}입니다.'.format(brother))"
   ]
  },
  {
   "cell_type": "code",
   "execution_count": 107,
   "metadata": {},
   "outputs": [
    {
     "name": "stdout",
     "output_type": "stream",
     "text": [
      "엄마 이름은 유관선입니다.\n",
      "아빠 이름은 홍길동입니다.\n",
      "누나 이름은 홍이뻐입니다.\n",
      "형 이름은 노기섭입니다.\n"
     ]
    }
   ],
   "source": [
    "family_name(mom='유관선', dad='홍길동', sister='홍이뻐', brother='노기섭')"
   ]
  },
  {
   "cell_type": "markdown",
   "metadata": {},
   "source": [
    "- 만약 형이 있다면?"
   ]
  },
  {
   "cell_type": "code",
   "execution_count": 110,
   "metadata": {},
   "outputs": [
    {
     "ename": "TypeError",
     "evalue": "family_name() got an unexpected keyword argument 'bro'",
     "output_type": "error",
     "traceback": [
      "\u001b[0;31m---------------------------------------------------------------------------\u001b[0m",
      "\u001b[0;31mTypeError\u001b[0m                                 Traceback (most recent call last)",
      "Cell \u001b[0;32mIn[110], line 1\u001b[0m\n\u001b[0;32m----> 1\u001b[0m \u001b[43mfamily_name\u001b[49m\u001b[43m(\u001b[49m\u001b[43mmom\u001b[49m\u001b[38;5;241;43m=\u001b[39;49m\u001b[38;5;124;43m'\u001b[39;49m\u001b[38;5;124;43m유관선\u001b[39;49m\u001b[38;5;124;43m'\u001b[39;49m\u001b[43m,\u001b[49m\u001b[43m \u001b[49m\u001b[43mdad\u001b[49m\u001b[38;5;241;43m=\u001b[39;49m\u001b[38;5;124;43m'\u001b[39;49m\u001b[38;5;124;43m홍길동\u001b[39;49m\u001b[38;5;124;43m'\u001b[39;49m\u001b[43m,\u001b[49m\u001b[43m \u001b[49m\u001b[43msister\u001b[49m\u001b[38;5;241;43m=\u001b[39;49m\u001b[38;5;124;43m'\u001b[39;49m\u001b[38;5;124;43m홍이뻐\u001b[39;49m\u001b[38;5;124;43m'\u001b[39;49m\u001b[43m,\u001b[49m\u001b[43m \u001b[49m\u001b[43mbrother\u001b[49m\u001b[38;5;241;43m=\u001b[39;49m\u001b[38;5;124;43m'\u001b[39;49m\u001b[38;5;124;43m홍영웅\u001b[39;49m\u001b[38;5;124;43m'\u001b[39;49m\u001b[43m,\u001b[49m\u001b[43m \u001b[49m\u001b[43mbro\u001b[49m\u001b[38;5;241;43m=\u001b[39;49m\u001b[38;5;124;43m'\u001b[39;49m\u001b[38;5;124;43m큰형\u001b[39;49m\u001b[38;5;124;43m'\u001b[39;49m\u001b[43m)\u001b[49m\n",
      "\u001b[0;31mTypeError\u001b[0m: family_name() got an unexpected keyword argument 'bro'"
     ]
    }
   ],
   "source": [
    "family_name(mom='유관선', dad='홍길동', sister='홍이뻐', brother='홍영웅', bro='큰형')"
   ]
  },
  {
   "cell_type": "code",
   "execution_count": 111,
   "metadata": {},
   "outputs": [
    {
     "ename": "TypeError",
     "evalue": "family_name() missing 2 required positional arguments: 'sister' and 'brother'",
     "output_type": "error",
     "traceback": [
      "\u001b[0;31m---------------------------------------------------------------------------\u001b[0m",
      "\u001b[0;31mTypeError\u001b[0m                                 Traceback (most recent call last)",
      "Cell \u001b[0;32mIn[111], line 1\u001b[0m\n\u001b[0;32m----> 1\u001b[0m \u001b[43mfamily_name\u001b[49m\u001b[43m(\u001b[49m\u001b[43mmom\u001b[49m\u001b[38;5;241;43m=\u001b[39;49m\u001b[38;5;124;43m'\u001b[39;49m\u001b[38;5;124;43m유관선\u001b[39;49m\u001b[38;5;124;43m'\u001b[39;49m\u001b[43m,\u001b[49m\u001b[43m \u001b[49m\u001b[43mdad\u001b[49m\u001b[38;5;241;43m=\u001b[39;49m\u001b[38;5;124;43m'\u001b[39;49m\u001b[38;5;124;43m홍길동\u001b[39;49m\u001b[38;5;124;43m'\u001b[39;49m\u001b[43m)\u001b[49m\n",
      "\u001b[0;31mTypeError\u001b[0m: family_name() missing 2 required positional arguments: 'sister' and 'brother'"
     ]
    }
   ],
   "source": [
    "family_name(mom='유관선', dad='홍길동')"
   ]
  },
  {
   "cell_type": "markdown",
   "metadata": {},
   "source": [
    "- 해결책\n",
    "    - 어떤 키워드 파라미터가 들어오더라도 처리할 수 있도록 변경\n",
    "    - Dict packing 적용"
   ]
  },
  {
   "cell_type": "code",
   "execution_count": 112,
   "metadata": {},
   "outputs": [],
   "source": [
    "def family_name2(**kwargs):\n",
    "    for key, value in kwargs.items():\n",
    "        print('{} 이름은 {}입니다.'.format(key, value))"
   ]
  },
  {
   "cell_type": "code",
   "execution_count": 113,
   "metadata": {},
   "outputs": [
    {
     "name": "stdout",
     "output_type": "stream",
     "text": [
      "mom 이름은 유관선입니다.\n",
      "dad 이름은 홍길동입니다.\n"
     ]
    }
   ],
   "source": [
    "family_name2(mom='유관선', dad='홍길동')"
   ]
  },
  {
   "cell_type": "code",
   "execution_count": 114,
   "metadata": {},
   "outputs": [
    {
     "name": "stdout",
     "output_type": "stream",
     "text": [
      "mom 이름은 유관선입니다.\n",
      "dad 이름은 홍길동입니다.\n",
      "sister 이름은 홍이뻐입니다.\n",
      "bro 이름은 홍영웅입니다.\n",
      "cat 이름은 나비입니다.\n"
     ]
    }
   ],
   "source": [
    "family_name2(mom='유관선', dad='홍길동', sister='홍이뻐', bro='홍영웅', cat='나비')"
   ]
  },
  {
   "cell_type": "markdown",
   "metadata": {},
   "source": [
    "- Dict 파라미터 전달 및 패킹의 실체"
   ]
  },
  {
   "cell_type": "code",
   "execution_count": 115,
   "metadata": {},
   "outputs": [],
   "source": [
    "def family_name3(**kwargs):\n",
    "    print(type(kwargs))\n",
    "    for key, value in kwargs.items():\n",
    "        print('{} 이름은 {}입니다.'.format(key, value))"
   ]
  },
  {
   "cell_type": "code",
   "execution_count": 116,
   "metadata": {},
   "outputs": [
    {
     "name": "stdout",
     "output_type": "stream",
     "text": [
      "<class 'dict'>\n",
      "mom 이름은 유관선입니다.\n",
      "dad 이름은 홍길동입니다.\n"
     ]
    }
   ],
   "source": [
    "family_name3(mom='유관선', dad='홍길동')"
   ]
  },
  {
   "cell_type": "markdown",
   "metadata": {},
   "source": [
    "### 3.2 Unpacking"
   ]
  },
  {
   "cell_type": "code",
   "execution_count": 95,
   "metadata": {},
   "outputs": [],
   "source": [
    "a = [1, 4, 6, 7] # list\n",
    "b = (1, 4, 6, 7) # tuple"
   ]
  },
  {
   "cell_type": "code",
   "execution_count": 96,
   "metadata": {},
   "outputs": [
    {
     "name": "stdout",
     "output_type": "stream",
     "text": [
      "<class 'tuple'>\n"
     ]
    },
    {
     "data": {
      "text/plain": [
       "18"
      ]
     },
     "execution_count": 96,
     "metadata": {},
     "output_type": "execute_result"
    }
   ],
   "source": [
    "total_sum3(1, 4, 6, 7 )"
   ]
  },
  {
   "cell_type": "code",
   "execution_count": 97,
   "metadata": {},
   "outputs": [
    {
     "name": "stdout",
     "output_type": "stream",
     "text": [
      "<class 'tuple'>\n"
     ]
    },
    {
     "data": {
      "text/plain": [
       "18"
      ]
     },
     "execution_count": 97,
     "metadata": {},
     "output_type": "execute_result"
    }
   ],
   "source": [
    "total_sum3(*a)"
   ]
  },
  {
   "cell_type": "code",
   "execution_count": 98,
   "metadata": {},
   "outputs": [],
   "source": [
    "a = 1, 2"
   ]
  },
  {
   "cell_type": "code",
   "execution_count": 99,
   "metadata": {},
   "outputs": [],
   "source": [
    "x, y = a"
   ]
  },
  {
   "cell_type": "code",
   "execution_count": 100,
   "metadata": {},
   "outputs": [
    {
     "data": {
      "text/plain": [
       "1"
      ]
     },
     "execution_count": 100,
     "metadata": {},
     "output_type": "execute_result"
    }
   ],
   "source": [
    "x"
   ]
  },
  {
   "cell_type": "code",
   "execution_count": 101,
   "metadata": {},
   "outputs": [
    {
     "data": {
      "text/plain": [
       "2"
      ]
     },
     "execution_count": 101,
     "metadata": {},
     "output_type": "execute_result"
    }
   ],
   "source": [
    "y"
   ]
  },
  {
   "cell_type": "code",
   "execution_count": 102,
   "metadata": {},
   "outputs": [
    {
     "name": "stdout",
     "output_type": "stream",
     "text": [
      "<class 'tuple'>\n"
     ]
    },
    {
     "data": {
      "text/plain": [
       "18"
      ]
     },
     "execution_count": 102,
     "metadata": {},
     "output_type": "execute_result"
    }
   ],
   "source": [
    "total_sum3(1, 4, 6, 7)"
   ]
  },
  {
   "cell_type": "code",
   "execution_count": 103,
   "metadata": {},
   "outputs": [
    {
     "name": "stdout",
     "output_type": "stream",
     "text": [
      "<class 'tuple'>\n"
     ]
    },
    {
     "data": {
      "text/plain": [
       "18"
      ]
     },
     "execution_count": 103,
     "metadata": {},
     "output_type": "execute_result"
    }
   ],
   "source": [
    "total_sum3(*b)"
   ]
  },
  {
   "cell_type": "code",
   "execution_count": 117,
   "metadata": {},
   "outputs": [],
   "source": [
    "my_family = {\n",
    "    '아빠': '홍길동',\n",
    "    '엄마': '이영희',\n",
    "    '동생': '홍철기',\n",
    "    '강아지': '바둑이',\n",
    "}"
   ]
  },
  {
   "cell_type": "code",
   "execution_count": 118,
   "metadata": {},
   "outputs": [],
   "source": [
    "def family_name3(**kwargs):\n",
    "    print(type(kwargs))\n",
    "    for key, value in kwargs.items():\n",
    "        print('{} 이름은 {}입니다.'.format(key, value))    "
   ]
  },
  {
   "cell_type": "code",
   "execution_count": 119,
   "metadata": {
    "scrolled": true
   },
   "outputs": [
    {
     "name": "stdout",
     "output_type": "stream",
     "text": [
      "<class 'dict'>\n",
      "아빠 이름은 홍길동입니다.\n",
      "엄마 이름은 이영희입니다.\n",
      "동생 이름은 홍철기입니다.\n",
      "강아지 이름은 바둑이입니다.\n"
     ]
    }
   ],
   "source": [
    "family_name3(**my_family)"
   ]
  },
  {
   "cell_type": "markdown",
   "metadata": {},
   "source": [
    "## 4. Lambda Function\n",
    "- 익명함수 (함수의 이름이 없는 함수)\n",
    "- 함수를 3항 연산자와 비슷하게 한줄로 간결하게 표현 가능\n",
    "- 생각보다 많이 활용되는 유용한 함수\n",
    "- 1회용 함수로 자주 사용 (함수 호출시 생성, 실행 후 소멸) --> 메모리의 효율적 사용\n",
    "- 간단한 함수에 주로 적용"
   ]
  },
  {
   "cell_type": "code",
   "execution_count": 120,
   "metadata": {
    "scrolled": true
   },
   "outputs": [
    {
     "ename": "SyntaxError",
     "evalue": "invalid syntax (3773330007.py, line 1)",
     "output_type": "error",
     "traceback": [
      "\u001b[0;36m  Cell \u001b[0;32mIn[120], line 1\u001b[0;36m\u001b[0m\n\u001b[0;31m    def (*args, **kwargs):\u001b[0m\n\u001b[0m        ^\u001b[0m\n\u001b[0;31mSyntaxError\u001b[0m\u001b[0;31m:\u001b[0m invalid syntax\n"
     ]
    }
   ],
   "source": [
    "def (*args, **kwargs):\n",
    "    print(type(kwargs))\n",
    "    for key, value in kwargs.items():\n",
    "        print('{} 이름은 {}입니다.'.format(key, value))    "
   ]
  },
  {
   "cell_type": "code",
   "execution_count": 121,
   "metadata": {},
   "outputs": [],
   "source": [
    "def plus(a, b):\n",
    "    return a + b"
   ]
  },
  {
   "cell_type": "code",
   "execution_count": 122,
   "metadata": {},
   "outputs": [
    {
     "data": {
      "text/plain": [
       "9"
      ]
     },
     "execution_count": 122,
     "metadata": {},
     "output_type": "execute_result"
    }
   ],
   "source": [
    "plus(4, 5)"
   ]
  },
  {
   "cell_type": "code",
   "execution_count": 110,
   "metadata": {},
   "outputs": [],
   "source": [
    "plus2 = lambda a, b: a + b"
   ]
  },
  {
   "cell_type": "code",
   "execution_count": 111,
   "metadata": {},
   "outputs": [
    {
     "data": {
      "text/plain": [
       "7"
      ]
     },
     "execution_count": 111,
     "metadata": {},
     "output_type": "execute_result"
    }
   ],
   "source": [
    "plus2(3, 4)"
   ]
  },
  {
   "cell_type": "code",
   "execution_count": 123,
   "metadata": {},
   "outputs": [
    {
     "data": {
      "text/plain": [
       "241"
      ]
     },
     "execution_count": 123,
     "metadata": {},
     "output_type": "execute_result"
    }
   ],
   "source": [
    "calculator(lambda a, b: a**2 + b**3, 5, 6)"
   ]
  },
  {
   "cell_type": "markdown",
   "metadata": {},
   "source": [
    "## 5. map 함수\n",
    "### List 원소들에게 특정 효과(또는 operation)을 적용하고자 할 경우\n",
    "### 사용법: map(함수이름, 이터러블)"
   ]
  },
  {
   "cell_type": "code",
   "execution_count": 128,
   "metadata": {},
   "outputs": [],
   "source": [
    "# 리스트 값 중에서 짝수, 홀수를 구분해 내는 기능을 만들고 싶어요\n",
    "a = [1, 2, 3, 4]\n",
    "def odd_or_even(num):\n",
    "    return '짝수' if num % 2 == 0 else '홀수'"
   ]
  },
  {
   "cell_type": "code",
   "execution_count": 129,
   "metadata": {},
   "outputs": [
    {
     "data": {
      "text/plain": [
       "'홀수'"
      ]
     },
     "execution_count": 129,
     "metadata": {},
     "output_type": "execute_result"
    }
   ],
   "source": [
    "odd_or_even(5)"
   ]
  },
  {
   "cell_type": "code",
   "execution_count": 130,
   "metadata": {},
   "outputs": [],
   "source": [
    "def abc(num_list):\n",
    "    temp = []\n",
    "    for x in num_list:\n",
    "        temp.append(odd_or_even(x))\n",
    "    return temp    "
   ]
  },
  {
   "cell_type": "code",
   "execution_count": 131,
   "metadata": {},
   "outputs": [],
   "source": [
    "# List comprehension을 사용할 경우\n",
    "def abc2(num_list):\n",
    "    return [odd_or_even(x) for x in num_list]\n"
   ]
  },
  {
   "cell_type": "code",
   "execution_count": 132,
   "metadata": {},
   "outputs": [
    {
     "data": {
      "text/plain": [
       "['홀수', '짝수', '홀수', '짝수']"
      ]
     },
     "execution_count": 132,
     "metadata": {},
     "output_type": "execute_result"
    }
   ],
   "source": [
    "abc(a)"
   ]
  },
  {
   "cell_type": "code",
   "execution_count": 133,
   "metadata": {},
   "outputs": [
    {
     "data": {
      "text/plain": [
       "['홀수', '짝수', '홀수', '짝수']"
      ]
     },
     "execution_count": 133,
     "metadata": {},
     "output_type": "execute_result"
    }
   ],
   "source": [
    "abc2(a)"
   ]
  },
  {
   "cell_type": "code",
   "execution_count": 134,
   "metadata": {},
   "outputs": [
    {
     "data": {
      "text/plain": [
       "<map at 0x7eee53e6fbe0>"
      ]
     },
     "execution_count": 134,
     "metadata": {},
     "output_type": "execute_result"
    }
   ],
   "source": [
    "map(odd_or_even, a)"
   ]
  },
  {
   "cell_type": "code",
   "execution_count": 135,
   "metadata": {},
   "outputs": [],
   "source": [
    "result = list( map(odd_or_even, a))"
   ]
  },
  {
   "cell_type": "code",
   "execution_count": 136,
   "metadata": {},
   "outputs": [
    {
     "data": {
      "text/plain": [
       "['홀수', '짝수', '홀수', '짝수']"
      ]
     },
     "execution_count": 136,
     "metadata": {},
     "output_type": "execute_result"
    }
   ],
   "source": [
    "result"
   ]
  },
  {
   "cell_type": "code",
   "execution_count": 121,
   "metadata": {},
   "outputs": [],
   "source": [
    "result2 = map(lambda x: '짝수' if x % 2 == 0 else '홀수', a)"
   ]
  },
  {
   "cell_type": "code",
   "execution_count": 122,
   "metadata": {},
   "outputs": [
    {
     "data": {
      "text/plain": [
       "['홀수', '짝수', '홀수', '짝수']"
      ]
     },
     "execution_count": 122,
     "metadata": {},
     "output_type": "execute_result"
    }
   ],
   "source": [
    "list(result2)"
   ]
  },
  {
   "cell_type": "markdown",
   "metadata": {},
   "source": [
    "## 퀴즈\n",
    "- map 함수를 이용할 것!\n",
    "- 사용자로부터 입력받은 데이터를 띄어쓰기를 기준으로 분할하여 리스트로 작성\n",
    "- 리스트에 담기는 데이터는 정수형 숫자로 변환"
   ]
  },
  {
   "cell_type": "code",
   "execution_count": 137,
   "metadata": {
    "scrolled": true
   },
   "outputs": [
    {
     "name": "stdout",
     "output_type": "stream",
     "text": [
      "Type numbers: 1 2 3\n"
     ]
    }
   ],
   "source": [
    "data =  input('Type numbers: ')"
   ]
  },
  {
   "cell_type": "code",
   "execution_count": 138,
   "metadata": {},
   "outputs": [
    {
     "data": {
      "text/plain": [
       "'1 2 3'"
      ]
     },
     "execution_count": 138,
     "metadata": {},
     "output_type": "execute_result"
    }
   ],
   "source": [
    "data"
   ]
  },
  {
   "cell_type": "code",
   "execution_count": 128,
   "metadata": {},
   "outputs": [
    {
     "data": {
      "text/plain": [
       "'1 2 3 4 5'"
      ]
     },
     "execution_count": 128,
     "metadata": {},
     "output_type": "execute_result"
    }
   ],
   "source": [
    "data"
   ]
  },
  {
   "cell_type": "code",
   "execution_count": 129,
   "metadata": {},
   "outputs": [
    {
     "data": {
      "text/plain": [
       "['1', '2', '3', '4', '5']"
      ]
     },
     "execution_count": 129,
     "metadata": {},
     "output_type": "execute_result"
    }
   ],
   "source": [
    "data2 = data.split(' ')\n",
    "data2"
   ]
  },
  {
   "cell_type": "code",
   "execution_count": 130,
   "metadata": {},
   "outputs": [],
   "source": [
    "result = [ int(x) for x in data2]"
   ]
  },
  {
   "cell_type": "code",
   "execution_count": 131,
   "metadata": {},
   "outputs": [
    {
     "data": {
      "text/plain": [
       "[1, 2, 3, 4, 5]"
      ]
     },
     "execution_count": 131,
     "metadata": {},
     "output_type": "execute_result"
    }
   ],
   "source": [
    "result"
   ]
  },
  {
   "cell_type": "code",
   "execution_count": 132,
   "metadata": {},
   "outputs": [],
   "source": [
    "#result2 = map(함수이름, 이터러블)\n",
    "result2 = map(lambda x : int(x), data.split(' '))"
   ]
  },
  {
   "cell_type": "code",
   "execution_count": 133,
   "metadata": {},
   "outputs": [
    {
     "data": {
      "text/plain": [
       "[1, 2, 3, 4, 5]"
      ]
     },
     "execution_count": 133,
     "metadata": {},
     "output_type": "execute_result"
    }
   ],
   "source": [
    "list(result2)"
   ]
  },
  {
   "cell_type": "markdown",
   "metadata": {},
   "source": [
    "## 6. filter 함수\n",
    "### 리스트 원소 중에서 조건에 맞는 원소만 남기고 싶을 때\n",
    "### 사용법: filter(함수명, 이터러블)"
   ]
  },
  {
   "cell_type": "code",
   "execution_count": 139,
   "metadata": {},
   "outputs": [],
   "source": [
    "a = list(range(20))"
   ]
  },
  {
   "cell_type": "code",
   "execution_count": 140,
   "metadata": {},
   "outputs": [
    {
     "data": {
      "text/plain": [
       "[0, 1, 2, 3, 4, 5, 6, 7, 8, 9, 10, 11, 12, 13, 14, 15, 16, 17, 18, 19]"
      ]
     },
     "execution_count": 140,
     "metadata": {},
     "output_type": "execute_result"
    }
   ],
   "source": [
    "a"
   ]
  },
  {
   "cell_type": "code",
   "execution_count": 137,
   "metadata": {},
   "outputs": [],
   "source": [
    "def screen(x):\n",
    "    if x % 2 == 0 or x % 3 == 0:\n",
    "        return x"
   ]
  },
  {
   "cell_type": "code",
   "execution_count": 138,
   "metadata": {},
   "outputs": [],
   "source": [
    "result = list(filter(screen, a))"
   ]
  },
  {
   "cell_type": "code",
   "execution_count": 139,
   "metadata": {},
   "outputs": [
    {
     "data": {
      "text/plain": [
       "[2, 3, 4, 6, 8, 9, 10, 12, 14, 15, 16, 18]"
      ]
     },
     "execution_count": 139,
     "metadata": {},
     "output_type": "execute_result"
    }
   ],
   "source": [
    "result"
   ]
  },
  {
   "cell_type": "code",
   "execution_count": 140,
   "metadata": {},
   "outputs": [],
   "source": [
    "result = list(filter( lambda x : x % 2 == 0 or x % 3 == 0,   a))"
   ]
  },
  {
   "cell_type": "code",
   "execution_count": 141,
   "metadata": {},
   "outputs": [
    {
     "data": {
      "text/plain": [
       "[0, 2, 3, 4, 6, 8, 9, 10, 12, 14, 15, 16, 18]"
      ]
     },
     "execution_count": 141,
     "metadata": {},
     "output_type": "execute_result"
    }
   ],
   "source": [
    "result"
   ]
  },
  {
   "cell_type": "markdown",
   "metadata": {},
   "source": [
    "## 7. reduce 함수 (수업 시간에는 생략)\n",
    "### 리스트 요소를 반복적으로 연산을 적용하여 하나의 값으로 도출할 때\n",
    "### reduce 함수를 임포트 하여 사용\n",
    "    - from functools import reduce\n",
    "### 사용법: reduce(함수이름, 이터러블)"
   ]
  },
  {
   "cell_type": "code",
   "execution_count": 141,
   "metadata": {},
   "outputs": [],
   "source": [
    "from functools import reduce"
   ]
  },
  {
   "cell_type": "code",
   "execution_count": 142,
   "metadata": {},
   "outputs": [],
   "source": [
    "a =  [5, 2, 3, 4]"
   ]
  },
  {
   "cell_type": "code",
   "execution_count": 143,
   "metadata": {},
   "outputs": [],
   "source": [
    "def redu(x, y):\n",
    "    return x - y"
   ]
  },
  {
   "cell_type": "code",
   "execution_count": 144,
   "metadata": {},
   "outputs": [],
   "source": [
    "result3 = reduce(redu,  a)"
   ]
  },
  {
   "cell_type": "code",
   "execution_count": 145,
   "metadata": {},
   "outputs": [
    {
     "data": {
      "text/plain": [
       "-4"
      ]
     },
     "execution_count": 145,
     "metadata": {},
     "output_type": "execute_result"
    }
   ],
   "source": [
    "result3"
   ]
  },
  {
   "cell_type": "code",
   "execution_count": 146,
   "metadata": {},
   "outputs": [
    {
     "data": {
      "text/plain": [
       "-4"
      ]
     },
     "execution_count": 146,
     "metadata": {},
     "output_type": "execute_result"
    }
   ],
   "source": [
    "result4 = reduce(lambda x, y: x - y,  a)\n",
    "result4"
   ]
  },
  {
   "cell_type": "markdown",
   "metadata": {},
   "source": [
    "## 7. Decorators\n",
    "- 함수를 받아 명령을 추가한 뒤 이를 다시 함수의 형태로 반환하는 함수\n",
    "- 함수의 내부를 수정하지 않고 기능에 변화를 주고 싶을 때 사용\n",
    "- 일반적으로 함수의 전처리나 후처리에 대한 필요가 있을때 사용\n",
    "- 데코레이터를 이용해, 반복을 줄이고 메소드나 함수의 책임을 확장\n",
    "\n",
    "\n",
    "- 즉, 함수에서 코드를 바꾸지 않고 기능을 추가하거나 수정할 때\n"
   ]
  },
  {
   "cell_type": "markdown",
   "metadata": {},
   "source": [
    "### 7.1 코드가 중복되는 상황\n",
    "```\n",
    "def sample_func_1():\n",
    "    soucce_code_1\n",
    "    soucce_code_2\n",
    "    soucce_code_3\n",
    "    return \n",
    "```\n",
    "\n",
    "```\n",
    "def sample_func_2():\n",
    "    soucce_code_1\n",
    "    soucce_code_4\n",
    "    soucce_code_3\n",
    "    return \n",
    "```\n",
    "\n",
    "- 코드의 중복\n",
    "```soucce_code_1```과 ```soucce_code_3``` 각각의 함수에서 중복\n",
    "- 만약, 여러개의 함수에서 중복되는 소스코드가 100군데라면???\n",
    "- 중복되는 코드를 묶어서 따로 관리할 수 없을까??"
   ]
  },
  {
   "cell_type": "markdown",
   "metadata": {},
   "source": [
    "### 7.2 Decorator 일반적 활용 (conventions)"
   ]
  },
  {
   "cell_type": "markdown",
   "metadata": {},
   "source": [
    "- 일반적인 Decorator 선언 방법\n",
    "```\n",
    "def deco_func(func_name):\n",
    "\n",
    "    # Decorator가 실행된 즉시 wrapper 함수가 선언됨\n",
    "    def wrapper(*args, **kwargs):\n",
    "        source_code\n",
    "            :\n",
    "            :\n",
    "        \n",
    "        result = func_name(*args, **kwargs)\n",
    "        \n",
    "        source_code\n",
    "            :\n",
    "            :\n",
    "        \n",
    "        return result # wrapper 함수의 리턴값\n",
    "    \n",
    "    return wrapper \n",
    "```\n",
    "\n",
    "\n",
    "\n",
    "- Decorator 적용\n",
    "\n",
    "```\n",
    "@deco_func\n",
    "def test1():\n",
    "    source_code\n",
    "        :\n",
    "        :\n",
    "```\n",
    "- deco_func 함수가 리턴한 wrapper 함수가 test1 함수로 바뀜\n",
    "\n",
    "\n",
    "\n",
    "```\n",
    "@deco_func\n",
    "def test2():\n",
    "    source_code\n",
    "        :\n",
    "        :\n",
    "```\n",
    "- deco_func 함수가 리턴한 wrapper 함수가 test2 함수로 바뀜"
   ]
  },
  {
   "cell_type": "markdown",
   "metadata": {},
   "source": [
    "## 7.3 Decorator 실습 - 함수의 실행 시간을 측정하는 데코레이터 작성"
   ]
  },
  {
   "cell_type": "code",
   "execution_count": 147,
   "metadata": {},
   "outputs": [],
   "source": [
    "import time"
   ]
  },
  {
   "cell_type": "markdown",
   "metadata": {},
   "source": [
    "### 데코레이터 함수 정의"
   ]
  },
  {
   "cell_type": "code",
   "execution_count": 150,
   "metadata": {},
   "outputs": [],
   "source": [
    "def run_time_decorator(func_name):\n",
    "    def wrapper(*args, **kwargs):\n",
    "        start_time = time.time()\n",
    "        result = func_name(*args, **kwargs)\n",
    "        end_time = time.time()\n",
    "        print('함수 실행시간: {}'.format(end_time - start_time))\n",
    "        return result\n",
    "    return wrapper        "
   ]
  },
  {
   "cell_type": "markdown",
   "metadata": {},
   "source": [
    "### 일반 함수 정의"
   ]
  },
  {
   "cell_type": "markdown",
   "metadata": {},
   "source": [
    "- 아래 계산 결과를 모두 더하는 함수 $\\to$ big_loop(num)\n",
    "\n",
    "\\begin{align}\n",
    "1^2 \\\\\n",
    "1^2 + 2^2 \\\\\n",
    "1^2 + 2^2 + 3^2 \\\\\n",
    "   : \\\\\n",
    "1^2 + 2^2 + 3^2 + .... + num^2 \\\\\n",
    "\\end{align}\n",
    "\n",
    "\n"
   ]
  },
  {
   "cell_type": "code",
   "execution_count": 149,
   "metadata": {},
   "outputs": [],
   "source": [
    "def big_loop(num):\n",
    "    data = list(range(1, num+1))\n",
    "    result = []\n",
    "    for x in data:\n",
    "        temp = 0\n",
    "        for y in range(1, x+1):\n",
    "            temp += y ** 2\n",
    "        result.append(temp)\n",
    "    print('결과값은 {} 입니다.'.format(sum(result)))\n",
    "    return sum(result)"
   ]
  },
  {
   "cell_type": "markdown",
   "metadata": {},
   "source": [
    "### 데코레이터를 사용하지 않는 경우"
   ]
  },
  {
   "cell_type": "code",
   "execution_count": 151,
   "metadata": {},
   "outputs": [
    {
     "name": "stdout",
     "output_type": "stream",
     "text": [
      "결과값은 83667083500 입니다.\n",
      "함수 실행시간: 0.05041766166687012\n"
     ]
    }
   ],
   "source": [
    "start_time = time.time()\n",
    "big_loop(1000)\n",
    "end_time = time.time()\n",
    "print('함수 실행시간: {}'.format(end_time - start_time))"
   ]
  },
  {
   "cell_type": "markdown",
   "metadata": {},
   "source": [
    "### 데코레이터를 사용할 경우"
   ]
  },
  {
   "cell_type": "code",
   "execution_count": 154,
   "metadata": {},
   "outputs": [],
   "source": [
    "@run_time_decorator\n",
    "def big_loop2(num):\n",
    "    data = list(range(1, num+1))\n",
    "    result = []\n",
    "    for x in data:\n",
    "        temp = 0\n",
    "        for y in range(1, x+1):\n",
    "            temp += y ** 2\n",
    "        result.append(temp)\n",
    "    print('결과값은 {} 입니다.'.format(sum(result)))\n",
    "    return sum(result)"
   ]
  },
  {
   "cell_type": "code",
   "execution_count": 155,
   "metadata": {},
   "outputs": [
    {
     "name": "stdout",
     "output_type": "stream",
     "text": [
      "결과값은 83667083500 입니다.\n",
      "함수 실행시간: 0.05078315734863281\n"
     ]
    },
    {
     "data": {
      "text/plain": [
       "83667083500"
      ]
     },
     "execution_count": 155,
     "metadata": {},
     "output_type": "execute_result"
    }
   ],
   "source": [
    "big_loop2(1000)"
   ]
  },
  {
   "cell_type": "code",
   "execution_count": 157,
   "metadata": {},
   "outputs": [],
   "source": [
    "@run_time_decorator\n",
    "def big_loop3(num):\n",
    "    data = list(range(1, num+1))\n",
    "    result = []\n",
    "    for x in data:\n",
    "        temp = 0\n",
    "        for y in range(1, x+1):\n",
    "            temp += y ** 2\n",
    "        result.append(temp)\n",
    "    print('결과값은 {} 입니다.'.format(sum(result)))\n",
    "    return sum(result)"
   ]
  },
  {
   "cell_type": "code",
   "execution_count": 158,
   "metadata": {},
   "outputs": [
    {
     "name": "stdout",
     "output_type": "stream",
     "text": [
      "결과값은 83667083500 입니다.\n",
      "함수 실행시간: 0.04899907112121582\n"
     ]
    },
    {
     "data": {
      "text/plain": [
       "83667083500"
      ]
     },
     "execution_count": 158,
     "metadata": {},
     "output_type": "execute_result"
    }
   ],
   "source": [
    "big_loop3(1000)"
   ]
  },
  {
   "cell_type": "markdown",
   "metadata": {},
   "source": [
    "### 또 다른 일반 함수로 실습\n",
    "- 배열의 제곱 합을 구하는 함수"
   ]
  },
  {
   "cell_type": "code",
   "execution_count": 159,
   "metadata": {},
   "outputs": [],
   "source": [
    "def list_sum(num):\n",
    "    data = range(1, num+1)\n",
    "    result = 0\n",
    "    for x in data:\n",
    "        result += x ** 2\n",
    "    print('결과값: {}'.format(result))\n",
    "    return result"
   ]
  },
  {
   "cell_type": "code",
   "execution_count": 160,
   "metadata": {},
   "outputs": [
    {
     "name": "stdout",
     "output_type": "stream",
     "text": [
      "결과값: 333833500\n"
     ]
    },
    {
     "data": {
      "text/plain": [
       "333833500"
      ]
     },
     "execution_count": 160,
     "metadata": {},
     "output_type": "execute_result"
    }
   ],
   "source": [
    "list_sum(1000)"
   ]
  },
  {
   "cell_type": "markdown",
   "metadata": {},
   "source": [
    "### 만약 시간측정 데코레이터가 있다면 간단히 해결!"
   ]
  },
  {
   "cell_type": "code",
   "execution_count": 161,
   "metadata": {},
   "outputs": [],
   "source": [
    "@run_time_decorator\n",
    "def list_sum2(num):\n",
    "    data = range(1, num+1)\n",
    "    result = 0\n",
    "    for x in data:\n",
    "        result += x ** 2\n",
    "    print('결과값: {}'.format(result))\n",
    "    return result"
   ]
  },
  {
   "cell_type": "code",
   "execution_count": 162,
   "metadata": {},
   "outputs": [
    {
     "name": "stdout",
     "output_type": "stream",
     "text": [
      "결과값: 333833500\n",
      "함수 실행시간: 0.0006856918334960938\n"
     ]
    },
    {
     "data": {
      "text/plain": [
       "333833500"
      ]
     },
     "execution_count": 162,
     "metadata": {},
     "output_type": "execute_result"
    }
   ],
   "source": [
    "list_sum2(1000)"
   ]
  },
  {
   "cell_type": "markdown",
   "metadata": {},
   "source": [
    "### Notebook Magic Command 사용해 보기"
   ]
  },
  {
   "cell_type": "code",
   "execution_count": 167,
   "metadata": {},
   "outputs": [
    {
     "name": "stdout",
     "output_type": "stream",
     "text": [
      "60.8 ns ± 0.24 ns per loop (mean ± std. dev. of 7 runs, 10000000 loops each)\n"
     ]
    }
   ],
   "source": [
    "%%timeit\n",
    "def list_sum2(num):\n",
    "    data = range(1, num+1)\n",
    "    result = 0\n",
    "    for x in data:\n",
    "        result += x ** 2\n",
    "    print('결과값: {}'.format(result))\n",
    "    return result"
   ]
  },
  {
   "cell_type": "markdown",
   "metadata": {},
   "source": [
    "## 퀴즈\n",
    "- 로그인 함수: log_in(user_name, password), 리턴: True / Fasle\n",
    "- 임의의 함수: print_hello(name) $\\to$ 'Hello {name}'를 출력하는 함수\n",
    "- 데코레이터 함수: login_required\n",
    "    - user_name 과 password 가 일치하면 print_hello 함수 실행\n",
    "    - user_name 과 password 가 틀리면 '로그인이 필요한 서비스 입니다.' 출력"
   ]
  },
  {
   "cell_type": "code",
   "execution_count": 163,
   "metadata": {},
   "outputs": [],
   "source": [
    "LOGIN = True\n",
    "#LOGIN = False"
   ]
  },
  {
   "cell_type": "code",
   "execution_count": 164,
   "metadata": {},
   "outputs": [],
   "source": [
    "def print_hello(name):\n",
    "    print(f'Hello {name}')"
   ]
  },
  {
   "cell_type": "code",
   "execution_count": 165,
   "metadata": {},
   "outputs": [
    {
     "name": "stdout",
     "output_type": "stream",
     "text": [
      "Hello 교수님\n"
     ]
    }
   ],
   "source": [
    "# 데코레이터가 없는 경우\n",
    "\n",
    "if LOGIN:\n",
    "    print_hello(\"교수님\")\n",
    "else:\n",
    "    print('로그인이 필요한 서비스 입니다.')"
   ]
  },
  {
   "cell_type": "markdown",
   "metadata": {},
   "source": [
    "<hr>"
   ]
  },
  {
   "cell_type": "code",
   "execution_count": 166,
   "metadata": {},
   "outputs": [],
   "source": [
    "# 데코레이터 함수\n",
    "def login_required(func_name):\n",
    "    def wrapper(*args, **kwargs):\n",
    "        if LOGIN:\n",
    "            return func_name(*args, **kwargs)\n",
    "        else:\n",
    "            print('로그인이 필요한 서비스 입니다.')\n",
    "            return\n",
    "            \n",
    "    return wrapper     "
   ]
  },
  {
   "cell_type": "code",
   "execution_count": 168,
   "metadata": {},
   "outputs": [],
   "source": [
    "@login_required\n",
    "def print_hello(name):\n",
    "    print(f'Hello {name}')"
   ]
  },
  {
   "cell_type": "code",
   "execution_count": 169,
   "metadata": {},
   "outputs": [
    {
     "name": "stdout",
     "output_type": "stream",
     "text": [
      "Hello 교수님\n"
     ]
    }
   ],
   "source": [
    "print_hello('교수님')"
   ]
  },
  {
   "cell_type": "code",
   "execution_count": 170,
   "metadata": {},
   "outputs": [],
   "source": [
    "# LOGIN = True\n",
    "LOGIN = False"
   ]
  },
  {
   "cell_type": "code",
   "execution_count": 171,
   "metadata": {},
   "outputs": [
    {
     "name": "stdout",
     "output_type": "stream",
     "text": [
      "로그인이 필요한 서비스 입니다.\n"
     ]
    }
   ],
   "source": [
    "print_hello('홍길동')"
   ]
  }
 ],
 "metadata": {
  "kernelspec": {
   "display_name": "yoongsulgu",
   "language": "python",
   "name": "python3"
  },
  "language_info": {
   "codemirror_mode": {
    "name": "ipython",
    "version": 3
   },
   "file_extension": ".py",
   "mimetype": "text/x-python",
   "name": "python",
   "nbconvert_exporter": "python",
   "pygments_lexer": "ipython3",
   "version": "3.10.12"
  }
 },
 "nbformat": 4,
 "nbformat_minor": 4
}
