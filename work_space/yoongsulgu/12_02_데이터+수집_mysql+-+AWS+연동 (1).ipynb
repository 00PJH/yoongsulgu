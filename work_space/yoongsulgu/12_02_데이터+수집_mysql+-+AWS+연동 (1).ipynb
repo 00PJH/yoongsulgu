{
 "cells": [
  {
   "cell_type": "markdown",
   "metadata": {},
   "source": [
    "# AWS에 MySQL 환경 설정하기"
   ]
  },
  {
   "cell_type": "markdown",
   "metadata": {},
   "source": [
    "## MySQL 소개"
   ]
  },
  {
   "cell_type": "markdown",
   "metadata": {},
   "source": [
    "- 마이에스큐엘 또는 마이시퀄 이라고 발음\n",
    "- 세계에서 가장 많이 사용하는 관계형 DB (RDBMS)\n",
    "- 초기 버전은 MySQL AB사에서 1995년 발표 (공동 창업자 몬티 와이드니우스의 딸 이름인 'My'에서 따왔다고 알려짐)\n",
    "- 2008년 썬 마이크로시스템즈사가 MySQL AB사를 인수\n",
    "- 2010년 오라클은 썬 마이크로시스템즈를 합병 \n",
    "- 현재까지 [오라클](https://www.oracle.com/)에서 관리/지원\n",
    "\n",
    "<img src=\"https://www.datanet.co.kr/news/photo/201709/114558_43187_4527.jpg\" width=500>"
   ]
  },
  {
   "cell_type": "markdown",
   "metadata": {},
   "source": [
    "### MySQL 시각화 관리 툴\n",
    "- HeidiSQL: 경량 프로그램 (우리가 사용할 툴)\n",
    "- MySQL [워크벤치](https://github.com/mysql/mysql-workbench)를 이용하여 관리 가능\n",
    "- 경량 애플리케이션 HeidiSQL 활용하여 관리 가능"
   ]
  },
  {
   "cell_type": "markdown",
   "metadata": {},
   "source": [
    "## MySQL 설치"
   ]
  },
  {
   "cell_type": "markdown",
   "metadata": {},
   "source": [
    "### mysql-server, mysql-client 설치\n",
    "- 참고 블로그\n",
    "    - [How To Install MySQL on Ubuntu 20.04](https://www.digitalocean.com/community/tutorials/how-to-install-mysql-on-ubuntu-20-04)\n",
    "    - [How to Install MySQL on Ubuntu 22.04](https://linuxhint.com/install-mysql-on-ubuntu-22-04/)\n",
    "    - [Mysql root 비밀번호 setup error(mysql secure installation)](https://seong6496.tistory.com/322)\n",
    "\n",
    "\n",
    "```bash\n",
    "$ sudo apt update\n",
    "$ sudo apt install mysql-server\n",
    "```"
   ]
  },
  {
   "cell_type": "markdown",
   "metadata": {},
   "source": [
    "### 설치는 터미널에서 진행하겠습니다.\n",
    "- `E: Unmet dependencies. Try 'apt --fix-broken install' with no packages (or specify a solution).`\n",
    "- `$sudo apt install mysql-server`\n",
    "- 아래와 같은 확인창이 뜰 수 있음 $\\to$ 확인 처리 하려면 터미널에서 작업해야 함\n",
    "![확인창](./terminal-mysql-install-msg.png)"
   ]
  },
  {
   "cell_type": "code",
   "execution_count": 1,
   "metadata": {
    "collapsed": true
   },
   "outputs": [
    {
     "name": "stdout",
     "output_type": "stream",
     "text": [
      "Hit:1 http://us-east-1.ec2.archive.ubuntu.com/ubuntu jammy InRelease\n",
      "Get:2 http://us-east-1.ec2.archive.ubuntu.com/ubuntu jammy-updates InRelease [119 kB]\n",
      "Get:3 http://us-east-1.ec2.archive.ubuntu.com/ubuntu jammy-backports InRelease [109 kB]\n",
      "Get:4 http://security.ubuntu.com/ubuntu jammy-security InRelease [110 kB]      \n",
      "Get:5 https://dl.google.com/linux/chrome/deb stable InRelease [1825 B]         \u001b[0m\u001b[33m\n",
      "Get:6 http://us-east-1.ec2.archive.ubuntu.com/ubuntu jammy-updates/main amd64 Packages [1211 kB]\n",
      "Get:7 http://us-east-1.ec2.archive.ubuntu.com/ubuntu jammy-updates/main Translation-en [253 kB]\n",
      "Get:8 http://us-east-1.ec2.archive.ubuntu.com/ubuntu jammy-updates/restricted amd64 Packages [1185 kB]\n",
      "Get:9 http://us-east-1.ec2.archive.ubuntu.com/ubuntu jammy-updates/restricted Translation-en [192 kB]\n",
      "Get:10 http://us-east-1.ec2.archive.ubuntu.com/ubuntu jammy-updates/universe amd64 Packages [1010 kB]\n",
      "Get:11 http://us-east-1.ec2.archive.ubuntu.com/ubuntu jammy-updates/universe Translation-en [224 kB]\n",
      "Get:12 http://us-east-1.ec2.archive.ubuntu.com/ubuntu jammy-updates/multiverse amd64 Packages [41.6 kB]\n",
      "Get:13 http://us-east-1.ec2.archive.ubuntu.com/ubuntu jammy-backports/universe amd64 Packages [27.8 kB]\n",
      "Get:14 http://us-east-1.ec2.archive.ubuntu.com/ubuntu jammy-backports/universe Translation-en [16.5 kB]\n",
      "Get:15 http://security.ubuntu.com/ubuntu jammy-security/main amd64 Packages [1002 kB]\n",
      "Get:16 http://security.ubuntu.com/ubuntu jammy-security/main Translation-en [193 kB]\n",
      "Get:17 http://security.ubuntu.com/ubuntu jammy-security/restricted amd64 Packages [1164 kB]\n",
      "Get:18 http://security.ubuntu.com/ubuntu jammy-security/restricted Translation-en [189 kB]\n",
      "Get:19 http://security.ubuntu.com/ubuntu jammy-security/universe amd64 Packages [807 kB]\n",
      "Get:20 http://security.ubuntu.com/ubuntu jammy-security/universe Translation-en [150 kB]\n",
      "Get:21 http://security.ubuntu.com/ubuntu jammy-security/multiverse amd64 Packages [36.5 kB]\n",
      "Get:22 https://dl.google.com/linux/chrome/deb stable/main amd64 Packages [1082 B]\n",
      "Fetched 8044 kB in 3s (3188 kB/s)[33m\u001b[33m             \u001b[33m\u001b[33m\u001b[33m\u001b[33m\u001b[33m\u001b[33m\u001b[33m\n",
      "Reading package lists... Done\n",
      "Building dependency tree... Done\n",
      "Reading state information... Done\n",
      "64 packages can be upgraded. Run 'apt list --upgradable' to see them.\n"
     ]
    }
   ],
   "source": [
    "!sudo apt update"
   ]
  },
  {
   "cell_type": "code",
   "execution_count": null,
   "metadata": {},
   "outputs": [
    {
     "name": "stdout",
     "output_type": "stream",
     "text": [
      "Reading package lists... Done\n",
      "Building dependency tree... Done\n",
      "Reading state information... Done\n",
      "You might want to run 'apt --fix-broken install' to correct these.\n",
      "The following packages have unmet dependencies:\n",
      " linux-headers-6.2.0-1015-aws : Depends: linux-aws-6.2-headers-6.2.0-1015 but it is not going to be installed\n",
      " mysql-server : Depends: mysql-server-8.0 but it is not going to be installed\n",
      "\u001b[1;31mE: \u001b[0mUnmet dependencies. Try 'apt --fix-broken install' with no packages (or specify a solution).\u001b[0m\n"
     ]
    }
   ],
   "source": [
    "!sudo apt install mysql-server -y"
   ]
  },
  {
   "cell_type": "markdown",
   "metadata": {},
   "source": [
    "- 설치 시 에러가 난다면\n",
    "    - 아래 명령어 실행"
   ]
  },
  {
   "cell_type": "code",
   "execution_count": 7,
   "metadata": {},
   "outputs": [
    {
     "name": "stdout",
     "output_type": "stream",
     "text": [
      "Reading package lists... Done\n",
      "Building dependency tree... Done\n",
      "Reading state information... Done\n",
      "Correcting dependencies... Done\n",
      "The following packages were automatically installed and are no longer required:\n",
      "  linux-aws-6.2-headers-6.2.0-1013 linux-headers-6.2.0-1013-aws\n",
      "  linux-image-6.2.0-1013-aws linux-modules-6.2.0-1013-aws\n",
      "Use 'sudo apt autoremove' to remove them.\n",
      "The following additional packages will be installed:\n",
      "  linux-aws-6.2-headers-6.2.0-1015\n",
      "The following NEW packages will be installed:\n",
      "  linux-aws-6.2-headers-6.2.0-1015\n",
      "0 upgraded, 1 newly installed, 0 to remove and 64 not upgraded.\n",
      "6 not fully installed or removed.\n",
      "Need to get 0 B/13.0 MB of archives.\n",
      "After this operation, 83.7 MB of additional disk space will be used.\n",
      "\n",
      "(Reading database ... 193943 files and directories currently installed.)\n",
      "Preparing to unpack .../linux-aws-6.2-headers-6.2.0-1015_6.2.0-1015.15~22.04.1_all.deb ...\n",
      "\u001b7\u001b[24;0f\u001b[42m\u001b[30mProgress: [  0%]\u001b[49m\u001b[39m [..........................................................] \u001b8\u001b7\u001b[24;0f\u001b[42m\u001b[30mProgress: [  6%]\u001b[49m\u001b[39m [###.......................................................] \u001b8Unpacking linux-aws-6.2-headers-6.2.0-1015 (6.2.0-1015.15~22.04.1) ...\n",
      "\u001b7\u001b[24;0f\u001b[42m\u001b[30mProgress: [ 12%]\u001b[49m\u001b[39m [######....................................................] \u001b8Setting up linux-aws-6.2-headers-6.2.0-1015 (6.2.0-1015.15~22.04.1) ...\n",
      "\u001b7\u001b[24;0f\u001b[42m\u001b[30mProgress: [ 18%]\u001b[49m\u001b[39m [##########................................................] \u001b8\u001b7\u001b[24;0f\u001b[42m\u001b[30mProgress: [ 24%]\u001b[49m\u001b[39m [#############.............................................] \u001b8Setting up linux-headers-6.2.0-1015-aws (6.2.0-1015.15~22.04.1) ...\n",
      "\u001b7\u001b[24;0f\u001b[42m\u001b[30mProgress: [ 29%]\u001b[49m\u001b[39m [#################.........................................] \u001b8\u001b7\u001b[24;0f\u001b[42m\u001b[30mProgress: [ 35%]\u001b[49m\u001b[39m [####################......................................] \u001b8Setting up linux-headers-aws (6.2.0.1015.15~22.04.1) ...\n",
      "\u001b7\u001b[24;0f\u001b[42m\u001b[30mProgress: [ 41%]\u001b[49m\u001b[39m [#######################...................................] \u001b8\u001b7\u001b[24;0f\u001b[42m\u001b[30mProgress: [ 47%]\u001b[49m\u001b[39m [###########################...............................] \u001b8Setting up linux-image-6.2.0-1015-aws (6.2.0-1015.15~22.04.1) ...\n",
      "\u001b7\u001b[24;0f\u001b[42m\u001b[30mProgress: [ 53%]\u001b[49m\u001b[39m [##############################............................] \u001b8I: /boot/vmlinuz.old is now a symlink to vmlinuz-6.2.0-1014-aws\n",
      "I: /boot/initrd.img.old is now a symlink to initrd.img-6.2.0-1014-aws\n",
      "I: /boot/vmlinuz is now a symlink to vmlinuz-6.2.0-1015-aws\n",
      "I: /boot/initrd.img is now a symlink to initrd.img-6.2.0-1015-aws\n",
      "\u001b7\u001b[24;0f\u001b[42m\u001b[30mProgress: [ 59%]\u001b[49m\u001b[39m [##################################........................] \u001b8Setting up linux-image-aws (6.2.0.1015.15~22.04.1) ...\n",
      "\u001b7\u001b[24;0f\u001b[42m\u001b[30mProgress: [ 63%]\u001b[49m\u001b[39m [####################################......................] \u001b8Setting up linux-aws (6.2.0.1015.15~22.04.1) ...\n",
      "\u001b7\u001b[24;0f\u001b[42m\u001b[30mProgress: [ 68%]\u001b[49m\u001b[39m [#######################################...................] \u001b8\u001b7\u001b[24;0f\u001b[42m\u001b[30mProgress: [ 74%]\u001b[49m\u001b[39m [##########################################................] \u001b8Setting up linux-modules-6.2.0-1015-aws (6.2.0-1015.15~22.04.1) ...\n",
      "\u001b7\u001b[24;0f\u001b[42m\u001b[30mProgress: [ 79%]\u001b[49m\u001b[39m [#############################################.............] \u001b8\u001b7\u001b[24;0f\u001b[42m\u001b[30mProgress: [ 84%]\u001b[49m\u001b[39m [################################################..........] \u001b8Processing triggers for linux-image-6.2.0-1015-aws (6.2.0-1015.15~22.04.1) ...\n",
      "\u001b7\u001b[24;0f\u001b[42m\u001b[30mProgress: [ 89%]\u001b[49m\u001b[39m [###################################################.......] \u001b8/etc/kernel/postinst.d/initramfs-tools:\n",
      "update-initramfs: Generating /boot/initrd.img-6.2.0-1015-aws\n",
      "/etc/kernel/postinst.d/zz-update-grub:\n",
      "Sourcing file `/etc/default/grub'\n",
      "Sourcing file `/etc/default/grub.d/40-force-partuuid.cfg'\n",
      "Sourcing file `/etc/default/grub.d/50-cloudimg-settings.cfg'\n",
      "Sourcing file `/etc/default/grub.d/init-select.cfg'\n",
      "Generating grub configuration file ...\n",
      "GRUB_FORCE_PARTUUID is set, will attempt initrdless boot\n",
      "Found linux image: /boot/vmlinuz-6.2.0-1015-aws\n",
      "Found initrd image: /boot/microcode.cpio /boot/initrd.img-6.2.0-1015-aws\n",
      "Found linux image: /boot/vmlinuz-6.2.0-1014-aws\n",
      "Found initrd image: /boot/microcode.cpio /boot/initrd.img-6.2.0-1014-aws\n",
      "Found linux image: /boot/vmlinuz-6.2.0-1013-aws\n",
      "Found initrd image: /boot/microcode.cpio /boot/initrd.img-6.2.0-1013-aws\n",
      "Found linux image: /boot/vmlinuz-5.19.0-1025-aws\n",
      "Found initrd image: /boot/microcode.cpio /boot/initrd.img-5.19.0-1025-aws\n",
      "Warning: os-prober will not be executed to detect other bootable partitions.\n",
      "Systems on them will not be added to the GRUB boot configuration.\n",
      "Check GRUB_DISABLE_OS_PROBER documentation entry.\n",
      "done\n",
      "\u001b7\u001b[24;0f\u001b[42m\u001b[30mProgress: [ 95%]\u001b[49m\u001b[39m [######################################################....] \u001b8\n",
      "Scanning processes...                                                                            ]\n",
      "Scanning candidates...                                                          \n",
      "Scanning linux images...                                                        \n",
      "\u001b7\u001b[?47h\u001b[1;24r\u001b[4l\u001b[m\u001b[37m\u001b[40m\u001b[1;24r\u001b[H\u001b[2J\u001b[1;1H\u001b[1m\u001b[37m\u001b[45m                                                                                \u001b[2;1H                                                                                \u001b[3;1H                                                                                \u001b[4;1H                                                                                \u001b[5;1H                                                                                \u001b[6;1H                                                                                \u001b[7;1H                                                                                \u001b[8;1H                                                                                \u001b[9;1H                                                                                \u001b[10;1H                                                                                \u001b[11;1H                                                                                \u001b[12;1H                                                                                \u001b[13;1H                                                                                \u001b[14;1H                                                                                \u001b[15;1H                                                                                \u001b[16;1H                                                                                \u001b[17;1H                                                                                \u001b[18;1H                                                                                \u001b[19;1H                                                                                \u001b[20;1H                                                                                \u001b[21;1H                                                                                \u001b[22;1H                                                                                \u001b[23;1H                                                                                \u001b[24;1H                                                                               \u001b[24;79H\u001b[4h \u001b[4l\u001b[1;1H\u001b[m\u001b[37m\u001b[45mPackage configuration\u001b[6;2H\u001b[30m\u001b[47m┌────────────────────────┤ \u001b[31mPending kernel upgrade\u001b[30m ├─────────────────────────┐\u001b[7;2H│                                                                           │\u001b[1m\u001b[37m\u001b[40m \u001b[8;2H\u001b[m\u001b[30m\u001b[47m│ Newer kernel available                                                    │\u001b[1m\u001b[37m\u001b[40m \u001b[9;2H\u001b[m\u001b[30m\u001b[47m│                                                                           │\u001b[1m\u001b[37m\u001b[40m \u001b[10;2H\u001b[m\u001b[30m\u001b[47m│ The currently running kernel version is 6.2.0-1014-aws which is not the   │\u001b[1m\u001b[37m\u001b[40m \u001b[11;2H\u001b[m\u001b[30m\u001b[47m│ expected kernel version 6.2.0-1015-aws.                                   │\u001b[1m\u001b[37m\u001b[40m \u001b[12;2H\u001b[m\u001b[30m\u001b[47m│                                                                           │\u001b[1m\u001b[37m\u001b[40m \u001b[13;2H\u001b[m\u001b[30m\u001b[47m│ Restarting the system to load the new kernel will not be handled          │\u001b[1m\u001b[37m\u001b[40m \u001b[14;2H\u001b[m\u001b[30m\u001b[47m│ automatically, so you should consider rebooting.                          │\u001b[1m\u001b[37m\u001b[40m \u001b[15;2H\u001b[m\u001b[30m\u001b[47m│                                                                           │\u001b[1m\u001b[37m\u001b[40m \u001b[16;2H\u001b[m\u001b[30m\u001b[47m│                                  \u001b[37m\u001b[41m<Ok>\u001b[30m\u001b[47m                                     │\u001b[1m\u001b[37m\u001b[40m \u001b[17;2H\u001b[m\u001b[30m\u001b[47m│                                                                           │\u001b[1m\u001b[37m\u001b[40m \u001b[18;2H\u001b[m\u001b[30m\u001b[47m└───────────────────────────────────────────────────────────────────────────┘\u001b[1m\u001b[37m\u001b[40m \u001b[19;3H                                                                             \u001b[16;38H"
     ]
    }
   ],
   "source": [
    "!sudo apt --fix-broken install -y"
   ]
  },
  {
   "cell_type": "markdown",
   "metadata": {},
   "source": [
    "### MySQL 실행\n",
    "\n",
    "\n",
    "```bash\n",
    "$ sudo systemctl status mysql\n",
    "\n",
    "# 만약 active(running) 상태가 아니라면, mysql-server 실행\n",
    "$ sudo systemctl start mysql \n",
    "$ sudo systemctl status mysql\n",
    "\n",
    "mysql.service - MySQL Community Server\n",
    "     Loaded: loaded (/lib/systemd/system/mysql.service; enabled; vendor preset: enabled)\n",
    "     Active: active (running) since Tue 2022-11-22 01:44:30 UTC; 41s ago\n",
    "   Main PID: 39540 (mysqld)\n",
    "     Status: \"Server is operational\"\n",
    "      Tasks: 39 (limit: 1143)\n",
    "     Memory: 349.3M\n",
    "     CGroup: /system.slice/mysql.service\n",
    "             └─39540 /usr/sbin/mysqld\n",
    "\n",
    "Nov 22 01:44:29 ip-172-31-42-168 systemd[1]: Starting MySQL Community Server...\n",
    "Nov 22 01:44:30 ip-172-31-42-168 systemd[1]: Started MySQL Community Server.\n",
    "\n",
    "```"
   ]
  },
  {
   "cell_type": "markdown",
   "metadata": {},
   "source": [
    "## MySQL 환경 설정"
   ]
  },
  {
   "cell_type": "markdown",
   "metadata": {},
   "source": [
    "### 현재까지 상황\n",
    "- MySQL 설치하였지만, 비밀번호와 필요한 설정을 하지 않은 상태임\n",
    "- 안전한 DB 운영을 위한 추가 설정이 필요함"
   ]
  },
  {
   "cell_type": "markdown",
   "metadata": {},
   "source": [
    "<hr>"
   ]
  },
  {
   "cell_type": "markdown",
   "metadata": {},
   "source": [
    "### root 계정 비밀번호 설정\n",
    "\n",
    "- MySQL 루트 계정이 비밀번호를 사용하여 접속하도록 변경(`ALTER USER` 명령어 사용)\n",
    "- 세션 복제를 통해 터미널을 새로 열기\n"
   ]
  },
  {
   "cell_type": "markdown",
   "metadata": {},
   "source": [
    "```bash\n",
    "$ sudo mysql\n",
    "\n",
    "    Welcome to the MySQL monitor.  Commands end with ; or \\g.\n",
    "    Your MySQL connection id is 8\n",
    "    Server version: 8.0.35-0ubuntu0.22.04.1 (Ubuntu)\n",
    "\n",
    "    Copyright (c) 2000, 2023, Oracle and/or its affiliates.\n",
    "\n",
    "    Oracle is a registered trademark of Oracle Corporation and/or its\n",
    "    affiliates. Other names may be trademarks of their respective\n",
    "    owners.\n",
    "\n",
    "    Type 'help;' or '\\h' for help. Type '\\c' to clear the current input statement.\n",
    "\n",
    "```\n"
   ]
  },
  {
   "cell_type": "markdown",
   "metadata": {},
   "source": [
    "- 패스워드를 사용하여 루트 계정에 접속할 수 있도록 설정\n",
    "    - 주의: `password`에는 자신의 비번을 입력합니다."
   ]
  },
  {
   "cell_type": "markdown",
   "metadata": {},
   "source": [
    "```bash\n",
    "mysql> ALTER USER 'root'@'localhost' IDENTIFIED WITH mysql_native_password BY '여러분이 사용할 비번';\n",
    "    Query OK, 0 rows affected (0.02 sec)\n",
    "```"
   ]
  },
  {
   "cell_type": "markdown",
   "metadata": {},
   "source": [
    "- 설정을 마치고 빠져 나오기"
   ]
  },
  {
   "cell_type": "markdown",
   "metadata": {},
   "source": [
    "```bash\n",
    "mysql> exit\n",
    "    Bye\n",
    "```\n"
   ]
  },
  {
   "cell_type": "markdown",
   "metadata": {},
   "source": [
    "- 비밀 번호 설정한 root로 접속해 보기"
   ]
  },
  {
   "cell_type": "markdown",
   "metadata": {},
   "source": [
    "```bash\n",
    "$ mysql -u root -p\n",
    "```"
   ]
  },
  {
   "cell_type": "markdown",
   "metadata": {},
   "source": [
    "<hr>"
   ]
  },
  {
   "cell_type": "markdown",
   "metadata": {},
   "source": [
    "### 루트 권한을 갖는 사용자 생성\n",
    "- 루트를 직접 사용하는 것은 위험\n",
    "- 사용자를 하나 더 생성하고 루트 권한을 부여하여 사용합니다."
   ]
  },
  {
   "cell_type": "markdown",
   "metadata": {},
   "source": [
    "```bash\n",
    "$ mysql -u root -p\n",
    "\n",
    "mysql> CREATE USER '추가할 아이디'@'%' IDENTIFIED WITH mysql_native_password BY '비밀번호';\n",
    "    Query OK, 0 rows affected (0.05 sec)\n",
    "\n",
    "mysql> GRANT ALL PRIVILEGES ON *.* TO '추가한 아이디'@'%' WITH GRANT OPTION;\n",
    "\n",
    "mysql> FLUSH PRIVILEGES;\n",
    "    Query OK, 0 rows affected (0.01 sec)\n",
    "    \n",
    "mysql> exit\n",
    "Bye\n",
    "```"
   ]
  },
  {
   "cell_type": "markdown",
   "metadata": {},
   "source": [
    "### 예시"
   ]
  },
  {
   "cell_type": "markdown",
   "metadata": {},
   "source": [
    "```bash\n",
    "mysql> CREATE USER 'test'@'%' IDENTIFIED BY 'Test*0446';\n",
    "Query OK, 0 rows affected (0.01 sec)\n",
    "\n",
    "\n",
    "mysql> GRANT ALL PRIVILEGES ON *.* TO 'test'@'%' WITH GRANT OPTION;\n",
    "Query OK, 0 rows affected (0.01 sec)\n",
    "\n",
    "\n",
    "mysql> FLUSH PRIVILEGES;\n",
    "    Query OK, 0 rows affected (0.01 sec)\n",
    "\n",
    "mysql> exit\n",
    "Bye\n",
    "```"
   ]
  },
  {
   "cell_type": "markdown",
   "metadata": {},
   "source": [
    "- 추가한 아이디로 접속해 보기"
   ]
  },
  {
   "cell_type": "markdown",
   "metadata": {},
   "source": [
    "```bash\n",
    "$ mysql -u '추가한 아이디' -p\n",
    "    Enter password: \n",
    "    Welcome to the MySQL monitor.  Commands end with ; or \\g.\n",
    "    Your MySQL connection id is 17\n",
    "    Server version: 8.0.31-0ubuntu0.20.04.1 (Ubuntu)\n",
    "\n",
    "    Copyright (c) 2000, 2022, Oracle and/or its affiliates.\n",
    "\n",
    "    Oracle is a registered trademark of Oracle Corporation and/or its\n",
    "    affiliates. Other names may be trademarks of their respective\n",
    "    owners.\n",
    "\n",
    "    Type 'help;' or '\\h' for help. Type '\\c' to clear the current input statement.\n",
    "\n",
    "mysql> \n",
    "```"
   ]
  },
  {
   "cell_type": "markdown",
   "metadata": {},
   "source": [
    "### 소켓 연결 설정 (생략)"
   ]
  },
  {
   "cell_type": "markdown",
   "metadata": {},
   "source": [
    "- 루트 계정으로 접속하여 기본설정 (`auth_socket`)으로 변경\n",
    "\n",
    "```bash\n",
    "\n",
    "$ mysql -u root -p\n",
    "\n",
    "    Enter password: \n",
    "    Welcome to the MySQL monitor.  Commands end with ; or \\g.\n",
    "    Your MySQL connection id is 11\n",
    "    Server version: 8.0.31-0ubuntu0.20.04.1 (Ubuntu)\n",
    "\n",
    "    Copyright (c) 2000, 2022, Oracle and/or its affiliates.\n",
    "\n",
    "    Oracle is a registered trademark of Oracle Corporation and/or its\n",
    "    affiliates. Other names may be trademarks of their respective\n",
    "    owners.\n",
    "\n",
    "    Type 'help;' or '\\h' for help. Type '\\c' to clear the current input statement.\n",
    "\n",
    "\n",
    "mysql> ALTER USER 'root'@'localhost' IDENTIFIED WITH auth_socket;\n",
    "\n",
    "    Query OK, 0 rows affected (0.01 sec)\n",
    "\n",
    "mysql> exit\n",
    "    Bye\n",
    "```"
   ]
  },
  {
   "cell_type": "markdown",
   "metadata": {},
   "source": [
    "<hr>"
   ]
  },
  {
   "cell_type": "markdown",
   "metadata": {},
   "source": [
    "### 환경 설정"
   ]
  },
  {
   "cell_type": "markdown",
   "metadata": {},
   "source": [
    "```bash\n",
    "$ sudo mysql_secure_installation\n",
    "```"
   ]
  },
  {
   "cell_type": "markdown",
   "metadata": {},
   "source": [
    "#### 위 명령어를 실행하면 다양한 질문을 만나게 됩니다.\n",
    "- 보안설정: `y` $\\to$ `y` $\\to$ `n` $\\to$ `y` $\\to$ `y` 순으로 입력하겠습니다."
   ]
  },
  {
   "cell_type": "markdown",
   "metadata": {},
   "source": [
    "### 첫번째 질문"
   ]
  },
  {
   "cell_type": "markdown",
   "metadata": {},
   "source": [
    "```bash\n",
    "Securing the MySQL server deployment.\n",
    "\n",
    "Enter password for user root:\n",
    "\n",
    "VALIDATE PASSWORD COMPONENT can be used to test passwords\n",
    "and improve security. It checks the strength of password\n",
    "and allows the users to set only those passwords which are\n",
    "secure enough. Would you like to setup VALIDATE PASSWORD component?\n",
    "\n",
    "Press y|Y for Yes, any other key for No: y\n",
    "```\n",
    "\n",
    "- 패스워드 보안성 강화를 위해 패스워드 규칙을 통과한 강력한 패스워드만 인정\n",
    "- 예를 들어 다음 사항을 강력히 준수하는 패스워드만 허락하는 기능\n",
    "    - 대소문자 반드시 섞어서 만들기\n",
    "    - 특수문자 반드시 들어갈 것\n",
    "    - 숫자도 반드시 포함\n",
    "    - 8글자 이상일 것 등등\n",
    "- 클라우드 DB 서버이므로 보안 확보를 위해 `y`를 선택합니다.\n",
    "- 여러분이 회사에사 근무하는 경우라면 `y` (Yes)를 선택해야 합니다.\n",
    "- 보안이 중요한 데이터베이스를 운영해야 한다면 항상 `y` (Yes)를 선택해야 합니다."
   ]
  },
  {
   "cell_type": "markdown",
   "metadata": {},
   "source": [
    "```bash\n",
    "There are three levels of password validation policy:\n",
    "\n",
    "LOW    Length >= 8\n",
    "MEDIUM Length >= 8, numeric, mixed case, and special characters\n",
    "STRONG Length >= 8, numeric, mixed case, special characters and dictionary file\n",
    "\n",
    "Please enter 0 = LOW, 1 = MEDIUM and 2 = STRONG: 1\n",
    "```\n",
    "- 1단계 보안을 선택하겠습니다. (8글자 이상, 대소문자 포함, 특수문자 포함)"
   ]
  },
  {
   "cell_type": "markdown",
   "metadata": {},
   "source": [
    "```bash\n",
    "Estimated strength of the password: 50\n",
    "Change the password for root ? ((Press y|Y for Yes, any other key for No) : n\n",
    "```\n",
    "- 1단계 기준 비밀번호 강도가 나옵니다. 바꾸고 싶으면 `y`, 그냥 쓰려면 `n`"
   ]
  },
  {
   "cell_type": "markdown",
   "metadata": {},
   "source": [
    "### 두번째 질문"
   ]
  },
  {
   "cell_type": "markdown",
   "metadata": {},
   "source": [
    "```bash\n",
    "Remove anonymous users? (Press y|Y for Yes, any other key for No) : y\n",
    "Success.\n",
    "```\n",
    "- 익명 사용자를 지울까요? \n",
    "- 우리는 깔끔하게 지울겁니다.^^"
   ]
  },
  {
   "cell_type": "markdown",
   "metadata": {},
   "source": [
    "### 세번째 질문"
   ]
  },
  {
   "cell_type": "markdown",
   "metadata": {},
   "source": [
    "```bash\n",
    "Disallow root login remotely? (Press y|Y for Yes, any other key for No) : n\n",
    "     ... skipping.\n",
    "    By default, MySQL comes with a database named 'test' that\n",
    "    anyone can access. This is also intended only for testing,\n",
    "    and should be removed before moving into a production\n",
    "    environment.\n",
    "```\n",
    "- 외부 접속을 차단할까요?\n",
    "- 우리는 항상 외부에서 서버로 접속을 해야 하므로 '아니오' n 선택해야 합니다."
   ]
  },
  {
   "cell_type": "markdown",
   "metadata": {},
   "source": [
    "### 네번째 질문"
   ]
  },
  {
   "cell_type": "markdown",
   "metadata": {},
   "source": [
    "```bash\n",
    "Remove test database and access to it? (Press y|Y for Yes, any other key for No) : y\n",
    "     - Dropping test database...\n",
    "    Success.\n",
    "\n",
    "     - Removing privileges on test database...\n",
    "    Success.\n",
    "\n",
    "    Reloading the privilege tables will ensure that all changes\n",
    "    made so far will take effect immediately.\n",
    "```\n",
    "- 테스트용 데이터베이스를 지울까요?\n",
    "- 우리는 지우겠습니다. `y` 입력 후 엔터"
   ]
  },
  {
   "cell_type": "markdown",
   "metadata": {},
   "source": [
    "### 다섯번째 질문"
   ]
  },
  {
   "cell_type": "markdown",
   "metadata": {},
   "source": [
    "```bash\n",
    "Reload privilege tables now? (Press y|Y for Yes, any other key for No) : y\n",
    "    Success.\n",
    "    All done! \n",
    "ubuntu@ip-172-31-42-168:~$ \n",
    "```\n",
    "- 지금 변경한 설정을 적용할까요? 우리는 Yes(`y`) 입니다."
   ]
  },
  {
   "cell_type": "markdown",
   "metadata": {},
   "source": [
    "<hr>"
   ]
  },
  {
   "cell_type": "markdown",
   "metadata": {},
   "source": [
    "## 완전삭제 방법 (설치하다 자꾸 에러가 날 경우)\n",
    "- 설치가 이상할 경우 $\\to$  완전삭제 후 재설치를 시도해 봅니다.\n",
    "- 완전삭제 설치: 아래 명령어를 순서대로 실행합니다.\n",
    "- 참고 블로그: https://askubuntu.com/questions/172514/how-do-i-uninstall-mysql\n",
    "    \n",
    "    \n",
    "- mysql 서버 작동 중지\n",
    "```bash\n",
    "$ sudo systemctl stop mysql \n",
    "```\n",
    "\n",
    "- mysql과 관련된 모든 패키지 완전 삭제\n",
    "```bash\n",
    "$ sudo apt purge mysql-server mysql-client mysql-common mysql-server-core-* mysql-client-core-*\n",
    "```\n",
    "\n",
    "    \n",
    "- mysql 설정파일 및 데이터 완전 삭제, 만약 설치 시 위치를 변경했다면 `/var/lib/mysql` 경로를 해당 경로로 변경하여 명령어 수행\n",
    "```bash\n",
    "$ sudo rm -rf /etc/mysql /var/lib/mysql\n",
    "```\n",
    "    \n",
    "    \n",
    "- 불필요한 패키지 삭제\n",
    "```bash\n",
    "$ sudo apt autoremove\n",
    "```\n",
    "    \n",
    "- mysql 작동과 관련하여 캐쉬된 데이터 삭제\n",
    "```bash\n",
    "$ sudo apt autoclean\n",
    "```"
   ]
  },
  {
   "cell_type": "markdown",
   "metadata": {},
   "source": [
    "<hr>"
   ]
  },
  {
   "cell_type": "markdown",
   "metadata": {},
   "source": [
    "## 외부 접속 허용\n",
    "\n",
    "\n",
    "- 현재는 서버에 mysql을 설치한 상태 (아마존 클라우드 서버에 설치한 상황)\n",
    "\n",
    "\n",
    "- 여러분의 컴퓨터에서 접속하기 위해서는 접속환경을 설정해줘야 합니다.\n",
    "\n",
    "    - mysql 설정파일 bind-address = 0.0.0.0 으로 수정 \n",
    "        - 주의: 파일 이름은 `mysql.cnf`가 아니라 `mysqld.cnf` 입니다. \n",
    "\n",
    "            -`d` 글자를 빼먹지 마세요\n",
    "\n",
    "        ```bash\n",
    "        $ sudo vi /etc/mysql/mysql.conf.d/mysqld.cnf\n",
    "        ```\n",
    "        \n",
    "        \n",
    "        - 디폴트 설정 `bind-address = 127.0.0.1` --> 로컬호스트(즉, AWS에 접속한 상태)에서만 접속 가능\n",
    "        \n",
    "        \n",
    "        - 인터넷과 연결된 환경에서 접속 가능하도록 아래와 같이 변경\n",
    "             `bind-address = 0.0.0.0` "
   ]
  },
  {
   "cell_type": "markdown",
   "metadata": {},
   "source": [
    "### 설정 파일을 변경했으므로 재시작으로 설정 적용\n",
    "```bash\n",
    "$ sudo systemctl restart mysql.service\n",
    "$ sudo systemctl status mysql.service\n",
    "```       "
   ]
  },
  {
   "cell_type": "markdown",
   "metadata": {},
   "source": [
    "## 아마존 서버(AWS)의 3306 포트 활성화 (AWS 웹 콘솔에서 설정)\n",
    "- mysql 기본 포트: 3306\n",
    "- AWS에서 인가를 해줘야 함\n",
    "    - 규칙추가 \n",
    "    - 유형: MYSQL/Aurora\n",
    "    - 프로토콜: TCP\n",
    "    - 포트범위: 3366\n",
    "    - 소스: 0.0.0.0/0\n",
    "    - 설명: 여러분이 나중에 찾기 쉬운 이름 붙여주기"
   ]
  },
  {
   "cell_type": "markdown",
   "metadata": {},
   "source": [
    "<hr>"
   ]
  },
  {
   "cell_type": "markdown",
   "metadata": {},
   "source": [
    "## 자신의 컴퓨터에서 AWS로 원격접속\n",
    "\n",
    "```bash\n",
    "\n",
    "$ mysql -u root -p\n",
    "\n",
    "또는\n",
    "\n",
    "$ mysql -u '여러분 아이디' -p\n",
    "```\n",
    "\n",
    "\n",
    "\n",
    "- 데이터베이스 수업 시간에 배운 쿼리 명령어를 행복하게 활용\n",
    "    - 지금 만드는 `test` 데이터베이스는 나중에 사용할 겁니다.\n",
    "```bash\n",
    "mysql> show databases;\n",
    "mysql> create database test;\n",
    "mysql> show databases;\n",
    "```"
   ]
  },
  {
   "cell_type": "markdown",
   "metadata": {},
   "source": [
    "<hr>"
   ]
  },
  {
   "cell_type": "markdown",
   "metadata": {},
   "source": [
    "## 데이터베이스 관리 애플리케이션\n",
    "- Database를 보다 편리하게 관리하게 해주는 응용프로그램\n",
    "\n",
    "\n",
    "- windows\n",
    "    - heidiSQL\n",
    "    - https://www.heidisql.com\n",
    "    - 대부분의 학생이 윈도우일 것으로 예상\n",
    "    - 우리는 윈도우 컴퓨터에서 AWS로 접속하는 상황을 가정합니다.\n",
    "    \n",
    "    \n",
    "- mac\n",
    "    - Sequel Pro\n",
    "    - https://www.sequelpro.com/\n",
    "\n",
    "\n",
    "- linux\n",
    "    - mysql workbench\n",
    "    - https://www.mysql.com/products/workbench/"
   ]
  },
  {
   "cell_type": "markdown",
   "metadata": {},
   "source": [
    "<hr>"
   ]
  },
  {
   "cell_type": "markdown",
   "metadata": {},
   "source": [
    "# HeidiSQL 설정"
   ]
  },
  {
   "cell_type": "markdown",
   "metadata": {},
   "source": [
    "## HeidiSQL 설정"
   ]
  },
  {
   "cell_type": "markdown",
   "metadata": {},
   "source": [
    "### 로컬 머신에서 DB Session 관리\n",
    "    - 네트워크 유형: MariaDB or MySQL (TCP/IP)\n",
    "    - Library: libmariadb.dll 선택\n",
    "    - 호스트명 / IP: 127.0.0.1\n",
    "    - 사용자: root\n",
    "    - 암호: mysql 설정 시 지정한 암호\n",
    "    - 포트: 3306\n",
    "\n",
    "    <img src=\"heidisql_local_setup.png\" width=\"700\">"
   ]
  },
  {
   "cell_type": "markdown",
   "metadata": {},
   "source": [
    "### 원격 서버 접속 (AWS EC2 접속)"
   ]
  },
  {
   "cell_type": "markdown",
   "metadata": {},
   "source": [
    "#### `설정` 탭\n",
    "- 네트워크 유형: MariaDB or MySQL (SSH tunnel) \n",
    "- Library: libmariadb.dll\n",
    "- 호스트/IP: 127.0.0.1\n",
    "- 사용자: 아마존 MySQL에서 생성한 아이디(`root` 또는 `추가한 아이디(예: test`)\n",
    "- 암호: 아마존 MySQL에서 생성한 비밀번호\n",
    "<img src=\"heidisql_config_tab.png\" width=\"700\">"
   ]
  },
  {
   "cell_type": "markdown",
   "metadata": {},
   "source": [
    "#### `SSH 터널` 탭\n",
    "- SSH 실행 파일: `plink.exe`\n",
    "- SSH 호스트 + 포트: AWS public IP (포트 번호는 `22`)\n",
    "- 사용자 이름: ubuntu\n",
    "- 암호: 우리는 ppk 파일로 secure 접속하므로 빈칸으로 남겨둠 \n",
    "    - SSH 접속 암호를 입력해도 무방함\n",
    "<img src=\"heidisql_ssh_tunnel_tab.png\" width=\"700\">"
   ]
  },
  {
   "cell_type": "markdown",
   "metadata": {},
   "source": [
    "### 사용자키 .ppk 생성\n",
    "- 기존에 사용하던 .pem키로 접속 불가, .ppk 파일을 만들어야 함.\n",
    "    - puTTYgen 다운로드\n",
    "        - https://www.chiark.greenend.org.uk/~sgtatham/putty/latest.html\n",
    "    - Windows: .pem 파일을 .ppk 파일로 변환\n",
    "        - 참고 사이트\n",
    "            - https://aws.amazon.com/ko/premiumsupport/knowledge-center/convert-pem-file-into-ppk/\n",
    "            - https://docs.aws.amazon.com/AWSEC2/latest/UserGuide/putty.html#putty-private-key\n",
    "        - PuTTYgen을 시작\n",
    "        - Actions에서 Load를 선택한 다음 .ppk 파일로 이동하십시오.\n",
    "        - .ppk 파일을 선택하고 Open을 선택\n",
    "        - (선택 사항) Key passphrase를 입력하십시오. Confirm passphrase에 암호를 다시 입력하십시오.\n",
    "            - 참고: 암호는 필수는 아니지만 프라이빗 키를 무단 사용으로부터 보호하기 위한 보안 수단으로 지정해야 합니다. 암호를 사용하면 인스턴스에 로그인하거나 파일을 인스턴스에 복사하기 위해 사용자 개입이 필요하므로 자동화가 어려워집니다.\n",
    "            - 참고: 우리는 별도 암호를 지정하지 않고 진행할게요^^\n",
    "            - 참고: 암호를 입력하지 않은 경우 PuTTYgen 경고가 표시됩니다. Yes를 선택\n",
    "        - 파일 이름을 지정 --> filename.ppk\n",
    "        - Save를 선택"
   ]
  },
  {
   "cell_type": "markdown",
   "metadata": {},
   "source": [
    "#### HeidiSQL 비밀키 생성\n",
    "- 개인 키 파일: PuTTYgen으로 생성한 $\\to$ `filename.ppk` 파일 불러오기\n",
    "    - PuTTYgen 다운로드: https://www.chiark.greenend.org.uk/~sgtatham/putty/latest.html\n",
    "<img src=\"heidisql_puttygen_download.png\" width=\"400\">\n",
    "    - PuTTYgen 실행하여 `.ppk` 파일 생성\n",
    "        - 불러오기(`Load`): `.pem` 파일을 업로드\n",
    "        - 저장하기(`Save private key`): `.pem` 파일 이름과 동일 $\\to$ 확장자만 `.ppk`로 저장\n",
    "<img src=\"heidisql_puttygen_generate_ppk_file.png\" width=\"700\">\n",
    "- `.ppk` 파일 불러오기\n",
    "- 로컬포트: 3306 이외의 사용하지 않는 포트, 디폴트 3307을 그대로 사용해도 문제 없음\n",
    "- 저장 $\\to$ 연결\n"
   ]
  },
  {
   "cell_type": "markdown",
   "metadata": {},
   "source": [
    "<hr>"
   ]
  },
  {
   "cell_type": "markdown",
   "metadata": {},
   "source": [
    "## 샘플데이터 확보 $\\to$ 실습용 가지고 놀기\n",
    "- https://dev.mysql.com/doc/index-other.html\n",
    "- world database zip 파일 다운로드\n",
    "\n",
    "\n",
    "\n",
    "- world.sql 파일을 데이터베이스에 업로드 하는 방법 1\n",
    "    - database management app을 이용하여 world 데이터 베이스 생성    \n",
    "    - 파일을 Drag & Drop 하고, 전체명령 실행\n",
    "        - HeidiSQL의 경우: \n",
    "            - 파일 $\\to$ SQL 파일 불러오기 \n",
    "            - sql 탭에서 오른클릭 $\\to$ 실행 클릭\n",
    "            - 서버로 업로드 됨(시간이 약간 걸릴 수 있음)\n",
    "    - 가장 간단한 방법\n",
    "\n",
    "\n",
    "- world.sql 파일을 데이터베이스에 업로드 하는 방법 2\n",
    "    - 압축 해제 후 world.sql 파일을 서버로 이동\n",
    "        - 디렉토리(database)를 하나 만든다음 ftp 프로그램을 이용하여 이동\n",
    "        - 쉘 환경에서 mkdir로 만든다음 이동해도 무방함\n",
    "        - 쉘 환경에서 아래 명령어 실행\n",
    "            ```\n",
    "            $ mysql -u root -p world < world.sql\n",
    "            ```\n",
    "- world.sql 파일을 데이터베이스에 업로드 하는 방법 3\n",
    "    - 압축 해제 후 world.sql 파일을 서버로 이동\n",
    "        - 디렉토리(database)를 하나 만든다음 ftp 프로그램을 이용하여 이동\n",
    "        - 쉘 환경에서 mkdir로 만든다음 이동해도 무방함\n",
    "        - 쉘 환경에서 아래 명령어 실행\n",
    "            ```\n",
    "            sql> create database world;\n",
    "            sql> use world;\n",
    "            sql> source world.sql\n",
    "            ```"
   ]
  },
  {
   "cell_type": "code",
   "execution_count": null,
   "metadata": {},
   "outputs": [],
   "source": []
  }
 ],
 "metadata": {
  "kernelspec": {
   "display_name": "yoongsulgu",
   "language": "python",
   "name": "python3"
  },
  "language_info": {
   "codemirror_mode": {
    "name": "ipython",
    "version": 3
   },
   "file_extension": ".py",
   "mimetype": "text/x-python",
   "name": "python",
   "nbconvert_exporter": "python",
   "pygments_lexer": "ipython3",
   "version": "3.10.12"
  },
  "license": "Copyright 2019. Doo Jin Park. All rights reserved."
 },
 "nbformat": 4,
 "nbformat_minor": 2
}
